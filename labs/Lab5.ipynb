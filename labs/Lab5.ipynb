{
 "cells": [
  {
   "cell_type": "markdown",
   "metadata": {},
   "source": [
    "# Lab 5\n",
    "\n",
    "## Ensemble Learning\n",
    "\n",
    "For this lab, we will implement a bagging and boosting. Due to the increased simplicity when implementing regression with boosted trees over classification, we will stick to regression for this lab. Classification is a straightforward extension.\n",
    "\n",
    "There are two main exercises and questions in the lab. \n",
    "\n",
    "**Note:** Exercises can be autograded and count towards your lab and assignment score. Problems are graded for participation."
   ]
  },
  {
   "cell_type": "code",
   "execution_count": 1,
   "metadata": {},
   "outputs": [],
   "source": [
    "from pathlib import Path\n",
    "home = str(Path.home()) # all other paths are relative to this path. change to something else if this is not the case on your system"
   ]
  },
  {
   "cell_type": "code",
   "execution_count": 2,
   "metadata": {},
   "outputs": [],
   "source": [
    "%load_ext autoreload\n",
    "%autoreload 2\n",
    "\n",
    "# make sure your run the cell above before running this\n",
    "import Lab5_helper"
   ]
  },
  {
   "cell_type": "markdown",
   "metadata": {},
   "source": [
    "For developing this lab, we can our three gene dataset. We will try to predict the value of ESR1 from the other two genes."
   ]
  },
  {
   "cell_type": "code",
   "execution_count": 3,
   "metadata": {},
   "outputs": [
    {
     "data": {
      "text/html": [
       "<div>\n",
       "<style scoped>\n",
       "    .dataframe tbody tr th:only-of-type {\n",
       "        vertical-align: middle;\n",
       "    }\n",
       "\n",
       "    .dataframe tbody tr th {\n",
       "        vertical-align: top;\n",
       "    }\n",
       "\n",
       "    .dataframe thead th {\n",
       "        text-align: right;\n",
       "    }\n",
       "</style>\n",
       "<table border=\"1\" class=\"dataframe\">\n",
       "  <thead>\n",
       "    <tr style=\"text-align: right;\">\n",
       "      <th></th>\n",
       "      <th>ESR1</th>\n",
       "      <th>AURKA</th>\n",
       "      <th>ERBB2</th>\n",
       "      <th>Subtype</th>\n",
       "    </tr>\n",
       "  </thead>\n",
       "  <tbody>\n",
       "    <tr>\n",
       "      <th>0</th>\n",
       "      <td>0.804501</td>\n",
       "      <td>0.264356</td>\n",
       "      <td>6.941677</td>\n",
       "      <td>LumA</td>\n",
       "    </tr>\n",
       "    <tr>\n",
       "      <th>1</th>\n",
       "      <td>0.163597</td>\n",
       "      <td>0.589052</td>\n",
       "      <td>6.551394</td>\n",
       "      <td>Basal</td>\n",
       "    </tr>\n",
       "    <tr>\n",
       "      <th>2</th>\n",
       "      <td>0.569347</td>\n",
       "      <td>0.189531</td>\n",
       "      <td>7.056530</td>\n",
       "      <td>LumA</td>\n",
       "    </tr>\n",
       "    <tr>\n",
       "      <th>3</th>\n",
       "      <td>0.847584</td>\n",
       "      <td>0.264849</td>\n",
       "      <td>7.028625</td>\n",
       "      <td>LumB</td>\n",
       "    </tr>\n",
       "    <tr>\n",
       "      <th>4</th>\n",
       "      <td>0.442474</td>\n",
       "      <td>0.526040</td>\n",
       "      <td>8.783604</td>\n",
       "      <td>LumB</td>\n",
       "    </tr>\n",
       "  </tbody>\n",
       "</table>\n",
       "</div>"
      ],
      "text/plain": [
       "       ESR1     AURKA     ERBB2 Subtype\n",
       "0  0.804501  0.264356  6.941677    LumA\n",
       "1  0.163597  0.589052  6.551394   Basal\n",
       "2  0.569347  0.189531  7.056530    LumA\n",
       "3  0.847584  0.264849  7.028625    LumB\n",
       "4  0.442474  0.526040  8.783604    LumB"
      ]
     },
     "execution_count": 3,
     "metadata": {},
     "output_type": "execute_result"
    }
   ],
   "source": [
    "import pandas as pd\n",
    "import numpy as np\n",
    "\n",
    "df = pd.read_csv(\n",
    "    f\"{home}/csc-466-student/data/breast_cancer_three_gene.csv\",index_col=0\n",
    ")\n",
    "df.head()"
   ]
  },
  {
   "cell_type": "markdown",
   "metadata": {},
   "source": [
    "We need to do some simple preprocessing before our neural network can deal with this data. "
   ]
  },
  {
   "cell_type": "code",
   "execution_count": 4,
   "metadata": {},
   "outputs": [
    {
     "data": {
      "text/html": [
       "<div>\n",
       "<style scoped>\n",
       "    .dataframe tbody tr th:only-of-type {\n",
       "        vertical-align: middle;\n",
       "    }\n",
       "\n",
       "    .dataframe tbody tr th {\n",
       "        vertical-align: top;\n",
       "    }\n",
       "\n",
       "    .dataframe thead th {\n",
       "        text-align: right;\n",
       "    }\n",
       "</style>\n",
       "<table border=\"1\" class=\"dataframe\">\n",
       "  <thead>\n",
       "    <tr style=\"text-align: right;\">\n",
       "      <th></th>\n",
       "      <th>ESR1</th>\n",
       "      <th>AURKA</th>\n",
       "      <th>ERBB2</th>\n",
       "    </tr>\n",
       "  </thead>\n",
       "  <tbody>\n",
       "    <tr>\n",
       "      <th>0</th>\n",
       "      <td>0.804501</td>\n",
       "      <td>0.264356</td>\n",
       "      <td>6.941677</td>\n",
       "    </tr>\n",
       "    <tr>\n",
       "      <th>1</th>\n",
       "      <td>0.163597</td>\n",
       "      <td>0.589052</td>\n",
       "      <td>6.551394</td>\n",
       "    </tr>\n",
       "    <tr>\n",
       "      <th>2</th>\n",
       "      <td>0.569347</td>\n",
       "      <td>0.189531</td>\n",
       "      <td>7.056530</td>\n",
       "    </tr>\n",
       "    <tr>\n",
       "      <th>3</th>\n",
       "      <td>0.847584</td>\n",
       "      <td>0.264849</td>\n",
       "      <td>7.028625</td>\n",
       "    </tr>\n",
       "    <tr>\n",
       "      <th>4</th>\n",
       "      <td>0.442474</td>\n",
       "      <td>0.526040</td>\n",
       "      <td>8.783604</td>\n",
       "    </tr>\n",
       "    <tr>\n",
       "      <th>...</th>\n",
       "      <td>...</td>\n",
       "      <td>...</td>\n",
       "      <td>...</td>\n",
       "    </tr>\n",
       "    <tr>\n",
       "      <th>2128</th>\n",
       "      <td>0.635455</td>\n",
       "      <td>0.143977</td>\n",
       "      <td>7.159443</td>\n",
       "    </tr>\n",
       "    <tr>\n",
       "      <th>2129</th>\n",
       "      <td>0.632849</td>\n",
       "      <td>0.258203</td>\n",
       "      <td>7.145417</td>\n",
       "    </tr>\n",
       "    <tr>\n",
       "      <th>2130</th>\n",
       "      <td>0.662344</td>\n",
       "      <td>0.243027</td>\n",
       "      <td>6.936228</td>\n",
       "    </tr>\n",
       "    <tr>\n",
       "      <th>2131</th>\n",
       "      <td>0.086119</td>\n",
       "      <td>0.479997</td>\n",
       "      <td>7.671082</td>\n",
       "    </tr>\n",
       "    <tr>\n",
       "      <th>2132</th>\n",
       "      <td>0.684853</td>\n",
       "      <td>0.295967</td>\n",
       "      <td>7.045126</td>\n",
       "    </tr>\n",
       "  </tbody>\n",
       "</table>\n",
       "<p>2133 rows × 3 columns</p>\n",
       "</div>"
      ],
      "text/plain": [
       "          ESR1     AURKA     ERBB2\n",
       "0     0.804501  0.264356  6.941677\n",
       "1     0.163597  0.589052  6.551394\n",
       "2     0.569347  0.189531  7.056530\n",
       "3     0.847584  0.264849  7.028625\n",
       "4     0.442474  0.526040  8.783604\n",
       "...        ...       ...       ...\n",
       "2128  0.635455  0.143977  7.159443\n",
       "2129  0.632849  0.258203  7.145417\n",
       "2130  0.662344  0.243027  6.936228\n",
       "2131  0.086119  0.479997  7.671082\n",
       "2132  0.684853  0.295967  7.045126\n",
       "\n",
       "[2133 rows x 3 columns]"
      ]
     },
     "execution_count": 4,
     "metadata": {},
     "output_type": "execute_result"
    }
   ],
   "source": [
    "X = df.drop('Subtype',axis=1)#.dropna()\n",
    "X"
   ]
  },
  {
   "cell_type": "code",
   "execution_count": 5,
   "metadata": {},
   "outputs": [
    {
     "data": {
      "text/html": [
       "<div>\n",
       "<style scoped>\n",
       "    .dataframe tbody tr th:only-of-type {\n",
       "        vertical-align: middle;\n",
       "    }\n",
       "\n",
       "    .dataframe tbody tr th {\n",
       "        vertical-align: top;\n",
       "    }\n",
       "\n",
       "    .dataframe thead th {\n",
       "        text-align: right;\n",
       "    }\n",
       "</style>\n",
       "<table border=\"1\" class=\"dataframe\">\n",
       "  <thead>\n",
       "    <tr style=\"text-align: right;\">\n",
       "      <th></th>\n",
       "      <th>AURKA</th>\n",
       "      <th>ERBB2</th>\n",
       "    </tr>\n",
       "  </thead>\n",
       "  <tbody>\n",
       "    <tr>\n",
       "      <th>0</th>\n",
       "      <td>0.264356</td>\n",
       "      <td>6.941677</td>\n",
       "    </tr>\n",
       "    <tr>\n",
       "      <th>1</th>\n",
       "      <td>0.589052</td>\n",
       "      <td>6.551394</td>\n",
       "    </tr>\n",
       "    <tr>\n",
       "      <th>2</th>\n",
       "      <td>0.189531</td>\n",
       "      <td>7.056530</td>\n",
       "    </tr>\n",
       "    <tr>\n",
       "      <th>3</th>\n",
       "      <td>0.264849</td>\n",
       "      <td>7.028625</td>\n",
       "    </tr>\n",
       "    <tr>\n",
       "      <th>4</th>\n",
       "      <td>0.526040</td>\n",
       "      <td>8.783604</td>\n",
       "    </tr>\n",
       "    <tr>\n",
       "      <th>...</th>\n",
       "      <td>...</td>\n",
       "      <td>...</td>\n",
       "    </tr>\n",
       "    <tr>\n",
       "      <th>2128</th>\n",
       "      <td>0.143977</td>\n",
       "      <td>7.159443</td>\n",
       "    </tr>\n",
       "    <tr>\n",
       "      <th>2129</th>\n",
       "      <td>0.258203</td>\n",
       "      <td>7.145417</td>\n",
       "    </tr>\n",
       "    <tr>\n",
       "      <th>2130</th>\n",
       "      <td>0.243027</td>\n",
       "      <td>6.936228</td>\n",
       "    </tr>\n",
       "    <tr>\n",
       "      <th>2131</th>\n",
       "      <td>0.479997</td>\n",
       "      <td>7.671082</td>\n",
       "    </tr>\n",
       "    <tr>\n",
       "      <th>2132</th>\n",
       "      <td>0.295967</td>\n",
       "      <td>7.045126</td>\n",
       "    </tr>\n",
       "  </tbody>\n",
       "</table>\n",
       "<p>2133 rows × 2 columns</p>\n",
       "</div>"
      ],
      "text/plain": [
       "         AURKA     ERBB2\n",
       "0     0.264356  6.941677\n",
       "1     0.589052  6.551394\n",
       "2     0.189531  7.056530\n",
       "3     0.264849  7.028625\n",
       "4     0.526040  8.783604\n",
       "...        ...       ...\n",
       "2128  0.143977  7.159443\n",
       "2129  0.258203  7.145417\n",
       "2130  0.243027  6.936228\n",
       "2131  0.479997  7.671082\n",
       "2132  0.295967  7.045126\n",
       "\n",
       "[2133 rows x 2 columns]"
      ]
     },
     "execution_count": 5,
     "metadata": {},
     "output_type": "execute_result"
    }
   ],
   "source": [
    "t = X['ESR1']\n",
    "X2 = pd.get_dummies(X.drop('ESR1',axis=1))\n",
    "X2"
   ]
  },
  {
   "cell_type": "markdown",
   "metadata": {},
   "source": [
    "#### Exercise 1\n",
    "Implement bagging using regression trees as the (weak) individual learner. You should be able to reach a similar accuray to my implementation."
   ]
  },
  {
   "cell_type": "code",
   "execution_count": 6,
   "metadata": {},
   "outputs": [
    {
     "name": "stdout",
     "output_type": "stream",
     "text": [
      "Our prediction for Fare is off by 0.16748799642382256\n"
     ]
    }
   ],
   "source": [
    "import numpy as np\n",
    "learner = Lab5_helper.get_learner(X2,t) # Here is how to get a single weak learner to help build your ensembles\n",
    "y = learner.predict(X2) # As usual, here is how to get predictions\n",
    "RMSE = np.sqrt(((y-t)**2).sum()/len(t)) # Here is a sample calculation of the root mean squared error\n",
    "print('Our prediction for Fare is off by',RMSE)"
   ]
  },
  {
   "cell_type": "code",
   "execution_count": 7,
   "metadata": {},
   "outputs": [
    {
     "data": {
      "text/plain": [
       "0.22806435188341334"
      ]
     },
     "execution_count": 7,
     "metadata": {},
     "output_type": "execute_result"
    }
   ],
   "source": [
    "from sklearn.model_selection import train_test_split\n",
    "\n",
    "ntrials = 50\n",
    "# when you are debugging you will want to lower this number\n",
    "RMSEs = []\n",
    "for trial in range(ntrials):\n",
    "    X_train, X_test, t_train, t_test = train_test_split(X2, t, test_size=0.25,random_state=trial)\n",
    "    trees = Lab5_helper.make_trees(X_train,t_train,ntrees=100)\n",
    "    y = Lab5_helper.make_prediction(trees,X_test)\n",
    "    RMSEs.append(np.sqrt(((y-t_test)**2).sum()/len(t_test)))\n",
    "np.median(RMSEs)"
   ]
  },
  {
   "cell_type": "markdown",
   "metadata": {},
   "source": [
    "**Problem 1:** How do we know this is behaving as expected when there is so much randomness? This is a very similar to a question about how can we compare two algorithms? Let's examine this by changing the number of trees in bagging between 25 and 100. Then we will see if we can detect a difference.\n",
    "\n",
    "**Your answer here**"
   ]
  },
  {
   "cell_type": "code",
   "execution_count": 8,
   "metadata": {},
   "outputs": [],
   "source": [
    "results = pd.DataFrame({'RMSE':RMSEs,'Method':'Bagging (ntrees=100)'})\n",
    "RMSEs = []\n",
    "for trial in range(ntrials):\n",
    "    X_train, X_test, t_train, t_test = train_test_split(X2, t, test_size=0.25,random_state=trial)\n",
    "    trees = Lab5_helper.make_trees(X_train,t_train,ntrees=25)\n",
    "    y = Lab5_helper.make_prediction(trees,X_test)\n",
    "    RMSEs.append(np.sqrt(((y-t_test)**2).sum()/len(t_test)))\n",
    "results2 = pd.DataFrame({'RMSE':RMSEs,'Method':'Bagging (ntrees=25)'})\n",
    "results = results.append(results2)"
   ]
  },
  {
   "cell_type": "code",
   "execution_count": 9,
   "metadata": {},
   "outputs": [
    {
     "data": {
      "text/plain": [
       "Method\n",
       "Bagging (ntrees=100)    0.228064\n",
       "Bagging (ntrees=25)     0.229305\n",
       "Name: RMSE, dtype: float64"
      ]
     },
     "execution_count": 9,
     "metadata": {},
     "output_type": "execute_result"
    }
   ],
   "source": [
    "results.groupby('Method')['RMSE'].median()"
   ]
  },
  {
   "cell_type": "code",
   "execution_count": 10,
   "metadata": {},
   "outputs": [
    {
     "data": {
      "text/plain": [
       "Method\n",
       "Bagging (ntrees=100)    0.228545\n",
       "Bagging (ntrees=25)     0.230080\n",
       "Name: RMSE, dtype: float64"
      ]
     },
     "execution_count": 10,
     "metadata": {},
     "output_type": "execute_result"
    }
   ],
   "source": [
    "results.groupby('Method')['RMSE'].mean()"
   ]
  },
  {
   "cell_type": "markdown",
   "metadata": {},
   "source": [
    "This looks promising! But what do the statistics tell us?"
   ]
  },
  {
   "cell_type": "code",
   "execution_count": 11,
   "metadata": {},
   "outputs": [
    {
     "data": {
      "text/html": [
       "\n",
       "<div id=\"altair-viz-5a9a47820a4b45a3a5e94cd176b2b2c7\"></div>\n",
       "<script type=\"text/javascript\">\n",
       "  (function(spec, embedOpt){\n",
       "    let outputDiv = document.currentScript.previousElementSibling;\n",
       "    if (outputDiv.id !== \"altair-viz-5a9a47820a4b45a3a5e94cd176b2b2c7\") {\n",
       "      outputDiv = document.getElementById(\"altair-viz-5a9a47820a4b45a3a5e94cd176b2b2c7\");\n",
       "    }\n",
       "    const paths = {\n",
       "      \"vega\": \"https://cdn.jsdelivr.net/npm//vega@5?noext\",\n",
       "      \"vega-lib\": \"https://cdn.jsdelivr.net/npm//vega-lib?noext\",\n",
       "      \"vega-lite\": \"https://cdn.jsdelivr.net/npm//vega-lite@4.8.1?noext\",\n",
       "      \"vega-embed\": \"https://cdn.jsdelivr.net/npm//vega-embed@6?noext\",\n",
       "    };\n",
       "\n",
       "    function loadScript(lib) {\n",
       "      return new Promise(function(resolve, reject) {\n",
       "        var s = document.createElement('script');\n",
       "        s.src = paths[lib];\n",
       "        s.async = true;\n",
       "        s.onload = () => resolve(paths[lib]);\n",
       "        s.onerror = () => reject(`Error loading script: ${paths[lib]}`);\n",
       "        document.getElementsByTagName(\"head\")[0].appendChild(s);\n",
       "      });\n",
       "    }\n",
       "\n",
       "    function showError(err) {\n",
       "      outputDiv.innerHTML = `<div class=\"error\" style=\"color:red;\">${err}</div>`;\n",
       "      throw err;\n",
       "    }\n",
       "\n",
       "    function displayChart(vegaEmbed) {\n",
       "      vegaEmbed(outputDiv, spec, embedOpt)\n",
       "        .catch(err => showError(`Javascript Error: ${err.message}<br>This usually means there's a typo in your chart specification. See the javascript console for the full traceback.`));\n",
       "    }\n",
       "\n",
       "    if(typeof define === \"function\" && define.amd) {\n",
       "      requirejs.config({paths});\n",
       "      require([\"vega-embed\"], displayChart, err => showError(`Error loading script: ${err.message}`));\n",
       "    } else if (typeof vegaEmbed === \"function\") {\n",
       "      displayChart(vegaEmbed);\n",
       "    } else {\n",
       "      loadScript(\"vega\")\n",
       "        .then(() => loadScript(\"vega-lite\"))\n",
       "        .then(() => loadScript(\"vega-embed\"))\n",
       "        .catch(showError)\n",
       "        .then(() => displayChart(vegaEmbed));\n",
       "    }\n",
       "  })({\"config\": {\"view\": {\"continuousWidth\": 400, \"continuousHeight\": 300}}, \"data\": {\"name\": \"data-00c290b3b4cf3e219b5363841e67b70b\"}, \"mark\": \"boxplot\", \"encoding\": {\"x\": {\"type\": \"nominal\", \"field\": \"Method\"}, \"y\": {\"type\": \"quantitative\", \"field\": \"RMSE\"}}, \"width\": 300, \"$schema\": \"https://vega.github.io/schema/vega-lite/v4.8.1.json\", \"datasets\": {\"data-00c290b3b4cf3e219b5363841e67b70b\": [{\"RMSE\": 0.21756838389912778, \"Method\": \"Bagging (ntrees=100)\"}, {\"RMSE\": 0.2311460608196945, \"Method\": \"Bagging (ntrees=100)\"}, {\"RMSE\": 0.22931467298732075, \"Method\": \"Bagging (ntrees=100)\"}, {\"RMSE\": 0.22301632041574607, \"Method\": \"Bagging (ntrees=100)\"}, {\"RMSE\": 0.2216701693938583, \"Method\": \"Bagging (ntrees=100)\"}, {\"RMSE\": 0.22818982381510863, \"Method\": \"Bagging (ntrees=100)\"}, {\"RMSE\": 0.23707852815681568, \"Method\": \"Bagging (ntrees=100)\"}, {\"RMSE\": 0.22490473736348562, \"Method\": \"Bagging (ntrees=100)\"}, {\"RMSE\": 0.2261325143237453, \"Method\": \"Bagging (ntrees=100)\"}, {\"RMSE\": 0.23685125499381743, \"Method\": \"Bagging (ntrees=100)\"}, {\"RMSE\": 0.2384793203161865, \"Method\": \"Bagging (ntrees=100)\"}, {\"RMSE\": 0.22488358238175268, \"Method\": \"Bagging (ntrees=100)\"}, {\"RMSE\": 0.22835884209855778, \"Method\": \"Bagging (ntrees=100)\"}, {\"RMSE\": 0.23151205163648586, \"Method\": \"Bagging (ntrees=100)\"}, {\"RMSE\": 0.22138167927698477, \"Method\": \"Bagging (ntrees=100)\"}, {\"RMSE\": 0.22607450558148154, \"Method\": \"Bagging (ntrees=100)\"}, {\"RMSE\": 0.23567473243020629, \"Method\": \"Bagging (ntrees=100)\"}, {\"RMSE\": 0.22491278111752963, \"Method\": \"Bagging (ntrees=100)\"}, {\"RMSE\": 0.22521766981473967, \"Method\": \"Bagging (ntrees=100)\"}, {\"RMSE\": 0.22079795964707172, \"Method\": \"Bagging (ntrees=100)\"}, {\"RMSE\": 0.22378645205224507, \"Method\": \"Bagging (ntrees=100)\"}, {\"RMSE\": 0.228367512529822, \"Method\": \"Bagging (ntrees=100)\"}, {\"RMSE\": 0.23260039453462195, \"Method\": \"Bagging (ntrees=100)\"}, {\"RMSE\": 0.22790519199923828, \"Method\": \"Bagging (ntrees=100)\"}, {\"RMSE\": 0.2290553962313876, \"Method\": \"Bagging (ntrees=100)\"}, {\"RMSE\": 0.23530997448308094, \"Method\": \"Bagging (ntrees=100)\"}, {\"RMSE\": 0.22286861032781813, \"Method\": \"Bagging (ntrees=100)\"}, {\"RMSE\": 0.23112233583820646, \"Method\": \"Bagging (ntrees=100)\"}, {\"RMSE\": 0.23240200828746704, \"Method\": \"Bagging (ntrees=100)\"}, {\"RMSE\": 0.2369252503547215, \"Method\": \"Bagging (ntrees=100)\"}, {\"RMSE\": 0.2347495155476939, \"Method\": \"Bagging (ntrees=100)\"}, {\"RMSE\": 0.22551946023989156, \"Method\": \"Bagging (ntrees=100)\"}, {\"RMSE\": 0.2244114471609292, \"Method\": \"Bagging (ntrees=100)\"}, {\"RMSE\": 0.22793887995171802, \"Method\": \"Bagging (ntrees=100)\"}, {\"RMSE\": 0.2189987107557393, \"Method\": \"Bagging (ntrees=100)\"}, {\"RMSE\": 0.23349436340485566, \"Method\": \"Bagging (ntrees=100)\"}, {\"RMSE\": 0.22898956393517347, \"Method\": \"Bagging (ntrees=100)\"}, {\"RMSE\": 0.2229987231148478, \"Method\": \"Bagging (ntrees=100)\"}, {\"RMSE\": 0.2260909658355149, \"Method\": \"Bagging (ntrees=100)\"}, {\"RMSE\": 0.24458285532791604, \"Method\": \"Bagging (ntrees=100)\"}, {\"RMSE\": 0.2254327926081117, \"Method\": \"Bagging (ntrees=100)\"}, {\"RMSE\": 0.2337254291380272, \"Method\": \"Bagging (ntrees=100)\"}, {\"RMSE\": 0.2270700595523271, \"Method\": \"Bagging (ntrees=100)\"}, {\"RMSE\": 0.23057030742726256, \"Method\": \"Bagging (ntrees=100)\"}, {\"RMSE\": 0.22619271610970829, \"Method\": \"Bagging (ntrees=100)\"}, {\"RMSE\": 0.23087060492977343, \"Method\": \"Bagging (ntrees=100)\"}, {\"RMSE\": 0.23987653490142696, \"Method\": \"Bagging (ntrees=100)\"}, {\"RMSE\": 0.23449963157096404, \"Method\": \"Bagging (ntrees=100)\"}, {\"RMSE\": 0.21880899074894372, \"Method\": \"Bagging (ntrees=100)\"}, {\"RMSE\": 0.21892618471400746, \"Method\": \"Bagging (ntrees=100)\"}, {\"RMSE\": 0.2200049609220623, \"Method\": \"Bagging (ntrees=25)\"}, {\"RMSE\": 0.23322261204704897, \"Method\": \"Bagging (ntrees=25)\"}, {\"RMSE\": 0.22887930450792657, \"Method\": \"Bagging (ntrees=25)\"}, {\"RMSE\": 0.22735397952060613, \"Method\": \"Bagging (ntrees=25)\"}, {\"RMSE\": 0.22442781498356956, \"Method\": \"Bagging (ntrees=25)\"}, {\"RMSE\": 0.23271357614893912, \"Method\": \"Bagging (ntrees=25)\"}, {\"RMSE\": 0.23986018061268014, \"Method\": \"Bagging (ntrees=25)\"}, {\"RMSE\": 0.22880992730156183, \"Method\": \"Bagging (ntrees=25)\"}, {\"RMSE\": 0.22973160935622908, \"Method\": \"Bagging (ntrees=25)\"}, {\"RMSE\": 0.2379829368999592, \"Method\": \"Bagging (ntrees=25)\"}, {\"RMSE\": 0.24010553919264363, \"Method\": \"Bagging (ntrees=25)\"}, {\"RMSE\": 0.22705326192927858, \"Method\": \"Bagging (ntrees=25)\"}, {\"RMSE\": 0.22984796061515855, \"Method\": \"Bagging (ntrees=25)\"}, {\"RMSE\": 0.2308993637442339, \"Method\": \"Bagging (ntrees=25)\"}, {\"RMSE\": 0.22247871756630924, \"Method\": \"Bagging (ntrees=25)\"}, {\"RMSE\": 0.2262015889860802, \"Method\": \"Bagging (ntrees=25)\"}, {\"RMSE\": 0.23999793854999132, \"Method\": \"Bagging (ntrees=25)\"}, {\"RMSE\": 0.22746402044532893, \"Method\": \"Bagging (ntrees=25)\"}, {\"RMSE\": 0.2259858228463507, \"Method\": \"Bagging (ntrees=25)\"}, {\"RMSE\": 0.22089702023598987, \"Method\": \"Bagging (ntrees=25)\"}, {\"RMSE\": 0.22618516055921392, \"Method\": \"Bagging (ntrees=25)\"}, {\"RMSE\": 0.2267998697413166, \"Method\": \"Bagging (ntrees=25)\"}, {\"RMSE\": 0.23368699506367732, \"Method\": \"Bagging (ntrees=25)\"}, {\"RMSE\": 0.22743192213947758, \"Method\": \"Bagging (ntrees=25)\"}, {\"RMSE\": 0.23096585915083467, \"Method\": \"Bagging (ntrees=25)\"}, {\"RMSE\": 0.23846552552151432, \"Method\": \"Bagging (ntrees=25)\"}, {\"RMSE\": 0.22547689917914418, \"Method\": \"Bagging (ntrees=25)\"}, {\"RMSE\": 0.23360700518990252, \"Method\": \"Bagging (ntrees=25)\"}, {\"RMSE\": 0.23329606631519006, \"Method\": \"Bagging (ntrees=25)\"}, {\"RMSE\": 0.24045006930992172, \"Method\": \"Bagging (ntrees=25)\"}, {\"RMSE\": 0.23232403478559255, \"Method\": \"Bagging (ntrees=25)\"}, {\"RMSE\": 0.22749600873225112, \"Method\": \"Bagging (ntrees=25)\"}, {\"RMSE\": 0.2221244280184175, \"Method\": \"Bagging (ntrees=25)\"}, {\"RMSE\": 0.231012425418521, \"Method\": \"Bagging (ntrees=25)\"}, {\"RMSE\": 0.2215270817938802, \"Method\": \"Bagging (ntrees=25)\"}, {\"RMSE\": 0.2317905788431194, \"Method\": \"Bagging (ntrees=25)\"}, {\"RMSE\": 0.23031903199132533, \"Method\": \"Bagging (ntrees=25)\"}, {\"RMSE\": 0.22323733964488224, \"Method\": \"Bagging (ntrees=25)\"}, {\"RMSE\": 0.22732451115031024, \"Method\": \"Bagging (ntrees=25)\"}, {\"RMSE\": 0.24513648106407115, \"Method\": \"Bagging (ntrees=25)\"}, {\"RMSE\": 0.2282679394812167, \"Method\": \"Bagging (ntrees=25)\"}, {\"RMSE\": 0.23656487280463268, \"Method\": \"Bagging (ntrees=25)\"}, {\"RMSE\": 0.22677387092501003, \"Method\": \"Bagging (ntrees=25)\"}, {\"RMSE\": 0.2358448595492364, \"Method\": \"Bagging (ntrees=25)\"}, {\"RMSE\": 0.22771554504753058, \"Method\": \"Bagging (ntrees=25)\"}, {\"RMSE\": 0.23212413251959702, \"Method\": \"Bagging (ntrees=25)\"}, {\"RMSE\": 0.24118867033844188, \"Method\": \"Bagging (ntrees=25)\"}, {\"RMSE\": 0.23711219864981872, \"Method\": \"Bagging (ntrees=25)\"}, {\"RMSE\": 0.21903951983664424, \"Method\": \"Bagging (ntrees=25)\"}, {\"RMSE\": 0.2167958273858098, \"Method\": \"Bagging (ntrees=25)\"}]}}, {\"mode\": \"vega-lite\"});\n",
       "</script>"
      ],
      "text/plain": [
       "alt.Chart(...)"
      ]
     },
     "execution_count": 11,
     "metadata": {},
     "output_type": "execute_result"
    }
   ],
   "source": [
    "import altair as alt\n",
    "\n",
    "alt.Chart(results).mark_boxplot().encode(\n",
    "    alt.Y(\"RMSE:Q\"),\n",
    "    x='Method',\n",
    ").properties(width=300)"
   ]
  },
  {
   "cell_type": "markdown",
   "metadata": {},
   "source": [
    "For a moment, let's not worry that the underlying distributions do not look normal. We know how to compare the average of two distributions, the t-test. Let's see what that says:"
   ]
  },
  {
   "cell_type": "code",
   "execution_count": 12,
   "metadata": {},
   "outputs": [
    {
     "data": {
      "text/html": [
       "<div>\n",
       "<style scoped>\n",
       "    .dataframe tbody tr th:only-of-type {\n",
       "        vertical-align: middle;\n",
       "    }\n",
       "\n",
       "    .dataframe tbody tr th {\n",
       "        vertical-align: top;\n",
       "    }\n",
       "\n",
       "    .dataframe thead tr th {\n",
       "        text-align: left;\n",
       "    }\n",
       "</style>\n",
       "<table border=\"1\" class=\"dataframe\">\n",
       "  <thead>\n",
       "    <tr>\n",
       "      <th></th>\n",
       "      <th colspan=\"2\" halign=\"left\">RMSE</th>\n",
       "    </tr>\n",
       "    <tr>\n",
       "      <th>Method</th>\n",
       "      <th>Bagging (ntrees=100)</th>\n",
       "      <th>Bagging (ntrees=25)</th>\n",
       "    </tr>\n",
       "  </thead>\n",
       "  <tbody>\n",
       "    <tr>\n",
       "      <th>0</th>\n",
       "      <td>0.217568</td>\n",
       "      <td>0.220005</td>\n",
       "    </tr>\n",
       "    <tr>\n",
       "      <th>1</th>\n",
       "      <td>0.231146</td>\n",
       "      <td>0.233223</td>\n",
       "    </tr>\n",
       "    <tr>\n",
       "      <th>2</th>\n",
       "      <td>0.229315</td>\n",
       "      <td>0.228879</td>\n",
       "    </tr>\n",
       "    <tr>\n",
       "      <th>3</th>\n",
       "      <td>0.223016</td>\n",
       "      <td>0.227354</td>\n",
       "    </tr>\n",
       "    <tr>\n",
       "      <th>4</th>\n",
       "      <td>0.221670</td>\n",
       "      <td>0.224428</td>\n",
       "    </tr>\n",
       "  </tbody>\n",
       "</table>\n",
       "</div>"
      ],
      "text/plain": [
       "                       RMSE                    \n",
       "Method Bagging (ntrees=100) Bagging (ntrees=25)\n",
       "0                  0.217568            0.220005\n",
       "1                  0.231146            0.233223\n",
       "2                  0.229315            0.228879\n",
       "3                  0.223016            0.227354\n",
       "4                  0.221670            0.224428"
      ]
     },
     "execution_count": 12,
     "metadata": {},
     "output_type": "execute_result"
    }
   ],
   "source": [
    "pivot_results = results.pivot(columns='Method')\n",
    "pivot_results.head()"
   ]
  },
  {
   "cell_type": "code",
   "execution_count": 13,
   "metadata": {},
   "outputs": [
    {
     "data": {
      "text/plain": [
       "MultiIndex([('RMSE', 'Bagging (ntrees=100)'),\n",
       "            ('RMSE',  'Bagging (ntrees=25)')],\n",
       "           names=[None, 'Method'])"
      ]
     },
     "execution_count": 13,
     "metadata": {},
     "output_type": "execute_result"
    }
   ],
   "source": [
    "pivot_results.columns"
   ]
  },
  {
   "cell_type": "code",
   "execution_count": 14,
   "metadata": {},
   "outputs": [
    {
     "data": {
      "text/plain": [
       "Ttest_indResult(statistic=-1.240636982766722, pvalue=0.21770179614319868)"
      ]
     },
     "execution_count": 14,
     "metadata": {},
     "output_type": "execute_result"
    }
   ],
   "source": [
    "from scipy import stats\n",
    "stats.stats.ttest_ind(pivot_results[('RMSE', 'Bagging (ntrees=100)')],pivot_results[('RMSE', 'Bagging (ntrees=25)')],equal_var = True)"
   ]
  },
  {
   "cell_type": "markdown",
   "metadata": {},
   "source": [
    "So according to this test, we do not see any significant difference between the results."
   ]
  },
  {
   "cell_type": "markdown",
   "metadata": {},
   "source": [
    "**Problem 2.** What if you only used 2 trees? Is there a significant difference between 2 and 25 trees?\n",
    "\n",
    "**Your answer here**"
   ]
  },
  {
   "cell_type": "code",
   "execution_count": 15,
   "metadata": {},
   "outputs": [],
   "source": [
    "RMSEs = []\n",
    "for trial in range(ntrials):\n",
    "    X_train, X_test, t_train, t_test = train_test_split(X2, t, test_size=0.25,random_state=trial)\n",
    "    trees = Lab5_helper.make_trees(X_train,t_train,ntrees=2)\n",
    "    y = Lab5_helper.make_prediction(trees,X_test)\n",
    "    RMSEs.append(np.sqrt(((y-t_test)**2).sum()/len(t_test)))\n",
    "results2 = pd.DataFrame({'RMSE':RMSEs,'Method':'Bagging (ntrees=2)'})\n",
    "results = results.append(results2)"
   ]
  },
  {
   "cell_type": "code",
   "execution_count": 16,
   "metadata": {},
   "outputs": [
    {
     "data": {
      "text/plain": [
       "Method\n",
       "Bagging (ntrees=100)    0.228545\n",
       "Bagging (ntrees=2)      0.252255\n",
       "Bagging (ntrees=25)     0.230080\n",
       "Name: RMSE, dtype: float64"
      ]
     },
     "execution_count": 16,
     "metadata": {},
     "output_type": "execute_result"
    }
   ],
   "source": [
    "results.groupby('Method')['RMSE'].mean()"
   ]
  },
  {
   "cell_type": "code",
   "execution_count": 17,
   "metadata": {},
   "outputs": [
    {
     "data": {
      "text/html": [
       "<div>\n",
       "<style scoped>\n",
       "    .dataframe tbody tr th:only-of-type {\n",
       "        vertical-align: middle;\n",
       "    }\n",
       "\n",
       "    .dataframe tbody tr th {\n",
       "        vertical-align: top;\n",
       "    }\n",
       "\n",
       "    .dataframe thead tr th {\n",
       "        text-align: left;\n",
       "    }\n",
       "</style>\n",
       "<table border=\"1\" class=\"dataframe\">\n",
       "  <thead>\n",
       "    <tr>\n",
       "      <th></th>\n",
       "      <th colspan=\"3\" halign=\"left\">RMSE</th>\n",
       "    </tr>\n",
       "    <tr>\n",
       "      <th>Method</th>\n",
       "      <th>Bagging (ntrees=100)</th>\n",
       "      <th>Bagging (ntrees=2)</th>\n",
       "      <th>Bagging (ntrees=25)</th>\n",
       "    </tr>\n",
       "  </thead>\n",
       "  <tbody>\n",
       "    <tr>\n",
       "      <th>0</th>\n",
       "      <td>0.217568</td>\n",
       "      <td>0.241804</td>\n",
       "      <td>0.220005</td>\n",
       "    </tr>\n",
       "    <tr>\n",
       "      <th>1</th>\n",
       "      <td>0.231146</td>\n",
       "      <td>0.256992</td>\n",
       "      <td>0.233223</td>\n",
       "    </tr>\n",
       "    <tr>\n",
       "      <th>2</th>\n",
       "      <td>0.229315</td>\n",
       "      <td>0.252002</td>\n",
       "      <td>0.228879</td>\n",
       "    </tr>\n",
       "    <tr>\n",
       "      <th>3</th>\n",
       "      <td>0.223016</td>\n",
       "      <td>0.251360</td>\n",
       "      <td>0.227354</td>\n",
       "    </tr>\n",
       "    <tr>\n",
       "      <th>4</th>\n",
       "      <td>0.221670</td>\n",
       "      <td>0.247135</td>\n",
       "      <td>0.224428</td>\n",
       "    </tr>\n",
       "  </tbody>\n",
       "</table>\n",
       "</div>"
      ],
      "text/plain": [
       "                       RMSE                                       \n",
       "Method Bagging (ntrees=100) Bagging (ntrees=2) Bagging (ntrees=25)\n",
       "0                  0.217568           0.241804            0.220005\n",
       "1                  0.231146           0.256992            0.233223\n",
       "2                  0.229315           0.252002            0.228879\n",
       "3                  0.223016           0.251360            0.227354\n",
       "4                  0.221670           0.247135            0.224428"
      ]
     },
     "execution_count": 17,
     "metadata": {},
     "output_type": "execute_result"
    }
   ],
   "source": [
    "pivot_results = results.pivot(columns='Method')\n",
    "pivot_results.head()"
   ]
  },
  {
   "cell_type": "code",
   "execution_count": 18,
   "metadata": {},
   "outputs": [
    {
     "data": {
      "text/plain": [
       "Ttest_indResult(statistic=-16.984433054066432, pvalue=5.869675837292713e-31)"
      ]
     },
     "execution_count": 18,
     "metadata": {},
     "output_type": "execute_result"
    }
   ],
   "source": [
    "stats.stats.ttest_ind(pivot_results[('RMSE', 'Bagging (ntrees=100)')],pivot_results[('RMSE', 'Bagging (ntrees=2)')],equal_var = True)"
   ]
  },
  {
   "cell_type": "markdown",
   "metadata": {},
   "source": [
    "Finally, we can report a p-value < 0.05! Even if we were to discuss multiple test correction at this time, this would still be a significant result. So bagging is helping us!"
   ]
  },
  {
   "cell_type": "markdown",
   "metadata": {},
   "source": [
    "#### Exercise 2\n",
    "Implement boosting using regression trees as the (weak) individual learner. You should be able to reach a similar accuray to my implementation."
   ]
  },
  {
   "cell_type": "code",
   "execution_count": 19,
   "metadata": {},
   "outputs": [],
   "source": [
    "RMSEs = []\n",
    "for trial in range(ntrials):\n",
    "    X_train, X_test, t_train, t_test = train_test_split(X2, t, test_size=0.25,random_state=trial)\n",
    "    X_train2, X_val, t_train2, t_val = train_test_split(X_train, t_train, test_size=0.25,random_state=trial)\n",
    "    trees,train_RMSEs,val_RMSEs = Lab5_helper.make_trees_boost(X_train2, X_val, t_train2, t_val, max_ntrees=100)\n",
    "    trees = Lab5_helper.cut_trees(trees,val_RMSEs)\n",
    "    y = Lab5_helper.make_prediction_boost(trees,X_test)\n",
    "    RMSEs.append(np.sqrt(((y-t_test)**2).sum()/len(t_test)))\n",
    "results2 = pd.DataFrame({'RMSE':RMSEs,'Method':'Boosting (max_ntrees=100)'})\n",
    "results = results.append(results2)"
   ]
  },
  {
   "cell_type": "code",
   "execution_count": 20,
   "metadata": {},
   "outputs": [
    {
     "data": {
      "text/html": [
       "\n",
       "<div id=\"altair-viz-e0c789f4ced140bf8fc7acf27a64055a\"></div>\n",
       "<script type=\"text/javascript\">\n",
       "  (function(spec, embedOpt){\n",
       "    let outputDiv = document.currentScript.previousElementSibling;\n",
       "    if (outputDiv.id !== \"altair-viz-e0c789f4ced140bf8fc7acf27a64055a\") {\n",
       "      outputDiv = document.getElementById(\"altair-viz-e0c789f4ced140bf8fc7acf27a64055a\");\n",
       "    }\n",
       "    const paths = {\n",
       "      \"vega\": \"https://cdn.jsdelivr.net/npm//vega@5?noext\",\n",
       "      \"vega-lib\": \"https://cdn.jsdelivr.net/npm//vega-lib?noext\",\n",
       "      \"vega-lite\": \"https://cdn.jsdelivr.net/npm//vega-lite@4.8.1?noext\",\n",
       "      \"vega-embed\": \"https://cdn.jsdelivr.net/npm//vega-embed@6?noext\",\n",
       "    };\n",
       "\n",
       "    function loadScript(lib) {\n",
       "      return new Promise(function(resolve, reject) {\n",
       "        var s = document.createElement('script');\n",
       "        s.src = paths[lib];\n",
       "        s.async = true;\n",
       "        s.onload = () => resolve(paths[lib]);\n",
       "        s.onerror = () => reject(`Error loading script: ${paths[lib]}`);\n",
       "        document.getElementsByTagName(\"head\")[0].appendChild(s);\n",
       "      });\n",
       "    }\n",
       "\n",
       "    function showError(err) {\n",
       "      outputDiv.innerHTML = `<div class=\"error\" style=\"color:red;\">${err}</div>`;\n",
       "      throw err;\n",
       "    }\n",
       "\n",
       "    function displayChart(vegaEmbed) {\n",
       "      vegaEmbed(outputDiv, spec, embedOpt)\n",
       "        .catch(err => showError(`Javascript Error: ${err.message}<br>This usually means there's a typo in your chart specification. See the javascript console for the full traceback.`));\n",
       "    }\n",
       "\n",
       "    if(typeof define === \"function\" && define.amd) {\n",
       "      requirejs.config({paths});\n",
       "      require([\"vega-embed\"], displayChart, err => showError(`Error loading script: ${err.message}`));\n",
       "    } else if (typeof vegaEmbed === \"function\") {\n",
       "      displayChart(vegaEmbed);\n",
       "    } else {\n",
       "      loadScript(\"vega\")\n",
       "        .then(() => loadScript(\"vega-lite\"))\n",
       "        .then(() => loadScript(\"vega-embed\"))\n",
       "        .catch(showError)\n",
       "        .then(() => displayChart(vegaEmbed));\n",
       "    }\n",
       "  })({\"config\": {\"view\": {\"continuousWidth\": 400, \"continuousHeight\": 300}}, \"data\": {\"name\": \"data-328d61c5e0f0bf17a9033c2be5ed8d9a\"}, \"mark\": \"line\", \"encoding\": {\"color\": {\"type\": \"nominal\", \"field\": \"variable\"}, \"x\": {\"type\": \"quantitative\", \"field\": \"ntrees\"}, \"y\": {\"type\": \"quantitative\", \"field\": \"value\", \"scale\": {\"domain\": [0.1, 0.3]}}}, \"width\": 500, \"$schema\": \"https://vega.github.io/schema/vega-lite/v4.8.1.json\", \"datasets\": {\"data-328d61c5e0f0bf17a9033c2be5ed8d9a\": [{\"ntrees\": 0, \"variable\": \"train_RMSE\", \"value\": 0.23361175722869007}, {\"ntrees\": 1, \"variable\": \"train_RMSE\", \"value\": 0.22467289521860845}, {\"ntrees\": 2, \"variable\": \"train_RMSE\", \"value\": 0.2203789445442496}, {\"ntrees\": 3, \"variable\": \"train_RMSE\", \"value\": 0.21788041804241934}, {\"ntrees\": 4, \"variable\": \"train_RMSE\", \"value\": 0.21720982515620177}, {\"ntrees\": 5, \"variable\": \"train_RMSE\", \"value\": 0.21552887790550979}, {\"ntrees\": 6, \"variable\": \"train_RMSE\", \"value\": 0.21374371962201774}, {\"ntrees\": 7, \"variable\": \"train_RMSE\", \"value\": 0.21245305316595015}, {\"ntrees\": 8, \"variable\": \"train_RMSE\", \"value\": 0.2105377901786632}, {\"ntrees\": 9, \"variable\": \"train_RMSE\", \"value\": 0.20886199077242953}, {\"ntrees\": 10, \"variable\": \"train_RMSE\", \"value\": 0.20712022394436616}, {\"ntrees\": 11, \"variable\": \"train_RMSE\", \"value\": 0.20672017054224032}, {\"ntrees\": 12, \"variable\": \"train_RMSE\", \"value\": 0.20587828391840005}, {\"ntrees\": 13, \"variable\": \"train_RMSE\", \"value\": 0.20544861132431877}, {\"ntrees\": 14, \"variable\": \"train_RMSE\", \"value\": 0.2048346954228424}, {\"ntrees\": 15, \"variable\": \"train_RMSE\", \"value\": 0.20352053978195564}, {\"ntrees\": 16, \"variable\": \"train_RMSE\", \"value\": 0.20286793439479225}, {\"ntrees\": 17, \"variable\": \"train_RMSE\", \"value\": 0.20129158382258575}, {\"ntrees\": 18, \"variable\": \"train_RMSE\", \"value\": 0.20010736275706562}, {\"ntrees\": 19, \"variable\": \"train_RMSE\", \"value\": 0.19919345006446754}, {\"ntrees\": 20, \"variable\": \"train_RMSE\", \"value\": 0.19895216434417928}, {\"ntrees\": 21, \"variable\": \"train_RMSE\", \"value\": 0.19812804234784298}, {\"ntrees\": 22, \"variable\": \"train_RMSE\", \"value\": 0.19747128125581975}, {\"ntrees\": 23, \"variable\": \"train_RMSE\", \"value\": 0.19657358462326338}, {\"ntrees\": 24, \"variable\": \"train_RMSE\", \"value\": 0.19608302516197298}, {\"ntrees\": 25, \"variable\": \"train_RMSE\", \"value\": 0.19479443357672677}, {\"ntrees\": 26, \"variable\": \"train_RMSE\", \"value\": 0.19237033383852628}, {\"ntrees\": 27, \"variable\": \"train_RMSE\", \"value\": 0.19211474149366173}, {\"ntrees\": 28, \"variable\": \"train_RMSE\", \"value\": 0.19135644632680948}, {\"ntrees\": 29, \"variable\": \"train_RMSE\", \"value\": 0.1908610465351189}, {\"ntrees\": 30, \"variable\": \"train_RMSE\", \"value\": 0.1900919264748879}, {\"ntrees\": 31, \"variable\": \"train_RMSE\", \"value\": 0.189509808766116}, {\"ntrees\": 32, \"variable\": \"train_RMSE\", \"value\": 0.18929168751030157}, {\"ntrees\": 33, \"variable\": \"train_RMSE\", \"value\": 0.1879696515477533}, {\"ntrees\": 34, \"variable\": \"train_RMSE\", \"value\": 0.18684976710761927}, {\"ntrees\": 35, \"variable\": \"train_RMSE\", \"value\": 0.1864641758267184}, {\"ntrees\": 36, \"variable\": \"train_RMSE\", \"value\": 0.18613043223689563}, {\"ntrees\": 37, \"variable\": \"train_RMSE\", \"value\": 0.1847914749004286}, {\"ntrees\": 38, \"variable\": \"train_RMSE\", \"value\": 0.18370243428577718}, {\"ntrees\": 39, \"variable\": \"train_RMSE\", \"value\": 0.1823088794873496}, {\"ntrees\": 40, \"variable\": \"train_RMSE\", \"value\": 0.18216870902587426}, {\"ntrees\": 41, \"variable\": \"train_RMSE\", \"value\": 0.18100083273345666}, {\"ntrees\": 42, \"variable\": \"train_RMSE\", \"value\": 0.18034087924669126}, {\"ntrees\": 43, \"variable\": \"train_RMSE\", \"value\": 0.17989825205381435}, {\"ntrees\": 44, \"variable\": \"train_RMSE\", \"value\": 0.17966146428166282}, {\"ntrees\": 45, \"variable\": \"train_RMSE\", \"value\": 0.179398066093959}, {\"ntrees\": 46, \"variable\": \"train_RMSE\", \"value\": 0.17929876190868302}, {\"ntrees\": 47, \"variable\": \"train_RMSE\", \"value\": 0.1787083767999805}, {\"ntrees\": 48, \"variable\": \"train_RMSE\", \"value\": 0.17812223768851848}, {\"ntrees\": 49, \"variable\": \"train_RMSE\", \"value\": 0.17702048072435167}, {\"ntrees\": 50, \"variable\": \"train_RMSE\", \"value\": 0.17601885837972062}, {\"ntrees\": 51, \"variable\": \"train_RMSE\", \"value\": 0.17523783097344936}, {\"ntrees\": 52, \"variable\": \"train_RMSE\", \"value\": 0.17473332094408517}, {\"ntrees\": 53, \"variable\": \"train_RMSE\", \"value\": 0.1742728350691829}, {\"ntrees\": 54, \"variable\": \"train_RMSE\", \"value\": 0.17292044227568926}, {\"ntrees\": 55, \"variable\": \"train_RMSE\", \"value\": 0.17245778297558545}, {\"ntrees\": 56, \"variable\": \"train_RMSE\", \"value\": 0.17165797207469224}, {\"ntrees\": 57, \"variable\": \"train_RMSE\", \"value\": 0.171000519281327}, {\"ntrees\": 58, \"variable\": \"train_RMSE\", \"value\": 0.16989451284822465}, {\"ntrees\": 59, \"variable\": \"train_RMSE\", \"value\": 0.16856926218057444}, {\"ntrees\": 60, \"variable\": \"train_RMSE\", \"value\": 0.16796761970488058}, {\"ntrees\": 61, \"variable\": \"train_RMSE\", \"value\": 0.16727120932971953}, {\"ntrees\": 62, \"variable\": \"train_RMSE\", \"value\": 0.1666669879813169}, {\"ntrees\": 63, \"variable\": \"train_RMSE\", \"value\": 0.16628783625879934}, {\"ntrees\": 64, \"variable\": \"train_RMSE\", \"value\": 0.16621466332854445}, {\"ntrees\": 65, \"variable\": \"train_RMSE\", \"value\": 0.16557402843202912}, {\"ntrees\": 66, \"variable\": \"train_RMSE\", \"value\": 0.16526236431318495}, {\"ntrees\": 67, \"variable\": \"train_RMSE\", \"value\": 0.16483457027848888}, {\"ntrees\": 68, \"variable\": \"train_RMSE\", \"value\": 0.16427119399268889}, {\"ntrees\": 69, \"variable\": \"train_RMSE\", \"value\": 0.1631623416719142}, {\"ntrees\": 70, \"variable\": \"train_RMSE\", \"value\": 0.16214946038369626}, {\"ntrees\": 71, \"variable\": \"train_RMSE\", \"value\": 0.1617093350028622}, {\"ntrees\": 72, \"variable\": \"train_RMSE\", \"value\": 0.16074984720594168}, {\"ntrees\": 73, \"variable\": \"train_RMSE\", \"value\": 0.15965871343771185}, {\"ntrees\": 74, \"variable\": \"train_RMSE\", \"value\": 0.15933366436998211}, {\"ntrees\": 75, \"variable\": \"train_RMSE\", \"value\": 0.15899149857579423}, {\"ntrees\": 76, \"variable\": \"train_RMSE\", \"value\": 0.1584769575483242}, {\"ntrees\": 77, \"variable\": \"train_RMSE\", \"value\": 0.15766052889318924}, {\"ntrees\": 78, \"variable\": \"train_RMSE\", \"value\": 0.157311554854324}, {\"ntrees\": 79, \"variable\": \"train_RMSE\", \"value\": 0.15685232065003665}, {\"ntrees\": 80, \"variable\": \"train_RMSE\", \"value\": 0.15605587399651485}, {\"ntrees\": 81, \"variable\": \"train_RMSE\", \"value\": 0.15536463002820716}, {\"ntrees\": 82, \"variable\": \"train_RMSE\", \"value\": 0.15474880384241804}, {\"ntrees\": 83, \"variable\": \"train_RMSE\", \"value\": 0.15402226931761476}, {\"ntrees\": 84, \"variable\": \"train_RMSE\", \"value\": 0.15378880091131858}, {\"ntrees\": 85, \"variable\": \"train_RMSE\", \"value\": 0.1535476207776062}, {\"ntrees\": 86, \"variable\": \"train_RMSE\", \"value\": 0.15317516361953615}, {\"ntrees\": 87, \"variable\": \"train_RMSE\", \"value\": 0.1521426116831314}, {\"ntrees\": 88, \"variable\": \"train_RMSE\", \"value\": 0.15156687802946375}, {\"ntrees\": 89, \"variable\": \"train_RMSE\", \"value\": 0.15090136356415765}, {\"ntrees\": 90, \"variable\": \"train_RMSE\", \"value\": 0.14967295825633922}, {\"ntrees\": 91, \"variable\": \"train_RMSE\", \"value\": 0.149131769181507}, {\"ntrees\": 92, \"variable\": \"train_RMSE\", \"value\": 0.14840983923501935}, {\"ntrees\": 93, \"variable\": \"train_RMSE\", \"value\": 0.14809275121960633}, {\"ntrees\": 94, \"variable\": \"train_RMSE\", \"value\": 0.14723725846109711}, {\"ntrees\": 95, \"variable\": \"train_RMSE\", \"value\": 0.14690081975719824}, {\"ntrees\": 96, \"variable\": \"train_RMSE\", \"value\": 0.14616117508948587}, {\"ntrees\": 97, \"variable\": \"train_RMSE\", \"value\": 0.14565462636548612}, {\"ntrees\": 98, \"variable\": \"train_RMSE\", \"value\": 0.14496693208159378}, {\"ntrees\": 99, \"variable\": \"train_RMSE\", \"value\": 0.14425728705470328}, {\"ntrees\": 0, \"variable\": \"val_RMSE\", \"value\": 0.239738196609986}, {\"ntrees\": 1, \"variable\": \"val_RMSE\", \"value\": 0.23046953632996314}, {\"ntrees\": 2, \"variable\": \"val_RMSE\", \"value\": 0.22892013770888642}, {\"ntrees\": 3, \"variable\": \"val_RMSE\", \"value\": 0.2272295845561141}, {\"ntrees\": 4, \"variable\": \"val_RMSE\", \"value\": 0.22860744582240541}, {\"ntrees\": 5, \"variable\": \"val_RMSE\", \"value\": 0.22840946775884619}, {\"ntrees\": 6, \"variable\": \"val_RMSE\", \"value\": 0.22895916877507488}, {\"ntrees\": 7, \"variable\": \"val_RMSE\", \"value\": 0.22818095109781375}, {\"ntrees\": 8, \"variable\": \"val_RMSE\", \"value\": 0.23023885317593426}, {\"ntrees\": 9, \"variable\": \"val_RMSE\", \"value\": 0.23190282300981335}, {\"ntrees\": 10, \"variable\": \"val_RMSE\", \"value\": 0.23482275939072553}, {\"ntrees\": 11, \"variable\": \"val_RMSE\", \"value\": 0.23528008604540296}, {\"ntrees\": 12, \"variable\": \"val_RMSE\", \"value\": 0.23560167336427854}, {\"ntrees\": 13, \"variable\": \"val_RMSE\", \"value\": 0.23506278755259852}, {\"ntrees\": 14, \"variable\": \"val_RMSE\", \"value\": 0.23394783376893946}, {\"ntrees\": 15, \"variable\": \"val_RMSE\", \"value\": 0.23398924374435132}, {\"ntrees\": 16, \"variable\": \"val_RMSE\", \"value\": 0.23590235419045927}, {\"ntrees\": 17, \"variable\": \"val_RMSE\", \"value\": 0.23593002645183903}, {\"ntrees\": 18, \"variable\": \"val_RMSE\", \"value\": 0.23478184207109173}, {\"ntrees\": 19, \"variable\": \"val_RMSE\", \"value\": 0.23385598420764148}, {\"ntrees\": 20, \"variable\": \"val_RMSE\", \"value\": 0.23329740678649308}, {\"ntrees\": 21, \"variable\": \"val_RMSE\", \"value\": 0.23296013474996927}, {\"ntrees\": 22, \"variable\": \"val_RMSE\", \"value\": 0.2328970164752284}, {\"ntrees\": 23, \"variable\": \"val_RMSE\", \"value\": 0.23266329887422232}, {\"ntrees\": 24, \"variable\": \"val_RMSE\", \"value\": 0.2329113590219609}, {\"ntrees\": 25, \"variable\": \"val_RMSE\", \"value\": 0.23576704650995794}, {\"ntrees\": 26, \"variable\": \"val_RMSE\", \"value\": 0.23842838692946838}, {\"ntrees\": 27, \"variable\": \"val_RMSE\", \"value\": 0.23854250922742617}, {\"ntrees\": 28, \"variable\": \"val_RMSE\", \"value\": 0.24039390429301685}, {\"ntrees\": 29, \"variable\": \"val_RMSE\", \"value\": 0.24213339043754592}, {\"ntrees\": 30, \"variable\": \"val_RMSE\", \"value\": 0.2422959306772316}, {\"ntrees\": 31, \"variable\": \"val_RMSE\", \"value\": 0.24271394532600263}, {\"ntrees\": 32, \"variable\": \"val_RMSE\", \"value\": 0.2431638231594982}, {\"ntrees\": 33, \"variable\": \"val_RMSE\", \"value\": 0.24341945847336302}, {\"ntrees\": 34, \"variable\": \"val_RMSE\", \"value\": 0.243030501624625}, {\"ntrees\": 35, \"variable\": \"val_RMSE\", \"value\": 0.2445611007935663}, {\"ntrees\": 36, \"variable\": \"val_RMSE\", \"value\": 0.24430851751619417}, {\"ntrees\": 37, \"variable\": \"val_RMSE\", \"value\": 0.24446751682290527}, {\"ntrees\": 38, \"variable\": \"val_RMSE\", \"value\": 0.244505809754192}, {\"ntrees\": 39, \"variable\": \"val_RMSE\", \"value\": 0.24336973572230405}, {\"ntrees\": 40, \"variable\": \"val_RMSE\", \"value\": 0.24385840650810697}, {\"ntrees\": 41, \"variable\": \"val_RMSE\", \"value\": 0.24323406945827047}, {\"ntrees\": 42, \"variable\": \"val_RMSE\", \"value\": 0.24359617167084813}, {\"ntrees\": 43, \"variable\": \"val_RMSE\", \"value\": 0.2434397438854788}, {\"ntrees\": 44, \"variable\": \"val_RMSE\", \"value\": 0.24329174559524042}, {\"ntrees\": 45, \"variable\": \"val_RMSE\", \"value\": 0.24328807083852544}, {\"ntrees\": 46, \"variable\": \"val_RMSE\", \"value\": 0.24328839304114339}, {\"ntrees\": 47, \"variable\": \"val_RMSE\", \"value\": 0.24401796628967803}, {\"ntrees\": 48, \"variable\": \"val_RMSE\", \"value\": 0.2437181891723964}, {\"ntrees\": 49, \"variable\": \"val_RMSE\", \"value\": 0.24392555108336478}, {\"ntrees\": 50, \"variable\": \"val_RMSE\", \"value\": 0.24494267777229536}, {\"ntrees\": 51, \"variable\": \"val_RMSE\", \"value\": 0.24398664481444066}, {\"ntrees\": 52, \"variable\": \"val_RMSE\", \"value\": 0.2443428087473711}, {\"ntrees\": 53, \"variable\": \"val_RMSE\", \"value\": 0.24567930155514273}, {\"ntrees\": 54, \"variable\": \"val_RMSE\", \"value\": 0.24726847146503203}, {\"ntrees\": 55, \"variable\": \"val_RMSE\", \"value\": 0.2477308648773144}, {\"ntrees\": 56, \"variable\": \"val_RMSE\", \"value\": 0.24997450610242464}, {\"ntrees\": 57, \"variable\": \"val_RMSE\", \"value\": 0.25002858374160847}, {\"ntrees\": 58, \"variable\": \"val_RMSE\", \"value\": 0.2501524935800872}, {\"ntrees\": 59, \"variable\": \"val_RMSE\", \"value\": 0.2491919479787255}, {\"ntrees\": 60, \"variable\": \"val_RMSE\", \"value\": 0.24889870431579397}, {\"ntrees\": 61, \"variable\": \"val_RMSE\", \"value\": 0.25006081697007726}, {\"ntrees\": 62, \"variable\": \"val_RMSE\", \"value\": 0.25085859652951853}, {\"ntrees\": 63, \"variable\": \"val_RMSE\", \"value\": 0.2524041478105585}, {\"ntrees\": 64, \"variable\": \"val_RMSE\", \"value\": 0.25210540268916726}, {\"ntrees\": 65, \"variable\": \"val_RMSE\", \"value\": 0.25175112761498164}, {\"ntrees\": 66, \"variable\": \"val_RMSE\", \"value\": 0.25167274010628915}, {\"ntrees\": 67, \"variable\": \"val_RMSE\", \"value\": 0.2520096094758443}, {\"ntrees\": 68, \"variable\": \"val_RMSE\", \"value\": 0.25304535937747763}, {\"ntrees\": 69, \"variable\": \"val_RMSE\", \"value\": 0.2510081898860333}, {\"ntrees\": 70, \"variable\": \"val_RMSE\", \"value\": 0.25194180434033053}, {\"ntrees\": 71, \"variable\": \"val_RMSE\", \"value\": 0.25187074435076434}, {\"ntrees\": 72, \"variable\": \"val_RMSE\", \"value\": 0.25466794378020907}, {\"ntrees\": 73, \"variable\": \"val_RMSE\", \"value\": 0.2560104424612739}, {\"ntrees\": 74, \"variable\": \"val_RMSE\", \"value\": 0.2560118137394802}, {\"ntrees\": 75, \"variable\": \"val_RMSE\", \"value\": 0.25665030551384066}, {\"ntrees\": 76, \"variable\": \"val_RMSE\", \"value\": 0.25733693952202313}, {\"ntrees\": 77, \"variable\": \"val_RMSE\", \"value\": 0.256776596053633}, {\"ntrees\": 78, \"variable\": \"val_RMSE\", \"value\": 0.2577814014238586}, {\"ntrees\": 79, \"variable\": \"val_RMSE\", \"value\": 0.25655791598199196}, {\"ntrees\": 80, \"variable\": \"val_RMSE\", \"value\": 0.2584120622304953}, {\"ntrees\": 81, \"variable\": \"val_RMSE\", \"value\": 0.2591486670671849}, {\"ntrees\": 82, \"variable\": \"val_RMSE\", \"value\": 0.2597683223917541}, {\"ntrees\": 83, \"variable\": \"val_RMSE\", \"value\": 0.25948784078906795}, {\"ntrees\": 84, \"variable\": \"val_RMSE\", \"value\": 0.259790007545101}, {\"ntrees\": 85, \"variable\": \"val_RMSE\", \"value\": 0.2597786601654194}, {\"ntrees\": 86, \"variable\": \"val_RMSE\", \"value\": 0.2601021876252311}, {\"ntrees\": 87, \"variable\": \"val_RMSE\", \"value\": 0.260152862677993}, {\"ntrees\": 88, \"variable\": \"val_RMSE\", \"value\": 0.26031971129883047}, {\"ntrees\": 89, \"variable\": \"val_RMSE\", \"value\": 0.2603047954907223}, {\"ntrees\": 90, \"variable\": \"val_RMSE\", \"value\": 0.264062889176055}, {\"ntrees\": 91, \"variable\": \"val_RMSE\", \"value\": 0.26406599019438115}, {\"ntrees\": 92, \"variable\": \"val_RMSE\", \"value\": 0.26424239627217844}, {\"ntrees\": 93, \"variable\": \"val_RMSE\", \"value\": 0.2649178837326369}, {\"ntrees\": 94, \"variable\": \"val_RMSE\", \"value\": 0.2644861545309753}, {\"ntrees\": 95, \"variable\": \"val_RMSE\", \"value\": 0.2641081979643015}, {\"ntrees\": 96, \"variable\": \"val_RMSE\", \"value\": 0.26421300847384804}, {\"ntrees\": 97, \"variable\": \"val_RMSE\", \"value\": 0.2644874726314178}, {\"ntrees\": 98, \"variable\": \"val_RMSE\", \"value\": 0.264026542972301}, {\"ntrees\": 99, \"variable\": \"val_RMSE\", \"value\": 0.2644800918952069}]}}, {\"mode\": \"vega-lite\"});\n",
       "</script>"
      ],
      "text/plain": [
       "alt.Chart(...)"
      ]
     },
     "execution_count": 20,
     "metadata": {},
     "output_type": "execute_result"
    }
   ],
   "source": [
    "source = pd.DataFrame({\"train_RMSE\":train_RMSEs,\"val_RMSE\":val_RMSEs, \"ntrees\":np.arange(len(val_RMSEs))}).melt(id_vars=['ntrees'])\n",
    "\n",
    "alt.Chart(source).mark_line().encode(\n",
    "    y = alt.Y(\"value:Q\", scale=alt.Scale(domain=[0.1, 0.3])),\n",
    "    x = 'ntrees',\n",
    "    color='variable'\n",
    ").properties(width=500)"
   ]
  },
  {
   "cell_type": "code",
   "execution_count": 21,
   "metadata": {},
   "outputs": [
    {
     "data": {
      "text/plain": [
       "Method\n",
       "Boosting (max_ntrees=100)    0.226319\n",
       "Bagging (ntrees=100)         0.228064\n",
       "Bagging (ntrees=25)          0.229305\n",
       "Bagging (ntrees=2)           0.252132\n",
       "Name: RMSE, dtype: float64"
      ]
     },
     "execution_count": 21,
     "metadata": {},
     "output_type": "execute_result"
    }
   ],
   "source": [
    "results.groupby('Method')['RMSE'].median().sort_values()"
   ]
  },
  {
   "cell_type": "code",
   "execution_count": 22,
   "metadata": {},
   "outputs": [
    {
     "data": {
      "text/plain": [
       "Method\n",
       "Boosting (max_ntrees=100)    0.227608\n",
       "Bagging (ntrees=100)         0.228545\n",
       "Bagging (ntrees=25)          0.230080\n",
       "Bagging (ntrees=2)           0.252255\n",
       "Name: RMSE, dtype: float64"
      ]
     },
     "execution_count": 22,
     "metadata": {},
     "output_type": "execute_result"
    }
   ],
   "source": [
    "results.groupby('Method')['RMSE'].mean().sort_values()"
   ]
  },
  {
   "cell_type": "code",
   "execution_count": 23,
   "metadata": {},
   "outputs": [
    {
     "data": {
      "text/plain": [
       "0.2276076557007215"
      ]
     },
     "execution_count": 23,
     "metadata": {},
     "output_type": "execute_result"
    }
   ],
   "source": [
    "np.mean(RMSEs)"
   ]
  },
  {
   "cell_type": "code",
   "execution_count": 24,
   "metadata": {},
   "outputs": [
    {
     "data": {
      "text/html": [
       "\n",
       "<div id=\"altair-viz-1f6da15eb46e40c7a25a696319c3f6a9\"></div>\n",
       "<script type=\"text/javascript\">\n",
       "  (function(spec, embedOpt){\n",
       "    let outputDiv = document.currentScript.previousElementSibling;\n",
       "    if (outputDiv.id !== \"altair-viz-1f6da15eb46e40c7a25a696319c3f6a9\") {\n",
       "      outputDiv = document.getElementById(\"altair-viz-1f6da15eb46e40c7a25a696319c3f6a9\");\n",
       "    }\n",
       "    const paths = {\n",
       "      \"vega\": \"https://cdn.jsdelivr.net/npm//vega@5?noext\",\n",
       "      \"vega-lib\": \"https://cdn.jsdelivr.net/npm//vega-lib?noext\",\n",
       "      \"vega-lite\": \"https://cdn.jsdelivr.net/npm//vega-lite@4.8.1?noext\",\n",
       "      \"vega-embed\": \"https://cdn.jsdelivr.net/npm//vega-embed@6?noext\",\n",
       "    };\n",
       "\n",
       "    function loadScript(lib) {\n",
       "      return new Promise(function(resolve, reject) {\n",
       "        var s = document.createElement('script');\n",
       "        s.src = paths[lib];\n",
       "        s.async = true;\n",
       "        s.onload = () => resolve(paths[lib]);\n",
       "        s.onerror = () => reject(`Error loading script: ${paths[lib]}`);\n",
       "        document.getElementsByTagName(\"head\")[0].appendChild(s);\n",
       "      });\n",
       "    }\n",
       "\n",
       "    function showError(err) {\n",
       "      outputDiv.innerHTML = `<div class=\"error\" style=\"color:red;\">${err}</div>`;\n",
       "      throw err;\n",
       "    }\n",
       "\n",
       "    function displayChart(vegaEmbed) {\n",
       "      vegaEmbed(outputDiv, spec, embedOpt)\n",
       "        .catch(err => showError(`Javascript Error: ${err.message}<br>This usually means there's a typo in your chart specification. See the javascript console for the full traceback.`));\n",
       "    }\n",
       "\n",
       "    if(typeof define === \"function\" && define.amd) {\n",
       "      requirejs.config({paths});\n",
       "      require([\"vega-embed\"], displayChart, err => showError(`Error loading script: ${err.message}`));\n",
       "    } else if (typeof vegaEmbed === \"function\") {\n",
       "      displayChart(vegaEmbed);\n",
       "    } else {\n",
       "      loadScript(\"vega\")\n",
       "        .then(() => loadScript(\"vega-lite\"))\n",
       "        .then(() => loadScript(\"vega-embed\"))\n",
       "        .catch(showError)\n",
       "        .then(() => displayChart(vegaEmbed));\n",
       "    }\n",
       "  })({\"config\": {\"view\": {\"continuousWidth\": 400, \"continuousHeight\": 300}}, \"data\": {\"name\": \"data-0035e0b7eeb3a50aa3189c7d259c2b5a\"}, \"mark\": \"boxplot\", \"encoding\": {\"x\": {\"type\": \"nominal\", \"field\": \"Method\"}, \"y\": {\"type\": \"quantitative\", \"field\": \"RMSE\", \"scale\": {\"domain\": [0.2, 0.3]}}}, \"width\": 300, \"$schema\": \"https://vega.github.io/schema/vega-lite/v4.8.1.json\", \"datasets\": {\"data-0035e0b7eeb3a50aa3189c7d259c2b5a\": [{\"RMSE\": 0.21756838389912778, \"Method\": \"Bagging (ntrees=100)\"}, {\"RMSE\": 0.2311460608196945, \"Method\": \"Bagging (ntrees=100)\"}, {\"RMSE\": 0.22931467298732075, \"Method\": \"Bagging (ntrees=100)\"}, {\"RMSE\": 0.22301632041574607, \"Method\": \"Bagging (ntrees=100)\"}, {\"RMSE\": 0.2216701693938583, \"Method\": \"Bagging (ntrees=100)\"}, {\"RMSE\": 0.22818982381510863, \"Method\": \"Bagging (ntrees=100)\"}, {\"RMSE\": 0.23707852815681568, \"Method\": \"Bagging (ntrees=100)\"}, {\"RMSE\": 0.22490473736348562, \"Method\": \"Bagging (ntrees=100)\"}, {\"RMSE\": 0.2261325143237453, \"Method\": \"Bagging (ntrees=100)\"}, {\"RMSE\": 0.23685125499381743, \"Method\": \"Bagging (ntrees=100)\"}, {\"RMSE\": 0.2384793203161865, \"Method\": \"Bagging (ntrees=100)\"}, {\"RMSE\": 0.22488358238175268, \"Method\": \"Bagging (ntrees=100)\"}, {\"RMSE\": 0.22835884209855778, \"Method\": \"Bagging (ntrees=100)\"}, {\"RMSE\": 0.23151205163648586, \"Method\": \"Bagging (ntrees=100)\"}, {\"RMSE\": 0.22138167927698477, \"Method\": \"Bagging (ntrees=100)\"}, {\"RMSE\": 0.22607450558148154, \"Method\": \"Bagging (ntrees=100)\"}, {\"RMSE\": 0.23567473243020629, \"Method\": \"Bagging (ntrees=100)\"}, {\"RMSE\": 0.22491278111752963, \"Method\": \"Bagging (ntrees=100)\"}, {\"RMSE\": 0.22521766981473967, \"Method\": \"Bagging (ntrees=100)\"}, {\"RMSE\": 0.22079795964707172, \"Method\": \"Bagging (ntrees=100)\"}, {\"RMSE\": 0.22378645205224507, \"Method\": \"Bagging (ntrees=100)\"}, {\"RMSE\": 0.228367512529822, \"Method\": \"Bagging (ntrees=100)\"}, {\"RMSE\": 0.23260039453462195, \"Method\": \"Bagging (ntrees=100)\"}, {\"RMSE\": 0.22790519199923828, \"Method\": \"Bagging (ntrees=100)\"}, {\"RMSE\": 0.2290553962313876, \"Method\": \"Bagging (ntrees=100)\"}, {\"RMSE\": 0.23530997448308094, \"Method\": \"Bagging (ntrees=100)\"}, {\"RMSE\": 0.22286861032781813, \"Method\": \"Bagging (ntrees=100)\"}, {\"RMSE\": 0.23112233583820646, \"Method\": \"Bagging (ntrees=100)\"}, {\"RMSE\": 0.23240200828746704, \"Method\": \"Bagging (ntrees=100)\"}, {\"RMSE\": 0.2369252503547215, \"Method\": \"Bagging (ntrees=100)\"}, {\"RMSE\": 0.2347495155476939, \"Method\": \"Bagging (ntrees=100)\"}, {\"RMSE\": 0.22551946023989156, \"Method\": \"Bagging (ntrees=100)\"}, {\"RMSE\": 0.2244114471609292, \"Method\": \"Bagging (ntrees=100)\"}, {\"RMSE\": 0.22793887995171802, \"Method\": \"Bagging (ntrees=100)\"}, {\"RMSE\": 0.2189987107557393, \"Method\": \"Bagging (ntrees=100)\"}, {\"RMSE\": 0.23349436340485566, \"Method\": \"Bagging (ntrees=100)\"}, {\"RMSE\": 0.22898956393517347, \"Method\": \"Bagging (ntrees=100)\"}, {\"RMSE\": 0.2229987231148478, \"Method\": \"Bagging (ntrees=100)\"}, {\"RMSE\": 0.2260909658355149, \"Method\": \"Bagging (ntrees=100)\"}, {\"RMSE\": 0.24458285532791604, \"Method\": \"Bagging (ntrees=100)\"}, {\"RMSE\": 0.2254327926081117, \"Method\": \"Bagging (ntrees=100)\"}, {\"RMSE\": 0.2337254291380272, \"Method\": \"Bagging (ntrees=100)\"}, {\"RMSE\": 0.2270700595523271, \"Method\": \"Bagging (ntrees=100)\"}, {\"RMSE\": 0.23057030742726256, \"Method\": \"Bagging (ntrees=100)\"}, {\"RMSE\": 0.22619271610970829, \"Method\": \"Bagging (ntrees=100)\"}, {\"RMSE\": 0.23087060492977343, \"Method\": \"Bagging (ntrees=100)\"}, {\"RMSE\": 0.23987653490142696, \"Method\": \"Bagging (ntrees=100)\"}, {\"RMSE\": 0.23449963157096404, \"Method\": \"Bagging (ntrees=100)\"}, {\"RMSE\": 0.21880899074894372, \"Method\": \"Bagging (ntrees=100)\"}, {\"RMSE\": 0.21892618471400746, \"Method\": \"Bagging (ntrees=100)\"}, {\"RMSE\": 0.2200049609220623, \"Method\": \"Bagging (ntrees=25)\"}, {\"RMSE\": 0.23322261204704897, \"Method\": \"Bagging (ntrees=25)\"}, {\"RMSE\": 0.22887930450792657, \"Method\": \"Bagging (ntrees=25)\"}, {\"RMSE\": 0.22735397952060613, \"Method\": \"Bagging (ntrees=25)\"}, {\"RMSE\": 0.22442781498356956, \"Method\": \"Bagging (ntrees=25)\"}, {\"RMSE\": 0.23271357614893912, \"Method\": \"Bagging (ntrees=25)\"}, {\"RMSE\": 0.23986018061268014, \"Method\": \"Bagging (ntrees=25)\"}, {\"RMSE\": 0.22880992730156183, \"Method\": \"Bagging (ntrees=25)\"}, {\"RMSE\": 0.22973160935622908, \"Method\": \"Bagging (ntrees=25)\"}, {\"RMSE\": 0.2379829368999592, \"Method\": \"Bagging (ntrees=25)\"}, {\"RMSE\": 0.24010553919264363, \"Method\": \"Bagging (ntrees=25)\"}, {\"RMSE\": 0.22705326192927858, \"Method\": \"Bagging (ntrees=25)\"}, {\"RMSE\": 0.22984796061515855, \"Method\": \"Bagging (ntrees=25)\"}, {\"RMSE\": 0.2308993637442339, \"Method\": \"Bagging (ntrees=25)\"}, {\"RMSE\": 0.22247871756630924, \"Method\": \"Bagging (ntrees=25)\"}, {\"RMSE\": 0.2262015889860802, \"Method\": \"Bagging (ntrees=25)\"}, {\"RMSE\": 0.23999793854999132, \"Method\": \"Bagging (ntrees=25)\"}, {\"RMSE\": 0.22746402044532893, \"Method\": \"Bagging (ntrees=25)\"}, {\"RMSE\": 0.2259858228463507, \"Method\": \"Bagging (ntrees=25)\"}, {\"RMSE\": 0.22089702023598987, \"Method\": \"Bagging (ntrees=25)\"}, {\"RMSE\": 0.22618516055921392, \"Method\": \"Bagging (ntrees=25)\"}, {\"RMSE\": 0.2267998697413166, \"Method\": \"Bagging (ntrees=25)\"}, {\"RMSE\": 0.23368699506367732, \"Method\": \"Bagging (ntrees=25)\"}, {\"RMSE\": 0.22743192213947758, \"Method\": \"Bagging (ntrees=25)\"}, {\"RMSE\": 0.23096585915083467, \"Method\": \"Bagging (ntrees=25)\"}, {\"RMSE\": 0.23846552552151432, \"Method\": \"Bagging (ntrees=25)\"}, {\"RMSE\": 0.22547689917914418, \"Method\": \"Bagging (ntrees=25)\"}, {\"RMSE\": 0.23360700518990252, \"Method\": \"Bagging (ntrees=25)\"}, {\"RMSE\": 0.23329606631519006, \"Method\": \"Bagging (ntrees=25)\"}, {\"RMSE\": 0.24045006930992172, \"Method\": \"Bagging (ntrees=25)\"}, {\"RMSE\": 0.23232403478559255, \"Method\": \"Bagging (ntrees=25)\"}, {\"RMSE\": 0.22749600873225112, \"Method\": \"Bagging (ntrees=25)\"}, {\"RMSE\": 0.2221244280184175, \"Method\": \"Bagging (ntrees=25)\"}, {\"RMSE\": 0.231012425418521, \"Method\": \"Bagging (ntrees=25)\"}, {\"RMSE\": 0.2215270817938802, \"Method\": \"Bagging (ntrees=25)\"}, {\"RMSE\": 0.2317905788431194, \"Method\": \"Bagging (ntrees=25)\"}, {\"RMSE\": 0.23031903199132533, \"Method\": \"Bagging (ntrees=25)\"}, {\"RMSE\": 0.22323733964488224, \"Method\": \"Bagging (ntrees=25)\"}, {\"RMSE\": 0.22732451115031024, \"Method\": \"Bagging (ntrees=25)\"}, {\"RMSE\": 0.24513648106407115, \"Method\": \"Bagging (ntrees=25)\"}, {\"RMSE\": 0.2282679394812167, \"Method\": \"Bagging (ntrees=25)\"}, {\"RMSE\": 0.23656487280463268, \"Method\": \"Bagging (ntrees=25)\"}, {\"RMSE\": 0.22677387092501003, \"Method\": \"Bagging (ntrees=25)\"}, {\"RMSE\": 0.2358448595492364, \"Method\": \"Bagging (ntrees=25)\"}, {\"RMSE\": 0.22771554504753058, \"Method\": \"Bagging (ntrees=25)\"}, {\"RMSE\": 0.23212413251959702, \"Method\": \"Bagging (ntrees=25)\"}, {\"RMSE\": 0.24118867033844188, \"Method\": \"Bagging (ntrees=25)\"}, {\"RMSE\": 0.23711219864981872, \"Method\": \"Bagging (ntrees=25)\"}, {\"RMSE\": 0.21903951983664424, \"Method\": \"Bagging (ntrees=25)\"}, {\"RMSE\": 0.2167958273858098, \"Method\": \"Bagging (ntrees=25)\"}, {\"RMSE\": 0.24180417674487104, \"Method\": \"Bagging (ntrees=2)\"}, {\"RMSE\": 0.2569915336868779, \"Method\": \"Bagging (ntrees=2)\"}, {\"RMSE\": 0.25200180777652276, \"Method\": \"Bagging (ntrees=2)\"}, {\"RMSE\": 0.25136036426280917, \"Method\": \"Bagging (ntrees=2)\"}, {\"RMSE\": 0.24713547985210452, \"Method\": \"Bagging (ntrees=2)\"}, {\"RMSE\": 0.25118881811450994, \"Method\": \"Bagging (ntrees=2)\"}, {\"RMSE\": 0.26320543733996593, \"Method\": \"Bagging (ntrees=2)\"}, {\"RMSE\": 0.25583131838205414, \"Method\": \"Bagging (ntrees=2)\"}, {\"RMSE\": 0.2622494975556431, \"Method\": \"Bagging (ntrees=2)\"}, {\"RMSE\": 0.26165646237128704, \"Method\": \"Bagging (ntrees=2)\"}, {\"RMSE\": 0.2621207783120515, \"Method\": \"Bagging (ntrees=2)\"}, {\"RMSE\": 0.24759785223412925, \"Method\": \"Bagging (ntrees=2)\"}, {\"RMSE\": 0.24815701396580644, \"Method\": \"Bagging (ntrees=2)\"}, {\"RMSE\": 0.25542247371697296, \"Method\": \"Bagging (ntrees=2)\"}, {\"RMSE\": 0.2412001803220692, \"Method\": \"Bagging (ntrees=2)\"}, {\"RMSE\": 0.2416253234869404, \"Method\": \"Bagging (ntrees=2)\"}, {\"RMSE\": 0.26010262822226965, \"Method\": \"Bagging (ntrees=2)\"}, {\"RMSE\": 0.24518241181632375, \"Method\": \"Bagging (ntrees=2)\"}, {\"RMSE\": 0.2483870732886889, \"Method\": \"Bagging (ntrees=2)\"}, {\"RMSE\": 0.2360904046353161, \"Method\": \"Bagging (ntrees=2)\"}, {\"RMSE\": 0.25781504411790257, \"Method\": \"Bagging (ntrees=2)\"}, {\"RMSE\": 0.24991319437026674, \"Method\": \"Bagging (ntrees=2)\"}, {\"RMSE\": 0.26452217541680073, \"Method\": \"Bagging (ntrees=2)\"}, {\"RMSE\": 0.2522621764942483, \"Method\": \"Bagging (ntrees=2)\"}, {\"RMSE\": 0.2512523188740172, \"Method\": \"Bagging (ntrees=2)\"}, {\"RMSE\": 0.2511624681573911, \"Method\": \"Bagging (ntrees=2)\"}, {\"RMSE\": 0.2600873872437553, \"Method\": \"Bagging (ntrees=2)\"}, {\"RMSE\": 0.2519411571289106, \"Method\": \"Bagging (ntrees=2)\"}, {\"RMSE\": 0.25556314431806165, \"Method\": \"Bagging (ntrees=2)\"}, {\"RMSE\": 0.2588702915015857, \"Method\": \"Bagging (ntrees=2)\"}, {\"RMSE\": 0.26244761694618085, \"Method\": \"Bagging (ntrees=2)\"}, {\"RMSE\": 0.25504232445116076, \"Method\": \"Bagging (ntrees=2)\"}, {\"RMSE\": 0.2528805630967005, \"Method\": \"Bagging (ntrees=2)\"}, {\"RMSE\": 0.260021549046188, \"Method\": \"Bagging (ntrees=2)\"}, {\"RMSE\": 0.2388649693487391, \"Method\": \"Bagging (ntrees=2)\"}, {\"RMSE\": 0.24260768589015352, \"Method\": \"Bagging (ntrees=2)\"}, {\"RMSE\": 0.25181247131036294, \"Method\": \"Bagging (ntrees=2)\"}, {\"RMSE\": 0.24596025762759566, \"Method\": \"Bagging (ntrees=2)\"}, {\"RMSE\": 0.24582889183295864, \"Method\": \"Bagging (ntrees=2)\"}, {\"RMSE\": 0.2665457820085063, \"Method\": \"Bagging (ntrees=2)\"}, {\"RMSE\": 0.25739146190316176, \"Method\": \"Bagging (ntrees=2)\"}, {\"RMSE\": 0.2554675263841199, \"Method\": \"Bagging (ntrees=2)\"}, {\"RMSE\": 0.24690065039156764, \"Method\": \"Bagging (ntrees=2)\"}, {\"RMSE\": 0.2529569526773577, \"Method\": \"Bagging (ntrees=2)\"}, {\"RMSE\": 0.24338008364101316, \"Method\": \"Bagging (ntrees=2)\"}, {\"RMSE\": 0.256910787256699, \"Method\": \"Bagging (ntrees=2)\"}, {\"RMSE\": 0.26225244962311817, \"Method\": \"Bagging (ntrees=2)\"}, {\"RMSE\": 0.2555239438737813, \"Method\": \"Bagging (ntrees=2)\"}, {\"RMSE\": 0.23262666410022373, \"Method\": \"Bagging (ntrees=2)\"}, {\"RMSE\": 0.2446500156763968, \"Method\": \"Bagging (ntrees=2)\"}, {\"RMSE\": 0.2171222409162828, \"Method\": \"Boosting (max_ntrees=100)\"}, {\"RMSE\": 0.229317479576057, \"Method\": \"Boosting (max_ntrees=100)\"}, {\"RMSE\": 0.23003148332184079, \"Method\": \"Boosting (max_ntrees=100)\"}, {\"RMSE\": 0.21592722410447454, \"Method\": \"Boosting (max_ntrees=100)\"}, {\"RMSE\": 0.2230451864721914, \"Method\": \"Boosting (max_ntrees=100)\"}, {\"RMSE\": 0.22492120849014904, \"Method\": \"Boosting (max_ntrees=100)\"}, {\"RMSE\": 0.23798666453431072, \"Method\": \"Boosting (max_ntrees=100)\"}, {\"RMSE\": 0.22472640516896564, \"Method\": \"Boosting (max_ntrees=100)\"}, {\"RMSE\": 0.2222799117469352, \"Method\": \"Boosting (max_ntrees=100)\"}, {\"RMSE\": 0.23122095466583842, \"Method\": \"Boosting (max_ntrees=100)\"}, {\"RMSE\": 0.2263651475698427, \"Method\": \"Boosting (max_ntrees=100)\"}, {\"RMSE\": 0.22627351095886977, \"Method\": \"Boosting (max_ntrees=100)\"}, {\"RMSE\": 0.22854023496845344, \"Method\": \"Boosting (max_ntrees=100)\"}, {\"RMSE\": 0.22567136231557292, \"Method\": \"Boosting (max_ntrees=100)\"}, {\"RMSE\": 0.21983993807825283, \"Method\": \"Boosting (max_ntrees=100)\"}, {\"RMSE\": 0.23079831291792263, \"Method\": \"Boosting (max_ntrees=100)\"}, {\"RMSE\": 0.22593427674063452, \"Method\": \"Boosting (max_ntrees=100)\"}, {\"RMSE\": 0.2268007034522932, \"Method\": \"Boosting (max_ntrees=100)\"}, {\"RMSE\": 0.22533482375332037, \"Method\": \"Boosting (max_ntrees=100)\"}, {\"RMSE\": 0.22342813417964605, \"Method\": \"Boosting (max_ntrees=100)\"}, {\"RMSE\": 0.23175878751294376, \"Method\": \"Boosting (max_ntrees=100)\"}, {\"RMSE\": 0.2359561511867524, \"Method\": \"Boosting (max_ntrees=100)\"}, {\"RMSE\": 0.22965983183651673, \"Method\": \"Boosting (max_ntrees=100)\"}, {\"RMSE\": 0.22758975909691562, \"Method\": \"Boosting (max_ntrees=100)\"}, {\"RMSE\": 0.2228900886770328, \"Method\": \"Boosting (max_ntrees=100)\"}, {\"RMSE\": 0.24414059289631176, \"Method\": \"Boosting (max_ntrees=100)\"}, {\"RMSE\": 0.22346361450543395, \"Method\": \"Boosting (max_ntrees=100)\"}, {\"RMSE\": 0.22584381975283072, \"Method\": \"Boosting (max_ntrees=100)\"}, {\"RMSE\": 0.23123815800490286, \"Method\": \"Boosting (max_ntrees=100)\"}, {\"RMSE\": 0.24165622537493742, \"Method\": \"Boosting (max_ntrees=100)\"}, {\"RMSE\": 0.22805194234918277, \"Method\": \"Boosting (max_ntrees=100)\"}, {\"RMSE\": 0.21917567195381235, \"Method\": \"Boosting (max_ntrees=100)\"}, {\"RMSE\": 0.22567904788766247, \"Method\": \"Boosting (max_ntrees=100)\"}, {\"RMSE\": 0.2299279699579699, \"Method\": \"Boosting (max_ntrees=100)\"}, {\"RMSE\": 0.22082077921777957, \"Method\": \"Boosting (max_ntrees=100)\"}, {\"RMSE\": 0.22164573995366732, \"Method\": \"Boosting (max_ntrees=100)\"}, {\"RMSE\": 0.23380101383062282, \"Method\": \"Boosting (max_ntrees=100)\"}, {\"RMSE\": 0.2231798753991582, \"Method\": \"Boosting (max_ntrees=100)\"}, {\"RMSE\": 0.21965356845903125, \"Method\": \"Boosting (max_ntrees=100)\"}, {\"RMSE\": 0.23896806603428217, \"Method\": \"Boosting (max_ntrees=100)\"}, {\"RMSE\": 0.23192022379616234, \"Method\": \"Boosting (max_ntrees=100)\"}, {\"RMSE\": 0.2369853939100717, \"Method\": \"Boosting (max_ntrees=100)\"}, {\"RMSE\": 0.22196283437006134, \"Method\": \"Boosting (max_ntrees=100)\"}, {\"RMSE\": 0.23472765013365743, \"Method\": \"Boosting (max_ntrees=100)\"}, {\"RMSE\": 0.22402214630416872, \"Method\": \"Boosting (max_ntrees=100)\"}, {\"RMSE\": 0.23416186962859808, \"Method\": \"Boosting (max_ntrees=100)\"}, {\"RMSE\": 0.23152411818426055, \"Method\": \"Boosting (max_ntrees=100)\"}, {\"RMSE\": 0.24070441472510534, \"Method\": \"Boosting (max_ntrees=100)\"}, {\"RMSE\": 0.21020860399408453, \"Method\": \"Boosting (max_ntrees=100)\"}, {\"RMSE\": 0.22349962217030328, \"Method\": \"Boosting (max_ntrees=100)\"}]}}, {\"mode\": \"vega-lite\"});\n",
       "</script>"
      ],
      "text/plain": [
       "alt.Chart(...)"
      ]
     },
     "execution_count": 24,
     "metadata": {},
     "output_type": "execute_result"
    }
   ],
   "source": [
    "import altair as alt\n",
    "\n",
    "alt.Chart(results).mark_boxplot().encode(\n",
    "    alt.Y(\"RMSE:Q\", scale=alt.Scale(domain=[0.2, 0.3])),\n",
    "    x='Method',\n",
    ").properties(width=300)"
   ]
  },
  {
   "cell_type": "markdown",
   "metadata": {},
   "source": [
    "**Problem 3.** How would you compare (using t-test) whether the boosting algorithm is better than bagging (ntrees=100)?"
   ]
  },
  {
   "cell_type": "code",
   "execution_count": 25,
   "metadata": {},
   "outputs": [
    {
     "data": {
      "text/plain": [
       "Ttest_indResult(statistic=0.7250425752916421, pvalue=0.4701535936512572)"
      ]
     },
     "execution_count": 25,
     "metadata": {},
     "output_type": "execute_result"
    }
   ],
   "source": [
    "# Your solution here"
   ]
  },
  {
   "cell_type": "code",
   "execution_count": 26,
   "metadata": {},
   "outputs": [],
   "source": [
    "# Good job!\n",
    "# Don't forget to push with ./submit.sh"
   ]
  },
  {
   "cell_type": "markdown",
   "metadata": {},
   "source": [
    "#### Having trouble with the test cases and the autograder?\n",
    "\n",
    "You can always load up the answers for the autograder. The autograder runs your code and compares your answer to the expected answer. I manually review your code, so there is no need to hide this from you.\n",
    "\n",
    "```python\n",
    "import joblib\n",
    "answers = joblib.load(f\"{home}/csc-466-student/tests/answers_Lab5.joblib\")\n",
    "answers.keys()\n",
    "```"
   ]
  }
 ],
 "metadata": {
  "kernelspec": {
   "display_name": "Python 3",
   "language": "python",
   "name": "python3"
  },
  "language_info": {
   "codemirror_mode": {
    "name": "ipython",
    "version": 3
   },
   "file_extension": ".py",
   "mimetype": "text/x-python",
   "name": "python",
   "nbconvert_exporter": "python",
   "pygments_lexer": "ipython3",
   "version": "3.7.3"
  }
 },
 "nbformat": 4,
 "nbformat_minor": 4
}
