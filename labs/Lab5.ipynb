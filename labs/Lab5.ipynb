{
 "cells": [
  {
   "cell_type": "markdown",
   "metadata": {},
   "source": [
    "# Lab 5\n",
    "\n",
    "## Ensemble Learning\n",
    "\n",
    "For this lab, we will implement a bagging and boosting. Due to the increased simplicity when implementing regression with boosted trees over classification, we will stick to regression for this lab. Classification is a straightforward extension.\n",
    "\n",
    "There are two main exercises and questions in the lab. \n",
    "\n",
    "**Note:** Exercises can be autograded and count towards your lab and assignment score. Problems are graded for participation."
   ]
  },
  {
   "cell_type": "code",
   "execution_count": 1,
   "metadata": {},
   "outputs": [],
   "source": [
    "from pathlib import Path\n",
    "home = str(Path.home()) # all other paths are relative to this path. change to something else if this is not the case on your system"
   ]
  },
  {
   "cell_type": "code",
   "execution_count": 2,
   "metadata": {},
   "outputs": [],
   "source": [
    "%load_ext autoreload\n",
    "%autoreload 2\n",
    "\n",
    "# make sure your run the cell above before running this\n",
    "import Lab5_helper"
   ]
  },
  {
   "cell_type": "markdown",
   "metadata": {},
   "source": [
    "For developing this lab, we can our three gene dataset. We will try to predict the value of ESR1 from the other two genes."
   ]
  },
  {
   "cell_type": "code",
   "execution_count": 3,
   "metadata": {},
   "outputs": [
    {
     "data": {
      "text/html": [
       "<div>\n",
       "<style scoped>\n",
       "    .dataframe tbody tr th:only-of-type {\n",
       "        vertical-align: middle;\n",
       "    }\n",
       "\n",
       "    .dataframe tbody tr th {\n",
       "        vertical-align: top;\n",
       "    }\n",
       "\n",
       "    .dataframe thead th {\n",
       "        text-align: right;\n",
       "    }\n",
       "</style>\n",
       "<table border=\"1\" class=\"dataframe\">\n",
       "  <thead>\n",
       "    <tr style=\"text-align: right;\">\n",
       "      <th></th>\n",
       "      <th>ESR1</th>\n",
       "      <th>AURKA</th>\n",
       "      <th>ERBB2</th>\n",
       "      <th>Subtype</th>\n",
       "    </tr>\n",
       "  </thead>\n",
       "  <tbody>\n",
       "    <tr>\n",
       "      <th>0</th>\n",
       "      <td>0.804501</td>\n",
       "      <td>0.264356</td>\n",
       "      <td>6.941677</td>\n",
       "      <td>LumA</td>\n",
       "    </tr>\n",
       "    <tr>\n",
       "      <th>1</th>\n",
       "      <td>0.163597</td>\n",
       "      <td>0.589052</td>\n",
       "      <td>6.551394</td>\n",
       "      <td>Basal</td>\n",
       "    </tr>\n",
       "    <tr>\n",
       "      <th>2</th>\n",
       "      <td>0.569347</td>\n",
       "      <td>0.189531</td>\n",
       "      <td>7.056530</td>\n",
       "      <td>LumA</td>\n",
       "    </tr>\n",
       "    <tr>\n",
       "      <th>3</th>\n",
       "      <td>0.847584</td>\n",
       "      <td>0.264849</td>\n",
       "      <td>7.028625</td>\n",
       "      <td>LumB</td>\n",
       "    </tr>\n",
       "    <tr>\n",
       "      <th>4</th>\n",
       "      <td>0.442474</td>\n",
       "      <td>0.526040</td>\n",
       "      <td>8.783604</td>\n",
       "      <td>LumB</td>\n",
       "    </tr>\n",
       "  </tbody>\n",
       "</table>\n",
       "</div>"
      ],
      "text/plain": [
       "       ESR1     AURKA     ERBB2 Subtype\n",
       "0  0.804501  0.264356  6.941677    LumA\n",
       "1  0.163597  0.589052  6.551394   Basal\n",
       "2  0.569347  0.189531  7.056530    LumA\n",
       "3  0.847584  0.264849  7.028625    LumB\n",
       "4  0.442474  0.526040  8.783604    LumB"
      ]
     },
     "execution_count": 3,
     "metadata": {},
     "output_type": "execute_result"
    }
   ],
   "source": [
    "import pandas as pd\n",
    "import numpy as np\n",
    "\n",
    "df = pd.read_csv(\n",
    "    f\"{home}/csc-466-student/data/breast_cancer_three_gene.csv\",index_col=0\n",
    ")\n",
    "df.head()"
   ]
  },
  {
   "cell_type": "markdown",
   "metadata": {},
   "source": [
    "We need to do some simple preprocessing before our neural network can deal with this data. "
   ]
  },
  {
   "cell_type": "code",
   "execution_count": 4,
   "metadata": {},
   "outputs": [
    {
     "data": {
      "text/html": [
       "<div>\n",
       "<style scoped>\n",
       "    .dataframe tbody tr th:only-of-type {\n",
       "        vertical-align: middle;\n",
       "    }\n",
       "\n",
       "    .dataframe tbody tr th {\n",
       "        vertical-align: top;\n",
       "    }\n",
       "\n",
       "    .dataframe thead th {\n",
       "        text-align: right;\n",
       "    }\n",
       "</style>\n",
       "<table border=\"1\" class=\"dataframe\">\n",
       "  <thead>\n",
       "    <tr style=\"text-align: right;\">\n",
       "      <th></th>\n",
       "      <th>ESR1</th>\n",
       "      <th>AURKA</th>\n",
       "      <th>ERBB2</th>\n",
       "    </tr>\n",
       "  </thead>\n",
       "  <tbody>\n",
       "    <tr>\n",
       "      <th>0</th>\n",
       "      <td>0.804501</td>\n",
       "      <td>0.264356</td>\n",
       "      <td>6.941677</td>\n",
       "    </tr>\n",
       "    <tr>\n",
       "      <th>1</th>\n",
       "      <td>0.163597</td>\n",
       "      <td>0.589052</td>\n",
       "      <td>6.551394</td>\n",
       "    </tr>\n",
       "    <tr>\n",
       "      <th>2</th>\n",
       "      <td>0.569347</td>\n",
       "      <td>0.189531</td>\n",
       "      <td>7.056530</td>\n",
       "    </tr>\n",
       "    <tr>\n",
       "      <th>3</th>\n",
       "      <td>0.847584</td>\n",
       "      <td>0.264849</td>\n",
       "      <td>7.028625</td>\n",
       "    </tr>\n",
       "    <tr>\n",
       "      <th>4</th>\n",
       "      <td>0.442474</td>\n",
       "      <td>0.526040</td>\n",
       "      <td>8.783604</td>\n",
       "    </tr>\n",
       "    <tr>\n",
       "      <th>...</th>\n",
       "      <td>...</td>\n",
       "      <td>...</td>\n",
       "      <td>...</td>\n",
       "    </tr>\n",
       "    <tr>\n",
       "      <th>2128</th>\n",
       "      <td>0.635455</td>\n",
       "      <td>0.143977</td>\n",
       "      <td>7.159443</td>\n",
       "    </tr>\n",
       "    <tr>\n",
       "      <th>2129</th>\n",
       "      <td>0.632849</td>\n",
       "      <td>0.258203</td>\n",
       "      <td>7.145417</td>\n",
       "    </tr>\n",
       "    <tr>\n",
       "      <th>2130</th>\n",
       "      <td>0.662344</td>\n",
       "      <td>0.243027</td>\n",
       "      <td>6.936228</td>\n",
       "    </tr>\n",
       "    <tr>\n",
       "      <th>2131</th>\n",
       "      <td>0.086119</td>\n",
       "      <td>0.479997</td>\n",
       "      <td>7.671082</td>\n",
       "    </tr>\n",
       "    <tr>\n",
       "      <th>2132</th>\n",
       "      <td>0.684853</td>\n",
       "      <td>0.295967</td>\n",
       "      <td>7.045126</td>\n",
       "    </tr>\n",
       "  </tbody>\n",
       "</table>\n",
       "<p>2133 rows × 3 columns</p>\n",
       "</div>"
      ],
      "text/plain": [
       "          ESR1     AURKA     ERBB2\n",
       "0     0.804501  0.264356  6.941677\n",
       "1     0.163597  0.589052  6.551394\n",
       "2     0.569347  0.189531  7.056530\n",
       "3     0.847584  0.264849  7.028625\n",
       "4     0.442474  0.526040  8.783604\n",
       "...        ...       ...       ...\n",
       "2128  0.635455  0.143977  7.159443\n",
       "2129  0.632849  0.258203  7.145417\n",
       "2130  0.662344  0.243027  6.936228\n",
       "2131  0.086119  0.479997  7.671082\n",
       "2132  0.684853  0.295967  7.045126\n",
       "\n",
       "[2133 rows x 3 columns]"
      ]
     },
     "execution_count": 4,
     "metadata": {},
     "output_type": "execute_result"
    }
   ],
   "source": [
    "X = df.drop('Subtype',axis=1)#.dropna()\n",
    "X"
   ]
  },
  {
   "cell_type": "code",
   "execution_count": 5,
   "metadata": {},
   "outputs": [
    {
     "data": {
      "text/html": [
       "<div>\n",
       "<style scoped>\n",
       "    .dataframe tbody tr th:only-of-type {\n",
       "        vertical-align: middle;\n",
       "    }\n",
       "\n",
       "    .dataframe tbody tr th {\n",
       "        vertical-align: top;\n",
       "    }\n",
       "\n",
       "    .dataframe thead th {\n",
       "        text-align: right;\n",
       "    }\n",
       "</style>\n",
       "<table border=\"1\" class=\"dataframe\">\n",
       "  <thead>\n",
       "    <tr style=\"text-align: right;\">\n",
       "      <th></th>\n",
       "      <th>AURKA</th>\n",
       "      <th>ERBB2</th>\n",
       "    </tr>\n",
       "  </thead>\n",
       "  <tbody>\n",
       "    <tr>\n",
       "      <th>0</th>\n",
       "      <td>0.264356</td>\n",
       "      <td>6.941677</td>\n",
       "    </tr>\n",
       "    <tr>\n",
       "      <th>1</th>\n",
       "      <td>0.589052</td>\n",
       "      <td>6.551394</td>\n",
       "    </tr>\n",
       "    <tr>\n",
       "      <th>2</th>\n",
       "      <td>0.189531</td>\n",
       "      <td>7.056530</td>\n",
       "    </tr>\n",
       "    <tr>\n",
       "      <th>3</th>\n",
       "      <td>0.264849</td>\n",
       "      <td>7.028625</td>\n",
       "    </tr>\n",
       "    <tr>\n",
       "      <th>4</th>\n",
       "      <td>0.526040</td>\n",
       "      <td>8.783604</td>\n",
       "    </tr>\n",
       "    <tr>\n",
       "      <th>...</th>\n",
       "      <td>...</td>\n",
       "      <td>...</td>\n",
       "    </tr>\n",
       "    <tr>\n",
       "      <th>2128</th>\n",
       "      <td>0.143977</td>\n",
       "      <td>7.159443</td>\n",
       "    </tr>\n",
       "    <tr>\n",
       "      <th>2129</th>\n",
       "      <td>0.258203</td>\n",
       "      <td>7.145417</td>\n",
       "    </tr>\n",
       "    <tr>\n",
       "      <th>2130</th>\n",
       "      <td>0.243027</td>\n",
       "      <td>6.936228</td>\n",
       "    </tr>\n",
       "    <tr>\n",
       "      <th>2131</th>\n",
       "      <td>0.479997</td>\n",
       "      <td>7.671082</td>\n",
       "    </tr>\n",
       "    <tr>\n",
       "      <th>2132</th>\n",
       "      <td>0.295967</td>\n",
       "      <td>7.045126</td>\n",
       "    </tr>\n",
       "  </tbody>\n",
       "</table>\n",
       "<p>2133 rows × 2 columns</p>\n",
       "</div>"
      ],
      "text/plain": [
       "         AURKA     ERBB2\n",
       "0     0.264356  6.941677\n",
       "1     0.589052  6.551394\n",
       "2     0.189531  7.056530\n",
       "3     0.264849  7.028625\n",
       "4     0.526040  8.783604\n",
       "...        ...       ...\n",
       "2128  0.143977  7.159443\n",
       "2129  0.258203  7.145417\n",
       "2130  0.243027  6.936228\n",
       "2131  0.479997  7.671082\n",
       "2132  0.295967  7.045126\n",
       "\n",
       "[2133 rows x 2 columns]"
      ]
     },
     "execution_count": 5,
     "metadata": {},
     "output_type": "execute_result"
    }
   ],
   "source": [
    "t = X['ESR1']\n",
    "X2 = pd.get_dummies(X.drop('ESR1',axis=1))\n",
    "X2"
   ]
  },
  {
   "cell_type": "markdown",
   "metadata": {},
   "source": [
    "#### Exercise 1\n",
    "Implement bagging using regression trees as the (weak) individual learner. You should be able to reach a similar accuray to my implementation."
   ]
  },
  {
   "cell_type": "code",
   "execution_count": 6,
   "metadata": {},
   "outputs": [
    {
     "name": "stdout",
     "output_type": "stream",
     "text": [
      "Our prediction for Fare is off by 0.16748799642382256\n"
     ]
    }
   ],
   "source": [
    "import numpy as np\n",
    "learner = Lab5_helper.get_learner(X2,t) # Here is how to get a single weak learner to help build your ensembles\n",
    "y = learner.predict(X2) # As usual, here is how to get predictions\n",
    "RMSE = np.sqrt(((y-t)**2).sum()/len(t)) # Here is a sample calculation of the root mean squared error\n",
    "print('Our prediction for Fare is off by',RMSE)"
   ]
  },
  {
   "cell_type": "code",
   "execution_count": 7,
   "metadata": {},
   "outputs": [
    {
     "data": {
      "text/plain": [
       "0.2278798852379047"
      ]
     },
     "execution_count": 7,
     "metadata": {},
     "output_type": "execute_result"
    }
   ],
   "source": [
    "from sklearn.model_selection import train_test_split\n",
    "\n",
    "ntrials = 50\n",
    "# when you are debugging you will want to lower this number\n",
    "RMSEs = []\n",
    "for trial in range(ntrials):\n",
    "    X_train, X_test, t_train, t_test = train_test_split(X2, t, test_size=0.25,random_state=trial)\n",
    "    trees = Lab5_helper.make_trees(X_train,t_train,ntrees=100)\n",
    "    y = Lab5_helper.make_prediction(trees,X_test)\n",
    "    RMSEs.append(np.sqrt(((y-t_test)**2).sum()/len(t_test)))\n",
    "np.median(RMSEs)"
   ]
  },
  {
   "cell_type": "markdown",
   "metadata": {},
   "source": [
    "**Problem 1:** How do we know this is behaving as expected when there is so much randomness? This is a very similar to a question about how can we compare two algorithms? Let's examine this by changing the number of trees in bagging between 25 and 100. Then we will see if we can detect a difference.\n",
    "\n",
    "**Your answer here**"
   ]
  },
  {
   "cell_type": "code",
   "execution_count": 8,
   "metadata": {},
   "outputs": [],
   "source": [
    "results = pd.DataFrame({'RMSE':RMSEs,'Method':'Bagging (ntrees=100)'})\n",
    "RMSEs = []\n",
    "for trial in range(ntrials):\n",
    "    X_train, X_test, t_train, t_test = train_test_split(X2, t, test_size=0.25,random_state=trial)\n",
    "    trees = Lab5_helper.make_trees(X_train,t_train,ntrees=25)\n",
    "    y = Lab5_helper.make_prediction(trees,X_test)\n",
    "    RMSEs.append(np.sqrt(((y-t_test)**2).sum()/len(t_test)))\n",
    "results2 = pd.DataFrame({'RMSE':RMSEs,'Method':'Bagging (ntrees=25)'})\n",
    "results = results.append(results2)"
   ]
  },
  {
   "cell_type": "code",
   "execution_count": 9,
   "metadata": {},
   "outputs": [
    {
     "data": {
      "text/plain": [
       "Method\n",
       "Bagging (ntrees=100)    0.227880\n",
       "Bagging (ntrees=25)     0.229664\n",
       "Name: RMSE, dtype: float64"
      ]
     },
     "execution_count": 9,
     "metadata": {},
     "output_type": "execute_result"
    }
   ],
   "source": [
    "results.groupby('Method')['RMSE'].median()"
   ]
  },
  {
   "cell_type": "code",
   "execution_count": 10,
   "metadata": {},
   "outputs": [
    {
     "data": {
      "text/plain": [
       "Method\n",
       "Bagging (ntrees=100)    0.228437\n",
       "Bagging (ntrees=25)     0.229752\n",
       "Name: RMSE, dtype: float64"
      ]
     },
     "execution_count": 10,
     "metadata": {},
     "output_type": "execute_result"
    }
   ],
   "source": [
    "results.groupby('Method')['RMSE'].mean()"
   ]
  },
  {
   "cell_type": "markdown",
   "metadata": {},
   "source": [
    "This looks promising! But what do the statistics tell us?"
   ]
  },
  {
   "cell_type": "code",
   "execution_count": 11,
   "metadata": {},
   "outputs": [
    {
     "data": {
      "text/html": [
       "\n",
       "<div id=\"altair-viz-d87e5656d5dc467f9ee87589a5c9fef1\"></div>\n",
       "<script type=\"text/javascript\">\n",
       "  (function(spec, embedOpt){\n",
       "    let outputDiv = document.currentScript.previousElementSibling;\n",
       "    if (outputDiv.id !== \"altair-viz-d87e5656d5dc467f9ee87589a5c9fef1\") {\n",
       "      outputDiv = document.getElementById(\"altair-viz-d87e5656d5dc467f9ee87589a5c9fef1\");\n",
       "    }\n",
       "    const paths = {\n",
       "      \"vega\": \"https://cdn.jsdelivr.net/npm//vega@5?noext\",\n",
       "      \"vega-lib\": \"https://cdn.jsdelivr.net/npm//vega-lib?noext\",\n",
       "      \"vega-lite\": \"https://cdn.jsdelivr.net/npm//vega-lite@4.8.1?noext\",\n",
       "      \"vega-embed\": \"https://cdn.jsdelivr.net/npm//vega-embed@6?noext\",\n",
       "    };\n",
       "\n",
       "    function loadScript(lib) {\n",
       "      return new Promise(function(resolve, reject) {\n",
       "        var s = document.createElement('script');\n",
       "        s.src = paths[lib];\n",
       "        s.async = true;\n",
       "        s.onload = () => resolve(paths[lib]);\n",
       "        s.onerror = () => reject(`Error loading script: ${paths[lib]}`);\n",
       "        document.getElementsByTagName(\"head\")[0].appendChild(s);\n",
       "      });\n",
       "    }\n",
       "\n",
       "    function showError(err) {\n",
       "      outputDiv.innerHTML = `<div class=\"error\" style=\"color:red;\">${err}</div>`;\n",
       "      throw err;\n",
       "    }\n",
       "\n",
       "    function displayChart(vegaEmbed) {\n",
       "      vegaEmbed(outputDiv, spec, embedOpt)\n",
       "        .catch(err => showError(`Javascript Error: ${err.message}<br>This usually means there's a typo in your chart specification. See the javascript console for the full traceback.`));\n",
       "    }\n",
       "\n",
       "    if(typeof define === \"function\" && define.amd) {\n",
       "      requirejs.config({paths});\n",
       "      require([\"vega-embed\"], displayChart, err => showError(`Error loading script: ${err.message}`));\n",
       "    } else if (typeof vegaEmbed === \"function\") {\n",
       "      displayChart(vegaEmbed);\n",
       "    } else {\n",
       "      loadScript(\"vega\")\n",
       "        .then(() => loadScript(\"vega-lite\"))\n",
       "        .then(() => loadScript(\"vega-embed\"))\n",
       "        .catch(showError)\n",
       "        .then(() => displayChart(vegaEmbed));\n",
       "    }\n",
       "  })({\"config\": {\"view\": {\"continuousWidth\": 400, \"continuousHeight\": 300}}, \"data\": {\"name\": \"data-985d551dcdecf38ed8fe6394b6dce9da\"}, \"mark\": \"boxplot\", \"encoding\": {\"x\": {\"type\": \"nominal\", \"field\": \"Method\"}, \"y\": {\"type\": \"quantitative\", \"field\": \"RMSE\"}}, \"width\": 300, \"$schema\": \"https://vega.github.io/schema/vega-lite/v4.8.1.json\", \"datasets\": {\"data-985d551dcdecf38ed8fe6394b6dce9da\": [{\"RMSE\": 0.2200940448207445, \"Method\": \"Bagging (ntrees=100)\"}, {\"RMSE\": 0.23002321730015984, \"Method\": \"Bagging (ntrees=100)\"}, {\"RMSE\": 0.2276384699616832, \"Method\": \"Bagging (ntrees=100)\"}, {\"RMSE\": 0.22224651983610957, \"Method\": \"Bagging (ntrees=100)\"}, {\"RMSE\": 0.22048328914791732, \"Method\": \"Bagging (ntrees=100)\"}, {\"RMSE\": 0.2288189294609052, \"Method\": \"Bagging (ntrees=100)\"}, {\"RMSE\": 0.2389254257176375, \"Method\": \"Bagging (ntrees=100)\"}, {\"RMSE\": 0.2264465651116897, \"Method\": \"Bagging (ntrees=100)\"}, {\"RMSE\": 0.2271098538732656, \"Method\": \"Bagging (ntrees=100)\"}, {\"RMSE\": 0.23618396524886692, \"Method\": \"Bagging (ntrees=100)\"}, {\"RMSE\": 0.23841518709297052, \"Method\": \"Bagging (ntrees=100)\"}, {\"RMSE\": 0.2266393782683873, \"Method\": \"Bagging (ntrees=100)\"}, {\"RMSE\": 0.22845591654020017, \"Method\": \"Bagging (ntrees=100)\"}, {\"RMSE\": 0.22881183831678, \"Method\": \"Bagging (ntrees=100)\"}, {\"RMSE\": 0.22151200454164297, \"Method\": \"Bagging (ntrees=100)\"}, {\"RMSE\": 0.2255001253484866, \"Method\": \"Bagging (ntrees=100)\"}, {\"RMSE\": 0.2357665900613398, \"Method\": \"Bagging (ntrees=100)\"}, {\"RMSE\": 0.222403488759101, \"Method\": \"Bagging (ntrees=100)\"}, {\"RMSE\": 0.2275201360636074, \"Method\": \"Bagging (ntrees=100)\"}, {\"RMSE\": 0.2203922390473232, \"Method\": \"Bagging (ntrees=100)\"}, {\"RMSE\": 0.2225539157018361, \"Method\": \"Bagging (ntrees=100)\"}, {\"RMSE\": 0.22916041377115592, \"Method\": \"Bagging (ntrees=100)\"}, {\"RMSE\": 0.23145306139654767, \"Method\": \"Bagging (ntrees=100)\"}, {\"RMSE\": 0.22760279414722806, \"Method\": \"Bagging (ntrees=100)\"}, {\"RMSE\": 0.22932290596415184, \"Method\": \"Bagging (ntrees=100)\"}, {\"RMSE\": 0.2367364610514661, \"Method\": \"Bagging (ntrees=100)\"}, {\"RMSE\": 0.22428297055271482, \"Method\": \"Bagging (ntrees=100)\"}, {\"RMSE\": 0.2310209225587909, \"Method\": \"Bagging (ntrees=100)\"}, {\"RMSE\": 0.23176887387610778, \"Method\": \"Bagging (ntrees=100)\"}, {\"RMSE\": 0.2364759095083565, \"Method\": \"Bagging (ntrees=100)\"}, {\"RMSE\": 0.23376414101495507, \"Method\": \"Bagging (ntrees=100)\"}, {\"RMSE\": 0.22558270503068623, \"Method\": \"Bagging (ntrees=100)\"}, {\"RMSE\": 0.21996367250950474, \"Method\": \"Bagging (ntrees=100)\"}, {\"RMSE\": 0.2281213005141262, \"Method\": \"Bagging (ntrees=100)\"}, {\"RMSE\": 0.2194262456731782, \"Method\": \"Bagging (ntrees=100)\"}, {\"RMSE\": 0.23411517877742594, \"Method\": \"Bagging (ntrees=100)\"}, {\"RMSE\": 0.22830095866764974, \"Method\": \"Bagging (ntrees=100)\"}, {\"RMSE\": 0.22390264074316443, \"Method\": \"Bagging (ntrees=100)\"}, {\"RMSE\": 0.22683717558164668, \"Method\": \"Bagging (ntrees=100)\"}, {\"RMSE\": 0.24476083172309118, \"Method\": \"Bagging (ntrees=100)\"}, {\"RMSE\": 0.22691166071827018, \"Method\": \"Bagging (ntrees=100)\"}, {\"RMSE\": 0.23374523646270978, \"Method\": \"Bagging (ntrees=100)\"}, {\"RMSE\": 0.22676843665212512, \"Method\": \"Bagging (ntrees=100)\"}, {\"RMSE\": 0.2302869316816917, \"Method\": \"Bagging (ntrees=100)\"}, {\"RMSE\": 0.22516404711520385, \"Method\": \"Bagging (ntrees=100)\"}, {\"RMSE\": 0.2310240251637691, \"Method\": \"Bagging (ntrees=100)\"}, {\"RMSE\": 0.24014126893059284, \"Method\": \"Bagging (ntrees=100)\"}, {\"RMSE\": 0.23451030239664564, \"Method\": \"Bagging (ntrees=100)\"}, {\"RMSE\": 0.21670691150921378, \"Method\": \"Bagging (ntrees=100)\"}, {\"RMSE\": 0.2180359623612796, \"Method\": \"Bagging (ntrees=100)\"}, {\"RMSE\": 0.21708298843684562, \"Method\": \"Bagging (ntrees=25)\"}, {\"RMSE\": 0.23044295976049317, \"Method\": \"Bagging (ntrees=25)\"}, {\"RMSE\": 0.22882523814067554, \"Method\": \"Bagging (ntrees=25)\"}, {\"RMSE\": 0.22547851931066976, \"Method\": \"Bagging (ntrees=25)\"}, {\"RMSE\": 0.22326882777443208, \"Method\": \"Bagging (ntrees=25)\"}, {\"RMSE\": 0.230380442973957, \"Method\": \"Bagging (ntrees=25)\"}, {\"RMSE\": 0.2393844070082018, \"Method\": \"Bagging (ntrees=25)\"}, {\"RMSE\": 0.22335326410318812, \"Method\": \"Bagging (ntrees=25)\"}, {\"RMSE\": 0.22955824368117458, \"Method\": \"Bagging (ntrees=25)\"}, {\"RMSE\": 0.23804478670823093, \"Method\": \"Bagging (ntrees=25)\"}, {\"RMSE\": 0.23970040892628203, \"Method\": \"Bagging (ntrees=25)\"}, {\"RMSE\": 0.22861319821095308, \"Method\": \"Bagging (ntrees=25)\"}, {\"RMSE\": 0.23357635674411803, \"Method\": \"Bagging (ntrees=25)\"}, {\"RMSE\": 0.2291044743457691, \"Method\": \"Bagging (ntrees=25)\"}, {\"RMSE\": 0.22265169666327633, \"Method\": \"Bagging (ntrees=25)\"}, {\"RMSE\": 0.2286977020391428, \"Method\": \"Bagging (ntrees=25)\"}, {\"RMSE\": 0.23942543406529274, \"Method\": \"Bagging (ntrees=25)\"}, {\"RMSE\": 0.2272204313899437, \"Method\": \"Bagging (ntrees=25)\"}, {\"RMSE\": 0.22651003123554464, \"Method\": \"Bagging (ntrees=25)\"}, {\"RMSE\": 0.22145316639959095, \"Method\": \"Bagging (ntrees=25)\"}, {\"RMSE\": 0.22403312714795234, \"Method\": \"Bagging (ntrees=25)\"}, {\"RMSE\": 0.22856848110091385, \"Method\": \"Bagging (ntrees=25)\"}, {\"RMSE\": 0.23192477227516864, \"Method\": \"Bagging (ntrees=25)\"}, {\"RMSE\": 0.23083619895630564, \"Method\": \"Bagging (ntrees=25)\"}, {\"RMSE\": 0.22826438499302762, \"Method\": \"Bagging (ntrees=25)\"}, {\"RMSE\": 0.23617111336637578, \"Method\": \"Bagging (ntrees=25)\"}, {\"RMSE\": 0.22372760640928596, \"Method\": \"Bagging (ntrees=25)\"}, {\"RMSE\": 0.23230972390798035, \"Method\": \"Bagging (ntrees=25)\"}, {\"RMSE\": 0.2315809688654356, \"Method\": \"Bagging (ntrees=25)\"}, {\"RMSE\": 0.2385741763896683, \"Method\": \"Bagging (ntrees=25)\"}, {\"RMSE\": 0.234333352255569, \"Method\": \"Bagging (ntrees=25)\"}, {\"RMSE\": 0.22640361055926608, \"Method\": \"Bagging (ntrees=25)\"}, {\"RMSE\": 0.2210292946745448, \"Method\": \"Bagging (ntrees=25)\"}, {\"RMSE\": 0.23238414412031502, \"Method\": \"Bagging (ntrees=25)\"}, {\"RMSE\": 0.22309716493426632, \"Method\": \"Bagging (ntrees=25)\"}, {\"RMSE\": 0.2338649562203064, \"Method\": \"Bagging (ntrees=25)\"}, {\"RMSE\": 0.23096814437562366, \"Method\": \"Bagging (ntrees=25)\"}, {\"RMSE\": 0.22622005171618162, \"Method\": \"Bagging (ntrees=25)\"}, {\"RMSE\": 0.22977009759979927, \"Method\": \"Bagging (ntrees=25)\"}, {\"RMSE\": 0.2440196788516536, \"Method\": \"Bagging (ntrees=25)\"}, {\"RMSE\": 0.22688817753592458, \"Method\": \"Bagging (ntrees=25)\"}, {\"RMSE\": 0.23493043585212706, \"Method\": \"Bagging (ntrees=25)\"}, {\"RMSE\": 0.23188374224797784, \"Method\": \"Bagging (ntrees=25)\"}, {\"RMSE\": 0.2331924851521762, \"Method\": \"Bagging (ntrees=25)\"}, {\"RMSE\": 0.2280216207642194, \"Method\": \"Bagging (ntrees=25)\"}, {\"RMSE\": 0.23287255105687035, \"Method\": \"Bagging (ntrees=25)\"}, {\"RMSE\": 0.24021199920246974, \"Method\": \"Bagging (ntrees=25)\"}, {\"RMSE\": 0.23323006158892576, \"Method\": \"Bagging (ntrees=25)\"}, {\"RMSE\": 0.21758053945773353, \"Method\": \"Bagging (ntrees=25)\"}, {\"RMSE\": 0.21792111455639793, \"Method\": \"Bagging (ntrees=25)\"}]}}, {\"mode\": \"vega-lite\"});\n",
       "</script>"
      ],
      "text/plain": [
       "alt.Chart(...)"
      ]
     },
     "execution_count": 11,
     "metadata": {},
     "output_type": "execute_result"
    }
   ],
   "source": [
    "import altair as alt\n",
    "\n",
    "alt.Chart(results).mark_boxplot().encode(\n",
    "    alt.Y(\"RMSE:Q\"),\n",
    "    x='Method',\n",
    ").properties(width=300)"
   ]
  },
  {
   "cell_type": "markdown",
   "metadata": {},
   "source": [
    "For a moment, let's not worry that the underlying distributions do not look normal. We know how to compare the average of two distributions, the t-test. Let's see what that says:"
   ]
  },
  {
   "cell_type": "code",
   "execution_count": 12,
   "metadata": {},
   "outputs": [
    {
     "data": {
      "text/html": [
       "<div>\n",
       "<style scoped>\n",
       "    .dataframe tbody tr th:only-of-type {\n",
       "        vertical-align: middle;\n",
       "    }\n",
       "\n",
       "    .dataframe tbody tr th {\n",
       "        vertical-align: top;\n",
       "    }\n",
       "\n",
       "    .dataframe thead tr th {\n",
       "        text-align: left;\n",
       "    }\n",
       "</style>\n",
       "<table border=\"1\" class=\"dataframe\">\n",
       "  <thead>\n",
       "    <tr>\n",
       "      <th></th>\n",
       "      <th colspan=\"2\" halign=\"left\">RMSE</th>\n",
       "    </tr>\n",
       "    <tr>\n",
       "      <th>Method</th>\n",
       "      <th>Bagging (ntrees=100)</th>\n",
       "      <th>Bagging (ntrees=25)</th>\n",
       "    </tr>\n",
       "  </thead>\n",
       "  <tbody>\n",
       "    <tr>\n",
       "      <th>0</th>\n",
       "      <td>0.220094</td>\n",
       "      <td>0.217083</td>\n",
       "    </tr>\n",
       "    <tr>\n",
       "      <th>1</th>\n",
       "      <td>0.230023</td>\n",
       "      <td>0.230443</td>\n",
       "    </tr>\n",
       "    <tr>\n",
       "      <th>2</th>\n",
       "      <td>0.227638</td>\n",
       "      <td>0.228825</td>\n",
       "    </tr>\n",
       "    <tr>\n",
       "      <th>3</th>\n",
       "      <td>0.222247</td>\n",
       "      <td>0.225479</td>\n",
       "    </tr>\n",
       "    <tr>\n",
       "      <th>4</th>\n",
       "      <td>0.220483</td>\n",
       "      <td>0.223269</td>\n",
       "    </tr>\n",
       "  </tbody>\n",
       "</table>\n",
       "</div>"
      ],
      "text/plain": [
       "                       RMSE                    \n",
       "Method Bagging (ntrees=100) Bagging (ntrees=25)\n",
       "0                  0.220094            0.217083\n",
       "1                  0.230023            0.230443\n",
       "2                  0.227638            0.228825\n",
       "3                  0.222247            0.225479\n",
       "4                  0.220483            0.223269"
      ]
     },
     "execution_count": 12,
     "metadata": {},
     "output_type": "execute_result"
    }
   ],
   "source": [
    "pivot_results = results.pivot(columns='Method')\n",
    "pivot_results.head()"
   ]
  },
  {
   "cell_type": "code",
   "execution_count": 13,
   "metadata": {},
   "outputs": [
    {
     "data": {
      "text/plain": [
       "MultiIndex([('RMSE', 'Bagging (ntrees=100)'),\n",
       "            ('RMSE',  'Bagging (ntrees=25)')],\n",
       "           names=[None, 'Method'])"
      ]
     },
     "execution_count": 13,
     "metadata": {},
     "output_type": "execute_result"
    }
   ],
   "source": [
    "pivot_results.columns"
   ]
  },
  {
   "cell_type": "code",
   "execution_count": 14,
   "metadata": {},
   "outputs": [
    {
     "data": {
      "text/plain": [
       "Ttest_indResult(statistic=-1.0684492425650565, pvalue=0.287942711423581)"
      ]
     },
     "execution_count": 14,
     "metadata": {},
     "output_type": "execute_result"
    }
   ],
   "source": [
    "from scipy import stats\n",
    "stats.stats.ttest_ind(pivot_results[('RMSE', 'Bagging (ntrees=100)')],pivot_results[('RMSE', 'Bagging (ntrees=25)')],equal_var = True)"
   ]
  },
  {
   "cell_type": "markdown",
   "metadata": {},
   "source": [
    "So according to this test, we do not see any significant difference between the results."
   ]
  },
  {
   "cell_type": "markdown",
   "metadata": {},
   "source": [
    "**Problem 2.** What if you only used 2 trees? Is there a significant difference between 2 and 25 trees?\n",
    "\n",
    "**Your answer here**"
   ]
  },
  {
   "cell_type": "code",
   "execution_count": 15,
   "metadata": {},
   "outputs": [],
   "source": [
    "RMSEs = []\n",
    "for trial in range(ntrials):\n",
    "    X_train, X_test, t_train, t_test = train_test_split(X2, t, test_size=0.25,random_state=trial)\n",
    "    trees = Lab5_helper.make_trees(X_train,t_train,ntrees=2)\n",
    "    y = Lab5_helper.make_prediction(trees,X_test)\n",
    "    RMSEs.append(np.sqrt(((y-t_test)**2).sum()/len(t_test)))\n",
    "results2 = pd.DataFrame({'RMSE':RMSEs,'Method':'Bagging (ntrees=2)'})\n",
    "results = results.append(results2)"
   ]
  },
  {
   "cell_type": "code",
   "execution_count": 16,
   "metadata": {},
   "outputs": [
    {
     "data": {
      "text/plain": [
       "Method\n",
       "Bagging (ntrees=100)    0.228437\n",
       "Bagging (ntrees=2)      0.252509\n",
       "Bagging (ntrees=25)     0.229752\n",
       "Name: RMSE, dtype: float64"
      ]
     },
     "execution_count": 16,
     "metadata": {},
     "output_type": "execute_result"
    }
   ],
   "source": [
    "results.groupby('Method')['RMSE'].mean()"
   ]
  },
  {
   "cell_type": "code",
   "execution_count": 17,
   "metadata": {},
   "outputs": [
    {
     "data": {
      "text/html": [
       "<div>\n",
       "<style scoped>\n",
       "    .dataframe tbody tr th:only-of-type {\n",
       "        vertical-align: middle;\n",
       "    }\n",
       "\n",
       "    .dataframe tbody tr th {\n",
       "        vertical-align: top;\n",
       "    }\n",
       "\n",
       "    .dataframe thead tr th {\n",
       "        text-align: left;\n",
       "    }\n",
       "</style>\n",
       "<table border=\"1\" class=\"dataframe\">\n",
       "  <thead>\n",
       "    <tr>\n",
       "      <th></th>\n",
       "      <th colspan=\"3\" halign=\"left\">RMSE</th>\n",
       "    </tr>\n",
       "    <tr>\n",
       "      <th>Method</th>\n",
       "      <th>Bagging (ntrees=100)</th>\n",
       "      <th>Bagging (ntrees=2)</th>\n",
       "      <th>Bagging (ntrees=25)</th>\n",
       "    </tr>\n",
       "  </thead>\n",
       "  <tbody>\n",
       "    <tr>\n",
       "      <th>0</th>\n",
       "      <td>0.220094</td>\n",
       "      <td>0.250420</td>\n",
       "      <td>0.217083</td>\n",
       "    </tr>\n",
       "    <tr>\n",
       "      <th>1</th>\n",
       "      <td>0.230023</td>\n",
       "      <td>0.257149</td>\n",
       "      <td>0.230443</td>\n",
       "    </tr>\n",
       "    <tr>\n",
       "      <th>2</th>\n",
       "      <td>0.227638</td>\n",
       "      <td>0.245685</td>\n",
       "      <td>0.228825</td>\n",
       "    </tr>\n",
       "    <tr>\n",
       "      <th>3</th>\n",
       "      <td>0.222247</td>\n",
       "      <td>0.250145</td>\n",
       "      <td>0.225479</td>\n",
       "    </tr>\n",
       "    <tr>\n",
       "      <th>4</th>\n",
       "      <td>0.220483</td>\n",
       "      <td>0.253917</td>\n",
       "      <td>0.223269</td>\n",
       "    </tr>\n",
       "  </tbody>\n",
       "</table>\n",
       "</div>"
      ],
      "text/plain": [
       "                       RMSE                                       \n",
       "Method Bagging (ntrees=100) Bagging (ntrees=2) Bagging (ntrees=25)\n",
       "0                  0.220094           0.250420            0.217083\n",
       "1                  0.230023           0.257149            0.230443\n",
       "2                  0.227638           0.245685            0.228825\n",
       "3                  0.222247           0.250145            0.225479\n",
       "4                  0.220483           0.253917            0.223269"
      ]
     },
     "execution_count": 17,
     "metadata": {},
     "output_type": "execute_result"
    }
   ],
   "source": [
    "pivot_results = results.pivot(columns='Method')\n",
    "pivot_results.head()"
   ]
  },
  {
   "cell_type": "code",
   "execution_count": 18,
   "metadata": {},
   "outputs": [
    {
     "data": {
      "text/plain": [
       "Ttest_indResult(statistic=-18.43415720773686, pvalue=1.275505342858296e-33)"
      ]
     },
     "execution_count": 18,
     "metadata": {},
     "output_type": "execute_result"
    }
   ],
   "source": [
    "stats.stats.ttest_ind(pivot_results[('RMSE', 'Bagging (ntrees=100)')],pivot_results[('RMSE', 'Bagging (ntrees=2)')],equal_var = True)"
   ]
  },
  {
   "cell_type": "markdown",
   "metadata": {},
   "source": [
    "Finally, we can report a p-value < 0.05! Even if we were to discuss multiple test correction at this time, this would still be a significant result. So bagging is helping us!"
   ]
  },
  {
   "cell_type": "markdown",
   "metadata": {},
   "source": [
    "#### Exercise 2\n",
    "Implement boosting using regression trees as the (weak) individual learner. You should be able to reach a similar accuray to my implementation."
   ]
  },
  {
   "cell_type": "code",
   "execution_count": 19,
   "metadata": {},
   "outputs": [],
   "source": [
    "RMSEs = []\n",
    "for trial in range(ntrials):\n",
    "    X_train, X_test, t_train, t_test = train_test_split(X2, t, test_size=0.25,random_state=trial)\n",
    "    X_train2, X_val, t_train2, t_val = train_test_split(X_train, t_train, test_size=0.25,random_state=trial)\n",
    "    trees,train_RMSEs,val_RMSEs = Lab5_helper.make_trees_boost(X_train2, X_val, t_train2, t_val, max_ntrees=100)\n",
    "    trees = Lab5_helper.cut_trees(trees,val_RMSEs)\n",
    "    y = Lab5_helper.make_prediction_boost(trees,X_test)\n",
    "    RMSEs.append(np.sqrt(((y-t_test)**2).sum()/len(t_test)))\n",
    "results2 = pd.DataFrame({'RMSE':RMSEs,'Method':'Boosting (max_ntrees=100)'})\n",
    "results = results.append(results2)"
   ]
  },
  {
   "cell_type": "code",
   "execution_count": 20,
   "metadata": {},
   "outputs": [
    {
     "data": {
      "text/html": [
       "\n",
       "<div id=\"altair-viz-81f707b1870e408e8ffbe50540537377\"></div>\n",
       "<script type=\"text/javascript\">\n",
       "  (function(spec, embedOpt){\n",
       "    let outputDiv = document.currentScript.previousElementSibling;\n",
       "    if (outputDiv.id !== \"altair-viz-81f707b1870e408e8ffbe50540537377\") {\n",
       "      outputDiv = document.getElementById(\"altair-viz-81f707b1870e408e8ffbe50540537377\");\n",
       "    }\n",
       "    const paths = {\n",
       "      \"vega\": \"https://cdn.jsdelivr.net/npm//vega@5?noext\",\n",
       "      \"vega-lib\": \"https://cdn.jsdelivr.net/npm//vega-lib?noext\",\n",
       "      \"vega-lite\": \"https://cdn.jsdelivr.net/npm//vega-lite@4.8.1?noext\",\n",
       "      \"vega-embed\": \"https://cdn.jsdelivr.net/npm//vega-embed@6?noext\",\n",
       "    };\n",
       "\n",
       "    function loadScript(lib) {\n",
       "      return new Promise(function(resolve, reject) {\n",
       "        var s = document.createElement('script');\n",
       "        s.src = paths[lib];\n",
       "        s.async = true;\n",
       "        s.onload = () => resolve(paths[lib]);\n",
       "        s.onerror = () => reject(`Error loading script: ${paths[lib]}`);\n",
       "        document.getElementsByTagName(\"head\")[0].appendChild(s);\n",
       "      });\n",
       "    }\n",
       "\n",
       "    function showError(err) {\n",
       "      outputDiv.innerHTML = `<div class=\"error\" style=\"color:red;\">${err}</div>`;\n",
       "      throw err;\n",
       "    }\n",
       "\n",
       "    function displayChart(vegaEmbed) {\n",
       "      vegaEmbed(outputDiv, spec, embedOpt)\n",
       "        .catch(err => showError(`Javascript Error: ${err.message}<br>This usually means there's a typo in your chart specification. See the javascript console for the full traceback.`));\n",
       "    }\n",
       "\n",
       "    if(typeof define === \"function\" && define.amd) {\n",
       "      requirejs.config({paths});\n",
       "      require([\"vega-embed\"], displayChart, err => showError(`Error loading script: ${err.message}`));\n",
       "    } else if (typeof vegaEmbed === \"function\") {\n",
       "      displayChart(vegaEmbed);\n",
       "    } else {\n",
       "      loadScript(\"vega\")\n",
       "        .then(() => loadScript(\"vega-lite\"))\n",
       "        .then(() => loadScript(\"vega-embed\"))\n",
       "        .catch(showError)\n",
       "        .then(() => displayChart(vegaEmbed));\n",
       "    }\n",
       "  })({\"config\": {\"view\": {\"continuousWidth\": 400, \"continuousHeight\": 300}}, \"data\": {\"name\": \"data-7574a98adda30bf1a11edad6ad54deae\"}, \"mark\": \"line\", \"encoding\": {\"color\": {\"type\": \"nominal\", \"field\": \"variable\"}, \"x\": {\"type\": \"quantitative\", \"field\": \"ntrees\"}, \"y\": {\"type\": \"quantitative\", \"field\": \"value\", \"scale\": {\"domain\": [0.1, 0.3]}}}, \"width\": 500, \"$schema\": \"https://vega.github.io/schema/vega-lite/v4.8.1.json\", \"datasets\": {\"data-7574a98adda30bf1a11edad6ad54deae\": [{\"ntrees\": 0, \"variable\": \"train_RMSE\", \"value\": 0.23361175722869007}, {\"ntrees\": 1, \"variable\": \"train_RMSE\", \"value\": 0.22467289521860842}, {\"ntrees\": 2, \"variable\": \"train_RMSE\", \"value\": 0.2203789445442496}, {\"ntrees\": 3, \"variable\": \"train_RMSE\", \"value\": 0.21788041804241934}, {\"ntrees\": 4, \"variable\": \"train_RMSE\", \"value\": 0.21720982515620177}, {\"ntrees\": 5, \"variable\": \"train_RMSE\", \"value\": 0.21552887790550979}, {\"ntrees\": 6, \"variable\": \"train_RMSE\", \"value\": 0.21374371962201774}, {\"ntrees\": 7, \"variable\": \"train_RMSE\", \"value\": 0.21245305316595015}, {\"ntrees\": 8, \"variable\": \"train_RMSE\", \"value\": 0.21053779017866323}, {\"ntrees\": 9, \"variable\": \"train_RMSE\", \"value\": 0.20886199077242953}, {\"ntrees\": 10, \"variable\": \"train_RMSE\", \"value\": 0.20712022394436616}, {\"ntrees\": 11, \"variable\": \"train_RMSE\", \"value\": 0.20672017054224032}, {\"ntrees\": 12, \"variable\": \"train_RMSE\", \"value\": 0.20587828391840005}, {\"ntrees\": 13, \"variable\": \"train_RMSE\", \"value\": 0.20544861132431877}, {\"ntrees\": 14, \"variable\": \"train_RMSE\", \"value\": 0.2048346954228424}, {\"ntrees\": 15, \"variable\": \"train_RMSE\", \"value\": 0.20352053978195564}, {\"ntrees\": 16, \"variable\": \"train_RMSE\", \"value\": 0.20286793439479225}, {\"ntrees\": 17, \"variable\": \"train_RMSE\", \"value\": 0.20129158382258575}, {\"ntrees\": 18, \"variable\": \"train_RMSE\", \"value\": 0.20010736275706562}, {\"ntrees\": 19, \"variable\": \"train_RMSE\", \"value\": 0.19919345006446754}, {\"ntrees\": 20, \"variable\": \"train_RMSE\", \"value\": 0.19895216434417928}, {\"ntrees\": 21, \"variable\": \"train_RMSE\", \"value\": 0.19812804234784298}, {\"ntrees\": 22, \"variable\": \"train_RMSE\", \"value\": 0.19747128125581973}, {\"ntrees\": 23, \"variable\": \"train_RMSE\", \"value\": 0.19657358462326335}, {\"ntrees\": 24, \"variable\": \"train_RMSE\", \"value\": 0.19608302516197298}, {\"ntrees\": 25, \"variable\": \"train_RMSE\", \"value\": 0.19479443357672674}, {\"ntrees\": 26, \"variable\": \"train_RMSE\", \"value\": 0.19237033383852628}, {\"ntrees\": 27, \"variable\": \"train_RMSE\", \"value\": 0.19211474149366173}, {\"ntrees\": 28, \"variable\": \"train_RMSE\", \"value\": 0.19135644632680945}, {\"ntrees\": 29, \"variable\": \"train_RMSE\", \"value\": 0.1908610465351189}, {\"ntrees\": 30, \"variable\": \"train_RMSE\", \"value\": 0.1900919264748879}, {\"ntrees\": 31, \"variable\": \"train_RMSE\", \"value\": 0.18950980876611603}, {\"ntrees\": 32, \"variable\": \"train_RMSE\", \"value\": 0.18929168751030157}, {\"ntrees\": 33, \"variable\": \"train_RMSE\", \"value\": 0.1879696515477533}, {\"ntrees\": 34, \"variable\": \"train_RMSE\", \"value\": 0.18684976710761927}, {\"ntrees\": 35, \"variable\": \"train_RMSE\", \"value\": 0.1864641758267184}, {\"ntrees\": 36, \"variable\": \"train_RMSE\", \"value\": 0.1861304322368956}, {\"ntrees\": 37, \"variable\": \"train_RMSE\", \"value\": 0.1847914749004286}, {\"ntrees\": 38, \"variable\": \"train_RMSE\", \"value\": 0.18370243428577718}, {\"ntrees\": 39, \"variable\": \"train_RMSE\", \"value\": 0.1823088794873496}, {\"ntrees\": 40, \"variable\": \"train_RMSE\", \"value\": 0.18216870902587426}, {\"ntrees\": 41, \"variable\": \"train_RMSE\", \"value\": 0.18100083273345663}, {\"ntrees\": 42, \"variable\": \"train_RMSE\", \"value\": 0.18034087924669126}, {\"ntrees\": 43, \"variable\": \"train_RMSE\", \"value\": 0.17989825205381435}, {\"ntrees\": 44, \"variable\": \"train_RMSE\", \"value\": 0.17966146428166282}, {\"ntrees\": 45, \"variable\": \"train_RMSE\", \"value\": 0.179398066093959}, {\"ntrees\": 46, \"variable\": \"train_RMSE\", \"value\": 0.17929876190868302}, {\"ntrees\": 47, \"variable\": \"train_RMSE\", \"value\": 0.1787083767999805}, {\"ntrees\": 48, \"variable\": \"train_RMSE\", \"value\": 0.17812223768851848}, {\"ntrees\": 49, \"variable\": \"train_RMSE\", \"value\": 0.17702048072435167}, {\"ntrees\": 50, \"variable\": \"train_RMSE\", \"value\": 0.17601885837972062}, {\"ntrees\": 51, \"variable\": \"train_RMSE\", \"value\": 0.17523783097344936}, {\"ntrees\": 52, \"variable\": \"train_RMSE\", \"value\": 0.17473332094408514}, {\"ntrees\": 53, \"variable\": \"train_RMSE\", \"value\": 0.17427283506918292}, {\"ntrees\": 54, \"variable\": \"train_RMSE\", \"value\": 0.17292044227568926}, {\"ntrees\": 55, \"variable\": \"train_RMSE\", \"value\": 0.17245778297558545}, {\"ntrees\": 56, \"variable\": \"train_RMSE\", \"value\": 0.17165797207469224}, {\"ntrees\": 57, \"variable\": \"train_RMSE\", \"value\": 0.171000519281327}, {\"ntrees\": 58, \"variable\": \"train_RMSE\", \"value\": 0.16989451284822463}, {\"ntrees\": 59, \"variable\": \"train_RMSE\", \"value\": 0.16856926218057444}, {\"ntrees\": 60, \"variable\": \"train_RMSE\", \"value\": 0.16796761970488058}, {\"ntrees\": 61, \"variable\": \"train_RMSE\", \"value\": 0.16727120932971953}, {\"ntrees\": 62, \"variable\": \"train_RMSE\", \"value\": 0.1666669879813169}, {\"ntrees\": 63, \"variable\": \"train_RMSE\", \"value\": 0.1662878362587993}, {\"ntrees\": 64, \"variable\": \"train_RMSE\", \"value\": 0.16621466332854445}, {\"ntrees\": 65, \"variable\": \"train_RMSE\", \"value\": 0.16557402843202912}, {\"ntrees\": 66, \"variable\": \"train_RMSE\", \"value\": 0.16526236431318497}, {\"ntrees\": 67, \"variable\": \"train_RMSE\", \"value\": 0.16483457027848888}, {\"ntrees\": 68, \"variable\": \"train_RMSE\", \"value\": 0.16427119399268889}, {\"ntrees\": 69, \"variable\": \"train_RMSE\", \"value\": 0.1631623416719142}, {\"ntrees\": 70, \"variable\": \"train_RMSE\", \"value\": 0.16214946038369626}, {\"ntrees\": 71, \"variable\": \"train_RMSE\", \"value\": 0.1617093350028622}, {\"ntrees\": 72, \"variable\": \"train_RMSE\", \"value\": 0.16074984720594168}, {\"ntrees\": 73, \"variable\": \"train_RMSE\", \"value\": 0.15965871343771185}, {\"ntrees\": 74, \"variable\": \"train_RMSE\", \"value\": 0.1593336643699821}, {\"ntrees\": 75, \"variable\": \"train_RMSE\", \"value\": 0.15899149857579423}, {\"ntrees\": 76, \"variable\": \"train_RMSE\", \"value\": 0.1584769575483242}, {\"ntrees\": 77, \"variable\": \"train_RMSE\", \"value\": 0.15766052889318924}, {\"ntrees\": 78, \"variable\": \"train_RMSE\", \"value\": 0.157311554854324}, {\"ntrees\": 79, \"variable\": \"train_RMSE\", \"value\": 0.15685232065003663}, {\"ntrees\": 80, \"variable\": \"train_RMSE\", \"value\": 0.15605587399651485}, {\"ntrees\": 81, \"variable\": \"train_RMSE\", \"value\": 0.15536463002820713}, {\"ntrees\": 82, \"variable\": \"train_RMSE\", \"value\": 0.15474880384241804}, {\"ntrees\": 83, \"variable\": \"train_RMSE\", \"value\": 0.15402226931761476}, {\"ntrees\": 84, \"variable\": \"train_RMSE\", \"value\": 0.15378880091131858}, {\"ntrees\": 85, \"variable\": \"train_RMSE\", \"value\": 0.1535476207776062}, {\"ntrees\": 86, \"variable\": \"train_RMSE\", \"value\": 0.15317516361953615}, {\"ntrees\": 87, \"variable\": \"train_RMSE\", \"value\": 0.1521426116831314}, {\"ntrees\": 88, \"variable\": \"train_RMSE\", \"value\": 0.15156687802946375}, {\"ntrees\": 89, \"variable\": \"train_RMSE\", \"value\": 0.15090136356415765}, {\"ntrees\": 90, \"variable\": \"train_RMSE\", \"value\": 0.14967295825633922}, {\"ntrees\": 91, \"variable\": \"train_RMSE\", \"value\": 0.149131769181507}, {\"ntrees\": 92, \"variable\": \"train_RMSE\", \"value\": 0.14840983923501935}, {\"ntrees\": 93, \"variable\": \"train_RMSE\", \"value\": 0.14809275121960633}, {\"ntrees\": 94, \"variable\": \"train_RMSE\", \"value\": 0.1472372584610971}, {\"ntrees\": 95, \"variable\": \"train_RMSE\", \"value\": 0.14690081975719824}, {\"ntrees\": 96, \"variable\": \"train_RMSE\", \"value\": 0.14616117508948584}, {\"ntrees\": 97, \"variable\": \"train_RMSE\", \"value\": 0.14565462636548612}, {\"ntrees\": 98, \"variable\": \"train_RMSE\", \"value\": 0.14496693208159378}, {\"ntrees\": 99, \"variable\": \"train_RMSE\", \"value\": 0.14425728705470325}, {\"ntrees\": 0, \"variable\": \"val_RMSE\", \"value\": 0.239738196609986}, {\"ntrees\": 1, \"variable\": \"val_RMSE\", \"value\": 0.23046953632996312}, {\"ntrees\": 2, \"variable\": \"val_RMSE\", \"value\": 0.2289201377088864}, {\"ntrees\": 3, \"variable\": \"val_RMSE\", \"value\": 0.22722958455611408}, {\"ntrees\": 4, \"variable\": \"val_RMSE\", \"value\": 0.22860744582240541}, {\"ntrees\": 5, \"variable\": \"val_RMSE\", \"value\": 0.22840946775884613}, {\"ntrees\": 6, \"variable\": \"val_RMSE\", \"value\": 0.22895916877507486}, {\"ntrees\": 7, \"variable\": \"val_RMSE\", \"value\": 0.22818095109781372}, {\"ntrees\": 8, \"variable\": \"val_RMSE\", \"value\": 0.2302388531759342}, {\"ntrees\": 9, \"variable\": \"val_RMSE\", \"value\": 0.23190282300981332}, {\"ntrees\": 10, \"variable\": \"val_RMSE\", \"value\": 0.2348227593907255}, {\"ntrees\": 11, \"variable\": \"val_RMSE\", \"value\": 0.23528008604540296}, {\"ntrees\": 12, \"variable\": \"val_RMSE\", \"value\": 0.23560167336427848}, {\"ntrees\": 13, \"variable\": \"val_RMSE\", \"value\": 0.23506278755259852}, {\"ntrees\": 14, \"variable\": \"val_RMSE\", \"value\": 0.23394783376893943}, {\"ntrees\": 15, \"variable\": \"val_RMSE\", \"value\": 0.2339892437443513}, {\"ntrees\": 16, \"variable\": \"val_RMSE\", \"value\": 0.23590235419045924}, {\"ntrees\": 17, \"variable\": \"val_RMSE\", \"value\": 0.235930026451839}, {\"ntrees\": 18, \"variable\": \"val_RMSE\", \"value\": 0.23478184207109173}, {\"ntrees\": 19, \"variable\": \"val_RMSE\", \"value\": 0.23385598420764145}, {\"ntrees\": 20, \"variable\": \"val_RMSE\", \"value\": 0.23358012677957984}, {\"ntrees\": 21, \"variable\": \"val_RMSE\", \"value\": 0.23324377628260057}, {\"ntrees\": 22, \"variable\": \"val_RMSE\", \"value\": 0.23318000375159018}, {\"ntrees\": 23, \"variable\": \"val_RMSE\", \"value\": 0.23294667114269704}, {\"ntrees\": 24, \"variable\": \"val_RMSE\", \"value\": 0.23320332338749117}, {\"ntrees\": 25, \"variable\": \"val_RMSE\", \"value\": 0.23604371781112846}, {\"ntrees\": 26, \"variable\": \"val_RMSE\", \"value\": 0.23870211735199875}, {\"ntrees\": 27, \"variable\": \"val_RMSE\", \"value\": 0.23877057550684877}, {\"ntrees\": 28, \"variable\": \"val_RMSE\", \"value\": 0.24062122167104044}, {\"ntrees\": 29, \"variable\": \"val_RMSE\", \"value\": 0.24235898869252637}, {\"ntrees\": 30, \"variable\": \"val_RMSE\", \"value\": 0.24252085107334065}, {\"ntrees\": 31, \"variable\": \"val_RMSE\", \"value\": 0.24293889224617118}, {\"ntrees\": 32, \"variable\": \"val_RMSE\", \"value\": 0.24338824535899162}, {\"ntrees\": 33, \"variable\": \"val_RMSE\", \"value\": 0.24364312268939994}, {\"ntrees\": 34, \"variable\": \"val_RMSE\", \"value\": 0.24325413833392737}, {\"ntrees\": 35, \"variable\": \"val_RMSE\", \"value\": 0.24478346373151638}, {\"ntrees\": 36, \"variable\": \"val_RMSE\", \"value\": 0.2445308852134705}, {\"ntrees\": 37, \"variable\": \"val_RMSE\", \"value\": 0.24469032118146608}, {\"ntrees\": 38, \"variable\": \"val_RMSE\", \"value\": 0.24473038532618432}, {\"ntrees\": 39, \"variable\": \"val_RMSE\", \"value\": 0.24359486966575666}, {\"ntrees\": 40, \"variable\": \"val_RMSE\", \"value\": 0.24408258768106483}, {\"ntrees\": 41, \"variable\": \"val_RMSE\", \"value\": 0.2434589214343962}, {\"ntrees\": 42, \"variable\": \"val_RMSE\", \"value\": 0.24381924661835452}, {\"ntrees\": 43, \"variable\": \"val_RMSE\", \"value\": 0.24366296590136227}, {\"ntrees\": 44, \"variable\": \"val_RMSE\", \"value\": 0.243505269778733}, {\"ntrees\": 45, \"variable\": \"val_RMSE\", \"value\": 0.2435018683768589}, {\"ntrees\": 46, \"variable\": \"val_RMSE\", \"value\": 0.24350216888529833}, {\"ntrees\": 47, \"variable\": \"val_RMSE\", \"value\": 0.2442330375573449}, {\"ntrees\": 48, \"variable\": \"val_RMSE\", \"value\": 0.24393226042971067}, {\"ntrees\": 49, \"variable\": \"val_RMSE\", \"value\": 0.2441379111539985}, {\"ntrees\": 50, \"variable\": \"val_RMSE\", \"value\": 0.24515332113777172}, {\"ntrees\": 51, \"variable\": \"val_RMSE\", \"value\": 0.2441976218027525}, {\"ntrees\": 52, \"variable\": \"val_RMSE\", \"value\": 0.2445573430405434}, {\"ntrees\": 53, \"variable\": \"val_RMSE\", \"value\": 0.24591145323039898}, {\"ntrees\": 54, \"variable\": \"val_RMSE\", \"value\": 0.247497051594274}, {\"ntrees\": 55, \"variable\": \"val_RMSE\", \"value\": 0.24795955263809105}, {\"ntrees\": 56, \"variable\": \"val_RMSE\", \"value\": 0.2501998210621391}, {\"ntrees\": 57, \"variable\": \"val_RMSE\", \"value\": 0.2502534644451932}, {\"ntrees\": 58, \"variable\": \"val_RMSE\", \"value\": 0.25037901292737924}, {\"ntrees\": 59, \"variable\": \"val_RMSE\", \"value\": 0.2494187658020986}, {\"ntrees\": 60, \"variable\": \"val_RMSE\", \"value\": 0.24912540578160738}, {\"ntrees\": 61, \"variable\": \"val_RMSE\", \"value\": 0.25028729761719876}, {\"ntrees\": 62, \"variable\": \"val_RMSE\", \"value\": 0.2510874073999459}, {\"ntrees\": 63, \"variable\": \"val_RMSE\", \"value\": 0.2526309782267384}, {\"ntrees\": 64, \"variable\": \"val_RMSE\", \"value\": 0.25236669803557077}, {\"ntrees\": 65, \"variable\": \"val_RMSE\", \"value\": 0.25201252685523057}, {\"ntrees\": 66, \"variable\": \"val_RMSE\", \"value\": 0.2519253541577461}, {\"ntrees\": 67, \"variable\": \"val_RMSE\", \"value\": 0.25226229013044327}, {\"ntrees\": 68, \"variable\": \"val_RMSE\", \"value\": 0.2533025481635391}, {\"ntrees\": 69, \"variable\": \"val_RMSE\", \"value\": 0.25126625977013206}, {\"ntrees\": 70, \"variable\": \"val_RMSE\", \"value\": 0.2521989220261704}, {\"ntrees\": 71, \"variable\": \"val_RMSE\", \"value\": 0.25213092070226356}, {\"ntrees\": 72, \"variable\": \"val_RMSE\", \"value\": 0.25492726096454416}, {\"ntrees\": 73, \"variable\": \"val_RMSE\", \"value\": 0.2562678476536983}, {\"ntrees\": 74, \"variable\": \"val_RMSE\", \"value\": 0.2562692549729885}, {\"ntrees\": 75, \"variable\": \"val_RMSE\", \"value\": 0.25690734842120605}, {\"ntrees\": 76, \"variable\": \"val_RMSE\", \"value\": 0.2575922329076769}, {\"ntrees\": 77, \"variable\": \"val_RMSE\", \"value\": 0.25702701625814633}, {\"ntrees\": 78, \"variable\": \"val_RMSE\", \"value\": 0.25802961099170396}, {\"ntrees\": 79, \"variable\": \"val_RMSE\", \"value\": 0.25681080001902895}, {\"ntrees\": 80, \"variable\": \"val_RMSE\", \"value\": 0.2586629995965122}, {\"ntrees\": 81, \"variable\": \"val_RMSE\", \"value\": 0.25939872839101924}, {\"ntrees\": 82, \"variable\": \"val_RMSE\", \"value\": 0.2600175276952536}, {\"ntrees\": 83, \"variable\": \"val_RMSE\", \"value\": 0.2597323665470617}, {\"ntrees\": 84, \"variable\": \"val_RMSE\", \"value\": 0.26003460863665295}, {\"ntrees\": 85, \"variable\": \"val_RMSE\", \"value\": 0.26002340549573916}, {\"ntrees\": 86, \"variable\": \"val_RMSE\", \"value\": 0.26034634817996455}, {\"ntrees\": 87, \"variable\": \"val_RMSE\", \"value\": 0.2603978783128818}, {\"ntrees\": 88, \"variable\": \"val_RMSE\", \"value\": 0.2605639360834001}, {\"ntrees\": 89, \"variable\": \"val_RMSE\", \"value\": 0.26055024491335116}, {\"ntrees\": 90, \"variable\": \"val_RMSE\", \"value\": 0.2643049340941438}, {\"ntrees\": 91, \"variable\": \"val_RMSE\", \"value\": 0.26430872971613373}, {\"ntrees\": 92, \"variable\": \"val_RMSE\", \"value\": 0.26448417185457823}, {\"ntrees\": 93, \"variable\": \"val_RMSE\", \"value\": 0.26516112296170796}, {\"ntrees\": 94, \"variable\": \"val_RMSE\", \"value\": 0.2647286799483144}, {\"ntrees\": 95, \"variable\": \"val_RMSE\", \"value\": 0.26435158144757925}, {\"ntrees\": 96, \"variable\": \"val_RMSE\", \"value\": 0.2644554451805084}, {\"ntrees\": 97, \"variable\": \"val_RMSE\", \"value\": 0.2647301199254928}, {\"ntrees\": 98, \"variable\": \"val_RMSE\", \"value\": 0.2642696723721989}, {\"ntrees\": 99, \"variable\": \"val_RMSE\", \"value\": 0.2647223515136993}]}}, {\"mode\": \"vega-lite\"});\n",
       "</script>"
      ],
      "text/plain": [
       "alt.Chart(...)"
      ]
     },
     "execution_count": 20,
     "metadata": {},
     "output_type": "execute_result"
    }
   ],
   "source": [
    "source = pd.DataFrame({\"train_RMSE\":train_RMSEs,\"val_RMSE\":val_RMSEs, \"ntrees\":np.arange(len(val_RMSEs))}).melt(id_vars=['ntrees'])\n",
    "\n",
    "alt.Chart(source).mark_line().encode(\n",
    "    y = alt.Y(\"value:Q\", scale=alt.Scale(domain=[0.1, 0.3])),\n",
    "    x = 'ntrees',\n",
    "    color='variable'\n",
    ").properties(width=500)"
   ]
  },
  {
   "cell_type": "code",
   "execution_count": 21,
   "metadata": {},
   "outputs": [
    {
     "data": {
      "text/plain": [
       "Method\n",
       "Boosting (max_ntrees=100)    0.226319\n",
       "Bagging (ntrees=100)         0.227880\n",
       "Bagging (ntrees=25)          0.229664\n",
       "Bagging (ntrees=2)           0.251401\n",
       "Name: RMSE, dtype: float64"
      ]
     },
     "execution_count": 21,
     "metadata": {},
     "output_type": "execute_result"
    }
   ],
   "source": [
    "results.groupby('Method')['RMSE'].median().sort_values()"
   ]
  },
  {
   "cell_type": "code",
   "execution_count": 22,
   "metadata": {},
   "outputs": [
    {
     "data": {
      "text/plain": [
       "Method\n",
       "Boosting (max_ntrees=100)    0.227601\n",
       "Bagging (ntrees=100)         0.228437\n",
       "Bagging (ntrees=25)          0.229752\n",
       "Bagging (ntrees=2)           0.252509\n",
       "Name: RMSE, dtype: float64"
      ]
     },
     "execution_count": 22,
     "metadata": {},
     "output_type": "execute_result"
    }
   ],
   "source": [
    "results.groupby('Method')['RMSE'].mean().sort_values()"
   ]
  },
  {
   "cell_type": "code",
   "execution_count": 23,
   "metadata": {},
   "outputs": [
    {
     "data": {
      "text/plain": [
       "0.22760114405291318"
      ]
     },
     "execution_count": 23,
     "metadata": {},
     "output_type": "execute_result"
    }
   ],
   "source": [
    "np.mean(RMSEs)"
   ]
  },
  {
   "cell_type": "code",
   "execution_count": 24,
   "metadata": {},
   "outputs": [
    {
     "data": {
      "text/html": [
       "\n",
       "<div id=\"altair-viz-2dea49a80156493e989d2cd4dfb2515e\"></div>\n",
       "<script type=\"text/javascript\">\n",
       "  (function(spec, embedOpt){\n",
       "    let outputDiv = document.currentScript.previousElementSibling;\n",
       "    if (outputDiv.id !== \"altair-viz-2dea49a80156493e989d2cd4dfb2515e\") {\n",
       "      outputDiv = document.getElementById(\"altair-viz-2dea49a80156493e989d2cd4dfb2515e\");\n",
       "    }\n",
       "    const paths = {\n",
       "      \"vega\": \"https://cdn.jsdelivr.net/npm//vega@5?noext\",\n",
       "      \"vega-lib\": \"https://cdn.jsdelivr.net/npm//vega-lib?noext\",\n",
       "      \"vega-lite\": \"https://cdn.jsdelivr.net/npm//vega-lite@4.8.1?noext\",\n",
       "      \"vega-embed\": \"https://cdn.jsdelivr.net/npm//vega-embed@6?noext\",\n",
       "    };\n",
       "\n",
       "    function loadScript(lib) {\n",
       "      return new Promise(function(resolve, reject) {\n",
       "        var s = document.createElement('script');\n",
       "        s.src = paths[lib];\n",
       "        s.async = true;\n",
       "        s.onload = () => resolve(paths[lib]);\n",
       "        s.onerror = () => reject(`Error loading script: ${paths[lib]}`);\n",
       "        document.getElementsByTagName(\"head\")[0].appendChild(s);\n",
       "      });\n",
       "    }\n",
       "\n",
       "    function showError(err) {\n",
       "      outputDiv.innerHTML = `<div class=\"error\" style=\"color:red;\">${err}</div>`;\n",
       "      throw err;\n",
       "    }\n",
       "\n",
       "    function displayChart(vegaEmbed) {\n",
       "      vegaEmbed(outputDiv, spec, embedOpt)\n",
       "        .catch(err => showError(`Javascript Error: ${err.message}<br>This usually means there's a typo in your chart specification. See the javascript console for the full traceback.`));\n",
       "    }\n",
       "\n",
       "    if(typeof define === \"function\" && define.amd) {\n",
       "      requirejs.config({paths});\n",
       "      require([\"vega-embed\"], displayChart, err => showError(`Error loading script: ${err.message}`));\n",
       "    } else if (typeof vegaEmbed === \"function\") {\n",
       "      displayChart(vegaEmbed);\n",
       "    } else {\n",
       "      loadScript(\"vega\")\n",
       "        .then(() => loadScript(\"vega-lite\"))\n",
       "        .then(() => loadScript(\"vega-embed\"))\n",
       "        .catch(showError)\n",
       "        .then(() => displayChart(vegaEmbed));\n",
       "    }\n",
       "  })({\"config\": {\"view\": {\"continuousWidth\": 400, \"continuousHeight\": 300}}, \"data\": {\"name\": \"data-ec856724582ab3161d69e96485792d76\"}, \"mark\": \"boxplot\", \"encoding\": {\"x\": {\"type\": \"nominal\", \"field\": \"Method\"}, \"y\": {\"type\": \"quantitative\", \"field\": \"RMSE\", \"scale\": {\"domain\": [0.2, 0.3]}}}, \"width\": 300, \"$schema\": \"https://vega.github.io/schema/vega-lite/v4.8.1.json\", \"datasets\": {\"data-ec856724582ab3161d69e96485792d76\": [{\"RMSE\": 0.2200940448207445, \"Method\": \"Bagging (ntrees=100)\"}, {\"RMSE\": 0.23002321730015984, \"Method\": \"Bagging (ntrees=100)\"}, {\"RMSE\": 0.2276384699616832, \"Method\": \"Bagging (ntrees=100)\"}, {\"RMSE\": 0.22224651983610957, \"Method\": \"Bagging (ntrees=100)\"}, {\"RMSE\": 0.22048328914791732, \"Method\": \"Bagging (ntrees=100)\"}, {\"RMSE\": 0.2288189294609052, \"Method\": \"Bagging (ntrees=100)\"}, {\"RMSE\": 0.2389254257176375, \"Method\": \"Bagging (ntrees=100)\"}, {\"RMSE\": 0.2264465651116897, \"Method\": \"Bagging (ntrees=100)\"}, {\"RMSE\": 0.2271098538732656, \"Method\": \"Bagging (ntrees=100)\"}, {\"RMSE\": 0.23618396524886692, \"Method\": \"Bagging (ntrees=100)\"}, {\"RMSE\": 0.23841518709297052, \"Method\": \"Bagging (ntrees=100)\"}, {\"RMSE\": 0.2266393782683873, \"Method\": \"Bagging (ntrees=100)\"}, {\"RMSE\": 0.22845591654020017, \"Method\": \"Bagging (ntrees=100)\"}, {\"RMSE\": 0.22881183831678, \"Method\": \"Bagging (ntrees=100)\"}, {\"RMSE\": 0.22151200454164297, \"Method\": \"Bagging (ntrees=100)\"}, {\"RMSE\": 0.2255001253484866, \"Method\": \"Bagging (ntrees=100)\"}, {\"RMSE\": 0.2357665900613398, \"Method\": \"Bagging (ntrees=100)\"}, {\"RMSE\": 0.222403488759101, \"Method\": \"Bagging (ntrees=100)\"}, {\"RMSE\": 0.2275201360636074, \"Method\": \"Bagging (ntrees=100)\"}, {\"RMSE\": 0.2203922390473232, \"Method\": \"Bagging (ntrees=100)\"}, {\"RMSE\": 0.2225539157018361, \"Method\": \"Bagging (ntrees=100)\"}, {\"RMSE\": 0.22916041377115592, \"Method\": \"Bagging (ntrees=100)\"}, {\"RMSE\": 0.23145306139654767, \"Method\": \"Bagging (ntrees=100)\"}, {\"RMSE\": 0.22760279414722806, \"Method\": \"Bagging (ntrees=100)\"}, {\"RMSE\": 0.22932290596415184, \"Method\": \"Bagging (ntrees=100)\"}, {\"RMSE\": 0.2367364610514661, \"Method\": \"Bagging (ntrees=100)\"}, {\"RMSE\": 0.22428297055271482, \"Method\": \"Bagging (ntrees=100)\"}, {\"RMSE\": 0.2310209225587909, \"Method\": \"Bagging (ntrees=100)\"}, {\"RMSE\": 0.23176887387610778, \"Method\": \"Bagging (ntrees=100)\"}, {\"RMSE\": 0.2364759095083565, \"Method\": \"Bagging (ntrees=100)\"}, {\"RMSE\": 0.23376414101495507, \"Method\": \"Bagging (ntrees=100)\"}, {\"RMSE\": 0.22558270503068623, \"Method\": \"Bagging (ntrees=100)\"}, {\"RMSE\": 0.21996367250950474, \"Method\": \"Bagging (ntrees=100)\"}, {\"RMSE\": 0.2281213005141262, \"Method\": \"Bagging (ntrees=100)\"}, {\"RMSE\": 0.2194262456731782, \"Method\": \"Bagging (ntrees=100)\"}, {\"RMSE\": 0.23411517877742594, \"Method\": \"Bagging (ntrees=100)\"}, {\"RMSE\": 0.22830095866764974, \"Method\": \"Bagging (ntrees=100)\"}, {\"RMSE\": 0.22390264074316443, \"Method\": \"Bagging (ntrees=100)\"}, {\"RMSE\": 0.22683717558164668, \"Method\": \"Bagging (ntrees=100)\"}, {\"RMSE\": 0.24476083172309118, \"Method\": \"Bagging (ntrees=100)\"}, {\"RMSE\": 0.22691166071827018, \"Method\": \"Bagging (ntrees=100)\"}, {\"RMSE\": 0.23374523646270978, \"Method\": \"Bagging (ntrees=100)\"}, {\"RMSE\": 0.22676843665212512, \"Method\": \"Bagging (ntrees=100)\"}, {\"RMSE\": 0.2302869316816917, \"Method\": \"Bagging (ntrees=100)\"}, {\"RMSE\": 0.22516404711520385, \"Method\": \"Bagging (ntrees=100)\"}, {\"RMSE\": 0.2310240251637691, \"Method\": \"Bagging (ntrees=100)\"}, {\"RMSE\": 0.24014126893059284, \"Method\": \"Bagging (ntrees=100)\"}, {\"RMSE\": 0.23451030239664564, \"Method\": \"Bagging (ntrees=100)\"}, {\"RMSE\": 0.21670691150921378, \"Method\": \"Bagging (ntrees=100)\"}, {\"RMSE\": 0.2180359623612796, \"Method\": \"Bagging (ntrees=100)\"}, {\"RMSE\": 0.21708298843684562, \"Method\": \"Bagging (ntrees=25)\"}, {\"RMSE\": 0.23044295976049317, \"Method\": \"Bagging (ntrees=25)\"}, {\"RMSE\": 0.22882523814067554, \"Method\": \"Bagging (ntrees=25)\"}, {\"RMSE\": 0.22547851931066976, \"Method\": \"Bagging (ntrees=25)\"}, {\"RMSE\": 0.22326882777443208, \"Method\": \"Bagging (ntrees=25)\"}, {\"RMSE\": 0.230380442973957, \"Method\": \"Bagging (ntrees=25)\"}, {\"RMSE\": 0.2393844070082018, \"Method\": \"Bagging (ntrees=25)\"}, {\"RMSE\": 0.22335326410318812, \"Method\": \"Bagging (ntrees=25)\"}, {\"RMSE\": 0.22955824368117458, \"Method\": \"Bagging (ntrees=25)\"}, {\"RMSE\": 0.23804478670823093, \"Method\": \"Bagging (ntrees=25)\"}, {\"RMSE\": 0.23970040892628203, \"Method\": \"Bagging (ntrees=25)\"}, {\"RMSE\": 0.22861319821095308, \"Method\": \"Bagging (ntrees=25)\"}, {\"RMSE\": 0.23357635674411803, \"Method\": \"Bagging (ntrees=25)\"}, {\"RMSE\": 0.2291044743457691, \"Method\": \"Bagging (ntrees=25)\"}, {\"RMSE\": 0.22265169666327633, \"Method\": \"Bagging (ntrees=25)\"}, {\"RMSE\": 0.2286977020391428, \"Method\": \"Bagging (ntrees=25)\"}, {\"RMSE\": 0.23942543406529274, \"Method\": \"Bagging (ntrees=25)\"}, {\"RMSE\": 0.2272204313899437, \"Method\": \"Bagging (ntrees=25)\"}, {\"RMSE\": 0.22651003123554464, \"Method\": \"Bagging (ntrees=25)\"}, {\"RMSE\": 0.22145316639959095, \"Method\": \"Bagging (ntrees=25)\"}, {\"RMSE\": 0.22403312714795234, \"Method\": \"Bagging (ntrees=25)\"}, {\"RMSE\": 0.22856848110091385, \"Method\": \"Bagging (ntrees=25)\"}, {\"RMSE\": 0.23192477227516864, \"Method\": \"Bagging (ntrees=25)\"}, {\"RMSE\": 0.23083619895630564, \"Method\": \"Bagging (ntrees=25)\"}, {\"RMSE\": 0.22826438499302762, \"Method\": \"Bagging (ntrees=25)\"}, {\"RMSE\": 0.23617111336637578, \"Method\": \"Bagging (ntrees=25)\"}, {\"RMSE\": 0.22372760640928596, \"Method\": \"Bagging (ntrees=25)\"}, {\"RMSE\": 0.23230972390798035, \"Method\": \"Bagging (ntrees=25)\"}, {\"RMSE\": 0.2315809688654356, \"Method\": \"Bagging (ntrees=25)\"}, {\"RMSE\": 0.2385741763896683, \"Method\": \"Bagging (ntrees=25)\"}, {\"RMSE\": 0.234333352255569, \"Method\": \"Bagging (ntrees=25)\"}, {\"RMSE\": 0.22640361055926608, \"Method\": \"Bagging (ntrees=25)\"}, {\"RMSE\": 0.2210292946745448, \"Method\": \"Bagging (ntrees=25)\"}, {\"RMSE\": 0.23238414412031502, \"Method\": \"Bagging (ntrees=25)\"}, {\"RMSE\": 0.22309716493426632, \"Method\": \"Bagging (ntrees=25)\"}, {\"RMSE\": 0.2338649562203064, \"Method\": \"Bagging (ntrees=25)\"}, {\"RMSE\": 0.23096814437562366, \"Method\": \"Bagging (ntrees=25)\"}, {\"RMSE\": 0.22622005171618162, \"Method\": \"Bagging (ntrees=25)\"}, {\"RMSE\": 0.22977009759979927, \"Method\": \"Bagging (ntrees=25)\"}, {\"RMSE\": 0.2440196788516536, \"Method\": \"Bagging (ntrees=25)\"}, {\"RMSE\": 0.22688817753592458, \"Method\": \"Bagging (ntrees=25)\"}, {\"RMSE\": 0.23493043585212706, \"Method\": \"Bagging (ntrees=25)\"}, {\"RMSE\": 0.23188374224797784, \"Method\": \"Bagging (ntrees=25)\"}, {\"RMSE\": 0.2331924851521762, \"Method\": \"Bagging (ntrees=25)\"}, {\"RMSE\": 0.2280216207642194, \"Method\": \"Bagging (ntrees=25)\"}, {\"RMSE\": 0.23287255105687035, \"Method\": \"Bagging (ntrees=25)\"}, {\"RMSE\": 0.24021199920246974, \"Method\": \"Bagging (ntrees=25)\"}, {\"RMSE\": 0.23323006158892576, \"Method\": \"Bagging (ntrees=25)\"}, {\"RMSE\": 0.21758053945773353, \"Method\": \"Bagging (ntrees=25)\"}, {\"RMSE\": 0.21792111455639793, \"Method\": \"Bagging (ntrees=25)\"}, {\"RMSE\": 0.25041953763627567, \"Method\": \"Bagging (ntrees=2)\"}, {\"RMSE\": 0.2571493089672357, \"Method\": \"Bagging (ntrees=2)\"}, {\"RMSE\": 0.24568450466487887, \"Method\": \"Bagging (ntrees=2)\"}, {\"RMSE\": 0.250144779758265, \"Method\": \"Bagging (ntrees=2)\"}, {\"RMSE\": 0.25391710747451346, \"Method\": \"Bagging (ntrees=2)\"}, {\"RMSE\": 0.2618080575263592, \"Method\": \"Bagging (ntrees=2)\"}, {\"RMSE\": 0.2595563596126296, \"Method\": \"Bagging (ntrees=2)\"}, {\"RMSE\": 0.2537632352613708, \"Method\": \"Bagging (ntrees=2)\"}, {\"RMSE\": 0.24400174230679345, \"Method\": \"Bagging (ntrees=2)\"}, {\"RMSE\": 0.26343750563577834, \"Method\": \"Bagging (ntrees=2)\"}, {\"RMSE\": 0.2537576235078407, \"Method\": \"Bagging (ntrees=2)\"}, {\"RMSE\": 0.24818004859022444, \"Method\": \"Bagging (ntrees=2)\"}, {\"RMSE\": 0.2453653741346088, \"Method\": \"Bagging (ntrees=2)\"}, {\"RMSE\": 0.2588337261706391, \"Method\": \"Bagging (ntrees=2)\"}, {\"RMSE\": 0.24854587379493423, \"Method\": \"Bagging (ntrees=2)\"}, {\"RMSE\": 0.24308191356756476, \"Method\": \"Bagging (ntrees=2)\"}, {\"RMSE\": 0.2514040629820375, \"Method\": \"Bagging (ntrees=2)\"}, {\"RMSE\": 0.2520547699798122, \"Method\": \"Bagging (ntrees=2)\"}, {\"RMSE\": 0.2495831085661866, \"Method\": \"Bagging (ntrees=2)\"}, {\"RMSE\": 0.24317368371630232, \"Method\": \"Bagging (ntrees=2)\"}, {\"RMSE\": 0.24793831950560413, \"Method\": \"Bagging (ntrees=2)\"}, {\"RMSE\": 0.2507397446839438, \"Method\": \"Bagging (ntrees=2)\"}, {\"RMSE\": 0.2618750147585588, \"Method\": \"Bagging (ntrees=2)\"}, {\"RMSE\": 0.24262911591275244, \"Method\": \"Bagging (ntrees=2)\"}, {\"RMSE\": 0.24932797497761988, \"Method\": \"Bagging (ntrees=2)\"}, {\"RMSE\": 0.2598264975264747, \"Method\": \"Bagging (ntrees=2)\"}, {\"RMSE\": 0.2476381293478618, \"Method\": \"Bagging (ntrees=2)\"}, {\"RMSE\": 0.25637407614275826, \"Method\": \"Bagging (ntrees=2)\"}, {\"RMSE\": 0.25522904068527646, \"Method\": \"Bagging (ntrees=2)\"}, {\"RMSE\": 0.2654388088253488, \"Method\": \"Bagging (ntrees=2)\"}, {\"RMSE\": 0.2618318178955814, \"Method\": \"Bagging (ntrees=2)\"}, {\"RMSE\": 0.24670113885609524, \"Method\": \"Bagging (ntrees=2)\"}, {\"RMSE\": 0.24447250498504164, \"Method\": \"Bagging (ntrees=2)\"}, {\"RMSE\": 0.25156430736807295, \"Method\": \"Bagging (ntrees=2)\"}, {\"RMSE\": 0.2474591069556667, \"Method\": \"Bagging (ntrees=2)\"}, {\"RMSE\": 0.25061138593822546, \"Method\": \"Bagging (ntrees=2)\"}, {\"RMSE\": 0.25139847971524476, \"Method\": \"Bagging (ntrees=2)\"}, {\"RMSE\": 0.2614708024845476, \"Method\": \"Bagging (ntrees=2)\"}, {\"RMSE\": 0.24427012542226406, \"Method\": \"Bagging (ntrees=2)\"}, {\"RMSE\": 0.2639093278813691, \"Method\": \"Bagging (ntrees=2)\"}, {\"RMSE\": 0.2545745547291658, \"Method\": \"Bagging (ntrees=2)\"}, {\"RMSE\": 0.25744244950395867, \"Method\": \"Bagging (ntrees=2)\"}, {\"RMSE\": 0.24813853954880957, \"Method\": \"Bagging (ntrees=2)\"}, {\"RMSE\": 0.26626982447044206, \"Method\": \"Bagging (ntrees=2)\"}, {\"RMSE\": 0.254801650546408, \"Method\": \"Bagging (ntrees=2)\"}, {\"RMSE\": 0.2491903655842974, \"Method\": \"Bagging (ntrees=2)\"}, {\"RMSE\": 0.2503430280314078, \"Method\": \"Bagging (ntrees=2)\"}, {\"RMSE\": 0.25785779751428506, \"Method\": \"Bagging (ntrees=2)\"}, {\"RMSE\": 0.23514290164192675, \"Method\": \"Bagging (ntrees=2)\"}, {\"RMSE\": 0.25710927555850377, \"Method\": \"Bagging (ntrees=2)\"}, {\"RMSE\": 0.2171222409162828, \"Method\": \"Boosting (max_ntrees=100)\"}, {\"RMSE\": 0.229317479576057, \"Method\": \"Boosting (max_ntrees=100)\"}, {\"RMSE\": 0.2300314833218408, \"Method\": \"Boosting (max_ntrees=100)\"}, {\"RMSE\": 0.2159272241044745, \"Method\": \"Boosting (max_ntrees=100)\"}, {\"RMSE\": 0.22304518647219143, \"Method\": \"Boosting (max_ntrees=100)\"}, {\"RMSE\": 0.22492120849014904, \"Method\": \"Boosting (max_ntrees=100)\"}, {\"RMSE\": 0.23798666453431072, \"Method\": \"Boosting (max_ntrees=100)\"}, {\"RMSE\": 0.22472640516896566, \"Method\": \"Boosting (max_ntrees=100)\"}, {\"RMSE\": 0.2222799117469352, \"Method\": \"Boosting (max_ntrees=100)\"}, {\"RMSE\": 0.23122095466583842, \"Method\": \"Boosting (max_ntrees=100)\"}, {\"RMSE\": 0.2263651475698427, \"Method\": \"Boosting (max_ntrees=100)\"}, {\"RMSE\": 0.22627351095886977, \"Method\": \"Boosting (max_ntrees=100)\"}, {\"RMSE\": 0.22854023496845344, \"Method\": \"Boosting (max_ntrees=100)\"}, {\"RMSE\": 0.22567136231557292, \"Method\": \"Boosting (max_ntrees=100)\"}, {\"RMSE\": 0.21983993807825283, \"Method\": \"Boosting (max_ntrees=100)\"}, {\"RMSE\": 0.23079831291792263, \"Method\": \"Boosting (max_ntrees=100)\"}, {\"RMSE\": 0.22593427674063452, \"Method\": \"Boosting (max_ntrees=100)\"}, {\"RMSE\": 0.2268007034522932, \"Method\": \"Boosting (max_ntrees=100)\"}, {\"RMSE\": 0.22533482375332037, \"Method\": \"Boosting (max_ntrees=100)\"}, {\"RMSE\": 0.22342813417964605, \"Method\": \"Boosting (max_ntrees=100)\"}, {\"RMSE\": 0.23175878751294376, \"Method\": \"Boosting (max_ntrees=100)\"}, {\"RMSE\": 0.23595615118675237, \"Method\": \"Boosting (max_ntrees=100)\"}, {\"RMSE\": 0.2296598318365167, \"Method\": \"Boosting (max_ntrees=100)\"}, {\"RMSE\": 0.22758975909691564, \"Method\": \"Boosting (max_ntrees=100)\"}, {\"RMSE\": 0.22289008867703283, \"Method\": \"Boosting (max_ntrees=100)\"}, {\"RMSE\": 0.24414059289631176, \"Method\": \"Boosting (max_ntrees=100)\"}, {\"RMSE\": 0.22346361450543395, \"Method\": \"Boosting (max_ntrees=100)\"}, {\"RMSE\": 0.22584381975283072, \"Method\": \"Boosting (max_ntrees=100)\"}, {\"RMSE\": 0.23123815800490283, \"Method\": \"Boosting (max_ntrees=100)\"}, {\"RMSE\": 0.24165622537493742, \"Method\": \"Boosting (max_ntrees=100)\"}, {\"RMSE\": 0.22805194234918277, \"Method\": \"Boosting (max_ntrees=100)\"}, {\"RMSE\": 0.21917567195381235, \"Method\": \"Boosting (max_ntrees=100)\"}, {\"RMSE\": 0.22567904788766247, \"Method\": \"Boosting (max_ntrees=100)\"}, {\"RMSE\": 0.2299279699579699, \"Method\": \"Boosting (max_ntrees=100)\"}, {\"RMSE\": 0.22082077921777957, \"Method\": \"Boosting (max_ntrees=100)\"}, {\"RMSE\": 0.22132015756325268, \"Method\": \"Boosting (max_ntrees=100)\"}, {\"RMSE\": 0.23380101383062282, \"Method\": \"Boosting (max_ntrees=100)\"}, {\"RMSE\": 0.2231798753991582, \"Method\": \"Boosting (max_ntrees=100)\"}, {\"RMSE\": 0.21965356845903122, \"Method\": \"Boosting (max_ntrees=100)\"}, {\"RMSE\": 0.23896806603428214, \"Method\": \"Boosting (max_ntrees=100)\"}, {\"RMSE\": 0.23192022379616234, \"Method\": \"Boosting (max_ntrees=100)\"}, {\"RMSE\": 0.23698539391007173, \"Method\": \"Boosting (max_ntrees=100)\"}, {\"RMSE\": 0.22196283437006134, \"Method\": \"Boosting (max_ntrees=100)\"}, {\"RMSE\": 0.23472765013365743, \"Method\": \"Boosting (max_ntrees=100)\"}, {\"RMSE\": 0.22402214630416872, \"Method\": \"Boosting (max_ntrees=100)\"}, {\"RMSE\": 0.23416186962859808, \"Method\": \"Boosting (max_ntrees=100)\"}, {\"RMSE\": 0.23152411818426055, \"Method\": \"Boosting (max_ntrees=100)\"}, {\"RMSE\": 0.24070441472510534, \"Method\": \"Boosting (max_ntrees=100)\"}, {\"RMSE\": 0.21020860399408453, \"Method\": \"Boosting (max_ntrees=100)\"}, {\"RMSE\": 0.22349962217030328, \"Method\": \"Boosting (max_ntrees=100)\"}]}}, {\"mode\": \"vega-lite\"});\n",
       "</script>"
      ],
      "text/plain": [
       "alt.Chart(...)"
      ]
     },
     "execution_count": 24,
     "metadata": {},
     "output_type": "execute_result"
    }
   ],
   "source": [
    "import altair as alt\n",
    "\n",
    "alt.Chart(results).mark_boxplot().encode(\n",
    "    alt.Y(\"RMSE:Q\", scale=alt.Scale(domain=[0.2, 0.3])),\n",
    "    x='Method',\n",
    ").properties(width=300)"
   ]
  },
  {
   "cell_type": "markdown",
   "metadata": {},
   "source": [
    "**Problem 3.** How would you compare (using t-test) whether the boosting algorithm is better than bagging (ntrees=100)?"
   ]
  },
  {
   "cell_type": "code",
   "execution_count": 25,
   "metadata": {},
   "outputs": [
    {
     "data": {
      "text/plain": [
       "Ttest_indResult(statistic=0.6385200478111664, pvalue=0.5246246239600949)"
      ]
     },
     "execution_count": 25,
     "metadata": {},
     "output_type": "execute_result"
    }
   ],
   "source": [
    "# Your solution here"
   ]
  },
  {
   "cell_type": "code",
   "execution_count": 26,
   "metadata": {},
   "outputs": [],
   "source": [
    "# Good job!\n",
    "# Don't forget to push with ./submit.sh"
   ]
  },
  {
   "cell_type": "markdown",
   "metadata": {},
   "source": [
    "#### Having trouble with the test cases and the autograder?\n",
    "\n",
    "You can always load up the answers for the autograder. The autograder runs your code and compares your answer to the expected answer. I manually review your code, so there is no need to hide this from you.\n",
    "\n",
    "```python\n",
    "import joblib\n",
    "answers = joblib.load(f\"{home}/csc-466-student/tests/answers_Lab5.joblib\")\n",
    "answers.keys()\n",
    "```"
   ]
  }
 ],
 "metadata": {
  "jupytext": {
   "formats": "ipynb,md"
  },
  "kernelspec": {
   "display_name": "Python 3",
   "language": "python",
   "name": "python3"
  },
  "language_info": {
   "codemirror_mode": {
    "name": "ipython",
    "version": 3
   },
   "file_extension": ".py",
   "mimetype": "text/x-python",
   "name": "python",
   "nbconvert_exporter": "python",
   "pygments_lexer": "ipython3",
   "version": "3.7.3"
  }
 },
 "nbformat": 4,
 "nbformat_minor": 4
}
