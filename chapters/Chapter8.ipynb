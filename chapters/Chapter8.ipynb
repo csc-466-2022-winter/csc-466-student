{
 "cells": [
  {
   "cell_type": "markdown",
   "metadata": {
    "hideCode": false,
    "hidePrompt": false,
    "slideshow": {
     "slide_type": "slide"
    }
   },
   "source": [
    "# Chapter 8 - Recommendation System\n",
    "\n",
    "Paul E. Anderson"
   ]
  },
  {
   "cell_type": "code",
   "execution_count": 3,
   "metadata": {
    "slideshow": {
     "slide_type": "skip"
    }
   },
   "outputs": [],
   "source": [
    "%load_ext autoreload\n",
    "%autoreload 2\n",
    "\n",
    "from pathlib import Path\n",
    "home = str(Path.home()) # all other paths are relative to this path. change to something else if this is not the case on your system"
   ]
  },
  {
   "cell_type": "markdown",
   "metadata": {
    "slideshow": {
     "slide_type": "subslide"
    }
   },
   "source": [
    "Not every method falls directly under machine learning. Consider how you would recommend movies to a friend? You might ask them what kind of movies they like and then try to think of similar movies. And there we have it... you've performed _collaborative filtering_. You could go a step further and try to think of three other friends who have similar tastes to your friend. In collaborative filtering terminology you have defined the _neighborhood_."
   ]
  },
  {
   "cell_type": "markdown",
   "metadata": {
    "slideshow": {
     "slide_type": "subslide"
    }
   },
   "source": [
    "User - any individual who provides ratings to a system\n",
    "\n",
    "Ratings:\n",
    "* Scalar ratings can consist of either numerical ratings, such as the 1-5 stars provided in MovieLens or ordinal ratings such as strongly agree, agree, neutral, disagree, strongly disagree.\n",
    "* Binary ratings model choices between agree/disagree or good/bad.\n",
    "* Unary ratings can indicate that a user has observed or purchased an item, or otherwise rated the item positively. The absence of a rating indicates that we have no information relating the user to the item (perhaps they purchased the item somewhere else)."
   ]
  },
  {
   "cell_type": "markdown",
   "metadata": {
    "slideshow": {
     "slide_type": "subslide"
    }
   },
   "source": [
    "Explicit ratings - users asked to provide an opinion on an item\n",
    "\n",
    "Implicit ratings - ratings are inferred from actions\n",
    "\n",
    "Examples: Users may visit a product page because they are interested in that product"
   ]
  },
  {
   "cell_type": "markdown",
   "metadata": {
    "slideshow": {
     "slide_type": "subslide"
    }
   },
   "source": [
    "What might someone do with CF:\n",
    "* Help me find new items I might like.\n",
    "* Advise me on a particular item. I have a particular item in mind; does the community know whether it is good or bad?\n",
    "* Help me find a user (or some users) I might like.\n",
    "* Help our group find something new that we might like.\n",
    "* Help me find an item, new or not."
   ]
  },
  {
   "cell_type": "markdown",
   "metadata": {
    "slideshow": {
     "slide_type": "subslide"
    }
   },
   "source": [
    "## Real dataset: Movielens\n",
    "\n",
    "https://grouplens.org/datasets/movielens/\n",
    "\n",
    "> MovieLens is a collaborative filtering system for movies. A\n",
    "user of MovieLens rates movies using 1 to 5 stars, where 1 is \"Awful\" and 5 is \"Must\n",
    "See\". MovieLens then uses the ratings of the community to recommend other movies\n",
    "that user might be interested in, predict what that user might rate a movie,\n",
    "or perform other tasks. - \"Collaborative Filtering Recommender Systems\""
   ]
  },
  {
   "cell_type": "code",
   "execution_count": 4,
   "metadata": {
    "slideshow": {
     "slide_type": "fragment"
    }
   },
   "outputs": [
    {
     "data": {
      "text/html": [
       "<div>\n",
       "<style scoped>\n",
       "    .dataframe tbody tr th:only-of-type {\n",
       "        vertical-align: middle;\n",
       "    }\n",
       "\n",
       "    .dataframe tbody tr th {\n",
       "        vertical-align: top;\n",
       "    }\n",
       "\n",
       "    .dataframe thead th {\n",
       "        text-align: right;\n",
       "    }\n",
       "</style>\n",
       "<table border=\"1\" class=\"dataframe\">\n",
       "  <thead>\n",
       "    <tr style=\"text-align: right;\">\n",
       "      <th></th>\n",
       "      <th>userId</th>\n",
       "      <th>movieId</th>\n",
       "      <th>rating</th>\n",
       "      <th>timestamp</th>\n",
       "    </tr>\n",
       "  </thead>\n",
       "  <tbody>\n",
       "    <tr>\n",
       "      <th>0</th>\n",
       "      <td>1</td>\n",
       "      <td>1</td>\n",
       "      <td>4.0</td>\n",
       "      <td>964982703</td>\n",
       "    </tr>\n",
       "    <tr>\n",
       "      <th>1</th>\n",
       "      <td>1</td>\n",
       "      <td>3</td>\n",
       "      <td>4.0</td>\n",
       "      <td>964981247</td>\n",
       "    </tr>\n",
       "    <tr>\n",
       "      <th>2</th>\n",
       "      <td>1</td>\n",
       "      <td>6</td>\n",
       "      <td>4.0</td>\n",
       "      <td>964982224</td>\n",
       "    </tr>\n",
       "    <tr>\n",
       "      <th>3</th>\n",
       "      <td>1</td>\n",
       "      <td>47</td>\n",
       "      <td>5.0</td>\n",
       "      <td>964983815</td>\n",
       "    </tr>\n",
       "    <tr>\n",
       "      <th>4</th>\n",
       "      <td>1</td>\n",
       "      <td>50</td>\n",
       "      <td>5.0</td>\n",
       "      <td>964982931</td>\n",
       "    </tr>\n",
       "  </tbody>\n",
       "</table>\n",
       "</div>"
      ],
      "text/plain": [
       "   userId  movieId  rating  timestamp\n",
       "0       1        1     4.0  964982703\n",
       "1       1        3     4.0  964981247\n",
       "2       1        6     4.0  964982224\n",
       "3       1       47     5.0  964983815\n",
       "4       1       50     5.0  964982931"
      ]
     },
     "execution_count": 4,
     "metadata": {},
     "output_type": "execute_result"
    }
   ],
   "source": [
    "import pandas as pd\n",
    "import numpy as np\n",
    "\n",
    "ratings = pd.read_csv(f'{home}/csc-466-student/data/movielens-small/ratings.csv') # you might need to change this path\n",
    "ratings = ratings.dropna()\n",
    "ratings.head()"
   ]
  },
  {
   "cell_type": "code",
   "execution_count": 5,
   "metadata": {
    "slideshow": {
     "slide_type": "subslide"
    }
   },
   "outputs": [
    {
     "data": {
      "text/html": [
       "<div>\n",
       "<style scoped>\n",
       "    .dataframe tbody tr th:only-of-type {\n",
       "        vertical-align: middle;\n",
       "    }\n",
       "\n",
       "    .dataframe tbody tr th {\n",
       "        vertical-align: top;\n",
       "    }\n",
       "\n",
       "    .dataframe thead th {\n",
       "        text-align: right;\n",
       "    }\n",
       "</style>\n",
       "<table border=\"1\" class=\"dataframe\">\n",
       "  <thead>\n",
       "    <tr style=\"text-align: right;\">\n",
       "      <th></th>\n",
       "      <th>movieId</th>\n",
       "      <th>title</th>\n",
       "      <th>genres</th>\n",
       "    </tr>\n",
       "  </thead>\n",
       "  <tbody>\n",
       "    <tr>\n",
       "      <th>0</th>\n",
       "      <td>1</td>\n",
       "      <td>Toy Story (1995)</td>\n",
       "      <td>Adventure|Animation|Children|Comedy|Fantasy</td>\n",
       "    </tr>\n",
       "    <tr>\n",
       "      <th>1</th>\n",
       "      <td>2</td>\n",
       "      <td>Jumanji (1995)</td>\n",
       "      <td>Adventure|Children|Fantasy</td>\n",
       "    </tr>\n",
       "    <tr>\n",
       "      <th>2</th>\n",
       "      <td>3</td>\n",
       "      <td>Grumpier Old Men (1995)</td>\n",
       "      <td>Comedy|Romance</td>\n",
       "    </tr>\n",
       "    <tr>\n",
       "      <th>3</th>\n",
       "      <td>4</td>\n",
       "      <td>Waiting to Exhale (1995)</td>\n",
       "      <td>Comedy|Drama|Romance</td>\n",
       "    </tr>\n",
       "    <tr>\n",
       "      <th>4</th>\n",
       "      <td>5</td>\n",
       "      <td>Father of the Bride Part II (1995)</td>\n",
       "      <td>Comedy</td>\n",
       "    </tr>\n",
       "  </tbody>\n",
       "</table>\n",
       "</div>"
      ],
      "text/plain": [
       "   movieId                               title  \\\n",
       "0        1                    Toy Story (1995)   \n",
       "1        2                      Jumanji (1995)   \n",
       "2        3             Grumpier Old Men (1995)   \n",
       "3        4            Waiting to Exhale (1995)   \n",
       "4        5  Father of the Bride Part II (1995)   \n",
       "\n",
       "                                        genres  \n",
       "0  Adventure|Animation|Children|Comedy|Fantasy  \n",
       "1                   Adventure|Children|Fantasy  \n",
       "2                               Comedy|Romance  \n",
       "3                         Comedy|Drama|Romance  \n",
       "4                                       Comedy  "
      ]
     },
     "execution_count": 5,
     "metadata": {},
     "output_type": "execute_result"
    }
   ],
   "source": [
    "movies = pd.read_csv(f'{home}/csc-466-student/data/movielens-small/movies.csv')\n",
    "movies = movies.dropna()\n",
    "movies.head()"
   ]
  },
  {
   "cell_type": "markdown",
   "metadata": {
    "slideshow": {
     "slide_type": "subslide"
    }
   },
   "source": [
    "### Joining the data together\n",
    "We need to join those two source dataframes into a single one called data. I do this by setting the index to movieId and then specifying an ``inner`` join which means that the movie has to exist on both sides of the join. Then I reset the index so that I can later set the multi-index of userId and movieId. The results of this are displayed below. Pandas is awesome, but it takes some getting used to how everything works."
   ]
  },
  {
   "cell_type": "code",
   "execution_count": 9,
   "metadata": {
    "slideshow": {
     "slide_type": "subslide"
    }
   },
   "outputs": [
    {
     "data": {
      "text/html": [
       "<div>\n",
       "<style scoped>\n",
       "    .dataframe tbody tr th:only-of-type {\n",
       "        vertical-align: middle;\n",
       "    }\n",
       "\n",
       "    .dataframe tbody tr th {\n",
       "        vertical-align: top;\n",
       "    }\n",
       "\n",
       "    .dataframe thead th {\n",
       "        text-align: right;\n",
       "    }\n",
       "</style>\n",
       "<table border=\"1\" class=\"dataframe\">\n",
       "  <thead>\n",
       "    <tr style=\"text-align: right;\">\n",
       "      <th></th>\n",
       "      <th>movieId</th>\n",
       "      <th>title</th>\n",
       "      <th>genres</th>\n",
       "      <th>userId</th>\n",
       "      <th>rating</th>\n",
       "    </tr>\n",
       "  </thead>\n",
       "  <tbody>\n",
       "    <tr>\n",
       "      <th>0</th>\n",
       "      <td>1</td>\n",
       "      <td>Toy Story (1995)</td>\n",
       "      <td>Adventure|Animation|Children|Comedy|Fantasy</td>\n",
       "      <td>1</td>\n",
       "      <td>4.0</td>\n",
       "    </tr>\n",
       "    <tr>\n",
       "      <th>1</th>\n",
       "      <td>1</td>\n",
       "      <td>Toy Story (1995)</td>\n",
       "      <td>Adventure|Animation|Children|Comedy|Fantasy</td>\n",
       "      <td>5</td>\n",
       "      <td>4.0</td>\n",
       "    </tr>\n",
       "    <tr>\n",
       "      <th>2</th>\n",
       "      <td>1</td>\n",
       "      <td>Toy Story (1995)</td>\n",
       "      <td>Adventure|Animation|Children|Comedy|Fantasy</td>\n",
       "      <td>7</td>\n",
       "      <td>4.5</td>\n",
       "    </tr>\n",
       "    <tr>\n",
       "      <th>3</th>\n",
       "      <td>1</td>\n",
       "      <td>Toy Story (1995)</td>\n",
       "      <td>Adventure|Animation|Children|Comedy|Fantasy</td>\n",
       "      <td>15</td>\n",
       "      <td>2.5</td>\n",
       "    </tr>\n",
       "    <tr>\n",
       "      <th>4</th>\n",
       "      <td>1</td>\n",
       "      <td>Toy Story (1995)</td>\n",
       "      <td>Adventure|Animation|Children|Comedy|Fantasy</td>\n",
       "      <td>17</td>\n",
       "      <td>4.5</td>\n",
       "    </tr>\n",
       "  </tbody>\n",
       "</table>\n",
       "</div>"
      ],
      "text/plain": [
       "   movieId             title                                       genres  \\\n",
       "0        1  Toy Story (1995)  Adventure|Animation|Children|Comedy|Fantasy   \n",
       "1        1  Toy Story (1995)  Adventure|Animation|Children|Comedy|Fantasy   \n",
       "2        1  Toy Story (1995)  Adventure|Animation|Children|Comedy|Fantasy   \n",
       "3        1  Toy Story (1995)  Adventure|Animation|Children|Comedy|Fantasy   \n",
       "4        1  Toy Story (1995)  Adventure|Animation|Children|Comedy|Fantasy   \n",
       "\n",
       "   userId  rating  \n",
       "0       1     4.0  \n",
       "1       5     4.0  \n",
       "2       7     4.5  \n",
       "3      15     2.5  \n",
       "4      17     4.5  "
      ]
     },
     "execution_count": 9,
     "metadata": {},
     "output_type": "execute_result"
    }
   ],
   "source": [
    "data = movies.set_index('movieId').join(ratings.set_index('movieId'),how='inner').reset_index()\n",
    "data = data.drop('timestamp',axis=1) # We won't need timestamp here\n",
    "data.head()"
   ]
  },
  {
   "cell_type": "markdown",
   "metadata": {
    "slideshow": {
     "slide_type": "subslide"
    }
   },
   "source": [
    "You can then calculate the average rating for a user:"
   ]
  },
  {
   "cell_type": "code",
   "execution_count": 10,
   "metadata": {
    "slideshow": {
     "slide_type": "fragment"
    }
   },
   "outputs": [
    {
     "data": {
      "text/plain": [
       "4.366379310344827"
      ]
     },
     "execution_count": 10,
     "metadata": {},
     "output_type": "execute_result"
    }
   ],
   "source": [
    "data.set_index('userId').loc[1,'rating'].mean()"
   ]
  },
  {
   "cell_type": "markdown",
   "metadata": {
    "slideshow": {
     "slide_type": "subslide"
    }
   },
   "source": [
    "It would also be interesting to see the distribution of ratings across all users:"
   ]
  },
  {
   "cell_type": "code",
   "execution_count": 12,
   "metadata": {
    "slideshow": {
     "slide_type": "fragment"
    }
   },
   "outputs": [
    {
     "data": {
      "image/png": "[encoded data removed]",
      "text/plain": [
       "<Figure size 432x288 with 1 Axes>"
      ]
     },
     "metadata": {
      "needs_background": "light"
     },
     "output_type": "display_data"
    }
   ],
   "source": [
    "ax = data.reset_index().groupby('userId')['rating'].mean().plot.hist()\n",
    "ax.set_xlabel('Rating');"
   ]
  },
  {
   "cell_type": "markdown",
   "metadata": {
    "slideshow": {
     "slide_type": "subslide"
    }
   },
   "source": [
    "**Stop and think:** How can we handle the genres column?"
   ]
  },
  {
   "cell_type": "code",
   "execution_count": 14,
   "metadata": {
    "slideshow": {
     "slide_type": "fragment"
    }
   },
   "outputs": [
    {
     "data": {
      "text/html": [
       "<div>\n",
       "<style scoped>\n",
       "    .dataframe tbody tr th:only-of-type {\n",
       "        vertical-align: middle;\n",
       "    }\n",
       "\n",
       "    .dataframe tbody tr th {\n",
       "        vertical-align: top;\n",
       "    }\n",
       "\n",
       "    .dataframe thead th {\n",
       "        text-align: right;\n",
       "    }\n",
       "</style>\n",
       "<table border=\"1\" class=\"dataframe\">\n",
       "  <thead>\n",
       "    <tr style=\"text-align: right;\">\n",
       "      <th></th>\n",
       "      <th>(no genres listed)</th>\n",
       "      <th>Action</th>\n",
       "      <th>Adventure</th>\n",
       "      <th>Animation</th>\n",
       "      <th>Children</th>\n",
       "      <th>Comedy</th>\n",
       "      <th>Crime</th>\n",
       "      <th>Documentary</th>\n",
       "      <th>Drama</th>\n",
       "      <th>Fantasy</th>\n",
       "      <th>Film-Noir</th>\n",
       "      <th>Horror</th>\n",
       "      <th>IMAX</th>\n",
       "      <th>Musical</th>\n",
       "      <th>Mystery</th>\n",
       "      <th>Romance</th>\n",
       "      <th>Sci-Fi</th>\n",
       "      <th>Thriller</th>\n",
       "      <th>War</th>\n",
       "      <th>Western</th>\n",
       "    </tr>\n",
       "  </thead>\n",
       "  <tbody>\n",
       "    <tr>\n",
       "      <th>0</th>\n",
       "      <td>0</td>\n",
       "      <td>0</td>\n",
       "      <td>1</td>\n",
       "      <td>1</td>\n",
       "      <td>1</td>\n",
       "      <td>1</td>\n",
       "      <td>0</td>\n",
       "      <td>0</td>\n",
       "      <td>0</td>\n",
       "      <td>1</td>\n",
       "      <td>0</td>\n",
       "      <td>0</td>\n",
       "      <td>0</td>\n",
       "      <td>0</td>\n",
       "      <td>0</td>\n",
       "      <td>0</td>\n",
       "      <td>0</td>\n",
       "      <td>0</td>\n",
       "      <td>0</td>\n",
       "      <td>0</td>\n",
       "    </tr>\n",
       "    <tr>\n",
       "      <th>1</th>\n",
       "      <td>0</td>\n",
       "      <td>0</td>\n",
       "      <td>1</td>\n",
       "      <td>1</td>\n",
       "      <td>1</td>\n",
       "      <td>1</td>\n",
       "      <td>0</td>\n",
       "      <td>0</td>\n",
       "      <td>0</td>\n",
       "      <td>1</td>\n",
       "      <td>0</td>\n",
       "      <td>0</td>\n",
       "      <td>0</td>\n",
       "      <td>0</td>\n",
       "      <td>0</td>\n",
       "      <td>0</td>\n",
       "      <td>0</td>\n",
       "      <td>0</td>\n",
       "      <td>0</td>\n",
       "      <td>0</td>\n",
       "    </tr>\n",
       "    <tr>\n",
       "      <th>2</th>\n",
       "      <td>0</td>\n",
       "      <td>0</td>\n",
       "      <td>1</td>\n",
       "      <td>1</td>\n",
       "      <td>1</td>\n",
       "      <td>1</td>\n",
       "      <td>0</td>\n",
       "      <td>0</td>\n",
       "      <td>0</td>\n",
       "      <td>1</td>\n",
       "      <td>0</td>\n",
       "      <td>0</td>\n",
       "      <td>0</td>\n",
       "      <td>0</td>\n",
       "      <td>0</td>\n",
       "      <td>0</td>\n",
       "      <td>0</td>\n",
       "      <td>0</td>\n",
       "      <td>0</td>\n",
       "      <td>0</td>\n",
       "    </tr>\n",
       "    <tr>\n",
       "      <th>3</th>\n",
       "      <td>0</td>\n",
       "      <td>0</td>\n",
       "      <td>1</td>\n",
       "      <td>1</td>\n",
       "      <td>1</td>\n",
       "      <td>1</td>\n",
       "      <td>0</td>\n",
       "      <td>0</td>\n",
       "      <td>0</td>\n",
       "      <td>1</td>\n",
       "      <td>0</td>\n",
       "      <td>0</td>\n",
       "      <td>0</td>\n",
       "      <td>0</td>\n",
       "      <td>0</td>\n",
       "      <td>0</td>\n",
       "      <td>0</td>\n",
       "      <td>0</td>\n",
       "      <td>0</td>\n",
       "      <td>0</td>\n",
       "    </tr>\n",
       "    <tr>\n",
       "      <th>4</th>\n",
       "      <td>0</td>\n",
       "      <td>0</td>\n",
       "      <td>1</td>\n",
       "      <td>1</td>\n",
       "      <td>1</td>\n",
       "      <td>1</td>\n",
       "      <td>0</td>\n",
       "      <td>0</td>\n",
       "      <td>0</td>\n",
       "      <td>1</td>\n",
       "      <td>0</td>\n",
       "      <td>0</td>\n",
       "      <td>0</td>\n",
       "      <td>0</td>\n",
       "      <td>0</td>\n",
       "      <td>0</td>\n",
       "      <td>0</td>\n",
       "      <td>0</td>\n",
       "      <td>0</td>\n",
       "      <td>0</td>\n",
       "    </tr>\n",
       "  </tbody>\n",
       "</table>\n",
       "</div>"
      ],
      "text/plain": [
       "   (no genres listed)  Action  Adventure  Animation  Children  Comedy  Crime  \\\n",
       "0                   0       0          1          1         1       1      0   \n",
       "1                   0       0          1          1         1       1      0   \n",
       "2                   0       0          1          1         1       1      0   \n",
       "3                   0       0          1          1         1       1      0   \n",
       "4                   0       0          1          1         1       1      0   \n",
       "\n",
       "   Documentary  Drama  Fantasy  Film-Noir  Horror  IMAX  Musical  Mystery  \\\n",
       "0            0      0        1          0       0     0        0        0   \n",
       "1            0      0        1          0       0     0        0        0   \n",
       "2            0      0        1          0       0     0        0        0   \n",
       "3            0      0        1          0       0     0        0        0   \n",
       "4            0      0        1          0       0     0        0        0   \n",
       "\n",
       "   Romance  Sci-Fi  Thriller  War  Western  \n",
       "0        0       0         0    0        0  \n",
       "1        0       0         0    0        0  \n",
       "2        0       0         0    0        0  \n",
       "3        0       0         0    0        0  \n",
       "4        0       0         0    0        0  "
      ]
     },
     "execution_count": 14,
     "metadata": {},
     "output_type": "execute_result"
    }
   ],
   "source": [
    "# Your solution here\n",
    "genres.head()"
   ]
  },
  {
   "cell_type": "markdown",
   "metadata": {
    "slideshow": {
     "slide_type": "subslide"
    }
   },
   "source": [
    "**Stop and think:** How would you calculate the average score per genre?"
   ]
  },
  {
   "cell_type": "code",
   "execution_count": 15,
   "metadata": {
    "slideshow": {
     "slide_type": "fragment"
    }
   },
   "outputs": [
    {
     "data": {
      "text/plain": [
       "genre\n",
       "Horror                3.258195\n",
       "Comedy                3.384721\n",
       "Children              3.412956\n",
       "Action                3.447984\n",
       "Sci-Fi                3.455721\n",
       "(no genres listed)    3.489362\n",
       "Fantasy               3.491001\n",
       "Thriller              3.493706\n",
       "Romance               3.506511\n",
       "Adventure             3.508609\n",
       "Musical               3.563678\n",
       "Western               3.583938\n",
       "IMAX                  3.618335\n",
       "Animation             3.629937\n",
       "Mystery               3.632460\n",
       "Drama                 3.656184\n",
       "Crime                 3.658294\n",
       "Documentary           3.797785\n",
       "War                   3.808294\n",
       "Film-Noir             3.920115\n",
       "Name: rating, dtype: float64"
      ]
     },
     "execution_count": 15,
     "metadata": {},
     "output_type": "execute_result"
    }
   ],
   "source": [
    "# Your solution here\n",
    "means.sort_values()"
   ]
  },
  {
   "cell_type": "markdown",
   "metadata": {
    "slideshow": {
     "slide_type": "subslide"
    }
   },
   "source": [
    "How many unique users are in this small dataset?"
   ]
  },
  {
   "cell_type": "code",
   "execution_count": 16,
   "metadata": {
    "slideshow": {
     "slide_type": "fragment"
    }
   },
   "outputs": [
    {
     "data": {
      "text/plain": [
       "610"
      ]
     },
     "execution_count": 16,
     "metadata": {},
     "output_type": "execute_result"
    }
   ],
   "source": [
    "len(ratings.userId.unique())"
   ]
  },
  {
   "cell_type": "markdown",
   "metadata": {
    "slideshow": {
     "slide_type": "subslide"
    }
   },
   "source": [
    "### Aside: Turning data into a matrix instead of a series\n",
    "The functions ``stack()`` and ``unstack()`` are called multiple times in this lab. These functions allow me to easily change from a dataframe to a series and back again. Below I'm changing from the Series object to a DataFrame. The important thing to note is that each row is now a user! NaN values are inserted where a user did not rate movie."
   ]
  },
  {
   "cell_type": "code",
   "execution_count": 30,
   "metadata": {
    "slideshow": {
     "slide_type": "subslide"
    }
   },
   "outputs": [
    {
     "data": {
      "text/plain": [
       "userId  movieId\n",
       "1       1          4.0\n",
       "5       1          4.0\n",
       "7       1          4.5\n",
       "15      1          2.5\n",
       "17      1          4.5\n",
       "                  ... \n",
       "184     193581     4.0\n",
       "        193583     3.5\n",
       "        193585     3.5\n",
       "        193587     3.5\n",
       "331     193609     4.0\n",
       "Name: rating, Length: 100836, dtype: float64"
      ]
     },
     "execution_count": 30,
     "metadata": {},
     "output_type": "execute_result"
    }
   ],
   "source": [
    "ratings = data.set_index(['userId','movieId'])['rating']\n",
    "ratings # as Series"
   ]
  },
  {
   "cell_type": "code",
   "execution_count": 31,
   "metadata": {
    "slideshow": {
     "slide_type": "subslide"
    }
   },
   "outputs": [
    {
     "data": {
      "text/html": [
       "<div>\n",
       "<style scoped>\n",
       "    .dataframe tbody tr th:only-of-type {\n",
       "        vertical-align: middle;\n",
       "    }\n",
       "\n",
       "    .dataframe tbody tr th {\n",
       "        vertical-align: top;\n",
       "    }\n",
       "\n",
       "    .dataframe thead th {\n",
       "        text-align: right;\n",
       "    }\n",
       "</style>\n",
       "<table border=\"1\" class=\"dataframe\">\n",
       "  <thead>\n",
       "    <tr style=\"text-align: right;\">\n",
       "      <th>movieId</th>\n",
       "      <th>1</th>\n",
       "      <th>2</th>\n",
       "      <th>3</th>\n",
       "      <th>4</th>\n",
       "      <th>5</th>\n",
       "      <th>6</th>\n",
       "      <th>7</th>\n",
       "      <th>8</th>\n",
       "      <th>9</th>\n",
       "      <th>10</th>\n",
       "      <th>...</th>\n",
       "      <th>193565</th>\n",
       "      <th>193567</th>\n",
       "      <th>193571</th>\n",
       "      <th>193573</th>\n",
       "      <th>193579</th>\n",
       "      <th>193581</th>\n",
       "      <th>193583</th>\n",
       "      <th>193585</th>\n",
       "      <th>193587</th>\n",
       "      <th>193609</th>\n",
       "    </tr>\n",
       "    <tr>\n",
       "      <th>userId</th>\n",
       "      <th></th>\n",
       "      <th></th>\n",
       "      <th></th>\n",
       "      <th></th>\n",
       "      <th></th>\n",
       "      <th></th>\n",
       "      <th></th>\n",
       "      <th></th>\n",
       "      <th></th>\n",
       "      <th></th>\n",
       "      <th></th>\n",
       "      <th></th>\n",
       "      <th></th>\n",
       "      <th></th>\n",
       "      <th></th>\n",
       "      <th></th>\n",
       "      <th></th>\n",
       "      <th></th>\n",
       "      <th></th>\n",
       "      <th></th>\n",
       "      <th></th>\n",
       "    </tr>\n",
       "  </thead>\n",
       "  <tbody>\n",
       "    <tr>\n",
       "      <th>1</th>\n",
       "      <td>4.0</td>\n",
       "      <td>NaN</td>\n",
       "      <td>4.0</td>\n",
       "      <td>NaN</td>\n",
       "      <td>NaN</td>\n",
       "      <td>4.0</td>\n",
       "      <td>NaN</td>\n",
       "      <td>NaN</td>\n",
       "      <td>NaN</td>\n",
       "      <td>NaN</td>\n",
       "      <td>...</td>\n",
       "      <td>NaN</td>\n",
       "      <td>NaN</td>\n",
       "      <td>NaN</td>\n",
       "      <td>NaN</td>\n",
       "      <td>NaN</td>\n",
       "      <td>NaN</td>\n",
       "      <td>NaN</td>\n",
       "      <td>NaN</td>\n",
       "      <td>NaN</td>\n",
       "      <td>NaN</td>\n",
       "    </tr>\n",
       "    <tr>\n",
       "      <th>2</th>\n",
       "      <td>NaN</td>\n",
       "      <td>NaN</td>\n",
       "      <td>NaN</td>\n",
       "      <td>NaN</td>\n",
       "      <td>NaN</td>\n",
       "      <td>NaN</td>\n",
       "      <td>NaN</td>\n",
       "      <td>NaN</td>\n",
       "      <td>NaN</td>\n",
       "      <td>NaN</td>\n",
       "      <td>...</td>\n",
       "      <td>NaN</td>\n",
       "      <td>NaN</td>\n",
       "      <td>NaN</td>\n",
       "      <td>NaN</td>\n",
       "      <td>NaN</td>\n",
       "      <td>NaN</td>\n",
       "      <td>NaN</td>\n",
       "      <td>NaN</td>\n",
       "      <td>NaN</td>\n",
       "      <td>NaN</td>\n",
       "    </tr>\n",
       "    <tr>\n",
       "      <th>3</th>\n",
       "      <td>NaN</td>\n",
       "      <td>NaN</td>\n",
       "      <td>NaN</td>\n",
       "      <td>NaN</td>\n",
       "      <td>NaN</td>\n",
       "      <td>NaN</td>\n",
       "      <td>NaN</td>\n",
       "      <td>NaN</td>\n",
       "      <td>NaN</td>\n",
       "      <td>NaN</td>\n",
       "      <td>...</td>\n",
       "      <td>NaN</td>\n",
       "      <td>NaN</td>\n",
       "      <td>NaN</td>\n",
       "      <td>NaN</td>\n",
       "      <td>NaN</td>\n",
       "      <td>NaN</td>\n",
       "      <td>NaN</td>\n",
       "      <td>NaN</td>\n",
       "      <td>NaN</td>\n",
       "      <td>NaN</td>\n",
       "    </tr>\n",
       "    <tr>\n",
       "      <th>4</th>\n",
       "      <td>NaN</td>\n",
       "      <td>NaN</td>\n",
       "      <td>NaN</td>\n",
       "      <td>NaN</td>\n",
       "      <td>NaN</td>\n",
       "      <td>NaN</td>\n",
       "      <td>NaN</td>\n",
       "      <td>NaN</td>\n",
       "      <td>NaN</td>\n",
       "      <td>NaN</td>\n",
       "      <td>...</td>\n",
       "      <td>NaN</td>\n",
       "      <td>NaN</td>\n",
       "      <td>NaN</td>\n",
       "      <td>NaN</td>\n",
       "      <td>NaN</td>\n",
       "      <td>NaN</td>\n",
       "      <td>NaN</td>\n",
       "      <td>NaN</td>\n",
       "      <td>NaN</td>\n",
       "      <td>NaN</td>\n",
       "    </tr>\n",
       "    <tr>\n",
       "      <th>5</th>\n",
       "      <td>4.0</td>\n",
       "      <td>NaN</td>\n",
       "      <td>NaN</td>\n",
       "      <td>NaN</td>\n",
       "      <td>NaN</td>\n",
       "      <td>NaN</td>\n",
       "      <td>NaN</td>\n",
       "      <td>NaN</td>\n",
       "      <td>NaN</td>\n",
       "      <td>NaN</td>\n",
       "      <td>...</td>\n",
       "      <td>NaN</td>\n",
       "      <td>NaN</td>\n",
       "      <td>NaN</td>\n",
       "      <td>NaN</td>\n",
       "      <td>NaN</td>\n",
       "      <td>NaN</td>\n",
       "      <td>NaN</td>\n",
       "      <td>NaN</td>\n",
       "      <td>NaN</td>\n",
       "      <td>NaN</td>\n",
       "    </tr>\n",
       "    <tr>\n",
       "      <th>...</th>\n",
       "      <td>...</td>\n",
       "      <td>...</td>\n",
       "      <td>...</td>\n",
       "      <td>...</td>\n",
       "      <td>...</td>\n",
       "      <td>...</td>\n",
       "      <td>...</td>\n",
       "      <td>...</td>\n",
       "      <td>...</td>\n",
       "      <td>...</td>\n",
       "      <td>...</td>\n",
       "      <td>...</td>\n",
       "      <td>...</td>\n",
       "      <td>...</td>\n",
       "      <td>...</td>\n",
       "      <td>...</td>\n",
       "      <td>...</td>\n",
       "      <td>...</td>\n",
       "      <td>...</td>\n",
       "      <td>...</td>\n",
       "      <td>...</td>\n",
       "    </tr>\n",
       "    <tr>\n",
       "      <th>606</th>\n",
       "      <td>2.5</td>\n",
       "      <td>NaN</td>\n",
       "      <td>NaN</td>\n",
       "      <td>NaN</td>\n",
       "      <td>NaN</td>\n",
       "      <td>NaN</td>\n",
       "      <td>2.5</td>\n",
       "      <td>NaN</td>\n",
       "      <td>NaN</td>\n",
       "      <td>NaN</td>\n",
       "      <td>...</td>\n",
       "      <td>NaN</td>\n",
       "      <td>NaN</td>\n",
       "      <td>NaN</td>\n",
       "      <td>NaN</td>\n",
       "      <td>NaN</td>\n",
       "      <td>NaN</td>\n",
       "      <td>NaN</td>\n",
       "      <td>NaN</td>\n",
       "      <td>NaN</td>\n",
       "      <td>NaN</td>\n",
       "    </tr>\n",
       "    <tr>\n",
       "      <th>607</th>\n",
       "      <td>4.0</td>\n",
       "      <td>NaN</td>\n",
       "      <td>NaN</td>\n",
       "      <td>NaN</td>\n",
       "      <td>NaN</td>\n",
       "      <td>NaN</td>\n",
       "      <td>NaN</td>\n",
       "      <td>NaN</td>\n",
       "      <td>NaN</td>\n",
       "      <td>NaN</td>\n",
       "      <td>...</td>\n",
       "      <td>NaN</td>\n",
       "      <td>NaN</td>\n",
       "      <td>NaN</td>\n",
       "      <td>NaN</td>\n",
       "      <td>NaN</td>\n",
       "      <td>NaN</td>\n",
       "      <td>NaN</td>\n",
       "      <td>NaN</td>\n",
       "      <td>NaN</td>\n",
       "      <td>NaN</td>\n",
       "    </tr>\n",
       "    <tr>\n",
       "      <th>608</th>\n",
       "      <td>2.5</td>\n",
       "      <td>2.0</td>\n",
       "      <td>2.0</td>\n",
       "      <td>NaN</td>\n",
       "      <td>NaN</td>\n",
       "      <td>NaN</td>\n",
       "      <td>NaN</td>\n",
       "      <td>NaN</td>\n",
       "      <td>NaN</td>\n",
       "      <td>4.0</td>\n",
       "      <td>...</td>\n",
       "      <td>NaN</td>\n",
       "      <td>NaN</td>\n",
       "      <td>NaN</td>\n",
       "      <td>NaN</td>\n",
       "      <td>NaN</td>\n",
       "      <td>NaN</td>\n",
       "      <td>NaN</td>\n",
       "      <td>NaN</td>\n",
       "      <td>NaN</td>\n",
       "      <td>NaN</td>\n",
       "    </tr>\n",
       "    <tr>\n",
       "      <th>609</th>\n",
       "      <td>3.0</td>\n",
       "      <td>NaN</td>\n",
       "      <td>NaN</td>\n",
       "      <td>NaN</td>\n",
       "      <td>NaN</td>\n",
       "      <td>NaN</td>\n",
       "      <td>NaN</td>\n",
       "      <td>NaN</td>\n",
       "      <td>NaN</td>\n",
       "      <td>4.0</td>\n",
       "      <td>...</td>\n",
       "      <td>NaN</td>\n",
       "      <td>NaN</td>\n",
       "      <td>NaN</td>\n",
       "      <td>NaN</td>\n",
       "      <td>NaN</td>\n",
       "      <td>NaN</td>\n",
       "      <td>NaN</td>\n",
       "      <td>NaN</td>\n",
       "      <td>NaN</td>\n",
       "      <td>NaN</td>\n",
       "    </tr>\n",
       "    <tr>\n",
       "      <th>610</th>\n",
       "      <td>5.0</td>\n",
       "      <td>NaN</td>\n",
       "      <td>NaN</td>\n",
       "      <td>NaN</td>\n",
       "      <td>NaN</td>\n",
       "      <td>5.0</td>\n",
       "      <td>NaN</td>\n",
       "      <td>NaN</td>\n",
       "      <td>NaN</td>\n",
       "      <td>NaN</td>\n",
       "      <td>...</td>\n",
       "      <td>NaN</td>\n",
       "      <td>NaN</td>\n",
       "      <td>NaN</td>\n",
       "      <td>NaN</td>\n",
       "      <td>NaN</td>\n",
       "      <td>NaN</td>\n",
       "      <td>NaN</td>\n",
       "      <td>NaN</td>\n",
       "      <td>NaN</td>\n",
       "      <td>NaN</td>\n",
       "    </tr>\n",
       "  </tbody>\n",
       "</table>\n",
       "<p>610 rows × 9724 columns</p>\n",
       "</div>"
      ],
      "text/plain": [
       "movieId  1       2       3       4       5       6       7       8       \\\n",
       "userId                                                                    \n",
       "1           4.0     NaN     4.0     NaN     NaN     4.0     NaN     NaN   \n",
       "2           NaN     NaN     NaN     NaN     NaN     NaN     NaN     NaN   \n",
       "3           NaN     NaN     NaN     NaN     NaN     NaN     NaN     NaN   \n",
       "4           NaN     NaN     NaN     NaN     NaN     NaN     NaN     NaN   \n",
       "5           4.0     NaN     NaN     NaN     NaN     NaN     NaN     NaN   \n",
       "...         ...     ...     ...     ...     ...     ...     ...     ...   \n",
       "606         2.5     NaN     NaN     NaN     NaN     NaN     2.5     NaN   \n",
       "607         4.0     NaN     NaN     NaN     NaN     NaN     NaN     NaN   \n",
       "608         2.5     2.0     2.0     NaN     NaN     NaN     NaN     NaN   \n",
       "609         3.0     NaN     NaN     NaN     NaN     NaN     NaN     NaN   \n",
       "610         5.0     NaN     NaN     NaN     NaN     5.0     NaN     NaN   \n",
       "\n",
       "movieId  9       10      ...  193565  193567  193571  193573  193579  193581  \\\n",
       "userId                   ...                                                   \n",
       "1           NaN     NaN  ...     NaN     NaN     NaN     NaN     NaN     NaN   \n",
       "2           NaN     NaN  ...     NaN     NaN     NaN     NaN     NaN     NaN   \n",
       "3           NaN     NaN  ...     NaN     NaN     NaN     NaN     NaN     NaN   \n",
       "4           NaN     NaN  ...     NaN     NaN     NaN     NaN     NaN     NaN   \n",
       "5           NaN     NaN  ...     NaN     NaN     NaN     NaN     NaN     NaN   \n",
       "...         ...     ...  ...     ...     ...     ...     ...     ...     ...   \n",
       "606         NaN     NaN  ...     NaN     NaN     NaN     NaN     NaN     NaN   \n",
       "607         NaN     NaN  ...     NaN     NaN     NaN     NaN     NaN     NaN   \n",
       "608         NaN     4.0  ...     NaN     NaN     NaN     NaN     NaN     NaN   \n",
       "609         NaN     4.0  ...     NaN     NaN     NaN     NaN     NaN     NaN   \n",
       "610         NaN     NaN  ...     NaN     NaN     NaN     NaN     NaN     NaN   \n",
       "\n",
       "movieId  193583  193585  193587  193609  \n",
       "userId                                   \n",
       "1           NaN     NaN     NaN     NaN  \n",
       "2           NaN     NaN     NaN     NaN  \n",
       "3           NaN     NaN     NaN     NaN  \n",
       "4           NaN     NaN     NaN     NaN  \n",
       "5           NaN     NaN     NaN     NaN  \n",
       "...         ...     ...     ...     ...  \n",
       "606         NaN     NaN     NaN     NaN  \n",
       "607         NaN     NaN     NaN     NaN  \n",
       "608         NaN     NaN     NaN     NaN  \n",
       "609         NaN     NaN     NaN     NaN  \n",
       "610         NaN     NaN     NaN     NaN  \n",
       "\n",
       "[610 rows x 9724 columns]"
      ]
     },
     "execution_count": 31,
     "metadata": {},
     "output_type": "execute_result"
    }
   ],
   "source": [
    "ratings.unstack()"
   ]
  },
  {
   "cell_type": "code",
   "execution_count": 32,
   "metadata": {
    "slideshow": {
     "slide_type": "subslide"
    }
   },
   "outputs": [
    {
     "data": {
      "text/plain": [
       "userId  movieId\n",
       "1       1          4.0\n",
       "        3          4.0\n",
       "        6          4.0\n",
       "        47         5.0\n",
       "        50         5.0\n",
       "                  ... \n",
       "610     166534     4.0\n",
       "        168248     5.0\n",
       "        168250     5.0\n",
       "        168252     5.0\n",
       "        170875     3.0\n",
       "Length: 100836, dtype: float64"
      ]
     },
     "execution_count": 32,
     "metadata": {},
     "output_type": "execute_result"
    }
   ],
   "source": [
    "ratings.unstack().stack() # we can do this all day"
   ]
  },
  {
   "cell_type": "markdown",
   "metadata": {
    "slideshow": {
     "slide_type": "subslide"
    }
   },
   "source": [
    "Remember our initial analogy. We really want a way to return the users who have similar taste in movies to our friend. This means that we need a way to measure distance between users. The first thing we need to consider is what happens when a user doesn't rate a movie? "
   ]
  },
  {
   "cell_type": "markdown",
   "metadata": {
    "slideshow": {
     "slide_type": "subslide"
    }
   },
   "source": [
    "**Stop and think:** Why is it a bad idea to fill in 0 for missing values without any other modifications to the data? What could help?\n",
    "\n",
    "Your answer here"
   ]
  },
  {
   "cell_type": "markdown",
   "metadata": {
    "slideshow": {
     "slide_type": "subslide"
    }
   },
   "source": [
    "We've seen above that each user has a different baseline rating (average). It is a good idea to mean center each user:"
   ]
  },
  {
   "cell_type": "code",
   "execution_count": 33,
   "metadata": {
    "slideshow": {
     "slide_type": "subslide"
    }
   },
   "outputs": [
    {
     "data": {
      "text/plain": [
       "userId  movieId\n",
       "1       1         -0.366379\n",
       "        3         -0.366379\n",
       "        6         -0.366379\n",
       "        47         0.633621\n",
       "        50         0.633621\n",
       "                     ...   \n",
       "610     166534     0.311444\n",
       "        168248     1.311444\n",
       "        168250     1.311444\n",
       "        168252     1.311444\n",
       "        170875    -0.688556\n",
       "Length: 100836, dtype: float64"
      ]
     },
     "execution_count": 33,
     "metadata": {},
     "output_type": "execute_result"
    }
   ],
   "source": [
    "ratings = ratings.unstack()\n",
    "ratings = (ratings.T-ratings.mean(axis=1)).T\n",
    "ratings = ratings.stack()\n",
    "ratings"
   ]
  },
  {
   "cell_type": "code",
   "execution_count": 34,
   "metadata": {
    "slideshow": {
     "slide_type": "subslide"
    }
   },
   "outputs": [
    {
     "data": {
      "text/html": [
       "<div>\n",
       "<style scoped>\n",
       "    .dataframe tbody tr th:only-of-type {\n",
       "        vertical-align: middle;\n",
       "    }\n",
       "\n",
       "    .dataframe tbody tr th {\n",
       "        vertical-align: top;\n",
       "    }\n",
       "\n",
       "    .dataframe thead th {\n",
       "        text-align: right;\n",
       "    }\n",
       "</style>\n",
       "<table border=\"1\" class=\"dataframe\">\n",
       "  <thead>\n",
       "    <tr style=\"text-align: right;\">\n",
       "      <th>movieId</th>\n",
       "      <th>1</th>\n",
       "      <th>2</th>\n",
       "      <th>3</th>\n",
       "      <th>4</th>\n",
       "      <th>5</th>\n",
       "      <th>6</th>\n",
       "      <th>7</th>\n",
       "      <th>8</th>\n",
       "      <th>9</th>\n",
       "      <th>10</th>\n",
       "      <th>...</th>\n",
       "      <th>193565</th>\n",
       "      <th>193567</th>\n",
       "      <th>193571</th>\n",
       "      <th>193573</th>\n",
       "      <th>193579</th>\n",
       "      <th>193581</th>\n",
       "      <th>193583</th>\n",
       "      <th>193585</th>\n",
       "      <th>193587</th>\n",
       "      <th>193609</th>\n",
       "    </tr>\n",
       "    <tr>\n",
       "      <th>userId</th>\n",
       "      <th></th>\n",
       "      <th></th>\n",
       "      <th></th>\n",
       "      <th></th>\n",
       "      <th></th>\n",
       "      <th></th>\n",
       "      <th></th>\n",
       "      <th></th>\n",
       "      <th></th>\n",
       "      <th></th>\n",
       "      <th></th>\n",
       "      <th></th>\n",
       "      <th></th>\n",
       "      <th></th>\n",
       "      <th></th>\n",
       "      <th></th>\n",
       "      <th></th>\n",
       "      <th></th>\n",
       "      <th></th>\n",
       "      <th></th>\n",
       "      <th></th>\n",
       "    </tr>\n",
       "  </thead>\n",
       "  <tbody>\n",
       "    <tr>\n",
       "      <th>1</th>\n",
       "      <td>-0.366379</td>\n",
       "      <td>0.000000</td>\n",
       "      <td>-0.366379</td>\n",
       "      <td>0.0</td>\n",
       "      <td>0.0</td>\n",
       "      <td>-0.366379</td>\n",
       "      <td>0.000000</td>\n",
       "      <td>0.0</td>\n",
       "      <td>0.0</td>\n",
       "      <td>0.000000</td>\n",
       "      <td>...</td>\n",
       "      <td>0.0</td>\n",
       "      <td>0.0</td>\n",
       "      <td>0.0</td>\n",
       "      <td>0.0</td>\n",
       "      <td>0.0</td>\n",
       "      <td>0.0</td>\n",
       "      <td>0.0</td>\n",
       "      <td>0.0</td>\n",
       "      <td>0.0</td>\n",
       "      <td>0.0</td>\n",
       "    </tr>\n",
       "    <tr>\n",
       "      <th>2</th>\n",
       "      <td>0.000000</td>\n",
       "      <td>0.000000</td>\n",
       "      <td>0.000000</td>\n",
       "      <td>0.0</td>\n",
       "      <td>0.0</td>\n",
       "      <td>0.000000</td>\n",
       "      <td>0.000000</td>\n",
       "      <td>0.0</td>\n",
       "      <td>0.0</td>\n",
       "      <td>0.000000</td>\n",
       "      <td>...</td>\n",
       "      <td>0.0</td>\n",
       "      <td>0.0</td>\n",
       "      <td>0.0</td>\n",
       "      <td>0.0</td>\n",
       "      <td>0.0</td>\n",
       "      <td>0.0</td>\n",
       "      <td>0.0</td>\n",
       "      <td>0.0</td>\n",
       "      <td>0.0</td>\n",
       "      <td>0.0</td>\n",
       "    </tr>\n",
       "    <tr>\n",
       "      <th>3</th>\n",
       "      <td>0.000000</td>\n",
       "      <td>0.000000</td>\n",
       "      <td>0.000000</td>\n",
       "      <td>0.0</td>\n",
       "      <td>0.0</td>\n",
       "      <td>0.000000</td>\n",
       "      <td>0.000000</td>\n",
       "      <td>0.0</td>\n",
       "      <td>0.0</td>\n",
       "      <td>0.000000</td>\n",
       "      <td>...</td>\n",
       "      <td>0.0</td>\n",
       "      <td>0.0</td>\n",
       "      <td>0.0</td>\n",
       "      <td>0.0</td>\n",
       "      <td>0.0</td>\n",
       "      <td>0.0</td>\n",
       "      <td>0.0</td>\n",
       "      <td>0.0</td>\n",
       "      <td>0.0</td>\n",
       "      <td>0.0</td>\n",
       "    </tr>\n",
       "    <tr>\n",
       "      <th>4</th>\n",
       "      <td>0.000000</td>\n",
       "      <td>0.000000</td>\n",
       "      <td>0.000000</td>\n",
       "      <td>0.0</td>\n",
       "      <td>0.0</td>\n",
       "      <td>0.000000</td>\n",
       "      <td>0.000000</td>\n",
       "      <td>0.0</td>\n",
       "      <td>0.0</td>\n",
       "      <td>0.000000</td>\n",
       "      <td>...</td>\n",
       "      <td>0.0</td>\n",
       "      <td>0.0</td>\n",
       "      <td>0.0</td>\n",
       "      <td>0.0</td>\n",
       "      <td>0.0</td>\n",
       "      <td>0.0</td>\n",
       "      <td>0.0</td>\n",
       "      <td>0.0</td>\n",
       "      <td>0.0</td>\n",
       "      <td>0.0</td>\n",
       "    </tr>\n",
       "    <tr>\n",
       "      <th>5</th>\n",
       "      <td>0.363636</td>\n",
       "      <td>0.000000</td>\n",
       "      <td>0.000000</td>\n",
       "      <td>0.0</td>\n",
       "      <td>0.0</td>\n",
       "      <td>0.000000</td>\n",
       "      <td>0.000000</td>\n",
       "      <td>0.0</td>\n",
       "      <td>0.0</td>\n",
       "      <td>0.000000</td>\n",
       "      <td>...</td>\n",
       "      <td>0.0</td>\n",
       "      <td>0.0</td>\n",
       "      <td>0.0</td>\n",
       "      <td>0.0</td>\n",
       "      <td>0.0</td>\n",
       "      <td>0.0</td>\n",
       "      <td>0.0</td>\n",
       "      <td>0.0</td>\n",
       "      <td>0.0</td>\n",
       "      <td>0.0</td>\n",
       "    </tr>\n",
       "    <tr>\n",
       "      <th>...</th>\n",
       "      <td>...</td>\n",
       "      <td>...</td>\n",
       "      <td>...</td>\n",
       "      <td>...</td>\n",
       "      <td>...</td>\n",
       "      <td>...</td>\n",
       "      <td>...</td>\n",
       "      <td>...</td>\n",
       "      <td>...</td>\n",
       "      <td>...</td>\n",
       "      <td>...</td>\n",
       "      <td>...</td>\n",
       "      <td>...</td>\n",
       "      <td>...</td>\n",
       "      <td>...</td>\n",
       "      <td>...</td>\n",
       "      <td>...</td>\n",
       "      <td>...</td>\n",
       "      <td>...</td>\n",
       "      <td>...</td>\n",
       "      <td>...</td>\n",
       "    </tr>\n",
       "    <tr>\n",
       "      <th>606</th>\n",
       "      <td>-1.157399</td>\n",
       "      <td>0.000000</td>\n",
       "      <td>0.000000</td>\n",
       "      <td>0.0</td>\n",
       "      <td>0.0</td>\n",
       "      <td>0.000000</td>\n",
       "      <td>-1.157399</td>\n",
       "      <td>0.0</td>\n",
       "      <td>0.0</td>\n",
       "      <td>0.000000</td>\n",
       "      <td>...</td>\n",
       "      <td>0.0</td>\n",
       "      <td>0.0</td>\n",
       "      <td>0.0</td>\n",
       "      <td>0.0</td>\n",
       "      <td>0.0</td>\n",
       "      <td>0.0</td>\n",
       "      <td>0.0</td>\n",
       "      <td>0.0</td>\n",
       "      <td>0.0</td>\n",
       "      <td>0.0</td>\n",
       "    </tr>\n",
       "    <tr>\n",
       "      <th>607</th>\n",
       "      <td>0.213904</td>\n",
       "      <td>0.000000</td>\n",
       "      <td>0.000000</td>\n",
       "      <td>0.0</td>\n",
       "      <td>0.0</td>\n",
       "      <td>0.000000</td>\n",
       "      <td>0.000000</td>\n",
       "      <td>0.0</td>\n",
       "      <td>0.0</td>\n",
       "      <td>0.000000</td>\n",
       "      <td>...</td>\n",
       "      <td>0.0</td>\n",
       "      <td>0.0</td>\n",
       "      <td>0.0</td>\n",
       "      <td>0.0</td>\n",
       "      <td>0.0</td>\n",
       "      <td>0.0</td>\n",
       "      <td>0.0</td>\n",
       "      <td>0.0</td>\n",
       "      <td>0.0</td>\n",
       "      <td>0.0</td>\n",
       "    </tr>\n",
       "    <tr>\n",
       "      <th>608</th>\n",
       "      <td>-0.634176</td>\n",
       "      <td>-1.134176</td>\n",
       "      <td>-1.134176</td>\n",
       "      <td>0.0</td>\n",
       "      <td>0.0</td>\n",
       "      <td>0.000000</td>\n",
       "      <td>0.000000</td>\n",
       "      <td>0.0</td>\n",
       "      <td>0.0</td>\n",
       "      <td>0.865824</td>\n",
       "      <td>...</td>\n",
       "      <td>0.0</td>\n",
       "      <td>0.0</td>\n",
       "      <td>0.0</td>\n",
       "      <td>0.0</td>\n",
       "      <td>0.0</td>\n",
       "      <td>0.0</td>\n",
       "      <td>0.0</td>\n",
       "      <td>0.0</td>\n",
       "      <td>0.0</td>\n",
       "      <td>0.0</td>\n",
       "    </tr>\n",
       "    <tr>\n",
       "      <th>609</th>\n",
       "      <td>-0.270270</td>\n",
       "      <td>0.000000</td>\n",
       "      <td>0.000000</td>\n",
       "      <td>0.0</td>\n",
       "      <td>0.0</td>\n",
       "      <td>0.000000</td>\n",
       "      <td>0.000000</td>\n",
       "      <td>0.0</td>\n",
       "      <td>0.0</td>\n",
       "      <td>0.729730</td>\n",
       "      <td>...</td>\n",
       "      <td>0.0</td>\n",
       "      <td>0.0</td>\n",
       "      <td>0.0</td>\n",
       "      <td>0.0</td>\n",
       "      <td>0.0</td>\n",
       "      <td>0.0</td>\n",
       "      <td>0.0</td>\n",
       "      <td>0.0</td>\n",
       "      <td>0.0</td>\n",
       "      <td>0.0</td>\n",
       "    </tr>\n",
       "    <tr>\n",
       "      <th>610</th>\n",
       "      <td>1.311444</td>\n",
       "      <td>0.000000</td>\n",
       "      <td>0.000000</td>\n",
       "      <td>0.0</td>\n",
       "      <td>0.0</td>\n",
       "      <td>1.311444</td>\n",
       "      <td>0.000000</td>\n",
       "      <td>0.0</td>\n",
       "      <td>0.0</td>\n",
       "      <td>0.000000</td>\n",
       "      <td>...</td>\n",
       "      <td>0.0</td>\n",
       "      <td>0.0</td>\n",
       "      <td>0.0</td>\n",
       "      <td>0.0</td>\n",
       "      <td>0.0</td>\n",
       "      <td>0.0</td>\n",
       "      <td>0.0</td>\n",
       "      <td>0.0</td>\n",
       "      <td>0.0</td>\n",
       "      <td>0.0</td>\n",
       "    </tr>\n",
       "  </tbody>\n",
       "</table>\n",
       "<p>610 rows × 9724 columns</p>\n",
       "</div>"
      ],
      "text/plain": [
       "movieId    1         2         3       4       5         6         7       \\\n",
       "userId                                                                      \n",
       "1       -0.366379  0.000000 -0.366379     0.0     0.0 -0.366379  0.000000   \n",
       "2        0.000000  0.000000  0.000000     0.0     0.0  0.000000  0.000000   \n",
       "3        0.000000  0.000000  0.000000     0.0     0.0  0.000000  0.000000   \n",
       "4        0.000000  0.000000  0.000000     0.0     0.0  0.000000  0.000000   \n",
       "5        0.363636  0.000000  0.000000     0.0     0.0  0.000000  0.000000   \n",
       "...           ...       ...       ...     ...     ...       ...       ...   \n",
       "606     -1.157399  0.000000  0.000000     0.0     0.0  0.000000 -1.157399   \n",
       "607      0.213904  0.000000  0.000000     0.0     0.0  0.000000  0.000000   \n",
       "608     -0.634176 -1.134176 -1.134176     0.0     0.0  0.000000  0.000000   \n",
       "609     -0.270270  0.000000  0.000000     0.0     0.0  0.000000  0.000000   \n",
       "610      1.311444  0.000000  0.000000     0.0     0.0  1.311444  0.000000   \n",
       "\n",
       "movieId  8       9         10      ...  193565  193567  193571  193573  \\\n",
       "userId                             ...                                   \n",
       "1           0.0     0.0  0.000000  ...     0.0     0.0     0.0     0.0   \n",
       "2           0.0     0.0  0.000000  ...     0.0     0.0     0.0     0.0   \n",
       "3           0.0     0.0  0.000000  ...     0.0     0.0     0.0     0.0   \n",
       "4           0.0     0.0  0.000000  ...     0.0     0.0     0.0     0.0   \n",
       "5           0.0     0.0  0.000000  ...     0.0     0.0     0.0     0.0   \n",
       "...         ...     ...       ...  ...     ...     ...     ...     ...   \n",
       "606         0.0     0.0  0.000000  ...     0.0     0.0     0.0     0.0   \n",
       "607         0.0     0.0  0.000000  ...     0.0     0.0     0.0     0.0   \n",
       "608         0.0     0.0  0.865824  ...     0.0     0.0     0.0     0.0   \n",
       "609         0.0     0.0  0.729730  ...     0.0     0.0     0.0     0.0   \n",
       "610         0.0     0.0  0.000000  ...     0.0     0.0     0.0     0.0   \n",
       "\n",
       "movieId  193579  193581  193583  193585  193587  193609  \n",
       "userId                                                   \n",
       "1           0.0     0.0     0.0     0.0     0.0     0.0  \n",
       "2           0.0     0.0     0.0     0.0     0.0     0.0  \n",
       "3           0.0     0.0     0.0     0.0     0.0     0.0  \n",
       "4           0.0     0.0     0.0     0.0     0.0     0.0  \n",
       "5           0.0     0.0     0.0     0.0     0.0     0.0  \n",
       "...         ...     ...     ...     ...     ...     ...  \n",
       "606         0.0     0.0     0.0     0.0     0.0     0.0  \n",
       "607         0.0     0.0     0.0     0.0     0.0     0.0  \n",
       "608         0.0     0.0     0.0     0.0     0.0     0.0  \n",
       "609         0.0     0.0     0.0     0.0     0.0     0.0  \n",
       "610         0.0     0.0     0.0     0.0     0.0     0.0  \n",
       "\n",
       "[610 rows x 9724 columns]"
      ]
     },
     "execution_count": 34,
     "metadata": {},
     "output_type": "execute_result"
    }
   ],
   "source": [
    "# Let's now convert this to a dataframe and fill in the zeros\n",
    "ratings_df = ratings.unstack().fillna(0)\n",
    "ratings_df"
   ]
  },
  {
   "cell_type": "markdown",
   "metadata": {
    "slideshow": {
     "slide_type": "subslide"
    }
   },
   "source": [
    "Let's say your friend is the first user:"
   ]
  },
  {
   "cell_type": "code",
   "execution_count": 35,
   "metadata": {
    "slideshow": {
     "slide_type": "fragment"
    }
   },
   "outputs": [
    {
     "data": {
      "text/plain": [
       "movieId\n",
       "1        -0.366379\n",
       "2         0.000000\n",
       "3        -0.366379\n",
       "4         0.000000\n",
       "5         0.000000\n",
       "            ...   \n",
       "193581    0.000000\n",
       "193583    0.000000\n",
       "193585    0.000000\n",
       "193587    0.000000\n",
       "193609    0.000000\n",
       "Name: 1, Length: 9724, dtype: float64"
      ]
     },
     "execution_count": 35,
     "metadata": {},
     "output_type": "execute_result"
    }
   ],
   "source": [
    "x = ratings_df.loc[1]\n",
    "x"
   ]
  },
  {
   "cell_type": "markdown",
   "metadata": {
    "slideshow": {
     "slide_type": "subslide"
    }
   },
   "source": [
    "### Finding neighborhood.\n",
    "If we are hoping to predict movies for this user, then user-user collaborative filtering says find the ``N`` users that are similar. We should definitely drop out user 1 because it makes no sense to recommend to yourself. We then compute the cosine similarity between this user ``x`` and all other users in the db. We then reverse sort them, and then display the results.\n",
    "\n",
    "**Stop and think:** Why would we not use Euclidean distance? Consider two users who fail to rate any movies?\n",
    "\n",
    "##### Your solution here"
   ]
  },
  {
   "cell_type": "markdown",
   "metadata": {
    "slideshow": {
     "slide_type": "subslide"
    }
   },
   "source": [
    "${\\displaystyle {\\text{similarity}}=\\cos(\\theta )={\\mathbf {A} \\cdot \\mathbf {B} \\over \\|\\mathbf {A} \\|\\|\\mathbf {B} \\|}={\\frac {\\sum \\limits _{i=1}^{n}{A_{i}B_{i}}}{{\\sqrt {\\sum \\limits _{i=1}^{n}{A_{i}^{2}}}}{\\sqrt {\\sum \\limits _{i=1}^{n}{B_{i}^{2}}}}}},}$"
   ]
  },
  {
   "cell_type": "code",
   "execution_count": 36,
   "metadata": {
    "slideshow": {
     "slide_type": "subslide"
    }
   },
   "outputs": [
    {
     "name": "stderr",
     "output_type": "stream",
     "text": [
      "/opt/tljh/user/lib/python3.7/site-packages/ipykernel_launcher.py:3: RuntimeWarning: invalid value encountered in double_scalars\n",
      "  This is separate from the ipykernel package so we can avoid doing imports until\n"
     ]
    },
    {
     "data": {
      "text/plain": [
       "userId\n",
       "53          NaN\n",
       "301    0.124799\n",
       "597    0.102631\n",
       "414    0.101348\n",
       "477    0.099217\n",
       "         ...   \n",
       "395   -0.075800\n",
       "71    -0.082932\n",
       "370   -0.086678\n",
       "501   -0.090018\n",
       "579   -0.105003\n",
       "Length: 609, dtype: float64"
      ]
     },
     "execution_count": 36,
     "metadata": {},
     "output_type": "execute_result"
    }
   ],
   "source": [
    "db = ratings_df.drop(1) # Make database of all users except user 1\n",
    "x = ratings_df.loc[1]\n",
    "sims = db.apply(lambda y: (y.values*x.values).sum()/(np.sqrt((y**2).sum())*np.sqrt((x**2).sum())),axis=1)\n",
    "sorted_sims = sims.sort_values()[::-1]\n",
    "sorted_sims"
   ]
  },
  {
   "cell_type": "code",
   "execution_count": 41,
   "metadata": {
    "slideshow": {
     "slide_type": "subslide"
    }
   },
   "outputs": [
    {
     "data": {
      "text/plain": [
       "0"
      ]
     },
     "execution_count": 41,
     "metadata": {},
     "output_type": "execute_result"
    }
   ],
   "source": [
    "sum(ratings_df.loc[53]!=0) # Just fyi"
   ]
  },
  {
   "cell_type": "markdown",
   "metadata": {
    "slideshow": {
     "slide_type": "subslide"
    }
   },
   "source": [
    "### Grabing similar users\n",
    "Let's set the network size to 10, and then grab those users :)"
   ]
  },
  {
   "cell_type": "code",
   "execution_count": 42,
   "metadata": {
    "slideshow": {
     "slide_type": "subslide"
    }
   },
   "outputs": [
    {
     "data": {
      "text/html": [
       "<div>\n",
       "<style scoped>\n",
       "    .dataframe tbody tr th:only-of-type {\n",
       "        vertical-align: middle;\n",
       "    }\n",
       "\n",
       "    .dataframe tbody tr th {\n",
       "        vertical-align: top;\n",
       "    }\n",
       "\n",
       "    .dataframe thead th {\n",
       "        text-align: right;\n",
       "    }\n",
       "</style>\n",
       "<table border=\"1\" class=\"dataframe\">\n",
       "  <thead>\n",
       "    <tr style=\"text-align: right;\">\n",
       "      <th>movieId</th>\n",
       "      <th>1</th>\n",
       "      <th>2</th>\n",
       "      <th>3</th>\n",
       "      <th>4</th>\n",
       "      <th>5</th>\n",
       "      <th>6</th>\n",
       "      <th>7</th>\n",
       "      <th>8</th>\n",
       "      <th>9</th>\n",
       "      <th>10</th>\n",
       "      <th>...</th>\n",
       "      <th>193565</th>\n",
       "      <th>193567</th>\n",
       "      <th>193571</th>\n",
       "      <th>193573</th>\n",
       "      <th>193579</th>\n",
       "      <th>193581</th>\n",
       "      <th>193583</th>\n",
       "      <th>193585</th>\n",
       "      <th>193587</th>\n",
       "      <th>193609</th>\n",
       "    </tr>\n",
       "    <tr>\n",
       "      <th>userId</th>\n",
       "      <th></th>\n",
       "      <th></th>\n",
       "      <th></th>\n",
       "      <th></th>\n",
       "      <th></th>\n",
       "      <th></th>\n",
       "      <th></th>\n",
       "      <th></th>\n",
       "      <th></th>\n",
       "      <th></th>\n",
       "      <th></th>\n",
       "      <th></th>\n",
       "      <th></th>\n",
       "      <th></th>\n",
       "      <th></th>\n",
       "      <th></th>\n",
       "      <th></th>\n",
       "      <th></th>\n",
       "      <th></th>\n",
       "      <th></th>\n",
       "      <th></th>\n",
       "    </tr>\n",
       "  </thead>\n",
       "  <tbody>\n",
       "    <tr>\n",
       "      <th>301</th>\n",
       "      <td>0.000000</td>\n",
       "      <td>0.000000</td>\n",
       "      <td>0.000000</td>\n",
       "      <td>0.0</td>\n",
       "      <td>0.000000</td>\n",
       "      <td>0.000000</td>\n",
       "      <td>0.000000</td>\n",
       "      <td>0.000000</td>\n",
       "      <td>0.0</td>\n",
       "      <td>0.679825</td>\n",
       "      <td>...</td>\n",
       "      <td>0.0</td>\n",
       "      <td>0.0</td>\n",
       "      <td>0.0</td>\n",
       "      <td>0.0</td>\n",
       "      <td>0.0</td>\n",
       "      <td>0.0</td>\n",
       "      <td>0.0</td>\n",
       "      <td>0.0</td>\n",
       "      <td>0.0</td>\n",
       "      <td>0.0</td>\n",
       "    </tr>\n",
       "    <tr>\n",
       "      <th>597</th>\n",
       "      <td>0.022573</td>\n",
       "      <td>0.000000</td>\n",
       "      <td>0.000000</td>\n",
       "      <td>0.0</td>\n",
       "      <td>0.000000</td>\n",
       "      <td>-0.977427</td>\n",
       "      <td>-2.977427</td>\n",
       "      <td>0.000000</td>\n",
       "      <td>0.0</td>\n",
       "      <td>-0.977427</td>\n",
       "      <td>...</td>\n",
       "      <td>0.0</td>\n",
       "      <td>0.0</td>\n",
       "      <td>0.0</td>\n",
       "      <td>0.0</td>\n",
       "      <td>0.0</td>\n",
       "      <td>0.0</td>\n",
       "      <td>0.0</td>\n",
       "      <td>0.0</td>\n",
       "      <td>0.0</td>\n",
       "      <td>0.0</td>\n",
       "    </tr>\n",
       "    <tr>\n",
       "      <th>414</th>\n",
       "      <td>0.608043</td>\n",
       "      <td>-0.391957</td>\n",
       "      <td>0.608043</td>\n",
       "      <td>0.0</td>\n",
       "      <td>-1.391957</td>\n",
       "      <td>-0.391957</td>\n",
       "      <td>-0.391957</td>\n",
       "      <td>-0.391957</td>\n",
       "      <td>0.0</td>\n",
       "      <td>-0.391957</td>\n",
       "      <td>...</td>\n",
       "      <td>0.0</td>\n",
       "      <td>0.0</td>\n",
       "      <td>0.0</td>\n",
       "      <td>0.0</td>\n",
       "      <td>0.0</td>\n",
       "      <td>0.0</td>\n",
       "      <td>0.0</td>\n",
       "      <td>0.0</td>\n",
       "      <td>0.0</td>\n",
       "      <td>0.0</td>\n",
       "    </tr>\n",
       "    <tr>\n",
       "      <th>477</th>\n",
       "      <td>0.263333</td>\n",
       "      <td>0.263333</td>\n",
       "      <td>-0.736667</td>\n",
       "      <td>0.0</td>\n",
       "      <td>0.000000</td>\n",
       "      <td>0.000000</td>\n",
       "      <td>0.000000</td>\n",
       "      <td>0.000000</td>\n",
       "      <td>0.0</td>\n",
       "      <td>0.000000</td>\n",
       "      <td>...</td>\n",
       "      <td>0.0</td>\n",
       "      <td>0.0</td>\n",
       "      <td>0.0</td>\n",
       "      <td>0.0</td>\n",
       "      <td>0.0</td>\n",
       "      <td>0.0</td>\n",
       "      <td>0.0</td>\n",
       "      <td>0.0</td>\n",
       "      <td>0.0</td>\n",
       "      <td>0.0</td>\n",
       "    </tr>\n",
       "    <tr>\n",
       "      <th>57</th>\n",
       "      <td>1.607143</td>\n",
       "      <td>0.000000</td>\n",
       "      <td>0.000000</td>\n",
       "      <td>0.0</td>\n",
       "      <td>0.000000</td>\n",
       "      <td>-0.392857</td>\n",
       "      <td>0.000000</td>\n",
       "      <td>0.000000</td>\n",
       "      <td>0.0</td>\n",
       "      <td>-0.392857</td>\n",
       "      <td>...</td>\n",
       "      <td>0.0</td>\n",
       "      <td>0.0</td>\n",
       "      <td>0.0</td>\n",
       "      <td>0.0</td>\n",
       "      <td>0.0</td>\n",
       "      <td>0.0</td>\n",
       "      <td>0.0</td>\n",
       "      <td>0.0</td>\n",
       "      <td>0.0</td>\n",
       "      <td>0.0</td>\n",
       "    </tr>\n",
       "    <tr>\n",
       "      <th>369</th>\n",
       "      <td>0.000000</td>\n",
       "      <td>0.000000</td>\n",
       "      <td>0.000000</td>\n",
       "      <td>0.0</td>\n",
       "      <td>0.000000</td>\n",
       "      <td>0.000000</td>\n",
       "      <td>0.000000</td>\n",
       "      <td>0.000000</td>\n",
       "      <td>0.0</td>\n",
       "      <td>0.000000</td>\n",
       "      <td>...</td>\n",
       "      <td>0.0</td>\n",
       "      <td>0.0</td>\n",
       "      <td>0.0</td>\n",
       "      <td>0.0</td>\n",
       "      <td>0.0</td>\n",
       "      <td>0.0</td>\n",
       "      <td>0.0</td>\n",
       "      <td>0.0</td>\n",
       "      <td>0.0</td>\n",
       "      <td>0.0</td>\n",
       "    </tr>\n",
       "    <tr>\n",
       "      <th>206</th>\n",
       "      <td>0.960000</td>\n",
       "      <td>0.000000</td>\n",
       "      <td>0.000000</td>\n",
       "      <td>0.0</td>\n",
       "      <td>0.000000</td>\n",
       "      <td>0.000000</td>\n",
       "      <td>-0.040000</td>\n",
       "      <td>0.000000</td>\n",
       "      <td>0.0</td>\n",
       "      <td>0.000000</td>\n",
       "      <td>...</td>\n",
       "      <td>0.0</td>\n",
       "      <td>0.0</td>\n",
       "      <td>0.0</td>\n",
       "      <td>0.0</td>\n",
       "      <td>0.0</td>\n",
       "      <td>0.0</td>\n",
       "      <td>0.0</td>\n",
       "      <td>0.0</td>\n",
       "      <td>0.0</td>\n",
       "      <td>0.0</td>\n",
       "    </tr>\n",
       "    <tr>\n",
       "      <th>535</th>\n",
       "      <td>0.000000</td>\n",
       "      <td>0.000000</td>\n",
       "      <td>0.000000</td>\n",
       "      <td>0.0</td>\n",
       "      <td>0.000000</td>\n",
       "      <td>0.000000</td>\n",
       "      <td>0.000000</td>\n",
       "      <td>0.000000</td>\n",
       "      <td>0.0</td>\n",
       "      <td>0.000000</td>\n",
       "      <td>...</td>\n",
       "      <td>0.0</td>\n",
       "      <td>0.0</td>\n",
       "      <td>0.0</td>\n",
       "      <td>0.0</td>\n",
       "      <td>0.0</td>\n",
       "      <td>0.0</td>\n",
       "      <td>0.0</td>\n",
       "      <td>0.0</td>\n",
       "      <td>0.0</td>\n",
       "      <td>0.0</td>\n",
       "    </tr>\n",
       "    <tr>\n",
       "      <th>590</th>\n",
       "      <td>0.644231</td>\n",
       "      <td>-0.855769</td>\n",
       "      <td>-0.355769</td>\n",
       "      <td>0.0</td>\n",
       "      <td>-1.355769</td>\n",
       "      <td>0.144231</td>\n",
       "      <td>0.000000</td>\n",
       "      <td>0.000000</td>\n",
       "      <td>0.0</td>\n",
       "      <td>0.144231</td>\n",
       "      <td>...</td>\n",
       "      <td>0.0</td>\n",
       "      <td>0.0</td>\n",
       "      <td>0.0</td>\n",
       "      <td>0.0</td>\n",
       "      <td>0.0</td>\n",
       "      <td>0.0</td>\n",
       "      <td>0.0</td>\n",
       "      <td>0.0</td>\n",
       "      <td>0.0</td>\n",
       "      <td>0.0</td>\n",
       "    </tr>\n",
       "    <tr>\n",
       "      <th>418</th>\n",
       "      <td>0.000000</td>\n",
       "      <td>0.000000</td>\n",
       "      <td>0.000000</td>\n",
       "      <td>0.0</td>\n",
       "      <td>0.000000</td>\n",
       "      <td>0.000000</td>\n",
       "      <td>0.000000</td>\n",
       "      <td>0.000000</td>\n",
       "      <td>0.0</td>\n",
       "      <td>0.000000</td>\n",
       "      <td>...</td>\n",
       "      <td>0.0</td>\n",
       "      <td>0.0</td>\n",
       "      <td>0.0</td>\n",
       "      <td>0.0</td>\n",
       "      <td>0.0</td>\n",
       "      <td>0.0</td>\n",
       "      <td>0.0</td>\n",
       "      <td>0.0</td>\n",
       "      <td>0.0</td>\n",
       "      <td>0.0</td>\n",
       "    </tr>\n",
       "  </tbody>\n",
       "</table>\n",
       "<p>10 rows × 9724 columns</p>\n",
       "</div>"
      ],
      "text/plain": [
       "movieId    1         2         3       4         5         6         7       \\\n",
       "userId                                                                        \n",
       "301      0.000000  0.000000  0.000000     0.0  0.000000  0.000000  0.000000   \n",
       "597      0.022573  0.000000  0.000000     0.0  0.000000 -0.977427 -2.977427   \n",
       "414      0.608043 -0.391957  0.608043     0.0 -1.391957 -0.391957 -0.391957   \n",
       "477      0.263333  0.263333 -0.736667     0.0  0.000000  0.000000  0.000000   \n",
       "57       1.607143  0.000000  0.000000     0.0  0.000000 -0.392857  0.000000   \n",
       "369      0.000000  0.000000  0.000000     0.0  0.000000  0.000000  0.000000   \n",
       "206      0.960000  0.000000  0.000000     0.0  0.000000  0.000000 -0.040000   \n",
       "535      0.000000  0.000000  0.000000     0.0  0.000000  0.000000  0.000000   \n",
       "590      0.644231 -0.855769 -0.355769     0.0 -1.355769  0.144231  0.000000   \n",
       "418      0.000000  0.000000  0.000000     0.0  0.000000  0.000000  0.000000   \n",
       "\n",
       "movieId    8       9         10      ...  193565  193567  193571  193573  \\\n",
       "userId                               ...                                   \n",
       "301      0.000000     0.0  0.679825  ...     0.0     0.0     0.0     0.0   \n",
       "597      0.000000     0.0 -0.977427  ...     0.0     0.0     0.0     0.0   \n",
       "414     -0.391957     0.0 -0.391957  ...     0.0     0.0     0.0     0.0   \n",
       "477      0.000000     0.0  0.000000  ...     0.0     0.0     0.0     0.0   \n",
       "57       0.000000     0.0 -0.392857  ...     0.0     0.0     0.0     0.0   \n",
       "369      0.000000     0.0  0.000000  ...     0.0     0.0     0.0     0.0   \n",
       "206      0.000000     0.0  0.000000  ...     0.0     0.0     0.0     0.0   \n",
       "535      0.000000     0.0  0.000000  ...     0.0     0.0     0.0     0.0   \n",
       "590      0.000000     0.0  0.144231  ...     0.0     0.0     0.0     0.0   \n",
       "418      0.000000     0.0  0.000000  ...     0.0     0.0     0.0     0.0   \n",
       "\n",
       "movieId  193579  193581  193583  193585  193587  193609  \n",
       "userId                                                   \n",
       "301         0.0     0.0     0.0     0.0     0.0     0.0  \n",
       "597         0.0     0.0     0.0     0.0     0.0     0.0  \n",
       "414         0.0     0.0     0.0     0.0     0.0     0.0  \n",
       "477         0.0     0.0     0.0     0.0     0.0     0.0  \n",
       "57          0.0     0.0     0.0     0.0     0.0     0.0  \n",
       "369         0.0     0.0     0.0     0.0     0.0     0.0  \n",
       "206         0.0     0.0     0.0     0.0     0.0     0.0  \n",
       "535         0.0     0.0     0.0     0.0     0.0     0.0  \n",
       "590         0.0     0.0     0.0     0.0     0.0     0.0  \n",
       "418         0.0     0.0     0.0     0.0     0.0     0.0  \n",
       "\n",
       "[10 rows x 9724 columns]"
      ]
     },
     "execution_count": 42,
     "metadata": {},
     "output_type": "execute_result"
    }
   ],
   "source": [
    "N=10\n",
    "userIds = sorted_sims.dropna().iloc[:N].index\n",
    "ratings_df.loc[userIds]"
   ]
  },
  {
   "cell_type": "markdown",
   "metadata": {
    "slideshow": {
     "slide_type": "subslide"
    }
   },
   "source": [
    "**Stop and think:** How do we make a prediction?\n",
    "\n",
    "Your solution here"
   ]
  },
  {
   "cell_type": "code",
   "execution_count": 46,
   "metadata": {
    "slideshow": {
     "slide_type": "subslide"
    }
   },
   "outputs": [
    {
     "data": {
      "text/plain": [
       "Int64Index([   1,    3,    6,   47,   50,   70,  101,  110,  151,  157,\n",
       "            ...\n",
       "            3671, 3702, 3703, 3729, 3740, 3744, 3793, 3809, 4006, 5060],\n",
       "           dtype='int64', name='movieId', length=232)"
      ]
     },
     "execution_count": 46,
     "metadata": {},
     "output_type": "execute_result"
    }
   ],
   "source": [
    "movies_not_seen = x.loc[x != 0].index\n",
    "movies_not_seen"
   ]
  },
  {
   "cell_type": "code",
   "execution_count": 48,
   "metadata": {
    "slideshow": {
     "slide_type": "fragment"
    }
   },
   "outputs": [
    {
     "data": {
      "text/plain": [
       "movieId\n",
       "2858    0.765848\n",
       "50      0.742203\n",
       "356     0.718536\n",
       "457     0.682515\n",
       "1196    0.675385\n",
       "          ...   \n",
       "1552   -0.625779\n",
       "736    -0.673743\n",
       "673    -0.737725\n",
       "733    -0.771485\n",
       "2617   -1.250388\n",
       "Length: 232, dtype: float64"
      ]
     },
     "execution_count": 48,
     "metadata": {},
     "output_type": "execute_result"
    }
   ],
   "source": [
    "average_ratings = db.loc[userIds].mean().loc[movies_not_seen].sort_values(ascending=False)\n",
    "average_ratings"
   ]
  },
  {
   "cell_type": "code",
   "execution_count": 54,
   "metadata": {},
   "outputs": [
    {
     "data": {
      "text/html": [
       "<div>\n",
       "<style scoped>\n",
       "    .dataframe tbody tr th:only-of-type {\n",
       "        vertical-align: middle;\n",
       "    }\n",
       "\n",
       "    .dataframe tbody tr th {\n",
       "        vertical-align: top;\n",
       "    }\n",
       "\n",
       "    .dataframe thead th {\n",
       "        text-align: right;\n",
       "    }\n",
       "</style>\n",
       "<table border=\"1\" class=\"dataframe\">\n",
       "  <thead>\n",
       "    <tr style=\"text-align: right;\">\n",
       "      <th></th>\n",
       "      <th>title</th>\n",
       "    </tr>\n",
       "    <tr>\n",
       "      <th>movieId</th>\n",
       "      <th></th>\n",
       "    </tr>\n",
       "  </thead>\n",
       "  <tbody>\n",
       "    <tr>\n",
       "      <th>2858</th>\n",
       "      <td>American Beauty (1999)</td>\n",
       "    </tr>\n",
       "    <tr>\n",
       "      <th>50</th>\n",
       "      <td>Usual Suspects, The (1995)</td>\n",
       "    </tr>\n",
       "    <tr>\n",
       "      <th>356</th>\n",
       "      <td>Forrest Gump (1994)</td>\n",
       "    </tr>\n",
       "    <tr>\n",
       "      <th>457</th>\n",
       "      <td>Fugitive, The (1993)</td>\n",
       "    </tr>\n",
       "    <tr>\n",
       "      <th>1196</th>\n",
       "      <td>Star Wars: Episode V - The Empire Strikes Back...</td>\n",
       "    </tr>\n",
       "    <tr>\n",
       "      <th>...</th>\n",
       "      <td>...</td>\n",
       "    </tr>\n",
       "    <tr>\n",
       "      <th>1552</th>\n",
       "      <td>Con Air (1997)</td>\n",
       "    </tr>\n",
       "    <tr>\n",
       "      <th>736</th>\n",
       "      <td>Twister (1996)</td>\n",
       "    </tr>\n",
       "    <tr>\n",
       "      <th>673</th>\n",
       "      <td>Space Jam (1996)</td>\n",
       "    </tr>\n",
       "    <tr>\n",
       "      <th>733</th>\n",
       "      <td>Rock, The (1996)</td>\n",
       "    </tr>\n",
       "    <tr>\n",
       "      <th>2617</th>\n",
       "      <td>Mummy, The (1999)</td>\n",
       "    </tr>\n",
       "  </tbody>\n",
       "</table>\n",
       "<p>232 rows × 1 columns</p>\n",
       "</div>"
      ],
      "text/plain": [
       "                                                     title\n",
       "movieId                                                   \n",
       "2858                                American Beauty (1999)\n",
       "50                              Usual Suspects, The (1995)\n",
       "356                                    Forrest Gump (1994)\n",
       "457                                   Fugitive, The (1993)\n",
       "1196     Star Wars: Episode V - The Empire Strikes Back...\n",
       "...                                                    ...\n",
       "1552                                        Con Air (1997)\n",
       "736                                         Twister (1996)\n",
       "673                                       Space Jam (1996)\n",
       "733                                       Rock, The (1996)\n",
       "2617                                     Mummy, The (1999)\n",
       "\n",
       "[232 rows x 1 columns]"
      ]
     },
     "execution_count": 54,
     "metadata": {},
     "output_type": "execute_result"
    }
   ],
   "source": [
    "data[['movieId','title']].drop_duplicates().set_index('movieId').loc[average_ratings.index]"
   ]
  },
  {
   "cell_type": "markdown",
   "metadata": {
    "slideshow": {
     "slide_type": "subslide"
    }
   },
   "source": [
    "### What if we want to weight by the distance?\n",
    "\n",
    "In other words, if a user is closer to our query user, then they should count more."
   ]
  },
  {
   "cell_type": "code",
   "execution_count": 56,
   "metadata": {
    "slideshow": {
     "slide_type": "fragment"
    }
   },
   "outputs": [
    {
     "data": {
      "text/plain": [
       "movieId\n",
       "2858    0.852397\n",
       "457     0.764475\n",
       "356     0.760230\n",
       "50      0.747680\n",
       "260     0.733189\n",
       "          ...   \n",
       "736    -0.790624\n",
       "673    -0.802204\n",
       "733    -0.924220\n",
       "355    -1.017260\n",
       "2617   -1.094406\n",
       "Length: 9724, dtype: float64"
      ]
     },
     "execution_count": 56,
     "metadata": {},
     "output_type": "execute_result"
    }
   ],
   "source": [
    "average_ratings_weighted = (db.loc[userIds].multiply(sorted_sims.iloc[:N],axis=0).sum()/sorted_sims.iloc[:N].sum()).sort_values(ascending=False)\n",
    "average_ratings_weighted"
   ]
  },
  {
   "cell_type": "code",
   "execution_count": 57,
   "metadata": {
    "slideshow": {
     "slide_type": "subslide"
    }
   },
   "outputs": [
    {
     "data": {
      "text/html": [
       "<div>\n",
       "<style scoped>\n",
       "    .dataframe tbody tr th:only-of-type {\n",
       "        vertical-align: middle;\n",
       "    }\n",
       "\n",
       "    .dataframe tbody tr th {\n",
       "        vertical-align: top;\n",
       "    }\n",
       "\n",
       "    .dataframe thead th {\n",
       "        text-align: right;\n",
       "    }\n",
       "</style>\n",
       "<table border=\"1\" class=\"dataframe\">\n",
       "  <thead>\n",
       "    <tr style=\"text-align: right;\">\n",
       "      <th></th>\n",
       "      <th>title</th>\n",
       "    </tr>\n",
       "    <tr>\n",
       "      <th>movieId</th>\n",
       "      <th></th>\n",
       "    </tr>\n",
       "  </thead>\n",
       "  <tbody>\n",
       "    <tr>\n",
       "      <th>2858</th>\n",
       "      <td>American Beauty (1999)</td>\n",
       "    </tr>\n",
       "    <tr>\n",
       "      <th>457</th>\n",
       "      <td>Fugitive, The (1993)</td>\n",
       "    </tr>\n",
       "    <tr>\n",
       "      <th>356</th>\n",
       "      <td>Forrest Gump (1994)</td>\n",
       "    </tr>\n",
       "    <tr>\n",
       "      <th>50</th>\n",
       "      <td>Usual Suspects, The (1995)</td>\n",
       "    </tr>\n",
       "    <tr>\n",
       "      <th>260</th>\n",
       "      <td>Star Wars: Episode IV - A New Hope (1977)</td>\n",
       "    </tr>\n",
       "    <tr>\n",
       "      <th>...</th>\n",
       "      <td>...</td>\n",
       "    </tr>\n",
       "    <tr>\n",
       "      <th>736</th>\n",
       "      <td>Twister (1996)</td>\n",
       "    </tr>\n",
       "    <tr>\n",
       "      <th>673</th>\n",
       "      <td>Space Jam (1996)</td>\n",
       "    </tr>\n",
       "    <tr>\n",
       "      <th>733</th>\n",
       "      <td>Rock, The (1996)</td>\n",
       "    </tr>\n",
       "    <tr>\n",
       "      <th>355</th>\n",
       "      <td>Flintstones, The (1994)</td>\n",
       "    </tr>\n",
       "    <tr>\n",
       "      <th>2617</th>\n",
       "      <td>Mummy, The (1999)</td>\n",
       "    </tr>\n",
       "  </tbody>\n",
       "</table>\n",
       "<p>9724 rows × 1 columns</p>\n",
       "</div>"
      ],
      "text/plain": [
       "                                             title\n",
       "movieId                                           \n",
       "2858                        American Beauty (1999)\n",
       "457                           Fugitive, The (1993)\n",
       "356                            Forrest Gump (1994)\n",
       "50                      Usual Suspects, The (1995)\n",
       "260      Star Wars: Episode IV - A New Hope (1977)\n",
       "...                                            ...\n",
       "736                                 Twister (1996)\n",
       "673                               Space Jam (1996)\n",
       "733                               Rock, The (1996)\n",
       "355                        Flintstones, The (1994)\n",
       "2617                             Mummy, The (1999)\n",
       "\n",
       "[9724 rows x 1 columns]"
      ]
     },
     "execution_count": 57,
     "metadata": {},
     "output_type": "execute_result"
    }
   ],
   "source": [
    "data[['movieId','title']].drop_duplicates().set_index('movieId').loc[average_ratings_weighted.index]"
   ]
  },
  {
   "cell_type": "markdown",
   "metadata": {
    "slideshow": {
     "slide_type": "subslide"
    }
   },
   "source": [
    "## User-user small dataset example"
   ]
  },
  {
   "cell_type": "code",
   "execution_count": 29,
   "metadata": {},
   "outputs": [],
   "source": [
    "data2 = data.copy()\n",
    "data = data['rating']"
   ]
  },
  {
   "cell_type": "code",
   "execution_count": 58,
   "metadata": {
    "slideshow": {
     "slide_type": "fragment"
    }
   },
   "outputs": [
    {
     "data": {
      "text/plain": [
       "Int64Index([318, 356, 296, 593, 2571, 260, 2959, 527, 110, 50], dtype='int64', name='movieId')"
      ]
     },
     "execution_count": 58,
     "metadata": {},
     "output_type": "execute_result"
    }
   ],
   "source": [
    "# grab some movies that were watched a lot\n",
    "r=(ratings_df > 0).sum()\n",
    "our_movies = r.sort_values(ascending=False).iloc[:10].index\n",
    "our_movies"
   ]
  },
  {
   "cell_type": "code",
   "execution_count": 59,
   "metadata": {
    "slideshow": {
     "slide_type": "subslide"
    }
   },
   "outputs": [],
   "source": [
    "our_data = ratings_df[our_movies] # grab only those movies"
   ]
  },
  {
   "cell_type": "code",
   "execution_count": 60,
   "metadata": {
    "slideshow": {
     "slide_type": "subslide"
    }
   },
   "outputs": [],
   "source": [
    "# Now grab just the users\n",
    "our_users = (our_data>0).sum(axis=1).sort_values(ascending=False).iloc[:10].index"
   ]
  },
  {
   "cell_type": "code",
   "execution_count": 130,
   "metadata": {
    "slideshow": {
     "slide_type": "subslide"
    }
   },
   "outputs": [
    {
     "data": {
      "text/html": [
       "<div>\n",
       "<style scoped>\n",
       "    .dataframe tbody tr th:only-of-type {\n",
       "        vertical-align: middle;\n",
       "    }\n",
       "\n",
       "    .dataframe tbody tr th {\n",
       "        vertical-align: top;\n",
       "    }\n",
       "\n",
       "    .dataframe thead th {\n",
       "        text-align: right;\n",
       "    }\n",
       "</style>\n",
       "<table border=\"1\" class=\"dataframe\">\n",
       "  <thead>\n",
       "    <tr style=\"text-align: right;\">\n",
       "      <th>movieId</th>\n",
       "      <th>318</th>\n",
       "      <th>356</th>\n",
       "      <th>296</th>\n",
       "      <th>593</th>\n",
       "      <th>2571</th>\n",
       "      <th>260</th>\n",
       "      <th>2959</th>\n",
       "      <th>527</th>\n",
       "      <th>110</th>\n",
       "      <th>50</th>\n",
       "    </tr>\n",
       "    <tr>\n",
       "      <th>userId</th>\n",
       "      <th></th>\n",
       "      <th></th>\n",
       "      <th></th>\n",
       "      <th></th>\n",
       "      <th></th>\n",
       "      <th></th>\n",
       "      <th></th>\n",
       "      <th></th>\n",
       "      <th></th>\n",
       "      <th></th>\n",
       "    </tr>\n",
       "  </thead>\n",
       "  <tbody>\n",
       "    <tr>\n",
       "      <th>307</th>\n",
       "      <td>1.834359</td>\n",
       "      <td>1.334359</td>\n",
       "      <td>1.834359</td>\n",
       "      <td>1.834359</td>\n",
       "      <td>0.834359</td>\n",
       "      <td>0.834359</td>\n",
       "      <td>1.334359</td>\n",
       "      <td>1.834359</td>\n",
       "      <td>0.834359</td>\n",
       "      <td>1.834359</td>\n",
       "    </tr>\n",
       "    <tr>\n",
       "      <th>590</th>\n",
       "      <td>1.144231</td>\n",
       "      <td>1.644231</td>\n",
       "      <td>1.144231</td>\n",
       "      <td>0.144231</td>\n",
       "      <td>0.644231</td>\n",
       "      <td>1.644231</td>\n",
       "      <td>0.144231</td>\n",
       "      <td>1.644231</td>\n",
       "      <td>0.644231</td>\n",
       "      <td>1.144231</td>\n",
       "    </tr>\n",
       "    <tr>\n",
       "      <th>18</th>\n",
       "      <td>1.267928</td>\n",
       "      <td>0.767928</td>\n",
       "      <td>0.267928</td>\n",
       "      <td>0.767928</td>\n",
       "      <td>0.767928</td>\n",
       "      <td>0.267928</td>\n",
       "      <td>0.767928</td>\n",
       "      <td>0.767928</td>\n",
       "      <td>0.767928</td>\n",
       "      <td>1.267928</td>\n",
       "    </tr>\n",
       "    <tr>\n",
       "      <th>17</th>\n",
       "      <td>0.790476</td>\n",
       "      <td>0.790476</td>\n",
       "      <td>0.790476</td>\n",
       "      <td>0.290476</td>\n",
       "      <td>0.790476</td>\n",
       "      <td>0.790476</td>\n",
       "      <td>0.290476</td>\n",
       "      <td>0.290476</td>\n",
       "      <td>0.290476</td>\n",
       "      <td>0.290476</td>\n",
       "    </tr>\n",
       "    <tr>\n",
       "      <th>249</th>\n",
       "      <td>0.803537</td>\n",
       "      <td>0.803537</td>\n",
       "      <td>0.303537</td>\n",
       "      <td>0.303537</td>\n",
       "      <td>1.303537</td>\n",
       "      <td>1.303537</td>\n",
       "      <td>1.303537</td>\n",
       "      <td>0.803537</td>\n",
       "      <td>1.303537</td>\n",
       "      <td>0.303537</td>\n",
       "    </tr>\n",
       "    <tr>\n",
       "      <th>254</th>\n",
       "      <td>0.519685</td>\n",
       "      <td>1.019685</td>\n",
       "      <td>1.019685</td>\n",
       "      <td>0.019685</td>\n",
       "      <td>1.019685</td>\n",
       "      <td>0.019685</td>\n",
       "      <td>1.019685</td>\n",
       "      <td>1.019685</td>\n",
       "      <td>0.019685</td>\n",
       "      <td>0.519685</td>\n",
       "    </tr>\n",
       "    <tr>\n",
       "      <th>561</th>\n",
       "      <td>1.627723</td>\n",
       "      <td>0.627723</td>\n",
       "      <td>1.127723</td>\n",
       "      <td>0.627723</td>\n",
       "      <td>0.627723</td>\n",
       "      <td>1.127723</td>\n",
       "      <td>0.627723</td>\n",
       "      <td>0.627723</td>\n",
       "      <td>1.627723</td>\n",
       "      <td>1.127723</td>\n",
       "    </tr>\n",
       "    <tr>\n",
       "      <th>480</th>\n",
       "      <td>1.724880</td>\n",
       "      <td>1.724880</td>\n",
       "      <td>0.724880</td>\n",
       "      <td>1.224880</td>\n",
       "      <td>1.724880</td>\n",
       "      <td>1.224880</td>\n",
       "      <td>1.224880</td>\n",
       "      <td>1.724880</td>\n",
       "      <td>1.724880</td>\n",
       "      <td>0.224880</td>\n",
       "    </tr>\n",
       "    <tr>\n",
       "      <th>414</th>\n",
       "      <td>1.608043</td>\n",
       "      <td>1.608043</td>\n",
       "      <td>1.608043</td>\n",
       "      <td>0.608043</td>\n",
       "      <td>1.608043</td>\n",
       "      <td>1.608043</td>\n",
       "      <td>1.608043</td>\n",
       "      <td>0.608043</td>\n",
       "      <td>1.608043</td>\n",
       "      <td>1.608043</td>\n",
       "    </tr>\n",
       "    <tr>\n",
       "      <th>352</th>\n",
       "      <td>1.219388</td>\n",
       "      <td>1.219388</td>\n",
       "      <td>1.219388</td>\n",
       "      <td>0.219388</td>\n",
       "      <td>0.719388</td>\n",
       "      <td>0.219388</td>\n",
       "      <td>1.219388</td>\n",
       "      <td>1.219388</td>\n",
       "      <td>0.000000</td>\n",
       "      <td>1.219388</td>\n",
       "    </tr>\n",
       "  </tbody>\n",
       "</table>\n",
       "</div>"
      ],
      "text/plain": [
       "movieId      318       356       296       593       2571      260       2959  \\\n",
       "userId                                                                          \n",
       "307      1.834359  1.334359  1.834359  1.834359  0.834359  0.834359  1.334359   \n",
       "590      1.144231  1.644231  1.144231  0.144231  0.644231  1.644231  0.144231   \n",
       "18       1.267928  0.767928  0.267928  0.767928  0.767928  0.267928  0.767928   \n",
       "17       0.790476  0.790476  0.790476  0.290476  0.790476  0.790476  0.290476   \n",
       "249      0.803537  0.803537  0.303537  0.303537  1.303537  1.303537  1.303537   \n",
       "254      0.519685  1.019685  1.019685  0.019685  1.019685  0.019685  1.019685   \n",
       "561      1.627723  0.627723  1.127723  0.627723  0.627723  1.127723  0.627723   \n",
       "480      1.724880  1.724880  0.724880  1.224880  1.724880  1.224880  1.224880   \n",
       "414      1.608043  1.608043  1.608043  0.608043  1.608043  1.608043  1.608043   \n",
       "352      1.219388  1.219388  1.219388  0.219388  0.719388  0.219388  1.219388   \n",
       "\n",
       "movieId      527       110       50    \n",
       "userId                                 \n",
       "307      1.834359  0.834359  1.834359  \n",
       "590      1.644231  0.644231  1.144231  \n",
       "18       0.767928  0.767928  1.267928  \n",
       "17       0.290476  0.290476  0.290476  \n",
       "249      0.803537  1.303537  0.303537  \n",
       "254      1.019685  0.019685  0.519685  \n",
       "561      0.627723  1.627723  1.127723  \n",
       "480      1.724880  1.724880  0.224880  \n",
       "414      0.608043  1.608043  1.608043  \n",
       "352      1.219388  0.000000  1.219388  "
      ]
     },
     "execution_count": 130,
     "metadata": {},
     "output_type": "execute_result"
    }
   ],
   "source": [
    "train_data = our_data.loc[our_users]\n",
    "train_data"
   ]
  },
  {
   "cell_type": "markdown",
   "metadata": {
    "slideshow": {
     "slide_type": "subslide"
    }
   },
   "source": [
    "It doesn't serve our purpose to have no missing values, so let's put some back in."
   ]
  },
  {
   "cell_type": "code",
   "execution_count": 131,
   "metadata": {
    "slideshow": {
     "slide_type": "fragment"
    }
   },
   "outputs": [],
   "source": [
    "test_data = train_data.copy()\n",
    "test_data.iloc[0,8] = np.NaN\n",
    "test_data.iloc[1,8] = np.NaN\n",
    "test_data.iloc[0,6] = np.NaN\n",
    "test_data.iloc[5,8] = np.NaN\n",
    "test_data.iloc[0,2] = np.NaN\n",
    "test_data.iloc[3,8] = np.NaN\n",
    "test_data.loc[352,593] = np.NaN\n",
    "test_data.loc[352,527] = np.NaN"
   ]
  },
  {
   "cell_type": "code",
   "execution_count": 132,
   "metadata": {
    "slideshow": {
     "slide_type": "subslide"
    }
   },
   "outputs": [
    {
     "data": {
      "text/html": [
       "<div>\n",
       "<style scoped>\n",
       "    .dataframe tbody tr th:only-of-type {\n",
       "        vertical-align: middle;\n",
       "    }\n",
       "\n",
       "    .dataframe tbody tr th {\n",
       "        vertical-align: top;\n",
       "    }\n",
       "\n",
       "    .dataframe thead th {\n",
       "        text-align: right;\n",
       "    }\n",
       "</style>\n",
       "<table border=\"1\" class=\"dataframe\">\n",
       "  <thead>\n",
       "    <tr style=\"text-align: right;\">\n",
       "      <th>movieId</th>\n",
       "      <th>318</th>\n",
       "      <th>356</th>\n",
       "      <th>296</th>\n",
       "      <th>593</th>\n",
       "      <th>2571</th>\n",
       "      <th>260</th>\n",
       "      <th>2959</th>\n",
       "      <th>527</th>\n",
       "      <th>110</th>\n",
       "      <th>50</th>\n",
       "    </tr>\n",
       "    <tr>\n",
       "      <th>userId</th>\n",
       "      <th></th>\n",
       "      <th></th>\n",
       "      <th></th>\n",
       "      <th></th>\n",
       "      <th></th>\n",
       "      <th></th>\n",
       "      <th></th>\n",
       "      <th></th>\n",
       "      <th></th>\n",
       "      <th></th>\n",
       "    </tr>\n",
       "  </thead>\n",
       "  <tbody>\n",
       "    <tr>\n",
       "      <th>307</th>\n",
       "      <td>1.834359</td>\n",
       "      <td>1.334359</td>\n",
       "      <td>NaN</td>\n",
       "      <td>1.834359</td>\n",
       "      <td>0.834359</td>\n",
       "      <td>0.834359</td>\n",
       "      <td>NaN</td>\n",
       "      <td>1.834359</td>\n",
       "      <td>NaN</td>\n",
       "      <td>1.834359</td>\n",
       "    </tr>\n",
       "    <tr>\n",
       "      <th>590</th>\n",
       "      <td>1.144231</td>\n",
       "      <td>1.644231</td>\n",
       "      <td>1.144231</td>\n",
       "      <td>0.144231</td>\n",
       "      <td>0.644231</td>\n",
       "      <td>1.644231</td>\n",
       "      <td>0.144231</td>\n",
       "      <td>1.644231</td>\n",
       "      <td>NaN</td>\n",
       "      <td>1.144231</td>\n",
       "    </tr>\n",
       "    <tr>\n",
       "      <th>18</th>\n",
       "      <td>1.267928</td>\n",
       "      <td>0.767928</td>\n",
       "      <td>0.267928</td>\n",
       "      <td>0.767928</td>\n",
       "      <td>0.767928</td>\n",
       "      <td>0.267928</td>\n",
       "      <td>0.767928</td>\n",
       "      <td>0.767928</td>\n",
       "      <td>0.767928</td>\n",
       "      <td>1.267928</td>\n",
       "    </tr>\n",
       "    <tr>\n",
       "      <th>17</th>\n",
       "      <td>0.790476</td>\n",
       "      <td>0.790476</td>\n",
       "      <td>0.790476</td>\n",
       "      <td>0.290476</td>\n",
       "      <td>0.790476</td>\n",
       "      <td>0.790476</td>\n",
       "      <td>0.290476</td>\n",
       "      <td>0.290476</td>\n",
       "      <td>NaN</td>\n",
       "      <td>0.290476</td>\n",
       "    </tr>\n",
       "    <tr>\n",
       "      <th>249</th>\n",
       "      <td>0.803537</td>\n",
       "      <td>0.803537</td>\n",
       "      <td>0.303537</td>\n",
       "      <td>0.303537</td>\n",
       "      <td>1.303537</td>\n",
       "      <td>1.303537</td>\n",
       "      <td>1.303537</td>\n",
       "      <td>0.803537</td>\n",
       "      <td>1.303537</td>\n",
       "      <td>0.303537</td>\n",
       "    </tr>\n",
       "    <tr>\n",
       "      <th>254</th>\n",
       "      <td>0.519685</td>\n",
       "      <td>1.019685</td>\n",
       "      <td>1.019685</td>\n",
       "      <td>0.019685</td>\n",
       "      <td>1.019685</td>\n",
       "      <td>0.019685</td>\n",
       "      <td>1.019685</td>\n",
       "      <td>1.019685</td>\n",
       "      <td>NaN</td>\n",
       "      <td>0.519685</td>\n",
       "    </tr>\n",
       "    <tr>\n",
       "      <th>561</th>\n",
       "      <td>1.627723</td>\n",
       "      <td>0.627723</td>\n",
       "      <td>1.127723</td>\n",
       "      <td>0.627723</td>\n",
       "      <td>0.627723</td>\n",
       "      <td>1.127723</td>\n",
       "      <td>0.627723</td>\n",
       "      <td>0.627723</td>\n",
       "      <td>1.627723</td>\n",
       "      <td>1.127723</td>\n",
       "    </tr>\n",
       "    <tr>\n",
       "      <th>480</th>\n",
       "      <td>1.724880</td>\n",
       "      <td>1.724880</td>\n",
       "      <td>0.724880</td>\n",
       "      <td>1.224880</td>\n",
       "      <td>1.724880</td>\n",
       "      <td>1.224880</td>\n",
       "      <td>1.224880</td>\n",
       "      <td>1.724880</td>\n",
       "      <td>1.724880</td>\n",
       "      <td>0.224880</td>\n",
       "    </tr>\n",
       "    <tr>\n",
       "      <th>414</th>\n",
       "      <td>1.608043</td>\n",
       "      <td>1.608043</td>\n",
       "      <td>1.608043</td>\n",
       "      <td>0.608043</td>\n",
       "      <td>1.608043</td>\n",
       "      <td>1.608043</td>\n",
       "      <td>1.608043</td>\n",
       "      <td>0.608043</td>\n",
       "      <td>1.608043</td>\n",
       "      <td>1.608043</td>\n",
       "    </tr>\n",
       "    <tr>\n",
       "      <th>352</th>\n",
       "      <td>1.219388</td>\n",
       "      <td>1.219388</td>\n",
       "      <td>1.219388</td>\n",
       "      <td>NaN</td>\n",
       "      <td>0.719388</td>\n",
       "      <td>0.219388</td>\n",
       "      <td>1.219388</td>\n",
       "      <td>NaN</td>\n",
       "      <td>0.000000</td>\n",
       "      <td>1.219388</td>\n",
       "    </tr>\n",
       "  </tbody>\n",
       "</table>\n",
       "</div>"
      ],
      "text/plain": [
       "movieId      318       356       296       593       2571      260       2959  \\\n",
       "userId                                                                          \n",
       "307      1.834359  1.334359       NaN  1.834359  0.834359  0.834359       NaN   \n",
       "590      1.144231  1.644231  1.144231  0.144231  0.644231  1.644231  0.144231   \n",
       "18       1.267928  0.767928  0.267928  0.767928  0.767928  0.267928  0.767928   \n",
       "17       0.790476  0.790476  0.790476  0.290476  0.790476  0.790476  0.290476   \n",
       "249      0.803537  0.803537  0.303537  0.303537  1.303537  1.303537  1.303537   \n",
       "254      0.519685  1.019685  1.019685  0.019685  1.019685  0.019685  1.019685   \n",
       "561      1.627723  0.627723  1.127723  0.627723  0.627723  1.127723  0.627723   \n",
       "480      1.724880  1.724880  0.724880  1.224880  1.724880  1.224880  1.224880   \n",
       "414      1.608043  1.608043  1.608043  0.608043  1.608043  1.608043  1.608043   \n",
       "352      1.219388  1.219388  1.219388       NaN  0.719388  0.219388  1.219388   \n",
       "\n",
       "movieId      527       110       50    \n",
       "userId                                 \n",
       "307      1.834359       NaN  1.834359  \n",
       "590      1.644231       NaN  1.144231  \n",
       "18       0.767928  0.767928  1.267928  \n",
       "17       0.290476       NaN  0.290476  \n",
       "249      0.803537  1.303537  0.303537  \n",
       "254      1.019685       NaN  0.519685  \n",
       "561      0.627723  1.627723  1.127723  \n",
       "480      1.724880  1.724880  0.224880  \n",
       "414      0.608043  1.608043  1.608043  \n",
       "352           NaN  0.000000  1.219388  "
      ]
     },
     "execution_count": 132,
     "metadata": {},
     "output_type": "execute_result"
    }
   ],
   "source": [
    "test_data"
   ]
  },
  {
   "cell_type": "code",
   "execution_count": 133,
   "metadata": {
    "slideshow": {
     "slide_type": "subslide"
    }
   },
   "outputs": [],
   "source": [
    "user_id = 307"
   ]
  },
  {
   "cell_type": "code",
   "execution_count": 134,
   "metadata": {
    "slideshow": {
     "slide_type": "subslide"
    }
   },
   "outputs": [
    {
     "data": {
      "text/plain": [
       "-1.5860328923216522e-16"
      ]
     },
     "execution_count": 134,
     "metadata": {},
     "output_type": "execute_result"
    }
   ],
   "source": [
    "test_data = (test_data.T-test_data.T.mean()).T # mean center everything\n",
    "test_data.loc[user_id].mean() # check the mean of user 610"
   ]
  },
  {
   "cell_type": "code",
   "execution_count": 135,
   "metadata": {},
   "outputs": [
    {
     "data": {
      "text/plain": [
       "movieId\n",
       "318     0.357143\n",
       "356    -0.142857\n",
       "296          NaN\n",
       "593     0.357143\n",
       "2571   -0.642857\n",
       "260    -0.642857\n",
       "2959         NaN\n",
       "527     0.357143\n",
       "110          NaN\n",
       "50      0.357143\n",
       "Name: 307, dtype: float64"
      ]
     },
     "execution_count": 135,
     "metadata": {},
     "output_type": "execute_result"
    }
   ],
   "source": [
    "x_raw = test_data.loc[user_id] # x_raw is a user\n",
    "x_raw"
   ]
  },
  {
   "cell_type": "code",
   "execution_count": 136,
   "metadata": {},
   "outputs": [],
   "source": [
    "data_raw = test_data.copy() # keep a copy of test_data that doesn't have any missing values\n",
    "test_data = test_data.fillna(0) # fill in missing values"
   ]
  },
  {
   "cell_type": "code",
   "execution_count": 137,
   "metadata": {},
   "outputs": [
    {
     "data": {
      "text/plain": [
       "movieId\n",
       "356    -0.142857\n",
       "318     0.357143\n",
       "260    -0.642857\n",
       "2571   -0.642857\n",
       "527     0.357143\n",
       "Name: 307, dtype: float64"
      ]
     },
     "metadata": {},
     "output_type": "display_data"
    },
    {
     "data": {
      "text/plain": [
       "movieId\n",
       "50     0.357143\n",
       "593    0.357143\n",
       "Name: 307, dtype: float64"
      ]
     },
     "metadata": {},
     "output_type": "display_data"
    }
   ],
   "source": [
    "# we need to split this up into training and test sets\n",
    "from sklearn.model_selection import train_test_split\n",
    "train_movies, test_movies = train_test_split(x_raw.dropna(),test_size=0.2,random_state=1)\n",
    "display(train_movies)\n",
    "display(test_movies)"
   ]
  },
  {
   "cell_type": "code",
   "execution_count": 138,
   "metadata": {},
   "outputs": [
    {
     "name": "stdout",
     "output_type": "stream",
     "text": [
      "Training movies\n"
     ]
    },
    {
     "data": {
      "text/plain": [
       "Int64Index([356, 318, 260, 2571, 527], dtype='int64', name='movieId')"
      ]
     },
     "metadata": {},
     "output_type": "display_data"
    },
    {
     "name": "stdout",
     "output_type": "stream",
     "text": [
      "Testing movies\n"
     ]
    },
    {
     "data": {
      "text/plain": [
       "Int64Index([50, 593], dtype='int64', name='movieId')"
      ]
     },
     "metadata": {},
     "output_type": "display_data"
    }
   ],
   "source": [
    "# but we just wanted the movies and not the ratings\n",
    "train_movies, test_movies = train_test_split(x_raw.dropna().index,test_size=0.2,random_state=1)\n",
    "print('Training movies')\n",
    "display(train_movies)\n",
    "print('Testing movies')\n",
    "display(test_movies)"
   ]
  },
  {
   "cell_type": "code",
   "execution_count": 139,
   "metadata": {},
   "outputs": [
    {
     "data": {
      "text/html": [
       "<div>\n",
       "<style scoped>\n",
       "    .dataframe tbody tr th:only-of-type {\n",
       "        vertical-align: middle;\n",
       "    }\n",
       "\n",
       "    .dataframe tbody tr th {\n",
       "        vertical-align: top;\n",
       "    }\n",
       "\n",
       "    .dataframe thead th {\n",
       "        text-align: right;\n",
       "    }\n",
       "</style>\n",
       "<table border=\"1\" class=\"dataframe\">\n",
       "  <thead>\n",
       "    <tr style=\"text-align: right;\">\n",
       "      <th>movieId</th>\n",
       "      <th>318</th>\n",
       "      <th>356</th>\n",
       "      <th>296</th>\n",
       "      <th>593</th>\n",
       "      <th>2571</th>\n",
       "      <th>260</th>\n",
       "      <th>2959</th>\n",
       "      <th>527</th>\n",
       "      <th>110</th>\n",
       "      <th>50</th>\n",
       "    </tr>\n",
       "    <tr>\n",
       "      <th>userId</th>\n",
       "      <th></th>\n",
       "      <th></th>\n",
       "      <th></th>\n",
       "      <th></th>\n",
       "      <th></th>\n",
       "      <th></th>\n",
       "      <th></th>\n",
       "      <th></th>\n",
       "      <th></th>\n",
       "      <th></th>\n",
       "    </tr>\n",
       "  </thead>\n",
       "  <tbody>\n",
       "    <tr>\n",
       "      <th>307</th>\n",
       "      <td>0.357143</td>\n",
       "      <td>-1.428571e-01</td>\n",
       "      <td>0.000000</td>\n",
       "      <td>3.571429e-01</td>\n",
       "      <td>-6.428571e-01</td>\n",
       "      <td>-0.642857</td>\n",
       "      <td>0.000000e+00</td>\n",
       "      <td>3.571429e-01</td>\n",
       "      <td>0.000000e+00</td>\n",
       "      <td>0.357143</td>\n",
       "    </tr>\n",
       "    <tr>\n",
       "      <th>590</th>\n",
       "      <td>0.111111</td>\n",
       "      <td>6.111111e-01</td>\n",
       "      <td>0.111111</td>\n",
       "      <td>-8.888889e-01</td>\n",
       "      <td>-3.888889e-01</td>\n",
       "      <td>0.611111</td>\n",
       "      <td>-8.888889e-01</td>\n",
       "      <td>6.111111e-01</td>\n",
       "      <td>0.000000e+00</td>\n",
       "      <td>0.111111</td>\n",
       "    </tr>\n",
       "    <tr>\n",
       "      <th>18</th>\n",
       "      <td>0.500000</td>\n",
       "      <td>1.110223e-16</td>\n",
       "      <td>-0.500000</td>\n",
       "      <td>1.110223e-16</td>\n",
       "      <td>1.110223e-16</td>\n",
       "      <td>-0.500000</td>\n",
       "      <td>1.110223e-16</td>\n",
       "      <td>1.110223e-16</td>\n",
       "      <td>1.110223e-16</td>\n",
       "      <td>0.500000</td>\n",
       "    </tr>\n",
       "    <tr>\n",
       "      <th>17</th>\n",
       "      <td>0.222222</td>\n",
       "      <td>2.222222e-01</td>\n",
       "      <td>0.222222</td>\n",
       "      <td>-2.777778e-01</td>\n",
       "      <td>2.222222e-01</td>\n",
       "      <td>0.222222</td>\n",
       "      <td>-2.777778e-01</td>\n",
       "      <td>-2.777778e-01</td>\n",
       "      <td>0.000000e+00</td>\n",
       "      <td>-0.277778</td>\n",
       "    </tr>\n",
       "    <tr>\n",
       "      <th>249</th>\n",
       "      <td>-0.050000</td>\n",
       "      <td>-5.000000e-02</td>\n",
       "      <td>-0.550000</td>\n",
       "      <td>-5.500000e-01</td>\n",
       "      <td>4.500000e-01</td>\n",
       "      <td>0.450000</td>\n",
       "      <td>4.500000e-01</td>\n",
       "      <td>-5.000000e-02</td>\n",
       "      <td>4.500000e-01</td>\n",
       "      <td>-0.550000</td>\n",
       "    </tr>\n",
       "    <tr>\n",
       "      <th>254</th>\n",
       "      <td>-0.166667</td>\n",
       "      <td>3.333333e-01</td>\n",
       "      <td>0.333333</td>\n",
       "      <td>-6.666667e-01</td>\n",
       "      <td>3.333333e-01</td>\n",
       "      <td>-0.666667</td>\n",
       "      <td>3.333333e-01</td>\n",
       "      <td>3.333333e-01</td>\n",
       "      <td>0.000000e+00</td>\n",
       "      <td>-0.166667</td>\n",
       "    </tr>\n",
       "    <tr>\n",
       "      <th>561</th>\n",
       "      <td>0.650000</td>\n",
       "      <td>-3.500000e-01</td>\n",
       "      <td>0.150000</td>\n",
       "      <td>-3.500000e-01</td>\n",
       "      <td>-3.500000e-01</td>\n",
       "      <td>0.150000</td>\n",
       "      <td>-3.500000e-01</td>\n",
       "      <td>-3.500000e-01</td>\n",
       "      <td>6.500000e-01</td>\n",
       "      <td>0.150000</td>\n",
       "    </tr>\n",
       "    <tr>\n",
       "      <th>480</th>\n",
       "      <td>0.400000</td>\n",
       "      <td>4.000000e-01</td>\n",
       "      <td>-0.600000</td>\n",
       "      <td>-1.000000e-01</td>\n",
       "      <td>4.000000e-01</td>\n",
       "      <td>-0.100000</td>\n",
       "      <td>-1.000000e-01</td>\n",
       "      <td>4.000000e-01</td>\n",
       "      <td>4.000000e-01</td>\n",
       "      <td>-1.100000</td>\n",
       "    </tr>\n",
       "    <tr>\n",
       "      <th>414</th>\n",
       "      <td>0.200000</td>\n",
       "      <td>2.000000e-01</td>\n",
       "      <td>0.200000</td>\n",
       "      <td>-8.000000e-01</td>\n",
       "      <td>2.000000e-01</td>\n",
       "      <td>0.200000</td>\n",
       "      <td>2.000000e-01</td>\n",
       "      <td>-8.000000e-01</td>\n",
       "      <td>2.000000e-01</td>\n",
       "      <td>0.200000</td>\n",
       "    </tr>\n",
       "    <tr>\n",
       "      <th>352</th>\n",
       "      <td>0.339923</td>\n",
       "      <td>3.399235e-01</td>\n",
       "      <td>0.339923</td>\n",
       "      <td>0.000000e+00</td>\n",
       "      <td>-1.600765e-01</td>\n",
       "      <td>-0.660077</td>\n",
       "      <td>3.399235e-01</td>\n",
       "      <td>0.000000e+00</td>\n",
       "      <td>-8.794643e-01</td>\n",
       "      <td>0.339923</td>\n",
       "    </tr>\n",
       "  </tbody>\n",
       "</table>\n",
       "</div>"
      ],
      "text/plain": [
       "movieId      318           356       296           593           2571  \\\n",
       "userId                                                                  \n",
       "307      0.357143 -1.428571e-01  0.000000  3.571429e-01 -6.428571e-01   \n",
       "590      0.111111  6.111111e-01  0.111111 -8.888889e-01 -3.888889e-01   \n",
       "18       0.500000  1.110223e-16 -0.500000  1.110223e-16  1.110223e-16   \n",
       "17       0.222222  2.222222e-01  0.222222 -2.777778e-01  2.222222e-01   \n",
       "249     -0.050000 -5.000000e-02 -0.550000 -5.500000e-01  4.500000e-01   \n",
       "254     -0.166667  3.333333e-01  0.333333 -6.666667e-01  3.333333e-01   \n",
       "561      0.650000 -3.500000e-01  0.150000 -3.500000e-01 -3.500000e-01   \n",
       "480      0.400000  4.000000e-01 -0.600000 -1.000000e-01  4.000000e-01   \n",
       "414      0.200000  2.000000e-01  0.200000 -8.000000e-01  2.000000e-01   \n",
       "352      0.339923  3.399235e-01  0.339923  0.000000e+00 -1.600765e-01   \n",
       "\n",
       "movieId      260           2959          527           110       50    \n",
       "userId                                                                 \n",
       "307     -0.642857  0.000000e+00  3.571429e-01  0.000000e+00  0.357143  \n",
       "590      0.611111 -8.888889e-01  6.111111e-01  0.000000e+00  0.111111  \n",
       "18      -0.500000  1.110223e-16  1.110223e-16  1.110223e-16  0.500000  \n",
       "17       0.222222 -2.777778e-01 -2.777778e-01  0.000000e+00 -0.277778  \n",
       "249      0.450000  4.500000e-01 -5.000000e-02  4.500000e-01 -0.550000  \n",
       "254     -0.666667  3.333333e-01  3.333333e-01  0.000000e+00 -0.166667  \n",
       "561      0.150000 -3.500000e-01 -3.500000e-01  6.500000e-01  0.150000  \n",
       "480     -0.100000 -1.000000e-01  4.000000e-01  4.000000e-01 -1.100000  \n",
       "414      0.200000  2.000000e-01 -8.000000e-01  2.000000e-01  0.200000  \n",
       "352     -0.660077  3.399235e-01  0.000000e+00 -8.794643e-01  0.339923  "
      ]
     },
     "execution_count": 139,
     "metadata": {},
     "output_type": "execute_result"
    }
   ],
   "source": [
    "test_data"
   ]
  },
  {
   "cell_type": "code",
   "execution_count": 140,
   "metadata": {},
   "outputs": [
    {
     "data": {
      "text/html": [
       "<div>\n",
       "<style scoped>\n",
       "    .dataframe tbody tr th:only-of-type {\n",
       "        vertical-align: middle;\n",
       "    }\n",
       "\n",
       "    .dataframe tbody tr th {\n",
       "        vertical-align: top;\n",
       "    }\n",
       "\n",
       "    .dataframe thead th {\n",
       "        text-align: right;\n",
       "    }\n",
       "</style>\n",
       "<table border=\"1\" class=\"dataframe\">\n",
       "  <thead>\n",
       "    <tr style=\"text-align: right;\">\n",
       "      <th>movieId</th>\n",
       "      <th>318</th>\n",
       "      <th>356</th>\n",
       "      <th>296</th>\n",
       "      <th>593</th>\n",
       "      <th>2571</th>\n",
       "      <th>260</th>\n",
       "      <th>2959</th>\n",
       "      <th>527</th>\n",
       "      <th>110</th>\n",
       "      <th>50</th>\n",
       "    </tr>\n",
       "    <tr>\n",
       "      <th>userId</th>\n",
       "      <th></th>\n",
       "      <th></th>\n",
       "      <th></th>\n",
       "      <th></th>\n",
       "      <th></th>\n",
       "      <th></th>\n",
       "      <th></th>\n",
       "      <th></th>\n",
       "      <th></th>\n",
       "      <th></th>\n",
       "    </tr>\n",
       "  </thead>\n",
       "  <tbody>\n",
       "    <tr>\n",
       "      <th>590</th>\n",
       "      <td>0.111111</td>\n",
       "      <td>6.111111e-01</td>\n",
       "      <td>0.111111</td>\n",
       "      <td>-8.888889e-01</td>\n",
       "      <td>-3.888889e-01</td>\n",
       "      <td>0.611111</td>\n",
       "      <td>-8.888889e-01</td>\n",
       "      <td>6.111111e-01</td>\n",
       "      <td>0.000000e+00</td>\n",
       "      <td>0.111111</td>\n",
       "    </tr>\n",
       "    <tr>\n",
       "      <th>18</th>\n",
       "      <td>0.500000</td>\n",
       "      <td>1.110223e-16</td>\n",
       "      <td>-0.500000</td>\n",
       "      <td>1.110223e-16</td>\n",
       "      <td>1.110223e-16</td>\n",
       "      <td>-0.500000</td>\n",
       "      <td>1.110223e-16</td>\n",
       "      <td>1.110223e-16</td>\n",
       "      <td>1.110223e-16</td>\n",
       "      <td>0.500000</td>\n",
       "    </tr>\n",
       "    <tr>\n",
       "      <th>17</th>\n",
       "      <td>0.222222</td>\n",
       "      <td>2.222222e-01</td>\n",
       "      <td>0.222222</td>\n",
       "      <td>-2.777778e-01</td>\n",
       "      <td>2.222222e-01</td>\n",
       "      <td>0.222222</td>\n",
       "      <td>-2.777778e-01</td>\n",
       "      <td>-2.777778e-01</td>\n",
       "      <td>0.000000e+00</td>\n",
       "      <td>-0.277778</td>\n",
       "    </tr>\n",
       "    <tr>\n",
       "      <th>249</th>\n",
       "      <td>-0.050000</td>\n",
       "      <td>-5.000000e-02</td>\n",
       "      <td>-0.550000</td>\n",
       "      <td>-5.500000e-01</td>\n",
       "      <td>4.500000e-01</td>\n",
       "      <td>0.450000</td>\n",
       "      <td>4.500000e-01</td>\n",
       "      <td>-5.000000e-02</td>\n",
       "      <td>4.500000e-01</td>\n",
       "      <td>-0.550000</td>\n",
       "    </tr>\n",
       "    <tr>\n",
       "      <th>254</th>\n",
       "      <td>-0.166667</td>\n",
       "      <td>3.333333e-01</td>\n",
       "      <td>0.333333</td>\n",
       "      <td>-6.666667e-01</td>\n",
       "      <td>3.333333e-01</td>\n",
       "      <td>-0.666667</td>\n",
       "      <td>3.333333e-01</td>\n",
       "      <td>3.333333e-01</td>\n",
       "      <td>0.000000e+00</td>\n",
       "      <td>-0.166667</td>\n",
       "    </tr>\n",
       "    <tr>\n",
       "      <th>561</th>\n",
       "      <td>0.650000</td>\n",
       "      <td>-3.500000e-01</td>\n",
       "      <td>0.150000</td>\n",
       "      <td>-3.500000e-01</td>\n",
       "      <td>-3.500000e-01</td>\n",
       "      <td>0.150000</td>\n",
       "      <td>-3.500000e-01</td>\n",
       "      <td>-3.500000e-01</td>\n",
       "      <td>6.500000e-01</td>\n",
       "      <td>0.150000</td>\n",
       "    </tr>\n",
       "    <tr>\n",
       "      <th>480</th>\n",
       "      <td>0.400000</td>\n",
       "      <td>4.000000e-01</td>\n",
       "      <td>-0.600000</td>\n",
       "      <td>-1.000000e-01</td>\n",
       "      <td>4.000000e-01</td>\n",
       "      <td>-0.100000</td>\n",
       "      <td>-1.000000e-01</td>\n",
       "      <td>4.000000e-01</td>\n",
       "      <td>4.000000e-01</td>\n",
       "      <td>-1.100000</td>\n",
       "    </tr>\n",
       "    <tr>\n",
       "      <th>414</th>\n",
       "      <td>0.200000</td>\n",
       "      <td>2.000000e-01</td>\n",
       "      <td>0.200000</td>\n",
       "      <td>-8.000000e-01</td>\n",
       "      <td>2.000000e-01</td>\n",
       "      <td>0.200000</td>\n",
       "      <td>2.000000e-01</td>\n",
       "      <td>-8.000000e-01</td>\n",
       "      <td>2.000000e-01</td>\n",
       "      <td>0.200000</td>\n",
       "    </tr>\n",
       "    <tr>\n",
       "      <th>352</th>\n",
       "      <td>0.339923</td>\n",
       "      <td>3.399235e-01</td>\n",
       "      <td>0.339923</td>\n",
       "      <td>0.000000e+00</td>\n",
       "      <td>-1.600765e-01</td>\n",
       "      <td>-0.660077</td>\n",
       "      <td>3.399235e-01</td>\n",
       "      <td>0.000000e+00</td>\n",
       "      <td>-8.794643e-01</td>\n",
       "      <td>0.339923</td>\n",
       "    </tr>\n",
       "  </tbody>\n",
       "</table>\n",
       "</div>"
      ],
      "text/plain": [
       "movieId      318           356       296           593           2571  \\\n",
       "userId                                                                  \n",
       "590      0.111111  6.111111e-01  0.111111 -8.888889e-01 -3.888889e-01   \n",
       "18       0.500000  1.110223e-16 -0.500000  1.110223e-16  1.110223e-16   \n",
       "17       0.222222  2.222222e-01  0.222222 -2.777778e-01  2.222222e-01   \n",
       "249     -0.050000 -5.000000e-02 -0.550000 -5.500000e-01  4.500000e-01   \n",
       "254     -0.166667  3.333333e-01  0.333333 -6.666667e-01  3.333333e-01   \n",
       "561      0.650000 -3.500000e-01  0.150000 -3.500000e-01 -3.500000e-01   \n",
       "480      0.400000  4.000000e-01 -0.600000 -1.000000e-01  4.000000e-01   \n",
       "414      0.200000  2.000000e-01  0.200000 -8.000000e-01  2.000000e-01   \n",
       "352      0.339923  3.399235e-01  0.339923  0.000000e+00 -1.600765e-01   \n",
       "\n",
       "movieId      260           2959          527           110       50    \n",
       "userId                                                                 \n",
       "590      0.611111 -8.888889e-01  6.111111e-01  0.000000e+00  0.111111  \n",
       "18      -0.500000  1.110223e-16  1.110223e-16  1.110223e-16  0.500000  \n",
       "17       0.222222 -2.777778e-01 -2.777778e-01  0.000000e+00 -0.277778  \n",
       "249      0.450000  4.500000e-01 -5.000000e-02  4.500000e-01 -0.550000  \n",
       "254     -0.666667  3.333333e-01  3.333333e-01  0.000000e+00 -0.166667  \n",
       "561      0.150000 -3.500000e-01 -3.500000e-01  6.500000e-01  0.150000  \n",
       "480     -0.100000 -1.000000e-01  4.000000e-01  4.000000e-01 -1.100000  \n",
       "414      0.200000  2.000000e-01 -8.000000e-01  2.000000e-01  0.200000  \n",
       "352     -0.660077  3.399235e-01  0.000000e+00 -8.794643e-01  0.339923  "
      ]
     },
     "execution_count": 140,
     "metadata": {},
     "output_type": "execute_result"
    }
   ],
   "source": [
    "db = test_data.drop(x_raw.name) # remove this user\n",
    "db"
   ]
  },
  {
   "cell_type": "code",
   "execution_count": 141,
   "metadata": {},
   "outputs": [
    {
     "data": {
      "text/plain": [
       "50"
      ]
     },
     "metadata": {},
     "output_type": "display_data"
    },
    {
     "data": {
      "text/html": [
       "<div>\n",
       "<style scoped>\n",
       "    .dataframe tbody tr th:only-of-type {\n",
       "        vertical-align: middle;\n",
       "    }\n",
       "\n",
       "    .dataframe tbody tr th {\n",
       "        vertical-align: top;\n",
       "    }\n",
       "\n",
       "    .dataframe thead th {\n",
       "        text-align: right;\n",
       "    }\n",
       "</style>\n",
       "<table border=\"1\" class=\"dataframe\">\n",
       "  <thead>\n",
       "    <tr style=\"text-align: right;\">\n",
       "      <th>movieId</th>\n",
       "      <th>318</th>\n",
       "      <th>356</th>\n",
       "      <th>296</th>\n",
       "      <th>593</th>\n",
       "      <th>2571</th>\n",
       "      <th>260</th>\n",
       "      <th>2959</th>\n",
       "      <th>527</th>\n",
       "      <th>110</th>\n",
       "      <th>50</th>\n",
       "    </tr>\n",
       "    <tr>\n",
       "      <th>userId</th>\n",
       "      <th></th>\n",
       "      <th></th>\n",
       "      <th></th>\n",
       "      <th></th>\n",
       "      <th></th>\n",
       "      <th></th>\n",
       "      <th></th>\n",
       "      <th></th>\n",
       "      <th></th>\n",
       "      <th></th>\n",
       "    </tr>\n",
       "  </thead>\n",
       "  <tbody>\n",
       "    <tr>\n",
       "      <th>590</th>\n",
       "      <td>0.111111</td>\n",
       "      <td>6.111111e-01</td>\n",
       "      <td>0.111111</td>\n",
       "      <td>-8.888889e-01</td>\n",
       "      <td>-3.888889e-01</td>\n",
       "      <td>0.611111</td>\n",
       "      <td>-8.888889e-01</td>\n",
       "      <td>6.111111e-01</td>\n",
       "      <td>0.000000e+00</td>\n",
       "      <td>0.111111</td>\n",
       "    </tr>\n",
       "    <tr>\n",
       "      <th>18</th>\n",
       "      <td>0.500000</td>\n",
       "      <td>1.110223e-16</td>\n",
       "      <td>-0.500000</td>\n",
       "      <td>1.110223e-16</td>\n",
       "      <td>1.110223e-16</td>\n",
       "      <td>-0.500000</td>\n",
       "      <td>1.110223e-16</td>\n",
       "      <td>1.110223e-16</td>\n",
       "      <td>1.110223e-16</td>\n",
       "      <td>0.500000</td>\n",
       "    </tr>\n",
       "    <tr>\n",
       "      <th>17</th>\n",
       "      <td>0.222222</td>\n",
       "      <td>2.222222e-01</td>\n",
       "      <td>0.222222</td>\n",
       "      <td>-2.777778e-01</td>\n",
       "      <td>2.222222e-01</td>\n",
       "      <td>0.222222</td>\n",
       "      <td>-2.777778e-01</td>\n",
       "      <td>-2.777778e-01</td>\n",
       "      <td>0.000000e+00</td>\n",
       "      <td>-0.277778</td>\n",
       "    </tr>\n",
       "    <tr>\n",
       "      <th>249</th>\n",
       "      <td>-0.050000</td>\n",
       "      <td>-5.000000e-02</td>\n",
       "      <td>-0.550000</td>\n",
       "      <td>-5.500000e-01</td>\n",
       "      <td>4.500000e-01</td>\n",
       "      <td>0.450000</td>\n",
       "      <td>4.500000e-01</td>\n",
       "      <td>-5.000000e-02</td>\n",
       "      <td>4.500000e-01</td>\n",
       "      <td>-0.550000</td>\n",
       "    </tr>\n",
       "    <tr>\n",
       "      <th>254</th>\n",
       "      <td>-0.166667</td>\n",
       "      <td>3.333333e-01</td>\n",
       "      <td>0.333333</td>\n",
       "      <td>-6.666667e-01</td>\n",
       "      <td>3.333333e-01</td>\n",
       "      <td>-0.666667</td>\n",
       "      <td>3.333333e-01</td>\n",
       "      <td>3.333333e-01</td>\n",
       "      <td>0.000000e+00</td>\n",
       "      <td>-0.166667</td>\n",
       "    </tr>\n",
       "    <tr>\n",
       "      <th>561</th>\n",
       "      <td>0.650000</td>\n",
       "      <td>-3.500000e-01</td>\n",
       "      <td>0.150000</td>\n",
       "      <td>-3.500000e-01</td>\n",
       "      <td>-3.500000e-01</td>\n",
       "      <td>0.150000</td>\n",
       "      <td>-3.500000e-01</td>\n",
       "      <td>-3.500000e-01</td>\n",
       "      <td>6.500000e-01</td>\n",
       "      <td>0.150000</td>\n",
       "    </tr>\n",
       "    <tr>\n",
       "      <th>480</th>\n",
       "      <td>0.400000</td>\n",
       "      <td>4.000000e-01</td>\n",
       "      <td>-0.600000</td>\n",
       "      <td>-1.000000e-01</td>\n",
       "      <td>4.000000e-01</td>\n",
       "      <td>-0.100000</td>\n",
       "      <td>-1.000000e-01</td>\n",
       "      <td>4.000000e-01</td>\n",
       "      <td>4.000000e-01</td>\n",
       "      <td>-1.100000</td>\n",
       "    </tr>\n",
       "    <tr>\n",
       "      <th>414</th>\n",
       "      <td>0.200000</td>\n",
       "      <td>2.000000e-01</td>\n",
       "      <td>0.200000</td>\n",
       "      <td>-8.000000e-01</td>\n",
       "      <td>2.000000e-01</td>\n",
       "      <td>0.200000</td>\n",
       "      <td>2.000000e-01</td>\n",
       "      <td>-8.000000e-01</td>\n",
       "      <td>2.000000e-01</td>\n",
       "      <td>0.200000</td>\n",
       "    </tr>\n",
       "    <tr>\n",
       "      <th>352</th>\n",
       "      <td>0.339923</td>\n",
       "      <td>3.399235e-01</td>\n",
       "      <td>0.339923</td>\n",
       "      <td>0.000000e+00</td>\n",
       "      <td>-1.600765e-01</td>\n",
       "      <td>-0.660077</td>\n",
       "      <td>3.399235e-01</td>\n",
       "      <td>0.000000e+00</td>\n",
       "      <td>-8.794643e-01</td>\n",
       "      <td>0.339923</td>\n",
       "    </tr>\n",
       "  </tbody>\n",
       "</table>\n",
       "</div>"
      ],
      "text/plain": [
       "movieId      318           356       296           593           2571  \\\n",
       "userId                                                                  \n",
       "590      0.111111  6.111111e-01  0.111111 -8.888889e-01 -3.888889e-01   \n",
       "18       0.500000  1.110223e-16 -0.500000  1.110223e-16  1.110223e-16   \n",
       "17       0.222222  2.222222e-01  0.222222 -2.777778e-01  2.222222e-01   \n",
       "249     -0.050000 -5.000000e-02 -0.550000 -5.500000e-01  4.500000e-01   \n",
       "254     -0.166667  3.333333e-01  0.333333 -6.666667e-01  3.333333e-01   \n",
       "561      0.650000 -3.500000e-01  0.150000 -3.500000e-01 -3.500000e-01   \n",
       "480      0.400000  4.000000e-01 -0.600000 -1.000000e-01  4.000000e-01   \n",
       "414      0.200000  2.000000e-01  0.200000 -8.000000e-01  2.000000e-01   \n",
       "352      0.339923  3.399235e-01  0.339923  0.000000e+00 -1.600765e-01   \n",
       "\n",
       "movieId      260           2959          527           110       50    \n",
       "userId                                                                 \n",
       "590      0.611111 -8.888889e-01  6.111111e-01  0.000000e+00  0.111111  \n",
       "18      -0.500000  1.110223e-16  1.110223e-16  1.110223e-16  0.500000  \n",
       "17       0.222222 -2.777778e-01 -2.777778e-01  0.000000e+00 -0.277778  \n",
       "249      0.450000  4.500000e-01 -5.000000e-02  4.500000e-01 -0.550000  \n",
       "254     -0.666667  3.333333e-01  3.333333e-01  0.000000e+00 -0.166667  \n",
       "561      0.150000 -3.500000e-01 -3.500000e-01  6.500000e-01  0.150000  \n",
       "480     -0.100000 -1.000000e-01  4.000000e-01  4.000000e-01 -1.100000  \n",
       "414      0.200000  2.000000e-01 -8.000000e-01  2.000000e-01  0.200000  \n",
       "352     -0.660077  3.399235e-01  0.000000e+00 -8.794643e-01  0.339923  "
      ]
     },
     "metadata": {},
     "output_type": "display_data"
    },
    {
     "data": {
      "text/html": [
       "<div>\n",
       "<style scoped>\n",
       "    .dataframe tbody tr th:only-of-type {\n",
       "        vertical-align: middle;\n",
       "    }\n",
       "\n",
       "    .dataframe tbody tr th {\n",
       "        vertical-align: top;\n",
       "    }\n",
       "\n",
       "    .dataframe thead th {\n",
       "        text-align: right;\n",
       "    }\n",
       "</style>\n",
       "<table border=\"1\" class=\"dataframe\">\n",
       "  <thead>\n",
       "    <tr style=\"text-align: right;\">\n",
       "      <th>movieId</th>\n",
       "      <th>318</th>\n",
       "      <th>356</th>\n",
       "      <th>296</th>\n",
       "      <th>593</th>\n",
       "      <th>2571</th>\n",
       "      <th>260</th>\n",
       "      <th>2959</th>\n",
       "      <th>527</th>\n",
       "      <th>110</th>\n",
       "      <th>50</th>\n",
       "    </tr>\n",
       "    <tr>\n",
       "      <th>userId</th>\n",
       "      <th></th>\n",
       "      <th></th>\n",
       "      <th></th>\n",
       "      <th></th>\n",
       "      <th></th>\n",
       "      <th></th>\n",
       "      <th></th>\n",
       "      <th></th>\n",
       "      <th></th>\n",
       "      <th></th>\n",
       "    </tr>\n",
       "  </thead>\n",
       "  <tbody>\n",
       "    <tr>\n",
       "      <th>590</th>\n",
       "      <td>0.111111</td>\n",
       "      <td>6.111111e-01</td>\n",
       "      <td>0.111111</td>\n",
       "      <td>-8.888889e-01</td>\n",
       "      <td>-3.888889e-01</td>\n",
       "      <td>0.611111</td>\n",
       "      <td>-8.888889e-01</td>\n",
       "      <td>6.111111e-01</td>\n",
       "      <td>0.000000e+00</td>\n",
       "      <td>0.111111</td>\n",
       "    </tr>\n",
       "    <tr>\n",
       "      <th>18</th>\n",
       "      <td>0.500000</td>\n",
       "      <td>1.110223e-16</td>\n",
       "      <td>-0.500000</td>\n",
       "      <td>1.110223e-16</td>\n",
       "      <td>1.110223e-16</td>\n",
       "      <td>-0.500000</td>\n",
       "      <td>1.110223e-16</td>\n",
       "      <td>1.110223e-16</td>\n",
       "      <td>1.110223e-16</td>\n",
       "      <td>0.500000</td>\n",
       "    </tr>\n",
       "    <tr>\n",
       "      <th>17</th>\n",
       "      <td>0.222222</td>\n",
       "      <td>2.222222e-01</td>\n",
       "      <td>0.222222</td>\n",
       "      <td>-2.777778e-01</td>\n",
       "      <td>2.222222e-01</td>\n",
       "      <td>0.222222</td>\n",
       "      <td>-2.777778e-01</td>\n",
       "      <td>-2.777778e-01</td>\n",
       "      <td>0.000000e+00</td>\n",
       "      <td>-0.277778</td>\n",
       "    </tr>\n",
       "    <tr>\n",
       "      <th>249</th>\n",
       "      <td>-0.050000</td>\n",
       "      <td>-5.000000e-02</td>\n",
       "      <td>-0.550000</td>\n",
       "      <td>-5.500000e-01</td>\n",
       "      <td>4.500000e-01</td>\n",
       "      <td>0.450000</td>\n",
       "      <td>4.500000e-01</td>\n",
       "      <td>-5.000000e-02</td>\n",
       "      <td>4.500000e-01</td>\n",
       "      <td>-0.550000</td>\n",
       "    </tr>\n",
       "    <tr>\n",
       "      <th>254</th>\n",
       "      <td>-0.166667</td>\n",
       "      <td>3.333333e-01</td>\n",
       "      <td>0.333333</td>\n",
       "      <td>-6.666667e-01</td>\n",
       "      <td>3.333333e-01</td>\n",
       "      <td>-0.666667</td>\n",
       "      <td>3.333333e-01</td>\n",
       "      <td>3.333333e-01</td>\n",
       "      <td>0.000000e+00</td>\n",
       "      <td>-0.166667</td>\n",
       "    </tr>\n",
       "    <tr>\n",
       "      <th>561</th>\n",
       "      <td>0.650000</td>\n",
       "      <td>-3.500000e-01</td>\n",
       "      <td>0.150000</td>\n",
       "      <td>-3.500000e-01</td>\n",
       "      <td>-3.500000e-01</td>\n",
       "      <td>0.150000</td>\n",
       "      <td>-3.500000e-01</td>\n",
       "      <td>-3.500000e-01</td>\n",
       "      <td>6.500000e-01</td>\n",
       "      <td>0.150000</td>\n",
       "    </tr>\n",
       "    <tr>\n",
       "      <th>480</th>\n",
       "      <td>0.400000</td>\n",
       "      <td>4.000000e-01</td>\n",
       "      <td>-0.600000</td>\n",
       "      <td>-1.000000e-01</td>\n",
       "      <td>4.000000e-01</td>\n",
       "      <td>-0.100000</td>\n",
       "      <td>-1.000000e-01</td>\n",
       "      <td>4.000000e-01</td>\n",
       "      <td>4.000000e-01</td>\n",
       "      <td>-1.100000</td>\n",
       "    </tr>\n",
       "    <tr>\n",
       "      <th>414</th>\n",
       "      <td>0.200000</td>\n",
       "      <td>2.000000e-01</td>\n",
       "      <td>0.200000</td>\n",
       "      <td>-8.000000e-01</td>\n",
       "      <td>2.000000e-01</td>\n",
       "      <td>0.200000</td>\n",
       "      <td>2.000000e-01</td>\n",
       "      <td>-8.000000e-01</td>\n",
       "      <td>2.000000e-01</td>\n",
       "      <td>0.200000</td>\n",
       "    </tr>\n",
       "    <tr>\n",
       "      <th>352</th>\n",
       "      <td>0.339923</td>\n",
       "      <td>3.399235e-01</td>\n",
       "      <td>0.339923</td>\n",
       "      <td>0.000000e+00</td>\n",
       "      <td>-1.600765e-01</td>\n",
       "      <td>-0.660077</td>\n",
       "      <td>3.399235e-01</td>\n",
       "      <td>0.000000e+00</td>\n",
       "      <td>-8.794643e-01</td>\n",
       "      <td>0.339923</td>\n",
       "    </tr>\n",
       "  </tbody>\n",
       "</table>\n",
       "</div>"
      ],
      "text/plain": [
       "movieId      318           356       296           593           2571  \\\n",
       "userId                                                                  \n",
       "590      0.111111  6.111111e-01  0.111111 -8.888889e-01 -3.888889e-01   \n",
       "18       0.500000  1.110223e-16 -0.500000  1.110223e-16  1.110223e-16   \n",
       "17       0.222222  2.222222e-01  0.222222 -2.777778e-01  2.222222e-01   \n",
       "249     -0.050000 -5.000000e-02 -0.550000 -5.500000e-01  4.500000e-01   \n",
       "254     -0.166667  3.333333e-01  0.333333 -6.666667e-01  3.333333e-01   \n",
       "561      0.650000 -3.500000e-01  0.150000 -3.500000e-01 -3.500000e-01   \n",
       "480      0.400000  4.000000e-01 -0.600000 -1.000000e-01  4.000000e-01   \n",
       "414      0.200000  2.000000e-01  0.200000 -8.000000e-01  2.000000e-01   \n",
       "352      0.339923  3.399235e-01  0.339923  0.000000e+00 -1.600765e-01   \n",
       "\n",
       "movieId      260           2959          527           110       50    \n",
       "userId                                                                 \n",
       "590      0.611111 -8.888889e-01  6.111111e-01  0.000000e+00  0.111111  \n",
       "18      -0.500000  1.110223e-16  1.110223e-16  1.110223e-16  0.500000  \n",
       "17       0.222222 -2.777778e-01 -2.777778e-01  0.000000e+00 -0.277778  \n",
       "249      0.450000  4.500000e-01 -5.000000e-02  4.500000e-01 -0.550000  \n",
       "254     -0.666667  3.333333e-01  3.333333e-01  0.000000e+00 -0.166667  \n",
       "561      0.150000 -3.500000e-01 -3.500000e-01  6.500000e-01  0.150000  \n",
       "480     -0.100000 -1.000000e-01  4.000000e-01  4.000000e-01 -1.100000  \n",
       "414      0.200000  2.000000e-01 -8.000000e-01  2.000000e-01  0.200000  \n",
       "352     -0.660077  3.399235e-01  0.000000e+00 -8.794643e-01  0.339923  "
      ]
     },
     "metadata": {},
     "output_type": "display_data"
    }
   ],
   "source": [
    "movie = test_movies[0] # pick a movie in our test set\n",
    "display(movie)\n",
    "display(db)\n",
    "# We should remove any users that did not rate the movie we are interested in predicting. \n",
    "# How would including them help us?\n",
    "db_subset = db.loc[np.isnan(data_raw.drop(x_raw.name)[movie])==False]\n",
    "display(db_subset)"
   ]
  },
  {
   "cell_type": "code",
   "execution_count": 142,
   "metadata": {},
   "outputs": [
    {
     "data": {
      "text/plain": [
       "movieId\n",
       "318     0.357143\n",
       "356    -0.142857\n",
       "296     0.000000\n",
       "593     0.000000\n",
       "2571   -0.642857\n",
       "260    -0.642857\n",
       "2959    0.000000\n",
       "527     0.357143\n",
       "110     0.000000\n",
       "50      0.000000\n",
       "Name: 307, dtype: float64"
      ]
     },
     "execution_count": 142,
     "metadata": {},
     "output_type": "execute_result"
    }
   ],
   "source": [
    "# In order to make the cosine similarity work, we need to have the same dimensions in db_subset and x\n",
    "# But we want to make sure that the test movies are removed because well they are for testing purposes\n",
    "x = x_raw.copy()\n",
    "x.loc[test_movies] = np.NaN\n",
    "x = x.fillna(0)\n",
    "x"
   ]
  },
  {
   "cell_type": "code",
   "execution_count": 143,
   "metadata": {},
   "outputs": [],
   "source": [
    "# Now we can actually compute the cosine similarity. This apply function is basically just a for loop over each user\n",
    "sims = (db_subset.apply(lambda y: (y.values*x.values).sum()/(np.sqrt((y**2).sum())*np.sqrt((x**2).sum())),axis=1)+1)/2"
   ]
  },
  {
   "cell_type": "code",
   "execution_count": 144,
   "metadata": {},
   "outputs": [
    {
     "data": {
      "text/plain": [
       "userId\n",
       "18     0.738145\n",
       "352    0.712295\n",
       "dtype: float64"
      ]
     },
     "execution_count": 144,
     "metadata": {},
     "output_type": "execute_result"
    }
   ],
   "source": [
    "N = 2 # Set the neighborhood to 2 and select the users after sorting\n",
    "sims.sort_values(ascending=False).iloc[:N]"
   ]
  },
  {
   "cell_type": "code",
   "execution_count": 145,
   "metadata": {},
   "outputs": [
    {
     "data": {
      "text/plain": [
       "Int64Index([18, 352], dtype='int64', name='userId')"
      ]
     },
     "execution_count": 145,
     "metadata": {},
     "output_type": "execute_result"
    }
   ],
   "source": [
    "# But we don't want the similarity scores, just the user ids\n",
    "neighbors = sims.sort_values(ascending=False).iloc[:N].index\n",
    "neighbors"
   ]
  },
  {
   "cell_type": "code",
   "execution_count": 146,
   "metadata": {},
   "outputs": [
    {
     "data": {
      "text/plain": [
       "userId\n",
       "18     0.500000\n",
       "352    0.339923\n",
       "Name: 50, dtype: float64"
      ]
     },
     "execution_count": 146,
     "metadata": {},
     "output_type": "execute_result"
    }
   ],
   "source": [
    "# How did our neighborhood rank that movie?\n",
    "test_data.loc[neighbors,movie]"
   ]
  },
  {
   "cell_type": "code",
   "execution_count": 147,
   "metadata": {},
   "outputs": [
    {
     "data": {
      "text/plain": [
       "0.4199617346938776"
      ]
     },
     "execution_count": 147,
     "metadata": {},
     "output_type": "execute_result"
    }
   ],
   "source": [
    "# Finally! Here is our prediction (unweighted)\n",
    "pred = test_data.loc[neighbors,movie].mean()\n",
    "pred"
   ]
  },
  {
   "cell_type": "code",
   "execution_count": 148,
   "metadata": {},
   "outputs": [
    {
     "data": {
      "text/plain": [
       "userId\n",
       "18     0.738145\n",
       "352    0.712295\n",
       "dtype: float64"
      ]
     },
     "execution_count": 148,
     "metadata": {},
     "output_type": "execute_result"
    }
   ],
   "source": [
    "# What about weighted?\n",
    "top_sims = sims.sort_values(ascending=False).iloc[:N]\n",
    "top_sims"
   ]
  },
  {
   "cell_type": "code",
   "execution_count": 149,
   "metadata": {},
   "outputs": [
    {
     "data": {
      "text/plain": [
       "0.42138817488865027"
      ]
     },
     "execution_count": 149,
     "metadata": {},
     "output_type": "execute_result"
    }
   ],
   "source": [
    "# Here is our prediction with weighting\n",
    "weighted_pred = test_data.loc[neighbors,movie].multiply(top_sims,axis=0).sum()/top_sims.sum()\n",
    "weighted_pred"
   ]
  },
  {
   "cell_type": "code",
   "execution_count": 150,
   "metadata": {
    "lines_to_next_cell": 2
   },
   "outputs": [
    {
     "data": {
      "text/plain": [
       "0.357142857142857"
      ]
     },
     "execution_count": 150,
     "metadata": {},
     "output_type": "execute_result"
    }
   ],
   "source": [
    "# How does this compare?\n",
    "actual = x_raw.loc[movie]\n",
    "actual"
   ]
  },
  {
   "cell_type": "code",
   "execution_count": 151,
   "metadata": {},
   "outputs": [
    {
     "name": "stdout",
     "output_type": "stream",
     "text": [
      "MAE of unweighted: 0.06281887755102061\n",
      "MAE of weighted: 0.06424531774579328\n"
     ]
    }
   ],
   "source": [
    "print(\"MAE of unweighted:\",np.abs(actual-pred))\n",
    "print(\"MAE of weighted:\",np.abs(actual-weighted_pred))"
   ]
  },
  {
   "cell_type": "markdown",
   "metadata": {},
   "source": [
    "## Item-item on the same small dataset\n",
    "Let's review what we have from above that becomes our input. Item - item works really similar to user-user but the information is now users ratings for each item instead of item ratings for each user (i.e., we transpo."
   ]
  },
  {
   "cell_type": "code",
   "execution_count": 152,
   "metadata": {},
   "outputs": [
    {
     "data": {
      "text/html": [
       "<div>\n",
       "<style scoped>\n",
       "    .dataframe tbody tr th:only-of-type {\n",
       "        vertical-align: middle;\n",
       "    }\n",
       "\n",
       "    .dataframe tbody tr th {\n",
       "        vertical-align: top;\n",
       "    }\n",
       "\n",
       "    .dataframe thead th {\n",
       "        text-align: right;\n",
       "    }\n",
       "</style>\n",
       "<table border=\"1\" class=\"dataframe\">\n",
       "  <thead>\n",
       "    <tr style=\"text-align: right;\">\n",
       "      <th>movieId</th>\n",
       "      <th>318</th>\n",
       "      <th>356</th>\n",
       "      <th>296</th>\n",
       "      <th>593</th>\n",
       "      <th>2571</th>\n",
       "      <th>260</th>\n",
       "      <th>2959</th>\n",
       "      <th>527</th>\n",
       "      <th>110</th>\n",
       "      <th>50</th>\n",
       "    </tr>\n",
       "    <tr>\n",
       "      <th>userId</th>\n",
       "      <th></th>\n",
       "      <th></th>\n",
       "      <th></th>\n",
       "      <th></th>\n",
       "      <th></th>\n",
       "      <th></th>\n",
       "      <th></th>\n",
       "      <th></th>\n",
       "      <th></th>\n",
       "      <th></th>\n",
       "    </tr>\n",
       "  </thead>\n",
       "  <tbody>\n",
       "    <tr>\n",
       "      <th>307</th>\n",
       "      <td>0.357143</td>\n",
       "      <td>-1.428571e-01</td>\n",
       "      <td>NaN</td>\n",
       "      <td>3.571429e-01</td>\n",
       "      <td>-6.428571e-01</td>\n",
       "      <td>-0.642857</td>\n",
       "      <td>NaN</td>\n",
       "      <td>3.571429e-01</td>\n",
       "      <td>NaN</td>\n",
       "      <td>0.357143</td>\n",
       "    </tr>\n",
       "    <tr>\n",
       "      <th>590</th>\n",
       "      <td>0.111111</td>\n",
       "      <td>6.111111e-01</td>\n",
       "      <td>0.111111</td>\n",
       "      <td>-8.888889e-01</td>\n",
       "      <td>-3.888889e-01</td>\n",
       "      <td>0.611111</td>\n",
       "      <td>-8.888889e-01</td>\n",
       "      <td>6.111111e-01</td>\n",
       "      <td>NaN</td>\n",
       "      <td>0.111111</td>\n",
       "    </tr>\n",
       "    <tr>\n",
       "      <th>18</th>\n",
       "      <td>0.500000</td>\n",
       "      <td>1.110223e-16</td>\n",
       "      <td>-0.500000</td>\n",
       "      <td>1.110223e-16</td>\n",
       "      <td>1.110223e-16</td>\n",
       "      <td>-0.500000</td>\n",
       "      <td>1.110223e-16</td>\n",
       "      <td>1.110223e-16</td>\n",
       "      <td>1.110223e-16</td>\n",
       "      <td>0.500000</td>\n",
       "    </tr>\n",
       "    <tr>\n",
       "      <th>17</th>\n",
       "      <td>0.222222</td>\n",
       "      <td>2.222222e-01</td>\n",
       "      <td>0.222222</td>\n",
       "      <td>-2.777778e-01</td>\n",
       "      <td>2.222222e-01</td>\n",
       "      <td>0.222222</td>\n",
       "      <td>-2.777778e-01</td>\n",
       "      <td>-2.777778e-01</td>\n",
       "      <td>NaN</td>\n",
       "      <td>-0.277778</td>\n",
       "    </tr>\n",
       "    <tr>\n",
       "      <th>249</th>\n",
       "      <td>-0.050000</td>\n",
       "      <td>-5.000000e-02</td>\n",
       "      <td>-0.550000</td>\n",
       "      <td>-5.500000e-01</td>\n",
       "      <td>4.500000e-01</td>\n",
       "      <td>0.450000</td>\n",
       "      <td>4.500000e-01</td>\n",
       "      <td>-5.000000e-02</td>\n",
       "      <td>4.500000e-01</td>\n",
       "      <td>-0.550000</td>\n",
       "    </tr>\n",
       "    <tr>\n",
       "      <th>254</th>\n",
       "      <td>-0.166667</td>\n",
       "      <td>3.333333e-01</td>\n",
       "      <td>0.333333</td>\n",
       "      <td>-6.666667e-01</td>\n",
       "      <td>3.333333e-01</td>\n",
       "      <td>-0.666667</td>\n",
       "      <td>3.333333e-01</td>\n",
       "      <td>3.333333e-01</td>\n",
       "      <td>NaN</td>\n",
       "      <td>-0.166667</td>\n",
       "    </tr>\n",
       "    <tr>\n",
       "      <th>561</th>\n",
       "      <td>0.650000</td>\n",
       "      <td>-3.500000e-01</td>\n",
       "      <td>0.150000</td>\n",
       "      <td>-3.500000e-01</td>\n",
       "      <td>-3.500000e-01</td>\n",
       "      <td>0.150000</td>\n",
       "      <td>-3.500000e-01</td>\n",
       "      <td>-3.500000e-01</td>\n",
       "      <td>6.500000e-01</td>\n",
       "      <td>0.150000</td>\n",
       "    </tr>\n",
       "    <tr>\n",
       "      <th>480</th>\n",
       "      <td>0.400000</td>\n",
       "      <td>4.000000e-01</td>\n",
       "      <td>-0.600000</td>\n",
       "      <td>-1.000000e-01</td>\n",
       "      <td>4.000000e-01</td>\n",
       "      <td>-0.100000</td>\n",
       "      <td>-1.000000e-01</td>\n",
       "      <td>4.000000e-01</td>\n",
       "      <td>4.000000e-01</td>\n",
       "      <td>-1.100000</td>\n",
       "    </tr>\n",
       "    <tr>\n",
       "      <th>414</th>\n",
       "      <td>0.200000</td>\n",
       "      <td>2.000000e-01</td>\n",
       "      <td>0.200000</td>\n",
       "      <td>-8.000000e-01</td>\n",
       "      <td>2.000000e-01</td>\n",
       "      <td>0.200000</td>\n",
       "      <td>2.000000e-01</td>\n",
       "      <td>-8.000000e-01</td>\n",
       "      <td>2.000000e-01</td>\n",
       "      <td>0.200000</td>\n",
       "    </tr>\n",
       "    <tr>\n",
       "      <th>352</th>\n",
       "      <td>0.339923</td>\n",
       "      <td>3.399235e-01</td>\n",
       "      <td>0.339923</td>\n",
       "      <td>NaN</td>\n",
       "      <td>-1.600765e-01</td>\n",
       "      <td>-0.660077</td>\n",
       "      <td>3.399235e-01</td>\n",
       "      <td>NaN</td>\n",
       "      <td>-8.794643e-01</td>\n",
       "      <td>0.339923</td>\n",
       "    </tr>\n",
       "  </tbody>\n",
       "</table>\n",
       "</div>"
      ],
      "text/plain": [
       "movieId      318           356       296           593           2571  \\\n",
       "userId                                                                  \n",
       "307      0.357143 -1.428571e-01       NaN  3.571429e-01 -6.428571e-01   \n",
       "590      0.111111  6.111111e-01  0.111111 -8.888889e-01 -3.888889e-01   \n",
       "18       0.500000  1.110223e-16 -0.500000  1.110223e-16  1.110223e-16   \n",
       "17       0.222222  2.222222e-01  0.222222 -2.777778e-01  2.222222e-01   \n",
       "249     -0.050000 -5.000000e-02 -0.550000 -5.500000e-01  4.500000e-01   \n",
       "254     -0.166667  3.333333e-01  0.333333 -6.666667e-01  3.333333e-01   \n",
       "561      0.650000 -3.500000e-01  0.150000 -3.500000e-01 -3.500000e-01   \n",
       "480      0.400000  4.000000e-01 -0.600000 -1.000000e-01  4.000000e-01   \n",
       "414      0.200000  2.000000e-01  0.200000 -8.000000e-01  2.000000e-01   \n",
       "352      0.339923  3.399235e-01  0.339923           NaN -1.600765e-01   \n",
       "\n",
       "movieId      260           2959          527           110       50    \n",
       "userId                                                                 \n",
       "307     -0.642857           NaN  3.571429e-01           NaN  0.357143  \n",
       "590      0.611111 -8.888889e-01  6.111111e-01           NaN  0.111111  \n",
       "18      -0.500000  1.110223e-16  1.110223e-16  1.110223e-16  0.500000  \n",
       "17       0.222222 -2.777778e-01 -2.777778e-01           NaN -0.277778  \n",
       "249      0.450000  4.500000e-01 -5.000000e-02  4.500000e-01 -0.550000  \n",
       "254     -0.666667  3.333333e-01  3.333333e-01           NaN -0.166667  \n",
       "561      0.150000 -3.500000e-01 -3.500000e-01  6.500000e-01  0.150000  \n",
       "480     -0.100000 -1.000000e-01  4.000000e-01  4.000000e-01 -1.100000  \n",
       "414      0.200000  2.000000e-01 -8.000000e-01  2.000000e-01  0.200000  \n",
       "352     -0.660077  3.399235e-01           NaN -8.794643e-01  0.339923  "
      ]
     },
     "execution_count": 152,
     "metadata": {},
     "output_type": "execute_result"
    }
   ],
   "source": [
    "data_raw"
   ]
  },
  {
   "cell_type": "code",
   "execution_count": 153,
   "metadata": {},
   "outputs": [
    {
     "data": {
      "text/html": [
       "<div>\n",
       "<style scoped>\n",
       "    .dataframe tbody tr th:only-of-type {\n",
       "        vertical-align: middle;\n",
       "    }\n",
       "\n",
       "    .dataframe tbody tr th {\n",
       "        vertical-align: top;\n",
       "    }\n",
       "\n",
       "    .dataframe thead th {\n",
       "        text-align: right;\n",
       "    }\n",
       "</style>\n",
       "<table border=\"1\" class=\"dataframe\">\n",
       "  <thead>\n",
       "    <tr style=\"text-align: right;\">\n",
       "      <th>userId</th>\n",
       "      <th>307</th>\n",
       "      <th>590</th>\n",
       "      <th>18</th>\n",
       "      <th>17</th>\n",
       "      <th>249</th>\n",
       "      <th>254</th>\n",
       "      <th>561</th>\n",
       "      <th>480</th>\n",
       "      <th>414</th>\n",
       "      <th>352</th>\n",
       "    </tr>\n",
       "    <tr>\n",
       "      <th>movieId</th>\n",
       "      <th></th>\n",
       "      <th></th>\n",
       "      <th></th>\n",
       "      <th></th>\n",
       "      <th></th>\n",
       "      <th></th>\n",
       "      <th></th>\n",
       "      <th></th>\n",
       "      <th></th>\n",
       "      <th></th>\n",
       "    </tr>\n",
       "  </thead>\n",
       "  <tbody>\n",
       "    <tr>\n",
       "      <th>318</th>\n",
       "      <td>0.357143</td>\n",
       "      <td>0.111111</td>\n",
       "      <td>5.000000e-01</td>\n",
       "      <td>0.222222</td>\n",
       "      <td>-0.05</td>\n",
       "      <td>-0.166667</td>\n",
       "      <td>0.65</td>\n",
       "      <td>0.4</td>\n",
       "      <td>0.2</td>\n",
       "      <td>0.339923</td>\n",
       "    </tr>\n",
       "    <tr>\n",
       "      <th>356</th>\n",
       "      <td>-0.142857</td>\n",
       "      <td>0.611111</td>\n",
       "      <td>1.110223e-16</td>\n",
       "      <td>0.222222</td>\n",
       "      <td>-0.05</td>\n",
       "      <td>0.333333</td>\n",
       "      <td>-0.35</td>\n",
       "      <td>0.4</td>\n",
       "      <td>0.2</td>\n",
       "      <td>0.339923</td>\n",
       "    </tr>\n",
       "    <tr>\n",
       "      <th>296</th>\n",
       "      <td>NaN</td>\n",
       "      <td>0.111111</td>\n",
       "      <td>-5.000000e-01</td>\n",
       "      <td>0.222222</td>\n",
       "      <td>-0.55</td>\n",
       "      <td>0.333333</td>\n",
       "      <td>0.15</td>\n",
       "      <td>-0.6</td>\n",
       "      <td>0.2</td>\n",
       "      <td>0.339923</td>\n",
       "    </tr>\n",
       "    <tr>\n",
       "      <th>593</th>\n",
       "      <td>0.357143</td>\n",
       "      <td>-0.888889</td>\n",
       "      <td>1.110223e-16</td>\n",
       "      <td>-0.277778</td>\n",
       "      <td>-0.55</td>\n",
       "      <td>-0.666667</td>\n",
       "      <td>-0.35</td>\n",
       "      <td>-0.1</td>\n",
       "      <td>-0.8</td>\n",
       "      <td>NaN</td>\n",
       "    </tr>\n",
       "    <tr>\n",
       "      <th>2571</th>\n",
       "      <td>-0.642857</td>\n",
       "      <td>-0.388889</td>\n",
       "      <td>1.110223e-16</td>\n",
       "      <td>0.222222</td>\n",
       "      <td>0.45</td>\n",
       "      <td>0.333333</td>\n",
       "      <td>-0.35</td>\n",
       "      <td>0.4</td>\n",
       "      <td>0.2</td>\n",
       "      <td>-0.160077</td>\n",
       "    </tr>\n",
       "    <tr>\n",
       "      <th>260</th>\n",
       "      <td>-0.642857</td>\n",
       "      <td>0.611111</td>\n",
       "      <td>-5.000000e-01</td>\n",
       "      <td>0.222222</td>\n",
       "      <td>0.45</td>\n",
       "      <td>-0.666667</td>\n",
       "      <td>0.15</td>\n",
       "      <td>-0.1</td>\n",
       "      <td>0.2</td>\n",
       "      <td>-0.660077</td>\n",
       "    </tr>\n",
       "    <tr>\n",
       "      <th>2959</th>\n",
       "      <td>NaN</td>\n",
       "      <td>-0.888889</td>\n",
       "      <td>1.110223e-16</td>\n",
       "      <td>-0.277778</td>\n",
       "      <td>0.45</td>\n",
       "      <td>0.333333</td>\n",
       "      <td>-0.35</td>\n",
       "      <td>-0.1</td>\n",
       "      <td>0.2</td>\n",
       "      <td>0.339923</td>\n",
       "    </tr>\n",
       "    <tr>\n",
       "      <th>527</th>\n",
       "      <td>0.357143</td>\n",
       "      <td>0.611111</td>\n",
       "      <td>1.110223e-16</td>\n",
       "      <td>-0.277778</td>\n",
       "      <td>-0.05</td>\n",
       "      <td>0.333333</td>\n",
       "      <td>-0.35</td>\n",
       "      <td>0.4</td>\n",
       "      <td>-0.8</td>\n",
       "      <td>NaN</td>\n",
       "    </tr>\n",
       "    <tr>\n",
       "      <th>110</th>\n",
       "      <td>NaN</td>\n",
       "      <td>NaN</td>\n",
       "      <td>1.110223e-16</td>\n",
       "      <td>NaN</td>\n",
       "      <td>0.45</td>\n",
       "      <td>NaN</td>\n",
       "      <td>0.65</td>\n",
       "      <td>0.4</td>\n",
       "      <td>0.2</td>\n",
       "      <td>-0.879464</td>\n",
       "    </tr>\n",
       "    <tr>\n",
       "      <th>50</th>\n",
       "      <td>0.357143</td>\n",
       "      <td>0.111111</td>\n",
       "      <td>5.000000e-01</td>\n",
       "      <td>-0.277778</td>\n",
       "      <td>-0.55</td>\n",
       "      <td>-0.166667</td>\n",
       "      <td>0.15</td>\n",
       "      <td>-1.1</td>\n",
       "      <td>0.2</td>\n",
       "      <td>0.339923</td>\n",
       "    </tr>\n",
       "  </tbody>\n",
       "</table>\n",
       "</div>"
      ],
      "text/plain": [
       "userId        307       590           18        17    249       254   561  \\\n",
       "movieId                                                                     \n",
       "318      0.357143  0.111111  5.000000e-01  0.222222 -0.05 -0.166667  0.65   \n",
       "356     -0.142857  0.611111  1.110223e-16  0.222222 -0.05  0.333333 -0.35   \n",
       "296           NaN  0.111111 -5.000000e-01  0.222222 -0.55  0.333333  0.15   \n",
       "593      0.357143 -0.888889  1.110223e-16 -0.277778 -0.55 -0.666667 -0.35   \n",
       "2571    -0.642857 -0.388889  1.110223e-16  0.222222  0.45  0.333333 -0.35   \n",
       "260     -0.642857  0.611111 -5.000000e-01  0.222222  0.45 -0.666667  0.15   \n",
       "2959          NaN -0.888889  1.110223e-16 -0.277778  0.45  0.333333 -0.35   \n",
       "527      0.357143  0.611111  1.110223e-16 -0.277778 -0.05  0.333333 -0.35   \n",
       "110           NaN       NaN  1.110223e-16       NaN  0.45       NaN  0.65   \n",
       "50       0.357143  0.111111  5.000000e-01 -0.277778 -0.55 -0.166667  0.15   \n",
       "\n",
       "userId   480  414       352  \n",
       "movieId                      \n",
       "318      0.4  0.2  0.339923  \n",
       "356      0.4  0.2  0.339923  \n",
       "296     -0.6  0.2  0.339923  \n",
       "593     -0.1 -0.8       NaN  \n",
       "2571     0.4  0.2 -0.160077  \n",
       "260     -0.1  0.2 -0.660077  \n",
       "2959    -0.1  0.2  0.339923  \n",
       "527      0.4 -0.8       NaN  \n",
       "110      0.4  0.2 -0.879464  \n",
       "50      -1.1  0.2  0.339923  "
      ]
     },
     "execution_count": 153,
     "metadata": {},
     "output_type": "execute_result"
    }
   ],
   "source": [
    "# We are going to need to transform this\n",
    "data_raw.T"
   ]
  },
  {
   "cell_type": "code",
   "execution_count": 154,
   "metadata": {},
   "outputs": [
    {
     "data": {
      "text/plain": [
       "movieId\n",
       "318     0.357143\n",
       "356    -0.142857\n",
       "296          NaN\n",
       "593     0.357143\n",
       "2571   -0.642857\n",
       "260    -0.642857\n",
       "2959         NaN\n",
       "527     0.357143\n",
       "110          NaN\n",
       "50      0.357143\n",
       "Name: 307, dtype: float64"
      ]
     },
     "execution_count": 154,
     "metadata": {},
     "output_type": "execute_result"
    }
   ],
   "source": [
    "x_raw"
   ]
  },
  {
   "cell_type": "code",
   "execution_count": 155,
   "metadata": {},
   "outputs": [
    {
     "data": {
      "text/plain": [
       "Int64Index([356, 318, 260, 2571, 527], dtype='int64', name='movieId')"
      ]
     },
     "execution_count": 155,
     "metadata": {},
     "output_type": "execute_result"
    }
   ],
   "source": [
    "train_movies"
   ]
  },
  {
   "cell_type": "code",
   "execution_count": 156,
   "metadata": {},
   "outputs": [
    {
     "data": {
      "text/plain": [
       "Int64Index([50, 593], dtype='int64', name='movieId')"
      ]
     },
     "execution_count": 156,
     "metadata": {},
     "output_type": "execute_result"
    }
   ],
   "source": [
    "test_movies"
   ]
  },
  {
   "cell_type": "code",
   "execution_count": 157,
   "metadata": {},
   "outputs": [
    {
     "data": {
      "text/plain": [
       "50"
      ]
     },
     "execution_count": 157,
     "metadata": {},
     "output_type": "execute_result"
    }
   ],
   "source": [
    "# This is the movie we are still trying to predict (i.e., from the testing set we pick the first one)\n",
    "movie"
   ]
  },
  {
   "cell_type": "markdown",
   "metadata": {},
   "source": [
    "The intuition behind item-item is we want to predict the rating of a movie based on the user's ratings on similar movies. In other words, if we knew that most similar movies to 527 were 356, 318, and 296, then we would calculate our prediction like this:"
   ]
  },
  {
   "cell_type": "code",
   "execution_count": 158,
   "metadata": {},
   "outputs": [
    {
     "data": {
      "text/plain": [
       "movieId\n",
       "356   -0.142857\n",
       "318    0.357143\n",
       "296         NaN\n",
       "Name: 307, dtype: float64"
      ]
     },
     "execution_count": 158,
     "metadata": {},
     "output_type": "execute_result"
    }
   ],
   "source": [
    "# the use of 'rating' is just an artifact of pandas transformations\n",
    "ids = [356,318,296]\n",
    "x_raw.loc[ids]"
   ]
  },
  {
   "cell_type": "code",
   "execution_count": 159,
   "metadata": {},
   "outputs": [
    {
     "data": {
      "text/plain": [
       "0.10714285714285698"
      ]
     },
     "execution_count": 159,
     "metadata": {},
     "output_type": "execute_result"
    }
   ],
   "source": [
    "# so we could predict like this\n",
    "x_raw.loc[ids].mean()"
   ]
  },
  {
   "cell_type": "code",
   "execution_count": 160,
   "metadata": {},
   "outputs": [],
   "source": [
    "# but wait, why would we even includ movie 296? The above mean ignores this in the calculation,\n",
    "# so it is better to just prevent this from happening, we can do that when we search the neighborhood!"
   ]
  },
  {
   "cell_type": "code",
   "execution_count": 161,
   "metadata": {},
   "outputs": [
    {
     "data": {
      "text/html": [
       "<div>\n",
       "<style scoped>\n",
       "    .dataframe tbody tr th:only-of-type {\n",
       "        vertical-align: middle;\n",
       "    }\n",
       "\n",
       "    .dataframe tbody tr th {\n",
       "        vertical-align: top;\n",
       "    }\n",
       "\n",
       "    .dataframe thead th {\n",
       "        text-align: right;\n",
       "    }\n",
       "</style>\n",
       "<table border=\"1\" class=\"dataframe\">\n",
       "  <thead>\n",
       "    <tr style=\"text-align: right;\">\n",
       "      <th>userId</th>\n",
       "      <th>307</th>\n",
       "      <th>590</th>\n",
       "      <th>18</th>\n",
       "      <th>17</th>\n",
       "      <th>249</th>\n",
       "      <th>254</th>\n",
       "      <th>561</th>\n",
       "      <th>480</th>\n",
       "      <th>414</th>\n",
       "      <th>352</th>\n",
       "    </tr>\n",
       "    <tr>\n",
       "      <th>movieId</th>\n",
       "      <th></th>\n",
       "      <th></th>\n",
       "      <th></th>\n",
       "      <th></th>\n",
       "      <th></th>\n",
       "      <th></th>\n",
       "      <th></th>\n",
       "      <th></th>\n",
       "      <th></th>\n",
       "      <th></th>\n",
       "    </tr>\n",
       "  </thead>\n",
       "  <tbody>\n",
       "    <tr>\n",
       "      <th>318</th>\n",
       "      <td>0.357143</td>\n",
       "      <td>0.111111</td>\n",
       "      <td>5.000000e-01</td>\n",
       "      <td>0.222222</td>\n",
       "      <td>-0.05</td>\n",
       "      <td>-0.166667</td>\n",
       "      <td>0.65</td>\n",
       "      <td>0.4</td>\n",
       "      <td>0.2</td>\n",
       "      <td>0.339923</td>\n",
       "    </tr>\n",
       "    <tr>\n",
       "      <th>356</th>\n",
       "      <td>-0.142857</td>\n",
       "      <td>0.611111</td>\n",
       "      <td>1.110223e-16</td>\n",
       "      <td>0.222222</td>\n",
       "      <td>-0.05</td>\n",
       "      <td>0.333333</td>\n",
       "      <td>-0.35</td>\n",
       "      <td>0.4</td>\n",
       "      <td>0.2</td>\n",
       "      <td>0.339923</td>\n",
       "    </tr>\n",
       "    <tr>\n",
       "      <th>296</th>\n",
       "      <td>0.000000</td>\n",
       "      <td>0.111111</td>\n",
       "      <td>-5.000000e-01</td>\n",
       "      <td>0.222222</td>\n",
       "      <td>-0.55</td>\n",
       "      <td>0.333333</td>\n",
       "      <td>0.15</td>\n",
       "      <td>-0.6</td>\n",
       "      <td>0.2</td>\n",
       "      <td>0.339923</td>\n",
       "    </tr>\n",
       "    <tr>\n",
       "      <th>593</th>\n",
       "      <td>0.357143</td>\n",
       "      <td>-0.888889</td>\n",
       "      <td>1.110223e-16</td>\n",
       "      <td>-0.277778</td>\n",
       "      <td>-0.55</td>\n",
       "      <td>-0.666667</td>\n",
       "      <td>-0.35</td>\n",
       "      <td>-0.1</td>\n",
       "      <td>-0.8</td>\n",
       "      <td>0.000000</td>\n",
       "    </tr>\n",
       "    <tr>\n",
       "      <th>2571</th>\n",
       "      <td>-0.642857</td>\n",
       "      <td>-0.388889</td>\n",
       "      <td>1.110223e-16</td>\n",
       "      <td>0.222222</td>\n",
       "      <td>0.45</td>\n",
       "      <td>0.333333</td>\n",
       "      <td>-0.35</td>\n",
       "      <td>0.4</td>\n",
       "      <td>0.2</td>\n",
       "      <td>-0.160077</td>\n",
       "    </tr>\n",
       "    <tr>\n",
       "      <th>260</th>\n",
       "      <td>-0.642857</td>\n",
       "      <td>0.611111</td>\n",
       "      <td>-5.000000e-01</td>\n",
       "      <td>0.222222</td>\n",
       "      <td>0.45</td>\n",
       "      <td>-0.666667</td>\n",
       "      <td>0.15</td>\n",
       "      <td>-0.1</td>\n",
       "      <td>0.2</td>\n",
       "      <td>-0.660077</td>\n",
       "    </tr>\n",
       "    <tr>\n",
       "      <th>2959</th>\n",
       "      <td>0.000000</td>\n",
       "      <td>-0.888889</td>\n",
       "      <td>1.110223e-16</td>\n",
       "      <td>-0.277778</td>\n",
       "      <td>0.45</td>\n",
       "      <td>0.333333</td>\n",
       "      <td>-0.35</td>\n",
       "      <td>-0.1</td>\n",
       "      <td>0.2</td>\n",
       "      <td>0.339923</td>\n",
       "    </tr>\n",
       "    <tr>\n",
       "      <th>527</th>\n",
       "      <td>0.357143</td>\n",
       "      <td>0.611111</td>\n",
       "      <td>1.110223e-16</td>\n",
       "      <td>-0.277778</td>\n",
       "      <td>-0.05</td>\n",
       "      <td>0.333333</td>\n",
       "      <td>-0.35</td>\n",
       "      <td>0.4</td>\n",
       "      <td>-0.8</td>\n",
       "      <td>0.000000</td>\n",
       "    </tr>\n",
       "    <tr>\n",
       "      <th>110</th>\n",
       "      <td>0.000000</td>\n",
       "      <td>0.000000</td>\n",
       "      <td>1.110223e-16</td>\n",
       "      <td>0.000000</td>\n",
       "      <td>0.45</td>\n",
       "      <td>0.000000</td>\n",
       "      <td>0.65</td>\n",
       "      <td>0.4</td>\n",
       "      <td>0.2</td>\n",
       "      <td>-0.879464</td>\n",
       "    </tr>\n",
       "    <tr>\n",
       "      <th>50</th>\n",
       "      <td>0.357143</td>\n",
       "      <td>0.111111</td>\n",
       "      <td>5.000000e-01</td>\n",
       "      <td>-0.277778</td>\n",
       "      <td>-0.55</td>\n",
       "      <td>-0.166667</td>\n",
       "      <td>0.15</td>\n",
       "      <td>-1.1</td>\n",
       "      <td>0.2</td>\n",
       "      <td>0.339923</td>\n",
       "    </tr>\n",
       "  </tbody>\n",
       "</table>\n",
       "</div>"
      ],
      "text/plain": [
       "userId        307       590           18        17    249       254   561  \\\n",
       "movieId                                                                     \n",
       "318      0.357143  0.111111  5.000000e-01  0.222222 -0.05 -0.166667  0.65   \n",
       "356     -0.142857  0.611111  1.110223e-16  0.222222 -0.05  0.333333 -0.35   \n",
       "296      0.000000  0.111111 -5.000000e-01  0.222222 -0.55  0.333333  0.15   \n",
       "593      0.357143 -0.888889  1.110223e-16 -0.277778 -0.55 -0.666667 -0.35   \n",
       "2571    -0.642857 -0.388889  1.110223e-16  0.222222  0.45  0.333333 -0.35   \n",
       "260     -0.642857  0.611111 -5.000000e-01  0.222222  0.45 -0.666667  0.15   \n",
       "2959     0.000000 -0.888889  1.110223e-16 -0.277778  0.45  0.333333 -0.35   \n",
       "527      0.357143  0.611111  1.110223e-16 -0.277778 -0.05  0.333333 -0.35   \n",
       "110      0.000000  0.000000  1.110223e-16  0.000000  0.45  0.000000  0.65   \n",
       "50       0.357143  0.111111  5.000000e-01 -0.277778 -0.55 -0.166667  0.15   \n",
       "\n",
       "userId   480  414       352  \n",
       "movieId                      \n",
       "318      0.4  0.2  0.339923  \n",
       "356      0.4  0.2  0.339923  \n",
       "296     -0.6  0.2  0.339923  \n",
       "593     -0.1 -0.8  0.000000  \n",
       "2571     0.4  0.2 -0.160077  \n",
       "260     -0.1  0.2 -0.660077  \n",
       "2959    -0.1  0.2  0.339923  \n",
       "527      0.4 -0.8  0.000000  \n",
       "110      0.4  0.2 -0.879464  \n",
       "50      -1.1  0.2  0.339923  "
      ]
     },
     "execution_count": 161,
     "metadata": {},
     "output_type": "execute_result"
    }
   ],
   "source": [
    "test_data = data_raw.T.fillna(0)\n",
    "test_data"
   ]
  },
  {
   "cell_type": "code",
   "execution_count": 162,
   "metadata": {},
   "outputs": [
    {
     "data": {
      "text/plain": [
       "userId\n",
       "590    0.111111\n",
       "18     0.500000\n",
       "17    -0.277778\n",
       "249   -0.550000\n",
       "254   -0.166667\n",
       "561    0.150000\n",
       "480   -1.100000\n",
       "414    0.200000\n",
       "352    0.339923\n",
       "Name: 50, dtype: float64"
      ]
     },
     "execution_count": 162,
     "metadata": {},
     "output_type": "execute_result"
    }
   ],
   "source": [
    "# The following lines are the same as the single line left below\n",
    "x = test_data.loc[movie].drop(x_raw.name)\n",
    "x"
   ]
  },
  {
   "cell_type": "code",
   "execution_count": 163,
   "metadata": {},
   "outputs": [
    {
     "data": {
      "text/html": [
       "<div>\n",
       "<style scoped>\n",
       "    .dataframe tbody tr th:only-of-type {\n",
       "        vertical-align: middle;\n",
       "    }\n",
       "\n",
       "    .dataframe tbody tr th {\n",
       "        vertical-align: top;\n",
       "    }\n",
       "\n",
       "    .dataframe thead th {\n",
       "        text-align: right;\n",
       "    }\n",
       "</style>\n",
       "<table border=\"1\" class=\"dataframe\">\n",
       "  <thead>\n",
       "    <tr style=\"text-align: right;\">\n",
       "      <th>userId</th>\n",
       "      <th>590</th>\n",
       "      <th>18</th>\n",
       "      <th>17</th>\n",
       "      <th>249</th>\n",
       "      <th>254</th>\n",
       "      <th>561</th>\n",
       "      <th>480</th>\n",
       "      <th>414</th>\n",
       "      <th>352</th>\n",
       "    </tr>\n",
       "    <tr>\n",
       "      <th>movieId</th>\n",
       "      <th></th>\n",
       "      <th></th>\n",
       "      <th></th>\n",
       "      <th></th>\n",
       "      <th></th>\n",
       "      <th></th>\n",
       "      <th></th>\n",
       "      <th></th>\n",
       "      <th></th>\n",
       "    </tr>\n",
       "  </thead>\n",
       "  <tbody>\n",
       "    <tr>\n",
       "      <th>356</th>\n",
       "      <td>0.611111</td>\n",
       "      <td>1.110223e-16</td>\n",
       "      <td>0.222222</td>\n",
       "      <td>-0.05</td>\n",
       "      <td>0.333333</td>\n",
       "      <td>-0.35</td>\n",
       "      <td>0.4</td>\n",
       "      <td>0.2</td>\n",
       "      <td>0.339923</td>\n",
       "    </tr>\n",
       "    <tr>\n",
       "      <th>318</th>\n",
       "      <td>0.111111</td>\n",
       "      <td>5.000000e-01</td>\n",
       "      <td>0.222222</td>\n",
       "      <td>-0.05</td>\n",
       "      <td>-0.166667</td>\n",
       "      <td>0.65</td>\n",
       "      <td>0.4</td>\n",
       "      <td>0.2</td>\n",
       "      <td>0.339923</td>\n",
       "    </tr>\n",
       "    <tr>\n",
       "      <th>260</th>\n",
       "      <td>0.611111</td>\n",
       "      <td>-5.000000e-01</td>\n",
       "      <td>0.222222</td>\n",
       "      <td>0.45</td>\n",
       "      <td>-0.666667</td>\n",
       "      <td>0.15</td>\n",
       "      <td>-0.1</td>\n",
       "      <td>0.2</td>\n",
       "      <td>-0.660077</td>\n",
       "    </tr>\n",
       "    <tr>\n",
       "      <th>2571</th>\n",
       "      <td>-0.388889</td>\n",
       "      <td>1.110223e-16</td>\n",
       "      <td>0.222222</td>\n",
       "      <td>0.45</td>\n",
       "      <td>0.333333</td>\n",
       "      <td>-0.35</td>\n",
       "      <td>0.4</td>\n",
       "      <td>0.2</td>\n",
       "      <td>-0.160077</td>\n",
       "    </tr>\n",
       "    <tr>\n",
       "      <th>527</th>\n",
       "      <td>0.611111</td>\n",
       "      <td>1.110223e-16</td>\n",
       "      <td>-0.277778</td>\n",
       "      <td>-0.05</td>\n",
       "      <td>0.333333</td>\n",
       "      <td>-0.35</td>\n",
       "      <td>0.4</td>\n",
       "      <td>-0.8</td>\n",
       "      <td>0.000000</td>\n",
       "    </tr>\n",
       "  </tbody>\n",
       "</table>\n",
       "</div>"
      ],
      "text/plain": [
       "userId        590           18        17    249       254   561  480  414  \\\n",
       "movieId                                                                     \n",
       "356      0.611111  1.110223e-16  0.222222 -0.05  0.333333 -0.35  0.4  0.2   \n",
       "318      0.111111  5.000000e-01  0.222222 -0.05 -0.166667  0.65  0.4  0.2   \n",
       "260      0.611111 -5.000000e-01  0.222222  0.45 -0.666667  0.15 -0.1  0.2   \n",
       "2571    -0.388889  1.110223e-16  0.222222  0.45  0.333333 -0.35  0.4  0.2   \n",
       "527      0.611111  1.110223e-16 -0.277778 -0.05  0.333333 -0.35  0.4 -0.8   \n",
       "\n",
       "userId        352  \n",
       "movieId            \n",
       "356      0.339923  \n",
       "318      0.339923  \n",
       "260     -0.660077  \n",
       "2571    -0.160077  \n",
       "527      0.000000  "
      ]
     },
     "execution_count": 163,
     "metadata": {},
     "output_type": "execute_result"
    }
   ],
   "source": [
    "db_subset = test_data.loc[train_movies].drop(x_raw.name,axis=1)\n",
    "db_subset"
   ]
  },
  {
   "cell_type": "code",
   "execution_count": 164,
   "metadata": {},
   "outputs": [
    {
     "data": {
      "text/plain": [
       "movieId\n",
       "356     0.373302\n",
       "318     0.523122\n",
       "260     0.388608\n",
       "2571    0.156600\n",
       "527     0.346925\n",
       "dtype: float64"
      ]
     },
     "execution_count": 164,
     "metadata": {},
     "output_type": "execute_result"
    }
   ],
   "source": [
    "sims = (db_subset.apply(lambda y: (y.values*x.values).sum()/(np.sqrt((y**2).sum())*np.sqrt((x**2).sum())),axis=1)+1)/2\n",
    "sims"
   ]
  },
  {
   "cell_type": "code",
   "execution_count": 165,
   "metadata": {},
   "outputs": [
    {
     "data": {
      "text/plain": [
       "movieId\n",
       "318    0.523122\n",
       "260    0.388608\n",
       "dtype: float64"
      ]
     },
     "execution_count": 165,
     "metadata": {},
     "output_type": "execute_result"
    }
   ],
   "source": [
    "top_sims = sims.sort_values(ascending=False).iloc[:N]\n",
    "top_sims"
   ]
  },
  {
   "cell_type": "code",
   "execution_count": 166,
   "metadata": {},
   "outputs": [
    {
     "data": {
      "text/plain": [
       "Int64Index([318, 260], dtype='int64', name='movieId')"
      ]
     },
     "execution_count": 166,
     "metadata": {},
     "output_type": "execute_result"
    }
   ],
   "source": [
    "ids = top_sims.index\n",
    "ids"
   ]
  },
  {
   "cell_type": "code",
   "execution_count": 167,
   "metadata": {},
   "outputs": [
    {
     "data": {
      "text/plain": [
       "-0.14285714285714302"
      ]
     },
     "execution_count": 167,
     "metadata": {},
     "output_type": "execute_result"
    }
   ],
   "source": [
    "pred = x_raw.loc[ids].mean()\n",
    "pred"
   ]
  },
  {
   "cell_type": "code",
   "execution_count": 168,
   "metadata": {},
   "outputs": [
    {
     "data": {
      "text/plain": [
       "movieId\n",
       "318    0.357143\n",
       "260   -0.642857\n",
       "Name: 307, dtype: float64"
      ]
     },
     "execution_count": 168,
     "metadata": {},
     "output_type": "execute_result"
    }
   ],
   "source": [
    "x_raw.loc[ids]"
   ]
  },
  {
   "cell_type": "code",
   "execution_count": 169,
   "metadata": {},
   "outputs": [
    {
     "data": {
      "text/plain": [
       "movieId\n",
       "318    0.523122\n",
       "260    0.388608\n",
       "dtype: float64"
      ]
     },
     "execution_count": 169,
     "metadata": {},
     "output_type": "execute_result"
    }
   ],
   "source": [
    "top_sims"
   ]
  },
  {
   "cell_type": "code",
   "execution_count": 170,
   "metadata": {},
   "outputs": [
    {
     "data": {
      "text/plain": [
       "-0.06908832887167508"
      ]
     },
     "execution_count": 170,
     "metadata": {},
     "output_type": "execute_result"
    }
   ],
   "source": [
    "weighted_pred = x_raw.loc[ids].multiply(top_sims,axis=0).sum()/top_sims.sum()\n",
    "weighted_pred"
   ]
  },
  {
   "cell_type": "code",
   "execution_count": 171,
   "metadata": {},
   "outputs": [
    {
     "name": "stdout",
     "output_type": "stream",
     "text": [
      "MAE of unweighted: 0.5\n",
      "MAE of weighted: 0.4262311860145321\n"
     ]
    }
   ],
   "source": [
    "print(\"MAE of unweighted:\",np.abs(actual-pred))\n",
    "print(\"MAE of weighted:\",np.abs(actual-weighted_pred))"
   ]
  },
  {
   "cell_type": "code",
   "execution_count": null,
   "metadata": {},
   "outputs": [],
   "source": []
  }
 ],
 "metadata": {
  "celltoolbar": "Slideshow",
  "hide_code_all_hidden": false,
  "jupytext": {
   "encoding": "# -*- coding: utf-8 -*-",
   "formats": "ipynb,md,py"
  },
  "kernelspec": {
   "display_name": "Python 3",
   "language": "python",
   "name": "python3"
  },
  "language_info": {
   "codemirror_mode": {
    "name": "ipython",
    "version": 3
   },
   "file_extension": ".py",
   "mimetype": "text/x-python",
   "name": "python",
   "nbconvert_exporter": "python",
   "pygments_lexer": "ipython3",
   "version": "3.7.3"
  }
 },
 "nbformat": 4,
 "nbformat_minor": 4
}
