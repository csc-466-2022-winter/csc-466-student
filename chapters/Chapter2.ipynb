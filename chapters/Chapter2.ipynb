{
 "cells": [
  {
   "cell_type": "markdown",
   "metadata": {
    "hideCode": false,
    "hidePrompt": false,
    "slideshow": {
     "slide_type": "slide"
    }
   },
   "source": [
    "# Chapter 2 - Preliminaries and Bayesian Classification\n",
    "\n",
    "Paul E. Anderson"
   ]
  },
  {
   "cell_type": "code",
   "execution_count": 2,
   "metadata": {
    "slideshow": {
     "slide_type": "skip"
    }
   },
   "outputs": [],
   "source": [
    "%load_ext autoreload\n",
    "%autoreload 2\n",
    "\n",
    "from pathlib import Path\n",
    "home = str(Path.home()) # all other paths are relative to this path. change to something else if this is not the case on your system"
   ]
  },
  {
   "cell_type": "markdown",
   "metadata": {
    "slideshow": {
     "slide_type": "subslide"
    }
   },
   "source": [
    "## Fruit Classification with Naive Bayes Classifier\n",
    "\n",
    "Consider a pattern recognition problem where we want to sort fruit on an assembly line. We want all the apples to be sorted with all the apples, all the oranges with the oranges, etc. We have a variety of sensor data at our displosal such as mass and width of the fruit. **How do we accomplish this and what knowledge can we extract?**\n",
    "\n",
    "One of the first goals of any KDD or data science problem is to perform an exploratory data analysis (EDA). We will do this now. This notebook is set up for you to follow along and type as I type. "
   ]
  },
  {
   "cell_type": "markdown",
   "metadata": {
    "slideshow": {
     "slide_type": "subslide"
    }
   },
   "source": [
    "### Reading in the data\n",
    "\n",
    "**Stop and think: How do you display the first 5 lines of the dataframe?**"
   ]
  },
  {
   "cell_type": "code",
   "execution_count": 10,
   "metadata": {
    "slideshow": {
     "slide_type": "fragment"
    }
   },
   "outputs": [
    {
     "data": {
      "text/html": [
       "<div>\n",
       "<style scoped>\n",
       "    .dataframe tbody tr th:only-of-type {\n",
       "        vertical-align: middle;\n",
       "    }\n",
       "\n",
       "    .dataframe tbody tr th {\n",
       "        vertical-align: top;\n",
       "    }\n",
       "\n",
       "    .dataframe thead th {\n",
       "        text-align: right;\n",
       "    }\n",
       "</style>\n",
       "<table border=\"1\" class=\"dataframe\">\n",
       "  <thead>\n",
       "    <tr style=\"text-align: right;\">\n",
       "      <th></th>\n",
       "      <th>fruit_label</th>\n",
       "      <th>fruit_name</th>\n",
       "      <th>fruit_subtype</th>\n",
       "      <th>mass</th>\n",
       "      <th>width</th>\n",
       "      <th>height</th>\n",
       "      <th>color_score</th>\n",
       "    </tr>\n",
       "  </thead>\n",
       "  <tbody>\n",
       "    <tr>\n",
       "      <th>0</th>\n",
       "      <td>1</td>\n",
       "      <td>apple</td>\n",
       "      <td>granny_smith</td>\n",
       "      <td>192</td>\n",
       "      <td>8.4</td>\n",
       "      <td>7.3</td>\n",
       "      <td>0.55</td>\n",
       "    </tr>\n",
       "    <tr>\n",
       "      <th>1</th>\n",
       "      <td>1</td>\n",
       "      <td>apple</td>\n",
       "      <td>granny_smith</td>\n",
       "      <td>180</td>\n",
       "      <td>8.0</td>\n",
       "      <td>6.8</td>\n",
       "      <td>0.59</td>\n",
       "    </tr>\n",
       "    <tr>\n",
       "      <th>2</th>\n",
       "      <td>1</td>\n",
       "      <td>apple</td>\n",
       "      <td>granny_smith</td>\n",
       "      <td>176</td>\n",
       "      <td>7.4</td>\n",
       "      <td>7.2</td>\n",
       "      <td>0.60</td>\n",
       "    </tr>\n",
       "    <tr>\n",
       "      <th>3</th>\n",
       "      <td>2</td>\n",
       "      <td>mandarin</td>\n",
       "      <td>mandarin</td>\n",
       "      <td>86</td>\n",
       "      <td>6.2</td>\n",
       "      <td>4.7</td>\n",
       "      <td>0.80</td>\n",
       "    </tr>\n",
       "    <tr>\n",
       "      <th>4</th>\n",
       "      <td>2</td>\n",
       "      <td>mandarin</td>\n",
       "      <td>mandarin</td>\n",
       "      <td>84</td>\n",
       "      <td>6.0</td>\n",
       "      <td>4.6</td>\n",
       "      <td>0.79</td>\n",
       "    </tr>\n",
       "  </tbody>\n",
       "</table>\n",
       "</div>"
      ],
      "text/plain": [
       "   fruit_label fruit_name fruit_subtype  mass  width  height  color_score\n",
       "0            1      apple  granny_smith   192    8.4     7.3         0.55\n",
       "1            1      apple  granny_smith   180    8.0     6.8         0.59\n",
       "2            1      apple  granny_smith   176    7.4     7.2         0.60\n",
       "3            2   mandarin      mandarin    86    6.2     4.7         0.80\n",
       "4            2   mandarin      mandarin    84    6.0     4.6         0.79"
      ]
     },
     "execution_count": 10,
     "metadata": {},
     "output_type": "execute_result"
    }
   ],
   "source": [
    "import pandas as pd\n",
    "import numpy as np\n",
    "\n",
    "fruits = pd.read_csv(f'{home}/csc-466-student/data/fruit_data_with_colours.csv')\n",
    "# YOUR SOLUTION HERE"
   ]
  },
  {
   "cell_type": "markdown",
   "metadata": {
    "slideshow": {
     "slide_type": "subslide"
    }
   },
   "source": [
    "**Stop and think: Can you extract the column names?**"
   ]
  },
  {
   "cell_type": "code",
   "execution_count": 11,
   "metadata": {
    "slideshow": {
     "slide_type": "fragment"
    }
   },
   "outputs": [
    {
     "data": {
      "text/plain": [
       "0      fruit_label\n",
       "1       fruit_name\n",
       "2    fruit_subtype\n",
       "3             mass\n",
       "4            width\n",
       "5           height\n",
       "6      color_score\n",
       "dtype: object"
      ]
     },
     "execution_count": 11,
     "metadata": {},
     "output_type": "execute_result"
    }
   ],
   "source": [
   ]
  },
  {
   "cell_type": "markdown",
   "metadata": {
    "slideshow": {
     "slide_type": "subslide"
    }
   },
   "source": [
    "**Terminology note:** I will often in this course refer to most of these columns as \"features\". This is standard terminology in KDD/ML/AI."
   ]
  },
  {
   "cell_type": "markdown",
   "metadata": {
    "slideshow": {
     "slide_type": "subslide"
    }
   },
   "source": [
    "**Stop and think: How many examples of fruit do we have?**"
   ]
  },
  {
   "cell_type": "code",
   "execution_count": 12,
   "metadata": {
    "slideshow": {
     "slide_type": "fragment"
    }
   },
   "outputs": [
    {
     "data": {
      "text/plain": [
       "59"
      ]
     },
     "execution_count": 12,
     "metadata": {},
     "output_type": "execute_result"
    }
   ],
   "source": [
   ]
  },
  {
   "cell_type": "markdown",
   "metadata": {
    "slideshow": {
     "slide_type": "subslide"
    }
   },
   "source": [
    "**Stop and think: What are you unique fruit names in our dataset?**"
   ]
  },
  {
   "cell_type": "code",
   "execution_count": 13,
   "metadata": {
    "slideshow": {
     "slide_type": "fragment"
    }
   },
   "outputs": [
    {
     "data": {
      "text/plain": [
       "array(['apple', 'mandarin', 'orange', 'lemon'], dtype=object)"
      ]
     },
     "execution_count": 13,
     "metadata": {},
     "output_type": "execute_result"
    }
   ],
   "source": [
   ]
  },
  {
   "cell_type": "markdown",
   "metadata": {
    "slideshow": {
     "slide_type": "subslide"
    }
   },
   "source": [
    "**Stop and think: What are you unique fruit names in our dataset (take 2)?**"
   ]
  },
  {
   "cell_type": "code",
   "execution_count": 14,
   "metadata": {
    "slideshow": {
     "slide_type": "fragment"
    }
   },
   "outputs": [
    {
     "data": {
      "text/plain": [
       "array(['apple', 'mandarin', 'orange', 'lemon'], dtype=object)"
      ]
     },
     "execution_count": 14,
     "metadata": {},
     "output_type": "execute_result"
    }
   ],
   "source": [
   ]
  },
  {
   "cell_type": "markdown",
   "metadata": {
    "slideshow": {
     "slide_type": "subslide"
    }
   },
   "source": [
    "**Stop and think: Write some code to count the number of each type of fruit**"
   ]
  },
  {
   "cell_type": "code",
   "execution_count": 15,
   "metadata": {
    "slideshow": {
     "slide_type": "fragment"
    }
   },
   "outputs": [
    {
     "data": {
      "text/plain": [
       "apple       19\n",
       "orange      19\n",
       "lemon       16\n",
       "mandarin     5\n",
       "Name: fruit_name, dtype: int64"
      ]
     },
     "execution_count": 15,
     "metadata": {},
     "output_type": "execute_result"
    }
   ],
   "source": [
   ]
  },
  {
   "cell_type": "markdown",
   "metadata": {
    "slideshow": {
     "slide_type": "subslide"
    }
   },
   "source": [
    "**Stop and think: Is there an easy way to plot this with Pandas?**"
   ]
  },
  {
   "cell_type": "code",
   "execution_count": 16,
   "metadata": {
    "slideshow": {
     "slide_type": "fragment"
    }
   },
   "outputs": [
    {
     "data": {
      "image/png": "[encoded data removed]",
      "text/plain": [
       "<Figure size 432x288 with 1 Axes>"
      ]
     },
     "metadata": {
      "needs_background": "light"
     },
     "output_type": "display_data"
    }
   ],
   "source": [
   ]
  },
  {
   "cell_type": "markdown",
   "metadata": {
    "slideshow": {
     "slide_type": "subslide"
    }
   },
   "source": [
    "### Scope of this course\n",
    "\n",
    "While this course could be taught without leveraging Pandas and NumPy and other packages, it is important to be ready day one and this means learning about common technologies. In other words, we will learn a bit about things such as matplotlib and altair. "
   ]
  },
  {
   "cell_type": "markdown",
   "metadata": {
    "slideshow": {
     "slide_type": "subslide"
    }
   },
   "source": [
    "**Stop and think: Without any other information, how likely is it that a piece of fruit is a mandarin?** \n",
    "\n",
    "${\\it Prob}({\\it fruit\\_name}={\\it mandarin}) = ?$ \n",
    "\n",
    "Note: when it is convienent and non-ambiguous, we will use shorthands such as ${\\it Prob}({\\it fruit\\_name}={\\it mandarin}) = P(mandarin)$"
   ]
  },
  {
   "cell_type": "markdown",
   "metadata": {
    "slideshow": {
     "slide_type": "subslide"
    }
   },
   "source": [
    "#### What is your answer?"
   ]
  },
  {
   "cell_type": "markdown",
   "metadata": {
    "slideshow": {
     "slide_type": "subslide"
    }
   },
   "source": [
    "What if you know a little bit about the fruit? Let's say you know it has a width of 8.4. What is the probility it is a mandarin now? \n",
    "\n",
    "$P({\\it mandarin}|width=7.4)$? \n",
    "\n",
    "Consider the following code:"
   ]
  },
  {
   "cell_type": "code",
   "execution_count": 23,
   "metadata": {
    "slideshow": {
     "slide_type": "fragment"
    }
   },
   "outputs": [
    {
     "data": {
      "text/plain": [
       "1"
      ]
     },
     "execution_count": 23,
     "metadata": {},
     "output_type": "execute_result"
    }
   ],
   "source": [
    "sum(fruits.width == 8.4)"
   ]
  },
  {
   "cell_type": "markdown",
   "metadata": {
    "slideshow": {
     "slide_type": "fragment"
    }
   },
   "source": [
    "So ... is it 1/59?"
   ]
  },
  {
   "cell_type": "markdown",
   "metadata": {
    "slideshow": {
     "slide_type": "subslide"
    }
   },
   "source": [
    "We need to break down $P({\\it mandarin}|width=8.4)$. \n",
    "\n",
    "What does the vertical bar mean?"
   ]
  },
  {
   "cell_type": "markdown",
   "metadata": {
    "slideshow": {
     "slide_type": "fragment"
    }
   },
   "source": [
    "This is a conditional probability. What we specify after the vertical bar restricts what we consider when calculating the probability. So in this example, we restrict the world to fruits of width of 8.4. \n",
    "\n",
    "How many fruits are there in the dataset with width=8.4?"
   ]
  },
  {
   "cell_type": "markdown",
   "metadata": {
    "slideshow": {
     "slide_type": "fragment"
    }
   },
   "source": [
    "1 ..."
   ]
  },
  {
   "cell_type": "markdown",
   "metadata": {
    "slideshow": {
     "slide_type": "subslide"
    }
   },
   "source": [
    "1 is a lonely number in statistics for sure. How can we get an idea of anything when we have just 1 of something?\n",
    "\n",
    "We have two approaches we can now take:\n",
    "\n",
    "1. Parametric\n",
    "    1. Assume each of the features follow a parametric distribution (e.g., Gaussian, uniform)\n",
    "    2. Estimate the parameters of the distribution ($\\mu$,$\\sigma$)\n",
    "2. Non-parametric\n",
    "    1. Histogram sampling\n",
    "    2. Bin width is critical\n",
    "    3. Smoothing can help"
   ]
  },
  {
   "cell_type": "markdown",
   "metadata": {
    "slideshow": {
     "slide_type": "subslide"
    }
   },
   "source": [
    "Back to our fruit with a width of 8.4. Let's take a look at the distribution of that features. \n",
    "\n",
    "**Stop and think: Can you guess how to make a histogram with matplotlib and pandas?**"
   ]
  },
  {
   "cell_type": "code",
   "execution_count": 24,
   "metadata": {
    "slideshow": {
     "slide_type": "subslide"
    }
   },
   "outputs": [
    {
     "data": {
      "image/png": "[encoded data removed]",
      "text/plain": [
       "<Figure size 432x288 with 1 Axes>"
      ]
     },
     "metadata": {
      "needs_background": "light"
     },
     "output_type": "display_data"
    }
   ],
   "source": [
   ]
  },
  {
   "cell_type": "markdown",
   "metadata": {
    "slideshow": {
     "slide_type": "subslide"
    }
   },
   "source": [
    "You can look at the documentation of a function in here using:\n",
    "\n",
    "```python\n",
    "fruits.width.plot.hist?\n",
    "```\n",
    "\n",
    "Give it a try :)"
   ]
  },
  {
   "cell_type": "markdown",
   "metadata": {
    "slideshow": {
     "slide_type": "subslide"
    }
   },
   "source": [
    "Does 10 look like an appropriate bin width for the width column?"
   ]
  },
  {
   "cell_type": "code",
   "execution_count": 25,
   "metadata": {
    "slideshow": {
     "slide_type": "fragment"
    }
   },
   "outputs": [
    {
     "data": {
      "image/png": "[encoded data removed]",
      "text/plain": [
       "<Figure size 432x288 with 1 Axes>"
      ]
     },
     "metadata": {
      "needs_background": "light"
     },
     "output_type": "display_data"
    }
   ],
   "source": [
   ]
  },
  {
   "cell_type": "markdown",
   "metadata": {
    "slideshow": {
     "slide_type": "subslide"
    }
   },
   "source": [
    "Is that better? One the biggest problems we are facing down at the moment is that in this graph there are all kinds of different fruits. They *probably* all have different distributions with different means. So even if we kept going, this approach doesn't match our intuition of a good solution.\n",
    "\n",
    "What can we do? Our hero arrives..."
   ]
  },
  {
   "cell_type": "markdown",
   "metadata": {
    "slideshow": {
     "slide_type": "subslide"
    }
   },
   "source": [
    "<img src=\"https://upload.wikimedia.org/wikipedia/commons/d/d4/Thomas_Bayes.gif\">\n",
    "\n",
    "https://en.wikipedia.org/wiki/Thomas_Bayes"
   ]
  },
  {
   "cell_type": "markdown",
   "metadata": {
    "slideshow": {
     "slide_type": "subslide"
    }
   },
   "source": [
    "How is he our hero you might ask? Well. Let's go back to our fruit example. Let's look at the distribution of width for each type of fruit separately.\n",
    "\n",
    "I'm going to use another one of my favorite packages (altair). Don't worry. This is a very open book class. Memorizing APIs is not our goal."
   ]
  },
  {
   "cell_type": "code",
   "execution_count": 26,
   "metadata": {
    "slideshow": {
     "slide_type": "subslide"
    }
   },
   "outputs": [
    {
     "data": {
      "text/html": [
       "\n",
       "<div id=\"altair-viz-22ba7eb8382447d9943a9e878b0e4d37\"></div>\n",
       "<script type=\"text/javascript\">\n",
       "  (function(spec, embedOpt){\n",
       "    let outputDiv = document.currentScript.previousElementSibling;\n",
       "    if (outputDiv.id !== \"altair-viz-22ba7eb8382447d9943a9e878b0e4d37\") {\n",
       "      outputDiv = document.getElementById(\"altair-viz-22ba7eb8382447d9943a9e878b0e4d37\");\n",
       "    }\n",
       "    const paths = {\n",
       "      \"vega\": \"https://cdn.jsdelivr.net/npm//vega@5?noext\",\n",
       "      \"vega-lib\": \"https://cdn.jsdelivr.net/npm//vega-lib?noext\",\n",
       "      \"vega-lite\": \"https://cdn.jsdelivr.net/npm//vega-lite@4.8.1?noext\",\n",
       "      \"vega-embed\": \"https://cdn.jsdelivr.net/npm//vega-embed@6?noext\",\n",
       "    };\n",
       "\n",
       "    function loadScript(lib) {\n",
       "      return new Promise(function(resolve, reject) {\n",
       "        var s = document.createElement('script');\n",
       "        s.src = paths[lib];\n",
       "        s.async = true;\n",
       "        s.onload = () => resolve(paths[lib]);\n",
       "        s.onerror = () => reject(`Error loading script: ${paths[lib]}`);\n",
       "        document.getElementsByTagName(\"head\")[0].appendChild(s);\n",
       "      });\n",
       "    }\n",
       "\n",
       "    function showError(err) {\n",
       "      outputDiv.innerHTML = `<div class=\"error\" style=\"color:red;\">${err}</div>`;\n",
       "      throw err;\n",
       "    }\n",
       "\n",
       "    function displayChart(vegaEmbed) {\n",
       "      vegaEmbed(outputDiv, spec, embedOpt)\n",
       "        .catch(err => showError(`Javascript Error: ${err.message}<br>This usually means there's a typo in your chart specification. See the javascript console for the full traceback.`));\n",
       "    }\n",
       "\n",
       "    if(typeof define === \"function\" && define.amd) {\n",
       "      requirejs.config({paths});\n",
       "      require([\"vega-embed\"], displayChart, err => showError(`Error loading script: ${err.message}`));\n",
       "    } else if (typeof vegaEmbed === \"function\") {\n",
       "      displayChart(vegaEmbed);\n",
       "    } else {\n",
       "      loadScript(\"vega\")\n",
       "        .then(() => loadScript(\"vega-lite\"))\n",
       "        .then(() => loadScript(\"vega-embed\"))\n",
       "        .catch(showError)\n",
       "        .then(() => displayChart(vegaEmbed));\n",
       "    }\n",
       "  })({\"config\": {\"view\": {\"continuousWidth\": 400, \"continuousHeight\": 300}}, \"data\": {\"name\": \"data-b236062e01d2b17b7f6edafaba49d73c\"}, \"mark\": \"bar\", \"encoding\": {\"row\": {\"type\": \"nominal\", \"field\": \"fruit_name\"}, \"x\": {\"type\": \"quantitative\", \"bin\": true, \"field\": \"width\"}, \"y\": {\"type\": \"quantitative\", \"aggregate\": \"count\"}}, \"$schema\": \"https://vega.github.io/schema/vega-lite/v4.8.1.json\", \"datasets\": {\"data-b236062e01d2b17b7f6edafaba49d73c\": [{\"fruit_label\": 1, \"fruit_name\": \"apple\", \"fruit_subtype\": \"granny_smith\", \"mass\": 192, \"width\": 8.4, \"height\": 7.3, \"color_score\": 0.55}, {\"fruit_label\": 1, \"fruit_name\": \"apple\", \"fruit_subtype\": \"granny_smith\", \"mass\": 180, \"width\": 8.0, \"height\": 6.8, \"color_score\": 0.59}, {\"fruit_label\": 1, \"fruit_name\": \"apple\", \"fruit_subtype\": \"granny_smith\", \"mass\": 176, \"width\": 7.4, \"height\": 7.2, \"color_score\": 0.6}, {\"fruit_label\": 2, \"fruit_name\": \"mandarin\", \"fruit_subtype\": \"mandarin\", \"mass\": 86, \"width\": 6.2, \"height\": 4.7, \"color_score\": 0.8}, {\"fruit_label\": 2, \"fruit_name\": \"mandarin\", \"fruit_subtype\": \"mandarin\", \"mass\": 84, \"width\": 6.0, \"height\": 4.6, \"color_score\": 0.79}, {\"fruit_label\": 2, \"fruit_name\": \"mandarin\", \"fruit_subtype\": \"mandarin\", \"mass\": 80, \"width\": 5.8, \"height\": 4.3, \"color_score\": 0.77}, {\"fruit_label\": 2, \"fruit_name\": \"mandarin\", \"fruit_subtype\": \"mandarin\", \"mass\": 80, \"width\": 5.9, \"height\": 4.3, \"color_score\": 0.81}, {\"fruit_label\": 2, \"fruit_name\": \"mandarin\", \"fruit_subtype\": \"mandarin\", \"mass\": 76, \"width\": 5.8, \"height\": 4.0, \"color_score\": 0.81}, {\"fruit_label\": 1, \"fruit_name\": \"apple\", \"fruit_subtype\": \"braeburn\", \"mass\": 178, \"width\": 7.1, \"height\": 7.8, \"color_score\": 0.92}, {\"fruit_label\": 1, \"fruit_name\": \"apple\", \"fruit_subtype\": \"braeburn\", \"mass\": 172, \"width\": 7.4, \"height\": 7.0, \"color_score\": 0.89}, {\"fruit_label\": 1, \"fruit_name\": \"apple\", \"fruit_subtype\": \"braeburn\", \"mass\": 166, \"width\": 6.9, \"height\": 7.3, \"color_score\": 0.93}, {\"fruit_label\": 1, \"fruit_name\": \"apple\", \"fruit_subtype\": \"braeburn\", \"mass\": 172, \"width\": 7.1, \"height\": 7.6, \"color_score\": 0.92}, {\"fruit_label\": 1, \"fruit_name\": \"apple\", \"fruit_subtype\": \"braeburn\", \"mass\": 154, \"width\": 7.0, \"height\": 7.1, \"color_score\": 0.88}, {\"fruit_label\": 1, \"fruit_name\": \"apple\", \"fruit_subtype\": \"golden_delicious\", \"mass\": 164, \"width\": 7.3, \"height\": 7.7, \"color_score\": 0.7}, {\"fruit_label\": 1, \"fruit_name\": \"apple\", \"fruit_subtype\": \"golden_delicious\", \"mass\": 152, \"width\": 7.6, \"height\": 7.3, \"color_score\": 0.69}, {\"fruit_label\": 1, \"fruit_name\": \"apple\", \"fruit_subtype\": \"golden_delicious\", \"mass\": 156, \"width\": 7.7, \"height\": 7.1, \"color_score\": 0.69}, {\"fruit_label\": 1, \"fruit_name\": \"apple\", \"fruit_subtype\": \"golden_delicious\", \"mass\": 156, \"width\": 7.6, \"height\": 7.5, \"color_score\": 0.67}, {\"fruit_label\": 1, \"fruit_name\": \"apple\", \"fruit_subtype\": \"golden_delicious\", \"mass\": 168, \"width\": 7.5, \"height\": 7.6, \"color_score\": 0.73}, {\"fruit_label\": 1, \"fruit_name\": \"apple\", \"fruit_subtype\": \"cripps_pink\", \"mass\": 162, \"width\": 7.5, \"height\": 7.1, \"color_score\": 0.83}, {\"fruit_label\": 1, \"fruit_name\": \"apple\", \"fruit_subtype\": \"cripps_pink\", \"mass\": 162, \"width\": 7.4, \"height\": 7.2, \"color_score\": 0.85}, {\"fruit_label\": 1, \"fruit_name\": \"apple\", \"fruit_subtype\": \"cripps_pink\", \"mass\": 160, \"width\": 7.5, \"height\": 7.5, \"color_score\": 0.86}, {\"fruit_label\": 1, \"fruit_name\": \"apple\", \"fruit_subtype\": \"cripps_pink\", \"mass\": 156, \"width\": 7.4, \"height\": 7.4, \"color_score\": 0.84}, {\"fruit_label\": 1, \"fruit_name\": \"apple\", \"fruit_subtype\": \"cripps_pink\", \"mass\": 140, \"width\": 7.3, \"height\": 7.1, \"color_score\": 0.87}, {\"fruit_label\": 1, \"fruit_name\": \"apple\", \"fruit_subtype\": \"cripps_pink\", \"mass\": 170, \"width\": 7.6, \"height\": 7.9, \"color_score\": 0.88}, {\"fruit_label\": 3, \"fruit_name\": \"orange\", \"fruit_subtype\": \"spanish_jumbo\", \"mass\": 342, \"width\": 9.0, \"height\": 9.4, \"color_score\": 0.75}, {\"fruit_label\": 3, \"fruit_name\": \"orange\", \"fruit_subtype\": \"spanish_jumbo\", \"mass\": 356, \"width\": 9.2, \"height\": 9.2, \"color_score\": 0.75}, {\"fruit_label\": 3, \"fruit_name\": \"orange\", \"fruit_subtype\": \"spanish_jumbo\", \"mass\": 362, \"width\": 9.6, \"height\": 9.2, \"color_score\": 0.74}, {\"fruit_label\": 3, \"fruit_name\": \"orange\", \"fruit_subtype\": \"selected_seconds\", \"mass\": 204, \"width\": 7.5, \"height\": 9.2, \"color_score\": 0.77}, {\"fruit_label\": 3, \"fruit_name\": \"orange\", \"fruit_subtype\": \"selected_seconds\", \"mass\": 140, \"width\": 6.7, \"height\": 7.1, \"color_score\": 0.72}, {\"fruit_label\": 3, \"fruit_name\": \"orange\", \"fruit_subtype\": \"selected_seconds\", \"mass\": 160, \"width\": 7.0, \"height\": 7.4, \"color_score\": 0.81}, {\"fruit_label\": 3, \"fruit_name\": \"orange\", \"fruit_subtype\": \"selected_seconds\", \"mass\": 158, \"width\": 7.1, \"height\": 7.5, \"color_score\": 0.79}, {\"fruit_label\": 3, \"fruit_name\": \"orange\", \"fruit_subtype\": \"selected_seconds\", \"mass\": 210, \"width\": 7.8, \"height\": 8.0, \"color_score\": 0.82}, {\"fruit_label\": 3, \"fruit_name\": \"orange\", \"fruit_subtype\": \"selected_seconds\", \"mass\": 164, \"width\": 7.2, \"height\": 7.0, \"color_score\": 0.8}, {\"fruit_label\": 3, \"fruit_name\": \"orange\", \"fruit_subtype\": \"turkey_navel\", \"mass\": 190, \"width\": 7.5, \"height\": 8.1, \"color_score\": 0.74}, {\"fruit_label\": 3, \"fruit_name\": \"orange\", \"fruit_subtype\": \"turkey_navel\", \"mass\": 142, \"width\": 7.6, \"height\": 7.8, \"color_score\": 0.75}, {\"fruit_label\": 3, \"fruit_name\": \"orange\", \"fruit_subtype\": \"turkey_navel\", \"mass\": 150, \"width\": 7.1, \"height\": 7.9, \"color_score\": 0.75}, {\"fruit_label\": 3, \"fruit_name\": \"orange\", \"fruit_subtype\": \"turkey_navel\", \"mass\": 160, \"width\": 7.1, \"height\": 7.6, \"color_score\": 0.76}, {\"fruit_label\": 3, \"fruit_name\": \"orange\", \"fruit_subtype\": \"turkey_navel\", \"mass\": 154, \"width\": 7.3, \"height\": 7.3, \"color_score\": 0.79}, {\"fruit_label\": 3, \"fruit_name\": \"orange\", \"fruit_subtype\": \"turkey_navel\", \"mass\": 158, \"width\": 7.2, \"height\": 7.8, \"color_score\": 0.77}, {\"fruit_label\": 3, \"fruit_name\": \"orange\", \"fruit_subtype\": \"turkey_navel\", \"mass\": 144, \"width\": 6.8, \"height\": 7.4, \"color_score\": 0.75}, {\"fruit_label\": 3, \"fruit_name\": \"orange\", \"fruit_subtype\": \"turkey_navel\", \"mass\": 154, \"width\": 7.1, \"height\": 7.5, \"color_score\": 0.78}, {\"fruit_label\": 3, \"fruit_name\": \"orange\", \"fruit_subtype\": \"turkey_navel\", \"mass\": 180, \"width\": 7.6, \"height\": 8.2, \"color_score\": 0.79}, {\"fruit_label\": 3, \"fruit_name\": \"orange\", \"fruit_subtype\": \"turkey_navel\", \"mass\": 154, \"width\": 7.2, \"height\": 7.2, \"color_score\": 0.82}, {\"fruit_label\": 4, \"fruit_name\": \"lemon\", \"fruit_subtype\": \"spanish_belsan\", \"mass\": 194, \"width\": 7.2, \"height\": 10.3, \"color_score\": 0.7}, {\"fruit_label\": 4, \"fruit_name\": \"lemon\", \"fruit_subtype\": \"spanish_belsan\", \"mass\": 200, \"width\": 7.3, \"height\": 10.5, \"color_score\": 0.72}, {\"fruit_label\": 4, \"fruit_name\": \"lemon\", \"fruit_subtype\": \"spanish_belsan\", \"mass\": 186, \"width\": 7.2, \"height\": 9.2, \"color_score\": 0.72}, {\"fruit_label\": 4, \"fruit_name\": \"lemon\", \"fruit_subtype\": \"spanish_belsan\", \"mass\": 216, \"width\": 7.3, \"height\": 10.2, \"color_score\": 0.71}, {\"fruit_label\": 4, \"fruit_name\": \"lemon\", \"fruit_subtype\": \"spanish_belsan\", \"mass\": 196, \"width\": 7.3, \"height\": 9.7, \"color_score\": 0.72}, {\"fruit_label\": 4, \"fruit_name\": \"lemon\", \"fruit_subtype\": \"spanish_belsan\", \"mass\": 174, \"width\": 7.3, \"height\": 10.1, \"color_score\": 0.72}, {\"fruit_label\": 4, \"fruit_name\": \"lemon\", \"fruit_subtype\": \"unknown\", \"mass\": 132, \"width\": 5.8, \"height\": 8.7, \"color_score\": 0.73}, {\"fruit_label\": 4, \"fruit_name\": \"lemon\", \"fruit_subtype\": \"unknown\", \"mass\": 130, \"width\": 6.0, \"height\": 8.2, \"color_score\": 0.71}, {\"fruit_label\": 4, \"fruit_name\": \"lemon\", \"fruit_subtype\": \"unknown\", \"mass\": 116, \"width\": 6.0, \"height\": 7.5, \"color_score\": 0.72}, {\"fruit_label\": 4, \"fruit_name\": \"lemon\", \"fruit_subtype\": \"unknown\", \"mass\": 118, \"width\": 5.9, \"height\": 8.0, \"color_score\": 0.72}, {\"fruit_label\": 4, \"fruit_name\": \"lemon\", \"fruit_subtype\": \"unknown\", \"mass\": 120, \"width\": 6.0, \"height\": 8.4, \"color_score\": 0.74}, {\"fruit_label\": 4, \"fruit_name\": \"lemon\", \"fruit_subtype\": \"unknown\", \"mass\": 116, \"width\": 6.1, \"height\": 8.5, \"color_score\": 0.71}, {\"fruit_label\": 4, \"fruit_name\": \"lemon\", \"fruit_subtype\": \"unknown\", \"mass\": 116, \"width\": 6.3, \"height\": 7.7, \"color_score\": 0.72}, {\"fruit_label\": 4, \"fruit_name\": \"lemon\", \"fruit_subtype\": \"unknown\", \"mass\": 116, \"width\": 5.9, \"height\": 8.1, \"color_score\": 0.73}, {\"fruit_label\": 4, \"fruit_name\": \"lemon\", \"fruit_subtype\": \"unknown\", \"mass\": 152, \"width\": 6.5, \"height\": 8.5, \"color_score\": 0.72}, {\"fruit_label\": 4, \"fruit_name\": \"lemon\", \"fruit_subtype\": \"unknown\", \"mass\": 118, \"width\": 6.1, \"height\": 8.1, \"color_score\": 0.7}]}}, {\"mode\": \"vega-lite\"});\n",
       "</script>"
      ],
      "text/plain": [
       "alt.Chart(...)"
      ]
     },
     "execution_count": 26,
     "metadata": {},
     "output_type": "execute_result"
    }
   ],
   "source": [
    "import altair as alt\n",
    "\n",
    "alt.Chart(fruits).mark_bar().encode(\n",
    "    alt.X(\"width:Q\", bin=True),\n",
    "    y='count()',\n",
    "    row='fruit_name:N'\n",
    ")"
   ]
  },
  {
   "cell_type": "markdown",
   "metadata": {
    "slideshow": {
     "slide_type": "subslide"
    }
   },
   "source": [
    "That looks like it makes a bit more sense! Oranges are bigger than mandarins! OK. So what in the world do we do with this information? \n",
    "\n",
    "I am not going to get into smoothing right at the moment, so for the sake of this example, let's say we have a piece of fruit with a width of 7.2. Remember our purpose here. We want a fruit detector! So if this is an unknown fruit and it has a width of 7.2, then how likely is this a orange or one of the other types?\n",
    "\n",
    "And now our hero can emerge!"
   ]
  },
  {
   "cell_type": "markdown",
   "metadata": {
    "slideshow": {
     "slide_type": "subslide"
    }
   },
   "source": [
    "Bayes rule tells us that:\n",
    "\n",
    "$Pr(A|B)Pr(B) = Pr(B|A)Pr(A)$\n",
    "\n",
    "OR\n",
    "\n",
    "$\\Pr(A|B)=\\frac{\\Pr(B|A)\\Pr(A)}{\\Pr(B|A)\\Pr(A)+\\Pr(B|\\neg A)\\Pr(\\neg A)}$"
   ]
  },
  {
   "cell_type": "markdown",
   "metadata": {
    "slideshow": {
     "slide_type": "subslide"
    }
   },
   "source": [
    "That's a pretty cool super power... What did it even do for us?\n",
    "\n",
    "It allowed us to **invert** the question we want to answer!!!"
   ]
  },
  {
   "cell_type": "markdown",
   "metadata": {
    "slideshow": {
     "slide_type": "subslide"
    }
   },
   "source": [
    "We want to know what the probability of a piece of fruit with width 7.2 being a mandarin, but we can calculate the inverse of that. Specifically, we can easily calculate the probability of measuring a width of 7.2 GIVEN it is a orange\n",
    "\n",
    "$Pr(width=7.2|orange)$\n",
    "\n",
    "Pandas can save us!"
   ]
  },
  {
   "cell_type": "code",
   "execution_count": 52,
   "metadata": {
    "slideshow": {
     "slide_type": "subslide"
    }
   },
   "outputs": [
    {
     "data": {
      "text/plain": [
       "array([6.6971, 7.28  , 7.86  , 8.44  , 9.02  , 9.6   ])"
      ]
     },
     "execution_count": 52,
     "metadata": {},
     "output_type": "execute_result"
    }
   ],
   "source": [
    "width_binned,width_bins = pd.cut(fruits.width.loc[fruits.fruit_name=='orange'],5,retbins=True)\n",
    "width_bins"
   ]
  },
  {
   "cell_type": "code",
   "execution_count": 53,
   "metadata": {
    "slideshow": {
     "slide_type": "subslide"
    }
   },
   "outputs": [
    {
     "data": {
      "text/plain": [
       "(6.697, 7.28]    10\n",
       "(7.28, 7.86]      6\n",
       "(9.02, 9.6]       2\n",
       "(8.44, 9.02]      1\n",
       "(7.86, 8.44]      0\n",
       "Name: width, dtype: int64"
      ]
     },
     "execution_count": 53,
     "metadata": {},
     "output_type": "execute_result"
    }
   ],
   "source": [
    "width_binned_counts = width_binned.value_counts()\n",
    "width_binned_counts"
   ]
  },
  {
   "cell_type": "code",
   "execution_count": 54,
   "metadata": {
    "slideshow": {
     "slide_type": "subslide"
    }
   },
   "outputs": [
    {
     "data": {
      "image/png": "[encoded data removed]",
      "text/plain": [
       "<Figure size 432x288 with 1 Axes>"
      ]
     },
     "metadata": {
      "needs_background": "light"
     },
     "output_type": "display_data"
    }
   ],
   "source": [
    "width_binned.value_counts().plot.bar();"
   ]
  },
  {
   "cell_type": "markdown",
   "metadata": {
    "slideshow": {
     "slide_type": "subslide"
    }
   },
   "source": [
    "How do save ourselves from counting this up ourselves for a width of 7.2?"
   ]
  },
  {
   "cell_type": "code",
   "execution_count": 55,
   "metadata": {
    "slideshow": {
     "slide_type": "fragment"
    }
   },
   "outputs": [
    {
     "data": {
      "text/plain": [
       "Interval(6.697, 7.28, closed='right')"
      ]
     },
     "execution_count": 55,
     "metadata": {},
     "output_type": "execute_result"
    }
   ],
   "source": [
    "binned_value = pd.cut([7.2],width_bins)[0]\n",
    "binned_value"
   ]
  },
  {
   "cell_type": "code",
   "execution_count": 56,
   "metadata": {
    "slideshow": {
     "slide_type": "fragment"
    }
   },
   "outputs": [
    {
     "data": {
      "text/plain": [
       "10"
      ]
     },
     "execution_count": 56,
     "metadata": {},
     "output_type": "execute_result"
    }
   ],
   "source": [
    "width_binned_counts.loc[binned_value]"
   ]
  },
  {
   "cell_type": "markdown",
   "metadata": {
    "slideshow": {
     "slide_type": "subslide"
    }
   },
   "source": [
    "**Stop and think: What is the probability of a width of 7.2 given that the fruit is an orange?**"
   ]
  },
  {
   "cell_type": "code",
   "execution_count": 57,
   "metadata": {
    "slideshow": {
     "slide_type": "fragment"
    }
   },
   "outputs": [
    {
     "data": {
      "text/plain": [
       "0.5263157894736842"
      ]
     },
     "execution_count": 57,
     "metadata": {},
     "output_type": "execute_result"
    }
   ],
   "source": [
   ]
  },
  {
   "cell_type": "markdown",
   "metadata": {
    "slideshow": {
     "slide_type": "subslide"
    }
   },
   "source": [
    "How does this help us get our final answer? Bayes tells us how to invert this quantity to get what we want.\n",
    "\n",
    "$\\Pr(A|B)=\\frac{\\Pr(B|A)\\Pr(A)}{\\Pr(B|A)\\Pr(A)+\\Pr(B|\\neg A)\\Pr(\\neg A)}$\n",
    "\n",
    "I'm dropping the names here for clarity\n",
    "\n",
    "$\\Pr(orange|7.2)=\\frac{\\Pr(7.2|orange)\\Pr(orange)}{\\Pr(7.2|orange)\\Pr(orange)+\\Pr(7.2|\\neg orange)\\Pr(\\neg orange)}$\n",
    "\n",
    "We can do a lot of this now! "
   ]
  },
  {
   "cell_type": "markdown",
   "metadata": {
    "slideshow": {
     "slide_type": "subslide"
    }
   },
   "source": [
    "**Stop and think: Fill in everything except $\\Pr(7.2|\\neg orange)\\Pr(\\neg orange)$**"
   ]
  },
  {
   "cell_type": "markdown",
   "metadata": {
    "slideshow": {
     "slide_type": "fragment"
    }
   },
   "source": [
    "#### Your solution here"
   ]
  },
  {
   "cell_type": "markdown",
   "metadata": {
    "slideshow": {
     "slide_type": "subslide"
    }
   },
   "source": [
    "So all we need to tackle now is the unknown... \n",
    "\n",
    "We need to figure out how to do not an orange...\n",
    "\n",
    "What if we just did a long OR with all the fruits other than an orange... That would do it! In other words...\n",
    "\n",
    "**Stop and think: Can you write up a loop to calculate the value specified by unknown above?** You can assume all of the same parameters that have led us to this point."
   ]
  },
  {
   "cell_type": "code",
   "execution_count": 60,
   "metadata": {},
   "outputs": [
    {
     "data": {
      "text/plain": [
       "nan"
      ]
     },
     "execution_count": 60,
     "metadata": {},
     "output_type": "execute_result"
    }
   ],
   "source": [
    "binned_value"
   ]
  },
  {
   "cell_type": "code",
   "execution_count": 2,
   "metadata": {
    "slideshow": {
     "slide_type": "subslide"
    }
   },
   "outputs": [
    {
     "ename": "NameError",
     "evalue": "name 'fruits' is not defined",
     "output_type": "error",
     "traceback": [
      "\u001b[0;31m---------------------------------------------------------------------------\u001b[0m",
      "\u001b[0;31mNameError\u001b[0m                                 Traceback (most recent call last)",
      "\u001b[0;32m<ipython-input-2-dc9d4208741f>\u001b[0m in \u001b[0;36m<module>\u001b[0;34m\u001b[0m\n\u001b[1;32m     10\u001b[0m \u001b[0mlikelihood\u001b[0m \u001b[0;34m=\u001b[0m \u001b[0;34m{\u001b[0m\u001b[0;34m}\u001b[0m\u001b[0;34m\u001b[0m\u001b[0;34m\u001b[0m\u001b[0m\n\u001b[1;32m     11\u001b[0m \u001b[0mprior\u001b[0m \u001b[0;34m=\u001b[0m \u001b[0;34m{\u001b[0m\u001b[0;34m}\u001b[0m\u001b[0;34m\u001b[0m\u001b[0;34m\u001b[0m\u001b[0m\n\u001b[0;32m---> 12\u001b[0;31m \u001b[0;32mfor\u001b[0m \u001b[0mfruit\u001b[0m \u001b[0;32min\u001b[0m \u001b[0mfruits\u001b[0m\u001b[0;34m.\u001b[0m\u001b[0mfruit_name\u001b[0m\u001b[0;34m.\u001b[0m\u001b[0munique\u001b[0m\u001b[0;34m(\u001b[0m\u001b[0;34m)\u001b[0m\u001b[0;34m:\u001b[0m\u001b[0;34m\u001b[0m\u001b[0;34m\u001b[0m\u001b[0m\n\u001b[0m\u001b[1;32m     13\u001b[0m     \u001b[0mwidth_binned\u001b[0m\u001b[0;34m,\u001b[0m\u001b[0mwidth_bins\u001b[0m \u001b[0;34m=\u001b[0m \u001b[0mpd\u001b[0m\u001b[0;34m.\u001b[0m\u001b[0mcut\u001b[0m\u001b[0;34m(\u001b[0m\u001b[0mfruits\u001b[0m\u001b[0;34m.\u001b[0m\u001b[0mwidth\u001b[0m\u001b[0;34m.\u001b[0m\u001b[0mloc\u001b[0m\u001b[0;34m[\u001b[0m\u001b[0mfruits\u001b[0m\u001b[0;34m.\u001b[0m\u001b[0mfruit_name\u001b[0m\u001b[0;34m==\u001b[0m\u001b[0mfruit\u001b[0m\u001b[0;34m]\u001b[0m\u001b[0;34m,\u001b[0m\u001b[0;36m5\u001b[0m\u001b[0;34m,\u001b[0m\u001b[0mretbins\u001b[0m\u001b[0;34m=\u001b[0m\u001b[0;32mTrue\u001b[0m\u001b[0;34m)\u001b[0m\u001b[0;34m\u001b[0m\u001b[0;34m\u001b[0m\u001b[0m\n\u001b[1;32m     14\u001b[0m     \u001b[0mwidth_binned_counts\u001b[0m \u001b[0;34m=\u001b[0m \u001b[0mwidth_binned\u001b[0m\u001b[0;34m.\u001b[0m\u001b[0mvalue_counts\u001b[0m\u001b[0;34m(\u001b[0m\u001b[0;34m)\u001b[0m\u001b[0;34m\u001b[0m\u001b[0;34m\u001b[0m\u001b[0m\n",
      "\u001b[0;31mNameError\u001b[0m: name 'fruits' is not defined"
     ]
    }
   ],
   "source": [
    "# SET likelihood to {}\n",
    "# SET prior to {}\n",
    "# FOR each unique fruit in fruits['fruit_name']\n",
    "#    CALCULATE the bin widths for fruit using a total of 5 bins\n",
    "#    CALCULATE the number of fruits of type fruit with width equal to 7.2 (using the bins you just created)\n",
    "#    IF there are not any fruits with that width, set the likelihood equal to 0\n",
    "#    OTHERWISE set the likelihood of that fruit equal to the fraction of total fruits in this bin\n",
    "#    CALCULATE the prior probability of fruit\n",
    "likelihood['orange']*prior['orange']/(likelihood['orange']*prior['orange'] + \n",
    "                                      likelihood['apple']*prior['apple'] +\n",
    "                                      likelihood['lemon']*prior['lemon'] +\n",
    "                                      likelihood['mandarin']*prior['mandarin'])"
   ]
  },
  {
   "cell_type": "markdown",
   "metadata": {
    "slideshow": {
     "slide_type": "subslide"
    }
   },
   "source": [
    "What is the probability that this is an apple?"
   ]
  },
  {
   "cell_type": "code",
   "execution_count": 68,
   "metadata": {
    "slideshow": {
     "slide_type": "subslide"
    }
   },
   "outputs": [
    {
     "data": {
      "text/plain": [
       "0.19999999999999996"
      ]
     },
     "execution_count": 68,
     "metadata": {},
     "output_type": "execute_result"
    }
   ],
   "source": [
    "likelihood['apple']*prior['apple']/(likelihood['orange']*prior['orange'] + \n",
    "                                      likelihood['apple']*prior['apple'] +\n",
    "                                      likelihood['lemon']*prior['lemon'] +\n",
    "                                      likelihood['mandarin']*prior['mandarin'])"
   ]
  },
  {
   "cell_type": "markdown",
   "metadata": {
    "slideshow": {
     "slide_type": "fragment"
    }
   },
   "source": [
    "We just have to change the numerator! "
   ]
  },
  {
   "cell_type": "markdown",
   "metadata": {
    "slideshow": {
     "slide_type": "subslide"
    }
   },
   "source": [
    "### What happens when we have more than just a width?\n",
    "\n",
    "Remember we have: mass, width, height, and color_score.\n",
    "\n",
    "We could easily handle any of these individually if we wrote our code above right, but how do we combine them?"
   ]
  },
  {
   "cell_type": "markdown",
   "metadata": {
    "slideshow": {
     "slide_type": "subslide"
    }
   },
   "source": [
    "For example:\n",
    "\n",
    "$Pr(orange|width=7.2,height=6.5)$\n",
    "\n",
    "Since height and width are not independent, we would not break this up in our prior statistics classes. Here comes one of our first big breaks from your prior work in statistics. We care about our results, and we often ignore what was once considered undeniable truth. This leads us to the:"
   ]
  },
  {
   "cell_type": "markdown",
   "metadata": {
    "slideshow": {
     "slide_type": "subslide"
    }
   },
   "source": [
    "### Naive Empirical Bayes Classifier\n",
    "\n",
    "It is naive because it assumes all of our features are independent.\n",
    "\n",
    "It is empirical because we often just bin the features like we did above.\n",
    "\n",
    "Let's take a look at the math:"
   ]
  },
  {
   "cell_type": "markdown",
   "metadata": {
    "slideshow": {
     "slide_type": "subslide"
    }
   },
   "source": [
    "$\\Pr(orange|7.2,6.5)=\\frac{\\Pr(7.2,6.5|orange)\\Pr(orange)}{\\Pr(7.2,6.5|orange)\\Pr(orange)+\\Pr(7.2,6.5|\\neg orange)\\Pr(\\neg orange)}=$ \n",
    "\n",
    "$\\Pr(orange|7.2,6.5)=\\frac{\\Pr(7.2|orange)\\Pr(6.5|orange)\\Pr(orange)}{\\Pr(7.2|orange)\\Pr(6.5|orange)\\Pr(orange)+\\Pr(7.2|\\neg orange)\\Pr(6.5|\\neg orange)\\Pr(\\neg orange)}$"
   ]
  },
  {
   "cell_type": "markdown",
   "metadata": {
    "slideshow": {
     "slide_type": "subslide"
    }
   },
   "source": [
    "This we can solve! The coding of this is left up to a lab."
   ]
  },
  {
   "cell_type": "markdown",
   "metadata": {
    "slideshow": {
     "slide_type": "subslide"
    }
   },
   "source": [
    "For a seque into the preliminaries of KDD, how do you know how well this fruit detector will work?"
   ]
  },
  {
   "cell_type": "markdown",
   "metadata": {
    "slideshow": {
     "slide_type": "slide"
    }
   },
   "source": [
    "## KDD Preliminaries\n",
    "\n",
    "https://docs.google.com/presentation/d/1hMB1Y9vQzT27LGfJpjMFWOZsXna23hClXtqQo6SeMQI/edit?usp=sharing"
   ]
  },
  {
   "cell_type": "markdown",
   "metadata": {
    "slideshow": {
     "slide_type": "subslide"
    }
   },
   "source": [
    "For a by-hand example of naive Bayes classifier and for additional reading for this chapter, please see Chapter 2 from Marsland."
   ]
  },
  {
   "cell_type": "markdown",
   "metadata": {
    "slideshow": {
     "slide_type": "slide"
    }
   },
   "source": [
    "## From Machine Learning back to KDD\n",
    "\n",
    "Computing feature importance is one of the most common methods of extracting knowledge from a machine learning model. One of the most straightforward ways of doing so is with permutation feature importance. A discussion of this can be found at: https://christophm.github.io/interpretable-ml-book/feature-importance.html"
   ]
  },
  {
   "cell_type": "markdown",
   "metadata": {
    "slideshow": {
     "slide_type": "subslide"
    }
   },
   "source": [
    "> In the end, you need to decide whether you want to know how much the model relies on each feature for making predictions (-> training data) or how much the feature contributes to the performance of the model on unseen data (-> test data)\n",
    "\n",
    "https://christophm.github.io/interpretable-ml-book/feature-importance.html"
   ]
  },
  {
   "cell_type": "code",
   "execution_count": null,
   "metadata": {},
   "outputs": [],
   "source": []
  }
 ],
 "metadata": {
  "celltoolbar": "Slideshow",
  "hide_code_all_hidden": false,
  "jupytext": {
   "encoding": "# -*- coding: utf-8 -*-",
   "formats": "ipynb,md,py"
  },
  "kernelspec": {
   "display_name": "Python 3",
   "language": "python",
   "name": "python3"
  },
  "language_info": {
   "codemirror_mode": {
    "name": "ipython",
    "version": 3
   },
   "file_extension": ".py",
   "mimetype": "text/x-python",
   "name": "python",
   "nbconvert_exporter": "python",
   "pygments_lexer": "ipython3",
   "version": "3.7.3"
  }
 },
 "nbformat": 4,
 "nbformat_minor": 4
}
