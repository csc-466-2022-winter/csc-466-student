{
 "cells": [
  {
   "cell_type": "markdown",
   "metadata": {},
   "source": [
    "# Lab 6\n",
    "\n",
    "## Choosing among parameters when clustering\n",
    "\n",
    "### At the end of this lab, I should be able to\n",
    "* Formulate your own clustering questions and understand how you can go about getting answers\n",
    "* Understand how to select a clustering algorithm for your task\n",
    "\n",
    "**Note:** Exercises can be autograded and count towards your lab and assignment score. Problems are graded for participation."
   ]
  },
  {
   "cell_type": "code",
   "execution_count": 1,
   "metadata": {},
   "outputs": [],
   "source": [
    "from pathlib import Path\n",
    "home = str(Path.home()) # all other paths are relative to this path. change to something else if this is not the case on your system"
   ]
  },
  {
   "cell_type": "code",
   "execution_count": 2,
   "metadata": {},
   "outputs": [],
   "source": [
    "%load_ext autoreload\n",
    "%autoreload 2\n",
    "\n",
    "# make sure your run the cell above before running this\n",
    "import Lab6_helper"
   ]
  },
  {
   "cell_type": "code",
   "execution_count": 3,
   "metadata": {},
   "outputs": [],
   "source": [
    "import numpy as np"
   ]
  },
  {
   "cell_type": "markdown",
   "metadata": {},
   "source": [
    "## Our data\n",
    "We will be using a well known housing dataset from Boston.\n",
    "<pre>\n",
    "The Boston house-price data of Harrison, D. and Rubinfeld, D.L. 'Hedonic\n",
    " prices and the demand for clean air', J. Environ. Economics & Management,\n",
    " vol.5, 81-102, 1978.   Used in Belsley, Kuh & Welsch, 'Regression diagnostics\n",
    " ...', Wiley, 1980.   N.B. Various transformations are used in the table on\n",
    " pages 244-261 of the latter.\n",
    "\n",
    " Variables in order:\n",
    " CRIM     per capita crime rate by town\n",
    " ZN       proportion of residential land zoned for lots over 25,000 sq.ft.\n",
    " INDUS    proportion of non-retail business acres per town\n",
    " CHAS     Charles River dummy variable (= 1 if tract bounds river; 0 otherwise)\n",
    " NOX      nitric oxides concentration (parts per 10 million)\n",
    " RM       average number of rooms per dwelling\n",
    " AGE      proportion of owner-occupied units built prior to 1940\n",
    " DIS      weighted distances to five Boston employment centres\n",
    " RAD      index of accessibility to radial highways\n",
    " TAX      full-value property-tax rate per $10,000\n",
    " PTRATIO  pupil-teacher ratio by town\n",
    " B        1000(Bk - 0.63)^2 where Bk is the proportion of blacks by town\n",
    " LSTAT    % lower status of the population\n",
    " MEDV     Median value of owner-occupied homes in $1000's\n",
    "</pre>"
   ]
  },
  {
   "cell_type": "code",
   "execution_count": 4,
   "metadata": {},
   "outputs": [
    {
     "data": {
      "text/html": [
       "<div>\n",
       "<style scoped>\n",
       "    .dataframe tbody tr th:only-of-type {\n",
       "        vertical-align: middle;\n",
       "    }\n",
       "\n",
       "    .dataframe tbody tr th {\n",
       "        vertical-align: top;\n",
       "    }\n",
       "\n",
       "    .dataframe thead th {\n",
       "        text-align: right;\n",
       "    }\n",
       "</style>\n",
       "<table border=\"1\" class=\"dataframe\">\n",
       "  <thead>\n",
       "    <tr style=\"text-align: right;\">\n",
       "      <th></th>\n",
       "      <th>CRIM</th>\n",
       "      <th>ZN</th>\n",
       "      <th>INDUS</th>\n",
       "      <th>CHAS</th>\n",
       "      <th>NOX</th>\n",
       "      <th>RM</th>\n",
       "      <th>AGE</th>\n",
       "      <th>DIS</th>\n",
       "      <th>RAD</th>\n",
       "      <th>TAX</th>\n",
       "      <th>PTRATIO</th>\n",
       "      <th>B</th>\n",
       "      <th>LSTAT</th>\n",
       "      <th>MEDV</th>\n",
       "    </tr>\n",
       "  </thead>\n",
       "  <tbody>\n",
       "    <tr>\n",
       "      <th>0</th>\n",
       "      <td>0.00632</td>\n",
       "      <td>18.0</td>\n",
       "      <td>2.31</td>\n",
       "      <td>0</td>\n",
       "      <td>0.538</td>\n",
       "      <td>6.575</td>\n",
       "      <td>65.2</td>\n",
       "      <td>4.0900</td>\n",
       "      <td>1</td>\n",
       "      <td>296.0</td>\n",
       "      <td>15.3</td>\n",
       "      <td>396.90</td>\n",
       "      <td>4.98</td>\n",
       "      <td>24.0</td>\n",
       "    </tr>\n",
       "    <tr>\n",
       "      <th>1</th>\n",
       "      <td>0.02731</td>\n",
       "      <td>0.0</td>\n",
       "      <td>7.07</td>\n",
       "      <td>0</td>\n",
       "      <td>0.469</td>\n",
       "      <td>6.421</td>\n",
       "      <td>78.9</td>\n",
       "      <td>4.9671</td>\n",
       "      <td>2</td>\n",
       "      <td>242.0</td>\n",
       "      <td>17.8</td>\n",
       "      <td>396.90</td>\n",
       "      <td>9.14</td>\n",
       "      <td>21.6</td>\n",
       "    </tr>\n",
       "    <tr>\n",
       "      <th>2</th>\n",
       "      <td>0.02729</td>\n",
       "      <td>0.0</td>\n",
       "      <td>7.07</td>\n",
       "      <td>0</td>\n",
       "      <td>0.469</td>\n",
       "      <td>7.185</td>\n",
       "      <td>61.1</td>\n",
       "      <td>4.9671</td>\n",
       "      <td>2</td>\n",
       "      <td>242.0</td>\n",
       "      <td>17.8</td>\n",
       "      <td>392.83</td>\n",
       "      <td>4.03</td>\n",
       "      <td>34.7</td>\n",
       "    </tr>\n",
       "    <tr>\n",
       "      <th>3</th>\n",
       "      <td>0.03237</td>\n",
       "      <td>0.0</td>\n",
       "      <td>2.18</td>\n",
       "      <td>0</td>\n",
       "      <td>0.458</td>\n",
       "      <td>6.998</td>\n",
       "      <td>45.8</td>\n",
       "      <td>6.0622</td>\n",
       "      <td>3</td>\n",
       "      <td>222.0</td>\n",
       "      <td>18.7</td>\n",
       "      <td>394.63</td>\n",
       "      <td>2.94</td>\n",
       "      <td>33.4</td>\n",
       "    </tr>\n",
       "    <tr>\n",
       "      <th>4</th>\n",
       "      <td>0.06905</td>\n",
       "      <td>0.0</td>\n",
       "      <td>2.18</td>\n",
       "      <td>0</td>\n",
       "      <td>0.458</td>\n",
       "      <td>7.147</td>\n",
       "      <td>54.2</td>\n",
       "      <td>6.0622</td>\n",
       "      <td>3</td>\n",
       "      <td>222.0</td>\n",
       "      <td>18.7</td>\n",
       "      <td>396.90</td>\n",
       "      <td>5.33</td>\n",
       "      <td>36.2</td>\n",
       "    </tr>\n",
       "  </tbody>\n",
       "</table>\n",
       "</div>"
      ],
      "text/plain": [
       "      CRIM    ZN  INDUS  CHAS    NOX     RM   AGE     DIS  RAD    TAX  \\\n",
       "0  0.00632  18.0   2.31     0  0.538  6.575  65.2  4.0900    1  296.0   \n",
       "1  0.02731   0.0   7.07     0  0.469  6.421  78.9  4.9671    2  242.0   \n",
       "2  0.02729   0.0   7.07     0  0.469  7.185  61.1  4.9671    2  242.0   \n",
       "3  0.03237   0.0   2.18     0  0.458  6.998  45.8  6.0622    3  222.0   \n",
       "4  0.06905   0.0   2.18     0  0.458  7.147  54.2  6.0622    3  222.0   \n",
       "\n",
       "   PTRATIO       B  LSTAT  MEDV  \n",
       "0     15.3  396.90   4.98  24.0  \n",
       "1     17.8  396.90   9.14  21.6  \n",
       "2     17.8  392.83   4.03  34.7  \n",
       "3     18.7  394.63   2.94  33.4  \n",
       "4     18.7  396.90   5.33  36.2  "
      ]
     },
     "execution_count": 4,
     "metadata": {},
     "output_type": "execute_result"
    }
   ],
   "source": [
    "import pandas as pd\n",
    "df = pd.read_csv(f\"{home}/csc-466-student/data/housing/boston_fixed.csv\")\n",
    "df.head()"
   ]
  },
  {
   "cell_type": "markdown",
   "metadata": {},
   "source": [
    "**Problem 1.** Read the descriptions of the features above, and come up with 2-3 reasonable questions with corresponding methods to test them. The only one that you cannot write, is the one I write below:\n",
    "\n",
    "Example questions: \n",
    "* Are there any definitive subgroupings (i.e., clusters) of towns in the dataset? \n",
    "* How many (if any) groups/clusters are there in the dataset?\n",
    "* Are there any clusters of median value of owner-occupied homes? And if so, can we use the rest of the data to predict these clusters? \n",
    "\n",
    "Methodology:\n",
    "1. Empirically determine the best clustering method from our known list of kmeans and hiearchical clustering.\n",
    "2. Using this best clustering model, visualize the data using PCA\n",
    "3. Apply clustering algorithms to MEDV and then use random forest to predict these clusters presenting the evaluation."
   ]
  },
  {
   "cell_type": "markdown",
   "metadata": {},
   "source": [
    "**YOUR SOLUTION HERE**"
   ]
  },
  {
   "cell_type": "markdown",
   "metadata": {},
   "source": [
    "Overall question: Are there any clusters of towns? \n",
    "\n",
    "Use the following methodology:\n",
    "\n",
    "1. Empirically determine the best clustering method from our known list kmeans and hiearchical clustering\n",
    "2. Using this best clustering, visualize the data using PCA"
   ]
  },
  {
   "cell_type": "markdown",
   "metadata": {},
   "source": [
    "**Exercise 1** A lot of methods depend on the scaling of data, so we need to decide on a scaling method. We will use the autoscaling method described in sklearn as:\n",
    "\"The standard score of a sample x is calculated as:\n",
    "\n",
    "z = (x - u) / s\n",
    "\n",
    "where u is the mean of the training samples or zero if with_mean=False, and s is the standard deviation of the training samples or one if with_std=False.\" - <a href=\"https://scikit-learn.org/stable/modules/generated/sklearn.preprocessing.StandardScaler.html\">Source</a>\n",
    "\n",
    "For this exercise, scale ``df`` using the StandardScaler in sklearn. For consistency with later code, call this new scaled dataframe ``X``."
   ]
  },
  {
   "cell_type": "code",
   "execution_count": 5,
   "metadata": {},
   "outputs": [
    {
     "data": {
      "text/html": [
       "<div>\n",
       "<style scoped>\n",
       "    .dataframe tbody tr th:only-of-type {\n",
       "        vertical-align: middle;\n",
       "    }\n",
       "\n",
       "    .dataframe tbody tr th {\n",
       "        vertical-align: top;\n",
       "    }\n",
       "\n",
       "    .dataframe thead th {\n",
       "        text-align: right;\n",
       "    }\n",
       "</style>\n",
       "<table border=\"1\" class=\"dataframe\">\n",
       "  <thead>\n",
       "    <tr style=\"text-align: right;\">\n",
       "      <th></th>\n",
       "      <th>CRIM</th>\n",
       "      <th>ZN</th>\n",
       "      <th>INDUS</th>\n",
       "      <th>CHAS</th>\n",
       "      <th>NOX</th>\n",
       "      <th>RM</th>\n",
       "      <th>AGE</th>\n",
       "      <th>DIS</th>\n",
       "      <th>RAD</th>\n",
       "      <th>TAX</th>\n",
       "      <th>PTRATIO</th>\n",
       "      <th>B</th>\n",
       "      <th>LSTAT</th>\n",
       "      <th>MEDV</th>\n",
       "    </tr>\n",
       "  </thead>\n",
       "  <tbody>\n",
       "    <tr>\n",
       "      <th>0</th>\n",
       "      <td>-0.419782</td>\n",
       "      <td>0.284830</td>\n",
       "      <td>-1.287909</td>\n",
       "      <td>-0.272599</td>\n",
       "      <td>-0.144217</td>\n",
       "      <td>0.413672</td>\n",
       "      <td>-0.120013</td>\n",
       "      <td>0.140214</td>\n",
       "      <td>-0.982843</td>\n",
       "      <td>-0.666608</td>\n",
       "      <td>-1.459000</td>\n",
       "      <td>0.441052</td>\n",
       "      <td>-1.075562</td>\n",
       "      <td>0.159686</td>\n",
       "    </tr>\n",
       "    <tr>\n",
       "      <th>1</th>\n",
       "      <td>-0.417339</td>\n",
       "      <td>-0.487722</td>\n",
       "      <td>-0.593381</td>\n",
       "      <td>-0.272599</td>\n",
       "      <td>-0.740262</td>\n",
       "      <td>0.194274</td>\n",
       "      <td>0.367166</td>\n",
       "      <td>0.557160</td>\n",
       "      <td>-0.867883</td>\n",
       "      <td>-0.987329</td>\n",
       "      <td>-0.303094</td>\n",
       "      <td>0.441052</td>\n",
       "      <td>-0.492439</td>\n",
       "      <td>-0.101524</td>\n",
       "    </tr>\n",
       "    <tr>\n",
       "      <th>2</th>\n",
       "      <td>-0.417342</td>\n",
       "      <td>-0.487722</td>\n",
       "      <td>-0.593381</td>\n",
       "      <td>-0.272599</td>\n",
       "      <td>-0.740262</td>\n",
       "      <td>1.282714</td>\n",
       "      <td>-0.265812</td>\n",
       "      <td>0.557160</td>\n",
       "      <td>-0.867883</td>\n",
       "      <td>-0.987329</td>\n",
       "      <td>-0.303094</td>\n",
       "      <td>0.396427</td>\n",
       "      <td>-1.208727</td>\n",
       "      <td>1.324247</td>\n",
       "    </tr>\n",
       "    <tr>\n",
       "      <th>3</th>\n",
       "      <td>-0.416750</td>\n",
       "      <td>-0.487722</td>\n",
       "      <td>-1.306878</td>\n",
       "      <td>-0.272599</td>\n",
       "      <td>-0.835284</td>\n",
       "      <td>1.016303</td>\n",
       "      <td>-0.809889</td>\n",
       "      <td>1.077737</td>\n",
       "      <td>-0.752922</td>\n",
       "      <td>-1.106115</td>\n",
       "      <td>0.113032</td>\n",
       "      <td>0.416163</td>\n",
       "      <td>-1.361517</td>\n",
       "      <td>1.182758</td>\n",
       "    </tr>\n",
       "    <tr>\n",
       "      <th>4</th>\n",
       "      <td>-0.412482</td>\n",
       "      <td>-0.487722</td>\n",
       "      <td>-1.306878</td>\n",
       "      <td>-0.272599</td>\n",
       "      <td>-0.835284</td>\n",
       "      <td>1.228577</td>\n",
       "      <td>-0.511180</td>\n",
       "      <td>1.077737</td>\n",
       "      <td>-0.752922</td>\n",
       "      <td>-1.106115</td>\n",
       "      <td>0.113032</td>\n",
       "      <td>0.441052</td>\n",
       "      <td>-1.026501</td>\n",
       "      <td>1.487503</td>\n",
       "    </tr>\n",
       "    <tr>\n",
       "      <th>...</th>\n",
       "      <td>...</td>\n",
       "      <td>...</td>\n",
       "      <td>...</td>\n",
       "      <td>...</td>\n",
       "      <td>...</td>\n",
       "      <td>...</td>\n",
       "      <td>...</td>\n",
       "      <td>...</td>\n",
       "      <td>...</td>\n",
       "      <td>...</td>\n",
       "      <td>...</td>\n",
       "      <td>...</td>\n",
       "      <td>...</td>\n",
       "      <td>...</td>\n",
       "    </tr>\n",
       "    <tr>\n",
       "      <th>501</th>\n",
       "      <td>-0.413229</td>\n",
       "      <td>-0.487722</td>\n",
       "      <td>0.115738</td>\n",
       "      <td>-0.272599</td>\n",
       "      <td>0.158124</td>\n",
       "      <td>0.439316</td>\n",
       "      <td>0.018673</td>\n",
       "      <td>-0.625796</td>\n",
       "      <td>-0.982843</td>\n",
       "      <td>-0.803212</td>\n",
       "      <td>1.176466</td>\n",
       "      <td>0.387217</td>\n",
       "      <td>-0.418147</td>\n",
       "      <td>-0.014454</td>\n",
       "    </tr>\n",
       "    <tr>\n",
       "      <th>502</th>\n",
       "      <td>-0.415249</td>\n",
       "      <td>-0.487722</td>\n",
       "      <td>0.115738</td>\n",
       "      <td>-0.272599</td>\n",
       "      <td>0.158124</td>\n",
       "      <td>-0.234548</td>\n",
       "      <td>0.288933</td>\n",
       "      <td>-0.716639</td>\n",
       "      <td>-0.982843</td>\n",
       "      <td>-0.803212</td>\n",
       "      <td>1.176466</td>\n",
       "      <td>0.441052</td>\n",
       "      <td>-0.500850</td>\n",
       "      <td>-0.210362</td>\n",
       "    </tr>\n",
       "    <tr>\n",
       "      <th>503</th>\n",
       "      <td>-0.413447</td>\n",
       "      <td>-0.487722</td>\n",
       "      <td>0.115738</td>\n",
       "      <td>-0.272599</td>\n",
       "      <td>0.158124</td>\n",
       "      <td>0.984960</td>\n",
       "      <td>0.797449</td>\n",
       "      <td>-0.773684</td>\n",
       "      <td>-0.982843</td>\n",
       "      <td>-0.803212</td>\n",
       "      <td>1.176466</td>\n",
       "      <td>0.441052</td>\n",
       "      <td>-0.983048</td>\n",
       "      <td>0.148802</td>\n",
       "    </tr>\n",
       "    <tr>\n",
       "      <th>504</th>\n",
       "      <td>-0.407764</td>\n",
       "      <td>-0.487722</td>\n",
       "      <td>0.115738</td>\n",
       "      <td>-0.272599</td>\n",
       "      <td>0.158124</td>\n",
       "      <td>0.725672</td>\n",
       "      <td>0.736996</td>\n",
       "      <td>-0.668437</td>\n",
       "      <td>-0.982843</td>\n",
       "      <td>-0.803212</td>\n",
       "      <td>1.176466</td>\n",
       "      <td>0.403225</td>\n",
       "      <td>-0.865302</td>\n",
       "      <td>-0.057989</td>\n",
       "    </tr>\n",
       "    <tr>\n",
       "      <th>505</th>\n",
       "      <td>-0.415000</td>\n",
       "      <td>-0.487722</td>\n",
       "      <td>0.115738</td>\n",
       "      <td>-0.272599</td>\n",
       "      <td>0.158124</td>\n",
       "      <td>-0.362767</td>\n",
       "      <td>0.434732</td>\n",
       "      <td>-0.613246</td>\n",
       "      <td>-0.982843</td>\n",
       "      <td>-0.803212</td>\n",
       "      <td>1.176466</td>\n",
       "      <td>0.441052</td>\n",
       "      <td>-0.669058</td>\n",
       "      <td>-1.157248</td>\n",
       "    </tr>\n",
       "  </tbody>\n",
       "</table>\n",
       "<p>506 rows × 14 columns</p>\n",
       "</div>"
      ],
      "text/plain": [
       "         CRIM        ZN     INDUS      CHAS       NOX        RM       AGE  \\\n",
       "0   -0.419782  0.284830 -1.287909 -0.272599 -0.144217  0.413672 -0.120013   \n",
       "1   -0.417339 -0.487722 -0.593381 -0.272599 -0.740262  0.194274  0.367166   \n",
       "2   -0.417342 -0.487722 -0.593381 -0.272599 -0.740262  1.282714 -0.265812   \n",
       "3   -0.416750 -0.487722 -1.306878 -0.272599 -0.835284  1.016303 -0.809889   \n",
       "4   -0.412482 -0.487722 -1.306878 -0.272599 -0.835284  1.228577 -0.511180   \n",
       "..        ...       ...       ...       ...       ...       ...       ...   \n",
       "501 -0.413229 -0.487722  0.115738 -0.272599  0.158124  0.439316  0.018673   \n",
       "502 -0.415249 -0.487722  0.115738 -0.272599  0.158124 -0.234548  0.288933   \n",
       "503 -0.413447 -0.487722  0.115738 -0.272599  0.158124  0.984960  0.797449   \n",
       "504 -0.407764 -0.487722  0.115738 -0.272599  0.158124  0.725672  0.736996   \n",
       "505 -0.415000 -0.487722  0.115738 -0.272599  0.158124 -0.362767  0.434732   \n",
       "\n",
       "          DIS       RAD       TAX   PTRATIO         B     LSTAT      MEDV  \n",
       "0    0.140214 -0.982843 -0.666608 -1.459000  0.441052 -1.075562  0.159686  \n",
       "1    0.557160 -0.867883 -0.987329 -0.303094  0.441052 -0.492439 -0.101524  \n",
       "2    0.557160 -0.867883 -0.987329 -0.303094  0.396427 -1.208727  1.324247  \n",
       "3    1.077737 -0.752922 -1.106115  0.113032  0.416163 -1.361517  1.182758  \n",
       "4    1.077737 -0.752922 -1.106115  0.113032  0.441052 -1.026501  1.487503  \n",
       "..        ...       ...       ...       ...       ...       ...       ...  \n",
       "501 -0.625796 -0.982843 -0.803212  1.176466  0.387217 -0.418147 -0.014454  \n",
       "502 -0.716639 -0.982843 -0.803212  1.176466  0.441052 -0.500850 -0.210362  \n",
       "503 -0.773684 -0.982843 -0.803212  1.176466  0.441052 -0.983048  0.148802  \n",
       "504 -0.668437 -0.982843 -0.803212  1.176466  0.403225 -0.865302 -0.057989  \n",
       "505 -0.613246 -0.982843 -0.803212  1.176466  0.441052 -0.669058 -1.157248  \n",
       "\n",
       "[506 rows x 14 columns]"
      ]
     },
     "execution_count": 5,
     "metadata": {},
     "output_type": "execute_result"
    }
   ],
   "source": [
    "X = Lab6_helper.scale(df)\n",
    "X"
   ]
  },
  {
   "cell_type": "markdown",
   "metadata": {},
   "source": [
    "**Exercise 2** We now need to take a look at our data, but it is too many dimensions! For this task we need to reduce the dimension. Reduce the dataset down to two dimensions using PCA. <a href=\"https://scikit-learn.org/stable/modules/generated/sklearn.decomposition.PCA.html\">Here is a link to the documentation.</a> Store the transformed data in a variable called ``X_pca``."
   ]
  },
  {
   "cell_type": "code",
   "execution_count": 6,
   "metadata": {},
   "outputs": [
    {
     "data": {
      "text/html": [
       "<div>\n",
       "<style scoped>\n",
       "    .dataframe tbody tr th:only-of-type {\n",
       "        vertical-align: middle;\n",
       "    }\n",
       "\n",
       "    .dataframe tbody tr th {\n",
       "        vertical-align: top;\n",
       "    }\n",
       "\n",
       "    .dataframe thead th {\n",
       "        text-align: right;\n",
       "    }\n",
       "</style>\n",
       "<table border=\"1\" class=\"dataframe\">\n",
       "  <thead>\n",
       "    <tr style=\"text-align: right;\">\n",
       "      <th></th>\n",
       "      <th>PC1 (0.47)</th>\n",
       "      <th>PC2 (0.12)</th>\n",
       "    </tr>\n",
       "  </thead>\n",
       "  <tbody>\n",
       "    <tr>\n",
       "      <th>0</th>\n",
       "      <td>-2.087344</td>\n",
       "      <td>0.492851</td>\n",
       "    </tr>\n",
       "    <tr>\n",
       "      <th>1</th>\n",
       "      <td>-1.373382</td>\n",
       "      <td>-0.170924</td>\n",
       "    </tr>\n",
       "    <tr>\n",
       "      <th>2</th>\n",
       "      <td>-2.376553</td>\n",
       "      <td>0.914030</td>\n",
       "    </tr>\n",
       "    <tr>\n",
       "      <th>3</th>\n",
       "      <td>-2.837779</td>\n",
       "      <td>0.194873</td>\n",
       "    </tr>\n",
       "    <tr>\n",
       "      <th>4</th>\n",
       "      <td>-2.772915</td>\n",
       "      <td>0.433303</td>\n",
       "    </tr>\n",
       "    <tr>\n",
       "      <th>...</th>\n",
       "      <td>...</td>\n",
       "      <td>...</td>\n",
       "    </tr>\n",
       "    <tr>\n",
       "      <th>501</th>\n",
       "      <td>-0.302820</td>\n",
       "      <td>0.142757</td>\n",
       "    </tr>\n",
       "    <tr>\n",
       "      <th>502</th>\n",
       "      <td>-0.043395</td>\n",
       "      <td>-0.115690</td>\n",
       "    </tr>\n",
       "    <tr>\n",
       "      <th>503</th>\n",
       "      <td>-0.368190</td>\n",
       "      <td>0.823161</td>\n",
       "    </tr>\n",
       "    <tr>\n",
       "      <th>504</th>\n",
       "      <td>-0.264317</td>\n",
       "      <td>0.540015</td>\n",
       "    </tr>\n",
       "    <tr>\n",
       "      <th>505</th>\n",
       "      <td>0.195235</td>\n",
       "      <td>-0.557980</td>\n",
       "    </tr>\n",
       "  </tbody>\n",
       "</table>\n",
       "<p>506 rows × 2 columns</p>\n",
       "</div>"
      ],
      "text/plain": [
       "     PC1 (0.47)  PC2 (0.12)\n",
       "0     -2.087344    0.492851\n",
       "1     -1.373382   -0.170924\n",
       "2     -2.376553    0.914030\n",
       "3     -2.837779    0.194873\n",
       "4     -2.772915    0.433303\n",
       "..          ...         ...\n",
       "501   -0.302820    0.142757\n",
       "502   -0.043395   -0.115690\n",
       "503   -0.368190    0.823161\n",
       "504   -0.264317    0.540015\n",
       "505    0.195235   -0.557980\n",
       "\n",
       "[506 rows x 2 columns]"
      ]
     },
     "metadata": {},
     "output_type": "display_data"
    },
    {
     "data": {
      "image/png": "[encoded data removed]",
      "text/plain": [
       "<Figure size 432x288 with 1 Axes>"
      ]
     },
     "metadata": {
      "needs_background": "light"
     },
     "output_type": "display_data"
    }
   ],
   "source": [
    "X_pca = Lab6_helper.pca(X)\n",
    "display(X_pca)\n",
    "X_pca.plot.scatter(x=X_pca.columns[0],y=X_pca.columns[1]);"
   ]
  },
  {
   "cell_type": "markdown",
   "metadata": {},
   "source": [
    "**Exercise 3** Our next major step is to apply kmeans to our data ``X`` (do NOT cluster on ``X_pca``) for several different values of ``k``. We'll compare these results later. The documentation for kmeans is <a href=\"https://scikit-learn.org/stable/modules/generated/sklearn.cluster.KMeans.html\">here</a>. Fill in the loop that constructs the kmeans models for each of the values of ``k`` specified below."
   ]
  },
  {
   "cell_type": "code",
   "execution_count": 7,
   "metadata": {},
   "outputs": [
    {
     "data": {
      "text/plain": [
       "{2: KMeans(n_clusters=2, random_state=10),\n",
       " 3: KMeans(n_clusters=3, random_state=10),\n",
       " 4: KMeans(n_clusters=4, random_state=10),\n",
       " 5: KMeans(n_clusters=5, random_state=10),\n",
       " 6: KMeans(n_clusters=6, random_state=10)}"
      ]
     },
     "execution_count": 7,
     "metadata": {},
     "output_type": "execute_result"
    }
   ],
   "source": [
    "kmeans_models = Lab6_helper.kmeans(X,range_n_clusters = [2, 3, 4, 5, 6],random_state=10)\n",
    "kmeans_models"
   ]
  },
  {
   "cell_type": "markdown",
   "metadata": {},
   "source": [
    "**Exercise 4** Now we need assign cluster labels to each sample in our dataset. Fill in the following to accomplish this:"
   ]
  },
  {
   "cell_type": "code",
   "execution_count": 8,
   "metadata": {},
   "outputs": [
    {
     "data": {
      "text/html": [
       "<div>\n",
       "<style scoped>\n",
       "    .dataframe tbody tr th:only-of-type {\n",
       "        vertical-align: middle;\n",
       "    }\n",
       "\n",
       "    .dataframe tbody tr th {\n",
       "        vertical-align: top;\n",
       "    }\n",
       "\n",
       "    .dataframe thead th {\n",
       "        text-align: right;\n",
       "    }\n",
       "</style>\n",
       "<table border=\"1\" class=\"dataframe\">\n",
       "  <thead>\n",
       "    <tr style=\"text-align: right;\">\n",
       "      <th></th>\n",
       "      <th>2</th>\n",
       "      <th>3</th>\n",
       "      <th>4</th>\n",
       "      <th>5</th>\n",
       "      <th>6</th>\n",
       "    </tr>\n",
       "  </thead>\n",
       "  <tbody>\n",
       "    <tr>\n",
       "      <th>0</th>\n",
       "      <td>1</td>\n",
       "      <td>2</td>\n",
       "      <td>1</td>\n",
       "      <td>1</td>\n",
       "      <td>4</td>\n",
       "    </tr>\n",
       "    <tr>\n",
       "      <th>1</th>\n",
       "      <td>1</td>\n",
       "      <td>2</td>\n",
       "      <td>3</td>\n",
       "      <td>1</td>\n",
       "      <td>4</td>\n",
       "    </tr>\n",
       "    <tr>\n",
       "      <th>2</th>\n",
       "      <td>1</td>\n",
       "      <td>2</td>\n",
       "      <td>1</td>\n",
       "      <td>1</td>\n",
       "      <td>0</td>\n",
       "    </tr>\n",
       "    <tr>\n",
       "      <th>3</th>\n",
       "      <td>1</td>\n",
       "      <td>0</td>\n",
       "      <td>0</td>\n",
       "      <td>1</td>\n",
       "      <td>0</td>\n",
       "    </tr>\n",
       "    <tr>\n",
       "      <th>4</th>\n",
       "      <td>1</td>\n",
       "      <td>0</td>\n",
       "      <td>1</td>\n",
       "      <td>1</td>\n",
       "      <td>0</td>\n",
       "    </tr>\n",
       "    <tr>\n",
       "      <th>...</th>\n",
       "      <td>...</td>\n",
       "      <td>...</td>\n",
       "      <td>...</td>\n",
       "      <td>...</td>\n",
       "      <td>...</td>\n",
       "    </tr>\n",
       "    <tr>\n",
       "      <th>501</th>\n",
       "      <td>1</td>\n",
       "      <td>2</td>\n",
       "      <td>3</td>\n",
       "      <td>1</td>\n",
       "      <td>4</td>\n",
       "    </tr>\n",
       "    <tr>\n",
       "      <th>502</th>\n",
       "      <td>1</td>\n",
       "      <td>2</td>\n",
       "      <td>3</td>\n",
       "      <td>1</td>\n",
       "      <td>4</td>\n",
       "    </tr>\n",
       "    <tr>\n",
       "      <th>503</th>\n",
       "      <td>1</td>\n",
       "      <td>2</td>\n",
       "      <td>3</td>\n",
       "      <td>1</td>\n",
       "      <td>4</td>\n",
       "    </tr>\n",
       "    <tr>\n",
       "      <th>504</th>\n",
       "      <td>1</td>\n",
       "      <td>2</td>\n",
       "      <td>3</td>\n",
       "      <td>1</td>\n",
       "      <td>4</td>\n",
       "    </tr>\n",
       "    <tr>\n",
       "      <th>505</th>\n",
       "      <td>1</td>\n",
       "      <td>2</td>\n",
       "      <td>3</td>\n",
       "      <td>1</td>\n",
       "      <td>4</td>\n",
       "    </tr>\n",
       "  </tbody>\n",
       "</table>\n",
       "<p>506 rows × 5 columns</p>\n",
       "</div>"
      ],
      "text/plain": [
       "     2  3  4  5  6\n",
       "0    1  2  1  1  4\n",
       "1    1  2  3  1  4\n",
       "2    1  2  1  1  0\n",
       "3    1  0  0  1  0\n",
       "4    1  0  1  1  0\n",
       "..  .. .. .. .. ..\n",
       "501  1  2  3  1  4\n",
       "502  1  2  3  1  4\n",
       "503  1  2  3  1  4\n",
       "504  1  2  3  1  4\n",
       "505  1  2  3  1  4\n",
       "\n",
       "[506 rows x 5 columns]"
      ]
     },
     "execution_count": 8,
     "metadata": {},
     "output_type": "execute_result"
    }
   ],
   "source": [
    "cluster_labels = Lab6_helper.assign_labels(X,kmeans_models)\n",
    "cluster_labels"
   ]
  },
  {
   "cell_type": "markdown",
   "metadata": {},
   "source": [
    "We now have 5 different clusterings of our data. We need to know which one of these is the best. Let's visualize the clusters (k=2 and k=3) using the cluster_labels and PCA. <a href=\"https://pandas.pydata.org/pandas-docs/stable/reference/api/pandas.DataFrame.plot.scatter.html\">Here is some documentation on how to set the color.</a>"
   ]
  },
  {
   "cell_type": "code",
   "execution_count": 9,
   "metadata": {},
   "outputs": [
    {
     "data": {
      "image/png": "[encoded data removed]",
      "text/plain": [
       "<Figure size 432x288 with 1 Axes>"
      ]
     },
     "metadata": {
      "needs_background": "light"
     },
     "output_type": "display_data"
    },
    {
     "data": {
      "image/png": "[encoded data removed]",
      "text/plain": [
       "<Figure size 432x288 with 1 Axes>"
      ]
     },
     "metadata": {
      "needs_background": "light"
     },
     "output_type": "display_data"
    }
   ],
   "source": [
    "colorings = {}\n",
    "colorings[2] = cluster_labels[2].map({0: \"Blue\", 1: \"Red\"}) # This is a new pandas command for us that maps all 0 values to Blue, etc\n",
    "colorings[3] = cluster_labels[3].map({0: \"Blue\", 1: \"Red\",2: \"Pink\"}) # This is a new pandas command for us that maps all 0 values to Blue, etc\n",
    "X_pca.plot.scatter(x=X_pca.columns[0],y=X_pca.columns[1],c=colorings[2])\n",
    "X_pca.plot.scatter(x=X_pca.columns[0],y=X_pca.columns[1],c=colorings[3])\n",
    "colorings = {}\n",
    "colorings[2] = cluster_labels[2].map({0: \"Blue\", 1: \"Red\"}) # This is a new pandas command for us that maps all 0 values to Blue, etc\n",
    "colorings[3] = cluster_labels[3].map({0: \"Blue\", 1: \"Red\",2: \"Pink\"}) # This is a new pandas command for us that maps all 0 values to Blue, etc"
   ]
  },
  {
   "cell_type": "markdown",
   "metadata": {},
   "source": [
    "### Choosing a $k$\n",
    "We will now start assembling information we need to make a decision. There are many ways to evaluate clusters, but one of the best ways is through a silhouette score. Here is an excerpt of the documentation from sklearn:\n",
    "\"Silhouette analysis can be used to study the separation distance between the resulting clusters. The silhouette plot displays a measure of how close each point in one cluster is to points in the neighboring clusters and thus provides a way to assess parameters like number of clusters visually. This measure has a range of [-1, 1].\n",
    "\n",
    "Silhouette coefficients (as these values are referred to as) near +1 indicate that the sample is far away from the neighboring clusters. A value of 0 indicates that the sample is on or very close to the decision boundary between two neighboring clusters and negative values indicate that those samples might have been assigned to the wrong cluster.\" - <a href=\"https://scikit-learn.org/dev/auto_examples/cluster/plot_kmeans_silhouette_analysis.html#example-cluster-plot-kmeans-silhouette-analysis-py\">Source</a>"
   ]
  },
  {
   "cell_type": "code",
   "execution_count": 10,
   "metadata": {},
   "outputs": [
    {
     "name": "stdout",
     "output_type": "stream",
     "text": [
      "For n_clusters = 2 The average silhouette_score is : 0.35010701730151716\n"
     ]
    }
   ],
   "source": [
    "# The silhouette_score gives the average value for all the samples.\n",
    "# This gives a perspective into the density and separation of the formed\n",
    "# clusters\n",
    "from sklearn.metrics import silhouette_score\n",
    "\n",
    "n_clusters = 2\n",
    "silhouette_avg = silhouette_score(X, cluster_labels[n_clusters])\n",
    "print(\"For n_clusters =\", n_clusters,\n",
    "      \"The average silhouette_score is :\", silhouette_avg)"
   ]
  },
  {
   "cell_type": "markdown",
   "metadata": {},
   "source": [
    "The following is pulled directly from https://en.wikipedia.org/wiki/Silhouette_(clustering).\n",
    "\n",
    "For data point $i\\in C_{i}$ (data point $i$ in the cluster $C_{i}$), let\n",
    "\n",
    "${\\displaystyle a(i)={\\frac {1}{|C_{i}|-1}}\\sum _{j\\in C_{i},i\\neq j}d(i,j)}$\n",
    "\n",
    "be the mean distance between ${\\displaystyle i}$ and all other data points in the same cluster, where ${\\displaystyle d(i,j)}$ is the distance between data points ${\\displaystyle i}$ and ${\\displaystyle j}$ in the cluster ${\\displaystyle C_{i}}$ (we divide by ${\\displaystyle |C_{i}|-1}$ because we do not include the distance ${\\displaystyle d(i,i)}$ in the sum). We can interpret ${\\displaystyle a(i)}$ as a measure of how well ${\\displaystyle i}$ is assigned to its cluster (the smaller the value, the better the assignment).\n",
    "\n",
    "We then define the mean dissimilarity of point ${\\displaystyle i}$ to some cluster ${\\displaystyle C_{k}}$ as the mean of the distance from ${\\displaystyle i}$ to all points in ${\\displaystyle C_{k}}$ (where ${\\displaystyle C_{k}\\neq C_{i}}$).\n",
    "\n",
    "For each data point ${\\displaystyle i\\in C_{i}}$, we now define\n",
    "\n",
    "${\\displaystyle b(i)=\\min _{k\\neq i}{\\frac {1}{|C_{k}|}}\\sum _{j\\in C_{k}}d(i,j)}$\n",
    "\n",
    "to be the smallest (hence the ${\\displaystyle \\min }$  operator in the formula) mean distance of ${\\displaystyle i}$ to all points in any other cluster, of which ${\\displaystyle i}$ is not a member. The cluster with this smallest mean dissimilarity is said to be the \"neighboring cluster\" of ${\\displaystyle i}$ because it is the next best fit cluster for point ${\\displaystyle i}$.\n",
    "\n",
    "We now define a silhouette (value) of one data point ${\\displaystyle i}$\n",
    "\n",
    "${\\displaystyle s(i)={\\frac {b(i)-a(i)}{\\max\\{a(i),b(i)\\}}}}$, if ${\\displaystyle |C_{i}|>1}$\n",
    "and ${\\displaystyle s(i)=0}$, if ${\\displaystyle |C_{i}|=1}$\n",
    "\n",
    "Which can be also written as:\n",
    "\n",
    "${\\displaystyle s(i)={\\begin{cases}1-a(i)/b(i),&{\\mbox{if }}a(i)<b(i)\\\\0,&{\\mbox{if }}a(i)=b(i)\\\\b(i)/a(i)-1,&{\\mbox{if }}a(i)>b(i)\\\\\\end{cases}}}$\n",
    "From the above definition it is clear that\n",
    "\n",
    "${\\displaystyle -1\\leq s(i)\\leq 1}$\n"
   ]
  },
  {
   "cell_type": "markdown",
   "metadata": {},
   "source": [
    "**Exercise 5** Write your own silhouette_scores function that returns $s(i)$ for each sample."
   ]
  },
  {
   "cell_type": "code",
   "execution_count": 11,
   "metadata": {},
   "outputs": [
    {
     "data": {
      "text/plain": [
       "array([0.48290463, 0.48269865, 0.49026765, 0.50719152, 0.49592472,\n",
       "       0.52001019, 0.43803039, 0.34496628, 0.17728118, 0.35719196])"
      ]
     },
     "execution_count": 11,
     "metadata": {},
     "output_type": "execute_result"
    }
   ],
   "source": [
    "scores = Lab6_helper.silhouette_scores(X,cluster_labels[n_clusters])\n",
    "scores[:10]"
   ]
  },
  {
   "cell_type": "code",
   "execution_count": 12,
   "metadata": {},
   "outputs": [
    {
     "data": {
      "text/plain": [
       "0.3501070173015171"
      ]
     },
     "execution_count": 12,
     "metadata": {},
     "output_type": "execute_result"
    }
   ],
   "source": [
    "np.mean(scores) # do you match the sklearn implementation?"
   ]
  },
  {
   "cell_type": "markdown",
   "metadata": {},
   "source": [
    "### Creating our plots\n",
    "Let's put it all together and grab the scores for each cluster. I'll take over the plotting here. "
   ]
  },
  {
   "cell_type": "code",
   "execution_count": 13,
   "metadata": {},
   "outputs": [
    {
     "data": {
      "text/html": [
       "<div>\n",
       "<style scoped>\n",
       "    .dataframe tbody tr th:only-of-type {\n",
       "        vertical-align: middle;\n",
       "    }\n",
       "\n",
       "    .dataframe tbody tr th {\n",
       "        vertical-align: top;\n",
       "    }\n",
       "\n",
       "    .dataframe thead th {\n",
       "        text-align: right;\n",
       "    }\n",
       "</style>\n",
       "<table border=\"1\" class=\"dataframe\">\n",
       "  <thead>\n",
       "    <tr style=\"text-align: right;\">\n",
       "      <th></th>\n",
       "      <th>2</th>\n",
       "      <th>3</th>\n",
       "      <th>4</th>\n",
       "      <th>5</th>\n",
       "      <th>6</th>\n",
       "    </tr>\n",
       "  </thead>\n",
       "  <tbody>\n",
       "    <tr>\n",
       "      <th>0</th>\n",
       "      <td>0.482905</td>\n",
       "      <td>0.111317</td>\n",
       "      <td>-0.119251</td>\n",
       "      <td>0.161258</td>\n",
       "      <td>0.151266</td>\n",
       "    </tr>\n",
       "    <tr>\n",
       "      <th>1</th>\n",
       "      <td>0.482699</td>\n",
       "      <td>0.359980</td>\n",
       "      <td>0.333591</td>\n",
       "      <td>0.431904</td>\n",
       "      <td>0.426417</td>\n",
       "    </tr>\n",
       "    <tr>\n",
       "      <th>2</th>\n",
       "      <td>0.490268</td>\n",
       "      <td>0.069958</td>\n",
       "      <td>0.044696</td>\n",
       "      <td>0.175011</td>\n",
       "      <td>-0.001211</td>\n",
       "    </tr>\n",
       "    <tr>\n",
       "      <th>3</th>\n",
       "      <td>0.507192</td>\n",
       "      <td>0.017585</td>\n",
       "      <td>0.084974</td>\n",
       "      <td>0.073347</td>\n",
       "      <td>-0.116530</td>\n",
       "    </tr>\n",
       "    <tr>\n",
       "      <th>4</th>\n",
       "      <td>0.495925</td>\n",
       "      <td>0.012050</td>\n",
       "      <td>-0.062627</td>\n",
       "      <td>0.083226</td>\n",
       "      <td>-0.048251</td>\n",
       "    </tr>\n",
       "    <tr>\n",
       "      <th>...</th>\n",
       "      <td>...</td>\n",
       "      <td>...</td>\n",
       "      <td>...</td>\n",
       "      <td>...</td>\n",
       "      <td>...</td>\n",
       "    </tr>\n",
       "    <tr>\n",
       "      <th>501</th>\n",
       "      <td>0.308273</td>\n",
       "      <td>0.403986</td>\n",
       "      <td>0.389445</td>\n",
       "      <td>0.419260</td>\n",
       "      <td>0.341606</td>\n",
       "    </tr>\n",
       "    <tr>\n",
       "      <th>502</th>\n",
       "      <td>0.275853</td>\n",
       "      <td>0.434986</td>\n",
       "      <td>0.442088</td>\n",
       "      <td>0.404744</td>\n",
       "      <td>0.318094</td>\n",
       "    </tr>\n",
       "    <tr>\n",
       "      <th>503</th>\n",
       "      <td>0.274321</td>\n",
       "      <td>0.349670</td>\n",
       "      <td>0.251841</td>\n",
       "      <td>0.351757</td>\n",
       "      <td>0.244150</td>\n",
       "    </tr>\n",
       "    <tr>\n",
       "      <th>504</th>\n",
       "      <td>0.276608</td>\n",
       "      <td>0.378565</td>\n",
       "      <td>0.315943</td>\n",
       "      <td>0.370383</td>\n",
       "      <td>0.281310</td>\n",
       "    </tr>\n",
       "    <tr>\n",
       "      <th>505</th>\n",
       "      <td>0.226955</td>\n",
       "      <td>0.390618</td>\n",
       "      <td>0.453179</td>\n",
       "      <td>0.357349</td>\n",
       "      <td>0.275315</td>\n",
       "    </tr>\n",
       "  </tbody>\n",
       "</table>\n",
       "<p>506 rows × 5 columns</p>\n",
       "</div>"
      ],
      "text/plain": [
       "            2         3         4         5         6\n",
       "0    0.482905  0.111317 -0.119251  0.161258  0.151266\n",
       "1    0.482699  0.359980  0.333591  0.431904  0.426417\n",
       "2    0.490268  0.069958  0.044696  0.175011 -0.001211\n",
       "3    0.507192  0.017585  0.084974  0.073347 -0.116530\n",
       "4    0.495925  0.012050 -0.062627  0.083226 -0.048251\n",
       "..        ...       ...       ...       ...       ...\n",
       "501  0.308273  0.403986  0.389445  0.419260  0.341606\n",
       "502  0.275853  0.434986  0.442088  0.404744  0.318094\n",
       "503  0.274321  0.349670  0.251841  0.351757  0.244150\n",
       "504  0.276608  0.378565  0.315943  0.370383  0.281310\n",
       "505  0.226955  0.390618  0.453179  0.357349  0.275315\n",
       "\n",
       "[506 rows x 5 columns]"
      ]
     },
     "execution_count": 13,
     "metadata": {},
     "output_type": "execute_result"
    }
   ],
   "source": [
    "s_df = pd.DataFrame(index=X.index,columns=cluster_labels.columns)\n",
    "for k in s_df.columns:\n",
    "    s_df.loc[:,k] = Lab6_helper.silhouette_scores(X,cluster_labels[k])\n",
    "s_df"
   ]
  },
  {
   "cell_type": "code",
   "execution_count": 14,
   "metadata": {},
   "outputs": [
    {
     "data": {
      "text/html": [
       "<div>\n",
       "<style scoped>\n",
       "    .dataframe tbody tr th:only-of-type {\n",
       "        vertical-align: middle;\n",
       "    }\n",
       "\n",
       "    .dataframe tbody tr th {\n",
       "        vertical-align: top;\n",
       "    }\n",
       "\n",
       "    .dataframe thead th {\n",
       "        text-align: right;\n",
       "    }\n",
       "</style>\n",
       "<table border=\"1\" class=\"dataframe\">\n",
       "  <thead>\n",
       "    <tr style=\"text-align: right;\">\n",
       "      <th></th>\n",
       "      <th>i</th>\n",
       "      <th>2</th>\n",
       "      <th>3</th>\n",
       "      <th>4</th>\n",
       "      <th>5</th>\n",
       "      <th>6</th>\n",
       "    </tr>\n",
       "  </thead>\n",
       "  <tbody>\n",
       "    <tr>\n",
       "      <th>0</th>\n",
       "      <td>0</td>\n",
       "      <td>0.482905</td>\n",
       "      <td>0.111317</td>\n",
       "      <td>-0.119251</td>\n",
       "      <td>0.161258</td>\n",
       "      <td>0.151266</td>\n",
       "    </tr>\n",
       "    <tr>\n",
       "      <th>1</th>\n",
       "      <td>1</td>\n",
       "      <td>0.482699</td>\n",
       "      <td>0.359980</td>\n",
       "      <td>0.333591</td>\n",
       "      <td>0.431904</td>\n",
       "      <td>0.426417</td>\n",
       "    </tr>\n",
       "    <tr>\n",
       "      <th>2</th>\n",
       "      <td>2</td>\n",
       "      <td>0.490268</td>\n",
       "      <td>0.069958</td>\n",
       "      <td>0.044696</td>\n",
       "      <td>0.175011</td>\n",
       "      <td>-0.001211</td>\n",
       "    </tr>\n",
       "    <tr>\n",
       "      <th>3</th>\n",
       "      <td>3</td>\n",
       "      <td>0.507192</td>\n",
       "      <td>0.017585</td>\n",
       "      <td>0.084974</td>\n",
       "      <td>0.073347</td>\n",
       "      <td>-0.116530</td>\n",
       "    </tr>\n",
       "    <tr>\n",
       "      <th>4</th>\n",
       "      <td>4</td>\n",
       "      <td>0.495925</td>\n",
       "      <td>0.012050</td>\n",
       "      <td>-0.062627</td>\n",
       "      <td>0.083226</td>\n",
       "      <td>-0.048251</td>\n",
       "    </tr>\n",
       "    <tr>\n",
       "      <th>...</th>\n",
       "      <td>...</td>\n",
       "      <td>...</td>\n",
       "      <td>...</td>\n",
       "      <td>...</td>\n",
       "      <td>...</td>\n",
       "      <td>...</td>\n",
       "    </tr>\n",
       "    <tr>\n",
       "      <th>501</th>\n",
       "      <td>501</td>\n",
       "      <td>0.308273</td>\n",
       "      <td>0.403986</td>\n",
       "      <td>0.389445</td>\n",
       "      <td>0.419260</td>\n",
       "      <td>0.341606</td>\n",
       "    </tr>\n",
       "    <tr>\n",
       "      <th>502</th>\n",
       "      <td>502</td>\n",
       "      <td>0.275853</td>\n",
       "      <td>0.434986</td>\n",
       "      <td>0.442088</td>\n",
       "      <td>0.404744</td>\n",
       "      <td>0.318094</td>\n",
       "    </tr>\n",
       "    <tr>\n",
       "      <th>503</th>\n",
       "      <td>503</td>\n",
       "      <td>0.274321</td>\n",
       "      <td>0.349670</td>\n",
       "      <td>0.251841</td>\n",
       "      <td>0.351757</td>\n",
       "      <td>0.244150</td>\n",
       "    </tr>\n",
       "    <tr>\n",
       "      <th>504</th>\n",
       "      <td>504</td>\n",
       "      <td>0.276608</td>\n",
       "      <td>0.378565</td>\n",
       "      <td>0.315943</td>\n",
       "      <td>0.370383</td>\n",
       "      <td>0.281310</td>\n",
       "    </tr>\n",
       "    <tr>\n",
       "      <th>505</th>\n",
       "      <td>505</td>\n",
       "      <td>0.226955</td>\n",
       "      <td>0.390618</td>\n",
       "      <td>0.453179</td>\n",
       "      <td>0.357349</td>\n",
       "      <td>0.275315</td>\n",
       "    </tr>\n",
       "  </tbody>\n",
       "</table>\n",
       "<p>506 rows × 6 columns</p>\n",
       "</div>"
      ],
      "text/plain": [
       "       i         2         3         4         5         6\n",
       "0      0  0.482905  0.111317 -0.119251  0.161258  0.151266\n",
       "1      1  0.482699  0.359980  0.333591  0.431904  0.426417\n",
       "2      2  0.490268  0.069958  0.044696  0.175011 -0.001211\n",
       "3      3  0.507192  0.017585  0.084974  0.073347 -0.116530\n",
       "4      4  0.495925  0.012050 -0.062627  0.083226 -0.048251\n",
       "..   ...       ...       ...       ...       ...       ...\n",
       "501  501  0.308273  0.403986  0.389445  0.419260  0.341606\n",
       "502  502  0.275853  0.434986  0.442088  0.404744  0.318094\n",
       "503  503  0.274321  0.349670  0.251841  0.351757  0.244150\n",
       "504  504  0.276608  0.378565  0.315943  0.370383  0.281310\n",
       "505  505  0.226955  0.390618  0.453179  0.357349  0.275315\n",
       "\n",
       "[506 rows x 6 columns]"
      ]
     },
     "execution_count": 14,
     "metadata": {},
     "output_type": "execute_result"
    }
   ],
   "source": [
    "s_df.index.name=\"i\"\n",
    "s_df = s_df.reset_index()\n",
    "s_df"
   ]
  },
  {
   "cell_type": "code",
   "execution_count": 15,
   "metadata": {},
   "outputs": [
    {
     "data": {
      "application/vnd.vegalite.v4+json": {
       "$schema": "https://vega.github.io/schema/vega-lite/v4.8.1.json",
       "config": {
        "view": {
         "continuousHeight": 300,
         "continuousWidth": 400
        }
       },
       "data": {
        "name": "data-c67d5b10450a72e3a81a830f3e3eacd9"
       },
       "datasets": {
        "data-c67d5b10450a72e3a81a830f3e3eacd9": [
         {
          "i": 0,
          "k": 2,
          "s": 0.4829046313808931
         },
         {
          "i": 1,
          "k": 2,
          "s": 0.4826986529170899
         },
         {
          "i": 2,
          "k": 2,
          "s": 0.4902676515613682
         },
         {
          "i": 3,
          "k": 2,
          "s": 0.5071915224140049
         },
         {
          "i": 4,
          "k": 2,
          "s": 0.49592471993713916
         },
         {
          "i": 5,
          "k": 2,
          "s": 0.5200101905094618
         },
         {
          "i": 6,
          "k": 2,
          "s": 0.4380303880853189
         },
         {
          "i": 7,
          "k": 2,
          "s": 0.3449662827098253
         },
         {
          "i": 8,
          "k": 2,
          "s": 0.1772811822205992
         },
         {
          "i": 9,
          "k": 2,
          "s": 0.3571919629857129
         },
         {
          "i": 10,
          "k": 2,
          "s": 0.30280320953946516
         },
         {
          "i": 11,
          "k": 2,
          "s": 0.3921694146604694
         },
         {
          "i": 12,
          "k": 2,
          "s": 0.4234493859953995
         },
         {
          "i": 13,
          "k": 2,
          "s": 0.3870149353039002
         },
         {
          "i": 14,
          "k": 2,
          "s": 0.32750935048519814
         },
         {
          "i": 15,
          "k": 2,
          "s": 0.3808086239737314
         },
         {
          "i": 16,
          "k": 2,
          "s": 0.40236837504337963
         },
         {
          "i": 17,
          "k": 2,
          "s": 0.2955386734523887
         },
         {
          "i": 18,
          "k": 2,
          "s": 0.2916085421719018
         },
         {
          "i": 19,
          "k": 2,
          "s": 0.3231667552746701
         },
         {
          "i": 20,
          "k": 2,
          "s": 0.1321559169605817
         },
         {
          "i": 21,
          "k": 2,
          "s": 0.28925712316172036
         },
         {
          "i": 22,
          "k": 2,
          "s": 0.21901175231843617
         },
         {
          "i": 23,
          "k": 2,
          "s": 0.1713865284573517
         },
         {
          "i": 24,
          "k": 2,
          "s": 0.24123667787354985
         },
         {
          "i": 25,
          "k": 2,
          "s": 0.1906718207499587
         },
         {
          "i": 26,
          "k": 2,
          "s": 0.26423518091009424
         },
         {
          "i": 27,
          "k": 2,
          "s": 0.20577295767321224
         },
         {
          "i": 28,
          "k": 2,
          "s": 0.2980805115152094
         },
         {
          "i": 29,
          "k": 2,
          "s": 0.3267756978235983
         },
         {
          "i": 30,
          "k": 2,
          "s": 0.13185526835565387
         },
         {
          "i": 31,
          "k": 2,
          "s": 0.23794737686751766
         },
         {
          "i": 32,
          "k": 2,
          "s": -0.05152149530985484
         },
         {
          "i": 33,
          "k": 2,
          "s": 0.16438411788453533
         },
         {
          "i": 34,
          "k": 2,
          "s": 0.09368422925016595
         },
         {
          "i": 35,
          "k": 2,
          "s": 0.4212188368632638
         },
         {
          "i": 36,
          "k": 2,
          "s": 0.41915153176056497
         },
         {
          "i": 37,
          "k": 2,
          "s": 0.4594516807392335
         },
         {
          "i": 38,
          "k": 2,
          "s": 0.4633832230346868
         },
         {
          "i": 39,
          "k": 2,
          "s": 0.4658575237733884
         },
         {
          "i": 40,
          "k": 2,
          "s": 0.45427499687991935
         },
         {
          "i": 41,
          "k": 2,
          "s": 0.4877945120745196
         },
         {
          "i": 42,
          "k": 2,
          "s": 0.4904806015081079
         },
         {
          "i": 43,
          "k": 2,
          "s": 0.4916037152710644
         },
         {
          "i": 44,
          "k": 2,
          "s": 0.5105357696220125
         },
         {
          "i": 45,
          "k": 2,
          "s": 0.47693792310330174
         },
         {
          "i": 46,
          "k": 2,
          "s": 0.46699226200612487
         },
         {
          "i": 47,
          "k": 2,
          "s": 0.3786955175563538
         },
         {
          "i": 48,
          "k": 2,
          "s": 0.19604263699182534
         },
         {
          "i": 49,
          "k": 2,
          "s": 0.43008032562107035
         },
         {
          "i": 50,
          "k": 2,
          "s": 0.49416674221971135
         },
         {
          "i": 51,
          "k": 2,
          "s": 0.5075848598234427
         },
         {
          "i": 52,
          "k": 2,
          "s": 0.5275538464290028
         },
         {
          "i": 53,
          "k": 2,
          "s": 0.5136926588039782
         },
         {
          "i": 54,
          "k": 2,
          "s": 0.3345197528677629
         },
         {
          "i": 55,
          "k": 2,
          "s": 0.4212978677045631
         },
         {
          "i": 56,
          "k": 2,
          "s": 0.43029209805950597
         },
         {
          "i": 57,
          "k": 2,
          "s": 0.40884722939806006
         },
         {
          "i": 58,
          "k": 2,
          "s": 0.4784170451870239
         },
         {
          "i": 59,
          "k": 2,
          "s": 0.4690314995498429
         },
         {
          "i": 60,
          "k": 2,
          "s": 0.42019926414731834
         },
         {
          "i": 61,
          "k": 2,
          "s": 0.35889368248843256
         },
         {
          "i": 62,
          "k": 2,
          "s": 0.4731014357446923
         },
         {
          "i": 63,
          "k": 2,
          "s": 0.48015386264183313
         },
         {
          "i": 64,
          "k": 2,
          "s": 0.4764876605020131
         },
         {
          "i": 65,
          "k": 2,
          "s": 0.44270599247051823
         },
         {
          "i": 66,
          "k": 2,
          "s": 0.41484983337711046
         },
         {
          "i": 67,
          "k": 2,
          "s": 0.4855686906683513
         },
         {
          "i": 68,
          "k": 2,
          "s": 0.44246822644778283
         },
         {
          "i": 69,
          "k": 2,
          "s": 0.4900189735281335
         },
         {
          "i": 70,
          "k": 2,
          "s": 0.45423925759583583
         },
         {
          "i": 71,
          "k": 2,
          "s": 0.4438916804353359
         },
         {
          "i": 72,
          "k": 2,
          "s": 0.4469922074353617
         },
         {
          "i": 73,
          "k": 2,
          "s": 0.44777161675602384
         },
         {
          "i": 74,
          "k": 2,
          "s": 0.405445713353244
         },
         {
          "i": 75,
          "k": 2,
          "s": 0.41852020072602036
         },
         {
          "i": 76,
          "k": 2,
          "s": 0.34966417706154385
         },
         {
          "i": 77,
          "k": 2,
          "s": 0.4004087769272836
         },
         {
          "i": 78,
          "k": 2,
          "s": 0.40200497296342386
         },
         {
          "i": 79,
          "k": 2,
          "s": 0.40064075476860816
         },
         {
          "i": 80,
          "k": 2,
          "s": 0.5314432037298125
         },
         {
          "i": 81,
          "k": 2,
          "s": 0.5116057167475974
         },
         {
          "i": 82,
          "k": 2,
          "s": 0.530490251401117
         },
         {
          "i": 83,
          "k": 2,
          "s": 0.5261047619528332
         },
         {
          "i": 84,
          "k": 2,
          "s": 0.5247558417763036
         },
         {
          "i": 85,
          "k": 2,
          "s": 0.5228472459818163
         },
         {
          "i": 86,
          "k": 2,
          "s": 0.4946417125581063
         },
         {
          "i": 87,
          "k": 2,
          "s": 0.49940945739984666
         },
         {
          "i": 88,
          "k": 2,
          "s": 0.4492799681735302
         },
         {
          "i": 89,
          "k": 2,
          "s": 0.4884472122435247
         },
         {
          "i": 90,
          "k": 2,
          "s": 0.48067549318270564
         },
         {
          "i": 91,
          "k": 2,
          "s": 0.4685808259083196
         },
         {
          "i": 92,
          "k": 2,
          "s": 0.4349550123547805
         },
         {
          "i": 93,
          "k": 2,
          "s": 0.44089450639247596
         },
         {
          "i": 94,
          "k": 2,
          "s": 0.38021653003623124
         },
         {
          "i": 95,
          "k": 2,
          "s": 0.5026676833458403
         },
         {
          "i": 96,
          "k": 2,
          "s": 0.47312973750989196
         },
         {
          "i": 97,
          "k": 2,
          "s": 0.41162746212068835
         },
         {
          "i": 98,
          "k": 2,
          "s": 0.43024419662649527
         },
         {
          "i": 99,
          "k": 2,
          "s": 0.474070569543802
         },
         {
          "i": 100,
          "k": 2,
          "s": 0.3199699444419212
         },
         {
          "i": 101,
          "k": 2,
          "s": 0.343355683360684
         },
         {
          "i": 102,
          "k": 2,
          "s": 0.05536498053479433
         },
         {
          "i": 103,
          "k": 2,
          "s": 0.2402181564939495
         },
         {
          "i": 104,
          "k": 2,
          "s": 0.23623903263989954
         },
         {
          "i": 105,
          "k": 2,
          "s": 0.1538477122497276
         },
         {
          "i": 106,
          "k": 2,
          "s": 0.14722699490330837
         },
         {
          "i": 107,
          "k": 2,
          "s": 0.22187239931439773
         },
         {
          "i": 108,
          "k": 2,
          "s": 0.2243081061679013
         },
         {
          "i": 109,
          "k": 2,
          "s": 0.20776271714990768
         },
         {
          "i": 110,
          "k": 2,
          "s": 0.3189115743735196
         },
         {
          "i": 111,
          "k": 2,
          "s": 0.30406273914833193
         },
         {
          "i": 112,
          "k": 2,
          "s": 0.16724664259041833
         },
         {
          "i": 113,
          "k": 2,
          "s": 0.16608120084311118
         },
         {
          "i": 114,
          "k": 2,
          "s": 0.24977239667425344
         },
         {
          "i": 115,
          "k": 2,
          "s": 0.16364101117838825
         },
         {
          "i": 116,
          "k": 2,
          "s": 0.29807658261948267
         },
         {
          "i": 117,
          "k": 2,
          "s": 0.26912728099426264
         },
         {
          "i": 118,
          "k": 2,
          "s": 0.2120316961477049
         },
         {
          "i": 119,
          "k": 2,
          "s": 0.2646399023088807
         },
         {
          "i": 120,
          "k": 2,
          "s": 0.10292011612314622
         },
         {
          "i": 121,
          "k": 2,
          "s": 0.06846774898117103
         },
         {
          "i": 122,
          "k": 2,
          "s": -0.02484952471429558
         },
         {
          "i": 123,
          "k": 2,
          "s": 0.05920428183508364
         },
         {
          "i": 124,
          "k": 2,
          "s": -0.009590038360252517
         },
         {
          "i": 125,
          "k": 2,
          "s": 0.056215330739846525
         },
         {
          "i": 126,
          "k": 2,
          "s": 0.0866214842714933
         },
         {
          "i": 127,
          "k": 2,
          "s": 0.1730243881055249
         },
         {
          "i": 128,
          "k": 2,
          "s": 0.13168974911171982
         },
         {
          "i": 129,
          "k": 2,
          "s": 0.18243723089925745
         },
         {
          "i": 130,
          "k": 2,
          "s": 0.09492995325101139
         },
         {
          "i": 131,
          "k": 2,
          "s": 0.09392696363283248
         },
         {
          "i": 132,
          "k": 2,
          "s": 0.0633188376342061
         },
         {
          "i": 133,
          "k": 2,
          "s": 0.13067945550273152
         },
         {
          "i": 134,
          "k": 2,
          "s": 0.2078004196147193
         },
         {
          "i": 135,
          "k": 2,
          "s": 0.1420750556489142
         },
         {
          "i": 136,
          "k": 2,
          "s": 0.16050934523668192
         },
         {
          "i": 137,
          "k": 2,
          "s": 0.1277775908974872
         },
         {
          "i": 138,
          "k": 2,
          "s": 0.2055885837943635
         },
         {
          "i": 139,
          "k": 2,
          "s": 0.1685034297937913
         },
         {
          "i": 140,
          "k": 2,
          "s": 0.20229765047851722
         },
         {
          "i": 141,
          "k": 2,
          "s": 0.23068764139206455
         },
         {
          "i": 142,
          "k": 2,
          "s": 0.14036607355057995
         },
         {
          "i": 143,
          "k": 2,
          "s": 0.1987579723432461
         },
         {
          "i": 144,
          "k": 2,
          "s": 0.20482997171538264
         },
         {
          "i": 145,
          "k": 2,
          "s": 0.22284243882266197
         },
         {
          "i": 146,
          "k": 2,
          "s": 0.19751239865465675
         },
         {
          "i": 147,
          "k": 2,
          "s": 0.1987218062827374
         },
         {
          "i": 148,
          "k": 2,
          "s": 0.19805967463542473
         },
         {
          "i": 149,
          "k": 2,
          "s": 0.18752331460064753
         },
         {
          "i": 150,
          "k": 2,
          "s": 0.10996478269271937
         },
         {
          "i": 151,
          "k": 2,
          "s": 0.1410131541139774
         },
         {
          "i": 152,
          "k": 2,
          "s": 0.09053784286995237
         },
         {
          "i": 153,
          "k": 2,
          "s": 0.17068184929278507
         },
         {
          "i": 154,
          "k": 2,
          "s": 0.09229644337889331
         },
         {
          "i": 155,
          "k": 2,
          "s": 0.11916598674793355
         },
         {
          "i": 156,
          "k": 2,
          "s": 0.19466631099707732
         },
         {
          "i": 157,
          "k": 2,
          "s": 0.1777309002380406
         },
         {
          "i": 158,
          "k": 2,
          "s": 0.09364642779827803
         },
         {
          "i": 159,
          "k": 2,
          "s": 0.04820335600144443
         },
         {
          "i": 160,
          "k": 2,
          "s": 0.08156770339829023
         },
         {
          "i": 161,
          "k": 2,
          "s": 0.19919884458870396
         },
         {
          "i": 162,
          "k": 2,
          "s": 0.14403303418300728
         },
         {
          "i": 163,
          "k": 2,
          "s": 0.14572567413984627
         },
         {
          "i": 164,
          "k": 2,
          "s": 0.08946522343477559
         },
         {
          "i": 165,
          "k": 2,
          "s": -0.04934334687671105
         },
         {
          "i": 166,
          "k": 2,
          "s": 0.18608256099858078
         },
         {
          "i": 167,
          "k": 2,
          "s": -0.04652396167729833
         },
         {
          "i": 168,
          "k": 2,
          "s": 0.056980058637472464
         },
         {
          "i": 169,
          "k": 2,
          "s": 0.07353380774135776
         },
         {
          "i": 170,
          "k": 2,
          "s": -0.0018896823742313718
         },
         {
          "i": 171,
          "k": 2,
          "s": -0.04501591614127709
         },
         {
          "i": 172,
          "k": 2,
          "s": 0.3342249695757119
         },
         {
          "i": 173,
          "k": 2,
          "s": 0.4171072235685932
         },
         {
          "i": 174,
          "k": 2,
          "s": 0.42070755985597563
         },
         {
          "i": 175,
          "k": 2,
          "s": 0.4800012734121444
         },
         {
          "i": 176,
          "k": 2,
          "s": 0.46945084731338504
         },
         {
          "i": 177,
          "k": 2,
          "s": 0.4596954064285782
         },
         {
          "i": 178,
          "k": 2,
          "s": 0.4513742245543584
         },
         {
          "i": 179,
          "k": 2,
          "s": 0.4701820520019713
         },
         {
          "i": 180,
          "k": 2,
          "s": 0.40342979464652207
         },
         {
          "i": 181,
          "k": 2,
          "s": 0.4557291323990288
         },
         {
          "i": 182,
          "k": 2,
          "s": 0.4181972757296909
         },
         {
          "i": 183,
          "k": 2,
          "s": 0.4309503224508969
         },
         {
          "i": 184,
          "k": 2,
          "s": 0.38665924901769855
         },
         {
          "i": 185,
          "k": 2,
          "s": 0.4646575879859143
         },
         {
          "i": 186,
          "k": 2,
          "s": 0.39931755179643313
         },
         {
          "i": 187,
          "k": 2,
          "s": 0.47176385866379666
         },
         {
          "i": 188,
          "k": 2,
          "s": 0.48099756871678445
         },
         {
          "i": 189,
          "k": 2,
          "s": 0.47137430037703953
         },
         {
          "i": 190,
          "k": 2,
          "s": 0.4722493432658692
         },
         {
          "i": 191,
          "k": 2,
          "s": 0.4898079490219367
         },
         {
          "i": 192,
          "k": 2,
          "s": 0.47109254033286596
         },
         {
          "i": 193,
          "k": 2,
          "s": 0.4863893226323075
         },
         {
          "i": 194,
          "k": 2,
          "s": 0.49271772465581853
         },
         {
          "i": 195,
          "k": 2,
          "s": 0.3931264956559859
         },
         {
          "i": 196,
          "k": 2,
          "s": 0.41633077019803133
         },
         {
          "i": 197,
          "k": 2,
          "s": 0.41104873341412784
         },
         {
          "i": 198,
          "k": 2,
          "s": 0.41418122609095753
         },
         {
          "i": 199,
          "k": 2,
          "s": 0.410018123663505
         },
         {
          "i": 200,
          "k": 2,
          "s": 0.40816061113408075
         },
         {
          "i": 201,
          "k": 2,
          "s": 0.4292871420619696
         },
         {
          "i": 202,
          "k": 2,
          "s": 0.4112680697481078
         },
         {
          "i": 203,
          "k": 2,
          "s": 0.37845018334270386
         },
         {
          "i": 204,
          "k": 2,
          "s": 0.3700002608521936
         },
         {
          "i": 205,
          "k": 2,
          "s": 0.43495363153482525
         },
         {
          "i": 206,
          "k": 2,
          "s": 0.47086521911429746
         },
         {
          "i": 207,
          "k": 2,
          "s": 0.35578413241550777
         },
         {
          "i": 208,
          "k": 2,
          "s": 0.24594333355562314
         },
         {
          "i": 209,
          "k": 2,
          "s": 0.11495509123047798
         },
         {
          "i": 210,
          "k": 2,
          "s": 0.18331201010218157
         },
         {
          "i": 211,
          "k": 2,
          "s": 0.12129173345612354
         },
         {
          "i": 212,
          "k": 2,
          "s": 0.22491280780742962
         },
         {
          "i": 213,
          "k": 2,
          "s": 0.4699116083218452
         },
         {
          "i": 214,
          "k": 2,
          "s": 0.21522607721932396
         },
         {
          "i": 215,
          "k": 2,
          "s": 0.4695032766684849
         },
         {
          "i": 216,
          "k": 2,
          "s": 0.20013049458034593
         },
         {
          "i": 217,
          "k": 2,
          "s": 0.35358240051690315
         },
         {
          "i": 218,
          "k": 2,
          "s": 0.12926399663282973
         },
         {
          "i": 219,
          "k": 2,
          "s": 0.1873928909618292
         },
         {
          "i": 220,
          "k": 2,
          "s": 0.23719873621997423
         },
         {
          "i": 221,
          "k": 2,
          "s": 0.15808656823838307
         },
         {
          "i": 222,
          "k": 2,
          "s": 0.25647100961778657
         },
         {
          "i": 223,
          "k": 2,
          "s": 0.4287735945288933
         },
         {
          "i": 224,
          "k": 2,
          "s": 0.3399167670638107
         },
         {
          "i": 225,
          "k": 2,
          "s": 0.2987747396211111
         },
         {
          "i": 226,
          "k": 2,
          "s": 0.3601548037244393
         },
         {
          "i": 227,
          "k": 2,
          "s": 0.4158025177244026
         },
         {
          "i": 228,
          "k": 2,
          "s": 0.38573967440733603
         },
         {
          "i": 229,
          "k": 2,
          "s": 0.4563530687213426
         },
         {
          "i": 230,
          "k": 2,
          "s": 0.42626666343704556
         },
         {
          "i": 231,
          "k": 2,
          "s": 0.4203105773161111
         },
         {
          "i": 232,
          "k": 2,
          "s": 0.3600558369528236
         },
         {
          "i": 233,
          "k": 2,
          "s": 0.3474824108904191
         },
         {
          "i": 234,
          "k": 2,
          "s": 0.27419483496604524
         },
         {
          "i": 235,
          "k": 2,
          "s": 0.44280959860581304
         },
         {
          "i": 236,
          "k": 2,
          "s": 0.26511626775010666
         },
         {
          "i": 237,
          "k": 2,
          "s": 0.4397047668617735
         },
         {
          "i": 238,
          "k": 2,
          "s": 0.516025939019386
         },
         {
          "i": 239,
          "k": 2,
          "s": 0.5283642818992189
         },
         {
          "i": 240,
          "k": 2,
          "s": 0.5050253323890117
         },
         {
          "i": 241,
          "k": 2,
          "s": 0.4821944639672987
         },
         {
          "i": 242,
          "k": 2,
          "s": 0.503758526694959
         },
         {
          "i": 243,
          "k": 2,
          "s": 0.4964522093769186
         },
         {
          "i": 244,
          "k": 2,
          "s": 0.3884513982582364
         },
         {
          "i": 245,
          "k": 2,
          "s": 0.3659139438428076
         },
         {
          "i": 246,
          "k": 2,
          "s": 0.48056487280378957
         },
         {
          "i": 247,
          "k": 2,
          "s": 0.4318190360082954
         },
         {
          "i": 248,
          "k": 2,
          "s": 0.4866804600004687
         },
         {
          "i": 249,
          "k": 2,
          "s": 0.4856417717969277
         },
         {
          "i": 250,
          "k": 2,
          "s": 0.48590926668855206
         },
         {
          "i": 251,
          "k": 2,
          "s": 0.47675975581012553
         },
         {
          "i": 252,
          "k": 2,
          "s": 0.45404589450890176
         },
         {
          "i": 253,
          "k": 2,
          "s": 0.3891555996720034
         },
         {
          "i": 254,
          "k": 2,
          "s": 0.42815304294113143
         },
         {
          "i": 255,
          "k": 2,
          "s": 0.4140539822899123
         },
         {
          "i": 256,
          "k": 2,
          "s": 0.4135201628221449
         },
         {
          "i": 257,
          "k": 2,
          "s": 0.271353034446308
         },
         {
          "i": 258,
          "k": 2,
          "s": 0.30019982928242805
         },
         {
          "i": 259,
          "k": 2,
          "s": 0.30468910080673983
         },
         {
          "i": 260,
          "k": 2,
          "s": 0.3293436627606584
         },
         {
          "i": 261,
          "k": 2,
          "s": 0.31301872897884897
         },
         {
          "i": 262,
          "k": 2,
          "s": 0.283852159412468
         },
         {
          "i": 263,
          "k": 2,
          "s": 0.3009620641492202
         },
         {
          "i": 264,
          "k": 2,
          "s": 0.3151656164404697
         },
         {
          "i": 265,
          "k": 2,
          "s": 0.29406793224446137
         },
         {
          "i": 266,
          "k": 2,
          "s": 0.3009189846817816
         },
         {
          "i": 267,
          "k": 2,
          "s": 0.3245258968486765
         },
         {
          "i": 268,
          "k": 2,
          "s": 0.3852083035538131
         },
         {
          "i": 269,
          "k": 2,
          "s": 0.2820858042348364
         },
         {
          "i": 270,
          "k": 2,
          "s": 0.4845960701959664
         },
         {
          "i": 271,
          "k": 2,
          "s": 0.5087000714920833
         },
         {
          "i": 272,
          "k": 2,
          "s": 0.5177485566522377
         },
         {
          "i": 273,
          "k": 2,
          "s": 0.32788077181500785
         },
         {
          "i": 274,
          "k": 2,
          "s": 0.34986758808550744
         },
         {
          "i": 275,
          "k": 2,
          "s": 0.5117383308319527
         },
         {
          "i": 276,
          "k": 2,
          "s": 0.3465932255931825
         },
         {
          "i": 277,
          "k": 2,
          "s": 0.3557530165497206
         },
         {
          "i": 278,
          "k": 2,
          "s": 0.5168706658291162
         },
         {
          "i": 279,
          "k": 2,
          "s": 0.4992097826243217
         },
         {
          "i": 280,
          "k": 2,
          "s": 0.4321700299051434
         },
         {
          "i": 281,
          "k": 2,
          "s": 0.505917363123672
         },
         {
          "i": 282,
          "k": 2,
          "s": 0.33718399212421934
         },
         {
          "i": 283,
          "k": 2,
          "s": 0.31628881905034223
         },
         {
          "i": 284,
          "k": 2,
          "s": 0.43131757789268144
         },
         {
          "i": 285,
          "k": 2,
          "s": 0.48761263951077327
         },
         {
          "i": 286,
          "k": 2,
          "s": 0.41211410897752265
         },
         {
          "i": 287,
          "k": 2,
          "s": 0.49151177582667294
         },
         {
          "i": 288,
          "k": 2,
          "s": 0.49104673299913226
         },
         {
          "i": 289,
          "k": 2,
          "s": 0.48846439377329254
         },
         {
          "i": 290,
          "k": 2,
          "s": 0.44250780504734866
         },
         {
          "i": 291,
          "k": 2,
          "s": 0.4321987964254346
         },
         {
          "i": 292,
          "k": 2,
          "s": 0.44227108847738184
         },
         {
          "i": 293,
          "k": 2,
          "s": 0.4434205686859434
         },
         {
          "i": 294,
          "k": 2,
          "s": 0.43808271160027823
         },
         {
          "i": 295,
          "k": 2,
          "s": 0.4654845165678143
         },
         {
          "i": 296,
          "k": 2,
          "s": 0.46327830428966277
         },
         {
          "i": 297,
          "k": 2,
          "s": 0.3838498184869663
         },
         {
          "i": 298,
          "k": 2,
          "s": 0.4400126334858875
         },
         {
          "i": 299,
          "k": 2,
          "s": 0.44203302372729647
         },
         {
          "i": 300,
          "k": 2,
          "s": 0.44809988434938997
         },
         {
          "i": 301,
          "k": 2,
          "s": 0.5042399520363916
         },
         {
          "i": 302,
          "k": 2,
          "s": 0.500806167607426
         },
         {
          "i": 303,
          "k": 2,
          "s": 0.4951906082564367
         },
         {
          "i": 304,
          "k": 2,
          "s": 0.48839593924650826
         },
         {
          "i": 305,
          "k": 2,
          "s": 0.4950723819655348
         },
         {
          "i": 306,
          "k": 2,
          "s": 0.45220973894668526
         },
         {
          "i": 307,
          "k": 2,
          "s": 0.4778979052887369
         },
         {
          "i": 308,
          "k": 2,
          "s": 0.39287134331565665
         },
         {
          "i": 309,
          "k": 2,
          "s": 0.3665666129158437
         },
         {
          "i": 310,
          "k": 2,
          "s": 0.247632429552191
         },
         {
          "i": 311,
          "k": 2,
          "s": 0.4066710672317574
         },
         {
          "i": 312,
          "k": 2,
          "s": 0.3116760883833126
         },
         {
          "i": 313,
          "k": 2,
          "s": 0.3807900021352719
         },
         {
          "i": 314,
          "k": 2,
          "s": 0.38462598868838827
         },
         {
          "i": 315,
          "k": 2,
          "s": 0.3370425545136664
         },
         {
          "i": 316,
          "k": 2,
          "s": 0.28612482229857283
         },
         {
          "i": 317,
          "k": 2,
          "s": 0.3427549386937714
         },
         {
          "i": 318,
          "k": 2,
          "s": 0.419671562665883
         },
         {
          "i": 319,
          "k": 2,
          "s": 0.413093647898818
         },
         {
          "i": 320,
          "k": 2,
          "s": 0.4833167847311427
         },
         {
          "i": 321,
          "k": 2,
          "s": 0.480277112433803
         },
         {
          "i": 322,
          "k": 2,
          "s": 0.46622441212797827
         },
         {
          "i": 323,
          "k": 2,
          "s": 0.39342101697226606
         },
         {
          "i": 324,
          "k": 2,
          "s": 0.4881877922722514
         },
         {
          "i": 325,
          "k": 2,
          "s": 0.4704727380151361
         },
         {
          "i": 326,
          "k": 2,
          "s": 0.4822789335031028
         },
         {
          "i": 327,
          "k": 2,
          "s": 0.4608538815938982
         },
         {
          "i": 328,
          "k": 2,
          "s": 0.4448921931052858
         },
         {
          "i": 329,
          "k": 2,
          "s": 0.4676410824555104
         },
         {
          "i": 330,
          "k": 2,
          "s": 0.4636606804709761
         },
         {
          "i": 331,
          "k": 2,
          "s": 0.4652348993060338
         },
         {
          "i": 332,
          "k": 2,
          "s": 0.4953781852821907
         },
         {
          "i": 333,
          "k": 2,
          "s": 0.47458135727249673
         },
         {
          "i": 334,
          "k": 2,
          "s": 0.47051020263345555
         },
         {
          "i": 335,
          "k": 2,
          "s": 0.4657317993954597
         },
         {
          "i": 336,
          "k": 2,
          "s": 0.4490062618019448
         },
         {
          "i": 337,
          "k": 2,
          "s": 0.43616336578574233
         },
         {
          "i": 338,
          "k": 2,
          "s": 0.4616933610547508
         },
         {
          "i": 339,
          "k": 2,
          "s": 0.45017419786694923
         },
         {
          "i": 340,
          "k": 2,
          "s": 0.44228223521721644
         },
         {
          "i": 341,
          "k": 2,
          "s": 0.5055188043936261
         },
         {
          "i": 342,
          "k": 2,
          "s": 0.43834533172182844
         },
         {
          "i": 343,
          "k": 2,
          "s": 0.4768469103258073
         },
         {
          "i": 344,
          "k": 2,
          "s": 0.48403988361089656
         },
         {
          "i": 345,
          "k": 2,
          "s": 0.4485653029041564
         },
         {
          "i": 346,
          "k": 2,
          "s": 0.42759147484442916
         },
         {
          "i": 347,
          "k": 2,
          "s": 0.42168625979285945
         },
         {
          "i": 348,
          "k": 2,
          "s": 0.44890359712572514
         },
         {
          "i": 349,
          "k": 2,
          "s": 0.47599685464284025
         },
         {
          "i": 350,
          "k": 2,
          "s": 0.47489183302552807
         },
         {
          "i": 351,
          "k": 2,
          "s": 0.41990354977686906
         },
         {
          "i": 352,
          "k": 2,
          "s": 0.39539962575451515
         },
         {
          "i": 353,
          "k": 2,
          "s": 0.3861552004796681
         },
         {
          "i": 354,
          "k": 2,
          "s": 0.3353815319225759
         },
         {
          "i": 355,
          "k": 2,
          "s": 0.34916864988711904
         },
         {
          "i": 356,
          "k": 2,
          "s": 0.2705543727656724
         },
         {
          "i": 357,
          "k": 2,
          "s": 0.21945308446149558
         },
         {
          "i": 358,
          "k": 2,
          "s": 0.20881824147132722
         },
         {
          "i": 359,
          "k": 2,
          "s": 0.3584773353848961
         },
         {
          "i": 360,
          "k": 2,
          "s": 0.30811221965186697
         },
         {
          "i": 361,
          "k": 2,
          "s": 0.40409479951112093
         },
         {
          "i": 362,
          "k": 2,
          "s": 0.36165513052928777
         },
         {
          "i": 363,
          "k": 2,
          "s": 0.2596406489235341
         },
         {
          "i": 364,
          "k": 2,
          "s": 0.08735581562161321
         },
         {
          "i": 365,
          "k": 2,
          "s": 0.2362735611046879
         },
         {
          "i": 366,
          "k": 2,
          "s": 0.3808554301896979
         },
         {
          "i": 367,
          "k": 2,
          "s": 0.31174095776632327
         },
         {
          "i": 368,
          "k": 2,
          "s": 0.12267434783030928
         },
         {
          "i": 369,
          "k": 2,
          "s": 0.0638497425791742
         },
         {
          "i": 370,
          "k": 2,
          "s": 0.05387394845274773
         },
         {
          "i": 371,
          "k": 2,
          "s": 0.158385698316321
         },
         {
          "i": 372,
          "k": 2,
          "s": 0.11742083691132432
         },
         {
          "i": 373,
          "k": 2,
          "s": 0.3898812707227792
         },
         {
          "i": 374,
          "k": 2,
          "s": 0.34738802277378145
         },
         {
          "i": 375,
          "k": 2,
          "s": 0.3350918080950145
         },
         {
          "i": 376,
          "k": 2,
          "s": 0.435664660433426
         },
         {
          "i": 377,
          "k": 2,
          "s": 0.41396858181089113
         },
         {
          "i": 378,
          "k": 2,
          "s": 0.4141575970759849
         },
         {
          "i": 379,
          "k": 2,
          "s": 0.44185724132742765
         },
         {
          "i": 380,
          "k": 2,
          "s": 0.15882627489026124
         },
         {
          "i": 381,
          "k": 2,
          "s": 0.4302222778625884
         },
         {
          "i": 382,
          "k": 2,
          "s": 0.4510685015224265
         },
         {
          "i": 383,
          "k": 2,
          "s": 0.44680141424661257
         },
         {
          "i": 384,
          "k": 2,
          "s": 0.4013992851509627
         },
         {
          "i": 385,
          "k": 2,
          "s": 0.42346790315024607
         },
         {
          "i": 386,
          "k": 2,
          "s": 0.39614203091524935
         },
         {
          "i": 387,
          "k": 2,
          "s": 0.3986689496964295
         },
         {
          "i": 388,
          "k": 2,
          "s": 0.42168275134569777
         },
         {
          "i": 389,
          "k": 2,
          "s": 0.4427798885423526
         },
         {
          "i": 390,
          "k": 2,
          "s": 0.43658667046577715
         },
         {
          "i": 391,
          "k": 2,
          "s": 0.3981496682817577
         },
         {
          "i": 392,
          "k": 2,
          "s": 0.4298563143994929
         },
         {
          "i": 393,
          "k": 2,
          "s": 0.4266122663398978
         },
         {
          "i": 394,
          "k": 2,
          "s": 0.44181086556196236
         },
         {
          "i": 395,
          "k": 2,
          "s": 0.4315546569892953
         },
         {
          "i": 396,
          "k": 2,
          "s": 0.4289934068795924
         },
         {
          "i": 397,
          "k": 2,
          "s": 0.4453682230468823
         },
         {
          "i": 398,
          "k": 2,
          "s": 0.3550665116819214
         },
         {
          "i": 399,
          "k": 2,
          "s": 0.4291141519345828
         },
         {
          "i": 400,
          "k": 2,
          "s": 0.41474414716892627
         },
         {
          "i": 401,
          "k": 2,
          "s": 0.4390070294634756
         },
         {
          "i": 402,
          "k": 2,
          "s": 0.4525383244952955
         },
         {
          "i": 403,
          "k": 2,
          "s": 0.4129394075319667
         },
         {
          "i": 404,
          "k": 2,
          "s": 0.35232918692224446
         },
         {
          "i": 405,
          "k": 2,
          "s": 0.23870122087686563
         },
         {
          "i": 406,
          "k": 2,
          "s": 0.3779363392565429
         },
         {
          "i": 407,
          "k": 2,
          "s": 0.37193029080675477
         },
         {
          "i": 408,
          "k": 2,
          "s": 0.42743164851205984
         },
         {
          "i": 409,
          "k": 2,
          "s": 0.3519535498488505
         },
         {
          "i": 410,
          "k": 2,
          "s": 0.2530413397055771
         },
         {
          "i": 411,
          "k": 2,
          "s": 0.35990686023297536
         },
         {
          "i": 412,
          "k": 2,
          "s": 0.33981388446263805
         },
         {
          "i": 413,
          "k": 2,
          "s": 0.38921966992463886
         },
         {
          "i": 414,
          "k": 2,
          "s": 0.3117315543665886
         },
         {
          "i": 415,
          "k": 2,
          "s": 0.3835596235004034
         },
         {
          "i": 416,
          "k": 2,
          "s": 0.3698558604950478
         },
         {
          "i": 417,
          "k": 2,
          "s": 0.40822977991515397
         },
         {
          "i": 418,
          "k": 2,
          "s": 0.22159536125878598
         },
         {
          "i": 419,
          "k": 2,
          "s": 0.37575829206733335
         },
         {
          "i": 420,
          "k": 2,
          "s": 0.44694786263296327
         },
         {
          "i": 421,
          "k": 2,
          "s": 0.45656228139916943
         },
         {
          "i": 422,
          "k": 2,
          "s": 0.4017938428467439
         },
         {
          "i": 423,
          "k": 2,
          "s": 0.3526425612536055
         },
         {
          "i": 424,
          "k": 2,
          "s": 0.32332463930635813
         },
         {
          "i": 425,
          "k": 2,
          "s": 0.38799662741664165
         },
         {
          "i": 426,
          "k": 2,
          "s": 0.31939812405397416
         },
         {
          "i": 427,
          "k": 2,
          "s": 0.31206168046686833
         },
         {
          "i": 428,
          "k": 2,
          "s": 0.40403289725186897
         },
         {
          "i": 429,
          "k": 2,
          "s": 0.40214997266749686
         },
         {
          "i": 430,
          "k": 2,
          "s": 0.3630979726129545
         },
         {
          "i": 431,
          "k": 2,
          "s": 0.3568346962117338
         },
         {
          "i": 432,
          "k": 2,
          "s": 0.3127814818040038
         },
         {
          "i": 433,
          "k": 2,
          "s": 0.38822419674952635
         },
         {
          "i": 434,
          "k": 2,
          "s": 0.4100695088564137
         },
         {
          "i": 435,
          "k": 2,
          "s": 0.4196086614461053
         },
         {
          "i": 436,
          "k": 2,
          "s": 0.386645317491367
         },
         {
          "i": 437,
          "k": 2,
          "s": 0.39322130406502387
         },
         {
          "i": 438,
          "k": 2,
          "s": 0.3955155407724128
         },
         {
          "i": 439,
          "k": 2,
          "s": 0.453711463674102
         },
         {
          "i": 440,
          "k": 2,
          "s": 0.43854222082811567
         },
         {
          "i": 441,
          "k": 2,
          "s": 0.4432864941264767
         },
         {
          "i": 442,
          "k": 2,
          "s": 0.42298804377365207
         },
         {
          "i": 443,
          "k": 2,
          "s": 0.4426968726697803
         },
         {
          "i": 444,
          "k": 2,
          "s": 0.4762550037129909
         },
         {
          "i": 445,
          "k": 2,
          "s": 0.4005824211378535
         },
         {
          "i": 446,
          "k": 2,
          "s": 0.45467690228476954
         },
         {
          "i": 447,
          "k": 2,
          "s": 0.44190322841747853
         },
         {
          "i": 448,
          "k": 2,
          "s": 0.4441378269220918
         },
         {
          "i": 449,
          "k": 2,
          "s": 0.4588554574067709
         },
         {
          "i": 450,
          "k": 2,
          "s": 0.345601555346842
         },
         {
          "i": 451,
          "k": 2,
          "s": 0.42065242782588064
         },
         {
          "i": 452,
          "k": 2,
          "s": 0.42179088405579157
         },
         {
          "i": 453,
          "k": 2,
          "s": 0.34295159568514944
         },
         {
          "i": 454,
          "k": 2,
          "s": 0.3564108566066083
         },
         {
          "i": 455,
          "k": 2,
          "s": 0.3676951881320265
         },
         {
          "i": 456,
          "k": 2,
          "s": 0.3629487704738493
         },
         {
          "i": 457,
          "k": 2,
          "s": 0.3547315481675388
         },
         {
          "i": 458,
          "k": 2,
          "s": 0.4322690048270844
         },
         {
          "i": 459,
          "k": 2,
          "s": 0.3898201690902253
         },
         {
          "i": 460,
          "k": 2,
          "s": 0.40616492798556625
         },
         {
          "i": 461,
          "k": 2,
          "s": 0.383387777356231
         },
         {
          "i": 462,
          "k": 2,
          "s": 0.37713752732420014
         },
         {
          "i": 463,
          "k": 2,
          "s": 0.33672007424963657
         },
         {
          "i": 464,
          "k": 2,
          "s": 0.3140772795282024
         },
         {
          "i": 465,
          "k": 2,
          "s": 0.2883032384014692
         },
         {
          "i": 466,
          "k": 2,
          "s": 0.33206352003730755
         },
         {
          "i": 467,
          "k": 2,
          "s": 0.39261240960376886
         },
         {
          "i": 468,
          "k": 2,
          "s": 0.35646247600592895
         },
         {
          "i": 469,
          "k": 2,
          "s": 0.2922686173846092
         },
         {
          "i": 470,
          "k": 2,
          "s": 0.3207049288597873
         },
         {
          "i": 471,
          "k": 2,
          "s": 0.26564203891692983
         },
         {
          "i": 472,
          "k": 2,
          "s": 0.2656009716440382
         },
         {
          "i": 473,
          "k": 2,
          "s": 0.19483939505101844
         },
         {
          "i": 474,
          "k": 2,
          "s": 0.4024478166539678
         },
         {
          "i": 475,
          "k": 2,
          "s": 0.4201418258414722
         },
         {
          "i": 476,
          "k": 2,
          "s": 0.37637280730072187
         },
         {
          "i": 477,
          "k": 2,
          "s": 0.434252590309102
         },
         {
          "i": 478,
          "k": 2,
          "s": 0.4211637849146578
         },
         {
          "i": 479,
          "k": 2,
          "s": 0.36508635233506137
         },
         {
          "i": 480,
          "k": 2,
          "s": 0.18483398307217558
         },
         {
          "i": 481,
          "k": 2,
          "s": 0.15172099686294538
         },
         {
          "i": 482,
          "k": 2,
          "s": 0.11986963294430542
         },
         {
          "i": 483,
          "k": 2,
          "s": 0.10590931856571817
         },
         {
          "i": 484,
          "k": 2,
          "s": 0.18866529076235883
         },
         {
          "i": 485,
          "k": 2,
          "s": 0.1692927289689321
         },
         {
          "i": 486,
          "k": 2,
          "s": 0.30818608697575844
         },
         {
          "i": 487,
          "k": 2,
          "s": 0.22594981810137982
         },
         {
          "i": 488,
          "k": 2,
          "s": 0.2752693974481787
         },
         {
          "i": 489,
          "k": 2,
          "s": 0.3152210885061798
         },
         {
          "i": 490,
          "k": 2,
          "s": 0.31480911432651615
         },
         {
          "i": 491,
          "k": 2,
          "s": 0.280516221182594
         },
         {
          "i": 492,
          "k": 2,
          "s": 0.21585161124169694
         },
         {
          "i": 493,
          "k": 2,
          "s": 0.27007551927191265
         },
         {
          "i": 494,
          "k": 2,
          "s": 0.29090077326218167
         },
         {
          "i": 495,
          "k": 2,
          "s": 0.2535929857084901
         },
         {
          "i": 496,
          "k": 2,
          "s": 0.12265564818758357
         },
         {
          "i": 497,
          "k": 2,
          "s": 0.23224783944318494
         },
         {
          "i": 498,
          "k": 2,
          "s": 0.26400565408061827
         },
         {
          "i": 499,
          "k": 2,
          "s": 0.17647062404367186
         },
         {
          "i": 500,
          "k": 2,
          "s": 0.19779687145174918
         },
         {
          "i": 501,
          "k": 2,
          "s": 0.30827330233777217
         },
         {
          "i": 502,
          "k": 2,
          "s": 0.27585268077299185
         },
         {
          "i": 503,
          "k": 2,
          "s": 0.2743213232161741
         },
         {
          "i": 504,
          "k": 2,
          "s": 0.2766080637740641
         },
         {
          "i": 505,
          "k": 2,
          "s": 0.22695507157307482
         },
         {
          "i": 0,
          "k": 3,
          "s": 0.1113169713759663
         },
         {
          "i": 1,
          "k": 3,
          "s": 0.3599800759310934
         },
         {
          "i": 2,
          "k": 3,
          "s": 0.06995796355384198
         },
         {
          "i": 3,
          "k": 3,
          "s": 0.017584983247697528
         },
         {
          "i": 4,
          "k": 3,
          "s": 0.012049973165448757
         },
         {
          "i": 5,
          "k": 3,
          "s": 0.15052487452840113
         },
         {
          "i": 6,
          "k": 3,
          "s": 0.2464891218725257
         },
         {
          "i": 7,
          "k": 3,
          "s": 0.24823776805403486
         },
         {
          "i": 8,
          "k": 3,
          "s": 0.2607066108737829
         },
         {
          "i": 9,
          "k": 3,
          "s": 0.25954922303737227
         },
         {
          "i": 10,
          "k": 3,
          "s": 0.25926860400641083
         },
         {
          "i": 11,
          "k": 3,
          "s": 0.2632663907445435
         },
         {
          "i": 12,
          "k": 3,
          "s": 0.198646056024945
         },
         {
          "i": 13,
          "k": 3,
          "s": 0.4019659580465138
         },
         {
          "i": 14,
          "k": 3,
          "s": 0.4345713473899654
         },
         {
          "i": 15,
          "k": 3,
          "s": 0.40145763490000264
         },
         {
          "i": 16,
          "k": 3,
          "s": 0.29932006853439563
         },
         {
          "i": 17,
          "k": 3,
          "s": 0.44934849032561797
         },
         {
          "i": 18,
          "k": 3,
          "s": 0.3479095164745686
         },
         {
          "i": 19,
          "k": 3,
          "s": 0.44565268604179176
         },
         {
          "i": 20,
          "k": 3,
          "s": 0.3119154760781825
         },
         {
          "i": 21,
          "k": 3,
          "s": 0.44838543482267634
         },
         {
          "i": 22,
          "k": 3,
          "s": 0.38592283220072365
         },
         {
          "i": 23,
          "k": 3,
          "s": 0.3451455291018759
         },
         {
          "i": 24,
          "k": 3,
          "s": 0.4055973492098107
         },
         {
          "i": 25,
          "k": 3,
          "s": 0.3550065149765682
         },
         {
          "i": 26,
          "k": 3,
          "s": 0.42300398651514426
         },
         {
          "i": 27,
          "k": 3,
          "s": 0.36786180701896976
         },
         {
          "i": 28,
          "k": 3,
          "s": 0.4164874742537992
         },
         {
          "i": 29,
          "k": 3,
          "s": 0.40300890578007365
         },
         {
          "i": 30,
          "k": 3,
          "s": 0.30491499436943825
         },
         {
          "i": 31,
          "k": 3,
          "s": 0.40092393383570213
         },
         {
          "i": 32,
          "k": 3,
          "s": 0.1969256983633766
         },
         {
          "i": 33,
          "k": 3,
          "s": 0.34421956998209136
         },
         {
          "i": 34,
          "k": 3,
          "s": 0.26170109684681975
         },
         {
          "i": 35,
          "k": 3,
          "s": 0.4465951000873639
         },
         {
          "i": 36,
          "k": 3,
          "s": 0.44464254983648777
         },
         {
          "i": 37,
          "k": 3,
          "s": 0.3718783030696653
         },
         {
          "i": 38,
          "k": 3,
          "s": 0.31944498486119166
         },
         {
          "i": 39,
          "k": 3,
          "s": 0.3569116240084378
         },
         {
          "i": 40,
          "k": 3,
          "s": 0.38103637570306104
         },
         {
          "i": 41,
          "k": 3,
          "s": 0.023866866262007957
         },
         {
          "i": 42,
          "k": 3,
          "s": 0.06131890978294163
         },
         {
          "i": 43,
          "k": 3,
          "s": 0.07430522904114945
         },
         {
          "i": 44,
          "k": 3,
          "s": 0.26176762424812905
         },
         {
          "i": 45,
          "k": 3,
          "s": 0.29042618228680883
         },
         {
          "i": 46,
          "k": 3,
          "s": 0.2986632920511483
         },
         {
          "i": 47,
          "k": 3,
          "s": 0.3677852823791
         },
         {
          "i": 48,
          "k": 3,
          "s": 0.3041187275317113
         },
         {
          "i": 49,
          "k": 3,
          "s": 0.3399492135354838
         },
         {
          "i": 50,
          "k": 3,
          "s": 0.09626220346886061
         },
         {
          "i": 51,
          "k": 3,
          "s": 0.10465228311925567
         },
         {
          "i": 52,
          "k": 3,
          "s": 0.17211328339992893
         },
         {
          "i": 53,
          "k": 3,
          "s": 0.06775909725054496
         },
         {
          "i": 54,
          "k": 3,
          "s": 0.10135935040391819
         },
         {
          "i": 55,
          "k": 3,
          "s": 0.4055386103537634
         },
         {
          "i": 56,
          "k": 3,
          "s": 0.3666059226843771
         },
         {
          "i": 57,
          "k": 3,
          "s": 0.3912792235694267
         },
         {
          "i": 58,
          "k": 3,
          "s": 0.06257125699316413
         },
         {
          "i": 59,
          "k": 3,
          "s": 0.11138846768016064
         },
         {
          "i": 60,
          "k": 3,
          "s": 0.19439244208106443
         },
         {
          "i": 61,
          "k": 3,
          "s": 0.25356233366901115
         },
         {
          "i": 62,
          "k": 3,
          "s": 0.07008916025550682
         },
         {
          "i": 63,
          "k": 3,
          "s": 0.08267259832531604
         },
         {
          "i": 64,
          "k": 3,
          "s": 0.1656176371596152
         },
         {
          "i": 65,
          "k": 3,
          "s": 0.36709727274786386
         },
         {
          "i": 66,
          "k": 3,
          "s": 0.2601736831574729
         },
         {
          "i": 67,
          "k": 3,
          "s": 0.07319215759082054
         },
         {
          "i": 68,
          "k": 3,
          "s": 0.20418010198836922
         },
         {
          "i": 69,
          "k": 3,
          "s": 0.13055413498662638
         },
         {
          "i": 70,
          "k": 3,
          "s": 0.11146551398122428
         },
         {
          "i": 71,
          "k": 3,
          "s": 0.225706592093743
         },
         {
          "i": 72,
          "k": 3,
          "s": 0.14419400204076482
         },
         {
          "i": 73,
          "k": 3,
          "s": 0.1369695483895894
         },
         {
          "i": 74,
          "k": 3,
          "s": 0.1667941491260645
         },
         {
          "i": 75,
          "k": 3,
          "s": 0.33359393632038736
         },
         {
          "i": 76,
          "k": 3,
          "s": 0.4174203189198843
         },
         {
          "i": 77,
          "k": 3,
          "s": 0.3649726778437833
         },
         {
          "i": 78,
          "k": 3,
          "s": 0.36111268801367635
         },
         {
          "i": 79,
          "k": 3,
          "s": 0.3295615842361257
         },
         {
          "i": 80,
          "k": 3,
          "s": 0.09953673639155292
         },
         {
          "i": 81,
          "k": 3,
          "s": 0.12059324268608418
         },
         {
          "i": 82,
          "k": 3,
          "s": 0.0009677040895388345
         },
         {
          "i": 83,
          "k": 3,
          "s": 0.09915510417232143
         },
         {
          "i": 84,
          "k": 3,
          "s": 0.2845488558700965
         },
         {
          "i": 85,
          "k": 3,
          "s": 0.2468637216767564
         },
         {
          "i": 86,
          "k": 3,
          "s": 0.33727095030430676
         },
         {
          "i": 87,
          "k": 3,
          "s": 0.3611884412183787
         },
         {
          "i": 88,
          "k": 3,
          "s": 0.2806384866739037
         },
         {
          "i": 89,
          "k": 3,
          "s": 0.20085799093454637
         },
         {
          "i": 90,
          "k": 3,
          "s": 0.3640809604605293
         },
         {
          "i": 91,
          "k": 3,
          "s": 0.3728537897593046
         },
         {
          "i": 92,
          "k": 3,
          "s": 0.22517133504388442
         },
         {
          "i": 93,
          "k": 3,
          "s": 0.1302079469857259
         },
         {
          "i": 94,
          "k": 3,
          "s": 0.3177417641602318
         },
         {
          "i": 95,
          "k": 3,
          "s": 0.23708304123099344
         },
         {
          "i": 96,
          "k": 3,
          "s": 0.3784332851750799
         },
         {
          "i": 97,
          "k": 3,
          "s": -0.0010567950439038798
         },
         {
          "i": 98,
          "k": 3,
          "s": 0.09587922644889457
         },
         {
          "i": 99,
          "k": 3,
          "s": 0.09088573467330274
         },
         {
          "i": 100,
          "k": 3,
          "s": 0.3707752375453879
         },
         {
          "i": 101,
          "k": 3,
          "s": 0.3534631884355165
         },
         {
          "i": 102,
          "k": 3,
          "s": 0.16256676883041943
         },
         {
          "i": 103,
          "k": 3,
          "s": 0.41151988263430017
         },
         {
          "i": 104,
          "k": 3,
          "s": 0.4060479269038547
         },
         {
          "i": 105,
          "k": 3,
          "s": 0.3417324910166144
         },
         {
          "i": 106,
          "k": 3,
          "s": 0.33448439757519144
         },
         {
          "i": 107,
          "k": 3,
          "s": 0.39589309460033284
         },
         {
          "i": 108,
          "k": 3,
          "s": 0.38712647923680144
         },
         {
          "i": 109,
          "k": 3,
          "s": 0.3838521277086374
         },
         {
          "i": 110,
          "k": 3,
          "s": 0.4169388482461788
         },
         {
          "i": 111,
          "k": 3,
          "s": 0.39725633273210725
         },
         {
          "i": 112,
          "k": 3,
          "s": 0.35874246610552163
         },
         {
          "i": 113,
          "k": 3,
          "s": 0.35456429988021654
         },
         {
          "i": 114,
          "k": 3,
          "s": 0.41608213825475093
         },
         {
          "i": 115,
          "k": 3,
          "s": 0.35621747314030927
         },
         {
          "i": 116,
          "k": 3,
          "s": 0.44428264362258996
         },
         {
          "i": 117,
          "k": 3,
          "s": 0.4344831779851617
         },
         {
          "i": 118,
          "k": 3,
          "s": 0.38916875223773095
         },
         {
          "i": 119,
          "k": 3,
          "s": 0.4278816705611871
         },
         {
          "i": 120,
          "k": 3,
          "s": 0.2811403932726687
         },
         {
          "i": 121,
          "k": 3,
          "s": 0.26147036712347393
         },
         {
          "i": 122,
          "k": 3,
          "s": 0.22226017805012344
         },
         {
          "i": 123,
          "k": 3,
          "s": 0.13724837453621785
         },
         {
          "i": 124,
          "k": 3,
          "s": 0.21135312195130995
         },
         {
          "i": 125,
          "k": 3,
          "s": 0.25198469352796193
         },
         {
          "i": 126,
          "k": 3,
          "s": 0.10406533481107272
         },
         {
          "i": 127,
          "k": 3,
          "s": -0.03810159989476225
         },
         {
          "i": 128,
          "k": 3,
          "s": -0.07932497264674288
         },
         {
          "i": 129,
          "k": 3,
          "s": -0.02347730502680878
         },
         {
          "i": 130,
          "k": 3,
          "s": 0.10750882330299727
         },
         {
          "i": 131,
          "k": 3,
          "s": 0.11135507414529444
         },
         {
          "i": 132,
          "k": 3,
          "s": 0.13449788189003364
         },
         {
          "i": 133,
          "k": 3,
          "s": -0.0888132932303588
         },
         {
          "i": 134,
          "k": 3,
          "s": 0.0213174916931117
         },
         {
          "i": 135,
          "k": 3,
          "s": -0.06996806082743956
         },
         {
          "i": 136,
          "k": 3,
          "s": -0.05537424800427837
         },
         {
          "i": 137,
          "k": 3,
          "s": -0.08315378993387856
         },
         {
          "i": 138,
          "k": 3,
          "s": 0.011782992956132943
         },
         {
          "i": 139,
          "k": 3,
          "s": -0.04027259532096494
         },
         {
          "i": 140,
          "k": 3,
          "s": 0.017822025003752073
         },
         {
          "i": 141,
          "k": 3,
          "s": 0.0928508946936416
         },
         {
          "i": 142,
          "k": 3,
          "s": 0.04489593590601082
         },
         {
          "i": 143,
          "k": 3,
          "s": 0.07000048956326921
         },
         {
          "i": 144,
          "k": 3,
          "s": 0.08546679960772796
         },
         {
          "i": 145,
          "k": 3,
          "s": 0.11709835547105496
         },
         {
          "i": 146,
          "k": 3,
          "s": 0.0780907164780158
         },
         {
          "i": 147,
          "k": 3,
          "s": 0.07805302331085517
         },
         {
          "i": 148,
          "k": 3,
          "s": 0.0732720669718051
         },
         {
          "i": 149,
          "k": 3,
          "s": 0.048742013814346175
         },
         {
          "i": 150,
          "k": 3,
          "s": -0.040569401441616804
         },
         {
          "i": 151,
          "k": 3,
          "s": -0.007712054120037282
         },
         {
          "i": 152,
          "k": 3,
          "s": -0.00912173624687318
         },
         {
          "i": 153,
          "k": 3,
          "s": 0.032347718896611255
         },
         {
          "i": 154,
          "k": 3,
          "s": -0.00600732778146984
         },
         {
          "i": 155,
          "k": 3,
          "s": 0.0444802360352059
         },
         {
          "i": 156,
          "k": 3,
          "s": 0.09172284697031963
         },
         {
          "i": 157,
          "k": 3,
          "s": 0.18505525551726543
         },
         {
          "i": 158,
          "k": 3,
          "s": 0.2466212091872585
         },
         {
          "i": 159,
          "k": 3,
          "s": 0.08009581989484882
         },
         {
          "i": 160,
          "k": 3,
          "s": 0.16410296394678858
         },
         {
          "i": 161,
          "k": 3,
          "s": 0.0818591672135891
         },
         {
          "i": 162,
          "k": 3,
          "s": 0.05672351904410278
         },
         {
          "i": 163,
          "k": 3,
          "s": 0.03417649682550972
         },
         {
          "i": 164,
          "k": 3,
          "s": 0.2563332260368577
         },
         {
          "i": 165,
          "k": 3,
          "s": 0.19565621583065274
         },
         {
          "i": 166,
          "k": 3,
          "s": 0.06749847198559433
         },
         {
          "i": 167,
          "k": 3,
          "s": 0.1939020169450698
         },
         {
          "i": 168,
          "k": 3,
          "s": 0.21984660981145898
         },
         {
          "i": 169,
          "k": 3,
          "s": 0.2365192642886207
         },
         {
          "i": 170,
          "k": 3,
          "s": 0.1811936726529917
         },
         {
          "i": 171,
          "k": 3,
          "s": 0.21929305864153814
         },
         {
          "i": 172,
          "k": 3,
          "s": 0.39789124216456995
         },
         {
          "i": 173,
          "k": 3,
          "s": 0.3636957897484586
         },
         {
          "i": 174,
          "k": 3,
          "s": 0.3819599911103422
         },
         {
          "i": 175,
          "k": 3,
          "s": 0.15457553468228957
         },
         {
          "i": 176,
          "k": 3,
          "s": 0.3232182310038505
         },
         {
          "i": 177,
          "k": 3,
          "s": 0.3310846832171086
         },
         {
          "i": 178,
          "k": 3,
          "s": 0.25077009480013
         },
         {
          "i": 179,
          "k": 3,
          "s": 0.11314672500239298
         },
         {
          "i": 180,
          "k": 3,
          "s": 0.0714418863996259
         },
         {
          "i": 181,
          "k": 3,
          "s": 0.24849211582102415
         },
         {
          "i": 182,
          "k": 3,
          "s": 0.15284752562208004
         },
         {
          "i": 183,
          "k": 3,
          "s": 0.26428946876232917
         },
         {
          "i": 184,
          "k": 3,
          "s": 0.37759680787003846
         },
         {
          "i": 185,
          "k": 3,
          "s": 0.3325301161541807
         },
         {
          "i": 186,
          "k": 3,
          "s": 0.07124055249022865
         },
         {
          "i": 187,
          "k": 3,
          "s": 0.2255798732366886
         },
         {
          "i": 188,
          "k": 3,
          "s": 0.26882128759727153
         },
         {
          "i": 189,
          "k": 3,
          "s": 0.30200690240946837
         },
         {
          "i": 190,
          "k": 3,
          "s": 0.3695289260808784
         },
         {
          "i": 191,
          "k": 3,
          "s": 0.3462868949020663
         },
         {
          "i": 192,
          "k": 3,
          "s": 0.3751806296143595
         },
         {
          "i": 193,
          "k": 3,
          "s": 0.4021948271810476
         },
         {
          "i": 194,
          "k": 3,
          "s": 0.3889730048798238
         },
         {
          "i": 195,
          "k": 3,
          "s": 0.3606742654877063
         },
         {
          "i": 196,
          "k": 3,
          "s": 0.3829966132508006
         },
         {
          "i": 197,
          "k": 3,
          "s": 0.36158878583599896
         },
         {
          "i": 198,
          "k": 3,
          "s": 0.3761933302701512
         },
         {
          "i": 199,
          "k": 3,
          "s": 0.4106422578494239
         },
         {
          "i": 200,
          "k": 3,
          "s": 0.4114657093924021
         },
         {
          "i": 201,
          "k": 3,
          "s": 0.32101463428459187
         },
         {
          "i": 202,
          "k": 3,
          "s": 0.4011533958577973
         },
         {
          "i": 203,
          "k": 3,
          "s": 0.35313359690663537
         },
         {
          "i": 204,
          "k": 3,
          "s": 0.3460998260032755
         },
         {
          "i": 205,
          "k": 3,
          "s": 0.31341463461280394
         },
         {
          "i": 206,
          "k": 3,
          "s": 0.3852672011600645
         },
         {
          "i": 207,
          "k": 3,
          "s": 0.4384472532623952
         },
         {
          "i": 208,
          "k": 3,
          "s": 0.21276336876778623
         },
         {
          "i": 209,
          "k": 3,
          "s": 0.21651860065886974
         },
         {
          "i": 210,
          "k": 3,
          "s": 0.2559311005181223
         },
         {
          "i": 211,
          "k": 3,
          "s": 0.22124348633289193
         },
         {
          "i": 212,
          "k": 3,
          "s": 0.2276669675508287
         },
         {
          "i": 213,
          "k": 3,
          "s": 0.28279835871097614
         },
         {
          "i": 214,
          "k": 3,
          "s": 0.2442628815532637
         },
         {
          "i": 215,
          "k": 3,
          "s": 0.3620944297932859
         },
         {
          "i": 216,
          "k": 3,
          "s": 0.2196628446549278
         },
         {
          "i": 217,
          "k": 3,
          "s": 0.3440710866598814
         },
         {
          "i": 218,
          "k": 3,
          "s": 0.22970540320714072
         },
         {
          "i": 219,
          "k": 3,
          "s": 0.22681340228812363
         },
         {
          "i": 220,
          "k": 3,
          "s": 0.1763270648854991
         },
         {
          "i": 221,
          "k": 3,
          "s": 0.23997555614442956
         },
         {
          "i": 222,
          "k": 3,
          "s": 0.16422466683254855
         },
         {
          "i": 223,
          "k": 3,
          "s": 0.3190191276214117
         },
         {
          "i": 224,
          "k": 3,
          "s": 0.007796811860634523
         },
         {
          "i": 225,
          "k": 3,
          "s": 0.04178878188997148
         },
         {
          "i": 226,
          "k": 3,
          "s": 0.049749165771282855
         },
         {
          "i": 227,
          "k": 3,
          "s": 0.2262804111487804
         },
         {
          "i": 228,
          "k": 3,
          "s": 0.09963647397230646
         },
         {
          "i": 229,
          "k": 3,
          "s": 0.10623890269177261
         },
         {
          "i": 230,
          "k": 3,
          "s": 0.41010289945774847
         },
         {
          "i": 231,
          "k": 3,
          "s": 0.16415408039339374
         },
         {
          "i": 232,
          "k": 3,
          "s": 0.0355433005884328
         },
         {
          "i": 233,
          "k": 3,
          "s": 0.05466229969236924
         },
         {
          "i": 234,
          "k": 3,
          "s": 0.14136746732739558
         },
         {
          "i": 235,
          "k": 3,
          "s": 0.3960001024192791
         },
         {
          "i": 236,
          "k": 3,
          "s": 0.17128419972383147
         },
         {
          "i": 237,
          "k": 3,
          "s": 0.14425415469934744
         },
         {
          "i": 238,
          "k": 3,
          "s": 0.2108166912646846
         },
         {
          "i": 239,
          "k": 3,
          "s": 0.1465355241845575
         },
         {
          "i": 240,
          "k": 3,
          "s": 0.08034739261219093
         },
         {
          "i": 241,
          "k": 3,
          "s": 0.08446601793995057
         },
         {
          "i": 242,
          "k": 3,
          "s": 0.0570622904663578
         },
         {
          "i": 243,
          "k": 3,
          "s": 0.24349405107538924
         },
         {
          "i": 244,
          "k": 3,
          "s": 0.1910990230068551
         },
         {
          "i": 245,
          "k": 3,
          "s": 0.19467719957830387
         },
         {
          "i": 246,
          "k": 3,
          "s": 0.03856349985766638
         },
         {
          "i": 247,
          "k": 3,
          "s": 0.12627912575552758
         },
         {
          "i": 248,
          "k": 3,
          "s": 0.012227008701441777
         },
         {
          "i": 249,
          "k": 3,
          "s": 0.17814135193986258
         },
         {
          "i": 250,
          "k": 3,
          "s": 0.14528983536923123
         },
         {
          "i": 251,
          "k": 3,
          "s": 0.1602725595388358
         },
         {
          "i": 252,
          "k": 3,
          "s": 0.2435568806701447
         },
         {
          "i": 253,
          "k": 3,
          "s": 0.2628279166554629
         },
         {
          "i": 254,
          "k": 3,
          "s": 0.3383847044742406
         },
         {
          "i": 255,
          "k": 3,
          "s": 0.31230439210978056
         },
         {
          "i": 256,
          "k": 3,
          "s": 0.39221865304766634
         },
         {
          "i": 257,
          "k": 3,
          "s": 0.07418035243269339
         },
         {
          "i": 258,
          "k": 3,
          "s": 0.0738302229932235
         },
         {
          "i": 259,
          "k": 3,
          "s": 0.13541788429462698
         },
         {
          "i": 260,
          "k": 3,
          "s": 0.07384511410185812
         },
         {
          "i": 261,
          "k": 3,
          "s": -0.008702652431909819
         },
         {
          "i": 262,
          "k": 3,
          "s": 0.06319849763161633
         },
         {
          "i": 263,
          "k": 3,
          "s": 0.1060554476355986
         },
         {
          "i": 264,
          "k": 3,
          "s": 0.06970753572371124
         },
         {
          "i": 265,
          "k": 3,
          "s": 0.19933748905651127
         },
         {
          "i": 266,
          "k": 3,
          "s": 0.1316907084413047
         },
         {
          "i": 267,
          "k": 3,
          "s": 0.11365307026848903
         },
         {
          "i": 268,
          "k": 3,
          "s": 0.11751210522168765
         },
         {
          "i": 269,
          "k": 3,
          "s": 0.16850508007244902
         },
         {
          "i": 270,
          "k": 3,
          "s": 0.2715622079288479
         },
         {
          "i": 271,
          "k": 3,
          "s": -0.06130277058408373
         },
         {
          "i": 272,
          "k": 3,
          "s": 0.23104413821656222
         },
         {
          "i": 273,
          "k": 3,
          "s": 0.028025424197265836
         },
         {
          "i": 274,
          "k": 3,
          "s": 0.08250242670290919
         },
         {
          "i": 275,
          "k": 3,
          "s": 0.19117987124655333
         },
         {
          "i": 276,
          "k": 3,
          "s": 0.09169852845617787
         },
         {
          "i": 277,
          "k": 3,
          "s": 0.10936791654375466
         },
         {
          "i": 278,
          "k": 3,
          "s": 0.1300760583904791
         },
         {
          "i": 279,
          "k": 3,
          "s": 0.16173986251504757
         },
         {
          "i": 280,
          "k": 3,
          "s": 0.19346914559910622
         },
         {
          "i": 281,
          "k": 3,
          "s": 0.20998359335519856
         },
         {
          "i": 282,
          "k": 3,
          "s": 0.12755850895076282
         },
         {
          "i": 283,
          "k": 3,
          "s": 0.24792693401363552
         },
         {
          "i": 284,
          "k": 3,
          "s": 0.4139175854142507
         },
         {
          "i": 285,
          "k": 3,
          "s": 0.324129296160627
         },
         {
          "i": 286,
          "k": 3,
          "s": 0.28200351663020284
         },
         {
          "i": 287,
          "k": 3,
          "s": 0.29583146949834405
         },
         {
          "i": 288,
          "k": 3,
          "s": 0.2630165571223535
         },
         {
          "i": 289,
          "k": 3,
          "s": 0.33381582235209994
         },
         {
          "i": 290,
          "k": 3,
          "s": 0.32456044241540716
         },
         {
          "i": 291,
          "k": 3,
          "s": 0.3448209318672011
         },
         {
          "i": 292,
          "k": 3,
          "s": 0.3136904656952548
         },
         {
          "i": 293,
          "k": 3,
          "s": 0.13987801426350932
         },
         {
          "i": 294,
          "k": 3,
          "s": 0.25131947312949476
         },
         {
          "i": 295,
          "k": 3,
          "s": 0.059243767309024586
         },
         {
          "i": 296,
          "k": 3,
          "s": 0.15954669254331155
         },
         {
          "i": 297,
          "k": 3,
          "s": 0.287280454960851
         },
         {
          "i": 298,
          "k": 3,
          "s": 0.36401144255148166
         },
         {
          "i": 299,
          "k": 3,
          "s": 0.4177781499258749
         },
         {
          "i": 300,
          "k": 3,
          "s": 0.368803711669909
         },
         {
          "i": 301,
          "k": 3,
          "s": 0.10818337845444026
         },
         {
          "i": 302,
          "k": 3,
          "s": 0.20596896302632306
         },
         {
          "i": 303,
          "k": 3,
          "s": 0.3009165992987448
         },
         {
          "i": 304,
          "k": 3,
          "s": 0.16657178804103367
         },
         {
          "i": 305,
          "k": 3,
          "s": 0.0663834890278231
         },
         {
          "i": 306,
          "k": 3,
          "s": 0.030845831756159958
         },
         {
          "i": 307,
          "k": 3,
          "s": 0.07468336477477755
         },
         {
          "i": 308,
          "k": 3,
          "s": 0.38132845240962154
         },
         {
          "i": 309,
          "k": 3,
          "s": 0.4720398085655506
         },
         {
          "i": 310,
          "k": 3,
          "s": 0.3704854441041998
         },
         {
          "i": 311,
          "k": 3,
          "s": 0.3993370089019146
         },
         {
          "i": 312,
          "k": 3,
          "s": 0.4738739129966617
         },
         {
          "i": 313,
          "k": 3,
          "s": 0.44741300762198444
         },
         {
          "i": 314,
          "k": 3,
          "s": 0.42199143281910323
         },
         {
          "i": 315,
          "k": 3,
          "s": 0.4653291689220481
         },
         {
          "i": 316,
          "k": 3,
          "s": 0.4545869283307302
         },
         {
          "i": 317,
          "k": 3,
          "s": 0.4651378361274131
         },
         {
          "i": 318,
          "k": 3,
          "s": 0.4393305002236758
         },
         {
          "i": 319,
          "k": 3,
          "s": 0.4472085473851336
         },
         {
          "i": 320,
          "k": 3,
          "s": 0.3430311981237506
         },
         {
          "i": 321,
          "k": 3,
          "s": 0.3538360443563481
         },
         {
          "i": 322,
          "k": 3,
          "s": 0.37592663846618724
         },
         {
          "i": 323,
          "k": 3,
          "s": 0.44179198320788493
         },
         {
          "i": 324,
          "k": 3,
          "s": 0.2782592182528951
         },
         {
          "i": 325,
          "k": 3,
          "s": 0.13704755271775504
         },
         {
          "i": 326,
          "k": 3,
          "s": 0.22858790203999646
         },
         {
          "i": 327,
          "k": 3,
          "s": 0.34875366644603745
         },
         {
          "i": 328,
          "k": 3,
          "s": 0.19487295942596827
         },
         {
          "i": 329,
          "k": 3,
          "s": 0.08785836981956663
         },
         {
          "i": 330,
          "k": 3,
          "s": 0.16330334498231935
         },
         {
          "i": 331,
          "k": 3,
          "s": 0.005026497278052489
         },
         {
          "i": 332,
          "k": 3,
          "s": 0.12087309878312391
         },
         {
          "i": 333,
          "k": 3,
          "s": 0.20131283209610407
         },
         {
          "i": 334,
          "k": 3,
          "s": 0.22019658651013052
         },
         {
          "i": 335,
          "k": 3,
          "s": 0.25718513260705334
         },
         {
          "i": 336,
          "k": 3,
          "s": 0.3487687293005691
         },
         {
          "i": 337,
          "k": 3,
          "s": 0.3691236637229798
         },
         {
          "i": 338,
          "k": 3,
          "s": 0.317534548703471
         },
         {
          "i": 339,
          "k": 3,
          "s": 0.35769962015060586
         },
         {
          "i": 340,
          "k": 3,
          "s": 0.3871459666835484
         },
         {
          "i": 341,
          "k": 3,
          "s": 0.3088313752322742
         },
         {
          "i": 342,
          "k": 3,
          "s": 0.18007762976698283
         },
         {
          "i": 343,
          "k": 3,
          "s": 0.1947808081268365
         },
         {
          "i": 344,
          "k": 3,
          "s": 0.358337369035299
         },
         {
          "i": 345,
          "k": 3,
          "s": 0.1841646350592656
         },
         {
          "i": 346,
          "k": 3,
          "s": 0.2119261356213069
         },
         {
          "i": 347,
          "k": 3,
          "s": 0.3603669597031546
         },
         {
          "i": 348,
          "k": 3,
          "s": 0.3907965711066068
         },
         {
          "i": 349,
          "k": 3,
          "s": 0.268349625483817
         },
         {
          "i": 350,
          "k": 3,
          "s": 0.19890176945801785
         },
         {
          "i": 351,
          "k": 3,
          "s": 0.3129349284733328
         },
         {
          "i": 352,
          "k": 3,
          "s": 0.2505827783351743
         },
         {
          "i": 353,
          "k": 3,
          "s": 0.3400648678936411
         },
         {
          "i": 354,
          "k": 3,
          "s": 0.1895263359573186
         },
         {
          "i": 355,
          "k": 3,
          "s": 0.22318505627908547
         },
         {
          "i": 356,
          "k": 3,
          "s": 0.21112851465519022
         },
         {
          "i": 357,
          "k": 3,
          "s": 0.15859587205880787
         },
         {
          "i": 358,
          "k": 3,
          "s": 0.14874296705969414
         },
         {
          "i": 359,
          "k": 3,
          "s": 0.28641676854314346
         },
         {
          "i": 360,
          "k": 3,
          "s": 0.23558087392110705
         },
         {
          "i": 361,
          "k": 3,
          "s": 0.3359597994785313
         },
         {
          "i": 362,
          "k": 3,
          "s": 0.28360820884239935
         },
         {
          "i": 363,
          "k": 3,
          "s": 0.19600245218276846
         },
         {
          "i": 364,
          "k": 3,
          "s": 0.05450069431407434
         },
         {
          "i": 365,
          "k": 3,
          "s": 0.16030627549716459
         },
         {
          "i": 366,
          "k": 3,
          "s": 0.3039840430996372
         },
         {
          "i": 367,
          "k": 3,
          "s": 0.25004900770072847
         },
         {
          "i": 368,
          "k": 3,
          "s": 0.05566108036747153
         },
         {
          "i": 369,
          "k": 3,
          "s": 0.02393052211611857
         },
         {
          "i": 370,
          "k": 3,
          "s": 0.017476920946875696
         },
         {
          "i": 371,
          "k": 3,
          "s": 0.09687216881023653
         },
         {
          "i": 372,
          "k": 3,
          "s": 0.07091613336944735
         },
         {
          "i": 373,
          "k": 3,
          "s": 0.32561873077115533
         },
         {
          "i": 374,
          "k": 3,
          "s": 0.28832305711731576
         },
         {
          "i": 375,
          "k": 3,
          "s": 0.2790582134517593
         },
         {
          "i": 376,
          "k": 3,
          "s": 0.3807738564974914
         },
         {
          "i": 377,
          "k": 3,
          "s": 0.3506528664463454
         },
         {
          "i": 378,
          "k": 3,
          "s": 0.36285269493072636
         },
         {
          "i": 379,
          "k": 3,
          "s": 0.3861645890368811
         },
         {
          "i": 380,
          "k": 3,
          "s": 0.14204039184578
         },
         {
          "i": 381,
          "k": 3,
          "s": 0.3730363848474415
         },
         {
          "i": 382,
          "k": 3,
          "s": 0.3870384937347512
         },
         {
          "i": 383,
          "k": 3,
          "s": 0.38139851779015754
         },
         {
          "i": 384,
          "k": 3,
          "s": 0.3477052163123574
         },
         {
          "i": 385,
          "k": 3,
          "s": 0.366704267253641
         },
         {
          "i": 386,
          "k": 3,
          "s": 0.34156782845071476
         },
         {
          "i": 387,
          "k": 3,
          "s": 0.34539732313829274
         },
         {
          "i": 388,
          "k": 3,
          "s": 0.3623333575403117
         },
         {
          "i": 389,
          "k": 3,
          "s": 0.3753201331945476
         },
         {
          "i": 390,
          "k": 3,
          "s": 0.36662008401346036
         },
         {
          "i": 391,
          "k": 3,
          "s": 0.3269811985729566
         },
         {
          "i": 392,
          "k": 3,
          "s": 0.3664209948680398
         },
         {
          "i": 393,
          "k": 3,
          "s": 0.35941564923204783
         },
         {
          "i": 394,
          "k": 3,
          "s": 0.37976921556865917
         },
         {
          "i": 395,
          "k": 3,
          "s": 0.3668263971402057
         },
         {
          "i": 396,
          "k": 3,
          "s": 0.36141950708756587
         },
         {
          "i": 397,
          "k": 3,
          "s": 0.37852983323796774
         },
         {
          "i": 398,
          "k": 3,
          "s": 0.3105383172322532
         },
         {
          "i": 399,
          "k": 3,
          "s": 0.37095159266715605
         },
         {
          "i": 400,
          "k": 3,
          "s": 0.3644053768814347
         },
         {
          "i": 401,
          "k": 3,
          "s": 0.38074479697376384
         },
         {
          "i": 402,
          "k": 3,
          "s": 0.3917637900676739
         },
         {
          "i": 403,
          "k": 3,
          "s": 0.3588785597431712
         },
         {
          "i": 404,
          "k": 3,
          "s": 0.3121587035544652
         },
         {
          "i": 405,
          "k": 3,
          "s": 0.20903793999867937
         },
         {
          "i": 406,
          "k": 3,
          "s": 0.31658883694222095
         },
         {
          "i": 407,
          "k": 3,
          "s": 0.300412134539056
         },
         {
          "i": 408,
          "k": 3,
          "s": 0.35834905186833443
         },
         {
          "i": 409,
          "k": 3,
          "s": 0.2983506475555173
         },
         {
          "i": 410,
          "k": 3,
          "s": 0.22388071407375365
         },
         {
          "i": 411,
          "k": 3,
          "s": 0.31430756385419223
         },
         {
          "i": 412,
          "k": 3,
          "s": 0.29193423447843436
         },
         {
          "i": 413,
          "k": 3,
          "s": 0.3398662052166429
         },
         {
          "i": 414,
          "k": 3,
          "s": 0.27554289709304214
         },
         {
          "i": 415,
          "k": 3,
          "s": 0.3425507899787644
         },
         {
          "i": 416,
          "k": 3,
          "s": 0.32675745408075363
         },
         {
          "i": 417,
          "k": 3,
          "s": 0.3653218434409421
         },
         {
          "i": 418,
          "k": 3,
          "s": 0.19979920239026205
         },
         {
          "i": 419,
          "k": 3,
          "s": 0.33408146105206404
         },
         {
          "i": 420,
          "k": 3,
          "s": 0.38840898764723963
         },
         {
          "i": 421,
          "k": 3,
          "s": 0.3932807399372391
         },
         {
          "i": 422,
          "k": 3,
          "s": 0.33355486214048313
         },
         {
          "i": 423,
          "k": 3,
          "s": 0.3042324771114615
         },
         {
          "i": 424,
          "k": 3,
          "s": 0.2727356314318591
         },
         {
          "i": 425,
          "k": 3,
          "s": 0.3451016696510255
         },
         {
          "i": 426,
          "k": 3,
          "s": 0.27182179627471303
         },
         {
          "i": 427,
          "k": 3,
          "s": 0.28005636191531047
         },
         {
          "i": 428,
          "k": 3,
          "s": 0.35383881178438503
         },
         {
          "i": 429,
          "k": 3,
          "s": 0.3552474634337698
         },
         {
          "i": 430,
          "k": 3,
          "s": 0.309422690466146
         },
         {
          "i": 431,
          "k": 3,
          "s": 0.30660446436667776
         },
         {
          "i": 432,
          "k": 3,
          "s": 0.25547604122887335
         },
         {
          "i": 433,
          "k": 3,
          "s": 0.3360859192469198
         },
         {
          "i": 434,
          "k": 3,
          "s": 0.362969707106515
         },
         {
          "i": 435,
          "k": 3,
          "s": 0.3744859742573462
         },
         {
          "i": 436,
          "k": 3,
          "s": 0.3449362720894531
         },
         {
          "i": 437,
          "k": 3,
          "s": 0.3517926896301524
         },
         {
          "i": 438,
          "k": 3,
          "s": 0.3515405011504328
         },
         {
          "i": 439,
          "k": 3,
          "s": 0.3922887430521331
         },
         {
          "i": 440,
          "k": 3,
          "s": 0.38797063415381916
         },
         {
          "i": 441,
          "k": 3,
          "s": 0.38368357522833396
         },
         {
          "i": 442,
          "k": 3,
          "s": 0.35464417729389897
         },
         {
          "i": 443,
          "k": 3,
          "s": 0.3832225355569394
         },
         {
          "i": 444,
          "k": 3,
          "s": 0.4260965837582087
         },
         {
          "i": 445,
          "k": 3,
          "s": 0.3571410777462659
         },
         {
          "i": 446,
          "k": 3,
          "s": 0.3941505069467296
         },
         {
          "i": 447,
          "k": 3,
          "s": 0.38083337944744533
         },
         {
          "i": 448,
          "k": 3,
          "s": 0.3811476083307589
         },
         {
          "i": 449,
          "k": 3,
          "s": 0.4000486268881115
         },
         {
          "i": 450,
          "k": 3,
          "s": 0.30088513422737084
         },
         {
          "i": 451,
          "k": 3,
          "s": 0.35533660490762276
         },
         {
          "i": 452,
          "k": 3,
          "s": 0.3533796929835189
         },
         {
          "i": 453,
          "k": 3,
          "s": 0.280302275728599
         },
         {
          "i": 454,
          "k": 3,
          "s": 0.3134345477457263
         },
         {
          "i": 455,
          "k": 3,
          "s": 0.3188909759315244
         },
         {
          "i": 456,
          "k": 3,
          "s": 0.3140494911166124
         },
         {
          "i": 457,
          "k": 3,
          "s": 0.3088043897905375
         },
         {
          "i": 458,
          "k": 3,
          "s": 0.3730178395127619
         },
         {
          "i": 459,
          "k": 3,
          "s": 0.3189749659170631
         },
         {
          "i": 460,
          "k": 3,
          "s": 0.34464976762105815
         },
         {
          "i": 461,
          "k": 3,
          "s": 0.30993651471967787
         },
         {
          "i": 462,
          "k": 3,
          "s": 0.30680251461747365
         },
         {
          "i": 463,
          "k": 3,
          "s": 0.2627159776025284
         },
         {
          "i": 464,
          "k": 3,
          "s": 0.23970821313739943
         },
         {
          "i": 465,
          "k": 3,
          "s": 0.21010719500803976
         },
         {
          "i": 466,
          "k": 3,
          "s": 0.2797017831898485
         },
         {
          "i": 467,
          "k": 3,
          "s": 0.3146168566807753
         },
         {
          "i": 468,
          "k": 3,
          "s": 0.2900836276224986
         },
         {
          "i": 469,
          "k": 3,
          "s": 0.21828159943413095
         },
         {
          "i": 470,
          "k": 3,
          "s": 0.2340441376115675
         },
         {
          "i": 471,
          "k": 3,
          "s": 0.1712082056477986
         },
         {
          "i": 472,
          "k": 3,
          "s": 0.17910454887639726
         },
         {
          "i": 473,
          "k": 3,
          "s": 0.12297679610943024
         },
         {
          "i": 474,
          "k": 3,
          "s": 0.325078389567664
         },
         {
          "i": 475,
          "k": 3,
          "s": 0.3509175248549542
         },
         {
          "i": 476,
          "k": 3,
          "s": 0.2987404125125349
         },
         {
          "i": 477,
          "k": 3,
          "s": 0.37243392668311226
         },
         {
          "i": 478,
          "k": 3,
          "s": 0.35216661902557334
         },
         {
          "i": 479,
          "k": 3,
          "s": 0.29611353552265984
         },
         {
          "i": 480,
          "k": 3,
          "s": 0.09776018140361264
         },
         {
          "i": 481,
          "k": 3,
          "s": 0.07000304721754957
         },
         {
          "i": 482,
          "k": 3,
          "s": 0.04506587830807485
         },
         {
          "i": 483,
          "k": 3,
          "s": 0.02098816140454729
         },
         {
          "i": 484,
          "k": 3,
          "s": 0.10457730722048242
         },
         {
          "i": 485,
          "k": 3,
          "s": 0.08772050077431026
         },
         {
          "i": 486,
          "k": 3,
          "s": 0.22331430768179839
         },
         {
          "i": 487,
          "k": 3,
          "s": 0.14000417371596174
         },
         {
          "i": 488,
          "k": 3,
          "s": 0.14687395308871776
         },
         {
          "i": 489,
          "k": 3,
          "s": 0.2033666992910632
         },
         {
          "i": 490,
          "k": 3,
          "s": 0.21207576980037335
         },
         {
          "i": 491,
          "k": 3,
          "s": 0.15304185825536332
         },
         {
          "i": 492,
          "k": 3,
          "s": 0.07971064862110455
         },
         {
          "i": 493,
          "k": 3,
          "s": 0.4253153827568743
         },
         {
          "i": 494,
          "k": 3,
          "s": 0.40025843257483384
         },
         {
          "i": 495,
          "k": 3,
          "s": 0.360976395305304
         },
         {
          "i": 496,
          "k": 3,
          "s": 0.31054273567736623
         },
         {
          "i": 497,
          "k": 3,
          "s": 0.4148333673904684
         },
         {
          "i": 498,
          "k": 3,
          "s": 0.4331405161250593
         },
         {
          "i": 499,
          "k": 3,
          "s": 0.36930892102755597
         },
         {
          "i": 500,
          "k": 3,
          "s": 0.39075918794755515
         },
         {
          "i": 501,
          "k": 3,
          "s": 0.4039858729747098
         },
         {
          "i": 502,
          "k": 3,
          "s": 0.43498643622268707
         },
         {
          "i": 503,
          "k": 3,
          "s": 0.3496698237935971
         },
         {
          "i": 504,
          "k": 3,
          "s": 0.3785650744900195
         },
         {
          "i": 505,
          "k": 3,
          "s": 0.3906183476276296
         },
         {
          "i": 0,
          "k": 4,
          "s": -0.11925132667095817
         },
         {
          "i": 1,
          "k": 4,
          "s": 0.3335910258395349
         },
         {
          "i": 2,
          "k": 4,
          "s": 0.04469637174467411
         },
         {
          "i": 3,
          "k": 4,
          "s": 0.08497410762514068
         },
         {
          "i": 4,
          "k": 4,
          "s": -0.06262745931014102
         },
         {
          "i": 5,
          "k": 4,
          "s": 0.07174662918089347
         },
         {
          "i": 6,
          "k": 4,
          "s": 0.18476517778205837
         },
         {
          "i": 7,
          "k": 4,
          "s": 0.22106682535982825
         },
         {
          "i": 8,
          "k": 4,
          "s": 0.25197465816318376
         },
         {
          "i": 9,
          "k": 4,
          "s": 0.22052621181933452
         },
         {
          "i": 10,
          "k": 4,
          "s": 0.2339992611482351
         },
         {
          "i": 11,
          "k": 4,
          "s": 0.21619355640654336
         },
         {
          "i": 12,
          "k": 4,
          "s": 0.12387691871647877
         },
         {
          "i": 13,
          "k": 4,
          "s": 0.41008713048712464
         },
         {
          "i": 14,
          "k": 4,
          "s": 0.4579285790487554
         },
         {
          "i": 15,
          "k": 4,
          "s": 0.40939892139767875
         },
         {
          "i": 16,
          "k": 4,
          "s": 0.2791008069568509
         },
         {
          "i": 17,
          "k": 4,
          "s": 0.479782914113589
         },
         {
          "i": 18,
          "k": 4,
          "s": 0.35004106986206374
         },
         {
          "i": 19,
          "k": 4,
          "s": 0.47103842171493493
         },
         {
          "i": 20,
          "k": 4,
          "s": 0.3947540077294124
         },
         {
          "i": 21,
          "k": 4,
          "s": 0.48258776476944365
         },
         {
          "i": 22,
          "k": 4,
          "s": 0.46098886392188754
         },
         {
          "i": 23,
          "k": 4,
          "s": 0.4244791439948924
         },
         {
          "i": 24,
          "k": 4,
          "s": 0.4705879350741111
         },
         {
          "i": 25,
          "k": 4,
          "s": 0.43077752795854696
         },
         {
          "i": 26,
          "k": 4,
          "s": 0.468247261633954
         },
         {
          "i": 27,
          "k": 4,
          "s": 0.44002881880883804
         },
         {
          "i": 28,
          "k": 4,
          "s": 0.44049240856575644
         },
         {
          "i": 29,
          "k": 4,
          "s": 0.4105482509216738
         },
         {
          "i": 30,
          "k": 4,
          "s": 0.3857254228276126
         },
         {
          "i": 31,
          "k": 4,
          "s": 0.4639776277009737
         },
         {
          "i": 32,
          "k": 4,
          "s": 0.2641342374815526
         },
         {
          "i": 33,
          "k": 4,
          "s": 0.42628554002153685
         },
         {
          "i": 34,
          "k": 4,
          "s": 0.33243686417510165
         },
         {
          "i": 35,
          "k": 4,
          "s": 0.45301274269569713
         },
         {
          "i": 36,
          "k": 4,
          "s": 0.450756045869649
         },
         {
          "i": 37,
          "k": 4,
          "s": 0.350431739312849
         },
         {
          "i": 38,
          "k": 4,
          "s": 0.2861054363483291
         },
         {
          "i": 39,
          "k": 4,
          "s": 0.4430758439940352
         },
         {
          "i": 40,
          "k": 4,
          "s": 0.4315792746484277
         },
         {
          "i": 41,
          "k": 4,
          "s": 0.1267733707914075
         },
         {
          "i": 42,
          "k": 4,
          "s": 0.04804345339458416
         },
         {
          "i": 43,
          "k": 4,
          "s": 0.03388098931662964
         },
         {
          "i": 44,
          "k": 4,
          "s": 0.1860858150224013
         },
         {
          "i": 45,
          "k": 4,
          "s": 0.23180543712429047
         },
         {
          "i": 46,
          "k": 4,
          "s": 0.24834152930691855
         },
         {
          "i": 47,
          "k": 4,
          "s": 0.3606348411461755
         },
         {
          "i": 48,
          "k": 4,
          "s": 0.306445747815819
         },
         {
          "i": 49,
          "k": 4,
          "s": 0.31128308851016173
         },
         {
          "i": 50,
          "k": 4,
          "s": 0.03090302237267617
         },
         {
          "i": 51,
          "k": 4,
          "s": 0.018417941807118088
         },
         {
          "i": 52,
          "k": 4,
          "s": 0.310648674435526
         },
         {
          "i": 53,
          "k": 4,
          "s": 0.22278546052774506
         },
         {
          "i": 54,
          "k": 4,
          "s": 0.18670161166366606
         },
         {
          "i": 55,
          "k": 4,
          "s": 0.4553629917863664
         },
         {
          "i": 56,
          "k": 4,
          "s": 0.46211664057914714
         },
         {
          "i": 57,
          "k": 4,
          "s": 0.448080114000591
         },
         {
          "i": 58,
          "k": 4,
          "s": 0.19733835980404868
         },
         {
          "i": 59,
          "k": 4,
          "s": -0.00642350622847121
         },
         {
          "i": 60,
          "k": 4,
          "s": 0.12428237036215595
         },
         {
          "i": 61,
          "k": 4,
          "s": 0.22124663995827432
         },
         {
          "i": 62,
          "k": 4,
          "s": 0.025310590151132017
         },
         {
          "i": 63,
          "k": 4,
          "s": 0.1968163376316131
         },
         {
          "i": 64,
          "k": 4,
          "s": 0.23979136899863218
         },
         {
          "i": 65,
          "k": 4,
          "s": 0.4691474354015802
         },
         {
          "i": 66,
          "k": 4,
          "s": 0.370868879512536
         },
         {
          "i": 67,
          "k": 4,
          "s": 0.05132968028397966
         },
         {
          "i": 68,
          "k": 4,
          "s": 0.12237548592581093
         },
         {
          "i": 69,
          "k": 4,
          "s": 0.006689214631029006
         },
         {
          "i": 70,
          "k": 4,
          "s": 0.024908797646099212
         },
         {
          "i": 71,
          "k": 4,
          "s": 0.16273774421550113
         },
         {
          "i": 72,
          "k": 4,
          "s": 0.060598959267770036
         },
         {
          "i": 73,
          "k": 4,
          "s": 0.05394217777080379
         },
         {
          "i": 74,
          "k": 4,
          "s": 0.10652249436637529
         },
         {
          "i": 75,
          "k": 4,
          "s": 0.31001469450017805
         },
         {
          "i": 76,
          "k": 4,
          "s": 0.4268895992283356
         },
         {
          "i": 77,
          "k": 4,
          "s": 0.3523310771820367
         },
         {
          "i": 78,
          "k": 4,
          "s": 0.3477096637549234
         },
         {
          "i": 79,
          "k": 4,
          "s": 0.30378316537380035
         },
         {
          "i": 80,
          "k": 4,
          "s": 0.21584620929753862
         },
         {
          "i": 81,
          "k": 4,
          "s": 0.027638426899975532
         },
         {
          "i": 82,
          "k": 4,
          "s": 0.14396973291611614
         },
         {
          "i": 83,
          "k": 4,
          "s": 0.021008504907845893
         },
         {
          "i": 84,
          "k": 4,
          "s": 0.2271654428012424
         },
         {
          "i": 85,
          "k": 4,
          "s": 0.19160951423879768
         },
         {
          "i": 86,
          "k": 4,
          "s": 0.2992137987252491
         },
         {
          "i": 87,
          "k": 4,
          "s": 0.33062414396289597
         },
         {
          "i": 88,
          "k": 4,
          "s": 0.13742235109200052
         },
         {
          "i": 89,
          "k": 4,
          "s": -0.058002137716321234
         },
         {
          "i": 90,
          "k": 4,
          "s": 0.33670010101332537
         },
         {
          "i": 91,
          "k": 4,
          "s": 0.33407002550358134
         },
         {
          "i": 92,
          "k": 4,
          "s": 0.18343278998384294
         },
         {
          "i": 93,
          "k": 4,
          "s": 0.05956435261662185
         },
         {
          "i": 94,
          "k": 4,
          "s": 0.3062252427233141
         },
         {
          "i": 95,
          "k": 4,
          "s": 0.18914596161986463
         },
         {
          "i": 96,
          "k": 4,
          "s": 0.35821462241300406
         },
         {
          "i": 97,
          "k": 4,
          "s": 0.2533899433184075
         },
         {
          "i": 98,
          "k": 4,
          "s": 0.14843787258327412
         },
         {
          "i": 99,
          "k": 4,
          "s": 0.09299948008045233
         },
         {
          "i": 100,
          "k": 4,
          "s": 0.3139031107935303
         },
         {
          "i": 101,
          "k": 4,
          "s": 0.3063599264557689
         },
         {
          "i": 102,
          "k": 4,
          "s": 0.19743807123477497
         },
         {
          "i": 103,
          "k": 4,
          "s": 0.4757096562567086
         },
         {
          "i": 104,
          "k": 4,
          "s": 0.4559582454417668
         },
         {
          "i": 105,
          "k": 4,
          "s": 0.4216743890731962
         },
         {
          "i": 106,
          "k": 4,
          "s": 0.41613751985567193
         },
         {
          "i": 107,
          "k": 4,
          "s": 0.46147796127307383
         },
         {
          "i": 108,
          "k": 4,
          "s": 0.4112922013071435
         },
         {
          "i": 109,
          "k": 4,
          "s": 0.45740440501308366
         },
         {
          "i": 110,
          "k": 4,
          "s": 0.43847123457157156
         },
         {
          "i": 111,
          "k": 4,
          "s": 0.31044290334884794
         },
         {
          "i": 112,
          "k": 4,
          "s": 0.42295768649339716
         },
         {
          "i": 113,
          "k": 4,
          "s": 0.4167773082145726
         },
         {
          "i": 114,
          "k": 4,
          "s": 0.4092410752000839
         },
         {
          "i": 115,
          "k": 4,
          "s": 0.42001395709985767
         },
         {
          "i": 116,
          "k": 4,
          "s": 0.4346143167076282
         },
         {
          "i": 117,
          "k": 4,
          "s": 0.4409653087895201
         },
         {
          "i": 118,
          "k": 4,
          "s": 0.44779190888180453
         },
         {
          "i": 119,
          "k": 4,
          "s": 0.46300072641402745
         },
         {
          "i": 120,
          "k": 4,
          "s": 0.3513777427139372
         },
         {
          "i": 121,
          "k": 4,
          "s": 0.335865546656663
         },
         {
          "i": 122,
          "k": 4,
          "s": 0.3014981917236952
         },
         {
          "i": 123,
          "k": 4,
          "s": 0.21998771478821388
         },
         {
          "i": 124,
          "k": 4,
          "s": 0.29319224334038363
         },
         {
          "i": 125,
          "k": 4,
          "s": 0.3264474956684583
         },
         {
          "i": 126,
          "k": 4,
          "s": 0.18727099738355957
         },
         {
          "i": 127,
          "k": 4,
          "s": 0.16115034478026813
         },
         {
          "i": 128,
          "k": 4,
          "s": 0.18835999916075596
         },
         {
          "i": 129,
          "k": 4,
          "s": 0.1469322310857435
         },
         {
          "i": 130,
          "k": 4,
          "s": 0.21534286705975225
         },
         {
          "i": 131,
          "k": 4,
          "s": 0.22111021837876987
         },
         {
          "i": 132,
          "k": 4,
          "s": 0.23201063037629532
         },
         {
          "i": 133,
          "k": 4,
          "s": 0.2062910370907507
         },
         {
          "i": 134,
          "k": 4,
          "s": -0.09292111772086142
         },
         {
          "i": 135,
          "k": 4,
          "s": 0.18405711855124252
         },
         {
          "i": 136,
          "k": 4,
          "s": 0.17788369425439077
         },
         {
          "i": 137,
          "k": 4,
          "s": 0.1909282273065317
         },
         {
          "i": 138,
          "k": 4,
          "s": -0.11802912747842687
         },
         {
          "i": 139,
          "k": 4,
          "s": 0.15905390273218922
         },
         {
          "i": 140,
          "k": 4,
          "s": -0.10256944765230624
         },
         {
          "i": 141,
          "k": 4,
          "s": 0.008662180253944052
         },
         {
          "i": 142,
          "k": 4,
          "s": 0.02308388985544585
         },
         {
          "i": 143,
          "k": 4,
          "s": 0.03093244459815936
         },
         {
          "i": 144,
          "k": 4,
          "s": 0.045731862758100705
         },
         {
          "i": 145,
          "k": 4,
          "s": 0.09345864724050934
         },
         {
          "i": 146,
          "k": 4,
          "s": 0.05195746397048673
         },
         {
          "i": 147,
          "k": 4,
          "s": 0.038567488528543525
         },
         {
          "i": 148,
          "k": 4,
          "s": 0.035270942500498004
         },
         {
          "i": 149,
          "k": 4,
          "s": 0.008689218247017183
         },
         {
          "i": 150,
          "k": 4,
          "s": -0.07055960373367098
         },
         {
          "i": 151,
          "k": 4,
          "s": -0.04425796709945451
         },
         {
          "i": 152,
          "k": 4,
          "s": -0.02785615167612543
         },
         {
          "i": 153,
          "k": 4,
          "s": 0.0005633078545655978
         },
         {
          "i": 154,
          "k": 4,
          "s": -0.018775544524152976
         },
         {
          "i": 155,
          "k": 4,
          "s": 0.0379942802130242
         },
         {
          "i": 156,
          "k": 4,
          "s": 0.06956906987445455
         },
         {
          "i": 157,
          "k": 4,
          "s": 0.1198518389488693
         },
         {
          "i": 158,
          "k": 4,
          "s": 0.18681395284977098
         },
         {
          "i": 159,
          "k": 4,
          "s": 0.0889593944174355
         },
         {
          "i": 160,
          "k": 4,
          "s": 0.038543226348078496
         },
         {
          "i": 161,
          "k": 4,
          "s": 0.23586784135902805
         },
         {
          "i": 162,
          "k": 4,
          "s": 0.25915189507424685
         },
         {
          "i": 163,
          "k": 4,
          "s": 0.27149615064375265
         },
         {
          "i": 164,
          "k": 4,
          "s": 0.2695909709914641
         },
         {
          "i": 165,
          "k": 4,
          "s": 0.19260493232468
         },
         {
          "i": 166,
          "k": 4,
          "s": 0.25577478201711046
         },
         {
          "i": 167,
          "k": 4,
          "s": 0.22142910868855337
         },
         {
          "i": 168,
          "k": 4,
          "s": 0.19775133958954372
         },
         {
          "i": 169,
          "k": 4,
          "s": 0.2098318828287371
         },
         {
          "i": 170,
          "k": 4,
          "s": 0.2237089789342569
         },
         {
          "i": 171,
          "k": 4,
          "s": 0.25919324435810676
         },
         {
          "i": 172,
          "k": 4,
          "s": 0.37753817039326343
         },
         {
          "i": 173,
          "k": 4,
          "s": 0.2550187872545543
         },
         {
          "i": 174,
          "k": 4,
          "s": 0.3632176921234205
         },
         {
          "i": 175,
          "k": 4,
          "s": -0.12995185131449905
         },
         {
          "i": 176,
          "k": 4,
          "s": 0.27949442085256926
         },
         {
          "i": 177,
          "k": 4,
          "s": 0.2529039315624263
         },
         {
          "i": 178,
          "k": 4,
          "s": -0.03736976969872441
         },
         {
          "i": 179,
          "k": 4,
          "s": 0.09585893739647977
         },
         {
          "i": 180,
          "k": 4,
          "s": 0.2376422028985623
         },
         {
          "i": 181,
          "k": 4,
          "s": 0.14622005057122922
         },
         {
          "i": 182,
          "k": 4,
          "s": 0.15042601164485536
         },
         {
          "i": 183,
          "k": 4,
          "s": -0.07598233008272803
         },
         {
          "i": 184,
          "k": 4,
          "s": 0.36063474348185187
         },
         {
          "i": 185,
          "k": 4,
          "s": 0.29483039611516204
         },
         {
          "i": 186,
          "k": 4,
          "s": 0.24161019127546857
         },
         {
          "i": 187,
          "k": 4,
          "s": 0.27868029780010284
         },
         {
          "i": 188,
          "k": 4,
          "s": 0.36356976203396985
         },
         {
          "i": 189,
          "k": 4,
          "s": 0.27184429032751567
         },
         {
          "i": 190,
          "k": 4,
          "s": 0.4015257471849689
         },
         {
          "i": 191,
          "k": 4,
          "s": 0.4427631248913735
         },
         {
          "i": 192,
          "k": 4,
          "s": 0.3737333980706564
         },
         {
          "i": 193,
          "k": 4,
          "s": 0.48943870484717644
         },
         {
          "i": 194,
          "k": 4,
          "s": 0.48634204083667487
         },
         {
          "i": 195,
          "k": 4,
          "s": 0.21511748708567313
         },
         {
          "i": 196,
          "k": 4,
          "s": 0.37757863715259565
         },
         {
          "i": 197,
          "k": 4,
          "s": 0.393494268223176
         },
         {
          "i": 198,
          "k": 4,
          "s": 0.3690801161771117
         },
         {
          "i": 199,
          "k": 4,
          "s": 0.46952785995855817
         },
         {
          "i": 200,
          "k": 4,
          "s": 0.4695202973044482
         },
         {
          "i": 201,
          "k": 4,
          "s": 0.41656029951954465
         },
         {
          "i": 202,
          "k": 4,
          "s": 0.3454267349648896
         },
         {
          "i": 203,
          "k": 4,
          "s": 0.23139257231613664
         },
         {
          "i": 204,
          "k": 4,
          "s": 0.20712536132344628
         },
         {
          "i": 205,
          "k": 4,
          "s": 0.2809218377799636
         },
         {
          "i": 206,
          "k": 4,
          "s": 0.37017816304702866
         },
         {
          "i": 207,
          "k": 4,
          "s": 0.45358196493268443
         },
         {
          "i": 208,
          "k": 4,
          "s": 0.11419847881480039
         },
         {
          "i": 209,
          "k": 4,
          "s": 0.19838264211523748
         },
         {
          "i": 210,
          "k": 4,
          "s": 0.14312053637603261
         },
         {
          "i": 211,
          "k": 4,
          "s": 0.20399943801712994
         },
         {
          "i": 212,
          "k": 4,
          "s": 0.15328748176909712
         },
         {
          "i": 213,
          "k": 4,
          "s": 0.24582946356599877
         },
         {
          "i": 214,
          "k": 4,
          "s": 0.2350960373452483
         },
         {
          "i": 215,
          "k": 4,
          "s": 0.34012846098156935
         },
         {
          "i": 216,
          "k": 4,
          "s": 0.08536852610965218
         },
         {
          "i": 217,
          "k": 4,
          "s": 0.19373352453434112
         },
         {
          "i": 218,
          "k": 4,
          "s": 0.10162885618115503
         },
         {
          "i": 219,
          "k": 4,
          "s": -0.027646664976483937
         },
         {
          "i": 220,
          "k": 4,
          "s": 0.08939420627792471
         },
         {
          "i": 221,
          "k": 4,
          "s": 0.09948782867254002
         },
         {
          "i": 222,
          "k": 4,
          "s": 0.08541810879159684
         },
         {
          "i": 223,
          "k": 4,
          "s": 0.15382600449923356
         },
         {
          "i": 224,
          "k": 4,
          "s": 0.32309518521738245
         },
         {
          "i": 225,
          "k": 4,
          "s": 0.31833902015004645
         },
         {
          "i": 226,
          "k": 4,
          "s": 0.2732314851829605
         },
         {
          "i": 227,
          "k": 4,
          "s": 0.035942224466291584
         },
         {
          "i": 228,
          "k": 4,
          "s": 0.12404056871672064
         },
         {
          "i": 229,
          "k": 4,
          "s": -0.12389979627611569
         },
         {
          "i": 230,
          "k": 4,
          "s": 0.39784252840224354
         },
         {
          "i": 231,
          "k": 4,
          "s": 0.10465795846930892
         },
         {
          "i": 232,
          "k": 4,
          "s": 0.2960336563721634
         },
         {
          "i": 233,
          "k": 4,
          "s": 0.3031880652680591
         },
         {
          "i": 234,
          "k": 4,
          "s": 0.0844554301040007
         },
         {
          "i": 235,
          "k": 4,
          "s": 0.3771907891223455
         },
         {
          "i": 236,
          "k": 4,
          "s": 0.02711782652971273
         },
         {
          "i": 237,
          "k": 4,
          "s": 0.08336063627480417
         },
         {
          "i": 238,
          "k": 4,
          "s": 0.3513305336773359
         },
         {
          "i": 239,
          "k": 4,
          "s": 0.290212234659704
         },
         {
          "i": 240,
          "k": 4,
          "s": 0.2053835762385572
         },
         {
          "i": 241,
          "k": 4,
          "s": 0.03672176063587085
         },
         {
          "i": 242,
          "k": 4,
          "s": 0.20596174666084133
         },
         {
          "i": 243,
          "k": 4,
          "s": 0.37714035521854494
         },
         {
          "i": 244,
          "k": 4,
          "s": 0.12514363285618002
         },
         {
          "i": 245,
          "k": 4,
          "s": 0.13812282658314923
         },
         {
          "i": 246,
          "k": 4,
          "s": 0.1784019122622279
         },
         {
          "i": 247,
          "k": 4,
          "s": 0.038973986334477906
         },
         {
          "i": 248,
          "k": 4,
          "s": 0.1435585186817947
         },
         {
          "i": 249,
          "k": 4,
          "s": 0.29751059002831526
         },
         {
          "i": 250,
          "k": 4,
          "s": 0.27497635979902735
         },
         {
          "i": 251,
          "k": 4,
          "s": 0.28439045764246806
         },
         {
          "i": 252,
          "k": 4,
          "s": 0.3360021473651972
         },
         {
          "i": 253,
          "k": 4,
          "s": 0.20172858511970504
         },
         {
          "i": 254,
          "k": 4,
          "s": 0.44309861867619305
         },
         {
          "i": 255,
          "k": 4,
          "s": 0.41836356509345884
         },
         {
          "i": 256,
          "k": 4,
          "s": 0.3428152762852523
         },
         {
          "i": 257,
          "k": 4,
          "s": 0.30217881591689244
         },
         {
          "i": 258,
          "k": 4,
          "s": 0.23830883157664706
         },
         {
          "i": 259,
          "k": 4,
          "s": 0.12671706460941834
         },
         {
          "i": 260,
          "k": 4,
          "s": 0.2007443771355656
         },
         {
          "i": 261,
          "k": 4,
          "s": 0.29746804109118885
         },
         {
          "i": 262,
          "k": 4,
          "s": 0.3082590683452374
         },
         {
          "i": 263,
          "k": 4,
          "s": 0.17403113028264494
         },
         {
          "i": 264,
          "k": 4,
          "s": 0.23261630397509991
         },
         {
          "i": 265,
          "k": 4,
          "s": 0.16032029144462756
         },
         {
          "i": 266,
          "k": 4,
          "s": 0.0965911153585669
         },
         {
          "i": 267,
          "k": 4,
          "s": 0.27123203901273707
         },
         {
          "i": 268,
          "k": 4,
          "s": 0.19605599683976738
         },
         {
          "i": 269,
          "k": 4,
          "s": 0.12371420548018863
         },
         {
          "i": 270,
          "k": 4,
          "s": 0.2138987436301707
         },
         {
          "i": 271,
          "k": 4,
          "s": 0.05754733074281626
         },
         {
          "i": 272,
          "k": 4,
          "s": 0.17055504397991816
         },
         {
          "i": 273,
          "k": 4,
          "s": 0.16042771330605698
         },
         {
          "i": 274,
          "k": 4,
          "s": 0.011801143490078991
         },
         {
          "i": 275,
          "k": 4,
          "s": 0.2725029590901259
         },
         {
          "i": 276,
          "k": 4,
          "s": 0.05873912379421209
         },
         {
          "i": 277,
          "k": 4,
          "s": -0.021994415783509136
         },
         {
          "i": 278,
          "k": 4,
          "s": 0.24180409958776672
         },
         {
          "i": 279,
          "k": 4,
          "s": 0.15170898462972637
         },
         {
          "i": 280,
          "k": 4,
          "s": 0.13181849069151563
         },
         {
          "i": 281,
          "k": 4,
          "s": 0.18792073638570872
         },
         {
          "i": 282,
          "k": 4,
          "s": 0.1544161659691874
         },
         {
          "i": 283,
          "k": 4,
          "s": 0.058356171924971556
         },
         {
          "i": 284,
          "k": 4,
          "s": 0.47128536402664156
         },
         {
          "i": 285,
          "k": 4,
          "s": 0.4433567683613554
         },
         {
          "i": 286,
          "k": 4,
          "s": 0.3830576981693429
         },
         {
          "i": 287,
          "k": 4,
          "s": 0.4311718890129044
         },
         {
          "i": 288,
          "k": 4,
          "s": 0.3973265514404781
         },
         {
          "i": 289,
          "k": 4,
          "s": 0.4574017478281618
         },
         {
          "i": 290,
          "k": 4,
          "s": 0.4013443649611935
         },
         {
          "i": 291,
          "k": 4,
          "s": 0.3783816946205262
         },
         {
          "i": 292,
          "k": 4,
          "s": 0.39783837588342774
         },
         {
          "i": 293,
          "k": 4,
          "s": 0.051072198067429464
         },
         {
          "i": 294,
          "k": 4,
          "s": 0.19160029873643047
         },
         {
          "i": 295,
          "k": 4,
          "s": 0.02053068996284635
         },
         {
          "i": 296,
          "k": 4,
          "s": 0.08593981841544318
         },
         {
          "i": 297,
          "k": 4,
          "s": 0.24946981602914264
         },
         {
          "i": 298,
          "k": 4,
          "s": 0.4677142262284075
         },
         {
          "i": 299,
          "k": 4,
          "s": 0.49329099303874546
         },
         {
          "i": 300,
          "k": 4,
          "s": 0.4590092472210655
         },
         {
          "i": 301,
          "k": 4,
          "s": 0.24514508986016903
         },
         {
          "i": 302,
          "k": 4,
          "s": 0.3333839763921811
         },
         {
          "i": 303,
          "k": 4,
          "s": 0.37463275713086797
         },
         {
          "i": 304,
          "k": 4,
          "s": 0.14415621998319006
         },
         {
          "i": 305,
          "k": 4,
          "s": 0.003219043184641057
         },
         {
          "i": 306,
          "k": 4,
          "s": 0.04315075892590581
         },
         {
          "i": 307,
          "k": 4,
          "s": -0.10733915082881806
         },
         {
          "i": 308,
          "k": 4,
          "s": 0.2999818515240694
         },
         {
          "i": 309,
          "k": 4,
          "s": 0.483348941095341
         },
         {
          "i": 310,
          "k": 4,
          "s": 0.37353100972516795
         },
         {
          "i": 311,
          "k": 4,
          "s": 0.39567167909029877
         },
         {
          "i": 312,
          "k": 4,
          "s": 0.46810961246517124
         },
         {
          "i": 313,
          "k": 4,
          "s": 0.4212031128805478
         },
         {
          "i": 314,
          "k": 4,
          "s": 0.3605840081660808
         },
         {
          "i": 315,
          "k": 4,
          "s": 0.4840189912489823
         },
         {
          "i": 316,
          "k": 4,
          "s": 0.48533948939750804
         },
         {
          "i": 317,
          "k": 4,
          "s": 0.4853874200299694
         },
         {
          "i": 318,
          "k": 4,
          "s": 0.4329978075483184
         },
         {
          "i": 319,
          "k": 4,
          "s": 0.4541719158069486
         },
         {
          "i": 320,
          "k": 4,
          "s": 0.31748870241703886
         },
         {
          "i": 321,
          "k": 4,
          "s": 0.330651911058651
         },
         {
          "i": 322,
          "k": 4,
          "s": 0.3561149664329393
         },
         {
          "i": 323,
          "k": 4,
          "s": 0.45185873628793627
         },
         {
          "i": 324,
          "k": 4,
          "s": 0.23433205804697665
         },
         {
          "i": 325,
          "k": 4,
          "s": 0.05561035219969568
         },
         {
          "i": 326,
          "k": 4,
          "s": 0.16463510877436494
         },
         {
          "i": 327,
          "k": 4,
          "s": 0.32354311007890324
         },
         {
          "i": 328,
          "k": 4,
          "s": 0.10859465244543476
         },
         {
          "i": 329,
          "k": 4,
          "s": 0.012683276378113617
         },
         {
          "i": 330,
          "k": 4,
          "s": 0.06266419224188968
         },
         {
          "i": 331,
          "k": 4,
          "s": 0.15031085366232977
         },
         {
          "i": 332,
          "k": 4,
          "s": 0.27249515654945555
         },
         {
          "i": 333,
          "k": 4,
          "s": 0.1371375400745105
         },
         {
          "i": 334,
          "k": 4,
          "s": 0.16032501088936357
         },
         {
          "i": 335,
          "k": 4,
          "s": 0.20606197891151856
         },
         {
          "i": 336,
          "k": 4,
          "s": 0.32730611981818025
         },
         {
          "i": 337,
          "k": 4,
          "s": 0.3558914131231603
         },
         {
          "i": 338,
          "k": 4,
          "s": 0.2869177535834815
         },
         {
          "i": 339,
          "k": 4,
          "s": 0.3396271346269435
         },
         {
          "i": 340,
          "k": 4,
          "s": 0.37882588729065736
         },
         {
          "i": 341,
          "k": 4,
          "s": 0.3299499108110482
         },
         {
          "i": 342,
          "k": 4,
          "s": 0.10718168561073826
         },
         {
          "i": 343,
          "k": 4,
          "s": 0.30383953366921723
         },
         {
          "i": 344,
          "k": 4,
          "s": 0.4501555249455088
         },
         {
          "i": 345,
          "k": 4,
          "s": 0.10130908018605478
         },
         {
          "i": 346,
          "k": 4,
          "s": 0.1432467706053161
         },
         {
          "i": 347,
          "k": 4,
          "s": 0.45862054506454053
         },
         {
          "i": 348,
          "k": 4,
          "s": 0.4888111279907239
         },
         {
          "i": 349,
          "k": 4,
          "s": 0.36745212328734667
         },
         {
          "i": 350,
          "k": 4,
          "s": 0.3148835272767886
         },
         {
          "i": 351,
          "k": 4,
          "s": 0.41105102754477374
         },
         {
          "i": 352,
          "k": 4,
          "s": 0.35884496533842003
         },
         {
          "i": 353,
          "k": 4,
          "s": 0.4114562107849701
         },
         {
          "i": 354,
          "k": 4,
          "s": 0.27408245199774883
         },
         {
          "i": 355,
          "k": 4,
          "s": 0.3067826800086829
         },
         {
          "i": 356,
          "k": 4,
          "s": 0.19244218051153372
         },
         {
          "i": 357,
          "k": 4,
          "s": 0.13965055799464376
         },
         {
          "i": 358,
          "k": 4,
          "s": 0.12970437841603932
         },
         {
          "i": 359,
          "k": 4,
          "s": 0.2575948655392253
         },
         {
          "i": 360,
          "k": 4,
          "s": 0.21017928097703742
         },
         {
          "i": 361,
          "k": 4,
          "s": 0.3104344229613255
         },
         {
          "i": 362,
          "k": 4,
          "s": 0.25116740263946646
         },
         {
          "i": 363,
          "k": 4,
          "s": 0.17477176991662557
         },
         {
          "i": 364,
          "k": 4,
          "s": 0.0381548403447296
         },
         {
          "i": 365,
          "k": 4,
          "s": 0.1285578867611692
         },
         {
          "i": 366,
          "k": 4,
          "s": 0.2724982410445226
         },
         {
          "i": 367,
          "k": 4,
          "s": 0.230675795855379
         },
         {
          "i": 368,
          "k": 4,
          "s": 0.03697834634907815
         },
         {
          "i": 369,
          "k": 4,
          "s": 0.09037811942380314
         },
         {
          "i": 370,
          "k": 4,
          "s": 0.11547354244300556
         },
         {
          "i": 371,
          "k": 4,
          "s": 0.08442461110423949
         },
         {
          "i": 372,
          "k": 4,
          "s": 0.005204097818789721
         },
         {
          "i": 373,
          "k": 4,
          "s": 0.2994005993624902
         },
         {
          "i": 374,
          "k": 4,
          "s": 0.26536063575576563
         },
         {
          "i": 375,
          "k": 4,
          "s": 0.262936306529887
         },
         {
          "i": 376,
          "k": 4,
          "s": 0.363148069929465
         },
         {
          "i": 377,
          "k": 4,
          "s": 0.3266909259080446
         },
         {
          "i": 378,
          "k": 4,
          "s": 0.34735158930406496
         },
         {
          "i": 379,
          "k": 4,
          "s": 0.3671840871221532
         },
         {
          "i": 380,
          "k": 4,
          "s": 0.14107648091107006
         },
         {
          "i": 381,
          "k": 4,
          "s": 0.35306692483502256
         },
         {
          "i": 382,
          "k": 4,
          "s": 0.36067714566396014
         },
         {
          "i": 383,
          "k": 4,
          "s": 0.3540446193194916
         },
         {
          "i": 384,
          "k": 4,
          "s": 0.32995234073937474
         },
         {
          "i": 385,
          "k": 4,
          "s": 0.3456049568375623
         },
         {
          "i": 386,
          "k": 4,
          "s": 0.32256613996934647
         },
         {
          "i": 387,
          "k": 4,
          "s": 0.3263842893568061
         },
         {
          "i": 388,
          "k": 4,
          "s": 0.3398191673726483
         },
         {
          "i": 389,
          "k": 4,
          "s": 0.3463353759122968
         },
         {
          "i": 390,
          "k": 4,
          "s": 0.3366453876552121
         },
         {
          "i": 391,
          "k": 4,
          "s": 0.2975831319281367
         },
         {
          "i": 392,
          "k": 4,
          "s": 0.3401625570045814
         },
         {
          "i": 393,
          "k": 4,
          "s": 0.3320998037698306
         },
         {
          "i": 394,
          "k": 4,
          "s": 0.35598852855408725
         },
         {
          "i": 395,
          "k": 4,
          "s": 0.3416536555112003
         },
         {
          "i": 396,
          "k": 4,
          "s": 0.3331309338560635
         },
         {
          "i": 397,
          "k": 4,
          "s": 0.3498723275162793
         },
         {
          "i": 398,
          "k": 4,
          "s": 0.2977324062270885
         },
         {
          "i": 399,
          "k": 4,
          "s": 0.3484401258840165
         },
         {
          "i": 400,
          "k": 4,
          "s": 0.34842973957728895
         },
         {
          "i": 401,
          "k": 4,
          "s": 0.3592994847013027
         },
         {
          "i": 402,
          "k": 4,
          "s": 0.36912760106330134
         },
         {
          "i": 403,
          "k": 4,
          "s": 0.34058317822543427
         },
         {
          "i": 404,
          "k": 4,
          "s": 0.3026450540759571
         },
         {
          "i": 405,
          "k": 4,
          "s": 0.2031305122773528
         },
         {
          "i": 406,
          "k": 4,
          "s": 0.29332078349324986
         },
         {
          "i": 407,
          "k": 4,
          "s": 0.2763872415948949
         },
         {
          "i": 408,
          "k": 4,
          "s": 0.3306831028774625
         },
         {
          "i": 409,
          "k": 4,
          "s": 0.2880440141104833
         },
         {
          "i": 410,
          "k": 4,
          "s": 0.22232436909406805
         },
         {
          "i": 411,
          "k": 4,
          "s": 0.3077295117562693
         },
         {
          "i": 412,
          "k": 4,
          "s": 0.2803135142871094
         },
         {
          "i": 413,
          "k": 4,
          "s": 0.3282553400612931
         },
         {
          "i": 414,
          "k": 4,
          "s": 0.2684325226358446
         },
         {
          "i": 415,
          "k": 4,
          "s": 0.336521946908393
         },
         {
          "i": 416,
          "k": 4,
          "s": 0.31954355312023897
         },
         {
          "i": 417,
          "k": 4,
          "s": 0.35742442745893777
         },
         {
          "i": 418,
          "k": 4,
          "s": 0.1991485388573162
         },
         {
          "i": 419,
          "k": 4,
          "s": 0.3275750394713538
         },
         {
          "i": 420,
          "k": 4,
          "s": 0.370436342902996
         },
         {
          "i": 421,
          "k": 4,
          "s": 0.37029512760963657
         },
         {
          "i": 422,
          "k": 4,
          "s": 0.30921405064064833
         },
         {
          "i": 423,
          "k": 4,
          "s": 0.29405931836349863
         },
         {
          "i": 424,
          "k": 4,
          "s": 0.25995237972340846
         },
         {
          "i": 425,
          "k": 4,
          "s": 0.3383501553446724
         },
         {
          "i": 426,
          "k": 4,
          "s": 0.26031249842054527
         },
         {
          "i": 427,
          "k": 4,
          "s": 0.27800574800950917
         },
         {
          "i": 428,
          "k": 4,
          "s": 0.3422091226648102
         },
         {
          "i": 429,
          "k": 4,
          "s": 0.3463307977428869
         },
         {
          "i": 430,
          "k": 4,
          "s": 0.2967983222091385
         },
         {
          "i": 431,
          "k": 4,
          "s": 0.2963217377273998
         },
         {
          "i": 432,
          "k": 4,
          "s": 0.24039188518883758
         },
         {
          "i": 433,
          "k": 4,
          "s": 0.3245861520902825
         },
         {
          "i": 434,
          "k": 4,
          "s": 0.35473687058453374
         },
         {
          "i": 435,
          "k": 4,
          "s": 0.3669659845916866
         },
         {
          "i": 436,
          "k": 4,
          "s": 0.33973091438119796
         },
         {
          "i": 437,
          "k": 4,
          "s": 0.3460762423995992
         },
         {
          "i": 438,
          "k": 4,
          "s": 0.34264764179679175
         },
         {
          "i": 439,
          "k": 4,
          "s": 0.36779389594504197
         },
         {
          "i": 440,
          "k": 4,
          "s": 0.3721965507753592
         },
         {
          "i": 441,
          "k": 4,
          "s": 0.36240900279767585
         },
         {
          "i": 442,
          "k": 4,
          "s": 0.3275369448110613
         },
         {
          "i": 443,
          "k": 4,
          "s": 0.36213506574443455
         },
         {
          "i": 444,
          "k": 4,
          "s": 0.4130621292419071
         },
         {
          "i": 445,
          "k": 4,
          "s": 0.3507313357644869
         },
         {
          "i": 446,
          "k": 4,
          "s": 0.37322797059151913
         },
         {
          "i": 447,
          "k": 4,
          "s": 0.3578492965034604
         },
         {
          "i": 448,
          "k": 4,
          "s": 0.35640097233624224
         },
         {
          "i": 449,
          "k": 4,
          "s": 0.38021176604674567
         },
         {
          "i": 450,
          "k": 4,
          "s": 0.2940301109836875
         },
         {
          "i": 451,
          "k": 4,
          "s": 0.3305301798357687
         },
         {
          "i": 452,
          "k": 4,
          "s": 0.32491769981473007
         },
         {
          "i": 453,
          "k": 4,
          "s": 0.25931430043370207
         },
         {
          "i": 454,
          "k": 4,
          "s": 0.3077587796728618
         },
         {
          "i": 455,
          "k": 4,
          "s": 0.30926516215865074
         },
         {
          "i": 456,
          "k": 4,
          "s": 0.30380470673645876
         },
         {
          "i": 457,
          "k": 4,
          "s": 0.30016754097067244
         },
         {
          "i": 458,
          "k": 4,
          "s": 0.35332138296995774
         },
         {
          "i": 459,
          "k": 4,
          "s": 0.2892638311709167
         },
         {
          "i": 460,
          "k": 4,
          "s": 0.3249176156190656
         },
         {
          "i": 461,
          "k": 4,
          "s": 0.2786143141363713
         },
         {
          "i": 462,
          "k": 4,
          "s": 0.27784140677758196
         },
         {
          "i": 463,
          "k": 4,
          "s": 0.23358739381478055
         },
         {
          "i": 464,
          "k": 4,
          "s": 0.20685340951141573
         },
         {
          "i": 465,
          "k": 4,
          "s": 0.17257255455636122
         },
         {
          "i": 466,
          "k": 4,
          "s": 0.26766224793898863
         },
         {
          "i": 467,
          "k": 4,
          "s": 0.2800683787620194
         },
         {
          "i": 468,
          "k": 4,
          "s": 0.26225694506358177
         },
         {
          "i": 469,
          "k": 4,
          "s": 0.18338665984719282
         },
         {
          "i": 470,
          "k": 4,
          "s": 0.1918763909696175
         },
         {
          "i": 471,
          "k": 4,
          "s": 0.12548696008066595
         },
         {
          "i": 472,
          "k": 4,
          "s": 0.13929339567437204
         },
         {
          "i": 473,
          "k": 4,
          "s": 0.09810069033913271
         },
         {
          "i": 474,
          "k": 4,
          "s": 0.28947105953336816
         },
         {
          "i": 475,
          "k": 4,
          "s": 0.3226929849590694
         },
         {
          "i": 476,
          "k": 4,
          "s": 0.2636655828002995
         },
         {
          "i": 477,
          "k": 4,
          "s": 0.3484925020950619
         },
         {
          "i": 478,
          "k": 4,
          "s": 0.32349669402382797
         },
         {
          "i": 479,
          "k": 4,
          "s": 0.27058596080193864
         },
         {
          "i": 480,
          "k": 4,
          "s": 0.05577935321025107
         },
         {
          "i": 481,
          "k": 4,
          "s": 0.03613194679077325
         },
         {
          "i": 482,
          "k": 4,
          "s": 0.017049360512459755
         },
         {
          "i": 483,
          "k": 4,
          "s": -0.0266211949677172
         },
         {
          "i": 484,
          "k": 4,
          "s": 0.05912474720840555
         },
         {
          "i": 485,
          "k": 4,
          "s": 0.04638760050865798
         },
         {
          "i": 486,
          "k": 4,
          "s": 0.18161290198853774
         },
         {
          "i": 487,
          "k": 4,
          "s": 0.09644201178025602
         },
         {
          "i": 488,
          "k": 4,
          "s": 0.06378644915440868
         },
         {
          "i": 489,
          "k": 4,
          "s": 0.13476655554454253
         },
         {
          "i": 490,
          "k": 4,
          "s": 0.1525311742790274
         },
         {
          "i": 491,
          "k": 4,
          "s": 0.07120621398896132
         },
         {
          "i": 492,
          "k": 4,
          "s": -0.006015372184467349
         },
         {
          "i": 493,
          "k": 4,
          "s": 0.45600461441428974
         },
         {
          "i": 494,
          "k": 4,
          "s": 0.4136749769313073
         },
         {
          "i": 495,
          "k": 4,
          "s": 0.3684212254364275
         },
         {
          "i": 496,
          "k": 4,
          "s": 0.3897246727408642
         },
         {
          "i": 497,
          "k": 4,
          "s": 0.4879539587137013
         },
         {
          "i": 498,
          "k": 4,
          "s": 0.47208396738787306
         },
         {
          "i": 499,
          "k": 4,
          "s": 0.44768354285149625
         },
         {
          "i": 500,
          "k": 4,
          "s": 0.46535873631395397
         },
         {
          "i": 501,
          "k": 4,
          "s": 0.3894451145091671
         },
         {
          "i": 502,
          "k": 4,
          "s": 0.4420884494100983
         },
         {
          "i": 503,
          "k": 4,
          "s": 0.25184081394842706
         },
         {
          "i": 504,
          "k": 4,
          "s": 0.3159428992127399
         },
         {
          "i": 505,
          "k": 4,
          "s": 0.45317941228018643
         },
         {
          "i": 0,
          "k": 5,
          "s": 0.16125848976833868
         },
         {
          "i": 1,
          "k": 5,
          "s": 0.43190373758158473
         },
         {
          "i": 2,
          "k": 5,
          "s": 0.17501051872601858
         },
         {
          "i": 3,
          "k": 5,
          "s": 0.07334697981110583
         },
         {
          "i": 4,
          "k": 5,
          "s": 0.083225599434673
         },
         {
          "i": 5,
          "k": 5,
          "s": 0.23697510660672538
         },
         {
          "i": 6,
          "k": 5,
          "s": 0.2827526539515851
         },
         {
          "i": 7,
          "k": 5,
          "s": 0.2753536158868083
         },
         {
          "i": 8,
          "k": 5,
          "s": 0.2359924968745668
         },
         {
          "i": 9,
          "k": 5,
          "s": 0.2817028345242084
         },
         {
          "i": 10,
          "k": 5,
          "s": 0.2783869227758413
         },
         {
          "i": 11,
          "k": 5,
          "s": 0.2906373504339542
         },
         {
          "i": 12,
          "k": 5,
          "s": 0.22669190084271507
         },
         {
          "i": 13,
          "k": 5,
          "s": 0.47240180455463154
         },
         {
          "i": 14,
          "k": 5,
          "s": 0.46489785213225876
         },
         {
          "i": 15,
          "k": 5,
          "s": 0.4709074369261935
         },
         {
          "i": 16,
          "k": 5,
          "s": 0.37150934942197855
         },
         {
          "i": 17,
          "k": 5,
          "s": 0.44310307951191197
         },
         {
          "i": 18,
          "k": 5,
          "s": 0.4031840725216316
         },
         {
          "i": 19,
          "k": 5,
          "s": 0.4690115068875872
         },
         {
          "i": 20,
          "k": 5,
          "s": 0.2750802638921471
         },
         {
          "i": 21,
          "k": 5,
          "s": 0.433110817651431
         },
         {
          "i": 22,
          "k": 5,
          "s": 0.35714174449847047
         },
         {
          "i": 23,
          "k": 5,
          "s": 0.30860434802158865
         },
         {
          "i": 24,
          "k": 5,
          "s": 0.38321514437794946
         },
         {
          "i": 25,
          "k": 5,
          "s": 0.3502142150606755
         },
         {
          "i": 26,
          "k": 5,
          "s": 0.41035109078057397
         },
         {
          "i": 27,
          "k": 5,
          "s": 0.36080423894506797
         },
         {
          "i": 28,
          "k": 5,
          "s": 0.42123680998035906
         },
         {
          "i": 29,
          "k": 5,
          "s": 0.4419804888992813
         },
         {
          "i": 30,
          "k": 5,
          "s": 0.2740697578471134
         },
         {
          "i": 31,
          "k": 5,
          "s": 0.3794698869613866
         },
         {
          "i": 32,
          "k": 5,
          "s": 0.19175529395043134
         },
         {
          "i": 33,
          "k": 5,
          "s": 0.31825370367558203
         },
         {
          "i": 34,
          "k": 5,
          "s": 0.2525000790178604
         },
         {
          "i": 35,
          "k": 5,
          "s": 0.5187889139759843
         },
         {
          "i": 36,
          "k": 5,
          "s": 0.5174100740829848
         },
         {
          "i": 37,
          "k": 5,
          "s": 0.4508922504905877
         },
         {
          "i": 38,
          "k": 5,
          "s": 0.40095568520129066
         },
         {
          "i": 39,
          "k": 5,
          "s": 0.42113019610768077
         },
         {
          "i": 40,
          "k": 5,
          "s": 0.4286022145714641
         },
         {
          "i": 41,
          "k": 5,
          "s": 0.031753783777554
         },
         {
          "i": 42,
          "k": 5,
          "s": 0.1222066660426977
         },
         {
          "i": 43,
          "k": 5,
          "s": 0.13536295779569762
         },
         {
          "i": 44,
          "k": 5,
          "s": 0.3336971411724261
         },
         {
          "i": 45,
          "k": 5,
          "s": 0.353804604250049
         },
         {
          "i": 46,
          "k": 5,
          "s": 0.3605287746260777
         },
         {
          "i": 47,
          "k": 5,
          "s": 0.41427775776737186
         },
         {
          "i": 48,
          "k": 5,
          "s": 0.28083185830950486
         },
         {
          "i": 49,
          "k": 5,
          "s": 0.3910611403784592
         },
         {
          "i": 50,
          "k": 5,
          "s": 0.10664732847925007
         },
         {
          "i": 51,
          "k": 5,
          "s": 0.12507410004882547
         },
         {
          "i": 52,
          "k": 5,
          "s": 0.1811539424845704
         },
         {
          "i": 53,
          "k": 5,
          "s": 0.0771206836819831
         },
         {
          "i": 54,
          "k": 5,
          "s": 0.1588739046454135
         },
         {
          "i": 55,
          "k": 5,
          "s": 0.47095216965054976
         },
         {
          "i": 56,
          "k": 5,
          "s": 0.46127903296463635
         },
         {
          "i": 57,
          "k": 5,
          "s": 0.4676559657993299
         },
         {
          "i": 58,
          "k": 5,
          "s": 0.0692239957243409
         },
         {
          "i": 59,
          "k": 5,
          "s": 0.13397227133347978
         },
         {
          "i": 60,
          "k": 5,
          "s": 0.21872207409139743
         },
         {
          "i": 61,
          "k": 5,
          "s": 0.28200065503316885
         },
         {
          "i": 62,
          "k": 5,
          "s": 0.10093399883293686
         },
         {
          "i": 63,
          "k": 5,
          "s": 0.07701287712609228
         },
         {
          "i": 64,
          "k": 5,
          "s": 0.14897765281295172
         },
         {
          "i": 65,
          "k": 5,
          "s": 0.46147674120718196
         },
         {
          "i": 66,
          "k": 5,
          "s": 0.3526453441565177
         },
         {
          "i": 67,
          "k": 5,
          "s": 0.10416082985000552
         },
         {
          "i": 68,
          "k": 5,
          "s": 0.23715100423187485
         },
         {
          "i": 69,
          "k": 5,
          "s": 0.1691868224800549
         },
         {
          "i": 70,
          "k": 5,
          "s": 0.1761775306382607
         },
         {
          "i": 71,
          "k": 5,
          "s": 0.2872994486359961
         },
         {
          "i": 72,
          "k": 5,
          "s": 0.20322929975549286
         },
         {
          "i": 73,
          "k": 5,
          "s": 0.19836233077535115
         },
         {
          "i": 74,
          "k": 5,
          "s": 0.2268041552763146
         },
         {
          "i": 75,
          "k": 5,
          "s": 0.40286441509508897
         },
         {
          "i": 76,
          "k": 5,
          "s": 0.4737390466073248
         },
         {
          "i": 77,
          "k": 5,
          "s": 0.4320418091751089
         },
         {
          "i": 78,
          "k": 5,
          "s": 0.42536124678607234
         },
         {
          "i": 79,
          "k": 5,
          "s": 0.3915089794012717
         },
         {
          "i": 80,
          "k": 5,
          "s": 0.056523488428671165
         },
         {
          "i": 81,
          "k": 5,
          "s": 0.17855347996709314
         },
         {
          "i": 82,
          "k": 5,
          "s": 0.027155525973463934
         },
         {
          "i": 83,
          "k": 5,
          "s": 0.14694397497863876
         },
         {
          "i": 84,
          "k": 5,
          "s": 0.37415087471961694
         },
         {
          "i": 85,
          "k": 5,
          "s": 0.3432681231922794
         },
         {
          "i": 86,
          "k": 5,
          "s": 0.4157532162223537
         },
         {
          "i": 87,
          "k": 5,
          "s": 0.4445197973962076
         },
         {
          "i": 88,
          "k": 5,
          "s": 0.3563628990414227
         },
         {
          "i": 89,
          "k": 5,
          "s": 0.2969644771747024
         },
         {
          "i": 90,
          "k": 5,
          "s": 0.44308021732482983
         },
         {
          "i": 91,
          "k": 5,
          "s": 0.4479659122394152
         },
         {
          "i": 92,
          "k": 5,
          "s": 0.2749916620436239
         },
         {
          "i": 93,
          "k": 5,
          "s": 0.1738165177377723
         },
         {
          "i": 94,
          "k": 5,
          "s": 0.3605275888858689
         },
         {
          "i": 95,
          "k": 5,
          "s": 0.3298231176276334
         },
         {
          "i": 96,
          "k": 5,
          "s": 0.451833089621827
         },
         {
          "i": 97,
          "k": 5,
          "s": -0.06025839361593077
         },
         {
          "i": 98,
          "k": 5,
          "s": -0.07738500198767773
         },
         {
          "i": 99,
          "k": 5,
          "s": 0.19796098014422236
         },
         {
          "i": 100,
          "k": 5,
          "s": 0.4090629933321699
         },
         {
          "i": 101,
          "k": 5,
          "s": 0.4268838106094036
         },
         {
          "i": 102,
          "k": 5,
          "s": 0.16048139232575742
         },
         {
          "i": 103,
          "k": 5,
          "s": 0.3812315284237078
         },
         {
          "i": 104,
          "k": 5,
          "s": 0.3724147788980262
         },
         {
          "i": 105,
          "k": 5,
          "s": 0.2910364036003009
         },
         {
          "i": 106,
          "k": 5,
          "s": 0.2838265113101204
         },
         {
          "i": 107,
          "k": 5,
          "s": 0.36142252477683745
         },
         {
          "i": 108,
          "k": 5,
          "s": 0.3451901720234586
         },
         {
          "i": 109,
          "k": 5,
          "s": 0.3448750122394483
         },
         {
          "i": 110,
          "k": 5,
          "s": 0.44466973473106997
         },
         {
          "i": 111,
          "k": 5,
          "s": 0.39659901130237785
         },
         {
          "i": 112,
          "k": 5,
          "s": 0.2979599482063705
         },
         {
          "i": 113,
          "k": 5,
          "s": 0.290854465694223
         },
         {
          "i": 114,
          "k": 5,
          "s": 0.3737627069288242
         },
         {
          "i": 115,
          "k": 5,
          "s": 0.31210493958370944
         },
         {
          "i": 116,
          "k": 5,
          "s": 0.42401509190553155
         },
         {
          "i": 117,
          "k": 5,
          "s": 0.3988183114204411
         },
         {
          "i": 118,
          "k": 5,
          "s": 0.35964087324916105
         },
         {
          "i": 119,
          "k": 5,
          "s": 0.4007986257394337
         },
         {
          "i": 120,
          "k": 5,
          "s": 0.1994661219304088
         },
         {
          "i": 121,
          "k": 5,
          "s": 0.170839359034614
         },
         {
          "i": 122,
          "k": 5,
          "s": 0.11838402991195085
         },
         {
          "i": 123,
          "k": 5,
          "s": -0.03536184149902544
         },
         {
          "i": 124,
          "k": 5,
          "s": 0.10512927340142408
         },
         {
          "i": 125,
          "k": 5,
          "s": 0.15478901881203233
         },
         {
          "i": 126,
          "k": 5,
          "s": -0.006729138913777799
         },
         {
          "i": 127,
          "k": 5,
          "s": 0.123967603164575
         },
         {
          "i": 128,
          "k": 5,
          "s": 0.08955660911885088
         },
         {
          "i": 129,
          "k": 5,
          "s": 0.13452769301598166
         },
         {
          "i": 130,
          "k": 5,
          "s": 0.04598184926467763
         },
         {
          "i": 131,
          "k": 5,
          "s": 0.042464126312721784
         },
         {
          "i": 132,
          "k": 5,
          "s": 0.006736150875974789
         },
         {
          "i": 133,
          "k": 5,
          "s": 0.07244031776060056
         },
         {
          "i": 134,
          "k": 5,
          "s": 0.1102196012031228
         },
         {
          "i": 135,
          "k": 5,
          "s": 0.09911630152775286
         },
         {
          "i": 136,
          "k": 5,
          "s": 0.10655684546220812
         },
         {
          "i": 137,
          "k": 5,
          "s": 0.08280370330090558
         },
         {
          "i": 138,
          "k": 5,
          "s": 0.16428690794008471
         },
         {
          "i": 139,
          "k": 5,
          "s": 0.1292719728286521
         },
         {
          "i": 140,
          "k": 5,
          "s": 0.16250646223379617
         },
         {
          "i": 141,
          "k": 5,
          "s": 0.1904435471462561
         },
         {
          "i": 142,
          "k": 5,
          "s": 0.1000417680522625
         },
         {
          "i": 143,
          "k": 5,
          "s": 0.17412764994521945
         },
         {
          "i": 144,
          "k": 5,
          "s": 0.17497423877981688
         },
         {
          "i": 145,
          "k": 5,
          "s": 0.06833801454957811
         },
         {
          "i": 146,
          "k": 5,
          "s": 0.09482827709674924
         },
         {
          "i": 147,
          "k": 5,
          "s": 0.1693155215601223
         },
         {
          "i": 148,
          "k": 5,
          "s": 0.16372218287803142
         },
         {
          "i": 149,
          "k": 5,
          "s": 0.15053369763530278
         },
         {
          "i": 150,
          "k": 5,
          "s": 0.08331252498094355
         },
         {
          "i": 151,
          "k": 5,
          "s": 0.09871785529714072
         },
         {
          "i": 152,
          "k": 5,
          "s": -0.05372279539538649
         },
         {
          "i": 153,
          "k": 5,
          "s": 0.11009619628807721
         },
         {
          "i": 154,
          "k": 5,
          "s": 0.002904237692616496
         },
         {
          "i": 155,
          "k": 5,
          "s": -0.011693037366158121
         },
         {
          "i": 156,
          "k": 5,
          "s": -0.014749853277025937
         },
         {
          "i": 157,
          "k": 5,
          "s": -0.014222322653891784
         },
         {
          "i": 158,
          "k": 5,
          "s": 0.15926310782608433
         },
         {
          "i": 159,
          "k": 5,
          "s": 0.02547826158832267
         },
         {
          "i": 160,
          "k": 5,
          "s": 0.1457353219684402
         },
         {
          "i": 161,
          "k": 5,
          "s": 0.10120699999429206
         },
         {
          "i": 162,
          "k": 5,
          "s": 0.270328436958847
         },
         {
          "i": 163,
          "k": 5,
          "s": 0.2736236812199385
         },
         {
          "i": 164,
          "k": 5,
          "s": 0.16038391109117034
         },
         {
          "i": 165,
          "k": 5,
          "s": 0.1406712555512648
         },
         {
          "i": 166,
          "k": 5,
          "s": 0.12813142693580293
         },
         {
          "i": 167,
          "k": 5,
          "s": 0.14843939694476804
         },
         {
          "i": 168,
          "k": 5,
          "s": 0.14342652851334114
         },
         {
          "i": 169,
          "k": 5,
          "s": 0.15230676748290606
         },
         {
          "i": 170,
          "k": 5,
          "s": 0.10644794447831485
         },
         {
          "i": 171,
          "k": 5,
          "s": 0.12983548470150752
         },
         {
          "i": 172,
          "k": 5,
          "s": 0.4401373011039519
         },
         {
          "i": 173,
          "k": 5,
          "s": 0.42622845996205994
         },
         {
          "i": 174,
          "k": 5,
          "s": 0.4433344765903886
         },
         {
          "i": 175,
          "k": 5,
          "s": 0.2402834635909301
         },
         {
          "i": 176,
          "k": 5,
          "s": 0.39340784739477863
         },
         {
          "i": 177,
          "k": 5,
          "s": 0.40137329154935786
         },
         {
          "i": 178,
          "k": 5,
          "s": 0.3227192231154855
         },
         {
          "i": 179,
          "k": 5,
          "s": 0.2172907548178552
         },
         {
          "i": 180,
          "k": 5,
          "s": -0.07213184606368839
         },
         {
          "i": 181,
          "k": 5,
          "s": 0.3275543031857566
         },
         {
          "i": 182,
          "k": 5,
          "s": -0.16996165410597353
         },
         {
          "i": 183,
          "k": 5,
          "s": 0.3091976832874521
         },
         {
          "i": 184,
          "k": 5,
          "s": 0.43163367174499356
         },
         {
          "i": 185,
          "k": 5,
          "s": 0.4062799512204265
         },
         {
          "i": 186,
          "k": 5,
          "s": 0.013311825602275507
         },
         {
          "i": 187,
          "k": 5,
          "s": 0.2351387156996152
         },
         {
          "i": 188,
          "k": 5,
          "s": 0.3028636323628663
         },
         {
          "i": 189,
          "k": 5,
          "s": 0.3094192956424062
         },
         {
          "i": 190,
          "k": 5,
          "s": 0.4068628057148138
         },
         {
          "i": 191,
          "k": 5,
          "s": 0.4008146930412554
         },
         {
          "i": 192,
          "k": 5,
          "s": 0.40534431480985267
         },
         {
          "i": 193,
          "k": 5,
          "s": 0.46820275136878664
         },
         {
          "i": 194,
          "k": 5,
          "s": 0.46207290031871184
         },
         {
          "i": 195,
          "k": 5,
          "s": 0.35345993847315593
         },
         {
          "i": 196,
          "k": 5,
          "s": 0.4384964940918844
         },
         {
          "i": 197,
          "k": 5,
          "s": 0.424367501126488
         },
         {
          "i": 198,
          "k": 5,
          "s": 0.4305686497824267
         },
         {
          "i": 199,
          "k": 5,
          "s": 0.4852775105841848
         },
         {
          "i": 200,
          "k": 5,
          "s": 0.48594663564129126
         },
         {
          "i": 201,
          "k": 5,
          "s": 0.407852793058342
         },
         {
          "i": 202,
          "k": 5,
          "s": 0.43991233360942905
         },
         {
          "i": 203,
          "k": 5,
          "s": 0.36003539328901957
         },
         {
          "i": 204,
          "k": 5,
          "s": 0.33756250303910496
         },
         {
          "i": 205,
          "k": 5,
          "s": 0.383203658630241
         },
         {
          "i": 206,
          "k": 5,
          "s": 0.466454248411464
         },
         {
          "i": 207,
          "k": 5,
          "s": 0.49009617790255666
         },
         {
          "i": 208,
          "k": 5,
          "s": -0.007880882494431751
         },
         {
          "i": 209,
          "k": 5,
          "s": -0.0661119407539078
         },
         {
          "i": 210,
          "k": 5,
          "s": -0.009203953963845879
         },
         {
          "i": 211,
          "k": 5,
          "s": -0.07156209098128408
         },
         {
          "i": 212,
          "k": 5,
          "s": -0.04192858016042533
         },
         {
          "i": 213,
          "k": 5,
          "s": 0.3680989364521702
         },
         {
          "i": 214,
          "k": 5,
          "s": 0.2724229879900911
         },
         {
          "i": 215,
          "k": 5,
          "s": 0.44423715503549666
         },
         {
          "i": 216,
          "k": 5,
          "s": 0.03611161555557019
         },
         {
          "i": 217,
          "k": 5,
          "s": 0.3484241419285864
         },
         {
          "i": 218,
          "k": 5,
          "s": 0.04973984874176818
         },
         {
          "i": 219,
          "k": 5,
          "s": 0.1040223044224804
         },
         {
          "i": 220,
          "k": 5,
          "s": 0.15125460735092155
         },
         {
          "i": 221,
          "k": 5,
          "s": 0.02671520118031967
         },
         {
          "i": 222,
          "k": 5,
          "s": 0.1455315562941525
         },
         {
          "i": 223,
          "k": 5,
          "s": 0.39038218898212906
         },
         {
          "i": 224,
          "k": 5,
          "s": 0.0754417940773825
         },
         {
          "i": 225,
          "k": 5,
          "s": 0.12662538062995654
         },
         {
          "i": 226,
          "k": 5,
          "s": -0.017385644646014997
         },
         {
          "i": 227,
          "k": 5,
          "s": 0.2687035094435052
         },
         {
          "i": 228,
          "k": 5,
          "s": -0.06317789601656953
         },
         {
          "i": 229,
          "k": 5,
          "s": 0.19334617893194495
         },
         {
          "i": 230,
          "k": 5,
          "s": 0.4785833395361402
         },
         {
          "i": 231,
          "k": 5,
          "s": -0.2392106165671789
         },
         {
          "i": 232,
          "k": 5,
          "s": 0.04350369091008399
         },
         {
          "i": 233,
          "k": 5,
          "s": 0.08173626622733554
         },
         {
          "i": 234,
          "k": 5,
          "s": 0.13341653901292316
         },
         {
          "i": 235,
          "k": 5,
          "s": 0.46869248817380915
         },
         {
          "i": 236,
          "k": 5,
          "s": 0.10099262405881404
         },
         {
          "i": 237,
          "k": 5,
          "s": 0.23707319633348067
         },
         {
          "i": 238,
          "k": 5,
          "s": 0.24480413487359798
         },
         {
          "i": 239,
          "k": 5,
          "s": 0.16545940146715765
         },
         {
          "i": 240,
          "k": 5,
          "s": 0.08388422385052774
         },
         {
          "i": 241,
          "k": 5,
          "s": 0.08632235570350832
         },
         {
          "i": 242,
          "k": 5,
          "s": 0.07912501634829927
         },
         {
          "i": 243,
          "k": 5,
          "s": 0.2891525379951603
         },
         {
          "i": 244,
          "k": 5,
          "s": 0.20631638775483863
         },
         {
          "i": 245,
          "k": 5,
          "s": 0.20749438479835736
         },
         {
          "i": 246,
          "k": 5,
          "s": 0.04558531880074579
         },
         {
          "i": 247,
          "k": 5,
          "s": 0.14581074783555936
         },
         {
          "i": 248,
          "k": 5,
          "s": 0.0018560007419498037
         },
         {
          "i": 249,
          "k": 5,
          "s": 0.18978671083402454
         },
         {
          "i": 250,
          "k": 5,
          "s": 0.15580721357744698
         },
         {
          "i": 251,
          "k": 5,
          "s": 0.1719100299086268
         },
         {
          "i": 252,
          "k": 5,
          "s": 0.2602591507249522
         },
         {
          "i": 253,
          "k": 5,
          "s": 0.2428213482538587
         },
         {
          "i": 254,
          "k": 5,
          "s": 0.4374453250550281
         },
         {
          "i": 255,
          "k": 5,
          "s": 0.409707108227761
         },
         {
          "i": 256,
          "k": 5,
          "s": 0.4312279144161443
         },
         {
          "i": 257,
          "k": 5,
          "s": 0.18038510902782168
         },
         {
          "i": 258,
          "k": 5,
          "s": 0.05651072721626482
         },
         {
          "i": 259,
          "k": 5,
          "s": -0.058635145884279205
         },
         {
          "i": 260,
          "k": 5,
          "s": -0.0026675973338476933
         },
         {
          "i": 261,
          "k": 5,
          "s": 0.11516416700570775
         },
         {
          "i": 262,
          "k": 5,
          "s": 0.1815058405412222
         },
         {
          "i": 263,
          "k": 5,
          "s": -0.009661433964060162
         },
         {
          "i": 264,
          "k": 5,
          "s": 0.041145729307014434
         },
         {
          "i": 265,
          "k": 5,
          "s": 0.2189164300942229
         },
         {
          "i": 266,
          "k": 5,
          "s": -0.07715222029340685
         },
         {
          "i": 267,
          "k": 5,
          "s": 0.12168321657762182
         },
         {
          "i": 268,
          "k": 5,
          "s": 0.008918571077073167
         },
         {
          "i": 269,
          "k": 5,
          "s": -0.042723910651917385
         },
         {
          "i": 270,
          "k": 5,
          "s": 0.33001279716224396
         },
         {
          "i": 271,
          "k": 5,
          "s": 0.10917263409457922
         },
         {
          "i": 272,
          "k": 5,
          "s": 0.30965244129444736
         },
         {
          "i": 273,
          "k": 5,
          "s": 0.1600704030500657
         },
         {
          "i": 274,
          "k": 5,
          "s": 0.021379213798843777
         },
         {
          "i": 275,
          "k": 5,
          "s": 0.17000789785842363
         },
         {
          "i": 276,
          "k": 5,
          "s": 0.06021314759059615
         },
         {
          "i": 277,
          "k": 5,
          "s": -0.017987885509092583
         },
         {
          "i": 278,
          "k": 5,
          "s": 0.12128787782287476
         },
         {
          "i": 279,
          "k": 5,
          "s": 0.11713492142075355
         },
         {
          "i": 280,
          "k": 5,
          "s": -0.09786711160808448
         },
         {
          "i": 281,
          "k": 5,
          "s": 0.17504853267306397
         },
         {
          "i": 282,
          "k": 5,
          "s": 0.12376048602412015
         },
         {
          "i": 283,
          "k": 5,
          "s": 0.1157842766246514
         },
         {
          "i": 284,
          "k": 5,
          "s": 0.4900391689473267
         },
         {
          "i": 285,
          "k": 5,
          "s": 0.40962285062865134
         },
         {
          "i": 286,
          "k": 5,
          "s": 0.3693146645796255
         },
         {
          "i": 287,
          "k": 5,
          "s": 0.3834605908344172
         },
         {
          "i": 288,
          "k": 5,
          "s": 0.34439122490155916
         },
         {
          "i": 289,
          "k": 5,
          "s": 0.418019780614146
         },
         {
          "i": 290,
          "k": 5,
          "s": 0.3791678845606954
         },
         {
          "i": 291,
          "k": 5,
          "s": 0.3808379654897467
         },
         {
          "i": 292,
          "k": 5,
          "s": 0.3741494639708772
         },
         {
          "i": 293,
          "k": 5,
          "s": 0.1838174483507925
         },
         {
          "i": 294,
          "k": 5,
          "s": 0.2984347772404924
         },
         {
          "i": 295,
          "k": 5,
          "s": 0.11527894913870906
         },
         {
          "i": 296,
          "k": 5,
          "s": 0.2156863535934559
         },
         {
          "i": 297,
          "k": 5,
          "s": 0.3221485746818823
         },
         {
          "i": 298,
          "k": 5,
          "s": 0.4572990067747915
         },
         {
          "i": 299,
          "k": 5,
          "s": 0.49490612825650604
         },
         {
          "i": 300,
          "k": 5,
          "s": 0.4503914236050388
         },
         {
          "i": 301,
          "k": 5,
          "s": 0.12899292865308032
         },
         {
          "i": 302,
          "k": 5,
          "s": 0.23730806420237793
         },
         {
          "i": 303,
          "k": 5,
          "s": 0.3130916474841944
         },
         {
          "i": 304,
          "k": 5,
          "s": 0.10557020882345891
         },
         {
          "i": 305,
          "k": 5,
          "s": 0.12982795747587206
         },
         {
          "i": 306,
          "k": 5,
          "s": 0.04119492420336546
         },
         {
          "i": 307,
          "k": 5,
          "s": 0.1426228285767187
         },
         {
          "i": 308,
          "k": 5,
          "s": 0.448466757255949
         },
         {
          "i": 309,
          "k": 5,
          "s": 0.5095763304260369
         },
         {
          "i": 310,
          "k": 5,
          "s": 0.3723516058824251
         },
         {
          "i": 311,
          "k": 5,
          "s": 0.4707672333978348
         },
         {
          "i": 312,
          "k": 5,
          "s": 0.4556740515230383
         },
         {
          "i": 313,
          "k": 5,
          "s": 0.5060820597094013
         },
         {
          "i": 314,
          "k": 5,
          "s": 0.4851297207072991
         },
         {
          "i": 315,
          "k": 5,
          "s": 0.48525272564833943
         },
         {
          "i": 316,
          "k": 5,
          "s": 0.4324537013620282
         },
         {
          "i": 317,
          "k": 5,
          "s": 0.48915902535083866
         },
         {
          "i": 318,
          "k": 5,
          "s": 0.5117652834965685
         },
         {
          "i": 319,
          "k": 5,
          "s": 0.5172203277885536
         },
         {
          "i": 320,
          "k": 5,
          "s": 0.4326477721696733
         },
         {
          "i": 321,
          "k": 5,
          "s": 0.44185623070478786
         },
         {
          "i": 322,
          "k": 5,
          "s": 0.45708494823902635
         },
         {
          "i": 323,
          "k": 5,
          "s": 0.506762277435447
         },
         {
          "i": 324,
          "k": 5,
          "s": 0.3694401830749098
         },
         {
          "i": 325,
          "k": 5,
          "s": 0.2144099298829143
         },
         {
          "i": 326,
          "k": 5,
          "s": 0.31049068821046755
         },
         {
          "i": 327,
          "k": 5,
          "s": 0.42552127254615735
         },
         {
          "i": 328,
          "k": 5,
          "s": 0.24218647046811648
         },
         {
          "i": 329,
          "k": 5,
          "s": 0.14096321876219542
         },
         {
          "i": 330,
          "k": 5,
          "s": 0.211686537218149
         },
         {
          "i": 331,
          "k": 5,
          "s": 0.040760361184771776
         },
         {
          "i": 332,
          "k": 5,
          "s": 0.16667807110834687
         },
         {
          "i": 333,
          "k": 5,
          "s": 0.2752462407640417
         },
         {
          "i": 334,
          "k": 5,
          "s": 0.29245402238573814
         },
         {
          "i": 335,
          "k": 5,
          "s": 0.3296670040478362
         },
         {
          "i": 336,
          "k": 5,
          "s": 0.4223361015589109
         },
         {
          "i": 337,
          "k": 5,
          "s": 0.43873681417505295
         },
         {
          "i": 338,
          "k": 5,
          "s": 0.3968778373349692
         },
         {
          "i": 339,
          "k": 5,
          "s": 0.4340403862000002
         },
         {
          "i": 340,
          "k": 5,
          "s": 0.46193242094902476
         },
         {
          "i": 341,
          "k": 5,
          "s": 0.3205054789171191
         },
         {
          "i": 342,
          "k": 5,
          "s": 0.22208054165898927
         },
         {
          "i": 343,
          "k": 5,
          "s": 0.23816213968869415
         },
         {
          "i": 344,
          "k": 5,
          "s": 0.41344871267137084
         },
         {
          "i": 345,
          "k": 5,
          "s": 0.2234627668357
         },
         {
          "i": 346,
          "k": 5,
          "s": 0.24966945454750522
         },
         {
          "i": 347,
          "k": 5,
          "s": 0.45705236499285906
         },
         {
          "i": 348,
          "k": 5,
          "s": 0.4864288287976619
         },
         {
          "i": 349,
          "k": 5,
          "s": 0.30906356185076156
         },
         {
          "i": 350,
          "k": 5,
          "s": 0.2445267871175807
         },
         {
          "i": 351,
          "k": 5,
          "s": 0.3913275741086667
         },
         {
          "i": 352,
          "k": 5,
          "s": 0.3330624046168933
         },
         {
          "i": 353,
          "k": 5,
          "s": 0.4104442104954732
         },
         {
          "i": 354,
          "k": 5,
          "s": 0.25489075284266427
         },
         {
          "i": 355,
          "k": 5,
          "s": 0.2887604537915198
         },
         {
          "i": 356,
          "k": 5,
          "s": 0.22707725589165906
         },
         {
          "i": 357,
          "k": 5,
          "s": 0.18991954652541465
         },
         {
          "i": 358,
          "k": 5,
          "s": 0.18772157812232815
         },
         {
          "i": 359,
          "k": 5,
          "s": 0.4078685296963732
         },
         {
          "i": 360,
          "k": 5,
          "s": 0.344426846049833
         },
         {
          "i": 361,
          "k": 5,
          "s": 0.4112105786419692
         },
         {
          "i": 362,
          "k": 5,
          "s": 0.3915917028116793
         },
         {
          "i": 363,
          "k": 5,
          "s": 0.22602697712052844
         },
         {
          "i": 364,
          "k": 5,
          "s": 0.019749958656336553
         },
         {
          "i": 365,
          "k": 5,
          "s": 0.21598169336420892
         },
         {
          "i": 366,
          "k": 5,
          "s": 0.32378295176030447
         },
         {
          "i": 367,
          "k": 5,
          "s": 0.06116979190667127
         },
         {
          "i": 368,
          "k": 5,
          "s": 0.12562795788915126
         },
         {
          "i": 369,
          "k": 5,
          "s": 0.07800855027068154
         },
         {
          "i": 370,
          "k": 5,
          "s": 0.0960920883972215
         },
         {
          "i": 371,
          "k": 5,
          "s": 0.1706365598181907
         },
         {
          "i": 372,
          "k": 5,
          "s": -0.013741995235692417
         },
         {
          "i": 373,
          "k": 5,
          "s": 0.2581529954569721
         },
         {
          "i": 374,
          "k": 5,
          "s": 0.15418393009668685
         },
         {
          "i": 375,
          "k": 5,
          "s": 0.27846930060143205
         },
         {
          "i": 376,
          "k": 5,
          "s": 0.313601250617652
         },
         {
          "i": 377,
          "k": 5,
          "s": 0.3942409609626747
         },
         {
          "i": 378,
          "k": 5,
          "s": 0.2609786617167149
         },
         {
          "i": 379,
          "k": 5,
          "s": 0.33720977502416327
         },
         {
          "i": 380,
          "k": 5,
          "s": 0.07263069692757529
         },
         {
          "i": 381,
          "k": 5,
          "s": 0.35786546733337277
         },
         {
          "i": 382,
          "k": 5,
          "s": 0.4034918152126117
         },
         {
          "i": 383,
          "k": 5,
          "s": 0.40359482992930085
         },
         {
          "i": 384,
          "k": 5,
          "s": -0.05872415855334834
         },
         {
          "i": 385,
          "k": 5,
          "s": 0.25292185205516227
         },
         {
          "i": 386,
          "k": 5,
          "s": 0.18221273865498444
         },
         {
          "i": 387,
          "k": 5,
          "s": 0.1807312520822073
         },
         {
          "i": 388,
          "k": 5,
          "s": 0.24201204197257065
         },
         {
          "i": 389,
          "k": 5,
          "s": 0.4172518050721655
         },
         {
          "i": 390,
          "k": 5,
          "s": 0.4623328808803482
         },
         {
          "i": 391,
          "k": 5,
          "s": 0.44683219915388195
         },
         {
          "i": 392,
          "k": 5,
          "s": 0.33626306097532344
         },
         {
          "i": 393,
          "k": 5,
          "s": 0.4600868727855706
         },
         {
          "i": 394,
          "k": 5,
          "s": 0.42316483378876824
         },
         {
          "i": 395,
          "k": 5,
          "s": 0.4407235615308801
         },
         {
          "i": 396,
          "k": 5,
          "s": 0.4493937115718779
         },
         {
          "i": 397,
          "k": 5,
          "s": 0.4194355721576378
         },
         {
          "i": 398,
          "k": 5,
          "s": -0.05579588466736196
         },
         {
          "i": 399,
          "k": 5,
          "s": 0.2334570816638254
         },
         {
          "i": 400,
          "k": 5,
          "s": 0.1979732507672628
         },
         {
          "i": 401,
          "k": 5,
          "s": 0.36399581270881654
         },
         {
          "i": 402,
          "k": 5,
          "s": 0.4098077311738748
         },
         {
          "i": 403,
          "k": 5,
          "s": 0.2394954428449081
         },
         {
          "i": 404,
          "k": 5,
          "s": 0.041297179987821675
         },
         {
          "i": 405,
          "k": 5,
          "s": 0.07381688336402459
         },
         {
          "i": 406,
          "k": 5,
          "s": 0.1815268723820811
         },
         {
          "i": 407,
          "k": 5,
          "s": 0.32349131964780165
         },
         {
          "i": 408,
          "k": 5,
          "s": 0.2796643758593894
         },
         {
          "i": 409,
          "k": 5,
          "s": 0.055549757133308675
         },
         {
          "i": 410,
          "k": 5,
          "s": 0.27564071926632117
         },
         {
          "i": 411,
          "k": 5,
          "s": 0.38102055772750343
         },
         {
          "i": 412,
          "k": 5,
          "s": 0.27557102924443855
         },
         {
          "i": 413,
          "k": 5,
          "s": 0.11747404709488674
         },
         {
          "i": 414,
          "k": 5,
          "s": 0.24231066787687416
         },
         {
          "i": 415,
          "k": 5,
          "s": 0.407773650994245
         },
         {
          "i": 416,
          "k": 5,
          "s": 0.39936504789287597
         },
         {
          "i": 417,
          "k": 5,
          "s": 0.2925685350177518
         },
         {
          "i": 418,
          "k": 5,
          "s": 0.23077050204324012
         },
         {
          "i": 419,
          "k": 5,
          "s": 0.3798949099845066
         },
         {
          "i": 420,
          "k": 5,
          "s": 0.3338974016754802
         },
         {
          "i": 421,
          "k": 5,
          "s": 0.36875112878581295
         },
         {
          "i": 422,
          "k": 5,
          "s": 0.2701541825305983
         },
         {
          "i": 423,
          "k": 5,
          "s": 0.3975377704800648
         },
         {
          "i": 424,
          "k": 5,
          "s": 0.35253482310137374
         },
         {
          "i": 425,
          "k": 5,
          "s": 0.43916302342718816
         },
         {
          "i": 426,
          "k": 5,
          "s": 0.34684030130220356
         },
         {
          "i": 427,
          "k": 5,
          "s": 0.3433227755839351
         },
         {
          "i": 428,
          "k": 5,
          "s": 0.31499564028263316
         },
         {
          "i": 429,
          "k": 5,
          "s": 0.3883327618578317
         },
         {
          "i": 430,
          "k": 5,
          "s": 0.30742770793727614
         },
         {
          "i": 431,
          "k": 5,
          "s": 0.3114235446979543
         },
         {
          "i": 432,
          "k": 5,
          "s": 0.1993919603559532
         },
         {
          "i": 433,
          "k": 5,
          "s": 0.253521674697067
         },
         {
          "i": 434,
          "k": 5,
          "s": 0.3118685393879571
         },
         {
          "i": 435,
          "k": 5,
          "s": 0.30359307049491435
         },
         {
          "i": 436,
          "k": 5,
          "s": 0.4143368334185933
         },
         {
          "i": 437,
          "k": 5,
          "s": 0.42562200327289135
         },
         {
          "i": 438,
          "k": 5,
          "s": 0.32133044469972294
         },
         {
          "i": 439,
          "k": 5,
          "s": 0.4133416138934273
         },
         {
          "i": 440,
          "k": 5,
          "s": 0.2798900439741724
         },
         {
          "i": 441,
          "k": 5,
          "s": 0.43103270554540263
         },
         {
          "i": 442,
          "k": 5,
          "s": 0.46442444741921873
         },
         {
          "i": 443,
          "k": 5,
          "s": 0.42424241511944394
         },
         {
          "i": 444,
          "k": 5,
          "s": -0.06396369509780231
         },
         {
          "i": 445,
          "k": 5,
          "s": 0.4020986673553302
         },
         {
          "i": 446,
          "k": 5,
          "s": 0.35667493754788937
         },
         {
          "i": 447,
          "k": 5,
          "s": 0.4329638522729973
         },
         {
          "i": 448,
          "k": 5,
          "s": 0.45594029247046697
         },
         {
          "i": 449,
          "k": 5,
          "s": 0.30884747442663474
         },
         {
          "i": 450,
          "k": 5,
          "s": 0.3756366420038204
         },
         {
          "i": 451,
          "k": 5,
          "s": 0.40411082970510215
         },
         {
          "i": 452,
          "k": 5,
          "s": 0.4642956217055859
         },
         {
          "i": 453,
          "k": 5,
          "s": 0.3396456687688677
         },
         {
          "i": 454,
          "k": 5,
          "s": 0.39558680877347785
         },
         {
          "i": 455,
          "k": 5,
          "s": 0.33342444661095116
         },
         {
          "i": 456,
          "k": 5,
          "s": 0.3697693821085223
         },
         {
          "i": 457,
          "k": 5,
          "s": 0.3855882173605787
         },
         {
          "i": 458,
          "k": 5,
          "s": 0.24587922229615478
         },
         {
          "i": 459,
          "k": 5,
          "s": 0.4479190820831067
         },
         {
          "i": 460,
          "k": 5,
          "s": 0.20508640510494924
         },
         {
          "i": 461,
          "k": 5,
          "s": 0.4400085381462798
         },
         {
          "i": 462,
          "k": 5,
          "s": 0.4349877375625184
         },
         {
          "i": 463,
          "k": 5,
          "s": 0.3865624987262183
         },
         {
          "i": 464,
          "k": 5,
          "s": 0.3608011227448428
         },
         {
          "i": 465,
          "k": 5,
          "s": 0.29414726240637445
         },
         {
          "i": 466,
          "k": 5,
          "s": 0.3147183133367719
         },
         {
          "i": 467,
          "k": 5,
          "s": 0.3676618108434543
         },
         {
          "i": 468,
          "k": 5,
          "s": 0.3435169048194574
         },
         {
          "i": 469,
          "k": 5,
          "s": 0.3127701890536648
         },
         {
          "i": 470,
          "k": 5,
          "s": 0.36614501750606754
         },
         {
          "i": 471,
          "k": 5,
          "s": 0.29687147349103904
         },
         {
          "i": 472,
          "k": 5,
          "s": 0.30732800612747013
         },
         {
          "i": 473,
          "k": 5,
          "s": 0.22596092155567016
         },
         {
          "i": 474,
          "k": 5,
          "s": 0.3723351762918462
         },
         {
          "i": 475,
          "k": 5,
          "s": 0.2709319173601018
         },
         {
          "i": 476,
          "k": 5,
          "s": 0.4259944561836998
         },
         {
          "i": 477,
          "k": 5,
          "s": 0.275442721570446
         },
         {
          "i": 478,
          "k": 5,
          "s": 0.4271968594364981
         },
         {
          "i": 479,
          "k": 5,
          "s": 0.39370184402880026
         },
         {
          "i": 480,
          "k": 5,
          "s": 0.20997291769705184
         },
         {
          "i": 481,
          "k": 5,
          "s": 0.17694008108658443
         },
         {
          "i": 482,
          "k": 5,
          "s": 0.14606932881518297
         },
         {
          "i": 483,
          "k": 5,
          "s": 0.10928539730556452
         },
         {
          "i": 484,
          "k": 5,
          "s": 0.19653432759668377
         },
         {
          "i": 485,
          "k": 5,
          "s": 0.19231284436582452
         },
         {
          "i": 486,
          "k": 5,
          "s": 0.34890043262962045
         },
         {
          "i": 487,
          "k": 5,
          "s": 0.24843531728479662
         },
         {
          "i": 488,
          "k": 5,
          "s": 0.2726066730945754
         },
         {
          "i": 489,
          "k": 5,
          "s": 0.29208560267688066
         },
         {
          "i": 490,
          "k": 5,
          "s": 0.23965506891870714
         },
         {
          "i": 491,
          "k": 5,
          "s": 0.28090820396719607
         },
         {
          "i": 492,
          "k": 5,
          "s": 0.21700995626514796
         },
         {
          "i": 493,
          "k": 5,
          "s": 0.40109939852465626
         },
         {
          "i": 494,
          "k": 5,
          "s": 0.4030794566781505
         },
         {
          "i": 495,
          "k": 5,
          "s": 0.35543897289634074
         },
         {
          "i": 496,
          "k": 5,
          "s": 0.2542425633287043
         },
         {
          "i": 497,
          "k": 5,
          "s": 0.3821893648897865
         },
         {
          "i": 498,
          "k": 5,
          "s": 0.4023388041027437
         },
         {
          "i": 499,
          "k": 5,
          "s": 0.3246518097072152
         },
         {
          "i": 500,
          "k": 5,
          "s": 0.3448948927386867
         },
         {
          "i": 501,
          "k": 5,
          "s": 0.41926042134159336
         },
         {
          "i": 502,
          "k": 5,
          "s": 0.40474425765298083
         },
         {
          "i": 503,
          "k": 5,
          "s": 0.3517565872669113
         },
         {
          "i": 504,
          "k": 5,
          "s": 0.3703831122455651
         },
         {
          "i": 505,
          "k": 5,
          "s": 0.3573492589982715
         },
         {
          "i": 0,
          "k": 6,
          "s": 0.15126597786120755
         },
         {
          "i": 1,
          "k": 6,
          "s": 0.42641675990947725
         },
         {
          "i": 2,
          "k": 6,
          "s": -0.0012108276800865125
         },
         {
          "i": 3,
          "k": 6,
          "s": -0.11653042743096076
         },
         {
          "i": 4,
          "k": 6,
          "s": -0.048250974213820075
         },
         {
          "i": 5,
          "k": 6,
          "s": 0.2398754406614988
         },
         {
          "i": 6,
          "k": 6,
          "s": 0.28179538616919486
         },
         {
          "i": 7,
          "k": 6,
          "s": 0.27162328026514326
         },
         {
          "i": 8,
          "k": 6,
          "s": 0.15018788882758882
         },
         {
          "i": 9,
          "k": 6,
          "s": 0.28344628629242996
         },
         {
          "i": 10,
          "k": 6,
          "s": 0.27218533952138124
         },
         {
          "i": 11,
          "k": 6,
          "s": 0.2903589453495745
         },
         {
          "i": 12,
          "k": 6,
          "s": 0.23404821520358954
         },
         {
          "i": 13,
          "k": 6,
          "s": 0.48518869354079874
         },
         {
          "i": 14,
          "k": 6,
          "s": 0.44200037502255163
         },
         {
          "i": 15,
          "k": 6,
          "s": 0.4851387324362043
         },
         {
          "i": 16,
          "k": 6,
          "s": 0.3854315411435313
         },
         {
          "i": 17,
          "k": 6,
          "s": 0.4242411304742487
         },
         {
          "i": 18,
          "k": 6,
          "s": 0.4011975647515802
         },
         {
          "i": 19,
          "k": 6,
          "s": 0.45224190277442955
         },
         {
          "i": 20,
          "k": 6,
          "s": 0.2493108342727678
         },
         {
          "i": 21,
          "k": 6,
          "s": 0.40756807347907065
         },
         {
          "i": 22,
          "k": 6,
          "s": 0.3363975663172293
         },
         {
          "i": 23,
          "k": 6,
          "s": 0.284388215788297
         },
         {
          "i": 24,
          "k": 6,
          "s": 0.36112152262454533
         },
         {
          "i": 25,
          "k": 6,
          "s": 0.3223193303980869
         },
         {
          "i": 26,
          "k": 6,
          "s": 0.3885951647006384
         },
         {
          "i": 27,
          "k": 6,
          "s": 0.33208187503432096
         },
         {
          "i": 28,
          "k": 6,
          "s": 0.3945191804385473
         },
         {
          "i": 29,
          "k": 6,
          "s": 0.41433436880190155
         },
         {
          "i": 30,
          "k": 6,
          "s": 0.25262907567060067
         },
         {
          "i": 31,
          "k": 6,
          "s": 0.3512812416743665
         },
         {
          "i": 32,
          "k": 6,
          "s": 0.164694445654884
         },
         {
          "i": 33,
          "k": 6,
          "s": 0.2903392382575979
         },
         {
          "i": 34,
          "k": 6,
          "s": 0.21255862641198253
         },
         {
          "i": 35,
          "k": 6,
          "s": 0.5264009784572696
         },
         {
          "i": 36,
          "k": 6,
          "s": 0.5300141753555134
         },
         {
          "i": 37,
          "k": 6,
          "s": 0.4665994865404489
         },
         {
          "i": 38,
          "k": 6,
          "s": 0.4159276508831772
         },
         {
          "i": 39,
          "k": 6,
          "s": 0.4219199276954614
         },
         {
          "i": 40,
          "k": 6,
          "s": 0.43078147341183526
         },
         {
          "i": 41,
          "k": 6,
          "s": 0.037875552044564054
         },
         {
          "i": 42,
          "k": 6,
          "s": 0.1349561571144492
         },
         {
          "i": 43,
          "k": 6,
          "s": 0.14956061172174195
         },
         {
          "i": 44,
          "k": 6,
          "s": 0.3487612804709658
         },
         {
          "i": 45,
          "k": 6,
          "s": 0.3723169504621435
         },
         {
          "i": 46,
          "k": 6,
          "s": 0.3800612242662743
         },
         {
          "i": 47,
          "k": 6,
          "s": 0.426112997816811
         },
         {
          "i": 48,
          "k": 6,
          "s": 0.22571731913376925
         },
         {
          "i": 49,
          "k": 6,
          "s": 0.4089056371039489
         },
         {
          "i": 50,
          "k": 6,
          "s": 0.12453834293301735
         },
         {
          "i": 51,
          "k": 6,
          "s": 0.13501948545810372
         },
         {
          "i": 52,
          "k": 6,
          "s": 0.17588766386819554
         },
         {
          "i": 53,
          "k": 6,
          "s": 0.06297316402500719
         },
         {
          "i": 54,
          "k": 6,
          "s": 0.14856588209896937
         },
         {
          "i": 55,
          "k": 6,
          "s": 0.4746073950483717
         },
         {
          "i": 56,
          "k": 6,
          "s": 0.46430315163848157
         },
         {
          "i": 57,
          "k": 6,
          "s": 0.4729088118367032
         },
         {
          "i": 58,
          "k": 6,
          "s": 0.052736143539330205
         },
         {
          "i": 59,
          "k": 6,
          "s": 0.1566724027787244
         },
         {
          "i": 60,
          "k": 6,
          "s": 0.2408780807384232
         },
         {
          "i": 61,
          "k": 6,
          "s": 0.2974379798596668
         },
         {
          "i": 62,
          "k": 6,
          "s": 0.11112210579088888
         },
         {
          "i": 63,
          "k": 6,
          "s": 0.0669813082311157
         },
         {
          "i": 64,
          "k": 6,
          "s": 0.14884512607280986
         },
         {
          "i": 65,
          "k": 6,
          "s": 0.4641962468254861
         },
         {
          "i": 66,
          "k": 6,
          "s": 0.3516526162806357
         },
         {
          "i": 67,
          "k": 6,
          "s": 0.126571665665695
         },
         {
          "i": 68,
          "k": 6,
          "s": 0.2630890665554949
         },
         {
          "i": 69,
          "k": 6,
          "s": 0.19190647365534153
         },
         {
          "i": 70,
          "k": 6,
          "s": 0.18743635565690087
         },
         {
          "i": 71,
          "k": 6,
          "s": 0.3041627410349629
         },
         {
          "i": 72,
          "k": 6,
          "s": 0.21691649546996294
         },
         {
          "i": 73,
          "k": 6,
          "s": 0.21176886969329944
         },
         {
          "i": 74,
          "k": 6,
          "s": 0.23449647417471298
         },
         {
          "i": 75,
          "k": 6,
          "s": 0.4081613147554223
         },
         {
          "i": 76,
          "k": 6,
          "s": 0.4253820581410144
         },
         {
          "i": 77,
          "k": 6,
          "s": 0.43887625029157173
         },
         {
          "i": 78,
          "k": 6,
          "s": 0.43277651166975906
         },
         {
          "i": 79,
          "k": 6,
          "s": 0.4021882709838198
         },
         {
          "i": 80,
          "k": 6,
          "s": 0.05005171625787952
         },
         {
          "i": 81,
          "k": 6,
          "s": 0.18243912592539413
         },
         {
          "i": 82,
          "k": 6,
          "s": 0.04338564522279831
         },
         {
          "i": 83,
          "k": 6,
          "s": 0.1636723656392367
         },
         {
          "i": 84,
          "k": 6,
          "s": 0.38450318224131264
         },
         {
          "i": 85,
          "k": 6,
          "s": 0.33791441291971447
         },
         {
          "i": 86,
          "k": 6,
          "s": 0.4329475275436403
         },
         {
          "i": 87,
          "k": 6,
          "s": 0.45390283643430984
         },
         {
          "i": 88,
          "k": 6,
          "s": 0.18296941910864195
         },
         {
          "i": 89,
          "k": 6,
          "s": -0.1203880086581739
         },
         {
          "i": 90,
          "k": 6,
          "s": 0.39583166824952254
         },
         {
          "i": 91,
          "k": 6,
          "s": 0.3873081523301406
         },
         {
          "i": 92,
          "k": 6,
          "s": 0.26919269495267306
         },
         {
          "i": 93,
          "k": 6,
          "s": 0.17301352385541857
         },
         {
          "i": 94,
          "k": 6,
          "s": 0.3546916691319576
         },
         {
          "i": 95,
          "k": 6,
          "s": 0.26256593286002894
         },
         {
          "i": 96,
          "k": 6,
          "s": 0.45835072032796587
         },
         {
          "i": 97,
          "k": 6,
          "s": 0.24679893940640718
         },
         {
          "i": 98,
          "k": 6,
          "s": 0.21278940017556403
         },
         {
          "i": 99,
          "k": 6,
          "s": 0.05096594037405666
         },
         {
          "i": 100,
          "k": 6,
          "s": 0.3279082043231899
         },
         {
          "i": 101,
          "k": 6,
          "s": 0.3288935978701688
         },
         {
          "i": 102,
          "k": 6,
          "s": 0.06991075528867052
         },
         {
          "i": 103,
          "k": 6,
          "s": 0.3682348249621483
         },
         {
          "i": 104,
          "k": 6,
          "s": 0.3542737897878948
         },
         {
          "i": 105,
          "k": 6,
          "s": 0.271150550292115
         },
         {
          "i": 106,
          "k": 6,
          "s": 0.2693585124044727
         },
         {
          "i": 107,
          "k": 6,
          "s": 0.3443405748263947
         },
         {
          "i": 108,
          "k": 6,
          "s": 0.324089320097539
         },
         {
          "i": 109,
          "k": 6,
          "s": 0.3301168930948222
         },
         {
          "i": 110,
          "k": 6,
          "s": 0.4440666331338051
         },
         {
          "i": 111,
          "k": 6,
          "s": 0.3188592835255504
         },
         {
          "i": 112,
          "k": 6,
          "s": 0.21889047133324713
         },
         {
          "i": 113,
          "k": 6,
          "s": 0.2141562292804502
         },
         {
          "i": 114,
          "k": 6,
          "s": 0.30083667154470484
         },
         {
          "i": 115,
          "k": 6,
          "s": 0.22702857315176717
         },
         {
          "i": 116,
          "k": 6,
          "s": 0.3649614016908229
         },
         {
          "i": 117,
          "k": 6,
          "s": 0.33215255314916203
         },
         {
          "i": 118,
          "k": 6,
          "s": 0.2866400336765129
         },
         {
          "i": 119,
          "k": 6,
          "s": 0.3494243227227083
         },
         {
          "i": 120,
          "k": 6,
          "s": 0.07048825436890604
         },
         {
          "i": 121,
          "k": 6,
          "s": 0.13005844334787264
         },
         {
          "i": 122,
          "k": 6,
          "s": 0.1846235920862327
         },
         {
          "i": 123,
          "k": 6,
          "s": 0.22046935593294492
         },
         {
          "i": 124,
          "k": 6,
          "s": 0.19674255917257588
         },
         {
          "i": 125,
          "k": 6,
          "s": 0.14889517039528888
         },
         {
          "i": 126,
          "k": 6,
          "s": 0.2254022888706393
         },
         {
          "i": 127,
          "k": 6,
          "s": 0.22783757228225265
         },
         {
          "i": 128,
          "k": 6,
          "s": 0.19396969821571208
         },
         {
          "i": 129,
          "k": 6,
          "s": 0.224195873907435
         },
         {
          "i": 130,
          "k": 6,
          "s": 0.1538532064178788
         },
         {
          "i": 131,
          "k": 6,
          "s": 0.1487816207597764
         },
         {
          "i": 132,
          "k": 6,
          "s": 0.11771479585904532
         },
         {
          "i": 133,
          "k": 6,
          "s": 0.18518157993089235
         },
         {
          "i": 134,
          "k": 6,
          "s": 0.2073055072379878
         },
         {
          "i": 135,
          "k": 6,
          "s": 0.2019887905422948
         },
         {
          "i": 136,
          "k": 6,
          "s": 0.21853653829218078
         },
         {
          "i": 137,
          "k": 6,
          "s": 0.18627235808048792
         },
         {
          "i": 138,
          "k": 6,
          "s": 0.22031331471154103
         },
         {
          "i": 139,
          "k": 6,
          "s": 0.22988223256990903
         },
         {
          "i": 140,
          "k": 6,
          "s": 0.19638212261308297
         },
         {
          "i": 141,
          "k": 6,
          "s": 0.12031295801473973
         },
         {
          "i": 142,
          "k": 6,
          "s": 0.17842252845966988
         },
         {
          "i": 143,
          "k": 6,
          "s": 0.2624517608359561
         },
         {
          "i": 144,
          "k": 6,
          "s": 0.23777365867480427
         },
         {
          "i": 145,
          "k": 6,
          "s": 0.18581804105977817
         },
         {
          "i": 146,
          "k": 6,
          "s": 0.24315260225409308
         },
         {
          "i": 147,
          "k": 6,
          "s": 0.2448319441477318
         },
         {
          "i": 148,
          "k": 6,
          "s": 0.2659302793664162
         },
         {
          "i": 149,
          "k": 6,
          "s": 0.29584991472459354
         },
         {
          "i": 150,
          "k": 6,
          "s": 0.2910601778656182
         },
         {
          "i": 151,
          "k": 6,
          "s": 0.3018895396168093
         },
         {
          "i": 152,
          "k": 6,
          "s": 0.1970731025576743
         },
         {
          "i": 153,
          "k": 6,
          "s": 0.303868747797693
         },
         {
          "i": 154,
          "k": 6,
          "s": 0.202410479574736
         },
         {
          "i": 155,
          "k": 6,
          "s": 0.10332842461708047
         },
         {
          "i": 156,
          "k": 6,
          "s": 0.1133686553255927
         },
         {
          "i": 157,
          "k": 6,
          "s": 0.14306017173896235
         },
         {
          "i": 158,
          "k": 6,
          "s": 0.10820059758102274
         },
         {
          "i": 159,
          "k": 6,
          "s": 0.22688190735423863
         },
         {
          "i": 160,
          "k": 6,
          "s": 0.007795408844832541
         },
         {
          "i": 161,
          "k": 6,
          "s": 0.25466706142200624
         },
         {
          "i": 162,
          "k": 6,
          "s": 0.2633084193552341
         },
         {
          "i": 163,
          "k": 6,
          "s": 0.2755630369311738
         },
         {
          "i": 164,
          "k": 6,
          "s": 0.10804659509853753
         },
         {
          "i": 165,
          "k": 6,
          "s": 0.12752909521387512
         },
         {
          "i": 166,
          "k": 6,
          "s": 0.27560859253649994
         },
         {
          "i": 167,
          "k": 6,
          "s": 0.11494439828991854
         },
         {
          "i": 168,
          "k": 6,
          "s": 0.1420842941917828
         },
         {
          "i": 169,
          "k": 6,
          "s": 0.12879076090190034
         },
         {
          "i": 170,
          "k": 6,
          "s": 0.1821574804535313
         },
         {
          "i": 171,
          "k": 6,
          "s": 0.15837715300681376
         },
         {
          "i": 172,
          "k": 6,
          "s": 0.3605585391761832
         },
         {
          "i": 173,
          "k": 6,
          "s": 0.29319073485821023
         },
         {
          "i": 174,
          "k": 6,
          "s": 0.4073094002227443
         },
         {
          "i": 175,
          "k": 6,
          "s": 0.19450616010701904
         },
         {
          "i": 176,
          "k": 6,
          "s": 0.39911704087605326
         },
         {
          "i": 177,
          "k": 6,
          "s": 0.3092285025284389
         },
         {
          "i": 178,
          "k": 6,
          "s": -0.08666675000530322
         },
         {
          "i": 179,
          "k": 6,
          "s": 0.05449083628345408
         },
         {
          "i": 180,
          "k": 6,
          "s": 0.23486809275911313
         },
         {
          "i": 181,
          "k": 6,
          "s": 0.1959691885248661
         },
         {
          "i": 182,
          "k": 6,
          "s": 0.13735112071019362
         },
         {
          "i": 183,
          "k": 6,
          "s": -0.10885333816088316
         },
         {
          "i": 184,
          "k": 6,
          "s": 0.38791034446662787
         },
         {
          "i": 185,
          "k": 6,
          "s": 0.34509244629210645
         },
         {
          "i": 186,
          "k": 6,
          "s": 0.28268180901088347
         },
         {
          "i": 187,
          "k": 6,
          "s": 0.23925131049331816
         },
         {
          "i": 188,
          "k": 6,
          "s": 0.30485815648522974
         },
         {
          "i": 189,
          "k": 6,
          "s": 0.25844676768878094
         },
         {
          "i": 190,
          "k": 6,
          "s": 0.40307367160808505
         },
         {
          "i": 191,
          "k": 6,
          "s": 0.40402680227097354
         },
         {
          "i": 192,
          "k": 6,
          "s": 0.3752995093823732
         },
         {
          "i": 193,
          "k": 6,
          "s": 0.47014709867468696
         },
         {
          "i": 194,
          "k": 6,
          "s": 0.46428688595443046
         },
         {
          "i": 195,
          "k": 6,
          "s": 0.22839948354379036
         },
         {
          "i": 196,
          "k": 6,
          "s": 0.40617945198312366
         },
         {
          "i": 197,
          "k": 6,
          "s": 0.42102678822548956
         },
         {
          "i": 198,
          "k": 6,
          "s": 0.3968584491689521
         },
         {
          "i": 199,
          "k": 6,
          "s": 0.4895705509293038
         },
         {
          "i": 200,
          "k": 6,
          "s": 0.49041551353755164
         },
         {
          "i": 201,
          "k": 6,
          "s": 0.4109286838546071
         },
         {
          "i": 202,
          "k": 6,
          "s": 0.3711185210409853
         },
         {
          "i": 203,
          "k": 6,
          "s": 0.250143867287127
         },
         {
          "i": 204,
          "k": 6,
          "s": 0.22419124058447393
         },
         {
          "i": 205,
          "k": 6,
          "s": 0.39579631177165975
         },
         {
          "i": 206,
          "k": 6,
          "s": 0.470375614515781
         },
         {
          "i": 207,
          "k": 6,
          "s": 0.4268840524561647
         },
         {
          "i": 208,
          "k": 6,
          "s": 0.13405124937526425
         },
         {
          "i": 209,
          "k": 6,
          "s": 0.0788670806524141
         },
         {
          "i": 210,
          "k": 6,
          "s": 0.13435904546517585
         },
         {
          "i": 211,
          "k": 6,
          "s": 0.08893115662118034
         },
         {
          "i": 212,
          "k": 6,
          "s": 0.17119127296534964
         },
         {
          "i": 213,
          "k": 6,
          "s": 0.3708051884932827
         },
         {
          "i": 214,
          "k": 6,
          "s": 0.25017153580574303
         },
         {
          "i": 215,
          "k": 6,
          "s": 0.4494059220610428
         },
         {
          "i": 216,
          "k": 6,
          "s": 0.0978707524491409
         },
         {
          "i": 217,
          "k": 6,
          "s": 0.19093630610536405
         },
         {
          "i": 218,
          "k": 6,
          "s": -0.03447159452808923
         },
         {
          "i": 219,
          "k": 6,
          "s": -0.033756795351486124
         },
         {
          "i": 220,
          "k": 6,
          "s": 0.0718367880308941
         },
         {
          "i": 221,
          "k": 6,
          "s": 0.1077158282299876
         },
         {
          "i": 222,
          "k": 6,
          "s": 0.06359025777423633
         },
         {
          "i": 223,
          "k": 6,
          "s": 0.1942684890052322
         },
         {
          "i": 224,
          "k": 6,
          "s": 0.32921128404336153
         },
         {
          "i": 225,
          "k": 6,
          "s": 0.33396869120103345
         },
         {
          "i": 226,
          "k": 6,
          "s": 0.27355131973533553
         },
         {
          "i": 227,
          "k": 6,
          "s": 0.00421472615344598
         },
         {
          "i": 228,
          "k": 6,
          "s": 0.17990331346608512
         },
         {
          "i": 229,
          "k": 6,
          "s": 0.18519350525041944
         },
         {
          "i": 230,
          "k": 6,
          "s": 0.46271048816658145
         },
         {
          "i": 231,
          "k": 6,
          "s": 0.07732828723988983
         },
         {
          "i": 232,
          "k": 6,
          "s": 0.31040072622754
         },
         {
          "i": 233,
          "k": 6,
          "s": 0.32904781968555685
         },
         {
          "i": 234,
          "k": 6,
          "s": 0.057298073335824484
         },
         {
          "i": 235,
          "k": 6,
          "s": 0.4581742550413228
         },
         {
          "i": 236,
          "k": 6,
          "s": -0.000673460322518693
         },
         {
          "i": 237,
          "k": 6,
          "s": 0.04660898241969369
         },
         {
          "i": 238,
          "k": 6,
          "s": 0.23969360671622986
         },
         {
          "i": 239,
          "k": 6,
          "s": 0.16240226913101885
         },
         {
          "i": 240,
          "k": 6,
          "s": 0.08163441597818788
         },
         {
          "i": 241,
          "k": 6,
          "s": 0.09780928185386695
         },
         {
          "i": 242,
          "k": 6,
          "s": 0.07126495190407944
         },
         {
          "i": 243,
          "k": 6,
          "s": 0.2848815930147711
         },
         {
          "i": 244,
          "k": 6,
          "s": 0.22475009083499298
         },
         {
          "i": 245,
          "k": 6,
          "s": 0.22869458516294472
         },
         {
          "i": 246,
          "k": 6,
          "s": 0.028312991287932854
         },
         {
          "i": 247,
          "k": 6,
          "s": 0.15768114736012928
         },
         {
          "i": 248,
          "k": 6,
          "s": -0.011557636886169731
         },
         {
          "i": 249,
          "k": 6,
          "s": 0.18273736616695668
         },
         {
          "i": 250,
          "k": 6,
          "s": 0.1453431951559897
         },
         {
          "i": 251,
          "k": 6,
          "s": 0.1634419151796337
         },
         {
          "i": 252,
          "k": 6,
          "s": 0.2582143639747333
         },
         {
          "i": 253,
          "k": 6,
          "s": 0.18070324458652864
         },
         {
          "i": 254,
          "k": 6,
          "s": 0.44017214884214917
         },
         {
          "i": 255,
          "k": 6,
          "s": 0.41046864838199304
         },
         {
          "i": 256,
          "k": 6,
          "s": 0.3674947470859289
         },
         {
          "i": 257,
          "k": 6,
          "s": 0.32740308201400226
         },
         {
          "i": 258,
          "k": 6,
          "s": 0.24390331841832424
         },
         {
          "i": 259,
          "k": 6,
          "s": 0.1248317053367265
         },
         {
          "i": 260,
          "k": 6,
          "s": 0.1988116994479463
         },
         {
          "i": 261,
          "k": 6,
          "s": 0.3044147804159878
         },
         {
          "i": 262,
          "k": 6,
          "s": 0.3351651144205082
         },
         {
          "i": 263,
          "k": 6,
          "s": 0.17593076208196112
         },
         {
          "i": 264,
          "k": 6,
          "s": 0.23574045971458424
         },
         {
          "i": 265,
          "k": 6,
          "s": 0.18085783137534694
         },
         {
          "i": 266,
          "k": 6,
          "s": 0.09438932369263009
         },
         {
          "i": 267,
          "k": 6,
          "s": 0.3029274685881219
         },
         {
          "i": 268,
          "k": 6,
          "s": 0.2343773878003934
         },
         {
          "i": 269,
          "k": 6,
          "s": 0.1501039259097371
         },
         {
          "i": 270,
          "k": 6,
          "s": 0.34855182385437644
         },
         {
          "i": 271,
          "k": 6,
          "s": 0.12217373313430924
         },
         {
          "i": 272,
          "k": 6,
          "s": 0.3103538137915377
         },
         {
          "i": 273,
          "k": 6,
          "s": 0.16512265081692024
         },
         {
          "i": 274,
          "k": 6,
          "s": 0.025691708076899467
         },
         {
          "i": 275,
          "k": 6,
          "s": 0.1745529848630537
         },
         {
          "i": 276,
          "k": 6,
          "s": 0.07174134558981493
         },
         {
          "i": 277,
          "k": 6,
          "s": -0.00907129439154053
         },
         {
          "i": 278,
          "k": 6,
          "s": 0.11759952705581556
         },
         {
          "i": 279,
          "k": 6,
          "s": -0.11208380320175415
         },
         {
          "i": 280,
          "k": 6,
          "s": 0.18276289877064056
         },
         {
          "i": 281,
          "k": 6,
          "s": 0.1288916539488043
         },
         {
          "i": 282,
          "k": 6,
          "s": 0.17193781540832065
         },
         {
          "i": 283,
          "k": 6,
          "s": 0.06941498567708837
         },
         {
          "i": 284,
          "k": 6,
          "s": 0.49474340368362757
         },
         {
          "i": 285,
          "k": 6,
          "s": 0.4104981854365284
         },
         {
          "i": 286,
          "k": 6,
          "s": 0.36793488386731343
         },
         {
          "i": 287,
          "k": 6,
          "s": 0.38276788910853377
         },
         {
          "i": 288,
          "k": 6,
          "s": 0.3441518997536638
         },
         {
          "i": 289,
          "k": 6,
          "s": 0.4181895724611191
         },
         {
          "i": 290,
          "k": 6,
          "s": 0.38069240080256095
         },
         {
          "i": 291,
          "k": 6,
          "s": 0.38349344543004804
         },
         {
          "i": 292,
          "k": 6,
          "s": 0.3744473350040677
         },
         {
          "i": 293,
          "k": 6,
          "s": 0.1866022441827413
         },
         {
          "i": 294,
          "k": 6,
          "s": 0.30005546436269637
         },
         {
          "i": 295,
          "k": 6,
          "s": 0.10781722260357407
         },
         {
          "i": 296,
          "k": 6,
          "s": 0.20637133887346304
         },
         {
          "i": 297,
          "k": 6,
          "s": 0.32701605848379034
         },
         {
          "i": 298,
          "k": 6,
          "s": 0.4605784823962298
         },
         {
          "i": 299,
          "k": 6,
          "s": 0.4992381786954344
         },
         {
          "i": 300,
          "k": 6,
          "s": 0.45545411622509824
         },
         {
          "i": 301,
          "k": 6,
          "s": 0.12593717348867772
         },
         {
          "i": 302,
          "k": 6,
          "s": 0.23354283754158367
         },
         {
          "i": 303,
          "k": 6,
          "s": 0.3145601231633465
         },
         {
          "i": 304,
          "k": 6,
          "s": -0.10287268141811845
         },
         {
          "i": 305,
          "k": 6,
          "s": 0.13156995789980686
         },
         {
          "i": 306,
          "k": 6,
          "s": 0.07176349381893388
         },
         {
          "i": 307,
          "k": 6,
          "s": 0.13745881262627513
         },
         {
          "i": 308,
          "k": 6,
          "s": 0.32265052746359324
         },
         {
          "i": 309,
          "k": 6,
          "s": 0.4309870856964977
         },
         {
          "i": 310,
          "k": 6,
          "s": 0.3155096723119345
         },
         {
          "i": 311,
          "k": 6,
          "s": 0.4388038601020836
         },
         {
          "i": 312,
          "k": 6,
          "s": 0.3587820000959444
         },
         {
          "i": 313,
          "k": 6,
          "s": 0.422836145265309
         },
         {
          "i": 314,
          "k": 6,
          "s": 0.3753038917395123
         },
         {
          "i": 315,
          "k": 6,
          "s": 0.4152670224244477
         },
         {
          "i": 316,
          "k": 6,
          "s": 0.3536401646509022
         },
         {
          "i": 317,
          "k": 6,
          "s": 0.4228131337345983
         },
         {
          "i": 318,
          "k": 6,
          "s": 0.46221018111104095
         },
         {
          "i": 319,
          "k": 6,
          "s": 0.49194832406289446
         },
         {
          "i": 320,
          "k": 6,
          "s": 0.43920661909525893
         },
         {
          "i": 321,
          "k": 6,
          "s": 0.448852329390511
         },
         {
          "i": 322,
          "k": 6,
          "s": 0.4712068823548007
         },
         {
          "i": 323,
          "k": 6,
          "s": 0.5095048951299044
         },
         {
          "i": 324,
          "k": 6,
          "s": 0.37705761809299343
         },
         {
          "i": 325,
          "k": 6,
          "s": 0.22585646236336876
         },
         {
          "i": 326,
          "k": 6,
          "s": 0.3235781772121853
         },
         {
          "i": 327,
          "k": 6,
          "s": 0.44376182163798417
         },
         {
          "i": 328,
          "k": 6,
          "s": 0.2587855647948031
         },
         {
          "i": 329,
          "k": 6,
          "s": 0.15182378693347387
         },
         {
          "i": 330,
          "k": 6,
          "s": 0.22544029777619956
         },
         {
          "i": 331,
          "k": 6,
          "s": 0.023000300519724792
         },
         {
          "i": 332,
          "k": 6,
          "s": 0.1579165769075337
         },
         {
          "i": 333,
          "k": 6,
          "s": 0.2891653640970586
         },
         {
          "i": 334,
          "k": 6,
          "s": 0.30801816287010086
         },
         {
          "i": 335,
          "k": 6,
          "s": 0.34867149400756237
         },
         {
          "i": 336,
          "k": 6,
          "s": 0.442038605565649
         },
         {
          "i": 337,
          "k": 6,
          "s": 0.4573475643999142
         },
         {
          "i": 338,
          "k": 6,
          "s": 0.414546701173407
         },
         {
          "i": 339,
          "k": 6,
          "s": 0.45265281694519055
         },
         {
          "i": 340,
          "k": 6,
          "s": 0.4784200472603827
         },
         {
          "i": 341,
          "k": 6,
          "s": 0.3111655986746007
         },
         {
          "i": 342,
          "k": 6,
          "s": 0.22547020092765757
         },
         {
          "i": 343,
          "k": 6,
          "s": 0.23926767935184046
         },
         {
          "i": 344,
          "k": 6,
          "s": 0.41575755395442826
         },
         {
          "i": 345,
          "k": 6,
          "s": 0.24346260454892
         },
         {
          "i": 346,
          "k": 6,
          "s": 0.27030496239267277
         },
         {
          "i": 347,
          "k": 6,
          "s": 0.46023634152013393
         },
         {
          "i": 348,
          "k": 6,
          "s": 0.4899751200153539
         },
         {
          "i": 349,
          "k": 6,
          "s": 0.3069697989808092
         },
         {
          "i": 350,
          "k": 6,
          "s": 0.23866559368254558
         },
         {
          "i": 351,
          "k": 6,
          "s": 0.3926439431305899
         },
         {
          "i": 352,
          "k": 6,
          "s": 0.32983629096841327
         },
         {
          "i": 353,
          "k": 6,
          "s": 0.4138031545439885
         },
         {
          "i": 354,
          "k": 6,
          "s": 0.24872422917697745
         },
         {
          "i": 355,
          "k": 6,
          "s": 0.2846464078139388
         },
         {
          "i": 356,
          "k": 6,
          "s": 0.18294355685816355
         },
         {
          "i": 357,
          "k": 6,
          "s": 0.1602211096918258
         },
         {
          "i": 358,
          "k": 6,
          "s": 0.16281777966138167
         },
         {
          "i": 359,
          "k": 6,
          "s": 0.37966523844337907
         },
         {
          "i": 360,
          "k": 6,
          "s": 0.3270171256591573
         },
         {
          "i": 361,
          "k": 6,
          "s": 0.3920400040450138
         },
         {
          "i": 362,
          "k": 6,
          "s": 0.32013328825407583
         },
         {
          "i": 363,
          "k": 6,
          "s": 0.1567995585941192
         },
         {
          "i": 364,
          "k": 6,
          "s": 0.027876105692415942
         },
         {
          "i": 365,
          "k": 6,
          "s": 0.15073331898682052
         },
         {
          "i": 366,
          "k": 6,
          "s": 0.29967972075075955
         },
         {
          "i": 367,
          "k": 6,
          "s": 0.09471897612637736
         },
         {
          "i": 368,
          "k": 6,
          "s": 0.1377896929832262
         },
         {
          "i": 369,
          "k": 6,
          "s": 0.0026932236192694914
         },
         {
          "i": 370,
          "k": 6,
          "s": 0.029125884977794336
         },
         {
          "i": 371,
          "k": 6,
          "s": 0.19055796258251478
         },
         {
          "i": 372,
          "k": 6,
          "s": 0.085179976699305
         },
         {
          "i": 373,
          "k": 6,
          "s": 0.28359714843237327
         },
         {
          "i": 374,
          "k": 6,
          "s": 0.20081320284132864
         },
         {
          "i": 375,
          "k": 6,
          "s": 0.33050605580821557
         },
         {
          "i": 376,
          "k": 6,
          "s": 0.37015261199884597
         },
         {
          "i": 377,
          "k": 6,
          "s": 0.42345115687379453
         },
         {
          "i": 378,
          "k": 6,
          "s": 0.3506958139773019
         },
         {
          "i": 379,
          "k": 6,
          "s": 0.41080926340881085
         },
         {
          "i": 380,
          "k": 6,
          "s": 0.0068183518790988495
         },
         {
          "i": 381,
          "k": 6,
          "s": 0.42096162286043326
         },
         {
          "i": 382,
          "k": 6,
          "s": 0.4180837684082639
         },
         {
          "i": 383,
          "k": 6,
          "s": 0.40454429610676335
         },
         {
          "i": 384,
          "k": 6,
          "s": 0.09145826528866641
         },
         {
          "i": 385,
          "k": 6,
          "s": 0.3162741124076587
         },
         {
          "i": 386,
          "k": 6,
          "s": 0.26882768623814235
         },
         {
          "i": 387,
          "k": 6,
          "s": 0.2641569617387448
         },
         {
          "i": 388,
          "k": 6,
          "s": 0.29157196916268435
         },
         {
          "i": 389,
          "k": 6,
          "s": 0.41327026526015265
         },
         {
          "i": 390,
          "k": 6,
          "s": 0.4456530336877612
         },
         {
          "i": 391,
          "k": 6,
          "s": 0.42344006444519566
         },
         {
          "i": 392,
          "k": 6,
          "s": 0.3692266585839844
         },
         {
          "i": 393,
          "k": 6,
          "s": 0.46665405685751893
         },
         {
          "i": 394,
          "k": 6,
          "s": 0.47180757490522474
         },
         {
          "i": 395,
          "k": 6,
          "s": 0.4583878291246485
         },
         {
          "i": 396,
          "k": 6,
          "s": 0.4399394890634637
         },
         {
          "i": 397,
          "k": 6,
          "s": 0.42466252238876045
         },
         {
          "i": 398,
          "k": 6,
          "s": 0.16164683425340087
         },
         {
          "i": 399,
          "k": 6,
          "s": 0.2605857000519046
         },
         {
          "i": 400,
          "k": 6,
          "s": 0.2953300950712847
         },
         {
          "i": 401,
          "k": 6,
          "s": 0.42184751393720055
         },
         {
          "i": 402,
          "k": 6,
          "s": 0.45116643140023294
         },
         {
          "i": 403,
          "k": 6,
          "s": 0.3349822695791732
         },
         {
          "i": 404,
          "k": 6,
          "s": 0.07431064787383845
         },
         {
          "i": 405,
          "k": 6,
          "s": 0.030770892585233023
         },
         {
          "i": 406,
          "k": 6,
          "s": 0.24356278605346793
         },
         {
          "i": 407,
          "k": 6,
          "s": 0.3451262129144862
         },
         {
          "i": 408,
          "k": 6,
          "s": 0.2864165792164074
         },
         {
          "i": 409,
          "k": 6,
          "s": 0.1075354194491549
         },
         {
          "i": 410,
          "k": 6,
          "s": 0.25250136085364716
         },
         {
          "i": 411,
          "k": 6,
          "s": 0.48676807008518275
         },
         {
          "i": 412,
          "k": 6,
          "s": 0.31602624468098095
         },
         {
          "i": 413,
          "k": 6,
          "s": 0.06542493369978697
         },
         {
          "i": 414,
          "k": 6,
          "s": 0.1964418547373794
         },
         {
          "i": 415,
          "k": 6,
          "s": 0.485108099300288
         },
         {
          "i": 416,
          "k": 6,
          "s": 0.5062509043287986
         },
         {
          "i": 417,
          "k": 6,
          "s": 0.2954098357424252
         },
         {
          "i": 418,
          "k": 6,
          "s": 0.17140215729851105
         },
         {
          "i": 419,
          "k": 6,
          "s": 0.4844731518267442
         },
         {
          "i": 420,
          "k": 6,
          "s": 0.3660907143393395
         },
         {
          "i": 421,
          "k": 6,
          "s": 0.3881147698434704
         },
         {
          "i": 422,
          "k": 6,
          "s": 0.29165781839280025
         },
         {
          "i": 423,
          "k": 6,
          "s": 0.5205913337158523
         },
         {
          "i": 424,
          "k": 6,
          "s": 0.4601884445130361
         },
         {
          "i": 425,
          "k": 6,
          "s": 0.5324474132464402
         },
         {
          "i": 426,
          "k": 6,
          "s": 0.44430876237506833
         },
         {
          "i": 427,
          "k": 6,
          "s": 0.35370761010521845
         },
         {
          "i": 428,
          "k": 6,
          "s": 0.43488107624259953
         },
         {
          "i": 429,
          "k": 6,
          "s": 0.5059035218127481
         },
         {
          "i": 430,
          "k": 6,
          "s": 0.4296788286152424
         },
         {
          "i": 431,
          "k": 6,
          "s": 0.4252556986655883
         },
         {
          "i": 432,
          "k": 6,
          "s": 0.31368728986078775
         },
         {
          "i": 433,
          "k": 6,
          "s": 0.38035121536499605
         },
         {
          "i": 434,
          "k": 6,
          "s": 0.40683183434198955
         },
         {
          "i": 435,
          "k": 6,
          "s": 0.4048440157609333
         },
         {
          "i": 436,
          "k": 6,
          "s": 0.5184565877325262
         },
         {
          "i": 437,
          "k": 6,
          "s": 0.5170974980505101
         },
         {
          "i": 438,
          "k": 6,
          "s": 0.38791464052336333
         },
         {
          "i": 439,
          "k": 6,
          "s": 0.4295058968893728
         },
         {
          "i": 440,
          "k": 6,
          "s": 0.3703603764619192
         },
         {
          "i": 441,
          "k": 6,
          "s": 0.4603474671389779
         },
         {
          "i": 442,
          "k": 6,
          "s": 0.433567487495358
         },
         {
          "i": 443,
          "k": 6,
          "s": 0.4564620246649179
         },
         {
          "i": 444,
          "k": 6,
          "s": 0.04351002414668237
         },
         {
          "i": 445,
          "k": 6,
          "s": 0.5155807602290661
         },
         {
          "i": 446,
          "k": 6,
          "s": 0.3706251585882522
         },
         {
          "i": 447,
          "k": 6,
          "s": 0.46188302882972376
         },
         {
          "i": 448,
          "k": 6,
          "s": 0.47396873679727525
         },
         {
          "i": 449,
          "k": 6,
          "s": 0.32233229468304747
         },
         {
          "i": 450,
          "k": 6,
          "s": 0.5004289470745605
         },
         {
          "i": 451,
          "k": 6,
          "s": 0.42110505657855046
         },
         {
          "i": 452,
          "k": 6,
          "s": 0.4499070921683289
         },
         {
          "i": 453,
          "k": 6,
          "s": 0.35496104818702345
         },
         {
          "i": 454,
          "k": 6,
          "s": 0.5167249459286068
         },
         {
          "i": 455,
          "k": 6,
          "s": 0.466482225200484
         },
         {
          "i": 456,
          "k": 6,
          "s": 0.4975364121725795
         },
         {
          "i": 457,
          "k": 6,
          "s": 0.5052498545295125
         },
         {
          "i": 458,
          "k": 6,
          "s": 0.24355339433744372
         },
         {
          "i": 459,
          "k": 6,
          "s": 0.44541562570040294
         },
         {
          "i": 460,
          "k": 6,
          "s": 0.17003390518159867
         },
         {
          "i": 461,
          "k": 6,
          "s": 0.42245709990651326
         },
         {
          "i": 462,
          "k": 6,
          "s": 0.440037728666097
         },
         {
          "i": 463,
          "k": 6,
          "s": 0.3928527158863845
         },
         {
          "i": 464,
          "k": 6,
          "s": 0.4165246062754624
         },
         {
          "i": 465,
          "k": 6,
          "s": 0.330339734661111
         },
         {
          "i": 466,
          "k": 6,
          "s": 0.44385852714597007
         },
         {
          "i": 467,
          "k": 6,
          "s": 0.3694394537757467
         },
         {
          "i": 468,
          "k": 6,
          "s": 0.3985718097055905
         },
         {
          "i": 469,
          "k": 6,
          "s": 0.3744711341158419
         },
         {
          "i": 470,
          "k": 6,
          "s": 0.4040566205020153
         },
         {
          "i": 471,
          "k": 6,
          "s": 0.3400424800352526
         },
         {
          "i": 472,
          "k": 6,
          "s": 0.3547365258985996
         },
         {
          "i": 473,
          "k": 6,
          "s": 0.27537015453221747
         },
         {
          "i": 474,
          "k": 6,
          "s": 0.39532563725847636
         },
         {
          "i": 475,
          "k": 6,
          "s": 0.2687712876976046
         },
         {
          "i": 476,
          "k": 6,
          "s": 0.4227737724235836
         },
         {
          "i": 477,
          "k": 6,
          "s": 0.33166488128607563
         },
         {
          "i": 478,
          "k": 6,
          "s": 0.46705675964280424
         },
         {
          "i": 479,
          "k": 6,
          "s": 0.4401702409211391
         },
         {
          "i": 480,
          "k": 6,
          "s": 0.2614170043456766
         },
         {
          "i": 481,
          "k": 6,
          "s": 0.22974820966479836
         },
         {
          "i": 482,
          "k": 6,
          "s": 0.1980623629764262
         },
         {
          "i": 483,
          "k": 6,
          "s": 0.14108939973402956
         },
         {
          "i": 484,
          "k": 6,
          "s": 0.23055811825613026
         },
         {
          "i": 485,
          "k": 6,
          "s": 0.23729132728021674
         },
         {
          "i": 486,
          "k": 6,
          "s": 0.39981026321117996
         },
         {
          "i": 487,
          "k": 6,
          "s": 0.29400148697768413
         },
         {
          "i": 488,
          "k": 6,
          "s": 0.0946828010634484
         },
         {
          "i": 489,
          "k": 6,
          "s": 0.08013589890546569
         },
         {
          "i": 490,
          "k": 6,
          "s": 0.06845272661875412
         },
         {
          "i": 491,
          "k": 6,
          "s": 0.09103394826192834
         },
         {
          "i": 492,
          "k": 6,
          "s": 0.08177059387980623
         },
         {
          "i": 493,
          "k": 6,
          "s": 0.37010472521110827
         },
         {
          "i": 494,
          "k": 6,
          "s": 0.3782242888756794
         },
         {
          "i": 495,
          "k": 6,
          "s": 0.34265251747595293
         },
         {
          "i": 496,
          "k": 6,
          "s": 0.21913893095141912
         },
         {
          "i": 497,
          "k": 6,
          "s": 0.34716468603516015
         },
         {
          "i": 498,
          "k": 6,
          "s": 0.3644489117239402
         },
         {
          "i": 499,
          "k": 6,
          "s": 0.28299214574823306
         },
         {
          "i": 500,
          "k": 6,
          "s": 0.30035027179963325
         },
         {
          "i": 501,
          "k": 6,
          "s": 0.341605663479549
         },
         {
          "i": 502,
          "k": 6,
          "s": 0.3180936085528646
         },
         {
          "i": 503,
          "k": 6,
          "s": 0.24414981161793858
         },
         {
          "i": 504,
          "k": 6,
          "s": 0.28130958594006594
         },
         {
          "i": 505,
          "k": 6,
          "s": 0.2753152449485974
         }
        ]
       },
       "encoding": {
        "color": {
         "field": "k",
         "type": "nominal"
        },
        "row": {
         "field": "k",
         "type": "nominal"
        },
        "x": {
         "field": "s",
         "type": "quantitative"
        },
        "y": {
         "axis": {
          "labels": false
         },
         "field": "i",
         "sort": "x",
         "type": "nominal"
        }
       },
       "height": 200,
       "mark": "bar",
       "resolve": {
        "scale": {
         "y": "independent"
        }
       }
      },
      "image/png": "[encoded data removed]",
      "text/plain": [
       "<VegaLite 4 object>\n",
       "\n",
       "If you see this message, it means the renderer has not been properly enabled\n",
       "for the frontend that you are using. For more information, see\n",
       "https://altair-viz.github.io/user_guide/troubleshooting.html\n"
      ]
     },
     "execution_count": 15,
     "metadata": {},
     "output_type": "execute_result"
    }
   ],
   "source": [
    "source = s_df.melt(id_vars=[\"i\"])\n",
    "source.columns = [\"i\",\"k\",\"s\"]\n",
    "\n",
    "import altair as alt\n",
    "alt.renderers.enable('mimetype')\n",
    "alt.Chart(source).mark_bar().encode(\n",
    "    x = \"s:Q\",\n",
    "    y = alt.Y(\"i:N\",sort='x',axis=alt.Axis(labels=False)),\n",
    "    row = \"k:N\",\n",
    "    color = \"k:N\"\n",
    ").resolve_scale(y='independent').properties(height=200)"
   ]
  },
  {
   "cell_type": "markdown",
   "metadata": {},
   "source": [
    "#### Problem 2: What are the average silhouttee scores for each value of $k$? Can you relate this average value to what you are seeing in the above plot? What kind of shape are we looking for?\n",
    "\n",
    "#### Your solution here"
   ]
  },
  {
   "cell_type": "markdown",
   "metadata": {},
   "source": [
    "## Hiearchical Clustering\n",
    "\n",
    "From here on out there are several problems and only one exercise."
   ]
  },
  {
   "cell_type": "markdown",
   "metadata": {},
   "source": [
    "**Problem 3:** That was kmeans clustering. What about hiearchical clustering? For this excercise, use the same ``X`` data and create a dendrogram using hiearchical clustering. <a href=\"https://scikit-learn.org/stable/auto_examples/cluster/plot_agglomerative_dendrogram.html\">Here is a link to a sample</a>. After you dig into this code, answer what kind of linkage method was used (answer with more than just the name)?"
   ]
  },
  {
   "cell_type": "code",
   "execution_count": 16,
   "metadata": {},
   "outputs": [
    {
     "data": {
      "image/png": "[encoded data removed]",
      "text/plain": [
       "<Figure size 432x288 with 1 Axes>"
      ]
     },
     "metadata": {
      "needs_background": "light"
     },
     "output_type": "display_data"
    }
   ],
   "source": [
    "from matplotlib import pyplot as plt\n",
    "from scipy.cluster.hierarchy import dendrogram\n",
    "from sklearn.cluster import AgglomerativeClustering\n",
    "\n",
    "\n",
    "def plot_dendrogram(model, **kwargs):\n",
    "    # Create linkage matrix and then plot the dendrogram\n",
    "\n",
    "    # create the counts of samples under each node\n",
    "    counts = np.zeros(model.children_.shape[0])\n",
    "    n_samples = len(model.labels_)\n",
    "    for i, merge in enumerate(model.children_):\n",
    "        current_count = 0\n",
    "        for child_idx in merge:\n",
    "            if child_idx < n_samples:\n",
    "                current_count += 1  # leaf node\n",
    "            else:\n",
    "                current_count += counts[child_idx - n_samples]\n",
    "        counts[i] = current_count\n",
    "\n",
    "    linkage_matrix = np.column_stack([model.children_, model.distances_,\n",
    "                                      counts]).astype(float)\n",
    "\n",
    "    # Plot the corresponding dendrogram\n",
    "    dendrogram(linkage_matrix, **kwargs)\n",
    "\n",
    "# setting distance_threshold=0 ensures we compute the full tree.\n",
    "model = AgglomerativeClustering(distance_threshold=0,n_clusters=None)\n",
    "\n",
    "model = model.fit(X)\n",
    "plt.title('Hierarchical Clustering Dendrogram')\n",
    "# plot the top three levels of the dendrogram\n",
    "plot_dendrogram(model, truncate_mode='level', p=2)\n",
    "plt.xlabel(\"Number of points in node (or index of point if no parenthesis).\")\n",
    "plt.show()\n",
    "\n",
    "# YOUR SOLUTION HERE"
   ]
  },
  {
   "cell_type": "markdown",
   "metadata": {},
   "source": [
    "**Problem 4** Now change the linkage method to single linkage, and compare the plots. Are they better or worse?"
   ]
  },
  {
   "cell_type": "code",
   "execution_count": 17,
   "metadata": {},
   "outputs": [
    {
     "data": {
      "image/png": "[encoded data removed]",
      "text/plain": [
       "<Figure size 432x288 with 1 Axes>"
      ]
     },
     "metadata": {
      "needs_background": "light"
     },
     "output_type": "display_data"
    },
    {
     "data": {
      "image/png": "[encoded data removed]",
      "text/plain": [
       "<Figure size 432x288 with 1 Axes>"
      ]
     },
     "metadata": {
      "needs_background": "light"
     },
     "output_type": "display_data"
    }
   ],
   "source": [
    "# YOUR SOLUTION HERE"
   ]
  },
  {
   "cell_type": "markdown",
   "metadata": {},
   "source": [
    "### Clustering a single column to produce buckets"
   ]
  },
  {
   "cell_type": "markdown",
   "metadata": {},
   "source": [
    "Now we are going to switch gears and cluster the ``MEDV`` column. First, we will create a density plot of ``MEDV``. Make sure you go back to the original dataframe ``df`` at this point."
   ]
  },
  {
   "cell_type": "code",
   "execution_count": 18,
   "metadata": {},
   "outputs": [
    {
     "data": {
      "image/png": "[encoded data removed]",
      "text/plain": [
       "<Figure size 432x288 with 1 Axes>"
      ]
     },
     "metadata": {
      "needs_background": "light"
     },
     "output_type": "display_data"
    }
   ],
   "source": [
    "ax = df[\"MEDV\"].plot.density();\n",
    "ax.set_xlabel('MEDV');"
   ]
  },
  {
   "cell_type": "markdown",
   "metadata": {},
   "source": [
    "**Exercise 6** To me it looks reasonable that there might be 3 clusters as we have the shoulder sticking out around 30 and the bump at around 50. Using kmeans and k=3, group each town in one of three clusters using the algorithm. "
   ]
  },
  {
   "cell_type": "code",
   "execution_count": 19,
   "metadata": {},
   "outputs": [
    {
     "data": {
      "text/html": [
       "<div>\n",
       "<style scoped>\n",
       "    .dataframe tbody tr th:only-of-type {\n",
       "        vertical-align: middle;\n",
       "    }\n",
       "\n",
       "    .dataframe tbody tr th {\n",
       "        vertical-align: top;\n",
       "    }\n",
       "\n",
       "    .dataframe thead th {\n",
       "        text-align: right;\n",
       "    }\n",
       "</style>\n",
       "<table border=\"1\" class=\"dataframe\">\n",
       "  <thead>\n",
       "    <tr style=\"text-align: right;\">\n",
       "      <th></th>\n",
       "      <th>CRIM</th>\n",
       "      <th>ZN</th>\n",
       "      <th>INDUS</th>\n",
       "      <th>CHAS</th>\n",
       "      <th>NOX</th>\n",
       "      <th>RM</th>\n",
       "      <th>AGE</th>\n",
       "      <th>DIS</th>\n",
       "      <th>RAD</th>\n",
       "      <th>TAX</th>\n",
       "      <th>PTRATIO</th>\n",
       "      <th>B</th>\n",
       "      <th>LSTAT</th>\n",
       "      <th>MEDV</th>\n",
       "      <th>y</th>\n",
       "    </tr>\n",
       "  </thead>\n",
       "  <tbody>\n",
       "    <tr>\n",
       "      <th>0</th>\n",
       "      <td>0.00632</td>\n",
       "      <td>18.0</td>\n",
       "      <td>2.31</td>\n",
       "      <td>0</td>\n",
       "      <td>0.538</td>\n",
       "      <td>6.575</td>\n",
       "      <td>65.2</td>\n",
       "      <td>4.0900</td>\n",
       "      <td>1</td>\n",
       "      <td>296.0</td>\n",
       "      <td>15.3</td>\n",
       "      <td>396.90</td>\n",
       "      <td>4.98</td>\n",
       "      <td>24.0</td>\n",
       "      <td>2</td>\n",
       "    </tr>\n",
       "    <tr>\n",
       "      <th>1</th>\n",
       "      <td>0.02731</td>\n",
       "      <td>0.0</td>\n",
       "      <td>7.07</td>\n",
       "      <td>0</td>\n",
       "      <td>0.469</td>\n",
       "      <td>6.421</td>\n",
       "      <td>78.9</td>\n",
       "      <td>4.9671</td>\n",
       "      <td>2</td>\n",
       "      <td>242.0</td>\n",
       "      <td>17.8</td>\n",
       "      <td>396.90</td>\n",
       "      <td>9.14</td>\n",
       "      <td>21.6</td>\n",
       "      <td>2</td>\n",
       "    </tr>\n",
       "    <tr>\n",
       "      <th>2</th>\n",
       "      <td>0.02729</td>\n",
       "      <td>0.0</td>\n",
       "      <td>7.07</td>\n",
       "      <td>0</td>\n",
       "      <td>0.469</td>\n",
       "      <td>7.185</td>\n",
       "      <td>61.1</td>\n",
       "      <td>4.9671</td>\n",
       "      <td>2</td>\n",
       "      <td>242.0</td>\n",
       "      <td>17.8</td>\n",
       "      <td>392.83</td>\n",
       "      <td>4.03</td>\n",
       "      <td>34.7</td>\n",
       "      <td>0</td>\n",
       "    </tr>\n",
       "    <tr>\n",
       "      <th>3</th>\n",
       "      <td>0.03237</td>\n",
       "      <td>0.0</td>\n",
       "      <td>2.18</td>\n",
       "      <td>0</td>\n",
       "      <td>0.458</td>\n",
       "      <td>6.998</td>\n",
       "      <td>45.8</td>\n",
       "      <td>6.0622</td>\n",
       "      <td>3</td>\n",
       "      <td>222.0</td>\n",
       "      <td>18.7</td>\n",
       "      <td>394.63</td>\n",
       "      <td>2.94</td>\n",
       "      <td>33.4</td>\n",
       "      <td>0</td>\n",
       "    </tr>\n",
       "    <tr>\n",
       "      <th>4</th>\n",
       "      <td>0.06905</td>\n",
       "      <td>0.0</td>\n",
       "      <td>2.18</td>\n",
       "      <td>0</td>\n",
       "      <td>0.458</td>\n",
       "      <td>7.147</td>\n",
       "      <td>54.2</td>\n",
       "      <td>6.0622</td>\n",
       "      <td>3</td>\n",
       "      <td>222.0</td>\n",
       "      <td>18.7</td>\n",
       "      <td>396.90</td>\n",
       "      <td>5.33</td>\n",
       "      <td>36.2</td>\n",
       "      <td>0</td>\n",
       "    </tr>\n",
       "    <tr>\n",
       "      <th>...</th>\n",
       "      <td>...</td>\n",
       "      <td>...</td>\n",
       "      <td>...</td>\n",
       "      <td>...</td>\n",
       "      <td>...</td>\n",
       "      <td>...</td>\n",
       "      <td>...</td>\n",
       "      <td>...</td>\n",
       "      <td>...</td>\n",
       "      <td>...</td>\n",
       "      <td>...</td>\n",
       "      <td>...</td>\n",
       "      <td>...</td>\n",
       "      <td>...</td>\n",
       "      <td>...</td>\n",
       "    </tr>\n",
       "    <tr>\n",
       "      <th>501</th>\n",
       "      <td>0.06263</td>\n",
       "      <td>0.0</td>\n",
       "      <td>11.93</td>\n",
       "      <td>0</td>\n",
       "      <td>0.573</td>\n",
       "      <td>6.593</td>\n",
       "      <td>69.1</td>\n",
       "      <td>2.4786</td>\n",
       "      <td>1</td>\n",
       "      <td>273.0</td>\n",
       "      <td>21.0</td>\n",
       "      <td>391.99</td>\n",
       "      <td>9.67</td>\n",
       "      <td>22.4</td>\n",
       "      <td>2</td>\n",
       "    </tr>\n",
       "    <tr>\n",
       "      <th>502</th>\n",
       "      <td>0.04527</td>\n",
       "      <td>0.0</td>\n",
       "      <td>11.93</td>\n",
       "      <td>0</td>\n",
       "      <td>0.573</td>\n",
       "      <td>6.120</td>\n",
       "      <td>76.7</td>\n",
       "      <td>2.2875</td>\n",
       "      <td>1</td>\n",
       "      <td>273.0</td>\n",
       "      <td>21.0</td>\n",
       "      <td>396.90</td>\n",
       "      <td>9.08</td>\n",
       "      <td>20.6</td>\n",
       "      <td>2</td>\n",
       "    </tr>\n",
       "    <tr>\n",
       "      <th>503</th>\n",
       "      <td>0.06076</td>\n",
       "      <td>0.0</td>\n",
       "      <td>11.93</td>\n",
       "      <td>0</td>\n",
       "      <td>0.573</td>\n",
       "      <td>6.976</td>\n",
       "      <td>91.0</td>\n",
       "      <td>2.1675</td>\n",
       "      <td>1</td>\n",
       "      <td>273.0</td>\n",
       "      <td>21.0</td>\n",
       "      <td>396.90</td>\n",
       "      <td>5.64</td>\n",
       "      <td>23.9</td>\n",
       "      <td>2</td>\n",
       "    </tr>\n",
       "    <tr>\n",
       "      <th>504</th>\n",
       "      <td>0.10959</td>\n",
       "      <td>0.0</td>\n",
       "      <td>11.93</td>\n",
       "      <td>0</td>\n",
       "      <td>0.573</td>\n",
       "      <td>6.794</td>\n",
       "      <td>89.3</td>\n",
       "      <td>2.3889</td>\n",
       "      <td>1</td>\n",
       "      <td>273.0</td>\n",
       "      <td>21.0</td>\n",
       "      <td>393.45</td>\n",
       "      <td>6.48</td>\n",
       "      <td>22.0</td>\n",
       "      <td>2</td>\n",
       "    </tr>\n",
       "    <tr>\n",
       "      <th>505</th>\n",
       "      <td>0.04741</td>\n",
       "      <td>0.0</td>\n",
       "      <td>11.93</td>\n",
       "      <td>0</td>\n",
       "      <td>0.573</td>\n",
       "      <td>6.030</td>\n",
       "      <td>80.8</td>\n",
       "      <td>2.5050</td>\n",
       "      <td>1</td>\n",
       "      <td>273.0</td>\n",
       "      <td>21.0</td>\n",
       "      <td>396.90</td>\n",
       "      <td>7.88</td>\n",
       "      <td>11.9</td>\n",
       "      <td>1</td>\n",
       "    </tr>\n",
       "  </tbody>\n",
       "</table>\n",
       "<p>506 rows × 15 columns</p>\n",
       "</div>"
      ],
      "text/plain": [
       "        CRIM    ZN  INDUS  CHAS    NOX     RM   AGE     DIS  RAD    TAX  \\\n",
       "0    0.00632  18.0   2.31     0  0.538  6.575  65.2  4.0900    1  296.0   \n",
       "1    0.02731   0.0   7.07     0  0.469  6.421  78.9  4.9671    2  242.0   \n",
       "2    0.02729   0.0   7.07     0  0.469  7.185  61.1  4.9671    2  242.0   \n",
       "3    0.03237   0.0   2.18     0  0.458  6.998  45.8  6.0622    3  222.0   \n",
       "4    0.06905   0.0   2.18     0  0.458  7.147  54.2  6.0622    3  222.0   \n",
       "..       ...   ...    ...   ...    ...    ...   ...     ...  ...    ...   \n",
       "501  0.06263   0.0  11.93     0  0.573  6.593  69.1  2.4786    1  273.0   \n",
       "502  0.04527   0.0  11.93     0  0.573  6.120  76.7  2.2875    1  273.0   \n",
       "503  0.06076   0.0  11.93     0  0.573  6.976  91.0  2.1675    1  273.0   \n",
       "504  0.10959   0.0  11.93     0  0.573  6.794  89.3  2.3889    1  273.0   \n",
       "505  0.04741   0.0  11.93     0  0.573  6.030  80.8  2.5050    1  273.0   \n",
       "\n",
       "     PTRATIO       B  LSTAT  MEDV  y  \n",
       "0       15.3  396.90   4.98  24.0  2  \n",
       "1       17.8  396.90   9.14  21.6  2  \n",
       "2       17.8  392.83   4.03  34.7  0  \n",
       "3       18.7  394.63   2.94  33.4  0  \n",
       "4       18.7  396.90   5.33  36.2  0  \n",
       "..       ...     ...    ...   ... ..  \n",
       "501     21.0  391.99   9.67  22.4  2  \n",
       "502     21.0  396.90   9.08  20.6  2  \n",
       "503     21.0  396.90   5.64  23.9  2  \n",
       "504     21.0  393.45   6.48  22.0  2  \n",
       "505     21.0  396.90   7.88  11.9  1  \n",
       "\n",
       "[506 rows x 15 columns]"
      ]
     },
     "metadata": {},
     "output_type": "display_data"
    },
    {
     "data": {
      "text/plain": [
       "y\n",
       "0    39.906757\n",
       "1    13.463333\n",
       "2    22.797872\n",
       "Name: MEDV, dtype: float64"
      ]
     },
     "execution_count": 19,
     "metadata": {},
     "output_type": "execute_result"
    }
   ],
   "source": [
    "clusterer = Lab6_helper.bin_x(df[[\"MEDV\"]])\n",
    "labels = clusterer.predict(df[[\"MEDV\"]])\n",
    "df[\"y\"] = labels\n",
    "display(df)\n",
    "df.groupby(\"y\").MEDV.mean()"
   ]
  },
  {
   "cell_type": "code",
   "execution_count": 20,
   "metadata": {},
   "outputs": [],
   "source": [
    "# Good job!\n",
    "# Don't forget to push with ./submit.sh"
   ]
  },
  {
   "cell_type": "markdown",
   "metadata": {},
   "source": [
    "#### Having trouble with the test cases and the autograder?\n",
    "\n",
    "You can always load up the answers for the autograder. The autograder runs your code and compares your answer to the expected answer. I manually review your code, so there is no need to hide this from you.\n",
    "\n",
    "```python\n",
    "import joblib\n",
    "answers = joblib.load(f\"{home}/csc-466-student/tests/answers_Lab6.joblib\")\n",
    "answers.keys()\n",
    "```"
   ]
  },
  {
   "cell_type": "code",
   "execution_count": null,
   "metadata": {},
   "outputs": [],
   "source": []
  }
 ],
 "metadata": {
  "kernelspec": {
   "display_name": "Python 3",
   "language": "python",
   "name": "python3"
  },
  "language_info": {
   "codemirror_mode": {
    "name": "ipython",
    "version": 3
   },
   "file_extension": ".py",
   "mimetype": "text/x-python",
   "name": "python",
   "nbconvert_exporter": "python",
   "pygments_lexer": "ipython3",
   "version": "3.7.3"
  }
 },
 "nbformat": 4,
 "nbformat_minor": 4
}
