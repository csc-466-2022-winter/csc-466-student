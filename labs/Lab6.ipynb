{
 "cells": [
  {
   "cell_type": "markdown",
   "metadata": {},
   "source": [
    "# Lab 6\n",
    "\n",
    "## Choosing among parameters when clustering\n",
    "\n",
    "### At the end of this lab, I should be able to\n",
    "* Formulate your own clustering questions and understand how you can go about getting answers\n",
    "* Understand how to select a clustering algorithm for your task\n",
    "\n",
    "**Note:** Exercises can be autograded and count towards your lab and assignment score. Problems are graded for participation."
   ]
  },
  {
   "cell_type": "code",
   "execution_count": 1,
   "metadata": {},
   "outputs": [],
   "source": [
    "from pathlib import Path\n",
    "home = str(Path.home()) # all other paths are relative to this path. change to something else if this is not the case on your system\n",
    "REPO = f\"{home}/csc-466-student\"\n",
    "LAB = \"Lab6\""
   ]
  },
  {
   "cell_type": "code",
   "execution_count": 7,
   "metadata": {},
   "outputs": [
    {
     "name": "stdout",
     "output_type": "stream",
     "text": [
      "The autoreload extension is already loaded. To reload it, use:\n",
      "  %reload_ext autoreload\n"
     ]
    }
   ],
   "source": [
    "#### NO NEED TO EDIT ####\n",
    "%load_ext autoreload\n",
    "%autoreload 2\n",
    "\n",
    "from importlib import import_module\n",
    "helper = import_module(f'{LAB}_helper')\n",
    "#### NO NEED TO EDIT ####"
   ]
  },
  {
   "cell_type": "code",
   "execution_count": 24,
   "metadata": {},
   "outputs": [],
   "source": [
    "import numpy as np"
   ]
  },
  {
   "cell_type": "markdown",
   "metadata": {},
   "source": [
    "## Our data\n",
    "We will be using a well known housing dataset from Boston.\n",
    "<pre>\n",
    "The Boston house-price data of Harrison, D. and Rubinfeld, D.L. 'Hedonic\n",
    " prices and the demand for clean air', J. Environ. Economics & Management,\n",
    " vol.5, 81-102, 1978.   Used in Belsley, Kuh & Welsch, 'Regression diagnostics\n",
    " ...', Wiley, 1980.   N.B. Various transformations are used in the table on\n",
    " pages 244-261 of the latter.\n",
    "\n",
    " Variables in order:\n",
    " CRIM     per capita crime rate by town\n",
    " ZN       proportion of residential land zoned for lots over 25,000 sq.ft.\n",
    " INDUS    proportion of non-retail business acres per town\n",
    " CHAS     Charles River dummy variable (= 1 if tract bounds river; 0 otherwise)\n",
    " NOX      nitric oxides concentration (parts per 10 million)\n",
    " RM       average number of rooms per dwelling\n",
    " AGE      proportion of owner-occupied units built prior to 1940\n",
    " DIS      weighted distances to five Boston employment centres\n",
    " RAD      index of accessibility to radial highways\n",
    " TAX      full-value property-tax rate per $10,000\n",
    " PTRATIO  pupil-teacher ratio by town\n",
    " B        1000(Bk - 0.63)^2 where Bk is the proportion of blacks by town\n",
    " LSTAT    % lower status of the population\n",
    " MEDV     Median value of owner-occupied homes in $1000's\n",
    "</pre>"
   ]
  },
  {
   "cell_type": "code",
   "execution_count": 9,
   "metadata": {},
   "outputs": [
    {
     "data": {
      "text/html": [
       "<div>\n",
       "<style scoped>\n",
       "    .dataframe tbody tr th:only-of-type {\n",
       "        vertical-align: middle;\n",
       "    }\n",
       "\n",
       "    .dataframe tbody tr th {\n",
       "        vertical-align: top;\n",
       "    }\n",
       "\n",
       "    .dataframe thead th {\n",
       "        text-align: right;\n",
       "    }\n",
       "</style>\n",
       "<table border=\"1\" class=\"dataframe\">\n",
       "  <thead>\n",
       "    <tr style=\"text-align: right;\">\n",
       "      <th></th>\n",
       "      <th>CRIM</th>\n",
       "      <th>ZN</th>\n",
       "      <th>INDUS</th>\n",
       "      <th>CHAS</th>\n",
       "      <th>NOX</th>\n",
       "      <th>RM</th>\n",
       "      <th>AGE</th>\n",
       "      <th>DIS</th>\n",
       "      <th>RAD</th>\n",
       "      <th>TAX</th>\n",
       "      <th>PTRATIO</th>\n",
       "      <th>B</th>\n",
       "      <th>LSTAT</th>\n",
       "      <th>MEDV</th>\n",
       "    </tr>\n",
       "  </thead>\n",
       "  <tbody>\n",
       "    <tr>\n",
       "      <th>0</th>\n",
       "      <td>0.00632</td>\n",
       "      <td>18.0</td>\n",
       "      <td>2.31</td>\n",
       "      <td>0</td>\n",
       "      <td>0.538</td>\n",
       "      <td>6.575</td>\n",
       "      <td>65.2</td>\n",
       "      <td>4.0900</td>\n",
       "      <td>1</td>\n",
       "      <td>296.0</td>\n",
       "      <td>15.3</td>\n",
       "      <td>396.90</td>\n",
       "      <td>4.98</td>\n",
       "      <td>24.0</td>\n",
       "    </tr>\n",
       "    <tr>\n",
       "      <th>1</th>\n",
       "      <td>0.02731</td>\n",
       "      <td>0.0</td>\n",
       "      <td>7.07</td>\n",
       "      <td>0</td>\n",
       "      <td>0.469</td>\n",
       "      <td>6.421</td>\n",
       "      <td>78.9</td>\n",
       "      <td>4.9671</td>\n",
       "      <td>2</td>\n",
       "      <td>242.0</td>\n",
       "      <td>17.8</td>\n",
       "      <td>396.90</td>\n",
       "      <td>9.14</td>\n",
       "      <td>21.6</td>\n",
       "    </tr>\n",
       "    <tr>\n",
       "      <th>2</th>\n",
       "      <td>0.02729</td>\n",
       "      <td>0.0</td>\n",
       "      <td>7.07</td>\n",
       "      <td>0</td>\n",
       "      <td>0.469</td>\n",
       "      <td>7.185</td>\n",
       "      <td>61.1</td>\n",
       "      <td>4.9671</td>\n",
       "      <td>2</td>\n",
       "      <td>242.0</td>\n",
       "      <td>17.8</td>\n",
       "      <td>392.83</td>\n",
       "      <td>4.03</td>\n",
       "      <td>34.7</td>\n",
       "    </tr>\n",
       "    <tr>\n",
       "      <th>3</th>\n",
       "      <td>0.03237</td>\n",
       "      <td>0.0</td>\n",
       "      <td>2.18</td>\n",
       "      <td>0</td>\n",
       "      <td>0.458</td>\n",
       "      <td>6.998</td>\n",
       "      <td>45.8</td>\n",
       "      <td>6.0622</td>\n",
       "      <td>3</td>\n",
       "      <td>222.0</td>\n",
       "      <td>18.7</td>\n",
       "      <td>394.63</td>\n",
       "      <td>2.94</td>\n",
       "      <td>33.4</td>\n",
       "    </tr>\n",
       "    <tr>\n",
       "      <th>4</th>\n",
       "      <td>0.06905</td>\n",
       "      <td>0.0</td>\n",
       "      <td>2.18</td>\n",
       "      <td>0</td>\n",
       "      <td>0.458</td>\n",
       "      <td>7.147</td>\n",
       "      <td>54.2</td>\n",
       "      <td>6.0622</td>\n",
       "      <td>3</td>\n",
       "      <td>222.0</td>\n",
       "      <td>18.7</td>\n",
       "      <td>396.90</td>\n",
       "      <td>5.33</td>\n",
       "      <td>36.2</td>\n",
       "    </tr>\n",
       "  </tbody>\n",
       "</table>\n",
       "</div>"
      ],
      "text/plain": [
       "      CRIM    ZN  INDUS  CHAS    NOX     RM   AGE     DIS  RAD    TAX  \\\n",
       "0  0.00632  18.0   2.31     0  0.538  6.575  65.2  4.0900    1  296.0   \n",
       "1  0.02731   0.0   7.07     0  0.469  6.421  78.9  4.9671    2  242.0   \n",
       "2  0.02729   0.0   7.07     0  0.469  7.185  61.1  4.9671    2  242.0   \n",
       "3  0.03237   0.0   2.18     0  0.458  6.998  45.8  6.0622    3  222.0   \n",
       "4  0.06905   0.0   2.18     0  0.458  7.147  54.2  6.0622    3  222.0   \n",
       "\n",
       "   PTRATIO       B  LSTAT  MEDV  \n",
       "0     15.3  396.90   4.98  24.0  \n",
       "1     17.8  396.90   9.14  21.6  \n",
       "2     17.8  392.83   4.03  34.7  \n",
       "3     18.7  394.63   2.94  33.4  \n",
       "4     18.7  396.90   5.33  36.2  "
      ]
     },
     "execution_count": 9,
     "metadata": {},
     "output_type": "execute_result"
    }
   ],
   "source": [
    "import pandas as pd\n",
    "df = pd.read_csv(f\"{REPO}/data/housing/boston_fixed.csv\")\n",
    "df.head()"
   ]
  },
  {
   "cell_type": "markdown",
   "metadata": {},
   "source": [
    "**Problem 1.** Read the descriptions of the features above, and come up with 2-3 reasonable questions with corresponding methods to test them. The only one that you cannot write, is the one I write below:\n",
    "\n",
    "Example questions: \n",
    "* Are there any definitive subgroupings (i.e., clusters) of towns in the dataset? \n",
    "* How many (if any) groups/clusters are there in the dataset?\n",
    "* Are there any clusters of median value of owner-occupied homes? And if so, can we use the rest of the data to predict these clusters? \n",
    "\n",
    "Methodology:\n",
    "1. Empirically determine the best clustering method from our known list of kmeans and hiearchical clustering.\n",
    "2. Using this best clustering model, visualize the data using PCA\n",
    "3. Apply clustering algorithms to MEDV and then use random forest to predict these clusters presenting the evaluation."
   ]
  },
  {
   "cell_type": "markdown",
   "metadata": {},
   "source": [
    "**YOUR SOLUTION HERE**"
   ]
  },
  {
   "cell_type": "markdown",
   "metadata": {},
   "source": [
    "Overall question: Are there any clusters of towns? \n",
    "\n",
    "Use the following methodology:\n",
    "\n",
    "1. Empirically determine the best clustering method from our known list kmeans and hiearchical clustering\n",
    "2. Using this best clustering, visualize the data using PCA"
   ]
  },
  {
   "cell_type": "markdown",
   "metadata": {},
   "source": [
    "**Exercise 1** A lot of methods depend on the scaling of data, so we need to decide on a scaling method. We will use the autoscaling method described in sklearn as:\n",
    "\"The standard score of a sample x is calculated as:\n",
    "\n",
    "z = (x - u) / s\n",
    "\n",
    "where u is the mean of the training samples or zero if with_mean=False, and s is the standard deviation of the training samples or one if with_std=False.\" - <a href=\"https://scikit-learn.org/stable/modules/generated/sklearn.preprocessing.StandardScaler.html\">Source</a>\n",
    "\n",
    "For this exercise, scale ``df`` using the StandardScaler in sklearn. For consistency with later code, call this new scaled dataframe ``X``."
   ]
  },
  {
   "cell_type": "code",
   "execution_count": 14,
   "metadata": {},
   "outputs": [
    {
     "data": {
      "text/html": [
       "<div>\n",
       "<style scoped>\n",
       "    .dataframe tbody tr th:only-of-type {\n",
       "        vertical-align: middle;\n",
       "    }\n",
       "\n",
       "    .dataframe tbody tr th {\n",
       "        vertical-align: top;\n",
       "    }\n",
       "\n",
       "    .dataframe thead th {\n",
       "        text-align: right;\n",
       "    }\n",
       "</style>\n",
       "<table border=\"1\" class=\"dataframe\">\n",
       "  <thead>\n",
       "    <tr style=\"text-align: right;\">\n",
       "      <th></th>\n",
       "      <th>CRIM</th>\n",
       "      <th>ZN</th>\n",
       "      <th>INDUS</th>\n",
       "      <th>CHAS</th>\n",
       "      <th>NOX</th>\n",
       "      <th>RM</th>\n",
       "      <th>AGE</th>\n",
       "      <th>DIS</th>\n",
       "      <th>RAD</th>\n",
       "      <th>TAX</th>\n",
       "      <th>PTRATIO</th>\n",
       "      <th>B</th>\n",
       "      <th>LSTAT</th>\n",
       "      <th>MEDV</th>\n",
       "    </tr>\n",
       "  </thead>\n",
       "  <tbody>\n",
       "    <tr>\n",
       "      <th>0</th>\n",
       "      <td>5.000000</td>\n",
       "      <td>0.284830</td>\n",
       "      <td>-1.287909</td>\n",
       "      <td>-0.272599</td>\n",
       "      <td>-0.144217</td>\n",
       "      <td>0.413672</td>\n",
       "      <td>-0.120013</td>\n",
       "      <td>0.140214</td>\n",
       "      <td>-0.982843</td>\n",
       "      <td>-0.666608</td>\n",
       "      <td>-1.459000</td>\n",
       "      <td>0.441052</td>\n",
       "      <td>-1.075562</td>\n",
       "      <td>0.159686</td>\n",
       "    </tr>\n",
       "    <tr>\n",
       "      <th>1</th>\n",
       "      <td>-0.417339</td>\n",
       "      <td>-0.487722</td>\n",
       "      <td>-0.593381</td>\n",
       "      <td>-0.272599</td>\n",
       "      <td>-0.740262</td>\n",
       "      <td>0.194274</td>\n",
       "      <td>0.367166</td>\n",
       "      <td>0.557160</td>\n",
       "      <td>-0.867883</td>\n",
       "      <td>-0.987329</td>\n",
       "      <td>-0.303094</td>\n",
       "      <td>0.441052</td>\n",
       "      <td>-0.492439</td>\n",
       "      <td>-0.101524</td>\n",
       "    </tr>\n",
       "    <tr>\n",
       "      <th>2</th>\n",
       "      <td>-0.417342</td>\n",
       "      <td>-0.487722</td>\n",
       "      <td>-0.593381</td>\n",
       "      <td>-0.272599</td>\n",
       "      <td>-0.740262</td>\n",
       "      <td>1.282714</td>\n",
       "      <td>-0.265812</td>\n",
       "      <td>0.557160</td>\n",
       "      <td>-0.867883</td>\n",
       "      <td>-0.987329</td>\n",
       "      <td>-0.303094</td>\n",
       "      <td>0.396427</td>\n",
       "      <td>-1.208727</td>\n",
       "      <td>1.324247</td>\n",
       "    </tr>\n",
       "    <tr>\n",
       "      <th>3</th>\n",
       "      <td>-0.416750</td>\n",
       "      <td>-0.487722</td>\n",
       "      <td>-1.306878</td>\n",
       "      <td>-0.272599</td>\n",
       "      <td>-0.835284</td>\n",
       "      <td>1.016303</td>\n",
       "      <td>-0.809889</td>\n",
       "      <td>1.077737</td>\n",
       "      <td>-0.752922</td>\n",
       "      <td>-1.106115</td>\n",
       "      <td>0.113032</td>\n",
       "      <td>0.416163</td>\n",
       "      <td>-1.361517</td>\n",
       "      <td>1.182758</td>\n",
       "    </tr>\n",
       "    <tr>\n",
       "      <th>4</th>\n",
       "      <td>-0.412482</td>\n",
       "      <td>-0.487722</td>\n",
       "      <td>-1.306878</td>\n",
       "      <td>-0.272599</td>\n",
       "      <td>-0.835284</td>\n",
       "      <td>1.228577</td>\n",
       "      <td>-0.511180</td>\n",
       "      <td>1.077737</td>\n",
       "      <td>-0.752922</td>\n",
       "      <td>-1.106115</td>\n",
       "      <td>0.113032</td>\n",
       "      <td>0.441052</td>\n",
       "      <td>-1.026501</td>\n",
       "      <td>1.487503</td>\n",
       "    </tr>\n",
       "    <tr>\n",
       "      <th>...</th>\n",
       "      <td>...</td>\n",
       "      <td>...</td>\n",
       "      <td>...</td>\n",
       "      <td>...</td>\n",
       "      <td>...</td>\n",
       "      <td>...</td>\n",
       "      <td>...</td>\n",
       "      <td>...</td>\n",
       "      <td>...</td>\n",
       "      <td>...</td>\n",
       "      <td>...</td>\n",
       "      <td>...</td>\n",
       "      <td>...</td>\n",
       "      <td>...</td>\n",
       "    </tr>\n",
       "    <tr>\n",
       "      <th>501</th>\n",
       "      <td>-0.413229</td>\n",
       "      <td>-0.487722</td>\n",
       "      <td>0.115738</td>\n",
       "      <td>-0.272599</td>\n",
       "      <td>0.158124</td>\n",
       "      <td>0.439316</td>\n",
       "      <td>0.018673</td>\n",
       "      <td>-0.625796</td>\n",
       "      <td>-0.982843</td>\n",
       "      <td>-0.803212</td>\n",
       "      <td>1.176466</td>\n",
       "      <td>0.387217</td>\n",
       "      <td>-0.418147</td>\n",
       "      <td>-0.014454</td>\n",
       "    </tr>\n",
       "    <tr>\n",
       "      <th>502</th>\n",
       "      <td>-0.415249</td>\n",
       "      <td>-0.487722</td>\n",
       "      <td>0.115738</td>\n",
       "      <td>-0.272599</td>\n",
       "      <td>0.158124</td>\n",
       "      <td>-0.234548</td>\n",
       "      <td>0.288933</td>\n",
       "      <td>-0.716639</td>\n",
       "      <td>-0.982843</td>\n",
       "      <td>-0.803212</td>\n",
       "      <td>1.176466</td>\n",
       "      <td>0.441052</td>\n",
       "      <td>-0.500850</td>\n",
       "      <td>-0.210362</td>\n",
       "    </tr>\n",
       "    <tr>\n",
       "      <th>503</th>\n",
       "      <td>-0.413447</td>\n",
       "      <td>-0.487722</td>\n",
       "      <td>0.115738</td>\n",
       "      <td>-0.272599</td>\n",
       "      <td>0.158124</td>\n",
       "      <td>0.984960</td>\n",
       "      <td>0.797449</td>\n",
       "      <td>-0.773684</td>\n",
       "      <td>-0.982843</td>\n",
       "      <td>-0.803212</td>\n",
       "      <td>1.176466</td>\n",
       "      <td>0.441052</td>\n",
       "      <td>-0.983048</td>\n",
       "      <td>0.148802</td>\n",
       "    </tr>\n",
       "    <tr>\n",
       "      <th>504</th>\n",
       "      <td>-0.407764</td>\n",
       "      <td>-0.487722</td>\n",
       "      <td>0.115738</td>\n",
       "      <td>-0.272599</td>\n",
       "      <td>0.158124</td>\n",
       "      <td>0.725672</td>\n",
       "      <td>0.736996</td>\n",
       "      <td>-0.668437</td>\n",
       "      <td>-0.982843</td>\n",
       "      <td>-0.803212</td>\n",
       "      <td>1.176466</td>\n",
       "      <td>0.403225</td>\n",
       "      <td>-0.865302</td>\n",
       "      <td>-0.057989</td>\n",
       "    </tr>\n",
       "    <tr>\n",
       "      <th>505</th>\n",
       "      <td>-0.415000</td>\n",
       "      <td>-0.487722</td>\n",
       "      <td>0.115738</td>\n",
       "      <td>-0.272599</td>\n",
       "      <td>0.158124</td>\n",
       "      <td>-0.362767</td>\n",
       "      <td>0.434732</td>\n",
       "      <td>-0.613246</td>\n",
       "      <td>-0.982843</td>\n",
       "      <td>-0.803212</td>\n",
       "      <td>1.176466</td>\n",
       "      <td>0.441052</td>\n",
       "      <td>-0.669058</td>\n",
       "      <td>-1.157248</td>\n",
       "    </tr>\n",
       "  </tbody>\n",
       "</table>\n",
       "<p>506 rows × 14 columns</p>\n",
       "</div>"
      ],
      "text/plain": [
       "         CRIM        ZN     INDUS      CHAS       NOX        RM       AGE  \\\n",
       "0    5.000000  0.284830 -1.287909 -0.272599 -0.144217  0.413672 -0.120013   \n",
       "1   -0.417339 -0.487722 -0.593381 -0.272599 -0.740262  0.194274  0.367166   \n",
       "2   -0.417342 -0.487722 -0.593381 -0.272599 -0.740262  1.282714 -0.265812   \n",
       "3   -0.416750 -0.487722 -1.306878 -0.272599 -0.835284  1.016303 -0.809889   \n",
       "4   -0.412482 -0.487722 -1.306878 -0.272599 -0.835284  1.228577 -0.511180   \n",
       "..        ...       ...       ...       ...       ...       ...       ...   \n",
       "501 -0.413229 -0.487722  0.115738 -0.272599  0.158124  0.439316  0.018673   \n",
       "502 -0.415249 -0.487722  0.115738 -0.272599  0.158124 -0.234548  0.288933   \n",
       "503 -0.413447 -0.487722  0.115738 -0.272599  0.158124  0.984960  0.797449   \n",
       "504 -0.407764 -0.487722  0.115738 -0.272599  0.158124  0.725672  0.736996   \n",
       "505 -0.415000 -0.487722  0.115738 -0.272599  0.158124 -0.362767  0.434732   \n",
       "\n",
       "          DIS       RAD       TAX   PTRATIO         B     LSTAT      MEDV  \n",
       "0    0.140214 -0.982843 -0.666608 -1.459000  0.441052 -1.075562  0.159686  \n",
       "1    0.557160 -0.867883 -0.987329 -0.303094  0.441052 -0.492439 -0.101524  \n",
       "2    0.557160 -0.867883 -0.987329 -0.303094  0.396427 -1.208727  1.324247  \n",
       "3    1.077737 -0.752922 -1.106115  0.113032  0.416163 -1.361517  1.182758  \n",
       "4    1.077737 -0.752922 -1.106115  0.113032  0.441052 -1.026501  1.487503  \n",
       "..        ...       ...       ...       ...       ...       ...       ...  \n",
       "501 -0.625796 -0.982843 -0.803212  1.176466  0.387217 -0.418147 -0.014454  \n",
       "502 -0.716639 -0.982843 -0.803212  1.176466  0.441052 -0.500850 -0.210362  \n",
       "503 -0.773684 -0.982843 -0.803212  1.176466  0.441052 -0.983048  0.148802  \n",
       "504 -0.668437 -0.982843 -0.803212  1.176466  0.403225 -0.865302 -0.057989  \n",
       "505 -0.613246 -0.982843 -0.803212  1.176466  0.441052 -0.669058 -1.157248  \n",
       "\n",
       "[506 rows x 14 columns]"
      ]
     },
     "execution_count": 14,
     "metadata": {},
     "output_type": "execute_result"
    }
   ],
   "source": [
    "X = helper.scale(df)\n",
    "X"
   ]
  },
  {
   "cell_type": "code",
   "execution_count": 16,
   "metadata": {},
   "outputs": [
    {
     "name": "stdout",
     "output_type": "stream",
     "text": [
      "\u001b[1m============================= test session starts ==============================\u001b[0m\n",
      "platform linux -- Python 3.7.3, pytest-6.2.1, py-1.10.0, pluggy-0.13.1 -- /opt/tljh/user/bin/python\n",
      "cachedir: .pytest_cache\n",
      "rootdir: /home/jupyter-pander14/csc-466-instructor\n",
      "plugins: clarity-1.0.1, anyio-3.3.2\n",
      "collected 1 item                                                               \u001b[0m\u001b[1m\n",
      "\n",
      "../tests/test_Lab6.py::test_exercise_1 \u001b[31mFAILED\u001b[0m\u001b[31m                            [100%]\u001b[0m\n",
      "\n",
      "=================================== FAILURES ===================================\n",
      "\u001b[31m\u001b[1m_______________________________ test_exercise_1 ________________________________\u001b[0m\n",
      "\n",
      "run_assert = True\n",
      "\n",
      "    \u001b[94mdef\u001b[39;49;00m \u001b[92mtest_exercise_1\u001b[39;49;00m(run_assert=\u001b[94mTrue\u001b[39;49;00m):\n",
      "        X = Lab6_helper.scale(df)\n",
      "        \u001b[94mif\u001b[39;49;00m run_assert == \u001b[94mFalse\u001b[39;49;00m:\n",
      "            \u001b[94mreturn\u001b[39;49;00m X\n",
      ">       \u001b[94massert\u001b[39;49;00m np.all(answers[\u001b[33m'\u001b[39;49;00m\u001b[33mexercise_1\u001b[39;49;00m\u001b[33m'\u001b[39;49;00m].values == X.values)\n",
      "\u001b[1m\u001b[31mE       assert False\u001b[0m\n",
      "\u001b[1m\u001b[31mE        +  where False = <function all at 0x7fc89734ef28>(== failed. [pytest-clarity diff shown]\u001b[0m\n",
      "\u001b[1m\u001b[31mE        +    where <function all at 0x7fc89734ef28> = np.all\u001b[0m\n",
      "\u001b[1m\u001b[31mE           \u001b[0m\u001b[0m\n",
      "\u001b[1m\u001b[31mE           \u001b[0m\u001b[32mLHS\u001b[0m vs \u001b[31mRHS\u001b[0m shown below\u001b[0m\n",
      "\u001b[1m\u001b[31mE           \u001b[0m\u001b[0m\n",
      "\u001b[1m\u001b[31mE           \u001b[0m\u001b[32m+ array([[-0.41978194,  0.28482986, -1.2879095 , ...,  0.44105193,\u001b[0m\u001b[0m\n",
      "\u001b[1m\u001b[31mE           \u001b[0m\u001b[32m?         ^^ ^^^^^^^^\u001b[0m\u001b[0m\n",
      "\u001b[1m\u001b[31mE           \u001b[0m\u001b[31m- array([[ 5.        ,  0.28482986, -1.2879095 , ...,  0.44105193,\u001b[0m\u001b[0m\n",
      "\u001b[1m\u001b[31mE           \u001b[0m\u001b[31m?         ^^ ^^^^^^^^\u001b[0m\u001b[0m\n",
      "\u001b[1m\u001b[31mE           \u001b[0m          -1.0755623 ,  0.15968566],\u001b[0m\n",
      "\u001b[1m\u001b[31mE           \u001b[0m         [-0.41733926, -0.48772236, -0.59338101, ...,  0.44105193,\u001b[0m\n",
      "\u001b[1m\u001b[31mE           \u001b[0m          -0.49243937, -0.10152429],\u001b[0m\n",
      "\u001b[1m\u001b[31mE           \u001b[0m         [-0.41734159, -0.48772236, -0.59338101, ...,  0.39642699,\u001b[0m\n",
      "\u001b[1m\u001b[31mE           \u001b[0m          -1.2087274 ,  1.32424667],\u001b[0m\n",
      "\u001b[1m\u001b[31mE           \u001b[0m         ...,\u001b[0m\n",
      "\u001b[1m\u001b[31mE           \u001b[0m         [-0.41344658, -0.48772236,  0.11573841, ...,  0.44105193,\u001b[0m\n",
      "\u001b[1m\u001b[31mE           \u001b[0m          -0.98304761,  0.14880191],\u001b[0m\n",
      "\u001b[1m\u001b[31mE           \u001b[0m         [-0.40776407, -0.48772236,  0.11573841, ...,  0.4032249 ,\u001b[0m\n",
      "\u001b[1m\u001b[31mE           \u001b[0m          -0.86530163, -0.0579893 ],\u001b[0m\n",
      "\u001b[1m\u001b[31mE           \u001b[0m         [-0.41500016, -0.48772236,  0.11573841, ...,  0.44105193,\u001b[0m\n",
      "\u001b[1m\u001b[31mE           \u001b[0m          -0.66905833, -1.15724782]])\u001b[0m\n",
      "\u001b[1m\u001b[31mE           \u001b[0m)\u001b[0m\n",
      "\n",
      "\u001b[1m\u001b[31m../tests/test_Lab6.py\u001b[0m:50: AssertionError\n",
      "=========================== short test summary info ============================\n",
      "FAILED ../tests/test_Lab6.py::test_exercise_1 - assert False\n",
      "\u001b[31m============================== \u001b[31m\u001b[1m1 failed\u001b[0m\u001b[31m in 0.77s\u001b[0m\u001b[31m ===============================\u001b[0m\n"
     ]
    }
   ],
   "source": [
    "!pytest -vv --diff-symbols {REPO}/tests/test_{LAB}.py::test_exercise_1"
   ]
  },
  {
   "cell_type": "markdown",
   "metadata": {},
   "source": [
    "**Exercise 2** We now need to take a look at our data, but it is too many dimensions! For this task we need to reduce the dimension. Reduce the dataset down to two dimensions using PCA. <a href=\"https://scikit-learn.org/stable/modules/generated/sklearn.decomposition.PCA.html\">Here is a link to the documentation.</a> Store the transformed data in a variable called ``X_pca``."
   ]
  },
  {
   "cell_type": "code",
   "execution_count": 17,
   "metadata": {},
   "outputs": [
    {
     "data": {
      "text/html": [
       "<div>\n",
       "<style scoped>\n",
       "    .dataframe tbody tr th:only-of-type {\n",
       "        vertical-align: middle;\n",
       "    }\n",
       "\n",
       "    .dataframe tbody tr th {\n",
       "        vertical-align: top;\n",
       "    }\n",
       "\n",
       "    .dataframe thead th {\n",
       "        text-align: right;\n",
       "    }\n",
       "</style>\n",
       "<table border=\"1\" class=\"dataframe\">\n",
       "  <thead>\n",
       "    <tr style=\"text-align: right;\">\n",
       "      <th></th>\n",
       "      <th>PC1 (0.47)</th>\n",
       "      <th>PC2 (0.12)</th>\n",
       "    </tr>\n",
       "  </thead>\n",
       "  <tbody>\n",
       "    <tr>\n",
       "      <th>0</th>\n",
       "      <td>-0.782809</td>\n",
       "      <td>0.145643</td>\n",
       "    </tr>\n",
       "    <tr>\n",
       "      <th>1</th>\n",
       "      <td>-1.375361</td>\n",
       "      <td>-0.172512</td>\n",
       "    </tr>\n",
       "    <tr>\n",
       "      <th>2</th>\n",
       "      <td>-2.379125</td>\n",
       "      <td>0.915650</td>\n",
       "    </tr>\n",
       "    <tr>\n",
       "      <th>3</th>\n",
       "      <td>-2.840805</td>\n",
       "      <td>0.197315</td>\n",
       "    </tr>\n",
       "    <tr>\n",
       "      <th>4</th>\n",
       "      <td>-2.775951</td>\n",
       "      <td>0.435817</td>\n",
       "    </tr>\n",
       "    <tr>\n",
       "      <th>...</th>\n",
       "      <td>...</td>\n",
       "      <td>...</td>\n",
       "    </tr>\n",
       "    <tr>\n",
       "      <th>501</th>\n",
       "      <td>-0.304873</td>\n",
       "      <td>0.141048</td>\n",
       "    </tr>\n",
       "    <tr>\n",
       "      <th>502</th>\n",
       "      <td>-0.045215</td>\n",
       "      <td>-0.118542</td>\n",
       "    </tr>\n",
       "    <tr>\n",
       "      <th>503</th>\n",
       "      <td>-0.369959</td>\n",
       "      <td>0.821617</td>\n",
       "    </tr>\n",
       "    <tr>\n",
       "      <th>504</th>\n",
       "      <td>-0.266091</td>\n",
       "      <td>0.538129</td>\n",
       "    </tr>\n",
       "    <tr>\n",
       "      <th>505</th>\n",
       "      <td>0.193671</td>\n",
       "      <td>-0.561748</td>\n",
       "    </tr>\n",
       "  </tbody>\n",
       "</table>\n",
       "<p>506 rows × 2 columns</p>\n",
       "</div>"
      ],
      "text/plain": [
       "     PC1 (0.47)  PC2 (0.12)\n",
       "0     -0.782809    0.145643\n",
       "1     -1.375361   -0.172512\n",
       "2     -2.379125    0.915650\n",
       "3     -2.840805    0.197315\n",
       "4     -2.775951    0.435817\n",
       "..          ...         ...\n",
       "501   -0.304873    0.141048\n",
       "502   -0.045215   -0.118542\n",
       "503   -0.369959    0.821617\n",
       "504   -0.266091    0.538129\n",
       "505    0.193671   -0.561748\n",
       "\n",
       "[506 rows x 2 columns]"
      ]
     },
     "metadata": {},
     "output_type": "display_data"
    },
    {
     "data": {
      "image/png": "[encoded data removed]",
      "text/plain": [
       "<Figure size 432x288 with 1 Axes>"
      ]
     },
     "metadata": {
      "needs_background": "light"
     },
     "output_type": "display_data"
    }
   ],
   "source": [
    "X_pca = helper.pca(X)\n",
    "display(X_pca)\n",
    "X_pca.plot.scatter(x=X_pca.columns[0],y=X_pca.columns[1]);"
   ]
  },
  {
   "cell_type": "code",
   "execution_count": 35,
   "metadata": {},
   "outputs": [
    {
     "name": "stdout",
     "output_type": "stream",
     "text": [
      "\u001b[1m============================= test session starts ==============================\u001b[0m\n",
      "platform linux -- Python 3.7.3, pytest-6.2.1, py-1.10.0, pluggy-0.13.1 -- /opt/tljh/user/bin/python\n",
      "cachedir: .pytest_cache\n",
      "rootdir: /home/jupyter-pander14/csc-466-instructor\n",
      "plugins: clarity-1.0.1, anyio-3.3.2\n",
      "collected 1 item                                                               \u001b[0m\u001b[1m\n",
      "\n",
      "../tests/test_Lab6.py::test_exercise_2 \u001b[32mPASSED\u001b[0m\u001b[32m                            [100%]\u001b[0m\n",
      "\n",
      "\u001b[32m============================== \u001b[32m\u001b[1m1 passed\u001b[0m\u001b[32m in 0.64s\u001b[0m\u001b[32m ===============================\u001b[0m\n"
     ]
    }
   ],
   "source": [
    "!pytest -vv --diff-symbols {REPO}/tests/test_{LAB}.py::test_exercise_2"
   ]
  },
  {
   "cell_type": "markdown",
   "metadata": {},
   "source": [
    "**Exercise 3** Our next major step is to apply kmeans to our data ``X`` (do NOT cluster on ``X_pca``) for several different values of ``k``. We'll compare these results later. The documentation for kmeans is <a href=\"https://scikit-learn.org/stable/modules/generated/sklearn.cluster.KMeans.html\">here</a>. Fill in the loop that constructs the kmeans models for each of the values of ``k`` specified below."
   ]
  },
  {
   "cell_type": "code",
   "execution_count": 36,
   "metadata": {},
   "outputs": [
    {
     "data": {
      "text/plain": [
       "{2: KMeans(n_clusters=2, random_state=10),\n",
       " 3: KMeans(n_clusters=3, random_state=10),\n",
       " 4: KMeans(n_clusters=4, random_state=10),\n",
       " 5: KMeans(n_clusters=5, random_state=10),\n",
       " 6: KMeans(n_clusters=6, random_state=10)}"
      ]
     },
     "execution_count": 36,
     "metadata": {},
     "output_type": "execute_result"
    }
   ],
   "source": [
    "kmeans_models = helper.kmeans(X,range_n_clusters = [2, 3, 4, 5, 6],random_state=10)\n",
    "kmeans_models"
   ]
  },
  {
   "cell_type": "code",
   "execution_count": 37,
   "metadata": {},
   "outputs": [
    {
     "name": "stdout",
     "output_type": "stream",
     "text": [
      "\u001b[1m============================= test session starts ==============================\u001b[0m\n",
      "platform linux -- Python 3.7.3, pytest-6.2.1, py-1.10.0, pluggy-0.13.1 -- /opt/tljh/user/bin/python\n",
      "cachedir: .pytest_cache\n",
      "rootdir: /home/jupyter-pander14/csc-466-instructor\n",
      "plugins: clarity-1.0.1, anyio-3.3.2\n",
      "collected 1 item                                                               \u001b[0m\u001b[1m\n",
      "\n",
      "../tests/test_Lab6.py::test_exercise_3 \u001b[32mPASSED\u001b[0m\u001b[32m                            [100%]\u001b[0m\n",
      "\n",
      "\u001b[32m============================== \u001b[32m\u001b[1m1 passed\u001b[0m\u001b[32m in 0.79s\u001b[0m\u001b[32m ===============================\u001b[0m\n"
     ]
    }
   ],
   "source": [
    "!pytest -vv --diff-symbols {REPO}/tests/test_{LAB}.py::test_exercise_3"
   ]
  },
  {
   "cell_type": "markdown",
   "metadata": {},
   "source": [
    "**Exercise 4** Now we need assign cluster labels to each sample in our dataset. Fill in the following to accomplish this:"
   ]
  },
  {
   "cell_type": "code",
   "execution_count": 19,
   "metadata": {},
   "outputs": [
    {
     "data": {
      "text/html": [
       "<div>\n",
       "<style scoped>\n",
       "    .dataframe tbody tr th:only-of-type {\n",
       "        vertical-align: middle;\n",
       "    }\n",
       "\n",
       "    .dataframe tbody tr th {\n",
       "        vertical-align: top;\n",
       "    }\n",
       "\n",
       "    .dataframe thead th {\n",
       "        text-align: right;\n",
       "    }\n",
       "</style>\n",
       "<table border=\"1\" class=\"dataframe\">\n",
       "  <thead>\n",
       "    <tr style=\"text-align: right;\">\n",
       "      <th></th>\n",
       "      <th>2</th>\n",
       "      <th>3</th>\n",
       "      <th>4</th>\n",
       "      <th>5</th>\n",
       "      <th>6</th>\n",
       "    </tr>\n",
       "  </thead>\n",
       "  <tbody>\n",
       "    <tr>\n",
       "      <th>0</th>\n",
       "      <td>1</td>\n",
       "      <td>1</td>\n",
       "      <td>1</td>\n",
       "      <td>1</td>\n",
       "      <td>3</td>\n",
       "    </tr>\n",
       "    <tr>\n",
       "      <th>1</th>\n",
       "      <td>1</td>\n",
       "      <td>0</td>\n",
       "      <td>3</td>\n",
       "      <td>1</td>\n",
       "      <td>0</td>\n",
       "    </tr>\n",
       "    <tr>\n",
       "      <th>2</th>\n",
       "      <td>1</td>\n",
       "      <td>1</td>\n",
       "      <td>1</td>\n",
       "      <td>1</td>\n",
       "      <td>3</td>\n",
       "    </tr>\n",
       "    <tr>\n",
       "      <th>3</th>\n",
       "      <td>1</td>\n",
       "      <td>1</td>\n",
       "      <td>0</td>\n",
       "      <td>1</td>\n",
       "      <td>0</td>\n",
       "    </tr>\n",
       "    <tr>\n",
       "      <th>4</th>\n",
       "      <td>1</td>\n",
       "      <td>1</td>\n",
       "      <td>1</td>\n",
       "      <td>1</td>\n",
       "      <td>3</td>\n",
       "    </tr>\n",
       "    <tr>\n",
       "      <th>...</th>\n",
       "      <td>...</td>\n",
       "      <td>...</td>\n",
       "      <td>...</td>\n",
       "      <td>...</td>\n",
       "      <td>...</td>\n",
       "    </tr>\n",
       "    <tr>\n",
       "      <th>501</th>\n",
       "      <td>1</td>\n",
       "      <td>0</td>\n",
       "      <td>3</td>\n",
       "      <td>1</td>\n",
       "      <td>2</td>\n",
       "    </tr>\n",
       "    <tr>\n",
       "      <th>502</th>\n",
       "      <td>1</td>\n",
       "      <td>0</td>\n",
       "      <td>3</td>\n",
       "      <td>1</td>\n",
       "      <td>2</td>\n",
       "    </tr>\n",
       "    <tr>\n",
       "      <th>503</th>\n",
       "      <td>1</td>\n",
       "      <td>0</td>\n",
       "      <td>3</td>\n",
       "      <td>1</td>\n",
       "      <td>2</td>\n",
       "    </tr>\n",
       "    <tr>\n",
       "      <th>504</th>\n",
       "      <td>1</td>\n",
       "      <td>0</td>\n",
       "      <td>3</td>\n",
       "      <td>1</td>\n",
       "      <td>2</td>\n",
       "    </tr>\n",
       "    <tr>\n",
       "      <th>505</th>\n",
       "      <td>1</td>\n",
       "      <td>0</td>\n",
       "      <td>3</td>\n",
       "      <td>1</td>\n",
       "      <td>2</td>\n",
       "    </tr>\n",
       "  </tbody>\n",
       "</table>\n",
       "<p>506 rows × 5 columns</p>\n",
       "</div>"
      ],
      "text/plain": [
       "     2  3  4  5  6\n",
       "0    1  1  1  1  3\n",
       "1    1  0  3  1  0\n",
       "2    1  1  1  1  3\n",
       "3    1  1  0  1  0\n",
       "4    1  1  1  1  3\n",
       "..  .. .. .. .. ..\n",
       "501  1  0  3  1  2\n",
       "502  1  0  3  1  2\n",
       "503  1  0  3  1  2\n",
       "504  1  0  3  1  2\n",
       "505  1  0  3  1  2\n",
       "\n",
       "[506 rows x 5 columns]"
      ]
     },
     "execution_count": 19,
     "metadata": {},
     "output_type": "execute_result"
    }
   ],
   "source": [
    "cluster_labels = helper.assign_labels(X,kmeans_models)\n",
    "cluster_labels"
   ]
  },
  {
   "cell_type": "code",
   "execution_count": 38,
   "metadata": {},
   "outputs": [
    {
     "name": "stdout",
     "output_type": "stream",
     "text": [
      "\u001b[1m============================= test session starts ==============================\u001b[0m\n",
      "platform linux -- Python 3.7.3, pytest-6.2.1, py-1.10.0, pluggy-0.13.1 -- /opt/tljh/user/bin/python\n",
      "cachedir: .pytest_cache\n",
      "rootdir: /home/jupyter-pander14/csc-466-instructor\n",
      "plugins: clarity-1.0.1, anyio-3.3.2\n",
      "collected 1 item                                                               \u001b[0m\u001b[1m\n",
      "\n",
      "../tests/test_Lab6.py::test_exercise_4 \u001b[32mPASSED\u001b[0m\u001b[32m                            [100%]\u001b[0m\n",
      "\n",
      "\u001b[32m============================== \u001b[32m\u001b[1m1 passed\u001b[0m\u001b[32m in 0.78s\u001b[0m\u001b[32m ===============================\u001b[0m\n"
     ]
    }
   ],
   "source": [
    "!pytest -vv --diff-symbols {REPO}/tests/test_{LAB}.py::test_exercise_4"
   ]
  },
  {
   "cell_type": "markdown",
   "metadata": {},
   "source": [
    "We now have 5 different clusterings of our data. We need to know which one of these is the best. Let's visualize the clusters (k=2 and k=3) using the cluster_labels and PCA. <a href=\"https://pandas.pydata.org/pandas-docs/stable/reference/api/pandas.DataFrame.plot.scatter.html\">Here is some documentation on how to set the color.</a>"
   ]
  },
  {
   "cell_type": "code",
   "execution_count": 9,
   "metadata": {},
   "outputs": [
    {
     "data": {
      "image/png": "[encoded data removed]",
      "text/plain": [
       "<Figure size 432x288 with 1 Axes>"
      ]
     },
     "metadata": {
      "needs_background": "light"
     },
     "output_type": "display_data"
    },
    {
     "data": {
      "image/png": "[encoded data removed]",
      "text/plain": [
       "<Figure size 432x288 with 1 Axes>"
      ]
     },
     "metadata": {
      "needs_background": "light"
     },
     "output_type": "display_data"
    }
   ],
   "source": [
    "colorings = {}\n",
    "colorings[2] = cluster_labels[2].map({0: \"Blue\", 1: \"Red\"}) # This is a new pandas command for us that maps all 0 values to Blue, etc\n",
    "colorings[3] = cluster_labels[3].map({0: \"Blue\", 1: \"Red\",2: \"Pink\"}) # This is a new pandas command for us that maps all 0 values to Blue, etc\n",
    "X_pca.plot.scatter(x=X_pca.columns[0],y=X_pca.columns[1],c=colorings[2])\n",
    "X_pca.plot.scatter(x=X_pca.columns[0],y=X_pca.columns[1],c=colorings[3])\n",
    "colorings = {}\n",
    "colorings[2] = cluster_labels[2].map({0: \"Blue\", 1: \"Red\"}) # This is a new pandas command for us that maps all 0 values to Blue, etc\n",
    "colorings[3] = cluster_labels[3].map({0: \"Blue\", 1: \"Red\",2: \"Pink\"}) # This is a new pandas command for us that maps all 0 values to Blue, etc"
   ]
  },
  {
   "cell_type": "markdown",
   "metadata": {},
   "source": [
    "### Choosing a $k$\n",
    "We will now start assembling information we need to make a decision. There are many ways to evaluate clusters, but one of the best ways is through a silhouette score. Here is an excerpt of the documentation from sklearn:\n",
    "\"Silhouette analysis can be used to study the separation distance between the resulting clusters. The silhouette plot displays a measure of how close each point in one cluster is to points in the neighboring clusters and thus provides a way to assess parameters like number of clusters visually. This measure has a range of [-1, 1].\n",
    "\n",
    "Silhouette coefficients (as these values are referred to as) near +1 indicate that the sample is far away from the neighboring clusters. A value of 0 indicates that the sample is on or very close to the decision boundary between two neighboring clusters and negative values indicate that those samples might have been assigned to the wrong cluster.\" - <a href=\"https://scikit-learn.org/dev/auto_examples/cluster/plot_kmeans_silhouette_analysis.html#example-cluster-plot-kmeans-silhouette-analysis-py\">Source</a>"
   ]
  },
  {
   "cell_type": "code",
   "execution_count": 21,
   "metadata": {},
   "outputs": [
    {
     "name": "stdout",
     "output_type": "stream",
     "text": [
      "For n_clusters = 2 The average silhouette_score is : 0.34861830833315777\n"
     ]
    }
   ],
   "source": [
    "# The silhouette_score gives the average value for all the samples.\n",
    "# This gives a perspective into the density and separation of the formed\n",
    "# clusters\n",
    "from sklearn.metrics import silhouette_score\n",
    "\n",
    "n_clusters = 2\n",
    "silhouette_avg = silhouette_score(X, cluster_labels[n_clusters])\n",
    "print(\"For n_clusters =\", n_clusters,\n",
    "      \"The average silhouette_score is :\", silhouette_avg)"
   ]
  },
  {
   "cell_type": "markdown",
   "metadata": {},
   "source": [
    "The following is pulled directly from https://en.wikipedia.org/wiki/Silhouette_(clustering).\n",
    "\n",
    "For data point $i\\in C_{i}$ (data point $i$ in the cluster $C_{i}$), let\n",
    "\n",
    "${\\displaystyle a(i)={\\frac {1}{|C_{i}|-1}}\\sum _{j\\in C_{i},i\\neq j}d(i,j)}$\n",
    "\n",
    "be the mean distance between ${\\displaystyle i}$ and all other data points in the same cluster, where ${\\displaystyle d(i,j)}$ is the distance between data points ${\\displaystyle i}$ and ${\\displaystyle j}$ in the cluster ${\\displaystyle C_{i}}$ (we divide by ${\\displaystyle |C_{i}|-1}$ because we do not include the distance ${\\displaystyle d(i,i)}$ in the sum). We can interpret ${\\displaystyle a(i)}$ as a measure of how well ${\\displaystyle i}$ is assigned to its cluster (the smaller the value, the better the assignment).\n",
    "\n",
    "We then define the mean dissimilarity of point ${\\displaystyle i}$ to some cluster ${\\displaystyle C_{k}}$ as the mean of the distance from ${\\displaystyle i}$ to all points in ${\\displaystyle C_{k}}$ (where ${\\displaystyle C_{k}\\neq C_{i}}$).\n",
    "\n",
    "For each data point ${\\displaystyle i\\in C_{i}}$, we now define\n",
    "\n",
    "${\\displaystyle b(i)=\\min _{k\\neq i}{\\frac {1}{|C_{k}|}}\\sum _{j\\in C_{k}}d(i,j)}$\n",
    "\n",
    "to be the smallest (hence the ${\\displaystyle \\min }$  operator in the formula) mean distance of ${\\displaystyle i}$ to all points in any other cluster, of which ${\\displaystyle i}$ is not a member. The cluster with this smallest mean dissimilarity is said to be the \"neighboring cluster\" of ${\\displaystyle i}$ because it is the next best fit cluster for point ${\\displaystyle i}$.\n",
    "\n",
    "We now define a silhouette (value) of one data point ${\\displaystyle i}$\n",
    "\n",
    "${\\displaystyle s(i)={\\frac {b(i)-a(i)}{\\max\\{a(i),b(i)\\}}}}$, if ${\\displaystyle |C_{i}|>1}$\n",
    "and ${\\displaystyle s(i)=0}$, if ${\\displaystyle |C_{i}|=1}$\n",
    "\n",
    "Which can be also written as:\n",
    "\n",
    "${\\displaystyle s(i)={\\begin{cases}1-a(i)/b(i),&{\\mbox{if }}a(i)<b(i)\\\\0,&{\\mbox{if }}a(i)=b(i)\\\\b(i)/a(i)-1,&{\\mbox{if }}a(i)>b(i)\\\\\\end{cases}}}$\n",
    "From the above definition it is clear that\n",
    "\n",
    "${\\displaystyle -1\\leq s(i)\\leq 1}$\n"
   ]
  },
  {
   "cell_type": "markdown",
   "metadata": {},
   "source": [
    "**Exercise 5** Write your own silhouette_scores function that returns $s(i)$ for each sample."
   ]
  },
  {
   "cell_type": "code",
   "execution_count": 22,
   "metadata": {},
   "outputs": [
    {
     "data": {
      "text/plain": [
       "array([0.15888183, 0.48063263, 0.48855984, 0.50566569, 0.49442479,\n",
       "       0.51828307, 0.43589023, 0.34314613, 0.17588651, 0.35533377])"
      ]
     },
     "execution_count": 22,
     "metadata": {},
     "output_type": "execute_result"
    }
   ],
   "source": [
    "scores = helper.silhouette_scores(X,cluster_labels[n_clusters])\n",
    "scores[:10]"
   ]
  },
  {
   "cell_type": "code",
   "execution_count": 25,
   "metadata": {},
   "outputs": [
    {
     "data": {
      "text/plain": [
       "0.3486183083331577"
      ]
     },
     "execution_count": 25,
     "metadata": {},
     "output_type": "execute_result"
    }
   ],
   "source": [
    "np.mean(scores) # do you match the sklearn implementation?"
   ]
  },
  {
   "cell_type": "code",
   "execution_count": 39,
   "metadata": {},
   "outputs": [
    {
     "name": "stdout",
     "output_type": "stream",
     "text": [
      "\u001b[1m============================= test session starts ==============================\u001b[0m\n",
      "platform linux -- Python 3.7.3, pytest-6.2.1, py-1.10.0, pluggy-0.13.1 -- /opt/tljh/user/bin/python\n",
      "cachedir: .pytest_cache\n",
      "rootdir: /home/jupyter-pander14/csc-466-instructor\n",
      "plugins: clarity-1.0.1, anyio-3.3.2\n",
      "collected 1 item                                                               \u001b[0m\u001b[1m\n",
      "\n",
      "../tests/test_Lab6.py::test_exercise_5 \u001b[32mPASSED\u001b[0m\u001b[32m                            [100%]\u001b[0m\n",
      "\n",
      "\u001b[32m========================= \u001b[32m\u001b[1m1 passed\u001b[0m\u001b[32m in 63.82s (0:01:03)\u001b[0m\u001b[32m =========================\u001b[0m\n"
     ]
    }
   ],
   "source": [
    "!pytest -vv --diff-symbols {REPO}/tests/test_{LAB}.py::test_exercise_5"
   ]
  },
  {
   "cell_type": "markdown",
   "metadata": {},
   "source": [
    "### Creating our plots\n",
    "Let's put it all together and grab the scores for each cluster. I'll take over the plotting here. "
   ]
  },
  {
   "cell_type": "code",
   "execution_count": 26,
   "metadata": {},
   "outputs": [
    {
     "data": {
      "text/html": [
       "<div>\n",
       "<style scoped>\n",
       "    .dataframe tbody tr th:only-of-type {\n",
       "        vertical-align: middle;\n",
       "    }\n",
       "\n",
       "    .dataframe tbody tr th {\n",
       "        vertical-align: top;\n",
       "    }\n",
       "\n",
       "    .dataframe thead th {\n",
       "        text-align: right;\n",
       "    }\n",
       "</style>\n",
       "<table border=\"1\" class=\"dataframe\">\n",
       "  <thead>\n",
       "    <tr style=\"text-align: right;\">\n",
       "      <th></th>\n",
       "      <th>2</th>\n",
       "      <th>3</th>\n",
       "      <th>4</th>\n",
       "      <th>5</th>\n",
       "      <th>6</th>\n",
       "    </tr>\n",
       "  </thead>\n",
       "  <tbody>\n",
       "    <tr>\n",
       "      <th>0</th>\n",
       "      <td>0.158882</td>\n",
       "      <td>-0.028457</td>\n",
       "      <td>-0.038828</td>\n",
       "      <td>0.048944</td>\n",
       "      <td>-0.018342</td>\n",
       "    </tr>\n",
       "    <tr>\n",
       "      <th>1</th>\n",
       "      <td>0.480633</td>\n",
       "      <td>0.373343</td>\n",
       "      <td>0.333591</td>\n",
       "      <td>0.397663</td>\n",
       "      <td>0.338518</td>\n",
       "    </tr>\n",
       "    <tr>\n",
       "      <th>2</th>\n",
       "      <td>0.488560</td>\n",
       "      <td>-0.032146</td>\n",
       "      <td>0.025714</td>\n",
       "      <td>0.152563</td>\n",
       "      <td>0.083696</td>\n",
       "    </tr>\n",
       "    <tr>\n",
       "      <th>3</th>\n",
       "      <td>0.505666</td>\n",
       "      <td>0.016096</td>\n",
       "      <td>0.084974</td>\n",
       "      <td>0.047167</td>\n",
       "      <td>0.117879</td>\n",
       "    </tr>\n",
       "    <tr>\n",
       "      <th>4</th>\n",
       "      <td>0.494425</td>\n",
       "      <td>0.027066</td>\n",
       "      <td>-0.077863</td>\n",
       "      <td>0.059683</td>\n",
       "      <td>-0.032161</td>\n",
       "    </tr>\n",
       "    <tr>\n",
       "      <th>...</th>\n",
       "      <td>...</td>\n",
       "      <td>...</td>\n",
       "      <td>...</td>\n",
       "      <td>...</td>\n",
       "      <td>...</td>\n",
       "    </tr>\n",
       "    <tr>\n",
       "      <th>501</th>\n",
       "      <td>0.306412</td>\n",
       "      <td>0.410883</td>\n",
       "      <td>0.396929</td>\n",
       "      <td>0.385021</td>\n",
       "      <td>0.018355</td>\n",
       "    </tr>\n",
       "    <tr>\n",
       "      <th>502</th>\n",
       "      <td>0.273982</td>\n",
       "      <td>0.449685</td>\n",
       "      <td>0.448386</td>\n",
       "      <td>0.362586</td>\n",
       "      <td>0.102090</td>\n",
       "    </tr>\n",
       "    <tr>\n",
       "      <th>503</th>\n",
       "      <td>0.272591</td>\n",
       "      <td>0.332597</td>\n",
       "      <td>0.261109</td>\n",
       "      <td>0.334868</td>\n",
       "      <td>0.062058</td>\n",
       "    </tr>\n",
       "    <tr>\n",
       "      <th>504</th>\n",
       "      <td>0.274815</td>\n",
       "      <td>0.371274</td>\n",
       "      <td>0.324289</td>\n",
       "      <td>0.346276</td>\n",
       "      <td>0.079149</td>\n",
       "    </tr>\n",
       "    <tr>\n",
       "      <th>505</th>\n",
       "      <td>0.225167</td>\n",
       "      <td>0.423685</td>\n",
       "      <td>0.453179</td>\n",
       "      <td>0.309386</td>\n",
       "      <td>0.127506</td>\n",
       "    </tr>\n",
       "  </tbody>\n",
       "</table>\n",
       "<p>506 rows × 5 columns</p>\n",
       "</div>"
      ],
      "text/plain": [
       "            2         3         4         5         6\n",
       "0    0.158882 -0.028457 -0.038828  0.048944 -0.018342\n",
       "1    0.480633  0.373343  0.333591  0.397663  0.338518\n",
       "2    0.488560 -0.032146  0.025714  0.152563  0.083696\n",
       "3    0.505666  0.016096  0.084974  0.047167  0.117879\n",
       "4    0.494425  0.027066 -0.077863  0.059683 -0.032161\n",
       "..        ...       ...       ...       ...       ...\n",
       "501  0.306412  0.410883  0.396929  0.385021  0.018355\n",
       "502  0.273982  0.449685  0.448386  0.362586  0.102090\n",
       "503  0.272591  0.332597  0.261109  0.334868  0.062058\n",
       "504  0.274815  0.371274  0.324289  0.346276  0.079149\n",
       "505  0.225167  0.423685  0.453179  0.309386  0.127506\n",
       "\n",
       "[506 rows x 5 columns]"
      ]
     },
     "execution_count": 26,
     "metadata": {},
     "output_type": "execute_result"
    }
   ],
   "source": [
    "s_df = pd.DataFrame(index=X.index,columns=cluster_labels.columns)\n",
    "for k in s_df.columns:\n",
    "    s_df.loc[:,k] = helper.silhouette_scores(X,cluster_labels[k])\n",
    "s_df"
   ]
  },
  {
   "cell_type": "code",
   "execution_count": 27,
   "metadata": {},
   "outputs": [
    {
     "data": {
      "text/html": [
       "<div>\n",
       "<style scoped>\n",
       "    .dataframe tbody tr th:only-of-type {\n",
       "        vertical-align: middle;\n",
       "    }\n",
       "\n",
       "    .dataframe tbody tr th {\n",
       "        vertical-align: top;\n",
       "    }\n",
       "\n",
       "    .dataframe thead th {\n",
       "        text-align: right;\n",
       "    }\n",
       "</style>\n",
       "<table border=\"1\" class=\"dataframe\">\n",
       "  <thead>\n",
       "    <tr style=\"text-align: right;\">\n",
       "      <th></th>\n",
       "      <th>i</th>\n",
       "      <th>2</th>\n",
       "      <th>3</th>\n",
       "      <th>4</th>\n",
       "      <th>5</th>\n",
       "      <th>6</th>\n",
       "    </tr>\n",
       "  </thead>\n",
       "  <tbody>\n",
       "    <tr>\n",
       "      <th>0</th>\n",
       "      <td>0</td>\n",
       "      <td>0.158882</td>\n",
       "      <td>-0.028457</td>\n",
       "      <td>-0.038828</td>\n",
       "      <td>0.048944</td>\n",
       "      <td>-0.018342</td>\n",
       "    </tr>\n",
       "    <tr>\n",
       "      <th>1</th>\n",
       "      <td>1</td>\n",
       "      <td>0.480633</td>\n",
       "      <td>0.373343</td>\n",
       "      <td>0.333591</td>\n",
       "      <td>0.397663</td>\n",
       "      <td>0.338518</td>\n",
       "    </tr>\n",
       "    <tr>\n",
       "      <th>2</th>\n",
       "      <td>2</td>\n",
       "      <td>0.488560</td>\n",
       "      <td>-0.032146</td>\n",
       "      <td>0.025714</td>\n",
       "      <td>0.152563</td>\n",
       "      <td>0.083696</td>\n",
       "    </tr>\n",
       "    <tr>\n",
       "      <th>3</th>\n",
       "      <td>3</td>\n",
       "      <td>0.505666</td>\n",
       "      <td>0.016096</td>\n",
       "      <td>0.084974</td>\n",
       "      <td>0.047167</td>\n",
       "      <td>0.117879</td>\n",
       "    </tr>\n",
       "    <tr>\n",
       "      <th>4</th>\n",
       "      <td>4</td>\n",
       "      <td>0.494425</td>\n",
       "      <td>0.027066</td>\n",
       "      <td>-0.077863</td>\n",
       "      <td>0.059683</td>\n",
       "      <td>-0.032161</td>\n",
       "    </tr>\n",
       "    <tr>\n",
       "      <th>...</th>\n",
       "      <td>...</td>\n",
       "      <td>...</td>\n",
       "      <td>...</td>\n",
       "      <td>...</td>\n",
       "      <td>...</td>\n",
       "      <td>...</td>\n",
       "    </tr>\n",
       "    <tr>\n",
       "      <th>501</th>\n",
       "      <td>501</td>\n",
       "      <td>0.306412</td>\n",
       "      <td>0.410883</td>\n",
       "      <td>0.396929</td>\n",
       "      <td>0.385021</td>\n",
       "      <td>0.018355</td>\n",
       "    </tr>\n",
       "    <tr>\n",
       "      <th>502</th>\n",
       "      <td>502</td>\n",
       "      <td>0.273982</td>\n",
       "      <td>0.449685</td>\n",
       "      <td>0.448386</td>\n",
       "      <td>0.362586</td>\n",
       "      <td>0.102090</td>\n",
       "    </tr>\n",
       "    <tr>\n",
       "      <th>503</th>\n",
       "      <td>503</td>\n",
       "      <td>0.272591</td>\n",
       "      <td>0.332597</td>\n",
       "      <td>0.261109</td>\n",
       "      <td>0.334868</td>\n",
       "      <td>0.062058</td>\n",
       "    </tr>\n",
       "    <tr>\n",
       "      <th>504</th>\n",
       "      <td>504</td>\n",
       "      <td>0.274815</td>\n",
       "      <td>0.371274</td>\n",
       "      <td>0.324289</td>\n",
       "      <td>0.346276</td>\n",
       "      <td>0.079149</td>\n",
       "    </tr>\n",
       "    <tr>\n",
       "      <th>505</th>\n",
       "      <td>505</td>\n",
       "      <td>0.225167</td>\n",
       "      <td>0.423685</td>\n",
       "      <td>0.453179</td>\n",
       "      <td>0.309386</td>\n",
       "      <td>0.127506</td>\n",
       "    </tr>\n",
       "  </tbody>\n",
       "</table>\n",
       "<p>506 rows × 6 columns</p>\n",
       "</div>"
      ],
      "text/plain": [
       "       i         2         3         4         5         6\n",
       "0      0  0.158882 -0.028457 -0.038828  0.048944 -0.018342\n",
       "1      1  0.480633  0.373343  0.333591  0.397663  0.338518\n",
       "2      2  0.488560 -0.032146  0.025714  0.152563  0.083696\n",
       "3      3  0.505666  0.016096  0.084974  0.047167  0.117879\n",
       "4      4  0.494425  0.027066 -0.077863  0.059683 -0.032161\n",
       "..   ...       ...       ...       ...       ...       ...\n",
       "501  501  0.306412  0.410883  0.396929  0.385021  0.018355\n",
       "502  502  0.273982  0.449685  0.448386  0.362586  0.102090\n",
       "503  503  0.272591  0.332597  0.261109  0.334868  0.062058\n",
       "504  504  0.274815  0.371274  0.324289  0.346276  0.079149\n",
       "505  505  0.225167  0.423685  0.453179  0.309386  0.127506\n",
       "\n",
       "[506 rows x 6 columns]"
      ]
     },
     "execution_count": 27,
     "metadata": {},
     "output_type": "execute_result"
    }
   ],
   "source": [
    "s_df.index.name=\"i\"\n",
    "s_df = s_df.reset_index()\n",
    "s_df"
   ]
  },
  {
   "cell_type": "code",
   "execution_count": 28,
   "metadata": {},
   "outputs": [
    {
     "data": {
      "application/vnd.vegalite.v4+json": {
       "$schema": "https://vega.github.io/schema/vega-lite/v4.8.1.json",
       "config": {
        "view": {
         "continuousHeight": 300,
         "continuousWidth": 400
        }
       },
       "data": {
        "name": "data-af7dcb04057510e51f9f4ed141ed7555"
       },
       "datasets": {
        "data-af7dcb04057510e51f9f4ed141ed7555": [
         {
          "i": 0,
          "k": 2,
          "s": 0.15888182958679264
         },
         {
          "i": 1,
          "k": 2,
          "s": 0.48063263174597803
         },
         {
          "i": 2,
          "k": 2,
          "s": 0.48855983597454866
         },
         {
          "i": 3,
          "k": 2,
          "s": 0.5056656928876118
         },
         {
          "i": 4,
          "k": 2,
          "s": 0.49442479050952115
         },
         {
          "i": 5,
          "k": 2,
          "s": 0.5182830718603106
         },
         {
          "i": 6,
          "k": 2,
          "s": 0.4358902330774761
         },
         {
          "i": 7,
          "k": 2,
          "s": 0.3431461288372688
         },
         {
          "i": 8,
          "k": 2,
          "s": 0.17588651456691462
         },
         {
          "i": 9,
          "k": 2,
          "s": 0.35533377331552907
         },
         {
          "i": 10,
          "k": 2,
          "s": 0.30105954791735023
         },
         {
          "i": 11,
          "k": 2,
          "s": 0.3901653142787992
         },
         {
          "i": 12,
          "k": 2,
          "s": 0.42156108227762956
         },
         {
          "i": 13,
          "k": 2,
          "s": 0.38520350259818126
         },
         {
          "i": 14,
          "k": 2,
          "s": 0.3256391141325995
         },
         {
          "i": 15,
          "k": 2,
          "s": 0.37901980820668746
         },
         {
          "i": 16,
          "k": 2,
          "s": 0.40076779680187347
         },
         {
          "i": 17,
          "k": 2,
          "s": 0.2936955722812553
         },
         {
          "i": 18,
          "k": 2,
          "s": 0.29000583232243193
         },
         {
          "i": 19,
          "k": 2,
          "s": 0.3213308845602293
         },
         {
          "i": 20,
          "k": 2,
          "s": 0.13054353224873805
         },
         {
          "i": 21,
          "k": 2,
          "s": 0.28741100543018094
         },
         {
          "i": 22,
          "k": 2,
          "s": 0.2172735968309355
         },
         {
          "i": 23,
          "k": 2,
          "s": 0.16971790961937872
         },
         {
          "i": 24,
          "k": 2,
          "s": 0.23946656744440042
         },
         {
          "i": 25,
          "k": 2,
          "s": 0.18896528530365408
         },
         {
          "i": 26,
          "k": 2,
          "s": 0.2624457504243457
         },
         {
          "i": 27,
          "k": 2,
          "s": 0.20401856248661943
         },
         {
          "i": 28,
          "k": 2,
          "s": 0.29624801835264336
         },
         {
          "i": 29,
          "k": 2,
          "s": 0.3249304197255154
         },
         {
          "i": 30,
          "k": 2,
          "s": 0.13025835846727762
         },
         {
          "i": 31,
          "k": 2,
          "s": 0.23618259973699596
         },
         {
          "i": 32,
          "k": 2,
          "s": -0.05012333467946939
         },
         {
          "i": 33,
          "k": 2,
          "s": 0.16268521945273018
         },
         {
          "i": 34,
          "k": 2,
          "s": 0.09208986959609133
         },
         {
          "i": 35,
          "k": 2,
          "s": 0.4191696363836833
         },
         {
          "i": 36,
          "k": 2,
          "s": 0.41713003357790657
         },
         {
          "i": 37,
          "k": 2,
          "s": 0.4575548780958193
         },
         {
          "i": 38,
          "k": 2,
          "s": 0.46157564501626136
         },
         {
          "i": 39,
          "k": 2,
          "s": 0.4646629297110634
         },
         {
          "i": 40,
          "k": 2,
          "s": 0.4531851991800455
         },
         {
          "i": 41,
          "k": 2,
          "s": 0.48637437191088206
         },
         {
          "i": 42,
          "k": 2,
          "s": 0.4890015573894938
         },
         {
          "i": 43,
          "k": 2,
          "s": 0.4901159044435013
         },
         {
          "i": 44,
          "k": 2,
          "s": 0.5087435591423999
         },
         {
          "i": 45,
          "k": 2,
          "s": 0.4752286176078011
         },
         {
          "i": 46,
          "k": 2,
          "s": 0.4652977316192086
         },
         {
          "i": 47,
          "k": 2,
          "s": 0.3769669725507515
         },
         {
          "i": 48,
          "k": 2,
          "s": 0.19477545644043215
         },
         {
          "i": 49,
          "k": 2,
          "s": 0.4283892609681146
         },
         {
          "i": 50,
          "k": 2,
          "s": 0.4924658726004325
         },
         {
          "i": 51,
          "k": 2,
          "s": 0.5057463516342438
         },
         {
          "i": 52,
          "k": 2,
          "s": 0.5259823212661219
         },
         {
          "i": 53,
          "k": 2,
          "s": 0.5121252372992464
         },
         {
          "i": 54,
          "k": 2,
          "s": 0.3334006342218524
         },
         {
          "i": 55,
          "k": 2,
          "s": 0.42043246989734684
         },
         {
          "i": 56,
          "k": 2,
          "s": 0.42929231904928244
         },
         {
          "i": 57,
          "k": 2,
          "s": 0.4079385157593277
         },
         {
          "i": 58,
          "k": 2,
          "s": 0.4769844887369922
         },
         {
          "i": 59,
          "k": 2,
          "s": 0.46742026627535005
         },
         {
          "i": 60,
          "k": 2,
          "s": 0.4186066390985551
         },
         {
          "i": 61,
          "k": 2,
          "s": 0.3572689207808888
         },
         {
          "i": 62,
          "k": 2,
          "s": 0.4714455552522995
         },
         {
          "i": 63,
          "k": 2,
          "s": 0.4786760604537319
         },
         {
          "i": 64,
          "k": 2,
          "s": 0.4752428563614459
         },
         {
          "i": 65,
          "k": 2,
          "s": 0.44156647197532584
         },
         {
          "i": 66,
          "k": 2,
          "s": 0.4136690927461899
         },
         {
          "i": 67,
          "k": 2,
          "s": 0.4840484832239704
         },
         {
          "i": 68,
          "k": 2,
          "s": 0.4409127651469026
         },
         {
          "i": 69,
          "k": 2,
          "s": 0.4884144954752111
         },
         {
          "i": 70,
          "k": 2,
          "s": 0.4527888978196769
         },
         {
          "i": 71,
          "k": 2,
          "s": 0.44234828178568775
         },
         {
          "i": 72,
          "k": 2,
          "s": 0.44554769133610284
         },
         {
          "i": 73,
          "k": 2,
          "s": 0.4463226524927262
         },
         {
          "i": 74,
          "k": 2,
          "s": 0.40389966962590895
         },
         {
          "i": 75,
          "k": 2,
          "s": 0.41659331008275924
         },
         {
          "i": 76,
          "k": 2,
          "s": 0.3475911630011458
         },
         {
          "i": 77,
          "k": 2,
          "s": 0.39846280541880497
         },
         {
          "i": 78,
          "k": 2,
          "s": 0.4000603301244
         },
         {
          "i": 79,
          "k": 2,
          "s": 0.3988225787438253
         },
         {
          "i": 80,
          "k": 2,
          "s": 0.5297993343015326
         },
         {
          "i": 81,
          "k": 2,
          "s": 0.5097405070234702
         },
         {
          "i": 82,
          "k": 2,
          "s": 0.5288064724095047
         },
         {
          "i": 83,
          "k": 2,
          "s": 0.5243140205999353
         },
         {
          "i": 84,
          "k": 2,
          "s": 0.5228580149560487
         },
         {
          "i": 85,
          "k": 2,
          "s": 0.5209205368813163
         },
         {
          "i": 86,
          "k": 2,
          "s": 0.49280051952353077
         },
         {
          "i": 87,
          "k": 2,
          "s": 0.4974395798854292
         },
         {
          "i": 88,
          "k": 2,
          "s": 0.4472549362335273
         },
         {
          "i": 89,
          "k": 2,
          "s": 0.4864718778144169
         },
         {
          "i": 90,
          "k": 2,
          "s": 0.47850870827921765
         },
         {
          "i": 91,
          "k": 2,
          "s": 0.4664093085184793
         },
         {
          "i": 92,
          "k": 2,
          "s": 0.4330218849388665
         },
         {
          "i": 93,
          "k": 2,
          "s": 0.439169492387696
         },
         {
          "i": 94,
          "k": 2,
          "s": 0.37822227545972964
         },
         {
          "i": 95,
          "k": 2,
          "s": 0.5007099952349365
         },
         {
          "i": 96,
          "k": 2,
          "s": 0.471110568271511
         },
         {
          "i": 97,
          "k": 2,
          "s": 0.41028424258847573
         },
         {
          "i": 98,
          "k": 2,
          "s": 0.42900807033874433
         },
         {
          "i": 99,
          "k": 2,
          "s": 0.47238418912326285
         },
         {
          "i": 100,
          "k": 2,
          "s": 0.31806035394269483
         },
         {
          "i": 101,
          "k": 2,
          "s": 0.341455357224411
         },
         {
          "i": 102,
          "k": 2,
          "s": 0.05397309256802074
         },
         {
          "i": 103,
          "k": 2,
          "s": 0.23823861917712053
         },
         {
          "i": 104,
          "k": 2,
          "s": 0.23425988175569679
         },
         {
          "i": 105,
          "k": 2,
          "s": 0.1519603981067873
         },
         {
          "i": 106,
          "k": 2,
          "s": 0.14536336211973677
         },
         {
          "i": 107,
          "k": 2,
          "s": 0.21989820543795435
         },
         {
          "i": 108,
          "k": 2,
          "s": 0.2223608608111497
         },
         {
          "i": 109,
          "k": 2,
          "s": 0.20581088269414893
         },
         {
          "i": 110,
          "k": 2,
          "s": 0.3169788522065051
         },
         {
          "i": 111,
          "k": 2,
          "s": 0.3017349238778342
         },
         {
          "i": 112,
          "k": 2,
          "s": 0.16502531298374978
         },
         {
          "i": 113,
          "k": 2,
          "s": 0.1638705554841262
         },
         {
          "i": 114,
          "k": 2,
          "s": 0.24742947047663744
         },
         {
          "i": 115,
          "k": 2,
          "s": 0.16137014746736233
         },
         {
          "i": 116,
          "k": 2,
          "s": 0.2957086497243623
         },
         {
          "i": 117,
          "k": 2,
          "s": 0.26678491420742423
         },
         {
          "i": 118,
          "k": 2,
          "s": 0.2097483362458481
         },
         {
          "i": 119,
          "k": 2,
          "s": 0.26239442232257504
         },
         {
          "i": 120,
          "k": 2,
          "s": 0.10131365771954848
         },
         {
          "i": 121,
          "k": 2,
          "s": 0.06683260985758199
         },
         {
          "i": 122,
          "k": 2,
          "s": -0.02326973881730454
         },
         {
          "i": 123,
          "k": 2,
          "s": 0.06046667109234871
         },
         {
          "i": 124,
          "k": 2,
          "s": -0.008019906996465376
         },
         {
          "i": 125,
          "k": 2,
          "s": 0.054601610644489096
         },
         {
          "i": 126,
          "k": 2,
          "s": 0.08774595741838065
         },
         {
          "i": 127,
          "k": 2,
          "s": 0.17424856370398423
         },
         {
          "i": 128,
          "k": 2,
          "s": 0.1330606079678085
         },
         {
          "i": 129,
          "k": 2,
          "s": 0.1835903426187443
         },
         {
          "i": 130,
          "k": 2,
          "s": 0.0964236966852633
         },
         {
          "i": 131,
          "k": 2,
          "s": 0.0953956848399028
         },
         {
          "i": 132,
          "k": 2,
          "s": 0.06490177056379587
         },
         {
          "i": 133,
          "k": 2,
          "s": 0.13207125700952638
         },
         {
          "i": 134,
          "k": 2,
          "s": 0.2088788305024416
         },
         {
          "i": 135,
          "k": 2,
          "s": 0.14341171849446077
         },
         {
          "i": 136,
          "k": 2,
          "s": 0.16181258745554528
         },
         {
          "i": 137,
          "k": 2,
          "s": 0.1291615505977769
         },
         {
          "i": 138,
          "k": 2,
          "s": 0.20667209878541515
         },
         {
          "i": 139,
          "k": 2,
          "s": 0.1697409289173134
         },
         {
          "i": 140,
          "k": 2,
          "s": 0.20336283493751262
         },
         {
          "i": 141,
          "k": 2,
          "s": 0.23136995429855134
         },
         {
          "i": 142,
          "k": 2,
          "s": 0.14094891245196683
         },
         {
          "i": 143,
          "k": 2,
          "s": 0.1994869067955528
         },
         {
          "i": 144,
          "k": 2,
          "s": 0.20549620469547936
         },
         {
          "i": 145,
          "k": 2,
          "s": 0.22351572124506802
         },
         {
          "i": 146,
          "k": 2,
          "s": 0.1983126725798542
         },
         {
          "i": 147,
          "k": 2,
          "s": 0.19942118478213566
         },
         {
          "i": 148,
          "k": 2,
          "s": 0.19881561070010612
         },
         {
          "i": 149,
          "k": 2,
          "s": 0.18840084201864582
         },
         {
          "i": 150,
          "k": 2,
          "s": 0.11114445264915163
         },
         {
          "i": 151,
          "k": 2,
          "s": 0.14206704099852763
         },
         {
          "i": 152,
          "k": 2,
          "s": 0.09130424160491724
         },
         {
          "i": 153,
          "k": 2,
          "s": 0.17164038878199095
         },
         {
          "i": 154,
          "k": 2,
          "s": 0.09310213648555188
         },
         {
          "i": 155,
          "k": 2,
          "s": 0.11975362452771421
         },
         {
          "i": 156,
          "k": 2,
          "s": 0.19535185968233715
         },
         {
          "i": 157,
          "k": 2,
          "s": 0.17630288194602062
         },
         {
          "i": 158,
          "k": 2,
          "s": 0.09185315776004332
         },
         {
          "i": 159,
          "k": 2,
          "s": 0.049525625538579976
         },
         {
          "i": 160,
          "k": 2,
          "s": 0.08047629356144281
         },
         {
          "i": 161,
          "k": 2,
          "s": 0.1980824150260686
         },
         {
          "i": 162,
          "k": 2,
          "s": 0.143276191787286
         },
         {
          "i": 163,
          "k": 2,
          "s": 0.14500521963191904
         },
         {
          "i": 164,
          "k": 2,
          "s": 0.08765533846385454
         },
         {
          "i": 165,
          "k": 2,
          "s": -0.0476992911373314
         },
         {
          "i": 166,
          "k": 2,
          "s": 0.18504772231054123
         },
         {
          "i": 167,
          "k": 2,
          "s": -0.04481957069013798
         },
         {
          "i": 168,
          "k": 2,
          "s": 0.05519116654101852
         },
         {
          "i": 169,
          "k": 2,
          "s": 0.07171251058400374
         },
         {
          "i": 170,
          "k": 2,
          "s": -6.48731628899446e-05
         },
         {
          "i": 171,
          "k": 2,
          "s": -0.04321905132268056
         },
         {
          "i": 172,
          "k": 2,
          "s": 0.3322334346439423
         },
         {
          "i": 173,
          "k": 2,
          "s": 0.4148378272796479
         },
         {
          "i": 174,
          "k": 2,
          "s": 0.41850556209373424
         },
         {
          "i": 175,
          "k": 2,
          "s": 0.4780381915110842
         },
         {
          "i": 176,
          "k": 2,
          "s": 0.4672922520762611
         },
         {
          "i": 177,
          "k": 2,
          "s": 0.45736574205402436
         },
         {
          "i": 178,
          "k": 2,
          "s": 0.4492135459638682
         },
         {
          "i": 179,
          "k": 2,
          "s": 0.4685132425545425
         },
         {
          "i": 180,
          "k": 2,
          "s": 0.40200769784001233
         },
         {
          "i": 181,
          "k": 2,
          "s": 0.45397300024954323
         },
         {
          "i": 182,
          "k": 2,
          "s": 0.4166097163055281
         },
         {
          "i": 183,
          "k": 2,
          "s": 0.42914505202133935
         },
         {
          "i": 184,
          "k": 2,
          "s": 0.3848567191738127
         },
         {
          "i": 185,
          "k": 2,
          "s": 0.46274263042282904
         },
         {
          "i": 186,
          "k": 2,
          "s": 0.39817015590213567
         },
         {
          "i": 187,
          "k": 2,
          "s": 0.47006330489448767
         },
         {
          "i": 188,
          "k": 2,
          "s": 0.47936644081756374
         },
         {
          "i": 189,
          "k": 2,
          "s": 0.4698409687840174
         },
         {
          "i": 190,
          "k": 2,
          "s": 0.47092203603903426
         },
         {
          "i": 191,
          "k": 2,
          "s": 0.48830261055325164
         },
         {
          "i": 192,
          "k": 2,
          "s": 0.46977514488024974
         },
         {
          "i": 193,
          "k": 2,
          "s": 0.48519013536694466
         },
         {
          "i": 194,
          "k": 2,
          "s": 0.4914405966349005
         },
         {
          "i": 195,
          "k": 2,
          "s": 0.39229291737280436
         },
         {
          "i": 196,
          "k": 2,
          "s": 0.41536079539038984
         },
         {
          "i": 197,
          "k": 2,
          "s": 0.4100290864202236
         },
         {
          "i": 198,
          "k": 2,
          "s": 0.4132011027693251
         },
         {
          "i": 199,
          "k": 2,
          "s": 0.4091154879930017
         },
         {
          "i": 200,
          "k": 2,
          "s": 0.4072579062124311
         },
         {
          "i": 201,
          "k": 2,
          "s": 0.4280862685534539
         },
         {
          "i": 202,
          "k": 2,
          "s": 0.41036995790607744
         },
         {
          "i": 203,
          "k": 2,
          "s": 0.37764941849090394
         },
         {
          "i": 204,
          "k": 2,
          "s": 0.36923613415225365
         },
         {
          "i": 205,
          "k": 2,
          "s": 0.4332038587136544
         },
         {
          "i": 206,
          "k": 2,
          "s": 0.46883940216514786
         },
         {
          "i": 207,
          "k": 2,
          "s": 0.3538597013251168
         },
         {
          "i": 208,
          "k": 2,
          "s": 0.2447633501593195
         },
         {
          "i": 209,
          "k": 2,
          "s": 0.11390068087804495
         },
         {
          "i": 210,
          "k": 2,
          "s": 0.18213930259454425
         },
         {
          "i": 211,
          "k": 2,
          "s": 0.12022623105107244
         },
         {
          "i": 212,
          "k": 2,
          "s": 0.22375476046067266
         },
         {
          "i": 213,
          "k": 2,
          "s": 0.46805971204561947
         },
         {
          "i": 214,
          "k": 2,
          "s": 0.21398681416362964
         },
         {
          "i": 215,
          "k": 2,
          "s": 0.46754011594357603
         },
         {
          "i": 216,
          "k": 2,
          "s": 0.19892027983915794
         },
         {
          "i": 217,
          "k": 2,
          "s": 0.35145568370875635
         },
         {
          "i": 218,
          "k": 2,
          "s": 0.12806658298883522
         },
         {
          "i": 219,
          "k": 2,
          "s": 0.1861607323536396
         },
         {
          "i": 220,
          "k": 2,
          "s": 0.23600532727825563
         },
         {
          "i": 221,
          "k": 2,
          "s": 0.1569250741017415
         },
         {
          "i": 222,
          "k": 2,
          "s": 0.25527847068049847
         },
         {
          "i": 223,
          "k": 2,
          "s": 0.42663084810421814
         },
         {
          "i": 224,
          "k": 2,
          "s": 0.33867551934561546
         },
         {
          "i": 225,
          "k": 2,
          "s": 0.2977620798689702
         },
         {
          "i": 226,
          "k": 2,
          "s": 0.358706132284475
         },
         {
          "i": 227,
          "k": 2,
          "s": 0.41382438135049826
         },
         {
          "i": 228,
          "k": 2,
          "s": 0.3845484064309417
         },
         {
          "i": 229,
          "k": 2,
          "s": 0.45461768087923937
         },
         {
          "i": 230,
          "k": 2,
          "s": 0.42405653765064977
         },
         {
          "i": 231,
          "k": 2,
          "s": 0.41843902738541916
         },
         {
          "i": 232,
          "k": 2,
          "s": 0.35879705036568255
         },
         {
          "i": 233,
          "k": 2,
          "s": 0.3463094965507897
         },
         {
          "i": 234,
          "k": 2,
          "s": 0.2729993496543148
         },
         {
          "i": 235,
          "k": 2,
          "s": 0.44056962097933694
         },
         {
          "i": 236,
          "k": 2,
          "s": 0.263900884032124
         },
         {
          "i": 237,
          "k": 2,
          "s": 0.4378225496129401
         },
         {
          "i": 238,
          "k": 2,
          "s": 0.5144194588818837
         },
         {
          "i": 239,
          "k": 2,
          "s": 0.5265431589780409
         },
         {
          "i": 240,
          "k": 2,
          "s": 0.503211485735304
         },
         {
          "i": 241,
          "k": 2,
          "s": 0.4803450714112947
         },
         {
          "i": 242,
          "k": 2,
          "s": 0.501996774959561
         },
         {
          "i": 243,
          "k": 2,
          "s": 0.49503131078779183
         },
         {
          "i": 244,
          "k": 2,
          "s": 0.38691645742850234
         },
         {
          "i": 245,
          "k": 2,
          "s": 0.3644429829486324
         },
         {
          "i": 246,
          "k": 2,
          "s": 0.4790933409187764
         },
         {
          "i": 247,
          "k": 2,
          "s": 0.43021230704802693
         },
         {
          "i": 248,
          "k": 2,
          "s": 0.4850932245814643
         },
         {
          "i": 249,
          "k": 2,
          "s": 0.4842689214371103
         },
         {
          "i": 250,
          "k": 2,
          "s": 0.48451410227841685
         },
         {
          "i": 251,
          "k": 2,
          "s": 0.47541507878273026
         },
         {
          "i": 252,
          "k": 2,
          "s": 0.4528887353870982
         },
         {
          "i": 253,
          "k": 2,
          "s": 0.38827964729975006
         },
         {
          "i": 254,
          "k": 2,
          "s": 0.4271278093271388
         },
         {
          "i": 255,
          "k": 2,
          "s": 0.4130738617144313
         },
         {
          "i": 256,
          "k": 2,
          "s": 0.4126242185266138
         },
         {
          "i": 257,
          "k": 2,
          "s": 0.2704299405092525
         },
         {
          "i": 258,
          "k": 2,
          "s": 0.2987175643908875
         },
         {
          "i": 259,
          "k": 2,
          "s": 0.303001249809708
         },
         {
          "i": 260,
          "k": 2,
          "s": 0.3277134290592981
         },
         {
          "i": 261,
          "k": 2,
          "s": 0.31169264253537077
         },
         {
          "i": 262,
          "k": 2,
          "s": 0.2828381262282842
         },
         {
          "i": 263,
          "k": 2,
          "s": 0.2993748479957561
         },
         {
          "i": 264,
          "k": 2,
          "s": 0.3136280723458663
         },
         {
          "i": 265,
          "k": 2,
          "s": 0.29234241208543643
         },
         {
          "i": 266,
          "k": 2,
          "s": 0.2992600694434141
         },
         {
          "i": 267,
          "k": 2,
          "s": 0.323489712646841
         },
         {
          "i": 268,
          "k": 2,
          "s": 0.3838787694278316
         },
         {
          "i": 269,
          "k": 2,
          "s": 0.2809424385417253
         },
         {
          "i": 270,
          "k": 2,
          "s": 0.48278412108292235
         },
         {
          "i": 271,
          "k": 2,
          "s": 0.5070660783325265
         },
         {
          "i": 272,
          "k": 2,
          "s": 0.5157327508176085
         },
         {
          "i": 273,
          "k": 2,
          "s": 0.3269097546269192
         },
         {
          "i": 274,
          "k": 2,
          "s": 0.3488615250391933
         },
         {
          "i": 275,
          "k": 2,
          "s": 0.5100560066698643
         },
         {
          "i": 276,
          "k": 2,
          "s": 0.34558853908775344
         },
         {
          "i": 277,
          "k": 2,
          "s": 0.3547737495830474
         },
         {
          "i": 278,
          "k": 2,
          "s": 0.5151408506057265
         },
         {
          "i": 279,
          "k": 2,
          "s": 0.4975882718091357
         },
         {
          "i": 280,
          "k": 2,
          "s": 0.43092284536242376
         },
         {
          "i": 281,
          "k": 2,
          "s": 0.5043245881736333
         },
         {
          "i": 282,
          "k": 2,
          "s": 0.3363442698303504
         },
         {
          "i": 283,
          "k": 2,
          "s": 0.3157052907241168
         },
         {
          "i": 284,
          "k": 2,
          "s": 0.43034809318960365
         },
         {
          "i": 285,
          "k": 2,
          "s": 0.4862724207517861
         },
         {
          "i": 286,
          "k": 2,
          "s": 0.4111238938811369
         },
         {
          "i": 287,
          "k": 2,
          "s": 0.4900971492244005
         },
         {
          "i": 288,
          "k": 2,
          "s": 0.4895564091729082
         },
         {
          "i": 289,
          "k": 2,
          "s": 0.4870965219540083
         },
         {
          "i": 290,
          "k": 2,
          "s": 0.44135919417341074
         },
         {
          "i": 291,
          "k": 2,
          "s": 0.4311434700449869
         },
         {
          "i": 292,
          "k": 2,
          "s": 0.4411171957553419
         },
         {
          "i": 293,
          "k": 2,
          "s": 0.441816552337996
         },
         {
          "i": 294,
          "k": 2,
          "s": 0.4362893638933023
         },
         {
          "i": 295,
          "k": 2,
          "s": 0.4638532025578195
         },
         {
          "i": 296,
          "k": 2,
          "s": 0.46148077908865726
         },
         {
          "i": 297,
          "k": 2,
          "s": 0.3821480402542843
         },
         {
          "i": 298,
          "k": 2,
          "s": 0.4388717880654617
         },
         {
          "i": 299,
          "k": 2,
          "s": 0.44098199801315907
         },
         {
          "i": 300,
          "k": 2,
          "s": 0.44687480368663124
         },
         {
          "i": 301,
          "k": 2,
          "s": 0.5023680179447156
         },
         {
          "i": 302,
          "k": 2,
          "s": 0.4991584786515767
         },
         {
          "i": 303,
          "k": 2,
          "s": 0.49369531643596587
         },
         {
          "i": 304,
          "k": 2,
          "s": 0.48685327849214477
         },
         {
          "i": 305,
          "k": 2,
          "s": 0.4931841312083627
         },
         {
          "i": 306,
          "k": 2,
          "s": 0.4505765457321038
         },
         {
          "i": 307,
          "k": 2,
          "s": 0.47601719483055716
         },
         {
          "i": 308,
          "k": 2,
          "s": 0.39071985838672796
         },
         {
          "i": 309,
          "k": 2,
          "s": 0.364351479108735
         },
         {
          "i": 310,
          "k": 2,
          "s": 0.24606334220130888
         },
         {
          "i": 311,
          "k": 2,
          "s": 0.40458153198502855
         },
         {
          "i": 312,
          "k": 2,
          "s": 0.30949120912275696
         },
         {
          "i": 313,
          "k": 2,
          "s": 0.3785488648464874
         },
         {
          "i": 314,
          "k": 2,
          "s": 0.38241914083046646
         },
         {
          "i": 315,
          "k": 2,
          "s": 0.3349344614047862
         },
         {
          "i": 316,
          "k": 2,
          "s": 0.2840751563390097
         },
         {
          "i": 317,
          "k": 2,
          "s": 0.34066351101649495
         },
         {
          "i": 318,
          "k": 2,
          "s": 0.41743173501052344
         },
         {
          "i": 319,
          "k": 2,
          "s": 0.41093555536605564
         },
         {
          "i": 320,
          "k": 2,
          "s": 0.48137106446258815
         },
         {
          "i": 321,
          "k": 2,
          "s": 0.4783211790197499
         },
         {
          "i": 322,
          "k": 2,
          "s": 0.4643254566048547
         },
         {
          "i": 323,
          "k": 2,
          "s": 0.3915018207942147
         },
         {
          "i": 324,
          "k": 2,
          "s": 0.4863593704934962
         },
         {
          "i": 325,
          "k": 2,
          "s": 0.46890759576989616
         },
         {
          "i": 326,
          "k": 2,
          "s": 0.48057450373084964
         },
         {
          "i": 327,
          "k": 2,
          "s": 0.45903887888679573
         },
         {
          "i": 328,
          "k": 2,
          "s": 0.4431271977584086
         },
         {
          "i": 329,
          "k": 2,
          "s": 0.4659155057716513
         },
         {
          "i": 330,
          "k": 2,
          "s": 0.46184180929077356
         },
         {
          "i": 331,
          "k": 2,
          "s": 0.4637101105762774
         },
         {
          "i": 332,
          "k": 2,
          "s": 0.49381518356999365
         },
         {
          "i": 333,
          "k": 2,
          "s": 0.47297766744589353
         },
         {
          "i": 334,
          "k": 2,
          "s": 0.4688948131813969
         },
         {
          "i": 335,
          "k": 2,
          "s": 0.4641115146938892
         },
         {
          "i": 336,
          "k": 2,
          "s": 0.44727784739500964
         },
         {
          "i": 337,
          "k": 2,
          "s": 0.43440594121218
         },
         {
          "i": 338,
          "k": 2,
          "s": 0.4599736601895883
         },
         {
          "i": 339,
          "k": 2,
          "s": 0.4484137925466086
         },
         {
          "i": 340,
          "k": 2,
          "s": 0.4404650686118129
         },
         {
          "i": 341,
          "k": 2,
          "s": 0.504034165125143
         },
         {
          "i": 342,
          "k": 2,
          "s": 0.4363737417516519
         },
         {
          "i": 343,
          "k": 2,
          "s": 0.47510032394158896
         },
         {
          "i": 344,
          "k": 2,
          "s": 0.48260218044839975
         },
         {
          "i": 345,
          "k": 2,
          "s": 0.4470146303882614
         },
         {
          "i": 346,
          "k": 2,
          "s": 0.42604836905463805
         },
         {
          "i": 347,
          "k": 2,
          "s": 0.42062763504667433
         },
         {
          "i": 348,
          "k": 2,
          "s": 0.4478031604821008
         },
         {
          "i": 349,
          "k": 2,
          "s": 0.4747778840857797
         },
         {
          "i": 350,
          "k": 2,
          "s": 0.4736078516783545
         },
         {
          "i": 351,
          "k": 2,
          "s": 0.41887164832573764
         },
         {
          "i": 352,
          "k": 2,
          "s": 0.3944240154903038
         },
         {
          "i": 353,
          "k": 2,
          "s": 0.38539311693062817
         },
         {
          "i": 354,
          "k": 2,
          "s": 0.33457407373299664
         },
         {
          "i": 355,
          "k": 2,
          "s": 0.34836220119051786
         },
         {
          "i": 356,
          "k": 2,
          "s": 0.2709347116884747
         },
         {
          "i": 357,
          "k": 2,
          "s": 0.2200328889271045
         },
         {
          "i": 358,
          "k": 2,
          "s": 0.20937627043156282
         },
         {
          "i": 359,
          "k": 2,
          "s": 0.35914847319304755
         },
         {
          "i": 360,
          "k": 2,
          "s": 0.3088336556487479
         },
         {
          "i": 361,
          "k": 2,
          "s": 0.4047061319625106
         },
         {
          "i": 362,
          "k": 2,
          "s": 0.3622787780037413
         },
         {
          "i": 363,
          "k": 2,
          "s": 0.26015438431241
         },
         {
          "i": 364,
          "k": 2,
          "s": 0.08794570096383991
         },
         {
          "i": 365,
          "k": 2,
          "s": 0.23680567001467423
         },
         {
          "i": 366,
          "k": 2,
          "s": 0.38143600570873404
         },
         {
          "i": 367,
          "k": 2,
          "s": 0.311972992920977
         },
         {
          "i": 368,
          "k": 2,
          "s": 0.12335060060555647
         },
         {
          "i": 369,
          "k": 2,
          "s": 0.06442528524786839
         },
         {
          "i": 370,
          "k": 2,
          "s": 0.054419534121057045
         },
         {
          "i": 371,
          "k": 2,
          "s": 0.15894204036844828
         },
         {
          "i": 372,
          "k": 2,
          "s": 0.11787492299798918
         },
         {
          "i": 373,
          "k": 2,
          "s": 0.39014160889335536
         },
         {
          "i": 374,
          "k": 2,
          "s": 0.3474794748601373
         },
         {
          "i": 375,
          "k": 2,
          "s": 0.3352167232990806
         },
         {
          "i": 376,
          "k": 2,
          "s": 0.43588361173159984
         },
         {
          "i": 377,
          "k": 2,
          "s": 0.4143602237037435
         },
         {
          "i": 378,
          "k": 2,
          "s": 0.4141481088034781
         },
         {
          "i": 379,
          "k": 2,
          "s": 0.44199971519861336
         },
         {
          "i": 380,
          "k": 2,
          "s": 0.157897803644791
         },
         {
          "i": 381,
          "k": 2,
          "s": 0.43042797795447085
         },
         {
          "i": 382,
          "k": 2,
          "s": 0.4514153891218279
         },
         {
          "i": 383,
          "k": 2,
          "s": 0.447176473595605
         },
         {
          "i": 384,
          "k": 2,
          "s": 0.401462086236997
         },
         {
          "i": 385,
          "k": 2,
          "s": 0.42360625856364986
         },
         {
          "i": 386,
          "k": 2,
          "s": 0.3961185744417708
         },
         {
          "i": 387,
          "k": 2,
          "s": 0.39868354671006456
         },
         {
          "i": 388,
          "k": 2,
          "s": 0.4218723719219176
         },
         {
          "i": 389,
          "k": 2,
          "s": 0.44317005935978315
         },
         {
          "i": 390,
          "k": 2,
          "s": 0.4370611882947876
         },
         {
          "i": 391,
          "k": 2,
          "s": 0.3987469016331441
         },
         {
          "i": 392,
          "k": 2,
          "s": 0.43013023874770007
         },
         {
          "i": 393,
          "k": 2,
          "s": 0.42706799212601576
         },
         {
          "i": 394,
          "k": 2,
          "s": 0.442098502295736
         },
         {
          "i": 395,
          "k": 2,
          "s": 0.4319880502433925
         },
         {
          "i": 396,
          "k": 2,
          "s": 0.42949892064003203
         },
         {
          "i": 397,
          "k": 2,
          "s": 0.4457769730254917
         },
         {
          "i": 398,
          "k": 2,
          "s": 0.3547607593407023
         },
         {
          "i": 399,
          "k": 2,
          "s": 0.42942391582880024
         },
         {
          "i": 400,
          "k": 2,
          "s": 0.4147036694006715
         },
         {
          "i": 401,
          "k": 2,
          "s": 0.43924600345928966
         },
         {
          "i": 402,
          "k": 2,
          "s": 0.4529106040091956
         },
         {
          "i": 403,
          "k": 2,
          "s": 0.41290132623873665
         },
         {
          "i": 404,
          "k": 2,
          "s": 0.35193716006957154
         },
         {
          "i": 405,
          "k": 2,
          "s": 0.23793691983353982
         },
         {
          "i": 406,
          "k": 2,
          "s": 0.3779943123184968
         },
         {
          "i": 407,
          "k": 2,
          "s": 0.37231229965573587
         },
         {
          "i": 408,
          "k": 2,
          "s": 0.4278516533289598
         },
         {
          "i": 409,
          "k": 2,
          "s": 0.3522220932074138
         },
         {
          "i": 410,
          "k": 2,
          "s": 0.25249483391335525
         },
         {
          "i": 411,
          "k": 2,
          "s": 0.3601252316281054
         },
         {
          "i": 412,
          "k": 2,
          "s": 0.3398941677859869
         },
         {
          "i": 413,
          "k": 2,
          "s": 0.3890876350168878
         },
         {
          "i": 414,
          "k": 2,
          "s": 0.31139987168743544
         },
         {
          "i": 415,
          "k": 2,
          "s": 0.38365767852138466
         },
         {
          "i": 416,
          "k": 2,
          "s": 0.3701100955888511
         },
         {
          "i": 417,
          "k": 2,
          "s": 0.4081765448258502
         },
         {
          "i": 418,
          "k": 2,
          "s": 0.22089255466848212
         },
         {
          "i": 419,
          "k": 2,
          "s": 0.37600864289767166
         },
         {
          "i": 420,
          "k": 2,
          "s": 0.4473024659558579
         },
         {
          "i": 421,
          "k": 2,
          "s": 0.45701753713613924
         },
         {
          "i": 422,
          "k": 2,
          "s": 0.4021718028434502
         },
         {
          "i": 423,
          "k": 2,
          "s": 0.35300558551135874
         },
         {
          "i": 424,
          "k": 2,
          "s": 0.3236788147522771
         },
         {
          "i": 425,
          "k": 2,
          "s": 0.388141077063371
         },
         {
          "i": 426,
          "k": 2,
          "s": 0.31968463731455854
         },
         {
          "i": 427,
          "k": 2,
          "s": 0.31175034947181124
         },
         {
          "i": 428,
          "k": 2,
          "s": 0.4044103012624125
         },
         {
          "i": 429,
          "k": 2,
          "s": 0.4024464638131283
         },
         {
          "i": 430,
          "k": 2,
          "s": 0.36350197601146117
         },
         {
          "i": 431,
          "k": 2,
          "s": 0.3571841384724871
         },
         {
          "i": 432,
          "k": 2,
          "s": 0.31332228359541026
         },
         {
          "i": 433,
          "k": 2,
          "s": 0.38867853403197017
         },
         {
          "i": 434,
          "k": 2,
          "s": 0.4102959043195
         },
         {
          "i": 435,
          "k": 2,
          "s": 0.41987797142734007
         },
         {
          "i": 436,
          "k": 2,
          "s": 0.38683402183525795
         },
         {
          "i": 437,
          "k": 2,
          "s": 0.3933707221862228
         },
         {
          "i": 438,
          "k": 2,
          "s": 0.3956887300413662
         },
         {
          "i": 439,
          "k": 2,
          "s": 0.45405826721939113
         },
         {
          "i": 440,
          "k": 2,
          "s": 0.43857302689729727
         },
         {
          "i": 441,
          "k": 2,
          "s": 0.44367050943668007
         },
         {
          "i": 442,
          "k": 2,
          "s": 0.4235166908868164
         },
         {
          "i": 443,
          "k": 2,
          "s": 0.4430705891144878
         },
         {
          "i": 444,
          "k": 2,
          "s": 0.4764861843677223
         },
         {
          "i": 445,
          "k": 2,
          "s": 0.40084009119678554
         },
         {
          "i": 446,
          "k": 2,
          "s": 0.45514333927054573
         },
         {
          "i": 447,
          "k": 2,
          "s": 0.4422857456185961
         },
         {
          "i": 448,
          "k": 2,
          "s": 0.44454059903122345
         },
         {
          "i": 449,
          "k": 2,
          "s": 0.4592791305927224
         },
         {
          "i": 450,
          "k": 2,
          "s": 0.34597863800719875
         },
         {
          "i": 451,
          "k": 2,
          "s": 0.42119393314216247
         },
         {
          "i": 452,
          "k": 2,
          "s": 0.4223588575326308
         },
         {
          "i": 453,
          "k": 2,
          "s": 0.3434617577027774
         },
         {
          "i": 454,
          "k": 2,
          "s": 0.35672277815966114
         },
         {
          "i": 455,
          "k": 2,
          "s": 0.36814267896610975
         },
         {
          "i": 456,
          "k": 2,
          "s": 0.36336183482604945
         },
         {
          "i": 457,
          "k": 2,
          "s": 0.35507845025961504
         },
         {
          "i": 458,
          "k": 2,
          "s": 0.43273765065503766
         },
         {
          "i": 459,
          "k": 2,
          "s": 0.39039839685339783
         },
         {
          "i": 460,
          "k": 2,
          "s": 0.4067304909649708
         },
         {
          "i": 461,
          "k": 2,
          "s": 0.38406844276900676
         },
         {
          "i": 462,
          "k": 2,
          "s": 0.3777417270971769
         },
         {
          "i": 463,
          "k": 2,
          "s": 0.33740249860324056
         },
         {
          "i": 464,
          "k": 2,
          "s": 0.31474913854807085
         },
         {
          "i": 465,
          "k": 2,
          "s": 0.2891510256300104
         },
         {
          "i": 466,
          "k": 2,
          "s": 0.33256222854639106
         },
         {
          "i": 467,
          "k": 2,
          "s": 0.39323829902141716
         },
         {
          "i": 468,
          "k": 2,
          "s": 0.35675935420825344
         },
         {
          "i": 469,
          "k": 2,
          "s": 0.29271721952080043
         },
         {
          "i": 470,
          "k": 2,
          "s": 0.32150411994489747
         },
         {
          "i": 471,
          "k": 2,
          "s": 0.26654532317122615
         },
         {
          "i": 472,
          "k": 2,
          "s": 0.2665392009320866
         },
         {
          "i": 473,
          "k": 2,
          "s": 0.19578779117536949
         },
         {
          "i": 474,
          "k": 2,
          "s": 0.40293128324693006
         },
         {
          "i": 475,
          "k": 2,
          "s": 0.42062770969529595
         },
         {
          "i": 476,
          "k": 2,
          "s": 0.3770241353486631
         },
         {
          "i": 477,
          "k": 2,
          "s": 0.43446464348018166
         },
         {
          "i": 478,
          "k": 2,
          "s": 0.4215851104928554
         },
         {
          "i": 479,
          "k": 2,
          "s": 0.36543153386709104
         },
         {
          "i": 480,
          "k": 2,
          "s": 0.18581200620968696
         },
         {
          "i": 481,
          "k": 2,
          "s": 0.15273970643686874
         },
         {
          "i": 482,
          "k": 2,
          "s": 0.12090268930348291
         },
         {
          "i": 483,
          "k": 2,
          "s": 0.10709990108004053
         },
         {
          "i": 484,
          "k": 2,
          "s": 0.18973974372302138
         },
         {
          "i": 485,
          "k": 2,
          "s": 0.17039241610740896
         },
         {
          "i": 486,
          "k": 2,
          "s": 0.3089631161438592
         },
         {
          "i": 487,
          "k": 2,
          "s": 0.22688226797525168
         },
         {
          "i": 488,
          "k": 2,
          "s": 0.2760770358535716
         },
         {
          "i": 489,
          "k": 2,
          "s": 0.31587035778221406
         },
         {
          "i": 490,
          "k": 2,
          "s": 0.3153857218677334
         },
         {
          "i": 491,
          "k": 2,
          "s": 0.2813350898759257
         },
         {
          "i": 492,
          "k": 2,
          "s": 0.21685206916139477
         },
         {
          "i": 493,
          "k": 2,
          "s": 0.2679663432861461
         },
         {
          "i": 494,
          "k": 2,
          "s": 0.2888697513189741
         },
         {
          "i": 495,
          "k": 2,
          "s": 0.2517712855265649
         },
         {
          "i": 496,
          "k": 2,
          "s": 0.12071657770694821
         },
         {
          "i": 497,
          "k": 2,
          "s": 0.23005086788617402
         },
         {
          "i": 498,
          "k": 2,
          "s": 0.26177835478236955
         },
         {
          "i": 499,
          "k": 2,
          "s": 0.17434747892606606
         },
         {
          "i": 500,
          "k": 2,
          "s": 0.19556705058051205
         },
         {
          "i": 501,
          "k": 2,
          "s": 0.306411644491437
         },
         {
          "i": 502,
          "k": 2,
          "s": 0.273981760475961
         },
         {
          "i": 503,
          "k": 2,
          "s": 0.27259109076734434
         },
         {
          "i": 504,
          "k": 2,
          "s": 0.27481535811499624
         },
         {
          "i": 505,
          "k": 2,
          "s": 0.2251673060142988
         },
         {
          "i": 0,
          "k": 3,
          "s": -0.028456790879286986
         },
         {
          "i": 1,
          "k": 3,
          "s": 0.37334330495538925
         },
         {
          "i": 2,
          "k": 3,
          "s": -0.032146205836239616
         },
         {
          "i": 3,
          "k": 3,
          "s": 0.016095829029326603
         },
         {
          "i": 4,
          "k": 3,
          "s": 0.02706615245335975
         },
         {
          "i": 5,
          "k": 3,
          "s": 0.17328535273769008
         },
         {
          "i": 6,
          "k": 3,
          "s": 0.266849895319763
         },
         {
          "i": 7,
          "k": 3,
          "s": 0.24776754634509957
         },
         {
          "i": 8,
          "k": 3,
          "s": 0.2811270038491439
         },
         {
          "i": 9,
          "k": 3,
          "s": 0.28334753649645394
         },
         {
          "i": 10,
          "k": 3,
          "s": 0.2751989439900455
         },
         {
          "i": 11,
          "k": 3,
          "s": 0.2849818550149613
         },
         {
          "i": 12,
          "k": 3,
          "s": 0.2407131169032225
         },
         {
          "i": 13,
          "k": 3,
          "s": 0.44195097104933756
         },
         {
          "i": 14,
          "k": 3,
          "s": 0.46508234801850035
         },
         {
          "i": 15,
          "k": 3,
          "s": 0.4442639267392626
         },
         {
          "i": 16,
          "k": 3,
          "s": 0.3451592997756011
         },
         {
          "i": 17,
          "k": 3,
          "s": 0.48422745462972505
         },
         {
          "i": 18,
          "k": 3,
          "s": 0.3929793034930599
         },
         {
          "i": 19,
          "k": 3,
          "s": 0.48392876394871875
         },
         {
          "i": 20,
          "k": 3,
          "s": 0.35614855065507955
         },
         {
          "i": 21,
          "k": 3,
          "s": 0.47983326148109107
         },
         {
          "i": 22,
          "k": 3,
          "s": 0.42519664380499245
         },
         {
          "i": 23,
          "k": 3,
          "s": 0.3867700466174503
         },
         {
          "i": 24,
          "k": 3,
          "s": 0.44605052828053626
         },
         {
          "i": 25,
          "k": 3,
          "s": 0.39947367486667285
         },
         {
          "i": 26,
          "k": 3,
          "s": 0.4640366095185463
         },
         {
          "i": 27,
          "k": 3,
          "s": 0.40835085916916813
         },
         {
          "i": 28,
          "k": 3,
          "s": 0.4365800378766611
         },
         {
          "i": 29,
          "k": 3,
          "s": 0.4173642731993904
         },
         {
          "i": 30,
          "k": 3,
          "s": 0.3492807238913722
         },
         {
          "i": 31,
          "k": 3,
          "s": 0.43786279699829067
         },
         {
          "i": 32,
          "k": 3,
          "s": 0.23604781040945655
         },
         {
          "i": 33,
          "k": 3,
          "s": 0.3884580476650886
         },
         {
          "i": 34,
          "k": 3,
          "s": 0.29952922097335377
         },
         {
          "i": 35,
          "k": 3,
          "s": 0.4764695245533216
         },
         {
          "i": 36,
          "k": 3,
          "s": 0.4790108568238266
         },
         {
          "i": 37,
          "k": 3,
          "s": 0.41507068072892384
         },
         {
          "i": 38,
          "k": 3,
          "s": 0.360134488624386
         },
         {
          "i": 39,
          "k": 3,
          "s": 0.28159685740971485
         },
         {
          "i": 40,
          "k": 3,
          "s": 0.32052855403729064
         },
         {
          "i": 41,
          "k": 3,
          "s": -0.02592693242148314
         },
         {
          "i": 42,
          "k": 3,
          "s": 0.1252851494085655
         },
         {
          "i": 43,
          "k": 3,
          "s": 0.13950673524386425
         },
         {
          "i": 44,
          "k": 3,
          "s": 0.3175778848908202
         },
         {
          "i": 45,
          "k": 3,
          "s": 0.3493763667542451
         },
         {
          "i": 46,
          "k": 3,
          "s": 0.35658999152037285
         },
         {
          "i": 47,
          "k": 3,
          "s": 0.40267199845306445
         },
         {
          "i": 48,
          "k": 3,
          "s": 0.33630413932051684
         },
         {
          "i": 49,
          "k": 3,
          "s": 0.3923482365438823
         },
         {
          "i": 50,
          "k": 3,
          "s": 0.1827787206475664
         },
         {
          "i": 51,
          "k": 3,
          "s": 0.17276246758130198
         },
         {
          "i": 52,
          "k": 3,
          "s": 0.09137200446606364
         },
         {
          "i": 53,
          "k": 3,
          "s": -0.03679881112398897
         },
         {
          "i": 54,
          "k": 3,
          "s": -0.0019394701435476724
         },
         {
          "i": 55,
          "k": 3,
          "s": 0.3377045613242946
         },
         {
          "i": 56,
          "k": 3,
          "s": 0.2764204026955235
         },
         {
          "i": 57,
          "k": 3,
          "s": 0.3287273010359364
         },
         {
          "i": 58,
          "k": 3,
          "s": -0.051900113918506685
         },
         {
          "i": 59,
          "k": 3,
          "s": 0.20733680674547172
         },
         {
          "i": 60,
          "k": 3,
          "s": 0.2735008380552575
         },
         {
          "i": 61,
          "k": 3,
          "s": 0.3072643239832238
         },
         {
          "i": 62,
          "k": 3,
          "s": 0.1399924845641385
         },
         {
          "i": 63,
          "k": 3,
          "s": -0.008063477196556534
         },
         {
          "i": 64,
          "k": 3,
          "s": 0.12136031382590506
         },
         {
          "i": 65,
          "k": 3,
          "s": 0.27843773290024965
         },
         {
          "i": 66,
          "k": 3,
          "s": 0.16440922046716355
         },
         {
          "i": 67,
          "k": 3,
          "s": 0.17267041183728737
         },
         {
          "i": 68,
          "k": 3,
          "s": 0.29204959499456373
         },
         {
          "i": 69,
          "k": 3,
          "s": 0.22393986366650398
         },
         {
          "i": 70,
          "k": 3,
          "s": 0.1718174969011016
         },
         {
          "i": 71,
          "k": 3,
          "s": 0.29166892737886674
         },
         {
          "i": 72,
          "k": 3,
          "s": 0.2090042232572339
         },
         {
          "i": 73,
          "k": 3,
          "s": 0.20103080643667004
         },
         {
          "i": 74,
          "k": 3,
          "s": 0.2128236372085549
         },
         {
          "i": 75,
          "k": 3,
          "s": 0.37210437126665097
         },
         {
          "i": 76,
          "k": 3,
          "s": 0.4435934244966374
         },
         {
          "i": 77,
          "k": 3,
          "s": 0.40436023869598714
         },
         {
          "i": 78,
          "k": 3,
          "s": 0.40289172753901725
         },
         {
          "i": 79,
          "k": 3,
          "s": 0.37906482796343843
         },
         {
          "i": 80,
          "k": 3,
          "s": 0.03432731463061489
         },
         {
          "i": 81,
          "k": 3,
          "s": 0.16137221337329377
         },
         {
          "i": 82,
          "k": 3,
          "s": -0.09032674060330259
         },
         {
          "i": 83,
          "k": 3,
          "s": 0.18030665991727768
         },
         {
          "i": 84,
          "k": 3,
          "s": 0.31822984102948015
         },
         {
          "i": 85,
          "k": 3,
          "s": 0.2527850521238231
         },
         {
          "i": 86,
          "k": 3,
          "s": 0.38165023717283664
         },
         {
          "i": 87,
          "k": 3,
          "s": 0.38847559515522123
         },
         {
          "i": 88,
          "k": 3,
          "s": 0.24560053812097304
         },
         {
          "i": 89,
          "k": 3,
          "s": 0.15567274836011868
         },
         {
          "i": 90,
          "k": 3,
          "s": 0.3646532211911816
         },
         {
          "i": 91,
          "k": 3,
          "s": 0.3706623711102438
         },
         {
          "i": 92,
          "k": 3,
          "s": 0.25327763276855464
         },
         {
          "i": 93,
          "k": 3,
          "s": 0.17481517331235863
         },
         {
          "i": 94,
          "k": 3,
          "s": 0.3410630370633998
         },
         {
          "i": 95,
          "k": 3,
          "s": 0.22484327199566534
         },
         {
          "i": 96,
          "k": 3,
          "s": 0.39736856094896944
         },
         {
          "i": 97,
          "k": 3,
          "s": 0.07789345186851682
         },
         {
          "i": 98,
          "k": 3,
          "s": 0.14187850003207547
         },
         {
          "i": 99,
          "k": 3,
          "s": -0.0404169515337659
         },
         {
          "i": 100,
          "k": 3,
          "s": 0.36628304835125525
         },
         {
          "i": 101,
          "k": 3,
          "s": 0.3508050448103488
         },
         {
          "i": 102,
          "k": 3,
          "s": 0.18181820689518202
         },
         {
          "i": 103,
          "k": 3,
          "s": 0.4469570523652029
         },
         {
          "i": 104,
          "k": 3,
          "s": 0.43852422600767427
         },
         {
          "i": 105,
          "k": 3,
          "s": 0.379065741206735
         },
         {
          "i": 106,
          "k": 3,
          "s": 0.3736390051245939
         },
         {
          "i": 107,
          "k": 3,
          "s": 0.4299490516302076
         },
         {
          "i": 108,
          "k": 3,
          "s": 0.414045253081635
         },
         {
          "i": 109,
          "k": 3,
          "s": 0.41843604173758675
         },
         {
          "i": 110,
          "k": 3,
          "s": 0.4459214344845308
         },
         {
          "i": 111,
          "k": 3,
          "s": 0.3820216383570534
         },
         {
          "i": 112,
          "k": 3,
          "s": 0.3888193674725342
         },
         {
          "i": 113,
          "k": 3,
          "s": 0.3827659753753695
         },
         {
          "i": 114,
          "k": 3,
          "s": 0.43823293662886276
         },
         {
          "i": 115,
          "k": 3,
          "s": 0.3877960088843958
         },
         {
          "i": 116,
          "k": 3,
          "s": 0.45313632529865766
         },
         {
          "i": 117,
          "k": 3,
          "s": 0.45864647331351116
         },
         {
          "i": 118,
          "k": 3,
          "s": 0.4207364461535923
         },
         {
          "i": 119,
          "k": 3,
          "s": 0.461504500546438
         },
         {
          "i": 120,
          "k": 3,
          "s": 0.3057749760418791
         },
         {
          "i": 121,
          "k": 3,
          "s": 0.28540646297091543
         },
         {
          "i": 122,
          "k": 3,
          "s": 0.2472471165111939
         },
         {
          "i": 123,
          "k": 3,
          "s": 0.16591120400319237
         },
         {
          "i": 124,
          "k": 3,
          "s": 0.23768134990833556
         },
         {
          "i": 125,
          "k": 3,
          "s": 0.2748038699881653
         },
         {
          "i": 126,
          "k": 3,
          "s": 0.13507734397015558
         },
         {
          "i": 127,
          "k": 3,
          "s": -0.07960468740916538
         },
         {
          "i": 128,
          "k": 3,
          "s": -0.1095971768181847
         },
         {
          "i": 129,
          "k": 3,
          "s": -0.067568112956234
         },
         {
          "i": 130,
          "k": 3,
          "s": 0.13489224959474744
         },
         {
          "i": 131,
          "k": 3,
          "s": 0.14057522593198934
         },
         {
          "i": 132,
          "k": 3,
          "s": 0.15894114004651838
         },
         {
          "i": 133,
          "k": 3,
          "s": -0.1278890707304875
         },
         {
          "i": 134,
          "k": 3,
          "s": -0.019628725749126552
         },
         {
          "i": 135,
          "k": 3,
          "s": -0.1032709158637205
         },
         {
          "i": 136,
          "k": 3,
          "s": -0.09484876276325904
         },
         {
          "i": 137,
          "k": 3,
          "s": -0.11344851145346657
         },
         {
          "i": 138,
          "k": 3,
          "s": -0.03038435247978566
         },
         {
          "i": 139,
          "k": 3,
          "s": -0.07599613338897082
         },
         {
          "i": 140,
          "k": 3,
          "s": -0.021030615861571733
         },
         {
          "i": 141,
          "k": 3,
          "s": 0.05852397350125249
         },
         {
          "i": 142,
          "k": 3,
          "s": 0.036238119428404714
         },
         {
          "i": 143,
          "k": 3,
          "s": 0.05980057154945939
         },
         {
          "i": 144,
          "k": 3,
          "s": 0.07057557192818953
         },
         {
          "i": 145,
          "k": 3,
          "s": 0.11086734743461002
         },
         {
          "i": 146,
          "k": 3,
          "s": 0.0724768424692519
         },
         {
          "i": 147,
          "k": 3,
          "s": 0.06375245809742724
         },
         {
          "i": 148,
          "k": 3,
          "s": 0.06128773092396067
         },
         {
          "i": 149,
          "k": 3,
          "s": 0.03996751355338146
         },
         {
          "i": 150,
          "k": 3,
          "s": -0.03628763608317154
         },
         {
          "i": 151,
          "k": 3,
          "s": -0.011757706893099518
         },
         {
          "i": 152,
          "k": 3,
          "s": -0.016636148667573236
         },
         {
          "i": 153,
          "k": 3,
          "s": 0.029412067883286652
         },
         {
          "i": 154,
          "k": 3,
          "s": -0.007014639278774215
         },
         {
          "i": 155,
          "k": 3,
          "s": 0.04238491136626499
         },
         {
          "i": 156,
          "k": 3,
          "s": 0.08327686041814364
         },
         {
          "i": 157,
          "k": 3,
          "s": 0.10514926991738294
         },
         {
          "i": 158,
          "k": 3,
          "s": 0.24557665120876482
         },
         {
          "i": 159,
          "k": 3,
          "s": -0.0755746225726438
         },
         {
          "i": 160,
          "k": 3,
          "s": 0.16020542305984653
         },
         {
          "i": 161,
          "k": 3,
          "s": 0.002692067512829799
         },
         {
          "i": 162,
          "k": 3,
          "s": 0.003778856706136091
         },
         {
          "i": 163,
          "k": 3,
          "s": 0.026963560105522144
         },
         {
          "i": 164,
          "k": 3,
          "s": 0.26444864069590324
         },
         {
          "i": 165,
          "k": 3,
          "s": 0.19744479537655235
         },
         {
          "i": 166,
          "k": 3,
          "s": 0.019733965674816778
         },
         {
          "i": 167,
          "k": 3,
          "s": 0.20208141532365131
         },
         {
          "i": 168,
          "k": 3,
          "s": 0.22022424822028608
         },
         {
          "i": 169,
          "k": 3,
          "s": 0.23754307087843163
         },
         {
          "i": 170,
          "k": 3,
          "s": 0.19524254465061774
         },
         {
          "i": 171,
          "k": 3,
          "s": 0.23013940464508909
         },
         {
          "i": 172,
          "k": 3,
          "s": 0.40255457068601075
         },
         {
          "i": 173,
          "k": 3,
          "s": 0.340847210692666
         },
         {
          "i": 174,
          "k": 3,
          "s": 0.3857667248015655
         },
         {
          "i": 175,
          "k": 3,
          "s": 0.13651243184161643
         },
         {
          "i": 176,
          "k": 3,
          "s": 0.33909869869293296
         },
         {
          "i": 177,
          "k": 3,
          "s": 0.31395572674041294
         },
         {
          "i": 178,
          "k": 3,
          "s": 0.1922620471685924
         },
         {
          "i": 179,
          "k": 3,
          "s": -0.05819045601973072
         },
         {
          "i": 180,
          "k": 3,
          "s": 0.01083783873587274
         },
         {
          "i": 181,
          "k": 3,
          "s": 0.2235652906365002
         },
         {
          "i": 182,
          "k": 3,
          "s": -0.08041427561438885
         },
         {
          "i": 183,
          "k": 3,
          "s": 0.21585148971226786
         },
         {
          "i": 184,
          "k": 3,
          "s": 0.3835489536248431
         },
         {
          "i": 185,
          "k": 3,
          "s": 0.3289337862203501
         },
         {
          "i": 186,
          "k": 3,
          "s": 0.1357292888144651
         },
         {
          "i": 187,
          "k": 3,
          "s": 0.20748949170963304
         },
         {
          "i": 188,
          "k": 3,
          "s": 0.22418825136432607
         },
         {
          "i": 189,
          "k": 3,
          "s": 0.28611626172605
         },
         {
          "i": 190,
          "k": 3,
          "s": 0.32288617521060337
         },
         {
          "i": 191,
          "k": 3,
          "s": 0.2877118339217466
         },
         {
          "i": 192,
          "k": 3,
          "s": 0.33597209286339824
         },
         {
          "i": 193,
          "k": 3,
          "s": 0.33178781194134377
         },
         {
          "i": 194,
          "k": 3,
          "s": 0.3142184645560534
         },
         {
          "i": 195,
          "k": 3,
          "s": 0.34450972331710783
         },
         {
          "i": 196,
          "k": 3,
          "s": 0.34086020635830483
         },
         {
          "i": 197,
          "k": 3,
          "s": 0.31425288669743423
         },
         {
          "i": 198,
          "k": 3,
          "s": 0.33561846501987413
         },
         {
          "i": 199,
          "k": 3,
          "s": 0.34058740494918616
         },
         {
          "i": 200,
          "k": 3,
          "s": 0.34143790134508145
         },
         {
          "i": 201,
          "k": 3,
          "s": 0.24727857732905345
         },
         {
          "i": 202,
          "k": 3,
          "s": 0.36280735390478924
         },
         {
          "i": 203,
          "k": 3,
          "s": 0.3338230957851044
         },
         {
          "i": 204,
          "k": 3,
          "s": 0.33000297654908073
         },
         {
          "i": 205,
          "k": 3,
          "s": 0.3589567890576154
         },
         {
          "i": 206,
          "k": 3,
          "s": 0.411987519515289
         },
         {
          "i": 207,
          "k": 3,
          "s": 0.47177280528495535
         },
         {
          "i": 208,
          "k": 3,
          "s": 0.2257029678837028
         },
         {
          "i": 209,
          "k": 3,
          "s": 0.23815010449273577
         },
         {
          "i": 210,
          "k": 3,
          "s": 0.2626632581901943
         },
         {
          "i": 211,
          "k": 3,
          "s": 0.2436967166629408
         },
         {
          "i": 212,
          "k": 3,
          "s": 0.24420929826393256
         },
         {
          "i": 213,
          "k": 3,
          "s": 0.30470113884158656
         },
         {
          "i": 214,
          "k": 3,
          "s": 0.28365252892232995
         },
         {
          "i": 215,
          "k": 3,
          "s": 0.390997953992674
         },
         {
          "i": 216,
          "k": 3,
          "s": 0.22054302312990148
         },
         {
          "i": 217,
          "k": 3,
          "s": 0.3077167408065703
         },
         {
          "i": 218,
          "k": 3,
          "s": 0.24089747849595633
         },
         {
          "i": 219,
          "k": 3,
          "s": 0.2116348044607509
         },
         {
          "i": 220,
          "k": 3,
          "s": 0.15213315063471622
         },
         {
          "i": 221,
          "k": 3,
          "s": 0.23887714229220824
         },
         {
          "i": 222,
          "k": 3,
          "s": 0.14481532110079587
         },
         {
          "i": 223,
          "k": 3,
          "s": 0.280846492333761
         },
         {
          "i": 224,
          "k": 3,
          "s": 0.09882313156445577
         },
         {
          "i": 225,
          "k": 3,
          "s": 0.12163063658166884
         },
         {
          "i": 226,
          "k": 3,
          "s": 0.03762655877102927
         },
         {
          "i": 227,
          "k": 3,
          "s": 0.15764493332924212
         },
         {
          "i": 228,
          "k": 3,
          "s": 0.13973626847178255
         },
         {
          "i": 229,
          "k": 3,
          "s": -0.10874793128834748
         },
         {
          "i": 230,
          "k": 3,
          "s": 0.42420305372996225
         },
         {
          "i": 231,
          "k": 3,
          "s": -0.09780285925587395
         },
         {
          "i": 232,
          "k": 3,
          "s": 0.11712098650701719
         },
         {
          "i": 233,
          "k": 3,
          "s": 0.13238155269081242
         },
         {
          "i": 234,
          "k": 3,
          "s": 0.12666575728007923
         },
         {
          "i": 235,
          "k": 3,
          "s": 0.4099083096322512
         },
         {
          "i": 236,
          "k": 3,
          "s": 0.16270591312978222
         },
         {
          "i": 237,
          "k": 3,
          "s": -0.08447896828995405
         },
         {
          "i": 238,
          "k": 3,
          "s": 0.12246758273943048
         },
         {
          "i": 239,
          "k": 3,
          "s": 0.07059360220129463
         },
         {
          "i": 240,
          "k": 3,
          "s": 0.01974970630108175
         },
         {
          "i": 241,
          "k": 3,
          "s": 0.15656270282528517
         },
         {
          "i": 242,
          "k": 3,
          "s": -0.03387582348536666
         },
         {
          "i": 243,
          "k": 3,
          "s": 0.15028543722029297
         },
         {
          "i": 244,
          "k": 3,
          "s": 0.26544230256163304
         },
         {
          "i": 245,
          "k": 3,
          "s": 0.26912718934772606
         },
         {
          "i": 246,
          "k": 3,
          "s": -0.07597047617595976
         },
         {
          "i": 247,
          "k": 3,
          "s": 0.19495515941090114
         },
         {
          "i": 248,
          "k": 3,
          "s": -0.084801817456433
         },
         {
          "i": 249,
          "k": 3,
          "s": 0.08496958929729959
         },
         {
          "i": 250,
          "k": 3,
          "s": 0.04233438089859043
         },
         {
          "i": 251,
          "k": 3,
          "s": 0.06264071168182483
         },
         {
          "i": 252,
          "k": 3,
          "s": 0.16787078323752191
         },
         {
          "i": 253,
          "k": 3,
          "s": 0.23744034367244737
         },
         {
          "i": 254,
          "k": 3,
          "s": 0.24291645000832496
         },
         {
          "i": 255,
          "k": 3,
          "s": 0.21283439083709754
         },
         {
          "i": 256,
          "k": 3,
          "s": 0.3535978298143113
         },
         {
          "i": 257,
          "k": 3,
          "s": 0.15698153169452156
         },
         {
          "i": 258,
          "k": 3,
          "s": 0.026694298284943296
         },
         {
          "i": 259,
          "k": 3,
          "s": -0.054786669248508946
         },
         {
          "i": 260,
          "k": 3,
          "s": 0.019677548173104853
         },
         {
          "i": 261,
          "k": 3,
          "s": 0.09755150464430096
         },
         {
          "i": 262,
          "k": 3,
          "s": 0.15104031056315503
         },
         {
          "i": 263,
          "k": 3,
          "s": -0.016496499395283082
         },
         {
          "i": 264,
          "k": 3,
          "s": 0.029948984625437935
         },
         {
          "i": 265,
          "k": 3,
          "s": 0.17974091083926913
         },
         {
          "i": 266,
          "k": 3,
          "s": -0.05922180991406367
         },
         {
          "i": 267,
          "k": 3,
          "s": 0.18851993582843884
         },
         {
          "i": 268,
          "k": 3,
          "s": 0.1876049484755009
         },
         {
          "i": 269,
          "k": 3,
          "s": 0.1911272278857008
         },
         {
          "i": 270,
          "k": 3,
          "s": 0.33436910952379884
         },
         {
          "i": 271,
          "k": 3,
          "s": -0.12802060233585721
         },
         {
          "i": 272,
          "k": 3,
          "s": 0.251189259684392
         },
         {
          "i": 273,
          "k": 3,
          "s": 0.04164760382348831
         },
         {
          "i": 274,
          "k": 3,
          "s": 0.06780718513156792
         },
         {
          "i": 275,
          "k": 3,
          "s": 0.16867890789069084
         },
         {
          "i": 276,
          "k": 3,
          "s": 0.08618575300437481
         },
         {
          "i": 277,
          "k": 3,
          "s": 0.08925842224196123
         },
         {
          "i": 278,
          "k": 3,
          "s": 0.07510860238018668
         },
         {
          "i": 279,
          "k": 3,
          "s": 0.16989362891345927
         },
         {
          "i": 280,
          "k": 3,
          "s": 0.24130939546038255
         },
         {
          "i": 281,
          "k": 3,
          "s": 0.21143777225711213
         },
         {
          "i": 282,
          "k": 3,
          "s": 0.14948974380474267
         },
         {
          "i": 283,
          "k": 3,
          "s": 0.23881317847696004
         },
         {
          "i": 284,
          "k": 3,
          "s": 0.34745991135644994
         },
         {
          "i": 285,
          "k": 3,
          "s": 0.23512985481141302
         },
         {
          "i": 286,
          "k": 3,
          "s": 0.18225418483068734
         },
         {
          "i": 287,
          "k": 3,
          "s": 0.19190966843180468
         },
         {
          "i": 288,
          "k": 3,
          "s": 0.16530561251029574
         },
         {
          "i": 289,
          "k": 3,
          "s": 0.2359429965893609
         },
         {
          "i": 290,
          "k": 3,
          "s": 0.2550248905343475
         },
         {
          "i": 291,
          "k": 3,
          "s": 0.2926899925587759
         },
         {
          "i": 292,
          "k": 3,
          "s": 0.23657499051054742
         },
         {
          "i": 293,
          "k": 3,
          "s": 0.1824872274100312
         },
         {
          "i": 294,
          "k": 3,
          "s": 0.2884215746668418
         },
         {
          "i": 295,
          "k": 3,
          "s": -0.08583703391503472
         },
         {
          "i": 296,
          "k": 3,
          "s": 0.16999354128549748
         },
         {
          "i": 297,
          "k": 3,
          "s": 0.3280298668606021
         },
         {
          "i": 298,
          "k": 3,
          "s": 0.27857809722559856
         },
         {
          "i": 299,
          "k": 3,
          "s": 0.34666194331883216
         },
         {
          "i": 300,
          "k": 3,
          "s": 0.3004499841098436
         },
         {
          "i": 301,
          "k": 3,
          "s": 0.03698793059391392
         },
         {
          "i": 302,
          "k": 3,
          "s": 0.13108702742737632
         },
         {
          "i": 303,
          "k": 3,
          "s": 0.25835610573806966
         },
         {
          "i": 304,
          "k": 3,
          "s": 0.1685833037958977
         },
         {
          "i": 305,
          "k": 3,
          "s": -0.08268463677997917
         },
         {
          "i": 306,
          "k": 3,
          "s": 0.07635147831965006
         },
         {
          "i": 307,
          "k": 3,
          "s": -0.06781494280458544
         },
         {
          "i": 308,
          "k": 3,
          "s": 0.36667281158802467
         },
         {
          "i": 309,
          "k": 3,
          "s": 0.48909347454587604
         },
         {
          "i": 310,
          "k": 3,
          "s": 0.4078996604605465
         },
         {
          "i": 311,
          "k": 3,
          "s": 0.41049362091905983
         },
         {
          "i": 312,
          "k": 3,
          "s": 0.4853416287373076
         },
         {
          "i": 313,
          "k": 3,
          "s": 0.45146452976988705
         },
         {
          "i": 314,
          "k": 3,
          "s": 0.4144527293309771
         },
         {
          "i": 315,
          "k": 3,
          "s": 0.4962655332979059
         },
         {
          "i": 316,
          "k": 3,
          "s": 0.48679116667195366
         },
         {
          "i": 317,
          "k": 3,
          "s": 0.4965949299707684
         },
         {
          "i": 318,
          "k": 3,
          "s": 0.44871776651338524
         },
         {
          "i": 319,
          "k": 3,
          "s": 0.47571900231799547
         },
         {
          "i": 320,
          "k": 3,
          "s": 0.3708840813486882
         },
         {
          "i": 321,
          "k": 3,
          "s": 0.3828939589900251
         },
         {
          "i": 322,
          "k": 3,
          "s": 0.4208481687621535
         },
         {
          "i": 323,
          "k": 3,
          "s": 0.48403695915102607
         },
         {
          "i": 324,
          "k": 3,
          "s": 0.31112424200769384
         },
         {
          "i": 325,
          "k": 3,
          "s": 0.18972521867792136
         },
         {
          "i": 326,
          "k": 3,
          "s": 0.280084503350984
         },
         {
          "i": 327,
          "k": 3,
          "s": 0.4017579762579585
         },
         {
          "i": 328,
          "k": 3,
          "s": 0.25238735001640233
         },
         {
          "i": 329,
          "k": 3,
          "s": 0.13888661948009262
         },
         {
          "i": 330,
          "k": 3,
          "s": 0.22032475377680183
         },
         {
          "i": 331,
          "k": 3,
          "s": 0.10074785445947787
         },
         {
          "i": 332,
          "k": 3,
          "s": 0.004864889550047824
         },
         {
          "i": 333,
          "k": 3,
          "s": 0.25533250288005616
         },
         {
          "i": 334,
          "k": 3,
          "s": 0.276449509507507
         },
         {
          "i": 335,
          "k": 3,
          "s": 0.3160276714829299
         },
         {
          "i": 336,
          "k": 3,
          "s": 0.4012065985726233
         },
         {
          "i": 337,
          "k": 3,
          "s": 0.4187814115973788
         },
         {
          "i": 338,
          "k": 3,
          "s": 0.3664114960886965
         },
         {
          "i": 339,
          "k": 3,
          "s": 0.40658509904145756
         },
         {
          "i": 340,
          "k": 3,
          "s": 0.43064747986508234
         },
         {
          "i": 341,
          "k": 3,
          "s": 0.279870729385713
         },
         {
          "i": 342,
          "k": 3,
          "s": 0.20462205560330637
         },
         {
          "i": 343,
          "k": 3,
          "s": 0.12970663261473203
         },
         {
          "i": 344,
          "k": 3,
          "s": 0.2893670995380808
         },
         {
          "i": 345,
          "k": 3,
          "s": 0.25913156936633785
         },
         {
          "i": 346,
          "k": 3,
          "s": 0.2843613728284593
         },
         {
          "i": 347,
          "k": 3,
          "s": 0.2658589968137005
         },
         {
          "i": 348,
          "k": 3,
          "s": 0.30130079660685194
         },
         {
          "i": 349,
          "k": 3,
          "s": 0.18200855200120658
         },
         {
          "i": 350,
          "k": 3,
          "s": 0.09824619431319848
         },
         {
          "i": 351,
          "k": 3,
          "s": 0.22119450015672926
         },
         {
          "i": 352,
          "k": 3,
          "s": 0.14510918227726433
         },
         {
          "i": 353,
          "k": 3,
          "s": 0.26937369354280516
         },
         {
          "i": 354,
          "k": 3,
          "s": 0.09122229672361648
         },
         {
          "i": 355,
          "k": 3,
          "s": 0.12820841785746806
         },
         {
          "i": 356,
          "k": 3,
          "s": 0.20116788615796477
         },
         {
          "i": 357,
          "k": 3,
          "s": 0.1507336543316179
         },
         {
          "i": 358,
          "k": 3,
          "s": 0.139780653302929
         },
         {
          "i": 359,
          "k": 3,
          "s": 0.2736426517654249
         },
         {
          "i": 360,
          "k": 3,
          "s": 0.22792719563557529
         },
         {
          "i": 361,
          "k": 3,
          "s": 0.32387425331647735
         },
         {
          "i": 362,
          "k": 3,
          "s": 0.2683255561836947
         },
         {
          "i": 363,
          "k": 3,
          "s": 0.18393893745612055
         },
         {
          "i": 364,
          "k": 3,
          "s": 0.06074285957945891
         },
         {
          "i": 365,
          "k": 3,
          "s": 0.14175154802351742
         },
         {
          "i": 366,
          "k": 3,
          "s": 0.28535857753938976
         },
         {
          "i": 367,
          "k": 3,
          "s": 0.23267316653831482
         },
         {
          "i": 368,
          "k": 3,
          "s": 0.05268619463770907
         },
         {
          "i": 369,
          "k": 3,
          "s": 0.031035662277942633
         },
         {
          "i": 370,
          "k": 3,
          "s": 0.02664780686374002
         },
         {
          "i": 371,
          "k": 3,
          "s": 0.0999776530983324
         },
         {
          "i": 372,
          "k": 3,
          "s": 0.07213091139912076
         },
         {
          "i": 373,
          "k": 3,
          "s": 0.30605380217876255
         },
         {
          "i": 374,
          "k": 3,
          "s": 0.269241440640004
         },
         {
          "i": 375,
          "k": 3,
          "s": 0.2723232332136576
         },
         {
          "i": 376,
          "k": 3,
          "s": 0.36763504787894763
         },
         {
          "i": 377,
          "k": 3,
          "s": 0.3376642427745451
         },
         {
          "i": 378,
          "k": 3,
          "s": 0.3496950239224046
         },
         {
          "i": 379,
          "k": 3,
          "s": 0.3711417153130302
         },
         {
          "i": 380,
          "k": 3,
          "s": 0.13858583206869768
         },
         {
          "i": 381,
          "k": 3,
          "s": 0.35903766330067655
         },
         {
          "i": 382,
          "k": 3,
          "s": 0.3684519117736801
         },
         {
          "i": 383,
          "k": 3,
          "s": 0.36273804245106556
         },
         {
          "i": 384,
          "k": 3,
          "s": 0.32865788133016083
         },
         {
          "i": 385,
          "k": 3,
          "s": 0.3483619814633985
         },
         {
          "i": 386,
          "k": 3,
          "s": 0.323678023105187
         },
         {
          "i": 387,
          "k": 3,
          "s": 0.3270151011172011
         },
         {
          "i": 388,
          "k": 3,
          "s": 0.3430255594800121
         },
         {
          "i": 389,
          "k": 3,
          "s": 0.35571635938527446
         },
         {
          "i": 390,
          "k": 3,
          "s": 0.34857416130378194
         },
         {
          "i": 391,
          "k": 3,
          "s": 0.3110504326633381
         },
         {
          "i": 392,
          "k": 3,
          "s": 0.34602312494662124
         },
         {
          "i": 393,
          "k": 3,
          "s": 0.3435129007541279
         },
         {
          "i": 394,
          "k": 3,
          "s": 0.36311407455978595
         },
         {
          "i": 395,
          "k": 3,
          "s": 0.3526446161211071
         },
         {
          "i": 396,
          "k": 3,
          "s": 0.3457811357971903
         },
         {
          "i": 397,
          "k": 3,
          "s": 0.35958965996845227
         },
         {
          "i": 398,
          "k": 3,
          "s": 0.29631244760588693
         },
         {
          "i": 399,
          "k": 3,
          "s": 0.35167556720157145
         },
         {
          "i": 400,
          "k": 3,
          "s": 0.34915871526301956
         },
         {
          "i": 401,
          "k": 3,
          "s": 0.3654439013572064
         },
         {
          "i": 402,
          "k": 3,
          "s": 0.37709879798066237
         },
         {
          "i": 403,
          "k": 3,
          "s": 0.3418437790745642
         },
         {
          "i": 404,
          "k": 3,
          "s": 0.298736999636651
         },
         {
          "i": 405,
          "k": 3,
          "s": 0.20059168071249245
         },
         {
          "i": 406,
          "k": 3,
          "s": 0.296495241453128
         },
         {
          "i": 407,
          "k": 3,
          "s": 0.2878174378872812
         },
         {
          "i": 408,
          "k": 3,
          "s": 0.3382306912243994
         },
         {
          "i": 409,
          "k": 3,
          "s": 0.29081799155286536
         },
         {
          "i": 410,
          "k": 3,
          "s": 0.21644308761504638
         },
         {
          "i": 411,
          "k": 3,
          "s": 0.30414363725466875
         },
         {
          "i": 412,
          "k": 3,
          "s": 0.27639963193305617
         },
         {
          "i": 413,
          "k": 3,
          "s": 0.32424693148925576
         },
         {
          "i": 414,
          "k": 3,
          "s": 0.2628114625540968
         },
         {
          "i": 415,
          "k": 3,
          "s": 0.3307458609045453
         },
         {
          "i": 416,
          "k": 3,
          "s": 0.31536268769473064
         },
         {
          "i": 417,
          "k": 3,
          "s": 0.35041648178711293
         },
         {
          "i": 418,
          "k": 3,
          "s": 0.1935796122868051
         },
         {
          "i": 419,
          "k": 3,
          "s": 0.3230393037420092
         },
         {
          "i": 420,
          "k": 3,
          "s": 0.3767179531538697
         },
         {
          "i": 421,
          "k": 3,
          "s": 0.37780063388894136
         },
         {
          "i": 422,
          "k": 3,
          "s": 0.31514827495067554
         },
         {
          "i": 423,
          "k": 3,
          "s": 0.2901285630031277
         },
         {
          "i": 424,
          "k": 3,
          "s": 0.25576073630403806
         },
         {
          "i": 425,
          "k": 3,
          "s": 0.33194048638662377
         },
         {
          "i": 426,
          "k": 3,
          "s": 0.2551272345432183
         },
         {
          "i": 427,
          "k": 3,
          "s": 0.2708195691175602
         },
         {
          "i": 428,
          "k": 3,
          "s": 0.33895550707110544
         },
         {
          "i": 429,
          "k": 3,
          "s": 0.34232356278381604
         },
         {
          "i": 430,
          "k": 3,
          "s": 0.294808350690167
         },
         {
          "i": 431,
          "k": 3,
          "s": 0.2946090216587788
         },
         {
          "i": 432,
          "k": 3,
          "s": 0.24102356718299767
         },
         {
          "i": 433,
          "k": 3,
          "s": 0.32414191295267525
         },
         {
          "i": 434,
          "k": 3,
          "s": 0.35097151987480324
         },
         {
          "i": 435,
          "k": 3,
          "s": 0.3637712431131883
         },
         {
          "i": 436,
          "k": 3,
          "s": 0.3346642267740929
         },
         {
          "i": 437,
          "k": 3,
          "s": 0.34034070842954856
         },
         {
          "i": 438,
          "k": 3,
          "s": 0.33794097908314125
         },
         {
          "i": 439,
          "k": 3,
          "s": 0.37489519938560956
         },
         {
          "i": 440,
          "k": 3,
          "s": 0.37302335557018185
         },
         {
          "i": 441,
          "k": 3,
          "s": 0.3710927296313027
         },
         {
          "i": 442,
          "k": 3,
          "s": 0.341519763900317
         },
         {
          "i": 443,
          "k": 3,
          "s": 0.37096744037104923
         },
         {
          "i": 444,
          "k": 3,
          "s": 0.41116110981672893
         },
         {
          "i": 445,
          "k": 3,
          "s": 0.34628804356352516
         },
         {
          "i": 446,
          "k": 3,
          "s": 0.38071941055027303
         },
         {
          "i": 447,
          "k": 3,
          "s": 0.3664744286875681
         },
         {
          "i": 448,
          "k": 3,
          "s": 0.3657280489924112
         },
         {
          "i": 449,
          "k": 3,
          "s": 0.38580942717830824
         },
         {
          "i": 450,
          "k": 3,
          "s": 0.2916096174763275
         },
         {
          "i": 451,
          "k": 3,
          "s": 0.34222383422664326
         },
         {
          "i": 452,
          "k": 3,
          "s": 0.3377458980767366
         },
         {
          "i": 453,
          "k": 3,
          "s": 0.2732281946990329
         },
         {
          "i": 454,
          "k": 3,
          "s": 0.30426808649301806
         },
         {
          "i": 455,
          "k": 3,
          "s": 0.30757674383975453
         },
         {
          "i": 456,
          "k": 3,
          "s": 0.30089932074244385
         },
         {
          "i": 457,
          "k": 3,
          "s": 0.2958027948649663
         },
         {
          "i": 458,
          "k": 3,
          "s": 0.35750685186173226
         },
         {
          "i": 459,
          "k": 3,
          "s": 0.3027292060797985
         },
         {
          "i": 460,
          "k": 3,
          "s": 0.3322196182949503
         },
         {
          "i": 461,
          "k": 3,
          "s": 0.2948009651932121
         },
         {
          "i": 462,
          "k": 3,
          "s": 0.29182222059563967
         },
         {
          "i": 463,
          "k": 3,
          "s": 0.2507306238414251
         },
         {
          "i": 464,
          "k": 3,
          "s": 0.22059755616156718
         },
         {
          "i": 465,
          "k": 3,
          "s": 0.18488083928690202
         },
         {
          "i": 466,
          "k": 3,
          "s": 0.26610260475582836
         },
         {
          "i": 467,
          "k": 3,
          "s": 0.2930986709722061
         },
         {
          "i": 468,
          "k": 3,
          "s": 0.2679039803707869
         },
         {
          "i": 469,
          "k": 3,
          "s": 0.19293324849536597
         },
         {
          "i": 470,
          "k": 3,
          "s": 0.21081788434050341
         },
         {
          "i": 471,
          "k": 3,
          "s": 0.14746980121111208
         },
         {
          "i": 472,
          "k": 3,
          "s": 0.1591945369097818
         },
         {
          "i": 473,
          "k": 3,
          "s": 0.11544862830123348
         },
         {
          "i": 474,
          "k": 3,
          "s": 0.3003493520464744
         },
         {
          "i": 475,
          "k": 3,
          "s": 0.3306265493124192
         },
         {
          "i": 476,
          "k": 3,
          "s": 0.2805348433127117
         },
         {
          "i": 477,
          "k": 3,
          "s": 0.3512912173165307
         },
         {
          "i": 478,
          "k": 3,
          "s": 0.33353534995489487
         },
         {
          "i": 479,
          "k": 3,
          "s": 0.28106803535682745
         },
         {
          "i": 480,
          "k": 3,
          "s": 0.07327601472262146
         },
         {
          "i": 481,
          "k": 3,
          "s": 0.05438706901385737
         },
         {
          "i": 482,
          "k": 3,
          "s": 0.034701579604374144
         },
         {
          "i": 483,
          "k": 3,
          "s": -0.012253948302925033
         },
         {
          "i": 484,
          "k": 3,
          "s": 0.07400049141074228
         },
         {
          "i": 485,
          "k": 3,
          "s": 0.06245191066939404
         },
         {
          "i": 486,
          "k": 3,
          "s": 0.19855143986872237
         },
         {
          "i": 487,
          "k": 3,
          "s": 0.11257472983121486
         },
         {
          "i": 488,
          "k": 3,
          "s": 0.1190283955223922
         },
         {
          "i": 489,
          "k": 3,
          "s": 0.17616282576373432
         },
         {
          "i": 490,
          "k": 3,
          "s": 0.18560475412807953
         },
         {
          "i": 491,
          "k": 3,
          "s": 0.1282971155750109
         },
         {
          "i": 492,
          "k": 3,
          "s": 0.05533669622293824
         },
         {
          "i": 493,
          "k": 3,
          "s": 0.45859839463531227
         },
         {
          "i": 494,
          "k": 3,
          "s": 0.4207419514772055
         },
         {
          "i": 495,
          "k": 3,
          "s": 0.39301148660212315
         },
         {
          "i": 496,
          "k": 3,
          "s": 0.35264809270103104
         },
         {
          "i": 497,
          "k": 3,
          "s": 0.453708067974788
         },
         {
          "i": 498,
          "k": 3,
          "s": 0.46473582411406256
         },
         {
          "i": 499,
          "k": 3,
          "s": 0.41002631795804345
         },
         {
          "i": 500,
          "k": 3,
          "s": 0.426823627636316
         },
         {
          "i": 501,
          "k": 3,
          "s": 0.41088297260469353
         },
         {
          "i": 502,
          "k": 3,
          "s": 0.4496845304554028
         },
         {
          "i": 503,
          "k": 3,
          "s": 0.33259689774546897
         },
         {
          "i": 504,
          "k": 3,
          "s": 0.3712736669433111
         },
         {
          "i": 505,
          "k": 3,
          "s": 0.42368478413113564
         },
         {
          "i": 0,
          "k": 4,
          "s": -0.038828317516780286
         },
         {
          "i": 1,
          "k": 4,
          "s": 0.3335910258395349
         },
         {
          "i": 2,
          "k": 4,
          "s": 0.025713908482666747
         },
         {
          "i": 3,
          "k": 4,
          "s": 0.08497410762514068
         },
         {
          "i": 4,
          "k": 4,
          "s": -0.0778631247309054
         },
         {
          "i": 5,
          "k": 4,
          "s": 0.07174662918089347
         },
         {
          "i": 6,
          "k": 4,
          "s": 0.18476517778205837
         },
         {
          "i": 7,
          "k": 4,
          "s": 0.22106682535982825
         },
         {
          "i": 8,
          "k": 4,
          "s": 0.25197465816318376
         },
         {
          "i": 9,
          "k": 4,
          "s": 0.22052621181933452
         },
         {
          "i": 10,
          "k": 4,
          "s": 0.2339992611482351
         },
         {
          "i": 11,
          "k": 4,
          "s": 0.21619355640654336
         },
         {
          "i": 12,
          "k": 4,
          "s": 0.12387691871647877
         },
         {
          "i": 13,
          "k": 4,
          "s": 0.41008713048712464
         },
         {
          "i": 14,
          "k": 4,
          "s": 0.4579285790487554
         },
         {
          "i": 15,
          "k": 4,
          "s": 0.40939892139767875
         },
         {
          "i": 16,
          "k": 4,
          "s": 0.2791008069568509
         },
         {
          "i": 17,
          "k": 4,
          "s": 0.479782914113589
         },
         {
          "i": 18,
          "k": 4,
          "s": 0.35004106986206374
         },
         {
          "i": 19,
          "k": 4,
          "s": 0.47103842171493493
         },
         {
          "i": 20,
          "k": 4,
          "s": 0.3947540077294124
         },
         {
          "i": 21,
          "k": 4,
          "s": 0.48258776476944365
         },
         {
          "i": 22,
          "k": 4,
          "s": 0.46098886392188754
         },
         {
          "i": 23,
          "k": 4,
          "s": 0.4244791439948924
         },
         {
          "i": 24,
          "k": 4,
          "s": 0.4705879350741111
         },
         {
          "i": 25,
          "k": 4,
          "s": 0.43077752795854696
         },
         {
          "i": 26,
          "k": 4,
          "s": 0.468247261633954
         },
         {
          "i": 27,
          "k": 4,
          "s": 0.44002881880883804
         },
         {
          "i": 28,
          "k": 4,
          "s": 0.4413832408552405
         },
         {
          "i": 29,
          "k": 4,
          "s": 0.41762437104277617
         },
         {
          "i": 30,
          "k": 4,
          "s": 0.3857254228276126
         },
         {
          "i": 31,
          "k": 4,
          "s": 0.4639776277009737
         },
         {
          "i": 32,
          "k": 4,
          "s": 0.2641342374815526
         },
         {
          "i": 33,
          "k": 4,
          "s": 0.42628554002153685
         },
         {
          "i": 34,
          "k": 4,
          "s": 0.33243686417510165
         },
         {
          "i": 35,
          "k": 4,
          "s": 0.45301274269569713
         },
         {
          "i": 36,
          "k": 4,
          "s": 0.450756045869649
         },
         {
          "i": 37,
          "k": 4,
          "s": 0.350431739312849
         },
         {
          "i": 38,
          "k": 4,
          "s": 0.2861054363483291
         },
         {
          "i": 39,
          "k": 4,
          "s": 0.4430758439940352
         },
         {
          "i": 40,
          "k": 4,
          "s": 0.4371596943106536
         },
         {
          "i": 41,
          "k": 4,
          "s": 0.1267733707914075
         },
         {
          "i": 42,
          "k": 4,
          "s": 0.04804345339458416
         },
         {
          "i": 43,
          "k": 4,
          "s": 0.03388098931662964
         },
         {
          "i": 44,
          "k": 4,
          "s": 0.1860858150224013
         },
         {
          "i": 45,
          "k": 4,
          "s": 0.23180543712429047
         },
         {
          "i": 46,
          "k": 4,
          "s": 0.24834152930691855
         },
         {
          "i": 47,
          "k": 4,
          "s": 0.3606348411461755
         },
         {
          "i": 48,
          "k": 4,
          "s": 0.306445747815819
         },
         {
          "i": 49,
          "k": 4,
          "s": 0.31128308851016173
         },
         {
          "i": 50,
          "k": 4,
          "s": 0.03090302237267617
         },
         {
          "i": 51,
          "k": 4,
          "s": 0.018417941807118088
         },
         {
          "i": 52,
          "k": 4,
          "s": 0.310648674435526
         },
         {
          "i": 53,
          "k": 4,
          "s": 0.22278546052774506
         },
         {
          "i": 54,
          "k": 4,
          "s": 0.18670161166366606
         },
         {
          "i": 55,
          "k": 4,
          "s": 0.4593571825548243
         },
         {
          "i": 56,
          "k": 4,
          "s": 0.46211664057914714
         },
         {
          "i": 57,
          "k": 4,
          "s": 0.4522459252324126
         },
         {
          "i": 58,
          "k": 4,
          "s": 0.19733835980404868
         },
         {
          "i": 59,
          "k": 4,
          "s": -0.00642350622847121
         },
         {
          "i": 60,
          "k": 4,
          "s": 0.12428237036215595
         },
         {
          "i": 61,
          "k": 4,
          "s": 0.22124663995827432
         },
         {
          "i": 62,
          "k": 4,
          "s": 0.025310590151132017
         },
         {
          "i": 63,
          "k": 4,
          "s": 0.1968163376316131
         },
         {
          "i": 64,
          "k": 4,
          "s": 0.23979136899863218
         },
         {
          "i": 65,
          "k": 4,
          "s": 0.4691474354015802
         },
         {
          "i": 66,
          "k": 4,
          "s": 0.370868879512536
         },
         {
          "i": 67,
          "k": 4,
          "s": 0.05132968028397966
         },
         {
          "i": 68,
          "k": 4,
          "s": 0.12237548592581093
         },
         {
          "i": 69,
          "k": 4,
          "s": 0.006689214631029006
         },
         {
          "i": 70,
          "k": 4,
          "s": 0.024908797646099212
         },
         {
          "i": 71,
          "k": 4,
          "s": 0.16273774421550113
         },
         {
          "i": 72,
          "k": 4,
          "s": 0.060598959267770036
         },
         {
          "i": 73,
          "k": 4,
          "s": 0.05394217777080379
         },
         {
          "i": 74,
          "k": 4,
          "s": 0.10652249436637529
         },
         {
          "i": 75,
          "k": 4,
          "s": 0.31001469450017805
         },
         {
          "i": 76,
          "k": 4,
          "s": 0.4268895992283356
         },
         {
          "i": 77,
          "k": 4,
          "s": 0.3523310771820367
         },
         {
          "i": 78,
          "k": 4,
          "s": 0.3477096637549234
         },
         {
          "i": 79,
          "k": 4,
          "s": 0.30378316537380035
         },
         {
          "i": 80,
          "k": 4,
          "s": 0.21584620929753862
         },
         {
          "i": 81,
          "k": 4,
          "s": 0.027638426899975532
         },
         {
          "i": 82,
          "k": 4,
          "s": 0.14396973291611614
         },
         {
          "i": 83,
          "k": 4,
          "s": 0.021008504907845893
         },
         {
          "i": 84,
          "k": 4,
          "s": 0.2271654428012424
         },
         {
          "i": 85,
          "k": 4,
          "s": 0.19160951423879768
         },
         {
          "i": 86,
          "k": 4,
          "s": 0.2992137987252491
         },
         {
          "i": 87,
          "k": 4,
          "s": 0.33062414396289597
         },
         {
          "i": 88,
          "k": 4,
          "s": 0.1542778652380209
         },
         {
          "i": 89,
          "k": 4,
          "s": -0.0781947071416913
         },
         {
          "i": 90,
          "k": 4,
          "s": 0.34026798157679006
         },
         {
          "i": 91,
          "k": 4,
          "s": 0.34631671451318224
         },
         {
          "i": 92,
          "k": 4,
          "s": 0.18343278998384294
         },
         {
          "i": 93,
          "k": 4,
          "s": 0.05956435261662185
         },
         {
          "i": 94,
          "k": 4,
          "s": 0.3062252427233141
         },
         {
          "i": 95,
          "k": 4,
          "s": 0.18914596161986463
         },
         {
          "i": 96,
          "k": 4,
          "s": 0.35821462241300406
         },
         {
          "i": 97,
          "k": 4,
          "s": 0.240860856539595
         },
         {
          "i": 98,
          "k": 4,
          "s": 0.1356348047644904
         },
         {
          "i": 99,
          "k": 4,
          "s": 0.07475360450522117
         },
         {
          "i": 100,
          "k": 4,
          "s": 0.3232176088800447
         },
         {
          "i": 101,
          "k": 4,
          "s": 0.3159850565190073
         },
         {
          "i": 102,
          "k": 4,
          "s": 0.19743807123477497
         },
         {
          "i": 103,
          "k": 4,
          "s": 0.4814676104981973
         },
         {
          "i": 104,
          "k": 4,
          "s": 0.46204975673238535
         },
         {
          "i": 105,
          "k": 4,
          "s": 0.4216743890731962
         },
         {
          "i": 106,
          "k": 4,
          "s": 0.41613751985567193
         },
         {
          "i": 107,
          "k": 4,
          "s": 0.46735485243178876
         },
         {
          "i": 108,
          "k": 4,
          "s": 0.4179878685710794
         },
         {
          "i": 109,
          "k": 4,
          "s": 0.45740440501308366
         },
         {
          "i": 110,
          "k": 4,
          "s": 0.43847123457157156
         },
         {
          "i": 111,
          "k": 4,
          "s": 0.3217439029897571
         },
         {
          "i": 112,
          "k": 4,
          "s": 0.42295768649339716
         },
         {
          "i": 113,
          "k": 4,
          "s": 0.4167773082145726
         },
         {
          "i": 114,
          "k": 4,
          "s": 0.4175692731169409
         },
         {
          "i": 115,
          "k": 4,
          "s": 0.42001395709985767
         },
         {
          "i": 116,
          "k": 4,
          "s": 0.4428848273040771
         },
         {
          "i": 117,
          "k": 4,
          "s": 0.4487347693736925
         },
         {
          "i": 118,
          "k": 4,
          "s": 0.44779190888180453
         },
         {
          "i": 119,
          "k": 4,
          "s": 0.46300072641402745
         },
         {
          "i": 120,
          "k": 4,
          "s": 0.3513777427139372
         },
         {
          "i": 121,
          "k": 4,
          "s": 0.335865546656663
         },
         {
          "i": 122,
          "k": 4,
          "s": 0.3014981917236952
         },
         {
          "i": 123,
          "k": 4,
          "s": 0.21998771478821388
         },
         {
          "i": 124,
          "k": 4,
          "s": 0.29319224334038363
         },
         {
          "i": 125,
          "k": 4,
          "s": 0.3264474956684583
         },
         {
          "i": 126,
          "k": 4,
          "s": 0.18727099738355957
         },
         {
          "i": 127,
          "k": 4,
          "s": 0.16115034478026813
         },
         {
          "i": 128,
          "k": 4,
          "s": 0.18835999916075596
         },
         {
          "i": 129,
          "k": 4,
          "s": 0.1469322310857435
         },
         {
          "i": 130,
          "k": 4,
          "s": 0.21534286705975225
         },
         {
          "i": 131,
          "k": 4,
          "s": 0.22111021837876987
         },
         {
          "i": 132,
          "k": 4,
          "s": 0.23201063037629532
         },
         {
          "i": 133,
          "k": 4,
          "s": 0.2062910370907507
         },
         {
          "i": 134,
          "k": 4,
          "s": -0.09292111772086142
         },
         {
          "i": 135,
          "k": 4,
          "s": 0.18405711855124252
         },
         {
          "i": 136,
          "k": 4,
          "s": 0.17788369425439077
         },
         {
          "i": 137,
          "k": 4,
          "s": 0.1909282273065317
         },
         {
          "i": 138,
          "k": 4,
          "s": -0.11802912747842687
         },
         {
          "i": 139,
          "k": 4,
          "s": 0.15905390273218922
         },
         {
          "i": 140,
          "k": 4,
          "s": -0.10256944765230624
         },
         {
          "i": 141,
          "k": 4,
          "s": 0.008662180253944052
         },
         {
          "i": 142,
          "k": 4,
          "s": 0.02308388985544585
         },
         {
          "i": 143,
          "k": 4,
          "s": 0.03093244459815936
         },
         {
          "i": 144,
          "k": 4,
          "s": 0.045731862758100705
         },
         {
          "i": 145,
          "k": 4,
          "s": 0.09345864724050934
         },
         {
          "i": 146,
          "k": 4,
          "s": 0.05195746397048673
         },
         {
          "i": 147,
          "k": 4,
          "s": 0.038567488528543525
         },
         {
          "i": 148,
          "k": 4,
          "s": 0.035270942500498004
         },
         {
          "i": 149,
          "k": 4,
          "s": 0.008689218247017183
         },
         {
          "i": 150,
          "k": 4,
          "s": -0.07055960373367098
         },
         {
          "i": 151,
          "k": 4,
          "s": -0.04425796709945451
         },
         {
          "i": 152,
          "k": 4,
          "s": -0.02785615167612543
         },
         {
          "i": 153,
          "k": 4,
          "s": 0.0005633078545655978
         },
         {
          "i": 154,
          "k": 4,
          "s": -0.018775544524152976
         },
         {
          "i": 155,
          "k": 4,
          "s": 0.0379942802130242
         },
         {
          "i": 156,
          "k": 4,
          "s": 0.06956906987445455
         },
         {
          "i": 157,
          "k": 4,
          "s": 0.10914412276659247
         },
         {
          "i": 158,
          "k": 4,
          "s": 0.19567154310898593
         },
         {
          "i": 159,
          "k": 4,
          "s": 0.0964575889883933
         },
         {
          "i": 160,
          "k": 4,
          "s": 0.03108430284778385
         },
         {
          "i": 161,
          "k": 4,
          "s": 0.2277591173010004
         },
         {
          "i": 162,
          "k": 4,
          "s": 0.25405938963553887
         },
         {
          "i": 163,
          "k": 4,
          "s": 0.2666820113349285
         },
         {
          "i": 164,
          "k": 4,
          "s": 0.27702767997906597
         },
         {
          "i": 165,
          "k": 4,
          "s": 0.2001885923096881
         },
         {
          "i": 166,
          "k": 4,
          "s": 0.2484227297874937
         },
         {
          "i": 167,
          "k": 4,
          "s": 0.22142910868855337
         },
         {
          "i": 168,
          "k": 4,
          "s": 0.20607386565876662
         },
         {
          "i": 169,
          "k": 4,
          "s": 0.21824608666395162
         },
         {
          "i": 170,
          "k": 4,
          "s": 0.2237089789342569
         },
         {
          "i": 171,
          "k": 4,
          "s": 0.25919324435810676
         },
         {
          "i": 172,
          "k": 4,
          "s": 0.38586196330818634
         },
         {
          "i": 173,
          "k": 4,
          "s": 0.2693628845554088
         },
         {
          "i": 174,
          "k": 4,
          "s": 0.3640773925660642
         },
         {
          "i": 175,
          "k": 4,
          "s": -0.1465889975816438
         },
         {
          "i": 176,
          "k": 4,
          "s": 0.27949442085256926
         },
         {
          "i": 177,
          "k": 4,
          "s": 0.2683299927842284
         },
         {
          "i": 178,
          "k": 4,
          "s": -0.05940664722072553
         },
         {
          "i": 179,
          "k": 4,
          "s": 0.07778604575459636
         },
         {
          "i": 180,
          "k": 4,
          "s": 0.22415915931706598
         },
         {
          "i": 181,
          "k": 4,
          "s": 0.1605186953966078
         },
         {
          "i": 182,
          "k": 4,
          "s": 0.13442495237915264
         },
         {
          "i": 183,
          "k": 4,
          "s": -0.09279748518320297
         },
         {
          "i": 184,
          "k": 4,
          "s": 0.3690559488629416
         },
         {
          "i": 185,
          "k": 4,
          "s": 0.3064767695739947
         },
         {
          "i": 186,
          "k": 4,
          "s": 0.2307412507149249
         },
         {
          "i": 187,
          "k": 4,
          "s": 0.29057245199389514
         },
         {
          "i": 188,
          "k": 4,
          "s": 0.36356976203396985
         },
         {
          "i": 189,
          "k": 4,
          "s": 0.2833620086619121
         },
         {
          "i": 190,
          "k": 4,
          "s": 0.4091436108961345
         },
         {
          "i": 191,
          "k": 4,
          "s": 0.4427631248913735
         },
         {
          "i": 192,
          "k": 4,
          "s": 0.38190874672642106
         },
         {
          "i": 193,
          "k": 4,
          "s": 0.48943870484717644
         },
         {
          "i": 194,
          "k": 4,
          "s": 0.48634204083667487
         },
         {
          "i": 195,
          "k": 4,
          "s": 0.2216315705239832
         },
         {
          "i": 196,
          "k": 4,
          "s": 0.3830415161168724
         },
         {
          "i": 197,
          "k": 4,
          "s": 0.3988439563688696
         },
         {
          "i": 198,
          "k": 4,
          "s": 0.3746686428092153
         },
         {
          "i": 199,
          "k": 4,
          "s": 0.4734690473127028
         },
         {
          "i": 200,
          "k": 4,
          "s": 0.473452776225291
         },
         {
          "i": 201,
          "k": 4,
          "s": 0.41656029951954465
         },
         {
          "i": 202,
          "k": 4,
          "s": 0.35094496853654933
         },
         {
          "i": 203,
          "k": 4,
          "s": 0.2372563370010382
         },
         {
          "i": 204,
          "k": 4,
          "s": 0.2129142088088556
         },
         {
          "i": 205,
          "k": 4,
          "s": 0.2809218377799636
         },
         {
          "i": 206,
          "k": 4,
          "s": 0.37017816304702866
         },
         {
          "i": 207,
          "k": 4,
          "s": 0.45358196493268443
         },
         {
          "i": 208,
          "k": 4,
          "s": 0.12180881233628871
         },
         {
          "i": 209,
          "k": 4,
          "s": 0.20339808203818366
         },
         {
          "i": 210,
          "k": 4,
          "s": 0.14988373534329613
         },
         {
          "i": 211,
          "k": 4,
          "s": 0.20903137483695433
         },
         {
          "i": 212,
          "k": 4,
          "s": 0.16003583310804514
         },
         {
          "i": 213,
          "k": 4,
          "s": 0.24582946356599877
         },
         {
          "i": 214,
          "k": 4,
          "s": 0.2350960373452483
         },
         {
          "i": 215,
          "k": 4,
          "s": 0.34012846098156935
         },
         {
          "i": 216,
          "k": 4,
          "s": 0.09322640857065667
         },
         {
          "i": 217,
          "k": 4,
          "s": 0.20792489727767605
         },
         {
          "i": 218,
          "k": 4,
          "s": 0.10872752996780766
         },
         {
          "i": 219,
          "k": 4,
          "s": -0.03669058490600796
         },
         {
          "i": 220,
          "k": 4,
          "s": 0.0798716860789912
         },
         {
          "i": 221,
          "k": 4,
          "s": 0.10654259168652302
         },
         {
          "i": 222,
          "k": 4,
          "s": 0.07572771976371317
         },
         {
          "i": 223,
          "k": 4,
          "s": 0.17078688760946392
         },
         {
          "i": 224,
          "k": 4,
          "s": 0.31277161626077477
         },
         {
          "i": 225,
          "k": 4,
          "s": 0.31036893140997623
         },
         {
          "i": 226,
          "k": 4,
          "s": 0.26051576816048405
         },
         {
          "i": 227,
          "k": 4,
          "s": 0.015249953060778587
         },
         {
          "i": 228,
          "k": 4,
          "s": 0.11245808767167131
         },
         {
          "i": 229,
          "k": 4,
          "s": -0.1380136068102923
         },
         {
          "i": 230,
          "k": 4,
          "s": 0.39784252840224354
         },
         {
          "i": 231,
          "k": 4,
          "s": 0.08563946319286653
         },
         {
          "i": 232,
          "k": 4,
          "s": 0.2851511370373109
         },
         {
          "i": 233,
          "k": 4,
          "s": 0.2931741704576455
         },
         {
          "i": 234,
          "k": 4,
          "s": 0.07462127865735235
         },
         {
          "i": 235,
          "k": 4,
          "s": 0.3771907891223455
         },
         {
          "i": 236,
          "k": 4,
          "s": 0.017043370191161422
         },
         {
          "i": 237,
          "k": 4,
          "s": 0.0637731052285333
         },
         {
          "i": 238,
          "k": 4,
          "s": 0.3513305336773359
         },
         {
          "i": 239,
          "k": 4,
          "s": 0.290212234659704
         },
         {
          "i": 240,
          "k": 4,
          "s": 0.2053835762385572
         },
         {
          "i": 241,
          "k": 4,
          "s": 0.03672176063587085
         },
         {
          "i": 242,
          "k": 4,
          "s": 0.20596174666084133
         },
         {
          "i": 243,
          "k": 4,
          "s": 0.37714035521854494
         },
         {
          "i": 244,
          "k": 4,
          "s": 0.12514363285618002
         },
         {
          "i": 245,
          "k": 4,
          "s": 0.13812282658314923
         },
         {
          "i": 246,
          "k": 4,
          "s": 0.1784019122622279
         },
         {
          "i": 247,
          "k": 4,
          "s": 0.038973986334477906
         },
         {
          "i": 248,
          "k": 4,
          "s": 0.1435585186817947
         },
         {
          "i": 249,
          "k": 4,
          "s": 0.29751059002831526
         },
         {
          "i": 250,
          "k": 4,
          "s": 0.27497635979902735
         },
         {
          "i": 251,
          "k": 4,
          "s": 0.28439045764246806
         },
         {
          "i": 252,
          "k": 4,
          "s": 0.3360021473651972
         },
         {
          "i": 253,
          "k": 4,
          "s": 0.20817182964042447
         },
         {
          "i": 254,
          "k": 4,
          "s": 0.44309861867619305
         },
         {
          "i": 255,
          "k": 4,
          "s": 0.41836356509345884
         },
         {
          "i": 256,
          "k": 4,
          "s": 0.3483264832320456
         },
         {
          "i": 257,
          "k": 4,
          "s": 0.2949777982964116
         },
         {
          "i": 258,
          "k": 4,
          "s": 0.22625118811127765
         },
         {
          "i": 259,
          "k": 4,
          "s": 0.11241864110221311
         },
         {
          "i": 260,
          "k": 4,
          "s": 0.1869157271444023
         },
         {
          "i": 261,
          "k": 4,
          "s": 0.28682349353661984
         },
         {
          "i": 262,
          "k": 4,
          "s": 0.3002658335121806
         },
         {
          "i": 263,
          "k": 4,
          "s": 0.16086465855614918
         },
         {
          "i": 264,
          "k": 4,
          "s": 0.21987645494460462
         },
         {
          "i": 265,
          "k": 4,
          "s": 0.16619641471082125
         },
         {
          "i": 266,
          "k": 4,
          "s": 0.08256754636486274
         },
         {
          "i": 267,
          "k": 4,
          "s": 0.2622565165730091
         },
         {
          "i": 268,
          "k": 4,
          "s": 0.18307331788779757
         },
         {
          "i": 269,
          "k": 4,
          "s": 0.13112455926301303
         },
         {
          "i": 270,
          "k": 4,
          "s": 0.2138987436301707
         },
         {
          "i": 271,
          "k": 4,
          "s": 0.05754733074281626
         },
         {
          "i": 272,
          "k": 4,
          "s": 0.17055504397991816
         },
         {
          "i": 273,
          "k": 4,
          "s": 0.15216702248719105
         },
         {
          "i": 274,
          "k": 4,
          "s": 0.0023538660832299607
         },
         {
          "i": 275,
          "k": 4,
          "s": 0.2725029590901259
         },
         {
          "i": 276,
          "k": 4,
          "s": 0.04940099988547786
         },
         {
          "i": 277,
          "k": 4,
          "s": -0.030993692053077226
         },
         {
          "i": 278,
          "k": 4,
          "s": 0.24180409958776672
         },
         {
          "i": 279,
          "k": 4,
          "s": 0.16680659519390173
         },
         {
          "i": 280,
          "k": 4,
          "s": 0.11787224623490189
         },
         {
          "i": 281,
          "k": 4,
          "s": 0.20232100210186943
         },
         {
          "i": 282,
          "k": 4,
          "s": 0.1467030892175869
         },
         {
          "i": 283,
          "k": 4,
          "s": 0.0634679043073243
         },
         {
          "i": 284,
          "k": 4,
          "s": 0.4756712675910765
         },
         {
          "i": 285,
          "k": 4,
          "s": 0.4433567683613554
         },
         {
          "i": 286,
          "k": 4,
          "s": 0.3830576981693429
         },
         {
          "i": 287,
          "k": 4,
          "s": 0.4311718890129044
         },
         {
          "i": 288,
          "k": 4,
          "s": 0.3973265514404781
         },
         {
          "i": 289,
          "k": 4,
          "s": 0.4574017478281618
         },
         {
          "i": 290,
          "k": 4,
          "s": 0.4013443649611935
         },
         {
          "i": 291,
          "k": 4,
          "s": 0.38421133823866627
         },
         {
          "i": 292,
          "k": 4,
          "s": 0.39783837588342774
         },
         {
          "i": 293,
          "k": 4,
          "s": 0.051072198067429464
         },
         {
          "i": 294,
          "k": 4,
          "s": 0.19160029873643047
         },
         {
          "i": 295,
          "k": 4,
          "s": 0.02053068996284635
         },
         {
          "i": 296,
          "k": 4,
          "s": 0.08593981841544318
         },
         {
          "i": 297,
          "k": 4,
          "s": 0.24946981602914264
         },
         {
          "i": 298,
          "k": 4,
          "s": 0.4677142262284075
         },
         {
          "i": 299,
          "k": 4,
          "s": 0.49784278260261017
         },
         {
          "i": 300,
          "k": 4,
          "s": 0.4590092472210655
         },
         {
          "i": 301,
          "k": 4,
          "s": 0.24514508986016903
         },
         {
          "i": 302,
          "k": 4,
          "s": 0.3333839763921811
         },
         {
          "i": 303,
          "k": 4,
          "s": 0.38373686690861497
         },
         {
          "i": 304,
          "k": 4,
          "s": 0.15832491486217826
         },
         {
          "i": 305,
          "k": 4,
          "s": 0.003219043184641057
         },
         {
          "i": 306,
          "k": 4,
          "s": 0.025668962242128113
         },
         {
          "i": 307,
          "k": 4,
          "s": -0.12363676072398977
         },
         {
          "i": 308,
          "k": 4,
          "s": 0.3119873406835544
         },
         {
          "i": 309,
          "k": 4,
          "s": 0.48988522773419374
         },
         {
          "i": 310,
          "k": 4,
          "s": 0.37353100972516795
         },
         {
          "i": 311,
          "k": 4,
          "s": 0.39567167909029877
         },
         {
          "i": 312,
          "k": 4,
          "s": 0.47532217705125057
         },
         {
          "i": 313,
          "k": 4,
          "s": 0.43039122677922503
         },
         {
          "i": 314,
          "k": 4,
          "s": 0.3712531723430148
         },
         {
          "i": 315,
          "k": 4,
          "s": 0.4840189912489823
         },
         {
          "i": 316,
          "k": 4,
          "s": 0.48533948939750804
         },
         {
          "i": 317,
          "k": 4,
          "s": 0.4853874200299694
         },
         {
          "i": 318,
          "k": 4,
          "s": 0.44228795855342484
         },
         {
          "i": 319,
          "k": 4,
          "s": 0.4541719158069486
         },
         {
          "i": 320,
          "k": 4,
          "s": 0.31748870241703886
         },
         {
          "i": 321,
          "k": 4,
          "s": 0.330651911058651
         },
         {
          "i": 322,
          "k": 4,
          "s": 0.3561149664329393
         },
         {
          "i": 323,
          "k": 4,
          "s": 0.45185873628793627
         },
         {
          "i": 324,
          "k": 4,
          "s": 0.23433205804697665
         },
         {
          "i": 325,
          "k": 4,
          "s": 0.05561035219969568
         },
         {
          "i": 326,
          "k": 4,
          "s": 0.16463510877436494
         },
         {
          "i": 327,
          "k": 4,
          "s": 0.32354311007890324
         },
         {
          "i": 328,
          "k": 4,
          "s": 0.10859465244543476
         },
         {
          "i": 329,
          "k": 4,
          "s": 0.012683276378113617
         },
         {
          "i": 330,
          "k": 4,
          "s": 0.06266419224188968
         },
         {
          "i": 331,
          "k": 4,
          "s": 0.15031085366232977
         },
         {
          "i": 332,
          "k": 4,
          "s": 0.27249515654945555
         },
         {
          "i": 333,
          "k": 4,
          "s": 0.1371375400745105
         },
         {
          "i": 334,
          "k": 4,
          "s": 0.16032501088936357
         },
         {
          "i": 335,
          "k": 4,
          "s": 0.20606197891151856
         },
         {
          "i": 336,
          "k": 4,
          "s": 0.32730611981818025
         },
         {
          "i": 337,
          "k": 4,
          "s": 0.3558914131231603
         },
         {
          "i": 338,
          "k": 4,
          "s": 0.2869177535834815
         },
         {
          "i": 339,
          "k": 4,
          "s": 0.3396271346269435
         },
         {
          "i": 340,
          "k": 4,
          "s": 0.37882588729065736
         },
         {
          "i": 341,
          "k": 4,
          "s": 0.34035047624101367
         },
         {
          "i": 342,
          "k": 4,
          "s": 0.10718168561073826
         },
         {
          "i": 343,
          "k": 4,
          "s": 0.30383953366921723
         },
         {
          "i": 344,
          "k": 4,
          "s": 0.4501555249455088
         },
         {
          "i": 345,
          "k": 4,
          "s": 0.10130908018605478
         },
         {
          "i": 346,
          "k": 4,
          "s": 0.1432467706053161
         },
         {
          "i": 347,
          "k": 4,
          "s": 0.45862054506454053
         },
         {
          "i": 348,
          "k": 4,
          "s": 0.4888111279907239
         },
         {
          "i": 349,
          "k": 4,
          "s": 0.36745212328734667
         },
         {
          "i": 350,
          "k": 4,
          "s": 0.3148835272767886
         },
         {
          "i": 351,
          "k": 4,
          "s": 0.41105102754477374
         },
         {
          "i": 352,
          "k": 4,
          "s": 0.35884496533842003
         },
         {
          "i": 353,
          "k": 4,
          "s": 0.4114562107849701
         },
         {
          "i": 354,
          "k": 4,
          "s": 0.27408245199774883
         },
         {
          "i": 355,
          "k": 4,
          "s": 0.3067826800086829
         },
         {
          "i": 356,
          "k": 4,
          "s": 0.19244218051153372
         },
         {
          "i": 357,
          "k": 4,
          "s": 0.13965055799464376
         },
         {
          "i": 358,
          "k": 4,
          "s": 0.12970437841603932
         },
         {
          "i": 359,
          "k": 4,
          "s": 0.2575948655392253
         },
         {
          "i": 360,
          "k": 4,
          "s": 0.21017928097703742
         },
         {
          "i": 361,
          "k": 4,
          "s": 0.3104344229613255
         },
         {
          "i": 362,
          "k": 4,
          "s": 0.25116740263946646
         },
         {
          "i": 363,
          "k": 4,
          "s": 0.17477176991662557
         },
         {
          "i": 364,
          "k": 4,
          "s": 0.03400068998844341
         },
         {
          "i": 365,
          "k": 4,
          "s": 0.1285578867611692
         },
         {
          "i": 366,
          "k": 4,
          "s": 0.2724982410445226
         },
         {
          "i": 367,
          "k": 4,
          "s": 0.230675795855379
         },
         {
          "i": 368,
          "k": 4,
          "s": 0.03697834634907815
         },
         {
          "i": 369,
          "k": 4,
          "s": 0.0865461097875021
         },
         {
          "i": 370,
          "k": 4,
          "s": 0.11191983667020589
         },
         {
          "i": 371,
          "k": 4,
          "s": 0.08442461110423949
         },
         {
          "i": 372,
          "k": 4,
          "s": 0.008502993240381618
         },
         {
          "i": 373,
          "k": 4,
          "s": 0.2994005993624902
         },
         {
          "i": 374,
          "k": 4,
          "s": 0.26536063575576563
         },
         {
          "i": 375,
          "k": 4,
          "s": 0.262936306529887
         },
         {
          "i": 376,
          "k": 4,
          "s": 0.363148069929465
         },
         {
          "i": 377,
          "k": 4,
          "s": 0.3266909259080446
         },
         {
          "i": 378,
          "k": 4,
          "s": 0.34735158930406496
         },
         {
          "i": 379,
          "k": 4,
          "s": 0.3671840871221532
         },
         {
          "i": 380,
          "k": 4,
          "s": 0.14107648091107006
         },
         {
          "i": 381,
          "k": 4,
          "s": 0.35306692483502256
         },
         {
          "i": 382,
          "k": 4,
          "s": 0.36067714566396014
         },
         {
          "i": 383,
          "k": 4,
          "s": 0.3540446193194916
         },
         {
          "i": 384,
          "k": 4,
          "s": 0.32995234073937474
         },
         {
          "i": 385,
          "k": 4,
          "s": 0.3456049568375623
         },
         {
          "i": 386,
          "k": 4,
          "s": 0.32256613996934647
         },
         {
          "i": 387,
          "k": 4,
          "s": 0.3263842893568061
         },
         {
          "i": 388,
          "k": 4,
          "s": 0.3398191673726483
         },
         {
          "i": 389,
          "k": 4,
          "s": 0.3463353759122968
         },
         {
          "i": 390,
          "k": 4,
          "s": 0.3366453876552121
         },
         {
          "i": 391,
          "k": 4,
          "s": 0.2975831319281367
         },
         {
          "i": 392,
          "k": 4,
          "s": 0.3401625570045814
         },
         {
          "i": 393,
          "k": 4,
          "s": 0.3320998037698306
         },
         {
          "i": 394,
          "k": 4,
          "s": 0.35598852855408725
         },
         {
          "i": 395,
          "k": 4,
          "s": 0.3416536555112003
         },
         {
          "i": 396,
          "k": 4,
          "s": 0.3331309338560635
         },
         {
          "i": 397,
          "k": 4,
          "s": 0.3498723275162793
         },
         {
          "i": 398,
          "k": 4,
          "s": 0.2977324062270885
         },
         {
          "i": 399,
          "k": 4,
          "s": 0.3484401258840165
         },
         {
          "i": 400,
          "k": 4,
          "s": 0.34842973957728895
         },
         {
          "i": 401,
          "k": 4,
          "s": 0.3592994847013027
         },
         {
          "i": 402,
          "k": 4,
          "s": 0.36912760106330134
         },
         {
          "i": 403,
          "k": 4,
          "s": 0.34058317822543427
         },
         {
          "i": 404,
          "k": 4,
          "s": 0.3026450540759571
         },
         {
          "i": 405,
          "k": 4,
          "s": 0.2031305122773528
         },
         {
          "i": 406,
          "k": 4,
          "s": 0.29332078349324986
         },
         {
          "i": 407,
          "k": 4,
          "s": 0.2763872415948949
         },
         {
          "i": 408,
          "k": 4,
          "s": 0.3306831028774625
         },
         {
          "i": 409,
          "k": 4,
          "s": 0.2880440141104833
         },
         {
          "i": 410,
          "k": 4,
          "s": 0.22232436909406805
         },
         {
          "i": 411,
          "k": 4,
          "s": 0.3077295117562693
         },
         {
          "i": 412,
          "k": 4,
          "s": 0.2803135142871094
         },
         {
          "i": 413,
          "k": 4,
          "s": 0.3282553400612931
         },
         {
          "i": 414,
          "k": 4,
          "s": 0.2684325226358446
         },
         {
          "i": 415,
          "k": 4,
          "s": 0.336521946908393
         },
         {
          "i": 416,
          "k": 4,
          "s": 0.31954355312023897
         },
         {
          "i": 417,
          "k": 4,
          "s": 0.35742442745893777
         },
         {
          "i": 418,
          "k": 4,
          "s": 0.1991485388573162
         },
         {
          "i": 419,
          "k": 4,
          "s": 0.3275750394713538
         },
         {
          "i": 420,
          "k": 4,
          "s": 0.370436342902996
         },
         {
          "i": 421,
          "k": 4,
          "s": 0.37029512760963657
         },
         {
          "i": 422,
          "k": 4,
          "s": 0.30921405064064833
         },
         {
          "i": 423,
          "k": 4,
          "s": 0.29405931836349863
         },
         {
          "i": 424,
          "k": 4,
          "s": 0.25995237972340846
         },
         {
          "i": 425,
          "k": 4,
          "s": 0.3383501553446724
         },
         {
          "i": 426,
          "k": 4,
          "s": 0.26031249842054527
         },
         {
          "i": 427,
          "k": 4,
          "s": 0.27800574800950917
         },
         {
          "i": 428,
          "k": 4,
          "s": 0.3422091226648102
         },
         {
          "i": 429,
          "k": 4,
          "s": 0.3463307977428869
         },
         {
          "i": 430,
          "k": 4,
          "s": 0.2967983222091385
         },
         {
          "i": 431,
          "k": 4,
          "s": 0.2963217377273998
         },
         {
          "i": 432,
          "k": 4,
          "s": 0.24039188518883758
         },
         {
          "i": 433,
          "k": 4,
          "s": 0.3245861520902825
         },
         {
          "i": 434,
          "k": 4,
          "s": 0.35473687058453374
         },
         {
          "i": 435,
          "k": 4,
          "s": 0.3669659845916866
         },
         {
          "i": 436,
          "k": 4,
          "s": 0.33973091438119796
         },
         {
          "i": 437,
          "k": 4,
          "s": 0.3460762423995992
         },
         {
          "i": 438,
          "k": 4,
          "s": 0.34264764179679175
         },
         {
          "i": 439,
          "k": 4,
          "s": 0.36779389594504197
         },
         {
          "i": 440,
          "k": 4,
          "s": 0.3721965507753592
         },
         {
          "i": 441,
          "k": 4,
          "s": 0.36240900279767585
         },
         {
          "i": 442,
          "k": 4,
          "s": 0.3275369448110613
         },
         {
          "i": 443,
          "k": 4,
          "s": 0.36213506574443455
         },
         {
          "i": 444,
          "k": 4,
          "s": 0.4130621292419071
         },
         {
          "i": 445,
          "k": 4,
          "s": 0.3507313357644869
         },
         {
          "i": 446,
          "k": 4,
          "s": 0.37322797059151913
         },
         {
          "i": 447,
          "k": 4,
          "s": 0.3578492965034604
         },
         {
          "i": 448,
          "k": 4,
          "s": 0.35640097233624224
         },
         {
          "i": 449,
          "k": 4,
          "s": 0.38021176604674567
         },
         {
          "i": 450,
          "k": 4,
          "s": 0.2940301109836875
         },
         {
          "i": 451,
          "k": 4,
          "s": 0.3305301798357687
         },
         {
          "i": 452,
          "k": 4,
          "s": 0.32491769981473007
         },
         {
          "i": 453,
          "k": 4,
          "s": 0.25931430043370207
         },
         {
          "i": 454,
          "k": 4,
          "s": 0.3077587796728618
         },
         {
          "i": 455,
          "k": 4,
          "s": 0.30926516215865074
         },
         {
          "i": 456,
          "k": 4,
          "s": 0.30380470673645876
         },
         {
          "i": 457,
          "k": 4,
          "s": 0.30016754097067244
         },
         {
          "i": 458,
          "k": 4,
          "s": 0.35332138296995774
         },
         {
          "i": 459,
          "k": 4,
          "s": 0.2892638311709167
         },
         {
          "i": 460,
          "k": 4,
          "s": 0.3249176156190656
         },
         {
          "i": 461,
          "k": 4,
          "s": 0.2786143141363713
         },
         {
          "i": 462,
          "k": 4,
          "s": 0.27784140677758196
         },
         {
          "i": 463,
          "k": 4,
          "s": 0.23358739381478055
         },
         {
          "i": 464,
          "k": 4,
          "s": 0.20685340951141573
         },
         {
          "i": 465,
          "k": 4,
          "s": 0.17257255455636122
         },
         {
          "i": 466,
          "k": 4,
          "s": 0.26766224793898863
         },
         {
          "i": 467,
          "k": 4,
          "s": 0.2800683787620194
         },
         {
          "i": 468,
          "k": 4,
          "s": 0.26225694506358177
         },
         {
          "i": 469,
          "k": 4,
          "s": 0.18338665984719282
         },
         {
          "i": 470,
          "k": 4,
          "s": 0.1918763909696175
         },
         {
          "i": 471,
          "k": 4,
          "s": 0.12548696008066595
         },
         {
          "i": 472,
          "k": 4,
          "s": 0.13929339567437204
         },
         {
          "i": 473,
          "k": 4,
          "s": 0.09810069033913271
         },
         {
          "i": 474,
          "k": 4,
          "s": 0.28947105953336816
         },
         {
          "i": 475,
          "k": 4,
          "s": 0.3226929849590694
         },
         {
          "i": 476,
          "k": 4,
          "s": 0.2636655828002995
         },
         {
          "i": 477,
          "k": 4,
          "s": 0.3484925020950619
         },
         {
          "i": 478,
          "k": 4,
          "s": 0.32349669402382797
         },
         {
          "i": 479,
          "k": 4,
          "s": 0.27058596080193864
         },
         {
          "i": 480,
          "k": 4,
          "s": 0.05577935321025107
         },
         {
          "i": 481,
          "k": 4,
          "s": 0.03613194679077325
         },
         {
          "i": 482,
          "k": 4,
          "s": 0.017049360512459755
         },
         {
          "i": 483,
          "k": 4,
          "s": -0.0266211949677172
         },
         {
          "i": 484,
          "k": 4,
          "s": 0.05912474720840555
         },
         {
          "i": 485,
          "k": 4,
          "s": 0.04638760050865798
         },
         {
          "i": 486,
          "k": 4,
          "s": 0.18161290198853774
         },
         {
          "i": 487,
          "k": 4,
          "s": 0.09644201178025602
         },
         {
          "i": 488,
          "k": 4,
          "s": 0.06378644915440868
         },
         {
          "i": 489,
          "k": 4,
          "s": 0.13476655554454253
         },
         {
          "i": 490,
          "k": 4,
          "s": 0.1525311742790274
         },
         {
          "i": 491,
          "k": 4,
          "s": 0.07120621398896132
         },
         {
          "i": 492,
          "k": 4,
          "s": -0.006015372184467349
         },
         {
          "i": 493,
          "k": 4,
          "s": 0.45600461441428974
         },
         {
          "i": 494,
          "k": 4,
          "s": 0.4136749769313073
         },
         {
          "i": 495,
          "k": 4,
          "s": 0.3684212254364275
         },
         {
          "i": 496,
          "k": 4,
          "s": 0.3897246727408642
         },
         {
          "i": 497,
          "k": 4,
          "s": 0.4879539587137013
         },
         {
          "i": 498,
          "k": 4,
          "s": 0.4788062779964478
         },
         {
          "i": 499,
          "k": 4,
          "s": 0.44768354285149625
         },
         {
          "i": 500,
          "k": 4,
          "s": 0.46535873631395397
         },
         {
          "i": 501,
          "k": 4,
          "s": 0.39692947549662716
         },
         {
          "i": 502,
          "k": 4,
          "s": 0.4483863197657576
         },
         {
          "i": 503,
          "k": 4,
          "s": 0.26110917707082015
         },
         {
          "i": 504,
          "k": 4,
          "s": 0.32428876104285753
         },
         {
          "i": 505,
          "k": 4,
          "s": 0.45317941228018643
         },
         {
          "i": 0,
          "k": 5,
          "s": 0.04894384576228761
         },
         {
          "i": 1,
          "k": 5,
          "s": 0.3976631481343661
         },
         {
          "i": 2,
          "k": 5,
          "s": 0.152563377535197
         },
         {
          "i": 3,
          "k": 5,
          "s": 0.0471667097202072
         },
         {
          "i": 4,
          "k": 5,
          "s": 0.059682914711786994
         },
         {
          "i": 5,
          "k": 5,
          "s": 0.20505599146071452
         },
         {
          "i": 6,
          "k": 5,
          "s": 0.26073052770414107
         },
         {
          "i": 7,
          "k": 5,
          "s": 0.26199932474110077
         },
         {
          "i": 8,
          "k": 5,
          "s": 0.20434729468931911
         },
         {
          "i": 9,
          "k": 5,
          "s": 0.2642011036994367
         },
         {
          "i": 10,
          "k": 5,
          "s": 0.26358648060145873
         },
         {
          "i": 11,
          "k": 5,
          "s": 0.27174911158051573
         },
         {
          "i": 12,
          "k": 5,
          "s": 0.20266956317984963
         },
         {
          "i": 13,
          "k": 5,
          "s": 0.42888160496600314
         },
         {
          "i": 14,
          "k": 5,
          "s": 0.41588610320314445
         },
         {
          "i": 15,
          "k": 5,
          "s": 0.42632733949675117
         },
         {
          "i": 16,
          "k": 5,
          "s": 0.327994684198185
         },
         {
          "i": 17,
          "k": 5,
          "s": 0.3879958710293573
         },
         {
          "i": 18,
          "k": 5,
          "s": 0.36286279842636826
         },
         {
          "i": 19,
          "k": 5,
          "s": 0.4129438042604814
         },
         {
          "i": 20,
          "k": 5,
          "s": 0.21527840429406453
         },
         {
          "i": 21,
          "k": 5,
          "s": 0.3816737755355152
         },
         {
          "i": 22,
          "k": 5,
          "s": 0.3031677173310209
         },
         {
          "i": 23,
          "k": 5,
          "s": 0.25218878273083145
         },
         {
          "i": 24,
          "k": 5,
          "s": 0.3280828246414036
         },
         {
          "i": 25,
          "k": 5,
          "s": 0.2910452329871287
         },
         {
          "i": 26,
          "k": 5,
          "s": 0.354606109562432
         },
         {
          "i": 27,
          "k": 5,
          "s": 0.3064416174861596
         },
         {
          "i": 28,
          "k": 5,
          "s": 0.37917521479184635
         },
         {
          "i": 29,
          "k": 5,
          "s": 0.40498115311415583
         },
         {
          "i": 30,
          "k": 5,
          "s": 0.2145155258031154
         },
         {
          "i": 31,
          "k": 5,
          "s": 0.3285920309816224
         },
         {
          "i": 32,
          "k": 5,
          "s": 0.14001956927365355
         },
         {
          "i": 33,
          "k": 5,
          "s": 0.2585191814504352
         },
         {
          "i": 34,
          "k": 5,
          "s": 0.2020326587530411
         },
         {
          "i": 35,
          "k": 5,
          "s": 0.47550599852154674
         },
         {
          "i": 36,
          "k": 5,
          "s": 0.47225301344209225
         },
         {
          "i": 37,
          "k": 5,
          "s": 0.4027354032566224
         },
         {
          "i": 38,
          "k": 5,
          "s": 0.353841829087998
         },
         {
          "i": 39,
          "k": 5,
          "s": 0.385465070789057
         },
         {
          "i": 40,
          "k": 5,
          "s": 0.39931253784450604
         },
         {
          "i": 41,
          "k": 5,
          "s": -0.01194019429392934
         },
         {
          "i": 42,
          "k": 5,
          "s": 0.08585548795694453
         },
         {
          "i": 43,
          "k": 5,
          "s": 0.09816979159722372
         },
         {
          "i": 44,
          "k": 5,
          "s": 0.28966877951414705
         },
         {
          "i": 45,
          "k": 5,
          "s": 0.30940884449055395
         },
         {
          "i": 46,
          "k": 5,
          "s": 0.3166274594222698
         },
         {
          "i": 47,
          "k": 5,
          "s": 0.38146247068453076
         },
         {
          "i": 48,
          "k": 5,
          "s": 0.23909919035790617
         },
         {
          "i": 49,
          "k": 5,
          "s": 0.35228503332660965
         },
         {
          "i": 50,
          "k": 5,
          "s": 0.09061867090533937
         },
         {
          "i": 51,
          "k": 5,
          "s": 0.11044958608076183
         },
         {
          "i": 52,
          "k": 5,
          "s": 0.1769910369584391
         },
         {
          "i": 53,
          "k": 5,
          "s": 0.08015499236833978
         },
         {
          "i": 54,
          "k": 5,
          "s": 0.1348681290792677
         },
         {
          "i": 55,
          "k": 5,
          "s": 0.43378540269741095
         },
         {
          "i": 56,
          "k": 5,
          "s": 0.41280074505206954
         },
         {
          "i": 57,
          "k": 5,
          "s": 0.42676541627290054
         },
         {
          "i": 58,
          "k": 5,
          "s": 0.07011497473583683
         },
         {
          "i": 59,
          "k": 5,
          "s": 0.11286782637786685
         },
         {
          "i": 60,
          "k": 5,
          "s": 0.19530053768636169
         },
         {
          "i": 61,
          "k": 5,
          "s": 0.25964127869303
         },
         {
          "i": 62,
          "k": 5,
          "s": 0.08849859013299288
         },
         {
          "i": 63,
          "k": 5,
          "s": 0.0754716793662874
         },
         {
          "i": 64,
          "k": 5,
          "s": 0.14328675178773032
         },
         {
          "i": 65,
          "k": 5,
          "s": 0.41486215151192074
         },
         {
          "i": 66,
          "k": 5,
          "s": 0.3099261023443671
         },
         {
          "i": 67,
          "k": 5,
          "s": 0.07686125905078278
         },
         {
          "i": 68,
          "k": 5,
          "s": 0.20432437364666256
         },
         {
          "i": 69,
          "k": 5,
          "s": 0.13791399129085213
         },
         {
          "i": 70,
          "k": 5,
          "s": 0.13817401155173192
         },
         {
          "i": 71,
          "k": 5,
          "s": 0.24454381281694082
         },
         {
          "i": 72,
          "k": 5,
          "s": 0.16488347964540373
         },
         {
          "i": 73,
          "k": 5,
          "s": 0.15956382440636718
         },
         {
          "i": 74,
          "k": 5,
          "s": 0.190074146773756
         },
         {
          "i": 75,
          "k": 5,
          "s": 0.3611246013427122
         },
         {
          "i": 76,
          "k": 5,
          "s": 0.42840494233095705
         },
         {
          "i": 77,
          "k": 5,
          "s": 0.3891902433301492
         },
         {
          "i": 78,
          "k": 5,
          "s": 0.3840940062094026
         },
         {
          "i": 79,
          "k": 5,
          "s": 0.3483470830446168
         },
         {
          "i": 80,
          "k": 5,
          "s": 0.07040000572139715
         },
         {
          "i": 81,
          "k": 5,
          "s": 0.15797934707797656
         },
         {
          "i": 82,
          "k": 5,
          "s": -0.01776804486620498
         },
         {
          "i": 83,
          "k": 5,
          "s": 0.11861705299740566
         },
         {
          "i": 84,
          "k": 5,
          "s": 0.32999486263197564
         },
         {
          "i": 85,
          "k": 5,
          "s": 0.306050233822017
         },
         {
          "i": 86,
          "k": 5,
          "s": 0.3694441162575205
         },
         {
          "i": 87,
          "k": 5,
          "s": 0.40087395741561105
         },
         {
          "i": 88,
          "k": 5,
          "s": 0.33602055474622683
         },
         {
          "i": 89,
          "k": 5,
          "s": 0.2724023029325602
         },
         {
          "i": 90,
          "k": 5,
          "s": 0.40808455048066794
         },
         {
          "i": 91,
          "k": 5,
          "s": 0.4152187175251548
         },
         {
          "i": 92,
          "k": 5,
          "s": 0.24796149859989147
         },
         {
          "i": 93,
          "k": 5,
          "s": 0.14737692329871155
         },
         {
          "i": 94,
          "k": 5,
          "s": 0.33380030681434103
         },
         {
          "i": 95,
          "k": 5,
          "s": 0.2973974593646126
         },
         {
          "i": 96,
          "k": 5,
          "s": 0.41385643204345746
         },
         {
          "i": 97,
          "k": 5,
          "s": 0.0885139388254389
         },
         {
          "i": 98,
          "k": 5,
          "s": 0.009102468037463507
         },
         {
          "i": 99,
          "k": 5,
          "s": 0.17719512337574583
         },
         {
          "i": 100,
          "k": 5,
          "s": 0.3829414317946972
         },
         {
          "i": 101,
          "k": 5,
          "s": 0.39690506015770366
         },
         {
          "i": 102,
          "k": 5,
          "s": 0.12238597691600206
         },
         {
          "i": 103,
          "k": 5,
          "s": 0.3301905799530471
         },
         {
          "i": 104,
          "k": 5,
          "s": 0.3250671139455138
         },
         {
          "i": 105,
          "k": 5,
          "s": 0.23796398161930232
         },
         {
          "i": 106,
          "k": 5,
          "s": 0.22833593730894275
         },
         {
          "i": 107,
          "k": 5,
          "s": 0.31192486426615995
         },
         {
          "i": 108,
          "k": 5,
          "s": 0.30522886188501597
         },
         {
          "i": 109,
          "k": 5,
          "s": 0.2952061143799105
         },
         {
          "i": 110,
          "k": 5,
          "s": 0.39462676912749106
         },
         {
          "i": 111,
          "k": 5,
          "s": 0.37404212622238775
         },
         {
          "i": 112,
          "k": 5,
          "s": 0.25188147969106023
         },
         {
          "i": 113,
          "k": 5,
          "s": 0.24738260308717908
         },
         {
          "i": 114,
          "k": 5,
          "s": 0.33653062462918915
         },
         {
          "i": 115,
          "k": 5,
          "s": 0.2642550878041314
         },
         {
          "i": 116,
          "k": 5,
          "s": 0.38351742056510085
         },
         {
          "i": 117,
          "k": 5,
          "s": 0.3568124683584678
         },
         {
          "i": 118,
          "k": 5,
          "s": 0.31135759178315636
         },
         {
          "i": 119,
          "k": 5,
          "s": 0.34919629691944465
         },
         {
          "i": 120,
          "k": 5,
          "s": 0.16173104225125745
         },
         {
          "i": 121,
          "k": 5,
          "s": 0.13431950091183342
         },
         {
          "i": 122,
          "k": 5,
          "s": 0.08088317593289118
         },
         {
          "i": 123,
          "k": 5,
          "s": 0.006521809039916282
         },
         {
          "i": 124,
          "k": 5,
          "s": 0.06578757727754403
         },
         {
          "i": 125,
          "k": 5,
          "s": 0.11987780106267809
         },
         {
          "i": 126,
          "k": 5,
          "s": 0.03696597319461403
         },
         {
          "i": 127,
          "k": 5,
          "s": 0.17208420044083828
         },
         {
          "i": 128,
          "k": 5,
          "s": 0.12822988678846614
         },
         {
          "i": 129,
          "k": 5,
          "s": 0.18435607585210745
         },
         {
          "i": 130,
          "k": 5,
          "s": 0.08416451515724599
         },
         {
          "i": 131,
          "k": 5,
          "s": 0.08340750286672394
         },
         {
          "i": 132,
          "k": 5,
          "s": 0.043616317906617796
         },
         {
          "i": 133,
          "k": 5,
          "s": 0.12252015057771304
         },
         {
          "i": 134,
          "k": 5,
          "s": 0.15726128067675782
         },
         {
          "i": 135,
          "k": 5,
          "s": 0.14055755450794383
         },
         {
          "i": 136,
          "k": 5,
          "s": 0.15431443131359068
         },
         {
          "i": 137,
          "k": 5,
          "s": 0.12198246891125264
         },
         {
          "i": 138,
          "k": 5,
          "s": 0.2093280316228736
         },
         {
          "i": 139,
          "k": 5,
          "s": 0.17109047932693022
         },
         {
          "i": 140,
          "k": 5,
          "s": 0.20444029678830555
         },
         {
          "i": 141,
          "k": 5,
          "s": 0.22903650209062154
         },
         {
          "i": 142,
          "k": 5,
          "s": 0.11407688367038238
         },
         {
          "i": 143,
          "k": 5,
          "s": 0.1897552358723955
         },
         {
          "i": 144,
          "k": 5,
          "s": 0.1947641405841427
         },
         {
          "i": 145,
          "k": 5,
          "s": 0.07522490067826615
         },
         {
          "i": 146,
          "k": 5,
          "s": 0.0978911131373339
         },
         {
          "i": 147,
          "k": 5,
          "s": 0.1884570317355685
         },
         {
          "i": 148,
          "k": 5,
          "s": 0.18104858045628802
         },
         {
          "i": 149,
          "k": 5,
          "s": 0.16586606477159793
         },
         {
          "i": 150,
          "k": 5,
          "s": 0.0868848181049402
         },
         {
          "i": 151,
          "k": 5,
          "s": 0.11005567886942358
         },
         {
          "i": 152,
          "k": 5,
          "s": 0.18271648709845156
         },
         {
          "i": 153,
          "k": 5,
          "s": 0.12062385765920403
         },
         {
          "i": 154,
          "k": 5,
          "s": 0.22587238943550292
         },
         {
          "i": 155,
          "k": 5,
          "s": 0.15616800234728123
         },
         {
          "i": 156,
          "k": 5,
          "s": -0.0161296635042969
         },
         {
          "i": 157,
          "k": 5,
          "s": 0.1966126955212304
         },
         {
          "i": 158,
          "k": 5,
          "s": 0.15231691544504966
         },
         {
          "i": 159,
          "k": 5,
          "s": 0.01922277476544887
         },
         {
          "i": 160,
          "k": 5,
          "s": 0.30413667066417527
         },
         {
          "i": 161,
          "k": 5,
          "s": 0.12979184081371387
         },
         {
          "i": 162,
          "k": 5,
          "s": 0.24972498461334702
         },
         {
          "i": 163,
          "k": 5,
          "s": 0.2336459078000216
         },
         {
          "i": 164,
          "k": 5,
          "s": 0.14155021022320635
         },
         {
          "i": 165,
          "k": 5,
          "s": 0.12994358968995134
         },
         {
          "i": 166,
          "k": 5,
          "s": 0.1179987557521438
         },
         {
          "i": 167,
          "k": 5,
          "s": 0.1296831287572715
         },
         {
          "i": 168,
          "k": 5,
          "s": 0.13439308560612828
         },
         {
          "i": 169,
          "k": 5,
          "s": 0.14228592979830568
         },
         {
          "i": 170,
          "k": 5,
          "s": 0.08012360184892775
         },
         {
          "i": 171,
          "k": 5,
          "s": 0.10733239724796739
         },
         {
          "i": 172,
          "k": 5,
          "s": 0.4094874911052171
         },
         {
          "i": 173,
          "k": 5,
          "s": 0.4026606815345988
         },
         {
          "i": 174,
          "k": 5,
          "s": 0.41112423777069007
         },
         {
          "i": 175,
          "k": 5,
          "s": 0.20818047246154947
         },
         {
          "i": 176,
          "k": 5,
          "s": 0.3560043360942772
         },
         {
          "i": 177,
          "k": 5,
          "s": 0.37405845907740987
         },
         {
          "i": 178,
          "k": 5,
          "s": 0.3120725258573239
         },
         {
          "i": 179,
          "k": 5,
          "s": 0.19370176622714652
         },
         {
          "i": 180,
          "k": 5,
          "s": 0.1605305467918562
         },
         {
          "i": 181,
          "k": 5,
          "s": 0.29995716337519573
         },
         {
          "i": 182,
          "k": 5,
          "s": 0.22870933337690746
         },
         {
          "i": 183,
          "k": 5,
          "s": 0.32009082073016826
         },
         {
          "i": 184,
          "k": 5,
          "s": 0.4024839362232433
         },
         {
          "i": 185,
          "k": 5,
          "s": 0.37463149433608134
         },
         {
          "i": 186,
          "k": 5,
          "s": -0.02076029222669651
         },
         {
          "i": 187,
          "k": 5,
          "s": 0.22225795402921744
         },
         {
          "i": 188,
          "k": 5,
          "s": 0.28243949466019347
         },
         {
          "i": 189,
          "k": 5,
          "s": 0.2963216931412159
         },
         {
          "i": 190,
          "k": 5,
          "s": 0.3843846477593905
         },
         {
          "i": 191,
          "k": 5,
          "s": 0.3705504746982138
         },
         {
          "i": 192,
          "k": 5,
          "s": 0.3846381587357517
         },
         {
          "i": 193,
          "k": 5,
          "s": 0.43402869732376337
         },
         {
          "i": 194,
          "k": 5,
          "s": 0.4244900777308085
         },
         {
          "i": 195,
          "k": 5,
          "s": 0.3589158092091964
         },
         {
          "i": 196,
          "k": 5,
          "s": 0.40775832896052
         },
         {
          "i": 197,
          "k": 5,
          "s": 0.3909580752834625
         },
         {
          "i": 198,
          "k": 5,
          "s": 0.4002998141735572
         },
         {
          "i": 199,
          "k": 5,
          "s": 0.445318610630863
         },
         {
          "i": 200,
          "k": 5,
          "s": 0.4459305628051903
         },
         {
          "i": 201,
          "k": 5,
          "s": 0.36491775609942934
         },
         {
          "i": 202,
          "k": 5,
          "s": 0.4160542042041432
         },
         {
          "i": 203,
          "k": 5,
          "s": 0.355691388988421
         },
         {
          "i": 204,
          "k": 5,
          "s": 0.3456944175215405
         },
         {
          "i": 205,
          "k": 5,
          "s": 0.33751992847349555
         },
         {
          "i": 206,
          "k": 5,
          "s": 0.4224889648587379
         },
         {
          "i": 207,
          "k": 5,
          "s": 0.44123223936857203
         },
         {
          "i": 208,
          "k": 5,
          "s": 0.25501963038562947
         },
         {
          "i": 209,
          "k": 5,
          "s": 0.20683402728215017
         },
         {
          "i": 210,
          "k": 5,
          "s": 0.2634820093370076
         },
         {
          "i": 211,
          "k": 5,
          "s": 0.2071871807391319
         },
         {
          "i": 212,
          "k": 5,
          "s": 0.23583367379573394
         },
         {
          "i": 213,
          "k": 5,
          "s": 0.32516162562345696
         },
         {
          "i": 214,
          "k": 5,
          "s": 0.24431164866114086
         },
         {
          "i": 215,
          "k": 5,
          "s": 0.3987711342557717
         },
         {
          "i": 216,
          "k": 5,
          "s": 0.2842591165002627
         },
         {
          "i": 217,
          "k": 5,
          "s": 0.3798230965623848
         },
         {
          "i": 218,
          "k": 5,
          "s": 0.30100089285294573
         },
         {
          "i": 219,
          "k": 5,
          "s": 0.3169263518221126
         },
         {
          "i": 220,
          "k": 5,
          "s": 0.29929932721620334
         },
         {
          "i": 221,
          "k": 5,
          "s": 0.26379786890163415
         },
         {
          "i": 222,
          "k": 5,
          "s": 0.3031954158955299
         },
         {
          "i": 223,
          "k": 5,
          "s": 0.37240752879491457
         },
         {
          "i": 224,
          "k": 5,
          "s": 0.08010829164117872
         },
         {
          "i": 225,
          "k": 5,
          "s": 0.036703165460768794
         },
         {
          "i": 226,
          "k": 5,
          "s": 0.14167582852961302
         },
         {
          "i": 227,
          "k": 5,
          "s": 0.29518755875904923
         },
         {
          "i": 228,
          "k": 5,
          "s": 0.028517590450326757
         },
         {
          "i": 229,
          "k": 5,
          "s": 0.1594257956362195
         },
         {
          "i": 230,
          "k": 5,
          "s": 0.44182796798916857
         },
         {
          "i": 231,
          "k": 5,
          "s": 0.24120740379460415
         },
         {
          "i": 232,
          "k": 5,
          "s": 0.05322429885063329
         },
         {
          "i": 233,
          "k": 5,
          "s": 0.031828080532592784
         },
         {
          "i": 234,
          "k": 5,
          "s": 0.2896602448249783
         },
         {
          "i": 235,
          "k": 5,
          "s": 0.430690082951653
         },
         {
          "i": 236,
          "k": 5,
          "s": 0.2902263747508026
         },
         {
          "i": 237,
          "k": 5,
          "s": 0.22236799971043908
         },
         {
          "i": 238,
          "k": 5,
          "s": 0.22929634840241775
         },
         {
          "i": 239,
          "k": 5,
          "s": 0.15326107560593916
         },
         {
          "i": 240,
          "k": 5,
          "s": 0.07615343149323894
         },
         {
          "i": 241,
          "k": 5,
          "s": 0.07999708435040831
         },
         {
          "i": 242,
          "k": 5,
          "s": 0.06951571998676243
         },
         {
          "i": 243,
          "k": 5,
          "s": 0.2688392568047224
         },
         {
          "i": 244,
          "k": 5,
          "s": 0.18734220111265254
         },
         {
          "i": 245,
          "k": 5,
          "s": 0.18807978919661839
         },
         {
          "i": 246,
          "k": 5,
          "s": 0.04763276917492565
         },
         {
          "i": 247,
          "k": 5,
          "s": 0.13329352190623567
         },
         {
          "i": 248,
          "k": 5,
          "s": 0.007344675783845567
         },
         {
          "i": 249,
          "k": 5,
          "s": 0.18250101276429576
         },
         {
          "i": 250,
          "k": 5,
          "s": 0.1524416094800929
         },
         {
          "i": 251,
          "k": 5,
          "s": 0.16743821333684383
         },
         {
          "i": 252,
          "k": 5,
          "s": 0.24790877773972064
         },
         {
          "i": 253,
          "k": 5,
          "s": 0.24039750645914493
         },
         {
          "i": 254,
          "k": 5,
          "s": 0.3889253814707351
         },
         {
          "i": 255,
          "k": 5,
          "s": 0.3637930475435006
         },
         {
          "i": 256,
          "k": 5,
          "s": 0.40558265895774614
         },
         {
          "i": 257,
          "k": 5,
          "s": 0.014558567261646727
         },
         {
          "i": 258,
          "k": 5,
          "s": 0.12233836005371279
         },
         {
          "i": 259,
          "k": 5,
          "s": 0.17148051350317295
         },
         {
          "i": 260,
          "k": 5,
          "s": 0.11941339070547519
         },
         {
          "i": 261,
          "k": 5,
          "s": 0.055054040744385246
         },
         {
          "i": 262,
          "k": 5,
          "s": 0.0018097594001027506
         },
         {
          "i": 263,
          "k": 5,
          "s": 0.14729039837036795
         },
         {
          "i": 264,
          "k": 5,
          "s": 0.11820215347087004
         },
         {
          "i": 265,
          "k": 5,
          "s": 0.20845012468504154
         },
         {
          "i": 266,
          "k": 5,
          "s": 0.16535276954544986
         },
         {
          "i": 267,
          "k": 5,
          "s": 0.05411045731646458
         },
         {
          "i": 268,
          "k": 5,
          "s": 0.06338581646569363
         },
         {
          "i": 269,
          "k": 5,
          "s": 0.19909709917278462
         },
         {
          "i": 270,
          "k": 5,
          "s": 0.28911383453271355
         },
         {
          "i": 271,
          "k": 5,
          "s": 0.07601908720691675
         },
         {
          "i": 272,
          "k": 5,
          "s": 0.27609747027085574
         },
         {
          "i": 273,
          "k": 5,
          "s": 0.1905845724659443
         },
         {
          "i": 274,
          "k": 5,
          "s": 0.10831814179183541
         },
         {
          "i": 275,
          "k": 5,
          "s": 0.16701584898642696
         },
         {
          "i": 276,
          "k": 5,
          "s": 0.12320337992964847
         },
         {
          "i": 277,
          "k": 5,
          "s": 0.06701621473551911
         },
         {
          "i": 278,
          "k": 5,
          "s": 0.12116404648015433
         },
         {
          "i": 279,
          "k": 5,
          "s": 0.1278868140407886
         },
         {
          "i": 280,
          "k": 5,
          "s": 0.1319007965852611
         },
         {
          "i": 281,
          "k": 5,
          "s": 0.1804085196547799
         },
         {
          "i": 282,
          "k": 5,
          "s": 0.055884625412142674
         },
         {
          "i": 283,
          "k": 5,
          "s": 0.1691125172699477
         },
         {
          "i": 284,
          "k": 5,
          "s": 0.4501642065770577
         },
         {
          "i": 285,
          "k": 5,
          "s": 0.3674364140523333
         },
         {
          "i": 286,
          "k": 5,
          "s": 0.32687727201518524
         },
         {
          "i": 287,
          "k": 5,
          "s": 0.341086794022435
         },
         {
          "i": 288,
          "k": 5,
          "s": 0.30367939504791774
         },
         {
          "i": 289,
          "k": 5,
          "s": 0.3764158027070639
         },
         {
          "i": 290,
          "k": 5,
          "s": 0.3464529755300997
         },
         {
          "i": 291,
          "k": 5,
          "s": 0.35504237722048915
         },
         {
          "i": 292,
          "k": 5,
          "s": 0.340267045994859
         },
         {
          "i": 293,
          "k": 5,
          "s": 0.1538498038611269
         },
         {
          "i": 294,
          "k": 5,
          "s": 0.2658450673583458
         },
         {
          "i": 295,
          "k": 5,
          "s": 0.09075828665888996
         },
         {
          "i": 296,
          "k": 5,
          "s": 0.19085153074773364
         },
         {
          "i": 297,
          "k": 5,
          "s": 0.2925642093622748
         },
         {
          "i": 298,
          "k": 5,
          "s": 0.41162114859138776
         },
         {
          "i": 299,
          "k": 5,
          "s": 0.4552869499107105
         },
         {
          "i": 300,
          "k": 5,
          "s": 0.40696104842063474
         },
         {
          "i": 301,
          "k": 5,
          "s": 0.11802920613586998
         },
         {
          "i": 302,
          "k": 5,
          "s": 0.22273915664769361
         },
         {
          "i": 303,
          "k": 5,
          "s": 0.30173317810974254
         },
         {
          "i": 304,
          "k": 5,
          "s": 0.11494533859952849
         },
         {
          "i": 305,
          "k": 5,
          "s": 0.1125473433209726
         },
         {
          "i": 306,
          "k": 5,
          "s": 0.033842741480616945
         },
         {
          "i": 307,
          "k": 5,
          "s": 0.1294865373447346
         },
         {
          "i": 308,
          "k": 5,
          "s": 0.4218325983632297
         },
         {
          "i": 309,
          "k": 5,
          "s": 0.4666488755514827
         },
         {
          "i": 310,
          "k": 5,
          "s": 0.3190550164638267
         },
         {
          "i": 311,
          "k": 5,
          "s": 0.4323448073771665
         },
         {
          "i": 312,
          "k": 5,
          "s": 0.4145731804982785
         },
         {
          "i": 313,
          "k": 5,
          "s": 0.4726889501407169
         },
         {
          "i": 314,
          "k": 5,
          "s": 0.4583063560928595
         },
         {
          "i": 315,
          "k": 5,
          "s": 0.4334655764100379
         },
         {
          "i": 316,
          "k": 5,
          "s": 0.3815982868419565
         },
         {
          "i": 317,
          "k": 5,
          "s": 0.4375291791582372
         },
         {
          "i": 318,
          "k": 5,
          "s": 0.4744847882440494
         },
         {
          "i": 319,
          "k": 5,
          "s": 0.47413026149029946
         },
         {
          "i": 320,
          "k": 5,
          "s": 0.38851176957122624
         },
         {
          "i": 321,
          "k": 5,
          "s": 0.3975873276199342
         },
         {
          "i": 322,
          "k": 5,
          "s": 0.40896850365836823
         },
         {
          "i": 323,
          "k": 5,
          "s": 0.46275709047605995
         },
         {
          "i": 324,
          "k": 5,
          "s": 0.324778211830986
         },
         {
          "i": 325,
          "k": 5,
          "s": 0.1735561424456311
         },
         {
          "i": 326,
          "k": 5,
          "s": 0.2656602950335457
         },
         {
          "i": 327,
          "k": 5,
          "s": 0.37777566054185885
         },
         {
          "i": 328,
          "k": 5,
          "s": 0.20848897076952844
         },
         {
          "i": 329,
          "k": 5,
          "s": 0.11080606737949927
         },
         {
          "i": 330,
          "k": 5,
          "s": 0.18059812759627414
         },
         {
          "i": 331,
          "k": 5,
          "s": 0.03693519680273827
         },
         {
          "i": 332,
          "k": 5,
          "s": 0.15143107795254596
         },
         {
          "i": 333,
          "k": 5,
          "s": 0.2362191492092125
         },
         {
          "i": 334,
          "k": 5,
          "s": 0.252525513926498
         },
         {
          "i": 335,
          "k": 5,
          "s": 0.28605214691049274
         },
         {
          "i": 336,
          "k": 5,
          "s": 0.37584190712278354
         },
         {
          "i": 337,
          "k": 5,
          "s": 0.39438477348973466
         },
         {
          "i": 338,
          "k": 5,
          "s": 0.35020610229835536
         },
         {
          "i": 339,
          "k": 5,
          "s": 0.38709299436457756
         },
         {
          "i": 340,
          "k": 5,
          "s": 0.4165446210696705
         },
         {
          "i": 341,
          "k": 5,
          "s": 0.3041076169330724
         },
         {
          "i": 342,
          "k": 5,
          "s": 0.2012097885533708
         },
         {
          "i": 343,
          "k": 5,
          "s": 0.21020928479787637
         },
         {
          "i": 344,
          "k": 5,
          "s": 0.38097322952848767
         },
         {
          "i": 345,
          "k": 5,
          "s": 0.1940814272471263
         },
         {
          "i": 346,
          "k": 5,
          "s": 0.2196056823238527
         },
         {
          "i": 347,
          "k": 5,
          "s": 0.40803835577467884
         },
         {
          "i": 348,
          "k": 5,
          "s": 0.4372401183163577
         },
         {
          "i": 349,
          "k": 5,
          "s": 0.2827412095450066
         },
         {
          "i": 350,
          "k": 5,
          "s": 0.21889465132906383
         },
         {
          "i": 351,
          "k": 5,
          "s": 0.3501631390387482
         },
         {
          "i": 352,
          "k": 5,
          "s": 0.29472772931586255
         },
         {
          "i": 353,
          "k": 5,
          "s": 0.37256090087095795
         },
         {
          "i": 354,
          "k": 5,
          "s": 0.22483306225243127
         },
         {
          "i": 355,
          "k": 5,
          "s": 0.2567703828944383
         },
         {
          "i": 356,
          "k": 5,
          "s": 0.023372976135746404
         },
         {
          "i": 357,
          "k": 5,
          "s": 0.1035764380928752
         },
         {
          "i": 358,
          "k": 5,
          "s": 0.10779031158442487
         },
         {
          "i": 359,
          "k": 5,
          "s": 0.4251301277234617
         },
         {
          "i": 360,
          "k": 5,
          "s": 0.3557722928581648
         },
         {
          "i": 361,
          "k": 5,
          "s": 0.42613808442708323
         },
         {
          "i": 362,
          "k": 5,
          "s": 0.4112930065222986
         },
         {
          "i": 363,
          "k": 5,
          "s": 0.036648124987410546
         },
         {
          "i": 364,
          "k": 5,
          "s": 0.14588901868212423
         },
         {
          "i": 365,
          "k": 5,
          "s": 0.2392124849831122
         },
         {
          "i": 366,
          "k": 5,
          "s": 0.3447282322663088
         },
         {
          "i": 367,
          "k": 5,
          "s": 0.04277913410078771
         },
         {
          "i": 368,
          "k": 5,
          "s": 0.13084208221806148
         },
         {
          "i": 369,
          "k": 5,
          "s": 0.21682571640609083
         },
         {
          "i": 370,
          "k": 5,
          "s": 0.21769344652900324
         },
         {
          "i": 371,
          "k": 5,
          "s": 0.1695416505130105
         },
         {
          "i": 372,
          "k": 5,
          "s": 0.16920409431041306
         },
         {
          "i": 373,
          "k": 5,
          "s": 0.3023927947136724
         },
         {
          "i": 374,
          "k": 5,
          "s": 0.2031080077494235
         },
         {
          "i": 375,
          "k": 5,
          "s": 0.29684573778135814
         },
         {
          "i": 376,
          "k": 5,
          "s": 0.3469695354477199
         },
         {
          "i": 377,
          "k": 5,
          "s": 0.4186493818769613
         },
         {
          "i": 378,
          "k": 5,
          "s": 0.30248041638994505
         },
         {
          "i": 379,
          "k": 5,
          "s": 0.37594348228420016
         },
         {
          "i": 380,
          "k": 5,
          "s": 0.0575133050873845
         },
         {
          "i": 381,
          "k": 5,
          "s": 0.3903824176678955
         },
         {
          "i": 382,
          "k": 5,
          "s": 0.4396523671703635
         },
         {
          "i": 383,
          "k": 5,
          "s": 0.43884891572547136
         },
         {
          "i": 384,
          "k": 5,
          "s": 0.09773794502796851
         },
         {
          "i": 385,
          "k": 5,
          "s": 0.3046991499341073
         },
         {
          "i": 386,
          "k": 5,
          "s": 0.23927693153681306
         },
         {
          "i": 387,
          "k": 5,
          "s": 0.23880216298322776
         },
         {
          "i": 388,
          "k": 5,
          "s": 0.2939348255790637
         },
         {
          "i": 389,
          "k": 5,
          "s": 0.45045161543832724
         },
         {
          "i": 390,
          "k": 5,
          "s": 0.4877908974081617
         },
         {
          "i": 391,
          "k": 5,
          "s": 0.46651282900422086
         },
         {
          "i": 392,
          "k": 5,
          "s": 0.37940816691455015
         },
         {
          "i": 393,
          "k": 5,
          "s": 0.4826938485709643
         },
         {
          "i": 394,
          "k": 5,
          "s": 0.45343135631980247
         },
         {
          "i": 395,
          "k": 5,
          "s": 0.4637434554299481
         },
         {
          "i": 396,
          "k": 5,
          "s": 0.47247370997821225
         },
         {
          "i": 397,
          "k": 5,
          "s": 0.4507583427954638
         },
         {
          "i": 398,
          "k": 5,
          "s": 0.09047211577762349
         },
         {
          "i": 399,
          "k": 5,
          "s": 0.2777159181262451
         },
         {
          "i": 400,
          "k": 5,
          "s": 0.25026325000632943
         },
         {
          "i": 401,
          "k": 5,
          "s": 0.3975670645950483
         },
         {
          "i": 402,
          "k": 5,
          "s": 0.43823674943124535
         },
         {
          "i": 403,
          "k": 5,
          "s": 0.28827726749238314
         },
         {
          "i": 404,
          "k": 5,
          "s": -0.017989873107762344
         },
         {
          "i": 405,
          "k": 5,
          "s": 0.04422429745603318
         },
         {
          "i": 406,
          "k": 5,
          "s": 0.2317979297049486
         },
         {
          "i": 407,
          "k": 5,
          "s": 0.34299467308421605
         },
         {
          "i": 408,
          "k": 5,
          "s": 0.3167894400765817
         },
         {
          "i": 409,
          "k": 5,
          "s": 0.05082542741017515
         },
         {
          "i": 410,
          "k": 5,
          "s": 0.27339300801291977
         },
         {
          "i": 411,
          "k": 5,
          "s": 0.3960267190251754
         },
         {
          "i": 412,
          "k": 5,
          "s": 0.260823727262375
         },
         {
          "i": 413,
          "k": 5,
          "s": 0.07638292971556593
         },
         {
          "i": 414,
          "k": 5,
          "s": 0.21685764266976582
         },
         {
          "i": 415,
          "k": 5,
          "s": 0.41118604770558886
         },
         {
          "i": 416,
          "k": 5,
          "s": 0.4124518183171556
         },
         {
          "i": 417,
          "k": 5,
          "s": 0.2647233372468285
         },
         {
          "i": 418,
          "k": 5,
          "s": 0.2228370815881454
         },
         {
          "i": 419,
          "k": 5,
          "s": 0.39281128369367035
         },
         {
          "i": 420,
          "k": 5,
          "s": 0.35720162845190784
         },
         {
          "i": 421,
          "k": 5,
          "s": 0.3941427739114918
         },
         {
          "i": 422,
          "k": 5,
          "s": 0.29603446350722984
         },
         {
          "i": 423,
          "k": 5,
          "s": 0.4134310647646433
         },
         {
          "i": 424,
          "k": 5,
          "s": 0.36497678263316724
         },
         {
          "i": 425,
          "k": 5,
          "s": 0.4466586659119348
         },
         {
          "i": 426,
          "k": 5,
          "s": 0.35860618501512254
         },
         {
          "i": 427,
          "k": 5,
          "s": 0.34460911361422764
         },
         {
          "i": 428,
          "k": 5,
          "s": 0.32085707682144693
         },
         {
          "i": 429,
          "k": 5,
          "s": 0.39818462850091296
         },
         {
          "i": 430,
          "k": 5,
          "s": 0.3206420021651457
         },
         {
          "i": 431,
          "k": 5,
          "s": 0.3252375216913209
         },
         {
          "i": 432,
          "k": 5,
          "s": 0.21378634753059012
         },
         {
          "i": 433,
          "k": 5,
          "s": 0.2663184420544733
         },
         {
          "i": 434,
          "k": 5,
          "s": 0.31745688820095386
         },
         {
          "i": 435,
          "k": 5,
          "s": 0.30670152290979436
         },
         {
          "i": 436,
          "k": 5,
          "s": 0.4293479156914053
         },
         {
          "i": 437,
          "k": 5,
          "s": 0.4327520486612221
         },
         {
          "i": 438,
          "k": 5,
          "s": 0.3113101871571098
         },
         {
          "i": 439,
          "k": 5,
          "s": 0.44750856481217094
         },
         {
          "i": 440,
          "k": 5,
          "s": 0.3257371568786016
         },
         {
          "i": 441,
          "k": 5,
          "s": 0.4555217480704048
         },
         {
          "i": 442,
          "k": 5,
          "s": 0.4836004895080034
         },
         {
          "i": 443,
          "k": 5,
          "s": 0.44851163039892206
         },
         {
          "i": 444,
          "k": 5,
          "s": 0.08985244194830888
         },
         {
          "i": 445,
          "k": 5,
          "s": 0.4141763612810676
         },
         {
          "i": 446,
          "k": 5,
          "s": 0.3801219153110047
         },
         {
          "i": 447,
          "k": 5,
          "s": 0.45773796886835316
         },
         {
          "i": 448,
          "k": 5,
          "s": 0.4815738467451436
         },
         {
          "i": 449,
          "k": 5,
          "s": 0.33602066731907776
         },
         {
          "i": 450,
          "k": 5,
          "s": 0.39810385367822365
         },
         {
          "i": 451,
          "k": 5,
          "s": 0.42314771876524737
         },
         {
          "i": 452,
          "k": 5,
          "s": 0.4843196264639734
         },
         {
          "i": 453,
          "k": 5,
          "s": 0.3523108244710862
         },
         {
          "i": 454,
          "k": 5,
          "s": 0.4170569862719776
         },
         {
          "i": 455,
          "k": 5,
          "s": 0.352467491152725
         },
         {
          "i": 456,
          "k": 5,
          "s": 0.3868287268385321
         },
         {
          "i": 457,
          "k": 5,
          "s": 0.4033332150406156
         },
         {
          "i": 458,
          "k": 5,
          "s": 0.2677876694281086
         },
         {
          "i": 459,
          "k": 5,
          "s": 0.4702572406111254
         },
         {
          "i": 460,
          "k": 5,
          "s": 0.2176540174346554
         },
         {
          "i": 461,
          "k": 5,
          "s": 0.4604085315828891
         },
         {
          "i": 462,
          "k": 5,
          "s": 0.4558235881995524
         },
         {
          "i": 463,
          "k": 5,
          "s": 0.40336022649599645
         },
         {
          "i": 464,
          "k": 5,
          "s": 0.3866093437701402
         },
         {
          "i": 465,
          "k": 5,
          "s": 0.3269070732139544
         },
         {
          "i": 466,
          "k": 5,
          "s": 0.33260956479236026
         },
         {
          "i": 467,
          "k": 5,
          "s": 0.3920186879641264
         },
         {
          "i": 468,
          "k": 5,
          "s": 0.372478525361698
         },
         {
          "i": 469,
          "k": 5,
          "s": 0.3474558457874034
         },
         {
          "i": 470,
          "k": 5,
          "s": 0.3955588242243938
         },
         {
          "i": 471,
          "k": 5,
          "s": 0.3264935341689511
         },
         {
          "i": 472,
          "k": 5,
          "s": 0.33308560649130714
         },
         {
          "i": 473,
          "k": 5,
          "s": 0.2385581055394418
         },
         {
          "i": 474,
          "k": 5,
          "s": 0.4030655455113785
         },
         {
          "i": 475,
          "k": 5,
          "s": 0.302329810537868
         },
         {
          "i": 476,
          "k": 5,
          "s": 0.45078433723284783
         },
         {
          "i": 477,
          "k": 5,
          "s": 0.3239884119792594
         },
         {
          "i": 478,
          "k": 5,
          "s": 0.4541554781549124
         },
         {
          "i": 479,
          "k": 5,
          "s": 0.4149304596767355
         },
         {
          "i": 480,
          "k": 5,
          "s": 0.24159265671521302
         },
         {
          "i": 481,
          "k": 5,
          "s": 0.19889337205467839
         },
         {
          "i": 482,
          "k": 5,
          "s": 0.16213351632114104
         },
         {
          "i": 483,
          "k": 5,
          "s": 0.15060474338505025
         },
         {
          "i": 484,
          "k": 5,
          "s": 0.2345631776858219
         },
         {
          "i": 485,
          "k": 5,
          "s": 0.224508701750035
         },
         {
          "i": 486,
          "k": 5,
          "s": 0.3802910696614089
         },
         {
          "i": 487,
          "k": 5,
          "s": 0.2830279923914125
         },
         {
          "i": 488,
          "k": 5,
          "s": 0.3039736704763061
         },
         {
          "i": 489,
          "k": 5,
          "s": 0.31983750149829715
         },
         {
          "i": 490,
          "k": 5,
          "s": 0.26434122339435095
         },
         {
          "i": 491,
          "k": 5,
          "s": 0.3091807419910316
         },
         {
          "i": 492,
          "k": 5,
          "s": 0.24462908164998887
         },
         {
          "i": 493,
          "k": 5,
          "s": 0.3496176157780745
         },
         {
          "i": 494,
          "k": 5,
          "s": 0.35735832801894074
         },
         {
          "i": 495,
          "k": 5,
          "s": 0.30491962217256974
         },
         {
          "i": 496,
          "k": 5,
          "s": 0.19308391372307765
         },
         {
          "i": 497,
          "k": 5,
          "s": 0.3243553906368921
         },
         {
          "i": 498,
          "k": 5,
          "s": 0.3530207661187822
         },
         {
          "i": 499,
          "k": 5,
          "s": 0.26452570459006797
         },
         {
          "i": 500,
          "k": 5,
          "s": 0.29055066749851755
         },
         {
          "i": 501,
          "k": 5,
          "s": 0.38502067355853176
         },
         {
          "i": 502,
          "k": 5,
          "s": 0.3625859582506774
         },
         {
          "i": 503,
          "k": 5,
          "s": 0.33486785701518873
         },
         {
          "i": 504,
          "k": 5,
          "s": 0.34627607285937134
         },
         {
          "i": 505,
          "k": 5,
          "s": 0.30938633430994955
         },
         {
          "i": 0,
          "k": 6,
          "s": -0.018341770235438926
         },
         {
          "i": 1,
          "k": 6,
          "s": 0.3385179728330817
         },
         {
          "i": 2,
          "k": 6,
          "s": 0.08369611647055042
         },
         {
          "i": 3,
          "k": 6,
          "s": 0.11787893644098668
         },
         {
          "i": 4,
          "k": 6,
          "s": -0.032160572634038154
         },
         {
          "i": 5,
          "k": 6,
          "s": 0.33400357178637463
         },
         {
          "i": 6,
          "k": 6,
          "s": 0.3182356107156492
         },
         {
          "i": 7,
          "k": 6,
          "s": 0.1285686112565252
         },
         {
          "i": 8,
          "k": 6,
          "s": 0.021534384348271374
         },
         {
          "i": 9,
          "k": 6,
          "s": 0.18869067902910752
         },
         {
          "i": 10,
          "k": 6,
          "s": 0.09762301734069811
         },
         {
          "i": 11,
          "k": 6,
          "s": 0.23659228034604918
         },
         {
          "i": 12,
          "k": 6,
          "s": 0.35216160176766675
         },
         {
          "i": 13,
          "k": 6,
          "s": 0.24453012967723986
         },
         {
          "i": 14,
          "k": 6,
          "s": -0.039222225621133866
         },
         {
          "i": 15,
          "k": 6,
          "s": 0.2517881973799294
         },
         {
          "i": 16,
          "k": 6,
          "s": 0.36541961833170855
         },
         {
          "i": 17,
          "k": 6,
          "s": 0.04087607408688332
         },
         {
          "i": 18,
          "k": 6,
          "s": 0.19255289777017348
         },
         {
          "i": 19,
          "k": 6,
          "s": -0.07474494527116526
         },
         {
          "i": 20,
          "k": 6,
          "s": 0.2108292153286817
         },
         {
          "i": 21,
          "k": 6,
          "s": 0.08095150889208169
         },
         {
          "i": 22,
          "k": 6,
          "s": 0.1569413491519417
         },
         {
          "i": 23,
          "k": 6,
          "s": 0.19582662485809554
         },
         {
          "i": 24,
          "k": 6,
          "s": 0.13124092730893744
         },
         {
          "i": 25,
          "k": 6,
          "s": 0.10496280950252523
         },
         {
          "i": 26,
          "k": 6,
          "s": 0.07879470915836129
         },
         {
          "i": 27,
          "k": 6,
          "s": 0.11642859666808436
         },
         {
          "i": 28,
          "k": 6,
          "s": 0.041916779227991086
         },
         {
          "i": 29,
          "k": 6,
          "s": -0.025878259163809703
         },
         {
          "i": 30,
          "k": 6,
          "s": 0.18723719560670027
         },
         {
          "i": 31,
          "k": 6,
          "s": 0.13388291372201977
         },
         {
          "i": 32,
          "k": 6,
          "s": 0.14485708463690894
         },
         {
          "i": 33,
          "k": 6,
          "s": 0.19741274244345208
         },
         {
          "i": 34,
          "k": 6,
          "s": 0.18017984379968777
         },
         {
          "i": 35,
          "k": 6,
          "s": 0.24318931596159354
         },
         {
          "i": 36,
          "k": 6,
          "s": 0.26531809414511265
         },
         {
          "i": 37,
          "k": 6,
          "s": 0.42497668618240547
         },
         {
          "i": 38,
          "k": 6,
          "s": 0.44351070711403817
         },
         {
          "i": 39,
          "k": 6,
          "s": 0.3478222444018415
         },
         {
          "i": 40,
          "k": 6,
          "s": 0.3743409086200076
         },
         {
          "i": 41,
          "k": 6,
          "s": 0.3163069460158716
         },
         {
          "i": 42,
          "k": 6,
          "s": 0.40238604760267604
         },
         {
          "i": 43,
          "k": 6,
          "s": 0.4142227928860619
         },
         {
          "i": 44,
          "k": 6,
          "s": 0.5176448267683252
         },
         {
          "i": 45,
          "k": 6,
          "s": 0.47362679377473316
         },
         {
          "i": 46,
          "k": 6,
          "s": 0.45021875250297894
         },
         {
          "i": 47,
          "k": 6,
          "s": 0.17760215867923224
         },
         {
          "i": 48,
          "k": 6,
          "s": 0.012514440219060785
         },
         {
          "i": 49,
          "k": 6,
          "s": 0.34245217669561845
         },
         {
          "i": 50,
          "k": 6,
          "s": 0.3724917241121256
         },
         {
          "i": 51,
          "k": 6,
          "s": 0.36883256593584113
         },
         {
          "i": 52,
          "k": 6,
          "s": 0.18293768084105377
         },
         {
          "i": 53,
          "k": 6,
          "s": 0.2796685332555445
         },
         {
          "i": 54,
          "k": 6,
          "s": 0.05674248142724425
         },
         {
          "i": 55,
          "k": 6,
          "s": 0.4496120056467512
         },
         {
          "i": 56,
          "k": 6,
          "s": 0.4210062443924256
         },
         {
          "i": 57,
          "k": 6,
          "s": 0.4659166658531342
         },
         {
          "i": 58,
          "k": 6,
          "s": 0.2639093604965881
         },
         {
          "i": 59,
          "k": 6,
          "s": 0.3876544949152302
         },
         {
          "i": 60,
          "k": 6,
          "s": 0.36160694187304554
         },
         {
          "i": 61,
          "k": 6,
          "s": 0.21191149287315292
         },
         {
          "i": 62,
          "k": 6,
          "s": 0.32278765321710956
         },
         {
          "i": 63,
          "k": 6,
          "s": 0.22194761897020387
         },
         {
          "i": 64,
          "k": 6,
          "s": 0.06255008539824836
         },
         {
          "i": 65,
          "k": 6,
          "s": 0.4064738823745324
         },
         {
          "i": 66,
          "k": 6,
          "s": 0.26970994891893196
         },
         {
          "i": 67,
          "k": 6,
          "s": 0.40827903576501823
         },
         {
          "i": 68,
          "k": 6,
          "s": 0.4402767699241975
         },
         {
          "i": 69,
          "k": 6,
          "s": 0.4479544233893541
         },
         {
          "i": 70,
          "k": 6,
          "s": 0.4147748551009016
         },
         {
          "i": 71,
          "k": 6,
          "s": 0.4602571063231662
         },
         {
          "i": 72,
          "k": 6,
          "s": 0.4334464611154776
         },
         {
          "i": 73,
          "k": 6,
          "s": 0.4311203955018983
         },
         {
          "i": 74,
          "k": 6,
          "s": 0.4009138775050015
         },
         {
          "i": 75,
          "k": 6,
          "s": 0.36973768392800677
         },
         {
          "i": 76,
          "k": 6,
          "s": 0.1349234784635327
         },
         {
          "i": 77,
          "k": 6,
          "s": 0.33225026435761096
         },
         {
          "i": 78,
          "k": 6,
          "s": 0.3242725696897749
         },
         {
          "i": 79,
          "k": 6,
          "s": 0.37228688218438144
         },
         {
          "i": 80,
          "k": 6,
          "s": 0.2550942623569574
         },
         {
          "i": 81,
          "k": 6,
          "s": 0.34992040353654175
         },
         {
          "i": 82,
          "k": 6,
          "s": 0.3554571243979847
         },
         {
          "i": 83,
          "k": 6,
          "s": 0.414836703759939
         },
         {
          "i": 84,
          "k": 6,
          "s": 0.4712077301944305
         },
         {
          "i": 85,
          "k": 6,
          "s": 0.32287166517671395
         },
         {
          "i": 86,
          "k": 6,
          "s": 0.46033799981780577
         },
         {
          "i": 87,
          "k": 6,
          "s": 0.43046483568775984
         },
         {
          "i": 88,
          "k": 6,
          "s": -0.028815714028738615
         },
         {
          "i": 89,
          "k": 6,
          "s": 0.0219843020114574
         },
         {
          "i": 90,
          "k": 6,
          "s": 0.3055167847165231
         },
         {
          "i": 91,
          "k": 6,
          "s": 0.2771394164813401
         },
         {
          "i": 92,
          "k": 6,
          "s": 0.29488183157021153
         },
         {
          "i": 93,
          "k": 6,
          "s": 0.34469671219657505
         },
         {
          "i": 94,
          "k": 6,
          "s": 0.1363435056357204
         },
         {
          "i": 95,
          "k": 6,
          "s": 0.19925546124589133
         },
         {
          "i": 96,
          "k": 6,
          "s": 0.3351956266135878
         },
         {
          "i": 97,
          "k": 6,
          "s": 0.3565431779173287
         },
         {
          "i": 98,
          "k": 6,
          "s": 0.2735943790176921
         },
         {
          "i": 99,
          "k": 6,
          "s": 0.18130959729612883
         },
         {
          "i": 100,
          "k": 6,
          "s": -0.0536142563885903
         },
         {
          "i": 101,
          "k": 6,
          "s": 0.11123583864000308
         },
         {
          "i": 102,
          "k": 6,
          "s": 0.056607642849032414
         },
         {
          "i": 103,
          "k": 6,
          "s": 0.15014345103271787
         },
         {
          "i": 104,
          "k": 6,
          "s": 0.15496839230719384
         },
         {
          "i": 105,
          "k": 6,
          "s": 0.23895238377047667
         },
         {
          "i": 106,
          "k": 6,
          "s": 0.2324231023618034
         },
         {
          "i": 107,
          "k": 6,
          "s": 0.16682097656241757
         },
         {
          "i": 108,
          "k": 6,
          "s": 0.16173786709784876
         },
         {
          "i": 109,
          "k": 6,
          "s": 0.19223143689023559
         },
         {
          "i": 110,
          "k": 6,
          "s": 0.10552765694232924
         },
         {
          "i": 111,
          "k": 6,
          "s": -0.00479702145352201
         },
         {
          "i": 112,
          "k": 6,
          "s": 0.22040417256649614
         },
         {
          "i": 113,
          "k": 6,
          "s": 0.2208518505997369
         },
         {
          "i": 114,
          "k": 6,
          "s": 0.10405022077739101
         },
         {
          "i": 115,
          "k": 6,
          "s": 0.20413158148563726
         },
         {
          "i": 116,
          "k": 6,
          "s": 0.004992423614331276
         },
         {
          "i": 117,
          "k": 6,
          "s": 0.07021369110437037
         },
         {
          "i": 118,
          "k": 6,
          "s": 0.11001338041715014
         },
         {
          "i": 119,
          "k": 6,
          "s": 0.009691130165474737
         },
         {
          "i": 120,
          "k": 6,
          "s": 0.20467042473240504
         },
         {
          "i": 121,
          "k": 6,
          "s": 0.2590512759822118
         },
         {
          "i": 122,
          "k": 6,
          "s": 0.2982112786688035
         },
         {
          "i": 123,
          "k": 6,
          "s": 0.3108428482809168
         },
         {
          "i": 124,
          "k": 6,
          "s": 0.3079845116822535
         },
         {
          "i": 125,
          "k": 6,
          "s": 0.27273581336783315
         },
         {
          "i": 126,
          "k": 6,
          "s": 0.30620412598794344
         },
         {
          "i": 127,
          "k": 6,
          "s": 0.35701710494798244
         },
         {
          "i": 128,
          "k": 6,
          "s": 0.3584521542207779
         },
         {
          "i": 129,
          "k": 6,
          "s": 0.3441281214961336
         },
         {
          "i": 130,
          "k": 6,
          "s": 0.3377558091486095
         },
         {
          "i": 131,
          "k": 6,
          "s": 0.33714123060596013
         },
         {
          "i": 132,
          "k": 6,
          "s": 0.3118422906702475
         },
         {
          "i": 133,
          "k": 6,
          "s": 0.36347734181139835
         },
         {
          "i": 134,
          "k": 6,
          "s": 0.274116089996289
         },
         {
          "i": 135,
          "k": 6,
          "s": 0.3609885429100059
         },
         {
          "i": 136,
          "k": 6,
          "s": 0.36615310226572395
         },
         {
          "i": 137,
          "k": 6,
          "s": 0.35696724905974453
         },
         {
          "i": 138,
          "k": 6,
          "s": 0.32305068354756683
         },
         {
          "i": 139,
          "k": 6,
          "s": 0.35397096147614837
         },
         {
          "i": 140,
          "k": 6,
          "s": 0.2977262832096478
         },
         {
          "i": 141,
          "k": 6,
          "s": 0.17295152919114964
         },
         {
          "i": 142,
          "k": 6,
          "s": 0.09337000269685203
         },
         {
          "i": 143,
          "k": 6,
          "s": 0.2005954289545
         },
         {
          "i": 144,
          "k": 6,
          "s": 0.17468257814964494
         },
         {
          "i": 145,
          "k": 6,
          "s": 0.11051912930827013
         },
         {
          "i": 146,
          "k": 6,
          "s": 0.15331342171603657
         },
         {
          "i": 147,
          "k": 6,
          "s": 0.18144474885075612
         },
         {
          "i": 148,
          "k": 6,
          "s": 0.1918560119706728
         },
         {
          "i": 149,
          "k": 6,
          "s": 0.22377956953493305
         },
         {
          "i": 150,
          "k": 6,
          "s": 0.25619802639147105
         },
         {
          "i": 151,
          "k": 6,
          "s": 0.24553794978644017
         },
         {
          "i": 152,
          "k": 6,
          "s": 0.1360413770627893
         },
         {
          "i": 153,
          "k": 6,
          "s": 0.21397409915057408
         },
         {
          "i": 154,
          "k": 6,
          "s": 0.18047608139637183
         },
         {
          "i": 155,
          "k": 6,
          "s": 0.12226261226557167
         },
         {
          "i": 156,
          "k": 6,
          "s": 0.10057977575651644
         },
         {
          "i": 157,
          "k": 6,
          "s": 0.21475653005679185
         },
         {
          "i": 158,
          "k": 6,
          "s": 0.17652021132524287
         },
         {
          "i": 159,
          "k": 6,
          "s": 0.15221167190779583
         },
         {
          "i": 160,
          "k": 6,
          "s": 0.28716421467535647
         },
         {
          "i": 161,
          "k": 6,
          "s": 0.32827639593515356
         },
         {
          "i": 162,
          "k": 6,
          "s": 0.08643038589339569
         },
         {
          "i": 163,
          "k": 6,
          "s": 0.048138987637389
         },
         {
          "i": 164,
          "k": 6,
          "s": 0.1896930200605551
         },
         {
          "i": 165,
          "k": 6,
          "s": 0.17105564711372412
         },
         {
          "i": 166,
          "k": 6,
          "s": 0.3476182740464857
         },
         {
          "i": 167,
          "k": 6,
          "s": 0.1551449158627085
         },
         {
          "i": 168,
          "k": 6,
          "s": 0.19856360385426364
         },
         {
          "i": 169,
          "k": 6,
          "s": 0.19643137554930945
         },
         {
          "i": 170,
          "k": 6,
          "s": 0.23758386525233166
         },
         {
          "i": 171,
          "k": 6,
          "s": 0.22728992086002908
         },
         {
          "i": 172,
          "k": 6,
          "s": -0.06607938279948855
         },
         {
          "i": 173,
          "k": 6,
          "s": 0.12379808082285604
         },
         {
          "i": 174,
          "k": 6,
          "s": 0.24538263868205978
         },
         {
          "i": 175,
          "k": 6,
          "s": 0.16768649011488712
         },
         {
          "i": 176,
          "k": 6,
          "s": 0.39474976689402275
         },
         {
          "i": 177,
          "k": 6,
          "s": 0.19585953369466425
         },
         {
          "i": 178,
          "k": 6,
          "s": 0.11435615033151969
         },
         {
          "i": 179,
          "k": 6,
          "s": 0.18597207171662322
         },
         {
          "i": 180,
          "k": 6,
          "s": 0.37501324338107456
         },
         {
          "i": 181,
          "k": 6,
          "s": 0.08769632290394047
         },
         {
          "i": 182,
          "k": 6,
          "s": 0.303112196556522
         },
         {
          "i": 183,
          "k": 6,
          "s": 0.08589693097850926
         },
         {
          "i": 184,
          "k": 6,
          "s": 0.13545316268380092
         },
         {
          "i": 185,
          "k": 6,
          "s": 0.24771875725602444
         },
         {
          "i": 186,
          "k": 6,
          "s": 0.35841027388462665
         },
         {
          "i": 187,
          "k": 6,
          "s": 0.10464534515405732
         },
         {
          "i": 188,
          "k": 6,
          "s": 0.14950693382997937
         },
         {
          "i": 189,
          "k": 6,
          "s": 0.1356875479359585
         },
         {
          "i": 190,
          "k": 6,
          "s": 0.3018761571620907
         },
         {
          "i": 191,
          "k": 6,
          "s": 0.26361377573382194
         },
         {
          "i": 192,
          "k": 6,
          "s": 0.3059192388382479
         },
         {
          "i": 193,
          "k": 6,
          "s": 0.3851361480902151
         },
         {
          "i": 194,
          "k": 6,
          "s": 0.36935558190377094
         },
         {
          "i": 195,
          "k": 6,
          "s": 0.22007217187818973
         },
         {
          "i": 196,
          "k": 6,
          "s": 0.41013482807046464
         },
         {
          "i": 197,
          "k": 6,
          "s": 0.405725681789067
         },
         {
          "i": 198,
          "k": 6,
          "s": 0.39846153899653125
         },
         {
          "i": 199,
          "k": 6,
          "s": 0.4792037413189645
         },
         {
          "i": 200,
          "k": 6,
          "s": 0.479806483125254
         },
         {
          "i": 201,
          "k": 6,
          "s": 0.36446453603616125
         },
         {
          "i": 202,
          "k": 6,
          "s": 0.3816476620951318
         },
         {
          "i": 203,
          "k": 6,
          "s": 0.2552790058911071
         },
         {
          "i": 204,
          "k": 6,
          "s": 0.22860259472839606
         },
         {
          "i": 205,
          "k": 6,
          "s": 0.41182996329080024
         },
         {
          "i": 206,
          "k": 6,
          "s": 0.3874532635626464
         },
         {
          "i": 207,
          "k": 6,
          "s": -0.11213959171588794
         },
         {
          "i": 208,
          "k": 6,
          "s": 0.2317755320824455
         },
         {
          "i": 209,
          "k": 6,
          "s": 0.17264723014759797
         },
         {
          "i": 210,
          "k": 6,
          "s": 0.26668650633910396
         },
         {
          "i": 211,
          "k": 6,
          "s": 0.17801039204485214
         },
         {
          "i": 212,
          "k": 6,
          "s": 0.2126721806085552
         },
         {
          "i": 213,
          "k": 6,
          "s": 0.4107033176656002
         },
         {
          "i": 214,
          "k": 6,
          "s": 0.1221613479828304
         },
         {
          "i": 215,
          "k": 6,
          "s": 0.4142467136668272
         },
         {
          "i": 216,
          "k": 6,
          "s": 0.2761651879227379
         },
         {
          "i": 217,
          "k": 6,
          "s": -0.02974424036292711
         },
         {
          "i": 218,
          "k": 6,
          "s": 0.2779147617563108
         },
         {
          "i": 219,
          "k": 6,
          "s": 0.3287833962567286
         },
         {
          "i": 220,
          "k": 6,
          "s": 0.30456473341147683
         },
         {
          "i": 221,
          "k": 6,
          "s": 0.26933901345713185
         },
         {
          "i": 222,
          "k": 6,
          "s": 0.30386082578869167
         },
         {
          "i": 223,
          "k": 6,
          "s": -0.02830481210985336
         },
         {
          "i": 224,
          "k": 6,
          "s": 0.428031441508013
         },
         {
          "i": 225,
          "k": 6,
          "s": 0.4076616978835538
         },
         {
          "i": 226,
          "k": 6,
          "s": 0.3981201535052573
         },
         {
          "i": 227,
          "k": 6,
          "s": 0.20250280626662542
         },
         {
          "i": 228,
          "k": 6,
          "s": 0.22921568669989234
         },
         {
          "i": 229,
          "k": 6,
          "s": 0.1951991268209593
         },
         {
          "i": 230,
          "k": 6,
          "s": 0.2818030022597021
         },
         {
          "i": 231,
          "k": 6,
          "s": 0.2455697381519103
         },
         {
          "i": 232,
          "k": 6,
          "s": 0.40184117508512784
         },
         {
          "i": 233,
          "k": 6,
          "s": 0.4107311736301854
         },
         {
          "i": 234,
          "k": 6,
          "s": 0.27741527504805985
         },
         {
          "i": 235,
          "k": 6,
          "s": 0.3298252787293007
         },
         {
          "i": 236,
          "k": 6,
          "s": 0.27997432264680033
         },
         {
          "i": 237,
          "k": 6,
          "s": 0.19713181437983684
         },
         {
          "i": 238,
          "k": 6,
          "s": 0.09266805754763319
         },
         {
          "i": 239,
          "k": 6,
          "s": 0.1681613477068571
         },
         {
          "i": 240,
          "k": 6,
          "s": 0.18283205697560867
         },
         {
          "i": 241,
          "k": 6,
          "s": 0.3082854826623743
         },
         {
          "i": 242,
          "k": 6,
          "s": 0.22080843972009156
         },
         {
          "i": 243,
          "k": 6,
          "s": -0.03221004570538888
         },
         {
          "i": 244,
          "k": 6,
          "s": 0.31796748791476603
         },
         {
          "i": 245,
          "k": 6,
          "s": 0.2875324231353197
         },
         {
          "i": 246,
          "k": 6,
          "s": 0.2882099362770585
         },
         {
          "i": 247,
          "k": 6,
          "s": 0.3244370766853172
         },
         {
          "i": 248,
          "k": 6,
          "s": 0.3002744550506853
         },
         {
          "i": 249,
          "k": 6,
          "s": 0.15055642267071956
         },
         {
          "i": 250,
          "k": 6,
          "s": 0.20126691182095635
         },
         {
          "i": 251,
          "k": 6,
          "s": 0.1666958973506516
         },
         {
          "i": 252,
          "k": 6,
          "s": -0.0031803596720532123
         },
         {
          "i": 253,
          "k": 6,
          "s": 0.10214795350870509
         },
         {
          "i": 254,
          "k": 6,
          "s": 0.3786590340951751
         },
         {
          "i": 255,
          "k": 6,
          "s": 0.33865187941187613
         },
         {
          "i": 256,
          "k": 6,
          "s": 0.37833714553365727
         },
         {
          "i": 257,
          "k": 6,
          "s": 0.41264902488495026
         },
         {
          "i": 258,
          "k": 6,
          "s": 0.37308454175228456
         },
         {
          "i": 259,
          "k": 6,
          "s": 0.26833901693631157
         },
         {
          "i": 260,
          "k": 6,
          "s": 0.33143667266625754
         },
         {
          "i": 261,
          "k": 6,
          "s": 0.41278917039753427
         },
         {
          "i": 262,
          "k": 6,
          "s": 0.4260119121955369
         },
         {
          "i": 263,
          "k": 6,
          "s": 0.31539039010914005
         },
         {
          "i": 264,
          "k": 6,
          "s": 0.3657401570492075
         },
         {
          "i": 265,
          "k": 6,
          "s": 0.0923347472908701
         },
         {
          "i": 266,
          "k": 6,
          "s": 0.23710164457070504
         },
         {
          "i": 267,
          "k": 6,
          "s": 0.4070713530926926
         },
         {
          "i": 268,
          "k": 6,
          "s": 0.37087528008040416
         },
         {
          "i": 269,
          "k": 6,
          "s": 0.16263294061716194
         },
         {
          "i": 270,
          "k": 6,
          "s": 0.4345914005012187
         },
         {
          "i": 271,
          "k": 6,
          "s": 0.38115056498290667
         },
         {
          "i": 272,
          "k": 6,
          "s": 0.3566849232567898
         },
         {
          "i": 273,
          "k": 6,
          "s": 0.12119723324808729
         },
         {
          "i": 274,
          "k": 6,
          "s": 0.11386603726962186
         },
         {
          "i": 275,
          "k": 6,
          "s": -0.040920530661582744
         },
         {
          "i": 276,
          "k": 6,
          "s": 0.1347192281022801
         },
         {
          "i": 277,
          "k": 6,
          "s": 0.07433528619205887
         },
         {
          "i": 278,
          "k": 6,
          "s": 0.13138093870938738
         },
         {
          "i": 279,
          "k": 6,
          "s": 0.03298652663416435
         },
         {
          "i": 280,
          "k": 6,
          "s": 0.3369668004976568
         },
         {
          "i": 281,
          "k": 6,
          "s": 0.04522718198404785
         },
         {
          "i": 282,
          "k": 6,
          "s": -0.031221648925153556
         },
         {
          "i": 283,
          "k": 6,
          "s": 0.14639754093723856
         },
         {
          "i": 284,
          "k": 6,
          "s": 0.4820262980396798
         },
         {
          "i": 285,
          "k": 6,
          "s": 0.2757711539804636
         },
         {
          "i": 286,
          "k": 6,
          "s": 0.2887167550557699
         },
         {
          "i": 287,
          "k": 6,
          "s": 0.18642877926854284
         },
         {
          "i": 288,
          "k": 6,
          "s": 0.14610891606899545
         },
         {
          "i": 289,
          "k": 6,
          "s": 0.24209302638943575
         },
         {
          "i": 290,
          "k": 6,
          "s": 0.31258678019677566
         },
         {
          "i": 291,
          "k": 6,
          "s": 0.3334663825229315
         },
         {
          "i": 292,
          "k": 6,
          "s": 0.29828827234899125
         },
         {
          "i": 293,
          "k": 6,
          "s": 0.3950815543088618
         },
         {
          "i": 294,
          "k": 6,
          "s": 0.38539193932103777
         },
         {
          "i": 295,
          "k": 6,
          "s": 0.2732848456809941
         },
         {
          "i": 296,
          "k": 6,
          "s": 0.29284271378688753
         },
         {
          "i": 297,
          "k": 6,
          "s": 0.2852367827257366
         },
         {
          "i": 298,
          "k": 6,
          "s": 0.38974273682681926
         },
         {
          "i": 299,
          "k": 6,
          "s": 0.45317467869327543
         },
         {
          "i": 300,
          "k": 6,
          "s": 0.399102464358288
         },
         {
          "i": 301,
          "k": 6,
          "s": 0.15929493334365874
         },
         {
          "i": 302,
          "k": 6,
          "s": -0.0677918469383656
         },
         {
          "i": 303,
          "k": 6,
          "s": 0.11032360369162864
         },
         {
          "i": 304,
          "k": 6,
          "s": 0.048321781896607074
         },
         {
          "i": 305,
          "k": 6,
          "s": 0.18069149452580913
         },
         {
          "i": 306,
          "k": 6,
          "s": 0.1897549131476064
         },
         {
          "i": 307,
          "k": 6,
          "s": -0.07380279728910921
         },
         {
          "i": 308,
          "k": 6,
          "s": 0.13464148152523747
         },
         {
          "i": 309,
          "k": 6,
          "s": -0.058422765391404674
         },
         {
          "i": 310,
          "k": 6,
          "s": 0.10602376503344313
         },
         {
          "i": 311,
          "k": 6,
          "s": 0.2466243244150249
         },
         {
          "i": 312,
          "k": 6,
          "s": 0.10338955900567981
         },
         {
          "i": 313,
          "k": 6,
          "s": -0.08258892796142459
         },
         {
          "i": 314,
          "k": 6,
          "s": -0.08296663386246295
         },
         {
          "i": 315,
          "k": 6,
          "s": -0.046559655291162905
         },
         {
          "i": 316,
          "k": 6,
          "s": 0.08471357686173908
         },
         {
          "i": 317,
          "k": 6,
          "s": -0.05545513254883716
         },
         {
          "i": 318,
          "k": 6,
          "s": 0.19591817126572375
         },
         {
          "i": 319,
          "k": 6,
          "s": 0.23574884058691703
         },
         {
          "i": 320,
          "k": 6,
          "s": 0.4308049379168525
         },
         {
          "i": 321,
          "k": 6,
          "s": 0.42368278063352116
         },
         {
          "i": 322,
          "k": 6,
          "s": 0.43218948498339516
         },
         {
          "i": 323,
          "k": 6,
          "s": 0.21051935424747015
         },
         {
          "i": 324,
          "k": 6,
          "s": 0.4591057609957512
         },
         {
          "i": 325,
          "k": 6,
          "s": 0.4475487571718445
         },
         {
          "i": 326,
          "k": 6,
          "s": 0.4950747436015508
         },
         {
          "i": 327,
          "k": 6,
          "s": 0.43845914593757374
         },
         {
          "i": 328,
          "k": 6,
          "s": 0.4430326833473558
         },
         {
          "i": 329,
          "k": 6,
          "s": 0.3846618536872095
         },
         {
          "i": 330,
          "k": 6,
          "s": 0.4348861560638624
         },
         {
          "i": 331,
          "k": 6,
          "s": 0.22788974243176352
         },
         {
          "i": 332,
          "k": 6,
          "s": 0.15092126343303391
         },
         {
          "i": 333,
          "k": 6,
          "s": 0.4652117463589158
         },
         {
          "i": 334,
          "k": 6,
          "s": 0.4617487859485615
         },
         {
          "i": 335,
          "k": 6,
          "s": 0.46393031517938454
         },
         {
          "i": 336,
          "k": 6,
          "s": 0.4101382826570211
         },
         {
          "i": 337,
          "k": 6,
          "s": 0.3579904525283226
         },
         {
          "i": 338,
          "k": 6,
          "s": 0.43979656034663983
         },
         {
          "i": 339,
          "k": 6,
          "s": 0.4048107667011127
         },
         {
          "i": 340,
          "k": 6,
          "s": 0.3545248987562519
         },
         {
          "i": 341,
          "k": 6,
          "s": 0.1707951622459748
         },
         {
          "i": 342,
          "k": 6,
          "s": 0.32414004572914434
         },
         {
          "i": 343,
          "k": 6,
          "s": 0.07215657515808005
         },
         {
          "i": 344,
          "k": 6,
          "s": 0.28653551414652145
         },
         {
          "i": 345,
          "k": 6,
          "s": 0.43588249827474523
         },
         {
          "i": 346,
          "k": 6,
          "s": 0.40500754910875925
         },
         {
          "i": 347,
          "k": 6,
          "s": 0.408514743621067
         },
         {
          "i": 348,
          "k": 6,
          "s": 0.43941777116676783
         },
         {
          "i": 349,
          "k": 6,
          "s": 0.10617038606900386
         },
         {
          "i": 350,
          "k": 6,
          "s": 0.006056065874181615
         },
         {
          "i": 351,
          "k": 6,
          "s": 0.2873201856187223
         },
         {
          "i": 352,
          "k": 6,
          "s": 0.20461960843734828
         },
         {
          "i": 353,
          "k": 6,
          "s": 0.372653672200539
         },
         {
          "i": 354,
          "k": 6,
          "s": 0.16068877724335728
         },
         {
          "i": 355,
          "k": 6,
          "s": 0.19905182327362902
         },
         {
          "i": 356,
          "k": 6,
          "s": 0.06544322757776388
         },
         {
          "i": 357,
          "k": 6,
          "s": 0.1552219202934506
         },
         {
          "i": 358,
          "k": 6,
          "s": 0.15896352476052922
         },
         {
          "i": 359,
          "k": 6,
          "s": 0.2223273765523054
         },
         {
          "i": 360,
          "k": 6,
          "s": 0.18078448275041803
         },
         {
          "i": 361,
          "k": 6,
          "s": 0.26742941586826074
         },
         {
          "i": 362,
          "k": 6,
          "s": 0.18849742590242502
         },
         {
          "i": 363,
          "k": 6,
          "s": 0.08143524478422492
         },
         {
          "i": 364,
          "k": 6,
          "s": 0.16594827154907132
         },
         {
          "i": 365,
          "k": 6,
          "s": 0.07864491882240732
         },
         {
          "i": 366,
          "k": 6,
          "s": 0.21340640502352226
         },
         {
          "i": 367,
          "k": 6,
          "s": 0.1968728016339707
         },
         {
          "i": 368,
          "k": 6,
          "s": 0.025095399223653336
         },
         {
          "i": 369,
          "k": 6,
          "s": 0.23901294577625032
         },
         {
          "i": 370,
          "k": 6,
          "s": 0.2191050842312522
         },
         {
          "i": 371,
          "k": 6,
          "s": 0.07564608391887673
         },
         {
          "i": 372,
          "k": 6,
          "s": 0.1983317510598922
         },
         {
          "i": 373,
          "k": 6,
          "s": 0.22952521912836754
         },
         {
          "i": 374,
          "k": 6,
          "s": 0.20355633679547702
         },
         {
          "i": 375,
          "k": 6,
          "s": 0.2571051414121094
         },
         {
          "i": 376,
          "k": 6,
          "s": 0.3469164671779561
         },
         {
          "i": 377,
          "k": 6,
          "s": 0.2960584833849845
         },
         {
          "i": 378,
          "k": 6,
          "s": 0.33387171695256423
         },
         {
          "i": 379,
          "k": 6,
          "s": 0.34689860516239057
         },
         {
          "i": 380,
          "k": 6,
          "s": 0.1476625688163573
         },
         {
          "i": 381,
          "k": 6,
          "s": 0.3341933243080265
         },
         {
          "i": 382,
          "k": 6,
          "s": 0.3070654284953842
         },
         {
          "i": 383,
          "k": 6,
          "s": 0.2947782521696849
         },
         {
          "i": 384,
          "k": 6,
          "s": 0.2837704959055667
         },
         {
          "i": 385,
          "k": 6,
          "s": 0.2946007443191674
         },
         {
          "i": 386,
          "k": 6,
          "s": 0.2800227271422612
         },
         {
          "i": 387,
          "k": 6,
          "s": 0.2851406060913131
         },
         {
          "i": 388,
          "k": 6,
          "s": 0.28125628992277196
         },
         {
          "i": 389,
          "k": 6,
          "s": 0.2918275176579699
         },
         {
          "i": 390,
          "k": 6,
          "s": 0.2941613286660566
         },
         {
          "i": 391,
          "k": 6,
          "s": 0.26814717458240456
         },
         {
          "i": 392,
          "k": 6,
          "s": 0.2835239470686918
         },
         {
          "i": 393,
          "k": 6,
          "s": 0.30829901755159306
         },
         {
          "i": 394,
          "k": 6,
          "s": 0.33494384291175205
         },
         {
          "i": 395,
          "k": 6,
          "s": 0.3137504433380829
         },
         {
          "i": 396,
          "k": 6,
          "s": 0.29373164776147775
         },
         {
          "i": 397,
          "k": 6,
          "s": 0.30090267685363836
         },
         {
          "i": 398,
          "k": 6,
          "s": 0.27356063680154785
         },
         {
          "i": 399,
          "k": 6,
          "s": 0.3047525365843643
         },
         {
          "i": 400,
          "k": 6,
          "s": 0.3221158625702807
         },
         {
          "i": 401,
          "k": 6,
          "s": 0.331131300127568
         },
         {
          "i": 402,
          "k": 6,
          "s": 0.3387559030139957
         },
         {
          "i": 403,
          "k": 6,
          "s": 0.3190929304359764
         },
         {
          "i": 404,
          "k": 6,
          "s": 0.29256592815969606
         },
         {
          "i": 405,
          "k": 6,
          "s": 0.19787482255365052
         },
         {
          "i": 406,
          "k": 6,
          "s": 0.24807816844776664
         },
         {
          "i": 407,
          "k": 6,
          "s": 0.2511016385833018
         },
         {
          "i": 408,
          "k": 6,
          "s": 0.2889271457215141
         },
         {
          "i": 409,
          "k": 6,
          "s": 0.2849860125869549
         },
         {
          "i": 410,
          "k": 6,
          "s": 0.22989522056115919
         },
         {
          "i": 411,
          "k": 6,
          "s": 0.3024997392310882
         },
         {
          "i": 412,
          "k": 6,
          "s": 0.2486970341412894
         },
         {
          "i": 413,
          "k": 6,
          "s": 0.32430679456540845
         },
         {
          "i": 414,
          "k": 6,
          "s": 0.2450011832235065
         },
         {
          "i": 415,
          "k": 6,
          "s": 0.31627024259847625
         },
         {
          "i": 416,
          "k": 6,
          "s": 0.30071106826496175
         },
         {
          "i": 417,
          "k": 6,
          "s": 0.3421024524899887
         },
         {
          "i": 418,
          "k": 6,
          "s": 0.19905529252516774
         },
         {
          "i": 419,
          "k": 6,
          "s": 0.31463533469934457
         },
         {
          "i": 420,
          "k": 6,
          "s": 0.3511198843047685
         },
         {
          "i": 421,
          "k": 6,
          "s": 0.33855514508681805
         },
         {
          "i": 422,
          "k": 6,
          "s": 0.30979931918894943
         },
         {
          "i": 423,
          "k": 6,
          "s": 0.2812219380744191
         },
         {
          "i": 424,
          "k": 6,
          "s": 0.25935916811084014
         },
         {
          "i": 425,
          "k": 6,
          "s": 0.31996051426402206
         },
         {
          "i": 426,
          "k": 6,
          "s": 0.2719720094040554
         },
         {
          "i": 427,
          "k": 6,
          "s": 0.2847468755270246
         },
         {
          "i": 428,
          "k": 6,
          "s": 0.327352454026806
         },
         {
          "i": 429,
          "k": 6,
          "s": 0.3252216100464971
         },
         {
          "i": 430,
          "k": 6,
          "s": 0.29928147865861254
         },
         {
          "i": 431,
          "k": 6,
          "s": 0.29648537060852587
         },
         {
          "i": 432,
          "k": 6,
          "s": 0.2538076220386305
         },
         {
          "i": 433,
          "k": 6,
          "s": 0.3061621054415834
         },
         {
          "i": 434,
          "k": 6,
          "s": 0.3433522295039195
         },
         {
          "i": 435,
          "k": 6,
          "s": 0.34434014083335296
         },
         {
          "i": 436,
          "k": 6,
          "s": 0.32367700938100874
         },
         {
          "i": 437,
          "k": 6,
          "s": 0.3184786625279453
         },
         {
          "i": 438,
          "k": 6,
          "s": 0.305701686192692
         },
         {
          "i": 439,
          "k": 6,
          "s": 0.31697146805991483
         },
         {
          "i": 440,
          "k": 6,
          "s": 0.34925420584633127
         },
         {
          "i": 441,
          "k": 6,
          "s": 0.3304845328427646
         },
         {
          "i": 442,
          "k": 6,
          "s": 0.281370359961849
         },
         {
          "i": 443,
          "k": 6,
          "s": 0.3293653074033529
         },
         {
          "i": 444,
          "k": 6,
          "s": 0.38049306439922825
         },
         {
          "i": 445,
          "k": 6,
          "s": 0.32568592691100984
         },
         {
          "i": 446,
          "k": 6,
          "s": 0.3385742624760426
         },
         {
          "i": 447,
          "k": 6,
          "s": 0.3281171640766486
         },
         {
          "i": 448,
          "k": 6,
          "s": 0.3270060656653525
         },
         {
          "i": 449,
          "k": 6,
          "s": 0.35214005115218583
         },
         {
          "i": 450,
          "k": 6,
          "s": 0.27618925879940803
         },
         {
          "i": 451,
          "k": 6,
          "s": 0.29859660496332585
         },
         {
          "i": 452,
          "k": 6,
          "s": 0.2931867055185785
         },
         {
          "i": 453,
          "k": 6,
          "s": 0.2349373832182049
         },
         {
          "i": 454,
          "k": 6,
          "s": 0.29313770307395526
         },
         {
          "i": 455,
          "k": 6,
          "s": 0.2904911178175855
         },
         {
          "i": 456,
          "k": 6,
          "s": 0.27918506476081184
         },
         {
          "i": 457,
          "k": 6,
          "s": 0.28639281753923396
         },
         {
          "i": 458,
          "k": 6,
          "s": 0.3429552231186396
         },
         {
          "i": 459,
          "k": 6,
          "s": 0.2707010357197186
         },
         {
          "i": 460,
          "k": 6,
          "s": 0.30425771628020204
         },
         {
          "i": 461,
          "k": 6,
          "s": 0.2502498668160009
         },
         {
          "i": 462,
          "k": 6,
          "s": 0.26432972760848883
         },
         {
          "i": 463,
          "k": 6,
          "s": 0.21810916995857177
         },
         {
          "i": 464,
          "k": 6,
          "s": 0.22715936325444674
         },
         {
          "i": 465,
          "k": 6,
          "s": 0.1899051289725433
         },
         {
          "i": 466,
          "k": 6,
          "s": 0.254698617233468
         },
         {
          "i": 467,
          "k": 6,
          "s": 0.25744077573057333
         },
         {
          "i": 468,
          "k": 6,
          "s": 0.29085166625852776
         },
         {
          "i": 469,
          "k": 6,
          "s": 0.22253612128433164
         },
         {
          "i": 470,
          "k": 6,
          "s": 0.19627099219322053
         },
         {
          "i": 471,
          "k": 6,
          "s": 0.14088105281687457
         },
         {
          "i": 472,
          "k": 6,
          "s": 0.16135479073947945
         },
         {
          "i": 473,
          "k": 6,
          "s": 0.12970226244606942
         },
         {
          "i": 474,
          "k": 6,
          "s": 0.2673668228207059
         },
         {
          "i": 475,
          "k": 6,
          "s": 0.2974868508430457
         },
         {
          "i": 476,
          "k": 6,
          "s": 0.24371946521351506
         },
         {
          "i": 477,
          "k": 6,
          "s": 0.32289001652531524
         },
         {
          "i": 478,
          "k": 6,
          "s": 0.3140417883140034
         },
         {
          "i": 479,
          "k": 6,
          "s": 0.28151564793890205
         },
         {
          "i": 480,
          "k": 6,
          "s": 0.12103471649337283
         },
         {
          "i": 481,
          "k": 6,
          "s": 0.09882316058454166
         },
         {
          "i": 482,
          "k": 6,
          "s": 0.08116665338094431
         },
         {
          "i": 483,
          "k": 6,
          "s": 0.03863373193571895
         },
         {
          "i": 484,
          "k": 6,
          "s": 0.11749676600531123
         },
         {
          "i": 485,
          "k": 6,
          "s": 0.11514061475579163
         },
         {
          "i": 486,
          "k": 6,
          "s": 0.20078759545169922
         },
         {
          "i": 487,
          "k": 6,
          "s": 0.14515412490217694
         },
         {
          "i": 488,
          "k": 6,
          "s": 0.1314427715094061
         },
         {
          "i": 489,
          "k": 6,
          "s": 0.06128141211082838
         },
         {
          "i": 490,
          "k": 6,
          "s": -0.04097303000874475
         },
         {
          "i": 491,
          "k": 6,
          "s": 0.12820320127204154
         },
         {
          "i": 492,
          "k": 6,
          "s": 0.15685963905224287
         },
         {
          "i": 493,
          "k": 6,
          "s": -0.03340306155749839
         },
         {
          "i": 494,
          "k": 6,
          "s": -0.11438866290023797
         },
         {
          "i": 495,
          "k": 6,
          "s": 0.12093622980326346
         },
         {
          "i": 496,
          "k": 6,
          "s": 0.1846891925713141
         },
         {
          "i": 497,
          "k": 6,
          "s": 0.11824695924775219
         },
         {
          "i": 498,
          "k": 6,
          "s": 0.06127610603306477
         },
         {
          "i": 499,
          "k": 6,
          "s": 0.17901524424984772
         },
         {
          "i": 500,
          "k": 6,
          "s": 0.19994407390020275
         },
         {
          "i": 501,
          "k": 6,
          "s": 0.018355470553095832
         },
         {
          "i": 502,
          "k": 6,
          "s": 0.10208961955350992
         },
         {
          "i": 503,
          "k": 6,
          "s": 0.06205793198261689
         },
         {
          "i": 504,
          "k": 6,
          "s": 0.07914904443217596
         },
         {
          "i": 505,
          "k": 6,
          "s": 0.12750644201552452
         }
        ]
       },
       "encoding": {
        "color": {
         "field": "k",
         "type": "nominal"
        },
        "row": {
         "field": "k",
         "type": "nominal"
        },
        "x": {
         "field": "s",
         "type": "quantitative"
        },
        "y": {
         "axis": {
          "labels": false
         },
         "field": "i",
         "sort": "x",
         "type": "nominal"
        }
       },
       "height": 200,
       "mark": "bar",
       "resolve": {
        "scale": {
         "y": "independent"
        }
       }
      },
      "image/png": "[encoded data removed]",
      "text/plain": [
       "<VegaLite 4 object>\n",
       "\n",
       "If you see this message, it means the renderer has not been properly enabled\n",
       "for the frontend that you are using. For more information, see\n",
       "https://altair-viz.github.io/user_guide/troubleshooting.html\n"
      ]
     },
     "execution_count": 28,
     "metadata": {},
     "output_type": "execute_result"
    }
   ],
   "source": [
    "source = s_df.melt(id_vars=[\"i\"])\n",
    "source.columns = [\"i\",\"k\",\"s\"]\n",
    "\n",
    "import altair as alt\n",
    "alt.renderers.enable('mimetype')\n",
    "alt.Chart(source).mark_bar().encode(\n",
    "    x = \"s:Q\",\n",
    "    y = alt.Y(\"i:N\",sort='x',axis=alt.Axis(labels=False)),\n",
    "    row = \"k:N\",\n",
    "    color = \"k:N\"\n",
    ").resolve_scale(y='independent').properties(height=200)"
   ]
  },
  {
   "cell_type": "markdown",
   "metadata": {},
   "source": [
    "#### Problem 2: What are the average silhouttee scores for each value of $k$? Can you relate this average value to what you are seeing in the above plot? What kind of shape are we looking for?\n",
    "\n",
    "#### Your solution here"
   ]
  },
  {
   "cell_type": "markdown",
   "metadata": {},
   "source": [
    "## Hiearchical Clustering\n",
    "\n",
    "From here on out there are several problems and only one exercise."
   ]
  },
  {
   "cell_type": "markdown",
   "metadata": {},
   "source": [
    "**Problem 3:** That was kmeans clustering. What about hiearchical clustering? For this excercise, use the same ``X`` data and create a dendrogram using hiearchical clustering. <a href=\"https://scikit-learn.org/stable/auto_examples/cluster/plot_agglomerative_dendrogram.html\">Here is a link to a sample</a>. After you dig into this code, answer what kind of linkage method was used (answer with more than just the name)?"
   ]
  },
  {
   "cell_type": "code",
   "execution_count": 29,
   "metadata": {},
   "outputs": [
    {
     "data": {
      "image/png": "[encoded data removed]",
      "text/plain": [
       "<Figure size 432x288 with 1 Axes>"
      ]
     },
     "metadata": {
      "needs_background": "light"
     },
     "output_type": "display_data"
    }
   ],
   "source": [
    "from matplotlib import pyplot as plt\n",
    "from scipy.cluster.hierarchy import dendrogram\n",
    "from sklearn.cluster import AgglomerativeClustering\n",
    "\n",
    "\n",
    "def plot_dendrogram(model, **kwargs):\n",
    "    # Create linkage matrix and then plot the dendrogram\n",
    "\n",
    "    # create the counts of samples under each node\n",
    "    counts = np.zeros(model.children_.shape[0])\n",
    "    n_samples = len(model.labels_)\n",
    "    for i, merge in enumerate(model.children_):\n",
    "        current_count = 0\n",
    "        for child_idx in merge:\n",
    "            if child_idx < n_samples:\n",
    "                current_count += 1  # leaf node\n",
    "            else:\n",
    "                current_count += counts[child_idx - n_samples]\n",
    "        counts[i] = current_count\n",
    "\n",
    "    linkage_matrix = np.column_stack([model.children_, model.distances_,\n",
    "                                      counts]).astype(float)\n",
    "\n",
    "    # Plot the corresponding dendrogram\n",
    "    dendrogram(linkage_matrix, **kwargs)\n",
    "\n",
    "# setting distance_threshold=0 ensures we compute the full tree.\n",
    "model = AgglomerativeClustering(distance_threshold=0,n_clusters=None)\n",
    "\n",
    "model = model.fit(X)\n",
    "plt.title('Hierarchical Clustering Dendrogram')\n",
    "# plot the top three levels of the dendrogram\n",
    "plot_dendrogram(model, truncate_mode='level', p=2)\n",
    "plt.xlabel(\"Number of points in node (or index of point if no parenthesis).\")\n",
    "plt.show()\n",
    "\n",
    "# YOUR SOLUTION HERE"
   ]
  },
  {
   "cell_type": "markdown",
   "metadata": {},
   "source": [
    "**Problem 4** Now change the linkage method to single linkage, and compare the plots. Are they better or worse?"
   ]
  },
  {
   "cell_type": "code",
   "execution_count": 30,
   "metadata": {},
   "outputs": [
    {
     "data": {
      "image/png": "[encoded data removed]",
      "text/plain": [
       "<Figure size 432x288 with 1 Axes>"
      ]
     },
     "metadata": {
      "needs_background": "light"
     },
     "output_type": "display_data"
    },
    {
     "data": {
      "image/png": "[encoded data removed]",
      "text/plain": [
       "<Figure size 432x288 with 1 Axes>"
      ]
     },
     "metadata": {
      "needs_background": "light"
     },
     "output_type": "display_data"
    }
   ],
   "source": [
    "# YOUR SOLUTION HERE"
   ]
  },
  {
   "cell_type": "markdown",
   "metadata": {},
   "source": [
    "### Clustering a single column to produce buckets"
   ]
  },
  {
   "cell_type": "markdown",
   "metadata": {},
   "source": [
    "Now we are going to switch gears and cluster the ``MEDV`` column. First, we will create a density plot of ``MEDV``. Make sure you go back to the original dataframe ``df`` at this point."
   ]
  },
  {
   "cell_type": "code",
   "execution_count": 31,
   "metadata": {},
   "outputs": [
    {
     "data": {
      "image/png": "[encoded data removed]",
      "text/plain": [
       "<Figure size 432x288 with 1 Axes>"
      ]
     },
     "metadata": {
      "needs_background": "light"
     },
     "output_type": "display_data"
    }
   ],
   "source": [
    "ax = df[\"MEDV\"].plot.density();\n",
    "ax.set_xlabel('MEDV');"
   ]
  },
  {
   "cell_type": "markdown",
   "metadata": {},
   "source": [
    "**Exercise 6** To me it looks reasonable that there might be 3 clusters as we have the shoulder sticking out around 30 and the bump at around 50. Using kmeans and k=3, group each town in one of three clusters using the algorithm. "
   ]
  },
  {
   "cell_type": "code",
   "execution_count": 33,
   "metadata": {},
   "outputs": [
    {
     "data": {
      "text/html": [
       "<div>\n",
       "<style scoped>\n",
       "    .dataframe tbody tr th:only-of-type {\n",
       "        vertical-align: middle;\n",
       "    }\n",
       "\n",
       "    .dataframe tbody tr th {\n",
       "        vertical-align: top;\n",
       "    }\n",
       "\n",
       "    .dataframe thead th {\n",
       "        text-align: right;\n",
       "    }\n",
       "</style>\n",
       "<table border=\"1\" class=\"dataframe\">\n",
       "  <thead>\n",
       "    <tr style=\"text-align: right;\">\n",
       "      <th></th>\n",
       "      <th>CRIM</th>\n",
       "      <th>ZN</th>\n",
       "      <th>INDUS</th>\n",
       "      <th>CHAS</th>\n",
       "      <th>NOX</th>\n",
       "      <th>RM</th>\n",
       "      <th>AGE</th>\n",
       "      <th>DIS</th>\n",
       "      <th>RAD</th>\n",
       "      <th>TAX</th>\n",
       "      <th>PTRATIO</th>\n",
       "      <th>B</th>\n",
       "      <th>LSTAT</th>\n",
       "      <th>MEDV</th>\n",
       "      <th>y</th>\n",
       "    </tr>\n",
       "  </thead>\n",
       "  <tbody>\n",
       "    <tr>\n",
       "      <th>0</th>\n",
       "      <td>0.00632</td>\n",
       "      <td>18.0</td>\n",
       "      <td>2.31</td>\n",
       "      <td>0</td>\n",
       "      <td>0.538</td>\n",
       "      <td>6.575</td>\n",
       "      <td>65.2</td>\n",
       "      <td>4.0900</td>\n",
       "      <td>1</td>\n",
       "      <td>296.0</td>\n",
       "      <td>15.3</td>\n",
       "      <td>396.90</td>\n",
       "      <td>4.98</td>\n",
       "      <td>24.0</td>\n",
       "      <td>2</td>\n",
       "    </tr>\n",
       "    <tr>\n",
       "      <th>1</th>\n",
       "      <td>0.02731</td>\n",
       "      <td>0.0</td>\n",
       "      <td>7.07</td>\n",
       "      <td>0</td>\n",
       "      <td>0.469</td>\n",
       "      <td>6.421</td>\n",
       "      <td>78.9</td>\n",
       "      <td>4.9671</td>\n",
       "      <td>2</td>\n",
       "      <td>242.0</td>\n",
       "      <td>17.8</td>\n",
       "      <td>396.90</td>\n",
       "      <td>9.14</td>\n",
       "      <td>21.6</td>\n",
       "      <td>2</td>\n",
       "    </tr>\n",
       "    <tr>\n",
       "      <th>2</th>\n",
       "      <td>0.02729</td>\n",
       "      <td>0.0</td>\n",
       "      <td>7.07</td>\n",
       "      <td>0</td>\n",
       "      <td>0.469</td>\n",
       "      <td>7.185</td>\n",
       "      <td>61.1</td>\n",
       "      <td>4.9671</td>\n",
       "      <td>2</td>\n",
       "      <td>242.0</td>\n",
       "      <td>17.8</td>\n",
       "      <td>392.83</td>\n",
       "      <td>4.03</td>\n",
       "      <td>34.7</td>\n",
       "      <td>0</td>\n",
       "    </tr>\n",
       "    <tr>\n",
       "      <th>3</th>\n",
       "      <td>0.03237</td>\n",
       "      <td>0.0</td>\n",
       "      <td>2.18</td>\n",
       "      <td>0</td>\n",
       "      <td>0.458</td>\n",
       "      <td>6.998</td>\n",
       "      <td>45.8</td>\n",
       "      <td>6.0622</td>\n",
       "      <td>3</td>\n",
       "      <td>222.0</td>\n",
       "      <td>18.7</td>\n",
       "      <td>394.63</td>\n",
       "      <td>2.94</td>\n",
       "      <td>33.4</td>\n",
       "      <td>0</td>\n",
       "    </tr>\n",
       "    <tr>\n",
       "      <th>4</th>\n",
       "      <td>0.06905</td>\n",
       "      <td>0.0</td>\n",
       "      <td>2.18</td>\n",
       "      <td>0</td>\n",
       "      <td>0.458</td>\n",
       "      <td>7.147</td>\n",
       "      <td>54.2</td>\n",
       "      <td>6.0622</td>\n",
       "      <td>3</td>\n",
       "      <td>222.0</td>\n",
       "      <td>18.7</td>\n",
       "      <td>396.90</td>\n",
       "      <td>5.33</td>\n",
       "      <td>36.2</td>\n",
       "      <td>0</td>\n",
       "    </tr>\n",
       "    <tr>\n",
       "      <th>...</th>\n",
       "      <td>...</td>\n",
       "      <td>...</td>\n",
       "      <td>...</td>\n",
       "      <td>...</td>\n",
       "      <td>...</td>\n",
       "      <td>...</td>\n",
       "      <td>...</td>\n",
       "      <td>...</td>\n",
       "      <td>...</td>\n",
       "      <td>...</td>\n",
       "      <td>...</td>\n",
       "      <td>...</td>\n",
       "      <td>...</td>\n",
       "      <td>...</td>\n",
       "      <td>...</td>\n",
       "    </tr>\n",
       "    <tr>\n",
       "      <th>501</th>\n",
       "      <td>0.06263</td>\n",
       "      <td>0.0</td>\n",
       "      <td>11.93</td>\n",
       "      <td>0</td>\n",
       "      <td>0.573</td>\n",
       "      <td>6.593</td>\n",
       "      <td>69.1</td>\n",
       "      <td>2.4786</td>\n",
       "      <td>1</td>\n",
       "      <td>273.0</td>\n",
       "      <td>21.0</td>\n",
       "      <td>391.99</td>\n",
       "      <td>9.67</td>\n",
       "      <td>22.4</td>\n",
       "      <td>2</td>\n",
       "    </tr>\n",
       "    <tr>\n",
       "      <th>502</th>\n",
       "      <td>0.04527</td>\n",
       "      <td>0.0</td>\n",
       "      <td>11.93</td>\n",
       "      <td>0</td>\n",
       "      <td>0.573</td>\n",
       "      <td>6.120</td>\n",
       "      <td>76.7</td>\n",
       "      <td>2.2875</td>\n",
       "      <td>1</td>\n",
       "      <td>273.0</td>\n",
       "      <td>21.0</td>\n",
       "      <td>396.90</td>\n",
       "      <td>9.08</td>\n",
       "      <td>20.6</td>\n",
       "      <td>2</td>\n",
       "    </tr>\n",
       "    <tr>\n",
       "      <th>503</th>\n",
       "      <td>0.06076</td>\n",
       "      <td>0.0</td>\n",
       "      <td>11.93</td>\n",
       "      <td>0</td>\n",
       "      <td>0.573</td>\n",
       "      <td>6.976</td>\n",
       "      <td>91.0</td>\n",
       "      <td>2.1675</td>\n",
       "      <td>1</td>\n",
       "      <td>273.0</td>\n",
       "      <td>21.0</td>\n",
       "      <td>396.90</td>\n",
       "      <td>5.64</td>\n",
       "      <td>23.9</td>\n",
       "      <td>2</td>\n",
       "    </tr>\n",
       "    <tr>\n",
       "      <th>504</th>\n",
       "      <td>0.10959</td>\n",
       "      <td>0.0</td>\n",
       "      <td>11.93</td>\n",
       "      <td>0</td>\n",
       "      <td>0.573</td>\n",
       "      <td>6.794</td>\n",
       "      <td>89.3</td>\n",
       "      <td>2.3889</td>\n",
       "      <td>1</td>\n",
       "      <td>273.0</td>\n",
       "      <td>21.0</td>\n",
       "      <td>393.45</td>\n",
       "      <td>6.48</td>\n",
       "      <td>22.0</td>\n",
       "      <td>2</td>\n",
       "    </tr>\n",
       "    <tr>\n",
       "      <th>505</th>\n",
       "      <td>0.04741</td>\n",
       "      <td>0.0</td>\n",
       "      <td>11.93</td>\n",
       "      <td>0</td>\n",
       "      <td>0.573</td>\n",
       "      <td>6.030</td>\n",
       "      <td>80.8</td>\n",
       "      <td>2.5050</td>\n",
       "      <td>1</td>\n",
       "      <td>273.0</td>\n",
       "      <td>21.0</td>\n",
       "      <td>396.90</td>\n",
       "      <td>7.88</td>\n",
       "      <td>11.9</td>\n",
       "      <td>1</td>\n",
       "    </tr>\n",
       "  </tbody>\n",
       "</table>\n",
       "<p>506 rows × 15 columns</p>\n",
       "</div>"
      ],
      "text/plain": [
       "        CRIM    ZN  INDUS  CHAS    NOX     RM   AGE     DIS  RAD    TAX  \\\n",
       "0    0.00632  18.0   2.31     0  0.538  6.575  65.2  4.0900    1  296.0   \n",
       "1    0.02731   0.0   7.07     0  0.469  6.421  78.9  4.9671    2  242.0   \n",
       "2    0.02729   0.0   7.07     0  0.469  7.185  61.1  4.9671    2  242.0   \n",
       "3    0.03237   0.0   2.18     0  0.458  6.998  45.8  6.0622    3  222.0   \n",
       "4    0.06905   0.0   2.18     0  0.458  7.147  54.2  6.0622    3  222.0   \n",
       "..       ...   ...    ...   ...    ...    ...   ...     ...  ...    ...   \n",
       "501  0.06263   0.0  11.93     0  0.573  6.593  69.1  2.4786    1  273.0   \n",
       "502  0.04527   0.0  11.93     0  0.573  6.120  76.7  2.2875    1  273.0   \n",
       "503  0.06076   0.0  11.93     0  0.573  6.976  91.0  2.1675    1  273.0   \n",
       "504  0.10959   0.0  11.93     0  0.573  6.794  89.3  2.3889    1  273.0   \n",
       "505  0.04741   0.0  11.93     0  0.573  6.030  80.8  2.5050    1  273.0   \n",
       "\n",
       "     PTRATIO       B  LSTAT  MEDV  y  \n",
       "0       15.3  396.90   4.98  24.0  2  \n",
       "1       17.8  396.90   9.14  21.6  2  \n",
       "2       17.8  392.83   4.03  34.7  0  \n",
       "3       18.7  394.63   2.94  33.4  0  \n",
       "4       18.7  396.90   5.33  36.2  0  \n",
       "..       ...     ...    ...   ... ..  \n",
       "501     21.0  391.99   9.67  22.4  2  \n",
       "502     21.0  396.90   9.08  20.6  2  \n",
       "503     21.0  396.90   5.64  23.9  2  \n",
       "504     21.0  393.45   6.48  22.0  2  \n",
       "505     21.0  396.90   7.88  11.9  1  \n",
       "\n",
       "[506 rows x 15 columns]"
      ]
     },
     "metadata": {},
     "output_type": "display_data"
    },
    {
     "data": {
      "text/plain": [
       "y\n",
       "0    39.906757\n",
       "1    13.463333\n",
       "2    22.797872\n",
       "Name: MEDV, dtype: float64"
      ]
     },
     "execution_count": 33,
     "metadata": {},
     "output_type": "execute_result"
    }
   ],
   "source": [
    "clusterer = helper.bin_x(df[[\"MEDV\"]])\n",
    "labels = clusterer.predict(df[[\"MEDV\"]])\n",
    "df[\"y\"] = labels\n",
    "display(df)\n",
    "df.groupby(\"y\").MEDV.mean()"
   ]
  },
  {
   "cell_type": "code",
   "execution_count": 40,
   "metadata": {},
   "outputs": [
    {
     "name": "stdout",
     "output_type": "stream",
     "text": [
      "\u001b[1m============================= test session starts ==============================\u001b[0m\n",
      "platform linux -- Python 3.7.3, pytest-6.2.1, py-1.10.0, pluggy-0.13.1 -- /opt/tljh/user/bin/python\n",
      "cachedir: .pytest_cache\n",
      "rootdir: /home/jupyter-pander14/csc-466-instructor\n",
      "plugins: clarity-1.0.1, anyio-3.3.2\n",
      "collected 1 item                                                               \u001b[0m\u001b[1m\n",
      "\n",
      "../tests/test_Lab6.py::test_exercise_6 \u001b[32mPASSED\u001b[0m\u001b[32m                            [100%]\u001b[0m\n",
      "\n",
      "\u001b[32m========================= \u001b[32m\u001b[1m1 passed\u001b[0m\u001b[32m in 63.83s (0:01:03)\u001b[0m\u001b[32m =========================\u001b[0m\n"
     ]
    }
   ],
   "source": [
    "!pytest -vv --diff-symbols {REPO}/tests/test_{LAB}.py::test_exercise_6"
   ]
  },
  {
   "cell_type": "code",
   "execution_count": 34,
   "metadata": {},
   "outputs": [],
   "source": [
    "# Good job!\n",
    "# Don't forget to push with ./submit.sh"
   ]
  },
  {
   "cell_type": "markdown",
   "metadata": {},
   "source": [
    "#### Having trouble with the test cases and the autograder?\n",
    "\n",
    "You can always load up the answers for the autograder. The autograder runs your code and compares your answer to the expected answer. I manually review your code, so there is no need to hide this from you.\n",
    "\n",
    "```python\n",
    "import joblib\n",
    "answers = joblib.load(f\"{home}/csc-466-student/tests/answers_Lab6.joblib\")\n",
    "answers.keys()\n",
    "```"
   ]
  },
  {
   "cell_type": "code",
   "execution_count": null,
   "metadata": {},
   "outputs": [],
   "source": []
  }
 ],
 "metadata": {
  "kernelspec": {
   "display_name": "Python 3",
   "language": "python",
   "name": "python3"
  },
  "language_info": {
   "codemirror_mode": {
    "name": "ipython",
    "version": 3
   },
   "file_extension": ".py",
   "mimetype": "text/x-python",
   "name": "python",
   "nbconvert_exporter": "python",
   "pygments_lexer": "ipython3",
   "version": "3.7.3"
  }
 },
 "nbformat": 4,
 "nbformat_minor": 4
}
