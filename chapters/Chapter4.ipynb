{
 "cells": [
  {
   "cell_type": "markdown",
   "metadata": {
    "hideCode": false,
    "hidePrompt": false,
    "slideshow": {
     "slide_type": "slide"
    }
   },
   "source": [
    "# Chapter 4 - Decision Trees\n",
    "\n",
    "Paul E. Anderson"
   ]
  },
  {
   "cell_type": "code",
   "execution_count": 1,
   "metadata": {
    "slideshow": {
     "slide_type": "skip"
    }
   },
   "outputs": [],
   "source": [
    "%load_ext autoreload\n",
    "%autoreload 2\n",
    "\n",
    "from pathlib import Path\n",
    "home = str(Path.home()) # all other paths are relative to this path. change to something else if this is not the case on your system"
   ]
  },
  {
   "cell_type": "markdown",
   "metadata": {
    "slideshow": {
     "slide_type": "subslide"
    }
   },
   "source": [
    "## How would you communicate your decision about a typical Thursday night?\n",
    "\n",
    "Let's all pretend this isn't a pandemic for a second, and you have a new roommate who is part of an exchange program from your favorite foreign city. They are a little confused about what to do on their first Thursday night in town, so they ask you for help. You talk to them for a while, but it becomes clear they really won't leave you alone until you diagram your decision making progress. Let's take 5-10 minutes and come up with a tree you can share with the class :)\n",
    "\n",
    "Here are your features:\n",
    "* Deadline? $\\in$ {Urgent, Near, None}\n",
    "* Lazy? $\\in$ {Yes, No}\n",
    "* Party? $\\in$ {Yes, No party going on tonight}\n",
    "\n",
    "You are trying to predict one of the following activities:\n",
    "* Activity $\\in$ {Party, TV, Pub, Study}"
   ]
  },
  {
   "cell_type": "markdown",
   "metadata": {
    "slideshow": {
     "slide_type": "subslide"
    }
   },
   "source": [
    "### What if we needed a way to create a tree that generalized to many people?\n",
    "\n",
    "Onto our decision tree algorithm!"
   ]
  },
  {
   "cell_type": "code",
   "execution_count": 4,
   "metadata": {
    "slideshow": {
     "slide_type": "fragment"
    }
   },
   "outputs": [
    {
     "data": {
      "text/html": [
       "<div>\n",
       "<style scoped>\n",
       "    .dataframe tbody tr th:only-of-type {\n",
       "        vertical-align: middle;\n",
       "    }\n",
       "\n",
       "    .dataframe tbody tr th {\n",
       "        vertical-align: top;\n",
       "    }\n",
       "\n",
       "    .dataframe thead th {\n",
       "        text-align: right;\n",
       "    }\n",
       "</style>\n",
       "<table border=\"1\" class=\"dataframe\">\n",
       "  <thead>\n",
       "    <tr style=\"text-align: right;\">\n",
       "      <th></th>\n",
       "      <th>Deadline?</th>\n",
       "      <th>Is there a party?</th>\n",
       "      <th>Lazy?</th>\n",
       "      <th>Activity</th>\n",
       "    </tr>\n",
       "  </thead>\n",
       "  <tbody>\n",
       "    <tr>\n",
       "      <th>0</th>\n",
       "      <td>Urgent</td>\n",
       "      <td>Yes</td>\n",
       "      <td>Yes</td>\n",
       "      <td>Party</td>\n",
       "    </tr>\n",
       "    <tr>\n",
       "      <th>1</th>\n",
       "      <td>Urgent</td>\n",
       "      <td>No</td>\n",
       "      <td>Yes</td>\n",
       "      <td>Study</td>\n",
       "    </tr>\n",
       "    <tr>\n",
       "      <th>2</th>\n",
       "      <td>Near</td>\n",
       "      <td>Yes</td>\n",
       "      <td>Yes</td>\n",
       "      <td>Party</td>\n",
       "    </tr>\n",
       "    <tr>\n",
       "      <th>3</th>\n",
       "      <td>None</td>\n",
       "      <td>Yes</td>\n",
       "      <td>No</td>\n",
       "      <td>Party</td>\n",
       "    </tr>\n",
       "    <tr>\n",
       "      <th>4</th>\n",
       "      <td>None</td>\n",
       "      <td>No</td>\n",
       "      <td>Yes</td>\n",
       "      <td>Pub</td>\n",
       "    </tr>\n",
       "    <tr>\n",
       "      <th>5</th>\n",
       "      <td>None</td>\n",
       "      <td>Yes</td>\n",
       "      <td>No</td>\n",
       "      <td>Party</td>\n",
       "    </tr>\n",
       "    <tr>\n",
       "      <th>6</th>\n",
       "      <td>Near</td>\n",
       "      <td>No</td>\n",
       "      <td>No</td>\n",
       "      <td>Study</td>\n",
       "    </tr>\n",
       "    <tr>\n",
       "      <th>7</th>\n",
       "      <td>Near</td>\n",
       "      <td>No</td>\n",
       "      <td>Yes</td>\n",
       "      <td>TV</td>\n",
       "    </tr>\n",
       "    <tr>\n",
       "      <th>8</th>\n",
       "      <td>Near</td>\n",
       "      <td>Yes</td>\n",
       "      <td>Yes</td>\n",
       "      <td>Party</td>\n",
       "    </tr>\n",
       "    <tr>\n",
       "      <th>9</th>\n",
       "      <td>Urgent</td>\n",
       "      <td>No</td>\n",
       "      <td>No</td>\n",
       "      <td>Study</td>\n",
       "    </tr>\n",
       "  </tbody>\n",
       "</table>\n",
       "</div>"
      ],
      "text/plain": [
       "  Deadline? Is there a party? Lazy? Activity\n",
       "0    Urgent               Yes   Yes    Party\n",
       "1    Urgent                No   Yes    Study\n",
       "2      Near               Yes   Yes    Party\n",
       "3      None               Yes    No    Party\n",
       "4      None                No   Yes      Pub\n",
       "5      None               Yes    No    Party\n",
       "6      Near                No    No    Study\n",
       "7      Near                No   Yes       TV\n",
       "8      Near               Yes   Yes    Party\n",
       "9    Urgent                No    No    Study"
      ]
     },
     "execution_count": 4,
     "metadata": {},
     "output_type": "execute_result"
    }
   ],
   "source": [
    "import pandas as pd\n",
    "import numpy as np\n",
    "\n",
    "df = pd.read_csv(f'{home}/csc-466-student/data/activity.csv')\n",
    "df"
   ]
  },
  {
   "cell_type": "markdown",
   "metadata": {
    "slideshow": {
     "slide_type": "subslide"
    }
   },
   "source": [
    "### Let's play a game of 20 questions\n",
    "\n",
    "You've got 20 questions and you are trying to quess what your opponent is thinking by asking questions. \n",
    "\n",
    "For each question, you are trying to ask something that gives you the most information given what you already know. \n",
    "\n",
    "It is common to ask things like \"Is it an animal?\" before asking \"Is it a cat?\"\n",
    "\n",
    "We need a way to encode this mathematically, and this leads us to information theory."
   ]
  },
  {
   "cell_type": "markdown",
   "metadata": {
    "slideshow": {
     "slide_type": "subslide"
    }
   },
   "source": [
    "We will reserve the writing of the decision tree algorithm to lab this week. Instead, we will focus on defining the process mathematically. To do this, we need to start discussing sets and metrics we can use about sets."
   ]
  },
  {
   "cell_type": "markdown",
   "metadata": {},
   "source": [
    "### Entropy\n",
    "\n",
    "We will first discuss the entropy of the universe. If said universe consisted of a set of items. \n",
    "\n",
    "Let $S$ be a set of items. Each element of $S$ can take on one of $Y$ values. We will write the unique values of $Y$ as $V_Y$.\n",
    "\n",
    "$p(y)$ proportion of the number of elements in class ${\\displaystyle y}$ to the number of elements in set\n",
    "\n",
    "${\\displaystyle \\mathrm {H} {(S)}=\\sum _{y\\in V_Y}{-p(y)\\log _{2}p(y)}}$"
   ]
  },
  {
   "cell_type": "markdown",
   "metadata": {
    "slideshow": {
     "slide_type": "subslide"
    }
   },
   "source": [
    "Let's look at our concrete example:"
   ]
  },
  {
   "cell_type": "code",
   "execution_count": 11,
   "metadata": {
    "slideshow": {
     "slide_type": "fragment"
    }
   },
   "outputs": [
    {
     "data": {
      "text/plain": [
       "array(['Party', 'Study', 'Party', 'Party', 'Pub', 'Party', 'Study', 'TV',\n",
       "       'Party', 'Study'], dtype=object)"
      ]
     },
     "execution_count": 11,
     "metadata": {},
     "output_type": "execute_result"
    }
   ],
   "source": [
    "S = df['Activity'].values\n",
    "S"
   ]
  },
  {
   "cell_type": "code",
   "execution_count": 12,
   "metadata": {
    "slideshow": {
     "slide_type": "fragment"
    }
   },
   "outputs": [
    {
     "data": {
      "text/plain": [
       "array(['Party', 'Study', 'Pub', 'TV'], dtype=object)"
      ]
     },
     "execution_count": 12,
     "metadata": {},
     "output_type": "execute_result"
    }
   ],
   "source": [
    "Y = df['Activity'].unique()\n",
    "Y"
   ]
  },
  {
   "cell_type": "markdown",
   "metadata": {
    "slideshow": {
     "slide_type": "subslide"
    }
   },
   "source": [
    "**Stop and think:** How do you factor in prior knowledge (i.e., answers to prior questions)?"
   ]
  },
  {
   "cell_type": "markdown",
   "metadata": {
    "slideshow": {
     "slide_type": "fragment"
    }
   },
   "source": [
    "Your solution here"
   ]
  },
  {
   "cell_type": "markdown",
   "metadata": {
    "slideshow": {
     "slide_type": "subslide"
    }
   },
   "source": [
    "**Stop and think:** How do you measure the entropy if you knew all the possible answers?"
   ]
  },
  {
   "cell_type": "markdown",
   "metadata": {
    "slideshow": {
     "slide_type": "fragment"
    }
   },
   "source": [
    "Your solution here"
   ]
  },
  {
   "cell_type": "markdown",
   "metadata": {
    "slideshow": {
     "slide_type": "subslide"
    }
   },
   "source": [
    "### Now onto the ID3 algorithm!\n",
    "From Marsland Chapter 12:\n",
    "\n",
    "\n",
    "* If all examples have the same label:\n",
    "    * return a leaf with that label\n",
    "* Else if there are no features left to test:\n",
    "    * return a leaf with the most common label\n",
    "* Else:\n",
    "    * choose the feature $F$ that maximises the information gain of $S$ to be the next node using Equation (12.2) ˆ\n",
    "    * add a branch from the node for each possible value f in $F$\n",
    "    * for each branch:\n",
    "        * calculate $S_f$ by removing $F$ from the set of features\n",
    "        * recursively call the algorithm with $S_f$ , to compute the gain relative to the current set of examples"
   ]
  },
  {
   "cell_type": "markdown",
   "metadata": {
    "slideshow": {
     "slide_type": "subslide"
    }
   },
   "source": [
    "### Let's make our tree!\n",
    "\n",
    "To the whiteboard!"
   ]
  },
  {
   "cell_type": "markdown",
   "metadata": {
    "slideshow": {
     "slide_type": "subslide"
    }
   },
   "source": [
    "Now that we have a basic algorithm, what are some of the advances:\n",
    "* Continuous variables\n",
    "* C4.5 with pruning"
   ]
  },
  {
   "cell_type": "markdown",
   "metadata": {
    "slideshow": {
     "slide_type": "subslide"
    }
   },
   "source": [
    "**Stop and think:** How would you adapt for continuous variables?"
   ]
  },
  {
   "cell_type": "markdown",
   "metadata": {
    "slideshow": {
     "slide_type": "subslide"
    }
   },
   "source": [
    "So our next natural question is ... how do we compare algorithms?\n",
    "\n",
    "##### Your solution here"
   ]
  },
  {
   "cell_type": "code",
   "execution_count": null,
   "metadata": {},
   "outputs": [],
   "source": []
  }
 ],
 "metadata": {
  "celltoolbar": "Slideshow",
  "hide_code_all_hidden": false,
  "jupytext": {
   "encoding": "# -*- coding: utf-8 -*-",
   "formats": "ipynb,md,py"
  },
  "kernelspec": {
   "display_name": "Python 3",
   "language": "python",
   "name": "python3"
  },
  "language_info": {
   "codemirror_mode": {
    "name": "ipython",
    "version": 3
   },
   "file_extension": ".py",
   "mimetype": "text/x-python",
   "name": "python",
   "nbconvert_exporter": "python",
   "pygments_lexer": "ipython3",
   "version": "3.7.3"
  }
 },
 "nbformat": 4,
 "nbformat_minor": 4
}
